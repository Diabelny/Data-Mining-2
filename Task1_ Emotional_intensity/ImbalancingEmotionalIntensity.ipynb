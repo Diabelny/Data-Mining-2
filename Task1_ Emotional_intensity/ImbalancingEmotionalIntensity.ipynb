{
 "cells": [
  {
   "cell_type": "code",
   "execution_count": 1,
   "metadata": {},
   "outputs": [],
   "source": [
    "# Libraries and utilities\n",
    "\n",
    "# RENINDER: FARE FIT.TRANSFORM SOLO SU TRAINING E DOPO SUL TEST SOLO .TRANSFORM\n",
    "# REMINDER: NORMALIZZARE PRIMA DI FARE TUTTO IL PREPROCESSING \n",
    "\n",
    "import pandas as pd\n",
    "import numpy as np\n",
    "import seaborn as sns\n",
    "import matplotlib.pyplot as plt\n",
    "\n",
    "from sklearn.preprocessing import RobustScaler , StandardScaler\n",
    "from sklearn import preprocessing\n",
    "from sklearn.model_selection import train_test_split\n",
    "\n",
    "from sklearn.model_selection import StratifiedKFold,RepeatedStratifiedKFold, RandomizedSearchCV,GridSearchCV, RepeatedKFold\n",
    "\n",
    "from sklearn.tree import DecisionTreeClassifier\n",
    "from sklearn.neighbors import KNeighborsClassifier\n",
    "\n",
    "from sklearn.metrics import (\n",
    "    accuracy_score,\n",
    "    f1_score,\n",
    "    classification_report,\n",
    "    confusion_matrix,\n",
    "    roc_auc_score,\n",
    ")"
   ]
  },
  {
   "cell_type": "code",
   "execution_count": 2,
   "metadata": {},
   "outputs": [],
   "source": [
    "df_train=pd.read_csv(\"./Dataset_prepared/Prepared_train.csv\")\n",
    "df_test=pd.read_csv(\"./Dataset_prepared/Prepared_test.csv\")\n"
   ]
  },
  {
   "cell_type": "code",
   "execution_count": 3,
   "metadata": {},
   "outputs": [],
   "source": [
    "df_train.drop('actor',axis=1,inplace=True)\n",
    "df_train.drop('filename',axis=1,inplace=True)\n",
    "#df_train.drop('Unnamed: 0',axis=1,inplace=True)\n",
    "\n",
    "\n",
    "df_test.drop('actor',axis=1,inplace=True)\n",
    "df_test.drop('filename',axis=1,inplace=True)\n",
    "#df_test.drop('Unnamed: 0',axis=1,inplace=True)\n",
    "\n",
    "\n",
    "\n",
    "\n"
   ]
  },
  {
   "cell_type": "code",
   "execution_count": 4,
   "metadata": {},
   "outputs": [
    {
     "data": {
      "text/html": [
       "<div>\n",
       "<style scoped>\n",
       "    .dataframe tbody tr th:only-of-type {\n",
       "        vertical-align: middle;\n",
       "    }\n",
       "\n",
       "    .dataframe tbody tr th {\n",
       "        vertical-align: top;\n",
       "    }\n",
       "\n",
       "    .dataframe thead th {\n",
       "        text-align: right;\n",
       "    }\n",
       "</style>\n",
       "<table border=\"1\" class=\"dataframe\">\n",
       "  <thead>\n",
       "    <tr style=\"text-align: right;\">\n",
       "      <th></th>\n",
       "      <th>vocal_channel</th>\n",
       "      <th>emotion</th>\n",
       "      <th>emotional_intensity</th>\n",
       "      <th>statement</th>\n",
       "      <th>repetition</th>\n",
       "      <th>sex</th>\n",
       "      <th>mean</th>\n",
       "      <th>q25</th>\n",
       "      <th>q50</th>\n",
       "      <th>q75</th>\n",
       "      <th>...</th>\n",
       "      <th>sc_skew_w4</th>\n",
       "      <th>stft_sum_w4</th>\n",
       "      <th>stft_q01_w4</th>\n",
       "      <th>stft_q05_w4</th>\n",
       "      <th>stft_q25_w4</th>\n",
       "      <th>stft_q50_w4</th>\n",
       "      <th>stft_q75_w4</th>\n",
       "      <th>stft_q95_w4</th>\n",
       "      <th>stft_kur_w4</th>\n",
       "      <th>stft_skew_w4</th>\n",
       "    </tr>\n",
       "  </thead>\n",
       "  <tbody>\n",
       "    <tr>\n",
       "      <th>0</th>\n",
       "      <td>speech</td>\n",
       "      <td>neutral</td>\n",
       "      <td>normal</td>\n",
       "      <td>Kids are talking by the door</td>\n",
       "      <td>1st</td>\n",
       "      <td>M</td>\n",
       "      <td>9.150000e-07</td>\n",
       "      <td>-0.000031</td>\n",
       "      <td>0.0</td>\n",
       "      <td>0.0</td>\n",
       "      <td>...</td>\n",
       "      <td>-4.175609</td>\n",
       "      <td>740.409892</td>\n",
       "      <td>0.000000</td>\n",
       "      <td>0.566462</td>\n",
       "      <td>0.709962</td>\n",
       "      <td>0.799141</td>\n",
       "      <td>0.896606</td>\n",
       "      <td>1.0</td>\n",
       "      <td>6.742190</td>\n",
       "      <td>-1.706215</td>\n",
       "    </tr>\n",
       "    <tr>\n",
       "      <th>1</th>\n",
       "      <td>speech</td>\n",
       "      <td>neutral</td>\n",
       "      <td>normal</td>\n",
       "      <td>Kids are talking by the door</td>\n",
       "      <td>2nd</td>\n",
       "      <td>M</td>\n",
       "      <td>7.137790e-07</td>\n",
       "      <td>-0.000031</td>\n",
       "      <td>0.0</td>\n",
       "      <td>0.0</td>\n",
       "      <td>...</td>\n",
       "      <td>-1.100390</td>\n",
       "      <td>705.975006</td>\n",
       "      <td>0.368623</td>\n",
       "      <td>0.472736</td>\n",
       "      <td>0.623183</td>\n",
       "      <td>0.744908</td>\n",
       "      <td>0.874713</td>\n",
       "      <td>1.0</td>\n",
       "      <td>-0.700420</td>\n",
       "      <td>-0.201495</td>\n",
       "    </tr>\n",
       "    <tr>\n",
       "      <th>2</th>\n",
       "      <td>speech</td>\n",
       "      <td>neutral</td>\n",
       "      <td>normal</td>\n",
       "      <td>Dogs are sitting by the door</td>\n",
       "      <td>1st</td>\n",
       "      <td>M</td>\n",
       "      <td>9.554485e-07</td>\n",
       "      <td>0.000000</td>\n",
       "      <td>0.0</td>\n",
       "      <td>0.0</td>\n",
       "      <td>...</td>\n",
       "      <td>-3.120218</td>\n",
       "      <td>694.365924</td>\n",
       "      <td>0.000000</td>\n",
       "      <td>0.417919</td>\n",
       "      <td>0.643636</td>\n",
       "      <td>0.774253</td>\n",
       "      <td>0.899156</td>\n",
       "      <td>1.0</td>\n",
       "      <td>1.688986</td>\n",
       "      <td>-1.024773</td>\n",
       "    </tr>\n",
       "    <tr>\n",
       "      <th>3</th>\n",
       "      <td>speech</td>\n",
       "      <td>neutral</td>\n",
       "      <td>normal</td>\n",
       "      <td>Dogs are sitting by the door</td>\n",
       "      <td>2nd</td>\n",
       "      <td>M</td>\n",
       "      <td>9.176213e-07</td>\n",
       "      <td>-0.000031</td>\n",
       "      <td>0.0</td>\n",
       "      <td>0.0</td>\n",
       "      <td>...</td>\n",
       "      <td>-0.880988</td>\n",
       "      <td>663.205667</td>\n",
       "      <td>0.306280</td>\n",
       "      <td>0.399641</td>\n",
       "      <td>0.606910</td>\n",
       "      <td>0.755213</td>\n",
       "      <td>0.886474</td>\n",
       "      <td>1.0</td>\n",
       "      <td>-0.594111</td>\n",
       "      <td>-0.412871</td>\n",
       "    </tr>\n",
       "    <tr>\n",
       "      <th>4</th>\n",
       "      <td>speech</td>\n",
       "      <td>calm</td>\n",
       "      <td>normal</td>\n",
       "      <td>Kids are talking by the door</td>\n",
       "      <td>1st</td>\n",
       "      <td>M</td>\n",
       "      <td>8.108948e-07</td>\n",
       "      <td>-0.000031</td>\n",
       "      <td>0.0</td>\n",
       "      <td>0.0</td>\n",
       "      <td>...</td>\n",
       "      <td>-1.071109</td>\n",
       "      <td>741.412796</td>\n",
       "      <td>0.248765</td>\n",
       "      <td>0.428202</td>\n",
       "      <td>0.634815</td>\n",
       "      <td>0.759914</td>\n",
       "      <td>0.878014</td>\n",
       "      <td>1.0</td>\n",
       "      <td>0.126535</td>\n",
       "      <td>-0.620782</td>\n",
       "    </tr>\n",
       "  </tbody>\n",
       "</table>\n",
       "<p>5 rows × 259 columns</p>\n",
       "</div>"
      ],
      "text/plain": [
       "  vocal_channel  emotion emotional_intensity                     statement  \\\n",
       "0        speech  neutral              normal  Kids are talking by the door   \n",
       "1        speech  neutral              normal  Kids are talking by the door   \n",
       "2        speech  neutral              normal  Dogs are sitting by the door   \n",
       "3        speech  neutral              normal  Dogs are sitting by the door   \n",
       "4        speech     calm              normal  Kids are talking by the door   \n",
       "\n",
       "  repetition sex          mean       q25  q50  q75  ...  sc_skew_w4  \\\n",
       "0        1st   M  9.150000e-07 -0.000031  0.0  0.0  ...   -4.175609   \n",
       "1        2nd   M  7.137790e-07 -0.000031  0.0  0.0  ...   -1.100390   \n",
       "2        1st   M  9.554485e-07  0.000000  0.0  0.0  ...   -3.120218   \n",
       "3        2nd   M  9.176213e-07 -0.000031  0.0  0.0  ...   -0.880988   \n",
       "4        1st   M  8.108948e-07 -0.000031  0.0  0.0  ...   -1.071109   \n",
       "\n",
       "   stft_sum_w4  stft_q01_w4  stft_q05_w4  stft_q25_w4  stft_q50_w4  \\\n",
       "0   740.409892     0.000000     0.566462     0.709962     0.799141   \n",
       "1   705.975006     0.368623     0.472736     0.623183     0.744908   \n",
       "2   694.365924     0.000000     0.417919     0.643636     0.774253   \n",
       "3   663.205667     0.306280     0.399641     0.606910     0.755213   \n",
       "4   741.412796     0.248765     0.428202     0.634815     0.759914   \n",
       "\n",
       "   stft_q75_w4  stft_q95_w4  stft_kur_w4  stft_skew_w4  \n",
       "0     0.896606          1.0     6.742190     -1.706215  \n",
       "1     0.874713          1.0    -0.700420     -0.201495  \n",
       "2     0.899156          1.0     1.688986     -1.024773  \n",
       "3     0.886474          1.0    -0.594111     -0.412871  \n",
       "4     0.878014          1.0     0.126535     -0.620782  \n",
       "\n",
       "[5 rows x 259 columns]"
      ]
     },
     "execution_count": 4,
     "metadata": {},
     "output_type": "execute_result"
    }
   ],
   "source": [
    "df_train.head()"
   ]
  },
  {
   "attachments": {},
   "cell_type": "markdown",
   "metadata": {},
   "source": [
    "FACCIAMO LA CLASSIFICAZIONE NORMALE "
   ]
  },
  {
   "cell_type": "code",
   "execution_count": 5,
   "metadata": {},
   "outputs": [],
   "source": [
    "df_train_c = df_train.copy()\n",
    "df_test_c = df_test.copy()\n",
    "\n"
   ]
  },
  {
   "attachments": {},
   "cell_type": "markdown",
   "metadata": {},
   "source": [
    "LABEL ENCODING TRAIN FOR NORMAL CLASSIFICATION + NORMALIZATION"
   ]
  },
  {
   "cell_type": "code",
   "execution_count": 6,
   "metadata": {},
   "outputs": [
    {
     "data": {
      "text/html": [
       "<div>\n",
       "<style scoped>\n",
       "    .dataframe tbody tr th:only-of-type {\n",
       "        vertical-align: middle;\n",
       "    }\n",
       "\n",
       "    .dataframe tbody tr th {\n",
       "        vertical-align: top;\n",
       "    }\n",
       "\n",
       "    .dataframe thead th {\n",
       "        text-align: right;\n",
       "    }\n",
       "</style>\n",
       "<table border=\"1\" class=\"dataframe\">\n",
       "  <thead>\n",
       "    <tr style=\"text-align: right;\">\n",
       "      <th></th>\n",
       "      <th>vocal_channel</th>\n",
       "      <th>emotional_intensity</th>\n",
       "      <th>statement</th>\n",
       "      <th>repetition</th>\n",
       "      <th>sex</th>\n",
       "      <th>mean</th>\n",
       "      <th>q25</th>\n",
       "      <th>q50</th>\n",
       "      <th>q75</th>\n",
       "      <th>kur</th>\n",
       "      <th>...</th>\n",
       "      <th>stft_kur_w4</th>\n",
       "      <th>stft_skew_w4</th>\n",
       "      <th>emotion_angry</th>\n",
       "      <th>emotion_calm</th>\n",
       "      <th>emotion_disgust</th>\n",
       "      <th>emotion_fearful</th>\n",
       "      <th>emotion_happy</th>\n",
       "      <th>emotion_neutral</th>\n",
       "      <th>emotion_sad</th>\n",
       "      <th>emotion_surprised</th>\n",
       "    </tr>\n",
       "  </thead>\n",
       "  <tbody>\n",
       "    <tr>\n",
       "      <th>0</th>\n",
       "      <td>1</td>\n",
       "      <td>0</td>\n",
       "      <td>1</td>\n",
       "      <td>0</td>\n",
       "      <td>1</td>\n",
       "      <td>9.150000e-07</td>\n",
       "      <td>-0.000031</td>\n",
       "      <td>0.0</td>\n",
       "      <td>0.0</td>\n",
       "      <td>15.028520</td>\n",
       "      <td>...</td>\n",
       "      <td>6.742190</td>\n",
       "      <td>-1.706215</td>\n",
       "      <td>0</td>\n",
       "      <td>0</td>\n",
       "      <td>0</td>\n",
       "      <td>0</td>\n",
       "      <td>0</td>\n",
       "      <td>1</td>\n",
       "      <td>0</td>\n",
       "      <td>0</td>\n",
       "    </tr>\n",
       "    <tr>\n",
       "      <th>1</th>\n",
       "      <td>1</td>\n",
       "      <td>0</td>\n",
       "      <td>1</td>\n",
       "      <td>1</td>\n",
       "      <td>1</td>\n",
       "      <td>7.137790e-07</td>\n",
       "      <td>-0.000031</td>\n",
       "      <td>0.0</td>\n",
       "      <td>0.0</td>\n",
       "      <td>16.488415</td>\n",
       "      <td>...</td>\n",
       "      <td>-0.700420</td>\n",
       "      <td>-0.201495</td>\n",
       "      <td>0</td>\n",
       "      <td>0</td>\n",
       "      <td>0</td>\n",
       "      <td>0</td>\n",
       "      <td>0</td>\n",
       "      <td>1</td>\n",
       "      <td>0</td>\n",
       "      <td>0</td>\n",
       "    </tr>\n",
       "    <tr>\n",
       "      <th>2</th>\n",
       "      <td>1</td>\n",
       "      <td>0</td>\n",
       "      <td>0</td>\n",
       "      <td>0</td>\n",
       "      <td>1</td>\n",
       "      <td>9.554485e-07</td>\n",
       "      <td>0.000000</td>\n",
       "      <td>0.0</td>\n",
       "      <td>0.0</td>\n",
       "      <td>17.035218</td>\n",
       "      <td>...</td>\n",
       "      <td>1.688986</td>\n",
       "      <td>-1.024773</td>\n",
       "      <td>0</td>\n",
       "      <td>0</td>\n",
       "      <td>0</td>\n",
       "      <td>0</td>\n",
       "      <td>0</td>\n",
       "      <td>1</td>\n",
       "      <td>0</td>\n",
       "      <td>0</td>\n",
       "    </tr>\n",
       "    <tr>\n",
       "      <th>3</th>\n",
       "      <td>1</td>\n",
       "      <td>0</td>\n",
       "      <td>0</td>\n",
       "      <td>1</td>\n",
       "      <td>1</td>\n",
       "      <td>9.176213e-07</td>\n",
       "      <td>-0.000031</td>\n",
       "      <td>0.0</td>\n",
       "      <td>0.0</td>\n",
       "      <td>21.824521</td>\n",
       "      <td>...</td>\n",
       "      <td>-0.594111</td>\n",
       "      <td>-0.412871</td>\n",
       "      <td>0</td>\n",
       "      <td>0</td>\n",
       "      <td>0</td>\n",
       "      <td>0</td>\n",
       "      <td>0</td>\n",
       "      <td>1</td>\n",
       "      <td>0</td>\n",
       "      <td>0</td>\n",
       "    </tr>\n",
       "    <tr>\n",
       "      <th>4</th>\n",
       "      <td>1</td>\n",
       "      <td>0</td>\n",
       "      <td>1</td>\n",
       "      <td>0</td>\n",
       "      <td>1</td>\n",
       "      <td>8.108948e-07</td>\n",
       "      <td>-0.000031</td>\n",
       "      <td>0.0</td>\n",
       "      <td>0.0</td>\n",
       "      <td>13.236022</td>\n",
       "      <td>...</td>\n",
       "      <td>0.126535</td>\n",
       "      <td>-0.620782</td>\n",
       "      <td>0</td>\n",
       "      <td>1</td>\n",
       "      <td>0</td>\n",
       "      <td>0</td>\n",
       "      <td>0</td>\n",
       "      <td>0</td>\n",
       "      <td>0</td>\n",
       "      <td>0</td>\n",
       "    </tr>\n",
       "  </tbody>\n",
       "</table>\n",
       "<p>5 rows × 266 columns</p>\n",
       "</div>"
      ],
      "text/plain": [
       "   vocal_channel  emotional_intensity  statement  repetition  sex  \\\n",
       "0              1                    0          1           0    1   \n",
       "1              1                    0          1           1    1   \n",
       "2              1                    0          0           0    1   \n",
       "3              1                    0          0           1    1   \n",
       "4              1                    0          1           0    1   \n",
       "\n",
       "           mean       q25  q50  q75        kur  ...  stft_kur_w4  \\\n",
       "0  9.150000e-07 -0.000031  0.0  0.0  15.028520  ...     6.742190   \n",
       "1  7.137790e-07 -0.000031  0.0  0.0  16.488415  ...    -0.700420   \n",
       "2  9.554485e-07  0.000000  0.0  0.0  17.035218  ...     1.688986   \n",
       "3  9.176213e-07 -0.000031  0.0  0.0  21.824521  ...    -0.594111   \n",
       "4  8.108948e-07 -0.000031  0.0  0.0  13.236022  ...     0.126535   \n",
       "\n",
       "   stft_skew_w4  emotion_angry  emotion_calm  emotion_disgust  \\\n",
       "0     -1.706215              0             0                0   \n",
       "1     -0.201495              0             0                0   \n",
       "2     -1.024773              0             0                0   \n",
       "3     -0.412871              0             0                0   \n",
       "4     -0.620782              0             1                0   \n",
       "\n",
       "   emotion_fearful  emotion_happy  emotion_neutral  emotion_sad  \\\n",
       "0                0              0                1            0   \n",
       "1                0              0                1            0   \n",
       "2                0              0                1            0   \n",
       "3                0              0                1            0   \n",
       "4                0              0                0            0   \n",
       "\n",
       "   emotion_surprised  \n",
       "0                  0  \n",
       "1                  0  \n",
       "2                  0  \n",
       "3                  0  \n",
       "4                  0  \n",
       "\n",
       "[5 rows x 266 columns]"
      ]
     },
     "execution_count": 6,
     "metadata": {},
     "output_type": "execute_result"
    }
   ],
   "source": [
    "cat_var=[\"statement\",\"repetition\",\"sex\",\"emotional_intensity\",\"vocal_channel\"]\n",
    "le=preprocessing.LabelEncoder()\n",
    "for i in cat_var:\n",
    "    df_train_c[i]=le.fit_transform(df_train_c[i])\n",
    "categorical_col = [\"emotion\"]\n",
    "\n",
    "df_train_c = pd.get_dummies(df_train_c, columns=categorical_col)    \n",
    "\n",
    "df_train_c.head()"
   ]
  },
  {
   "cell_type": "code",
   "execution_count": 7,
   "metadata": {},
   "outputs": [],
   "source": [
    "numeric_features = [n for n in df_train_c.columns if n!=\"emotion_angry\" and n!= \"vocal_channel\" and n!= \"emotional_intensity\" and n!= \"statement\" and n!= \"repetition\" and n!= \"sex\" and   n!=\"emotion_calm\" and  n!=\"emotion_disgust\" and  n!=\"emotion_fearful\" and  n!=\"emotion_happy\" and  n!=\"emotion_neutral\" and n!=\"emotion_sad\" and  n!=\"emotion_surprised\"]\n",
    "\n",
    "scaler = StandardScaler()\n",
    "scaled_features = scaler.fit_transform(df_train_c[numeric_features])\n",
    "df_train_c[numeric_features] = scaled_features\n",
    "df_train_c.head()\n",
    "\n",
    "\n",
    "col = [x for x in df_train_c.columns if x!='emotional_intensity']\n",
    "X_train=df_train_c[col].values\n",
    "y_train = np.array(df_train_c[\"emotional_intensity\"])\n",
    "\n",
    "\n",
    "\n",
    "\n"
   ]
  },
  {
   "attachments": {},
   "cell_type": "markdown",
   "metadata": {},
   "source": [
    "LABEL ENCODING TEST FOR NORMAL CLASSIFICATION + NORMALIZATION"
   ]
  },
  {
   "cell_type": "code",
   "execution_count": 8,
   "metadata": {},
   "outputs": [
    {
     "data": {
      "text/html": [
       "<div>\n",
       "<style scoped>\n",
       "    .dataframe tbody tr th:only-of-type {\n",
       "        vertical-align: middle;\n",
       "    }\n",
       "\n",
       "    .dataframe tbody tr th {\n",
       "        vertical-align: top;\n",
       "    }\n",
       "\n",
       "    .dataframe thead th {\n",
       "        text-align: right;\n",
       "    }\n",
       "</style>\n",
       "<table border=\"1\" class=\"dataframe\">\n",
       "  <thead>\n",
       "    <tr style=\"text-align: right;\">\n",
       "      <th></th>\n",
       "      <th>vocal_channel</th>\n",
       "      <th>emotional_intensity</th>\n",
       "      <th>statement</th>\n",
       "      <th>repetition</th>\n",
       "      <th>sex</th>\n",
       "      <th>mean</th>\n",
       "      <th>q25</th>\n",
       "      <th>q50</th>\n",
       "      <th>q75</th>\n",
       "      <th>kur</th>\n",
       "      <th>...</th>\n",
       "      <th>stft_kur_w4</th>\n",
       "      <th>stft_skew_w4</th>\n",
       "      <th>emotion_angry</th>\n",
       "      <th>emotion_calm</th>\n",
       "      <th>emotion_disgust</th>\n",
       "      <th>emotion_fearful</th>\n",
       "      <th>emotion_happy</th>\n",
       "      <th>emotion_neutral</th>\n",
       "      <th>emotion_sad</th>\n",
       "      <th>emotion_surprised</th>\n",
       "    </tr>\n",
       "  </thead>\n",
       "  <tbody>\n",
       "    <tr>\n",
       "      <th>0</th>\n",
       "      <td>1</td>\n",
       "      <td>0</td>\n",
       "      <td>1</td>\n",
       "      <td>0</td>\n",
       "      <td>1</td>\n",
       "      <td>2.940224e-06</td>\n",
       "      <td>-0.000092</td>\n",
       "      <td>0.0</td>\n",
       "      <td>0.000153</td>\n",
       "      <td>11.392131</td>\n",
       "      <td>...</td>\n",
       "      <td>-0.260279</td>\n",
       "      <td>-0.566556</td>\n",
       "      <td>0</td>\n",
       "      <td>0</td>\n",
       "      <td>0</td>\n",
       "      <td>0</td>\n",
       "      <td>0</td>\n",
       "      <td>1</td>\n",
       "      <td>0</td>\n",
       "      <td>0</td>\n",
       "    </tr>\n",
       "    <tr>\n",
       "      <th>1</th>\n",
       "      <td>1</td>\n",
       "      <td>0</td>\n",
       "      <td>1</td>\n",
       "      <td>1</td>\n",
       "      <td>1</td>\n",
       "      <td>7.733752e-07</td>\n",
       "      <td>-0.000122</td>\n",
       "      <td>0.0</td>\n",
       "      <td>0.000153</td>\n",
       "      <td>13.621589</td>\n",
       "      <td>...</td>\n",
       "      <td>-0.428900</td>\n",
       "      <td>-0.587210</td>\n",
       "      <td>0</td>\n",
       "      <td>0</td>\n",
       "      <td>0</td>\n",
       "      <td>0</td>\n",
       "      <td>0</td>\n",
       "      <td>1</td>\n",
       "      <td>0</td>\n",
       "      <td>0</td>\n",
       "    </tr>\n",
       "    <tr>\n",
       "      <th>2</th>\n",
       "      <td>1</td>\n",
       "      <td>0</td>\n",
       "      <td>0</td>\n",
       "      <td>0</td>\n",
       "      <td>1</td>\n",
       "      <td>-3.741909e-06</td>\n",
       "      <td>-0.000061</td>\n",
       "      <td>0.0</td>\n",
       "      <td>0.000092</td>\n",
       "      <td>7.678162</td>\n",
       "      <td>...</td>\n",
       "      <td>0.626916</td>\n",
       "      <td>-0.883317</td>\n",
       "      <td>0</td>\n",
       "      <td>0</td>\n",
       "      <td>0</td>\n",
       "      <td>0</td>\n",
       "      <td>0</td>\n",
       "      <td>1</td>\n",
       "      <td>0</td>\n",
       "      <td>0</td>\n",
       "    </tr>\n",
       "    <tr>\n",
       "      <th>3</th>\n",
       "      <td>1</td>\n",
       "      <td>0</td>\n",
       "      <td>0</td>\n",
       "      <td>1</td>\n",
       "      <td>1</td>\n",
       "      <td>-5.069646e-07</td>\n",
       "      <td>-0.000092</td>\n",
       "      <td>0.0</td>\n",
       "      <td>0.000122</td>\n",
       "      <td>14.511231</td>\n",
       "      <td>...</td>\n",
       "      <td>-0.825144</td>\n",
       "      <td>-0.383701</td>\n",
       "      <td>0</td>\n",
       "      <td>0</td>\n",
       "      <td>0</td>\n",
       "      <td>0</td>\n",
       "      <td>0</td>\n",
       "      <td>1</td>\n",
       "      <td>0</td>\n",
       "      <td>0</td>\n",
       "    </tr>\n",
       "    <tr>\n",
       "      <th>4</th>\n",
       "      <td>1</td>\n",
       "      <td>0</td>\n",
       "      <td>1</td>\n",
       "      <td>0</td>\n",
       "      <td>1</td>\n",
       "      <td>8.640319e-07</td>\n",
       "      <td>-0.000061</td>\n",
       "      <td>0.0</td>\n",
       "      <td>0.000122</td>\n",
       "      <td>8.944732</td>\n",
       "      <td>...</td>\n",
       "      <td>-0.536669</td>\n",
       "      <td>-0.547354</td>\n",
       "      <td>0</td>\n",
       "      <td>1</td>\n",
       "      <td>0</td>\n",
       "      <td>0</td>\n",
       "      <td>0</td>\n",
       "      <td>0</td>\n",
       "      <td>0</td>\n",
       "      <td>0</td>\n",
       "    </tr>\n",
       "  </tbody>\n",
       "</table>\n",
       "<p>5 rows × 266 columns</p>\n",
       "</div>"
      ],
      "text/plain": [
       "   vocal_channel  emotional_intensity  statement  repetition  sex  \\\n",
       "0              1                    0          1           0    1   \n",
       "1              1                    0          1           1    1   \n",
       "2              1                    0          0           0    1   \n",
       "3              1                    0          0           1    1   \n",
       "4              1                    0          1           0    1   \n",
       "\n",
       "           mean       q25  q50       q75        kur  ...  stft_kur_w4  \\\n",
       "0  2.940224e-06 -0.000092  0.0  0.000153  11.392131  ...    -0.260279   \n",
       "1  7.733752e-07 -0.000122  0.0  0.000153  13.621589  ...    -0.428900   \n",
       "2 -3.741909e-06 -0.000061  0.0  0.000092   7.678162  ...     0.626916   \n",
       "3 -5.069646e-07 -0.000092  0.0  0.000122  14.511231  ...    -0.825144   \n",
       "4  8.640319e-07 -0.000061  0.0  0.000122   8.944732  ...    -0.536669   \n",
       "\n",
       "   stft_skew_w4  emotion_angry  emotion_calm  emotion_disgust  \\\n",
       "0     -0.566556              0             0                0   \n",
       "1     -0.587210              0             0                0   \n",
       "2     -0.883317              0             0                0   \n",
       "3     -0.383701              0             0                0   \n",
       "4     -0.547354              0             1                0   \n",
       "\n",
       "   emotion_fearful  emotion_happy  emotion_neutral  emotion_sad  \\\n",
       "0                0              0                1            0   \n",
       "1                0              0                1            0   \n",
       "2                0              0                1            0   \n",
       "3                0              0                1            0   \n",
       "4                0              0                0            0   \n",
       "\n",
       "   emotion_surprised  \n",
       "0                  0  \n",
       "1                  0  \n",
       "2                  0  \n",
       "3                  0  \n",
       "4                  0  \n",
       "\n",
       "[5 rows x 266 columns]"
      ]
     },
     "execution_count": 8,
     "metadata": {},
     "output_type": "execute_result"
    }
   ],
   "source": [
    "for i in cat_var:\n",
    "    df_test_c[i]=le.fit_transform(df_test_c[i])\n",
    "categorical_col = [\"emotion\"]\n",
    "\n",
    "df_test_c = pd.get_dummies(df_test_c, columns=categorical_col)    \n",
    "\n",
    "df_test_c.head()"
   ]
  },
  {
   "cell_type": "code",
   "execution_count": 9,
   "metadata": {},
   "outputs": [],
   "source": [
    "numeric_features = [n for n in df_test_c.columns if n!=\"emotion_angry\" and n!= \"vocal_channel\" and n!= \"emotional_intensity\" and n!= \"statement\" and n!= \"repetition\" and n!= \"sex\" and   n!=\"emotion_calm\" and  n!=\"emotion_disgust\" and  n!=\"emotion_fearful\" and  n!=\"emotion_happy\" and  n!=\"emotion_neutral\" and n!=\"emotion_sad\" and  n!=\"emotion_surprised\"]\n",
    "\n",
    "\n",
    "scaled_features = scaler.transform(df_test_c[numeric_features])\n",
    "df_test_c[numeric_features] = scaled_features\n",
    "df_test_c.head()\n",
    "\n",
    "\n",
    "col = [x for x in df_test_c.columns if x!='emotional_intensity']\n",
    "X_test=df_test_c[col].values\n",
    "y_test = np.array(df_test_c[\"emotional_intensity\"])\n",
    "\n",
    "\n",
    "\n",
    "\n"
   ]
  },
  {
   "attachments": {},
   "cell_type": "markdown",
   "metadata": {},
   "source": [
    "GRID SEARCH PER LA CLASSIFICAZIONE NORMALE"
   ]
  },
  {
   "cell_type": "code",
   "execution_count": 10,
   "metadata": {},
   "outputs": [],
   "source": [
    "param_grid = {'max_depth': [None, 2, 5, 10, 15, 20],\n",
    "              'min_samples_split': [2, 5, 10, 15, 20],\n",
    "              'min_samples_leaf': [1, 5, 10, 15, 20]\n",
    "}\n",
    "\n",
    "grid = GridSearchCV(\n",
    "    DecisionTreeClassifier(),\n",
    "    param_grid=param_grid,\n",
    "    cv=StratifiedKFold(), # with no parameters it is with 5 split and 10 repetitions\n",
    "    refit=True,\n",
    "    scoring=\"f1_macro\"\n",
    ")\n",
    "grid.fit(X_train, y_train)\n",
    "clf = grid.best_estimator_"
   ]
  },
  {
   "cell_type": "code",
   "execution_count": 11,
   "metadata": {},
   "outputs": [
    {
     "name": "stdout",
     "output_type": "stream",
     "text": [
      "{'max_depth': 5, 'min_samples_leaf': 15, 'min_samples_split': 5}\n"
     ]
    }
   ],
   "source": [
    "print(grid.best_params_)"
   ]
  },
  {
   "cell_type": "code",
   "execution_count": 12,
   "metadata": {},
   "outputs": [],
   "source": [
    "param_grid = {\n",
    "    \"n_neighbors\": np.arange(2,51),\n",
    "    \"weights\": [\"uniform\", \"distance\"],\n",
    "    \"metric\": [\"euclidean\", \"cityblock\",\"minkowski\"], # cityblock is the manhattan distance\n",
    "}\n",
    "\n",
    "grid = GridSearchCV(\n",
    "    KNeighborsClassifier(),\n",
    "    param_grid=param_grid,\n",
    "    cv=StratifiedKFold(), # with no parameters it is with 5 split and 10 repetitions\n",
    "    refit=True,\n",
    "    scoring=\"f1_macro\"\n",
    ")\n",
    "\n",
    "grid.fit(X_train, y_train)\n",
    "clf = grid.best_estimator_"
   ]
  },
  {
   "cell_type": "code",
   "execution_count": 13,
   "metadata": {},
   "outputs": [
    {
     "name": "stdout",
     "output_type": "stream",
     "text": [
      "{'metric': 'cityblock', 'n_neighbors': 20, 'weights': 'distance'}\n"
     ]
    }
   ],
   "source": [
    "print(grid.best_params_)"
   ]
  },
  {
   "attachments": {},
   "cell_type": "markdown",
   "metadata": {},
   "source": [
    "TESTIAMO I NOSTRI MODELLI :D"
   ]
  },
  {
   "cell_type": "code",
   "execution_count": 14,
   "metadata": {},
   "outputs": [
    {
     "name": "stdout",
     "output_type": "stream",
     "text": [
      "              precision    recall  f1-score   support\n",
      "\n",
      "           0       0.66      0.90      0.76       336\n",
      "           1       0.80      0.45      0.58       288\n",
      "\n",
      "    accuracy                           0.70       624\n",
      "   macro avg       0.73      0.68      0.67       624\n",
      "weighted avg       0.72      0.70      0.68       624\n",
      "\n"
     ]
    }
   ],
   "source": [
    "learner_KNN = KNeighborsClassifier(n_neighbors= 20, metric= 'cityblock', weights= 'distance')\n",
    "classifier = learner_KNN.fit(X_train, y_train)\n",
    "predictions = classifier.predict(X_test)\n",
    "\n",
    "print(classification_report(y_test,predictions))"
   ]
  },
  {
   "cell_type": "code",
   "execution_count": 15,
   "metadata": {},
   "outputs": [
    {
     "name": "stdout",
     "output_type": "stream",
     "text": [
      "              precision    recall  f1-score   support\n",
      "\n",
      "           0       0.71      0.71      0.71       336\n",
      "           1       0.66      0.66      0.66       288\n",
      "\n",
      "    accuracy                           0.69       624\n",
      "   macro avg       0.69      0.69      0.69       624\n",
      "weighted avg       0.69      0.69      0.69       624\n",
      "\n"
     ]
    }
   ],
   "source": [
    "learner_DT= DecisionTreeClassifier(max_depth=5,min_samples_leaf=15,min_samples_split=5)\n",
    "classifier = learner_DT.fit(X_train, y_train)\n",
    "predictions = classifier.predict(X_test)\n",
    "\n",
    "print(classification_report(y_test,predictions))"
   ]
  },
  {
   "attachments": {},
   "cell_type": "markdown",
   "metadata": {},
   "source": [
    "VERIFICHIAMO I VALORI DI EMOTIONAL INTENSITY NEL TRAINING"
   ]
  },
  {
   "cell_type": "code",
   "execution_count": 16,
   "metadata": {},
   "outputs": [
    {
     "data": {
      "text/plain": [
       "normal    984\n",
       "strong    844\n",
       "Name: emotional_intensity, dtype: int64"
      ]
     },
     "execution_count": 16,
     "metadata": {},
     "output_type": "execute_result"
    }
   ],
   "source": [
    "df_train['emotional_intensity'].value_counts()"
   ]
  },
  {
   "cell_type": "code",
   "execution_count": 17,
   "metadata": {},
   "outputs": [
    {
     "data": {
      "text/plain": [
       "<AxesSubplot:xlabel='emotional_intensity', ylabel='count'>"
      ]
     },
     "execution_count": 17,
     "metadata": {},
     "output_type": "execute_result"
    },
    {
     "data": {
      "image/png": "[encoded data removed]",
      "text/plain": [
       "<Figure size 432x288 with 1 Axes>"
      ]
     },
     "metadata": {
      "needs_background": "light"
     },
     "output_type": "display_data"
    }
   ],
   "source": [
    "sns.countplot(data=df_train,x='emotional_intensity')"
   ]
  },
  {
   "attachments": {},
   "cell_type": "markdown",
   "metadata": {},
   "source": [
    "PROVO A SBILANCIARE"
   ]
  },
  {
   "cell_type": "code",
   "execution_count": 18,
   "metadata": {},
   "outputs": [],
   "source": [
    "df_copy_train = df_train.copy()\n",
    "#df_copy_train.drop('emotional_intensity',axis=1,inplace=True)"
   ]
  },
  {
   "cell_type": "code",
   "execution_count": 19,
   "metadata": {},
   "outputs": [],
   "source": [
    "# Selezioniamo solo il 10% dei valori \"strong\"\n",
    "#strong = df_train.loc[df_train['emotional_intensity'] == 'strong'].sample(frac=0.9)\n",
    "#strong \n",
    "indexNames = df_train[ df_train['emotional_intensity'] == 'strong' ].sample(frac=0.93).index\n",
    "df_copy_train.drop(indexNames,axis=0,inplace=True)\n",
    "\n",
    "\n",
    "\n",
    "\n",
    "\n",
    "\n",
    "# Uniamo i dati selezionati con il restante 90% dei valori \"normal\"\n",
    "#df_copy_train = pd.concat([df_train.loc[df_train['emotional_intensity'] == 'normal'], strong])\n",
    "\n"
   ]
  },
  {
   "cell_type": "code",
   "execution_count": 20,
   "metadata": {},
   "outputs": [
    {
     "name": "stdout",
     "output_type": "stream",
     "text": [
      "normal    0.943432\n",
      "strong    0.056568\n",
      "Name: emotional_intensity, dtype: float64\n"
     ]
    }
   ],
   "source": [
    "# Stampa della nuova proporzione di valori\n",
    "\n",
    "print(df_copy_train['emotional_intensity'].value_counts(normalize=True))\n"
   ]
  },
  {
   "cell_type": "code",
   "execution_count": 21,
   "metadata": {},
   "outputs": [
    {
     "data": {
      "text/plain": [
       "normal    984\n",
       "strong     59\n",
       "Name: emotional_intensity, dtype: int64"
      ]
     },
     "execution_count": 21,
     "metadata": {},
     "output_type": "execute_result"
    }
   ],
   "source": [
    "df_copy_train['emotional_intensity'].value_counts()"
   ]
  },
  {
   "cell_type": "code",
   "execution_count": 22,
   "metadata": {},
   "outputs": [
    {
     "data": {
      "text/plain": [
       "<AxesSubplot:xlabel='emotional_intensity', ylabel='count'>"
      ]
     },
     "execution_count": 22,
     "metadata": {},
     "output_type": "execute_result"
    },
    {
     "data": {
      "image/png": "[encoded data removed]",
      "text/plain": [
       "<Figure size 432x288 with 1 Axes>"
      ]
     },
     "metadata": {
      "needs_background": "light"
     },
     "output_type": "display_data"
    }
   ],
   "source": [
    "sns.countplot(data=df_copy_train,x='emotional_intensity')"
   ]
  },
  {
   "cell_type": "code",
   "execution_count": 23,
   "metadata": {},
   "outputs": [
    {
     "data": {
      "text/html": [
       "<div>\n",
       "<style scoped>\n",
       "    .dataframe tbody tr th:only-of-type {\n",
       "        vertical-align: middle;\n",
       "    }\n",
       "\n",
       "    .dataframe tbody tr th {\n",
       "        vertical-align: top;\n",
       "    }\n",
       "\n",
       "    .dataframe thead th {\n",
       "        text-align: right;\n",
       "    }\n",
       "</style>\n",
       "<table border=\"1\" class=\"dataframe\">\n",
       "  <thead>\n",
       "    <tr style=\"text-align: right;\">\n",
       "      <th></th>\n",
       "      <th>vocal_channel</th>\n",
       "      <th>emotion</th>\n",
       "      <th>emotional_intensity</th>\n",
       "      <th>statement</th>\n",
       "      <th>repetition</th>\n",
       "      <th>sex</th>\n",
       "      <th>mean</th>\n",
       "      <th>q25</th>\n",
       "      <th>q50</th>\n",
       "      <th>q75</th>\n",
       "      <th>...</th>\n",
       "      <th>sc_skew_w4</th>\n",
       "      <th>stft_sum_w4</th>\n",
       "      <th>stft_q01_w4</th>\n",
       "      <th>stft_q05_w4</th>\n",
       "      <th>stft_q25_w4</th>\n",
       "      <th>stft_q50_w4</th>\n",
       "      <th>stft_q75_w4</th>\n",
       "      <th>stft_q95_w4</th>\n",
       "      <th>stft_kur_w4</th>\n",
       "      <th>stft_skew_w4</th>\n",
       "    </tr>\n",
       "  </thead>\n",
       "  <tbody>\n",
       "    <tr>\n",
       "      <th>0</th>\n",
       "      <td>speech</td>\n",
       "      <td>neutral</td>\n",
       "      <td>normal</td>\n",
       "      <td>Kids are talking by the door</td>\n",
       "      <td>1st</td>\n",
       "      <td>M</td>\n",
       "      <td>9.150000e-07</td>\n",
       "      <td>-0.000031</td>\n",
       "      <td>0.0</td>\n",
       "      <td>0.0</td>\n",
       "      <td>...</td>\n",
       "      <td>-4.175609</td>\n",
       "      <td>740.409892</td>\n",
       "      <td>0.000000</td>\n",
       "      <td>0.566462</td>\n",
       "      <td>0.709962</td>\n",
       "      <td>0.799141</td>\n",
       "      <td>0.896606</td>\n",
       "      <td>1.0</td>\n",
       "      <td>6.742190</td>\n",
       "      <td>-1.706215</td>\n",
       "    </tr>\n",
       "    <tr>\n",
       "      <th>1</th>\n",
       "      <td>speech</td>\n",
       "      <td>neutral</td>\n",
       "      <td>normal</td>\n",
       "      <td>Kids are talking by the door</td>\n",
       "      <td>2nd</td>\n",
       "      <td>M</td>\n",
       "      <td>7.137790e-07</td>\n",
       "      <td>-0.000031</td>\n",
       "      <td>0.0</td>\n",
       "      <td>0.0</td>\n",
       "      <td>...</td>\n",
       "      <td>-1.100390</td>\n",
       "      <td>705.975006</td>\n",
       "      <td>0.368623</td>\n",
       "      <td>0.472736</td>\n",
       "      <td>0.623183</td>\n",
       "      <td>0.744908</td>\n",
       "      <td>0.874713</td>\n",
       "      <td>1.0</td>\n",
       "      <td>-0.700420</td>\n",
       "      <td>-0.201495</td>\n",
       "    </tr>\n",
       "    <tr>\n",
       "      <th>2</th>\n",
       "      <td>speech</td>\n",
       "      <td>neutral</td>\n",
       "      <td>normal</td>\n",
       "      <td>Dogs are sitting by the door</td>\n",
       "      <td>1st</td>\n",
       "      <td>M</td>\n",
       "      <td>9.554485e-07</td>\n",
       "      <td>0.000000</td>\n",
       "      <td>0.0</td>\n",
       "      <td>0.0</td>\n",
       "      <td>...</td>\n",
       "      <td>-3.120218</td>\n",
       "      <td>694.365924</td>\n",
       "      <td>0.000000</td>\n",
       "      <td>0.417919</td>\n",
       "      <td>0.643636</td>\n",
       "      <td>0.774253</td>\n",
       "      <td>0.899156</td>\n",
       "      <td>1.0</td>\n",
       "      <td>1.688986</td>\n",
       "      <td>-1.024773</td>\n",
       "    </tr>\n",
       "    <tr>\n",
       "      <th>3</th>\n",
       "      <td>speech</td>\n",
       "      <td>neutral</td>\n",
       "      <td>normal</td>\n",
       "      <td>Dogs are sitting by the door</td>\n",
       "      <td>2nd</td>\n",
       "      <td>M</td>\n",
       "      <td>9.176213e-07</td>\n",
       "      <td>-0.000031</td>\n",
       "      <td>0.0</td>\n",
       "      <td>0.0</td>\n",
       "      <td>...</td>\n",
       "      <td>-0.880988</td>\n",
       "      <td>663.205667</td>\n",
       "      <td>0.306280</td>\n",
       "      <td>0.399641</td>\n",
       "      <td>0.606910</td>\n",
       "      <td>0.755213</td>\n",
       "      <td>0.886474</td>\n",
       "      <td>1.0</td>\n",
       "      <td>-0.594111</td>\n",
       "      <td>-0.412871</td>\n",
       "    </tr>\n",
       "    <tr>\n",
       "      <th>4</th>\n",
       "      <td>speech</td>\n",
       "      <td>calm</td>\n",
       "      <td>normal</td>\n",
       "      <td>Kids are talking by the door</td>\n",
       "      <td>1st</td>\n",
       "      <td>M</td>\n",
       "      <td>8.108948e-07</td>\n",
       "      <td>-0.000031</td>\n",
       "      <td>0.0</td>\n",
       "      <td>0.0</td>\n",
       "      <td>...</td>\n",
       "      <td>-1.071109</td>\n",
       "      <td>741.412796</td>\n",
       "      <td>0.248765</td>\n",
       "      <td>0.428202</td>\n",
       "      <td>0.634815</td>\n",
       "      <td>0.759914</td>\n",
       "      <td>0.878014</td>\n",
       "      <td>1.0</td>\n",
       "      <td>0.126535</td>\n",
       "      <td>-0.620782</td>\n",
       "    </tr>\n",
       "  </tbody>\n",
       "</table>\n",
       "<p>5 rows × 259 columns</p>\n",
       "</div>"
      ],
      "text/plain": [
       "  vocal_channel  emotion emotional_intensity                     statement  \\\n",
       "0        speech  neutral              normal  Kids are talking by the door   \n",
       "1        speech  neutral              normal  Kids are talking by the door   \n",
       "2        speech  neutral              normal  Dogs are sitting by the door   \n",
       "3        speech  neutral              normal  Dogs are sitting by the door   \n",
       "4        speech     calm              normal  Kids are talking by the door   \n",
       "\n",
       "  repetition sex          mean       q25  q50  q75  ...  sc_skew_w4  \\\n",
       "0        1st   M  9.150000e-07 -0.000031  0.0  0.0  ...   -4.175609   \n",
       "1        2nd   M  7.137790e-07 -0.000031  0.0  0.0  ...   -1.100390   \n",
       "2        1st   M  9.554485e-07  0.000000  0.0  0.0  ...   -3.120218   \n",
       "3        2nd   M  9.176213e-07 -0.000031  0.0  0.0  ...   -0.880988   \n",
       "4        1st   M  8.108948e-07 -0.000031  0.0  0.0  ...   -1.071109   \n",
       "\n",
       "   stft_sum_w4  stft_q01_w4  stft_q05_w4  stft_q25_w4  stft_q50_w4  \\\n",
       "0   740.409892     0.000000     0.566462     0.709962     0.799141   \n",
       "1   705.975006     0.368623     0.472736     0.623183     0.744908   \n",
       "2   694.365924     0.000000     0.417919     0.643636     0.774253   \n",
       "3   663.205667     0.306280     0.399641     0.606910     0.755213   \n",
       "4   741.412796     0.248765     0.428202     0.634815     0.759914   \n",
       "\n",
       "   stft_q75_w4  stft_q95_w4  stft_kur_w4  stft_skew_w4  \n",
       "0     0.896606          1.0     6.742190     -1.706215  \n",
       "1     0.874713          1.0    -0.700420     -0.201495  \n",
       "2     0.899156          1.0     1.688986     -1.024773  \n",
       "3     0.886474          1.0    -0.594111     -0.412871  \n",
       "4     0.878014          1.0     0.126535     -0.620782  \n",
       "\n",
       "[5 rows x 259 columns]"
      ]
     },
     "execution_count": 23,
     "metadata": {},
     "output_type": "execute_result"
    }
   ],
   "source": [
    "df_copy_train.head()"
   ]
  },
  {
   "cell_type": "code",
   "execution_count": 24,
   "metadata": {},
   "outputs": [
    {
     "data": {
      "text/plain": [
       "(1043, 259)"
      ]
     },
     "execution_count": 24,
     "metadata": {},
     "output_type": "execute_result"
    }
   ],
   "source": [
    "df_copy_train.shape"
   ]
  },
  {
   "attachments": {},
   "cell_type": "markdown",
   "metadata": {},
   "source": [
    "VERIFICHIAMO I VALORI DI EMOTIONAL INTENSITY NEL TEST E SBILANCIAMO\n"
   ]
  },
  {
   "cell_type": "code",
   "execution_count": 25,
   "metadata": {},
   "outputs": [
    {
     "data": {
      "text/plain": [
       "normal    336\n",
       "strong    288\n",
       "Name: emotional_intensity, dtype: int64"
      ]
     },
     "execution_count": 25,
     "metadata": {},
     "output_type": "execute_result"
    }
   ],
   "source": [
    "df_test['emotional_intensity'].value_counts()"
   ]
  },
  {
   "cell_type": "code",
   "execution_count": 26,
   "metadata": {},
   "outputs": [
    {
     "data": {
      "text/plain": [
       "<AxesSubplot:xlabel='emotional_intensity', ylabel='count'>"
      ]
     },
     "execution_count": 26,
     "metadata": {},
     "output_type": "execute_result"
    },
    {
     "data": {
      "image/png": "[encoded data removed]",
      "text/plain": [
       "<Figure size 432x288 with 1 Axes>"
      ]
     },
     "metadata": {
      "needs_background": "light"
     },
     "output_type": "display_data"
    }
   ],
   "source": [
    "sns.countplot(data=df_test,x='emotional_intensity')"
   ]
  },
  {
   "cell_type": "code",
   "execution_count": 27,
   "metadata": {},
   "outputs": [],
   "source": [
    "df_copy_test = df_test.copy()\n"
   ]
  },
  {
   "cell_type": "code",
   "execution_count": 28,
   "metadata": {},
   "outputs": [],
   "source": [
    "# Selezioniamo solo il 10% dei valori \"strong\"\n",
    "#strong = df_train.loc[df_train['emotional_intensity'] == 'strong'].sample(frac=0.9)\n",
    "#strong \n",
    "indexNames = df_test[ df_test['emotional_intensity'] == 'strong' ].sample(frac=0.93).index\n",
    "df_copy_test.drop(indexNames,axis=0,inplace=True)\n",
    "\n",
    "\n"
   ]
  },
  {
   "cell_type": "code",
   "execution_count": 29,
   "metadata": {},
   "outputs": [
    {
     "name": "stdout",
     "output_type": "stream",
     "text": [
      "normal    0.94382\n",
      "strong    0.05618\n",
      "Name: emotional_intensity, dtype: float64\n"
     ]
    }
   ],
   "source": [
    "# Stampa della nuova proporzione di valori\n",
    "\n",
    "print(df_copy_test['emotional_intensity'].value_counts(normalize=True))\n"
   ]
  },
  {
   "cell_type": "code",
   "execution_count": 30,
   "metadata": {},
   "outputs": [
    {
     "data": {
      "text/plain": [
       "normal    336\n",
       "strong     20\n",
       "Name: emotional_intensity, dtype: int64"
      ]
     },
     "execution_count": 30,
     "metadata": {},
     "output_type": "execute_result"
    }
   ],
   "source": [
    "df_copy_test['emotional_intensity'].value_counts()"
   ]
  },
  {
   "cell_type": "code",
   "execution_count": 31,
   "metadata": {},
   "outputs": [
    {
     "name": "stdout",
     "output_type": "stream",
     "text": [
      "normal    0.94382\n",
      "strong    0.05618\n",
      "Name: emotional_intensity, dtype: float64\n"
     ]
    }
   ],
   "source": [
    "# Stampa della nuova proporzione di valori\n",
    "\n",
    "print(df_copy_test['emotional_intensity'].value_counts(normalize=True))\n"
   ]
  },
  {
   "cell_type": "code",
   "execution_count": 32,
   "metadata": {},
   "outputs": [
    {
     "data": {
      "text/plain": [
       "normal    336\n",
       "strong     20\n",
       "Name: emotional_intensity, dtype: int64"
      ]
     },
     "execution_count": 32,
     "metadata": {},
     "output_type": "execute_result"
    }
   ],
   "source": [
    "df_copy_test['emotional_intensity'].value_counts()"
   ]
  },
  {
   "cell_type": "code",
   "execution_count": 33,
   "metadata": {},
   "outputs": [
    {
     "data": {
      "text/plain": [
       "<AxesSubplot:xlabel='emotional_intensity', ylabel='count'>"
      ]
     },
     "execution_count": 33,
     "metadata": {},
     "output_type": "execute_result"
    },
    {
     "data": {
      "image/png": "[encoded data removed]",
      "text/plain": [
       "<Figure size 432x288 with 1 Axes>"
      ]
     },
     "metadata": {
      "needs_background": "light"
     },
     "output_type": "display_data"
    }
   ],
   "source": [
    "sns.countplot(data=df_copy_train,x='emotional_intensity')"
   ]
  },
  {
   "attachments": {},
   "cell_type": "markdown",
   "metadata": {},
   "source": [
    "LABEL ENCODING  TRAINING"
   ]
  },
  {
   "cell_type": "code",
   "execution_count": 34,
   "metadata": {},
   "outputs": [
    {
     "data": {
      "text/plain": [
       "['vocal_channel',\n",
       " 'emotion',\n",
       " 'emotional_intensity',\n",
       " 'statement',\n",
       " 'repetition',\n",
       " 'sex']"
      ]
     },
     "execution_count": 34,
     "metadata": {},
     "output_type": "execute_result"
    }
   ],
   "source": [
    "c=df_copy_train.select_dtypes(include=['object']).columns.tolist()\n",
    "c"
   ]
  },
  {
   "cell_type": "code",
   "execution_count": 35,
   "metadata": {},
   "outputs": [
    {
     "data": {
      "text/html": [
       "<div>\n",
       "<style scoped>\n",
       "    .dataframe tbody tr th:only-of-type {\n",
       "        vertical-align: middle;\n",
       "    }\n",
       "\n",
       "    .dataframe tbody tr th {\n",
       "        vertical-align: top;\n",
       "    }\n",
       "\n",
       "    .dataframe thead th {\n",
       "        text-align: right;\n",
       "    }\n",
       "</style>\n",
       "<table border=\"1\" class=\"dataframe\">\n",
       "  <thead>\n",
       "    <tr style=\"text-align: right;\">\n",
       "      <th></th>\n",
       "      <th>vocal_channel</th>\n",
       "      <th>emotional_intensity</th>\n",
       "      <th>statement</th>\n",
       "      <th>repetition</th>\n",
       "      <th>sex</th>\n",
       "      <th>mean</th>\n",
       "      <th>q25</th>\n",
       "      <th>q50</th>\n",
       "      <th>q75</th>\n",
       "      <th>kur</th>\n",
       "      <th>...</th>\n",
       "      <th>stft_kur_w4</th>\n",
       "      <th>stft_skew_w4</th>\n",
       "      <th>emotion_angry</th>\n",
       "      <th>emotion_calm</th>\n",
       "      <th>emotion_disgust</th>\n",
       "      <th>emotion_fearful</th>\n",
       "      <th>emotion_happy</th>\n",
       "      <th>emotion_neutral</th>\n",
       "      <th>emotion_sad</th>\n",
       "      <th>emotion_surprised</th>\n",
       "    </tr>\n",
       "  </thead>\n",
       "  <tbody>\n",
       "    <tr>\n",
       "      <th>0</th>\n",
       "      <td>1</td>\n",
       "      <td>0</td>\n",
       "      <td>1</td>\n",
       "      <td>0</td>\n",
       "      <td>1</td>\n",
       "      <td>9.150000e-07</td>\n",
       "      <td>-0.000031</td>\n",
       "      <td>0.0</td>\n",
       "      <td>0.0</td>\n",
       "      <td>15.028520</td>\n",
       "      <td>...</td>\n",
       "      <td>6.742190</td>\n",
       "      <td>-1.706215</td>\n",
       "      <td>0</td>\n",
       "      <td>0</td>\n",
       "      <td>0</td>\n",
       "      <td>0</td>\n",
       "      <td>0</td>\n",
       "      <td>1</td>\n",
       "      <td>0</td>\n",
       "      <td>0</td>\n",
       "    </tr>\n",
       "    <tr>\n",
       "      <th>1</th>\n",
       "      <td>1</td>\n",
       "      <td>0</td>\n",
       "      <td>1</td>\n",
       "      <td>1</td>\n",
       "      <td>1</td>\n",
       "      <td>7.137790e-07</td>\n",
       "      <td>-0.000031</td>\n",
       "      <td>0.0</td>\n",
       "      <td>0.0</td>\n",
       "      <td>16.488415</td>\n",
       "      <td>...</td>\n",
       "      <td>-0.700420</td>\n",
       "      <td>-0.201495</td>\n",
       "      <td>0</td>\n",
       "      <td>0</td>\n",
       "      <td>0</td>\n",
       "      <td>0</td>\n",
       "      <td>0</td>\n",
       "      <td>1</td>\n",
       "      <td>0</td>\n",
       "      <td>0</td>\n",
       "    </tr>\n",
       "    <tr>\n",
       "      <th>2</th>\n",
       "      <td>1</td>\n",
       "      <td>0</td>\n",
       "      <td>0</td>\n",
       "      <td>0</td>\n",
       "      <td>1</td>\n",
       "      <td>9.554485e-07</td>\n",
       "      <td>0.000000</td>\n",
       "      <td>0.0</td>\n",
       "      <td>0.0</td>\n",
       "      <td>17.035218</td>\n",
       "      <td>...</td>\n",
       "      <td>1.688986</td>\n",
       "      <td>-1.024773</td>\n",
       "      <td>0</td>\n",
       "      <td>0</td>\n",
       "      <td>0</td>\n",
       "      <td>0</td>\n",
       "      <td>0</td>\n",
       "      <td>1</td>\n",
       "      <td>0</td>\n",
       "      <td>0</td>\n",
       "    </tr>\n",
       "    <tr>\n",
       "      <th>3</th>\n",
       "      <td>1</td>\n",
       "      <td>0</td>\n",
       "      <td>0</td>\n",
       "      <td>1</td>\n",
       "      <td>1</td>\n",
       "      <td>9.176213e-07</td>\n",
       "      <td>-0.000031</td>\n",
       "      <td>0.0</td>\n",
       "      <td>0.0</td>\n",
       "      <td>21.824521</td>\n",
       "      <td>...</td>\n",
       "      <td>-0.594111</td>\n",
       "      <td>-0.412871</td>\n",
       "      <td>0</td>\n",
       "      <td>0</td>\n",
       "      <td>0</td>\n",
       "      <td>0</td>\n",
       "      <td>0</td>\n",
       "      <td>1</td>\n",
       "      <td>0</td>\n",
       "      <td>0</td>\n",
       "    </tr>\n",
       "    <tr>\n",
       "      <th>4</th>\n",
       "      <td>1</td>\n",
       "      <td>0</td>\n",
       "      <td>1</td>\n",
       "      <td>0</td>\n",
       "      <td>1</td>\n",
       "      <td>8.108948e-07</td>\n",
       "      <td>-0.000031</td>\n",
       "      <td>0.0</td>\n",
       "      <td>0.0</td>\n",
       "      <td>13.236022</td>\n",
       "      <td>...</td>\n",
       "      <td>0.126535</td>\n",
       "      <td>-0.620782</td>\n",
       "      <td>0</td>\n",
       "      <td>1</td>\n",
       "      <td>0</td>\n",
       "      <td>0</td>\n",
       "      <td>0</td>\n",
       "      <td>0</td>\n",
       "      <td>0</td>\n",
       "      <td>0</td>\n",
       "    </tr>\n",
       "  </tbody>\n",
       "</table>\n",
       "<p>5 rows × 266 columns</p>\n",
       "</div>"
      ],
      "text/plain": [
       "   vocal_channel  emotional_intensity  statement  repetition  sex  \\\n",
       "0              1                    0          1           0    1   \n",
       "1              1                    0          1           1    1   \n",
       "2              1                    0          0           0    1   \n",
       "3              1                    0          0           1    1   \n",
       "4              1                    0          1           0    1   \n",
       "\n",
       "           mean       q25  q50  q75        kur  ...  stft_kur_w4  \\\n",
       "0  9.150000e-07 -0.000031  0.0  0.0  15.028520  ...     6.742190   \n",
       "1  7.137790e-07 -0.000031  0.0  0.0  16.488415  ...    -0.700420   \n",
       "2  9.554485e-07  0.000000  0.0  0.0  17.035218  ...     1.688986   \n",
       "3  9.176213e-07 -0.000031  0.0  0.0  21.824521  ...    -0.594111   \n",
       "4  8.108948e-07 -0.000031  0.0  0.0  13.236022  ...     0.126535   \n",
       "\n",
       "   stft_skew_w4  emotion_angry  emotion_calm  emotion_disgust  \\\n",
       "0     -1.706215              0             0                0   \n",
       "1     -0.201495              0             0                0   \n",
       "2     -1.024773              0             0                0   \n",
       "3     -0.412871              0             0                0   \n",
       "4     -0.620782              0             1                0   \n",
       "\n",
       "   emotion_fearful  emotion_happy  emotion_neutral  emotion_sad  \\\n",
       "0                0              0                1            0   \n",
       "1                0              0                1            0   \n",
       "2                0              0                1            0   \n",
       "3                0              0                1            0   \n",
       "4                0              0                0            0   \n",
       "\n",
       "   emotion_surprised  \n",
       "0                  0  \n",
       "1                  0  \n",
       "2                  0  \n",
       "3                  0  \n",
       "4                  0  \n",
       "\n",
       "[5 rows x 266 columns]"
      ]
     },
     "execution_count": 35,
     "metadata": {},
     "output_type": "execute_result"
    }
   ],
   "source": [
    "cat_var=[\"statement\",\"repetition\",\"sex\",\"emotional_intensity\",\"vocal_channel\"]\n",
    "le=preprocessing.LabelEncoder()\n",
    "for i in cat_var:\n",
    "    df_copy_train[i]=le.fit_transform(df_copy_train[i])\n",
    "categorical_col = [\"emotion\"]\n",
    "\n",
    "df_copy_train = pd.get_dummies(df_copy_train, columns=categorical_col)    \n",
    "\n",
    "df_copy_train.head()"
   ]
  },
  {
   "attachments": {},
   "cell_type": "markdown",
   "metadata": {},
   "source": [
    "INTRODUCO LE LIBRERIE DI UNDER/OVER + DIM_RED"
   ]
  },
  {
   "cell_type": "code",
   "execution_count": 36,
   "metadata": {},
   "outputs": [],
   "source": [
    "\n",
    "from imblearn.under_sampling import RandomUnderSampler\n",
    "from imblearn.under_sampling import CondensedNearestNeighbour\n",
    "from imblearn.under_sampling import TomekLinks\n",
    "from imblearn.under_sampling import EditedNearestNeighbours\n",
    "from imblearn.over_sampling import RandomOverSampler\n",
    "from imblearn.over_sampling import SMOTE\n",
    "from imblearn.over_sampling import ADASYN\n",
    "\n",
    "from collections import Counter\n",
    "from sklearn.decomposition import PCA\n",
    "\n",
    "\n"
   ]
  },
  {
   "attachments": {},
   "cell_type": "markdown",
   "metadata": {},
   "source": [
    "NORMALIZZAZIONE TRAINING"
   ]
  },
  {
   "cell_type": "code",
   "execution_count": 37,
   "metadata": {},
   "outputs": [],
   "source": [
    "numeric_features = [n for n in df_copy_train.columns if n!=\"emotion_angry\" and n!= \"vocal_channel\" and n!= \"emotional_intensity\" and n!= \"statement\" and n!= \"repetition\" and n!= \"sex\" and   n!=\"emotion_calm\" and  n!=\"emotion_disgust\" and  n!=\"emotion_fearful\" and  n!=\"emotion_happy\" and  n!=\"emotion_neutral\" and n!=\"emotion_sad\" and  n!=\"emotion_surprised\"]\n",
    "\n",
    "scaler = StandardScaler()\n",
    "scaled_features = scaler.fit_transform(df_copy_train[numeric_features])\n",
    "df_copy_train[numeric_features] = scaled_features\n",
    "df_copy_train.head()\n",
    "\n",
    "\n",
    "col = [x for x in df_copy_train.columns if x!='emotional_intensity']\n",
    "X_train=df_copy_train[col].values\n",
    "y_train = np.array(df_copy_train[\"emotional_intensity\"])\n",
    "\n",
    "\n",
    "\n",
    "\n"
   ]
  },
  {
   "attachments": {},
   "cell_type": "markdown",
   "metadata": {},
   "source": [
    "NORMALIZZAZIONE + LABEL ENCODING + HOLDOUT TEST"
   ]
  },
  {
   "cell_type": "code",
   "execution_count": 38,
   "metadata": {},
   "outputs": [
    {
     "data": {
      "text/html": [
       "<div>\n",
       "<style scoped>\n",
       "    .dataframe tbody tr th:only-of-type {\n",
       "        vertical-align: middle;\n",
       "    }\n",
       "\n",
       "    .dataframe tbody tr th {\n",
       "        vertical-align: top;\n",
       "    }\n",
       "\n",
       "    .dataframe thead th {\n",
       "        text-align: right;\n",
       "    }\n",
       "</style>\n",
       "<table border=\"1\" class=\"dataframe\">\n",
       "  <thead>\n",
       "    <tr style=\"text-align: right;\">\n",
       "      <th></th>\n",
       "      <th>vocal_channel</th>\n",
       "      <th>emotional_intensity</th>\n",
       "      <th>statement</th>\n",
       "      <th>repetition</th>\n",
       "      <th>sex</th>\n",
       "      <th>mean</th>\n",
       "      <th>q25</th>\n",
       "      <th>q50</th>\n",
       "      <th>q75</th>\n",
       "      <th>kur</th>\n",
       "      <th>...</th>\n",
       "      <th>stft_kur_w4</th>\n",
       "      <th>stft_skew_w4</th>\n",
       "      <th>emotion_angry</th>\n",
       "      <th>emotion_calm</th>\n",
       "      <th>emotion_disgust</th>\n",
       "      <th>emotion_fearful</th>\n",
       "      <th>emotion_happy</th>\n",
       "      <th>emotion_neutral</th>\n",
       "      <th>emotion_sad</th>\n",
       "      <th>emotion_surprised</th>\n",
       "    </tr>\n",
       "  </thead>\n",
       "  <tbody>\n",
       "    <tr>\n",
       "      <th>0</th>\n",
       "      <td>1</td>\n",
       "      <td>0</td>\n",
       "      <td>1</td>\n",
       "      <td>0</td>\n",
       "      <td>1</td>\n",
       "      <td>2.940224e-06</td>\n",
       "      <td>-0.000092</td>\n",
       "      <td>0.0</td>\n",
       "      <td>0.000153</td>\n",
       "      <td>11.392131</td>\n",
       "      <td>...</td>\n",
       "      <td>-0.260279</td>\n",
       "      <td>-0.566556</td>\n",
       "      <td>0</td>\n",
       "      <td>0</td>\n",
       "      <td>0</td>\n",
       "      <td>0</td>\n",
       "      <td>0</td>\n",
       "      <td>1</td>\n",
       "      <td>0</td>\n",
       "      <td>0</td>\n",
       "    </tr>\n",
       "    <tr>\n",
       "      <th>1</th>\n",
       "      <td>1</td>\n",
       "      <td>0</td>\n",
       "      <td>1</td>\n",
       "      <td>1</td>\n",
       "      <td>1</td>\n",
       "      <td>7.733752e-07</td>\n",
       "      <td>-0.000122</td>\n",
       "      <td>0.0</td>\n",
       "      <td>0.000153</td>\n",
       "      <td>13.621589</td>\n",
       "      <td>...</td>\n",
       "      <td>-0.428900</td>\n",
       "      <td>-0.587210</td>\n",
       "      <td>0</td>\n",
       "      <td>0</td>\n",
       "      <td>0</td>\n",
       "      <td>0</td>\n",
       "      <td>0</td>\n",
       "      <td>1</td>\n",
       "      <td>0</td>\n",
       "      <td>0</td>\n",
       "    </tr>\n",
       "    <tr>\n",
       "      <th>2</th>\n",
       "      <td>1</td>\n",
       "      <td>0</td>\n",
       "      <td>0</td>\n",
       "      <td>0</td>\n",
       "      <td>1</td>\n",
       "      <td>-3.741909e-06</td>\n",
       "      <td>-0.000061</td>\n",
       "      <td>0.0</td>\n",
       "      <td>0.000092</td>\n",
       "      <td>7.678162</td>\n",
       "      <td>...</td>\n",
       "      <td>0.626916</td>\n",
       "      <td>-0.883317</td>\n",
       "      <td>0</td>\n",
       "      <td>0</td>\n",
       "      <td>0</td>\n",
       "      <td>0</td>\n",
       "      <td>0</td>\n",
       "      <td>1</td>\n",
       "      <td>0</td>\n",
       "      <td>0</td>\n",
       "    </tr>\n",
       "    <tr>\n",
       "      <th>3</th>\n",
       "      <td>1</td>\n",
       "      <td>0</td>\n",
       "      <td>0</td>\n",
       "      <td>1</td>\n",
       "      <td>1</td>\n",
       "      <td>-5.069646e-07</td>\n",
       "      <td>-0.000092</td>\n",
       "      <td>0.0</td>\n",
       "      <td>0.000122</td>\n",
       "      <td>14.511231</td>\n",
       "      <td>...</td>\n",
       "      <td>-0.825144</td>\n",
       "      <td>-0.383701</td>\n",
       "      <td>0</td>\n",
       "      <td>0</td>\n",
       "      <td>0</td>\n",
       "      <td>0</td>\n",
       "      <td>0</td>\n",
       "      <td>1</td>\n",
       "      <td>0</td>\n",
       "      <td>0</td>\n",
       "    </tr>\n",
       "    <tr>\n",
       "      <th>4</th>\n",
       "      <td>1</td>\n",
       "      <td>0</td>\n",
       "      <td>1</td>\n",
       "      <td>0</td>\n",
       "      <td>1</td>\n",
       "      <td>8.640319e-07</td>\n",
       "      <td>-0.000061</td>\n",
       "      <td>0.0</td>\n",
       "      <td>0.000122</td>\n",
       "      <td>8.944732</td>\n",
       "      <td>...</td>\n",
       "      <td>-0.536669</td>\n",
       "      <td>-0.547354</td>\n",
       "      <td>0</td>\n",
       "      <td>1</td>\n",
       "      <td>0</td>\n",
       "      <td>0</td>\n",
       "      <td>0</td>\n",
       "      <td>0</td>\n",
       "      <td>0</td>\n",
       "      <td>0</td>\n",
       "    </tr>\n",
       "  </tbody>\n",
       "</table>\n",
       "<p>5 rows × 266 columns</p>\n",
       "</div>"
      ],
      "text/plain": [
       "   vocal_channel  emotional_intensity  statement  repetition  sex  \\\n",
       "0              1                    0          1           0    1   \n",
       "1              1                    0          1           1    1   \n",
       "2              1                    0          0           0    1   \n",
       "3              1                    0          0           1    1   \n",
       "4              1                    0          1           0    1   \n",
       "\n",
       "           mean       q25  q50       q75        kur  ...  stft_kur_w4  \\\n",
       "0  2.940224e-06 -0.000092  0.0  0.000153  11.392131  ...    -0.260279   \n",
       "1  7.733752e-07 -0.000122  0.0  0.000153  13.621589  ...    -0.428900   \n",
       "2 -3.741909e-06 -0.000061  0.0  0.000092   7.678162  ...     0.626916   \n",
       "3 -5.069646e-07 -0.000092  0.0  0.000122  14.511231  ...    -0.825144   \n",
       "4  8.640319e-07 -0.000061  0.0  0.000122   8.944732  ...    -0.536669   \n",
       "\n",
       "   stft_skew_w4  emotion_angry  emotion_calm  emotion_disgust  \\\n",
       "0     -0.566556              0             0                0   \n",
       "1     -0.587210              0             0                0   \n",
       "2     -0.883317              0             0                0   \n",
       "3     -0.383701              0             0                0   \n",
       "4     -0.547354              0             1                0   \n",
       "\n",
       "   emotion_fearful  emotion_happy  emotion_neutral  emotion_sad  \\\n",
       "0                0              0                1            0   \n",
       "1                0              0                1            0   \n",
       "2                0              0                1            0   \n",
       "3                0              0                1            0   \n",
       "4                0              0                0            0   \n",
       "\n",
       "   emotion_surprised  \n",
       "0                  0  \n",
       "1                  0  \n",
       "2                  0  \n",
       "3                  0  \n",
       "4                  0  \n",
       "\n",
       "[5 rows x 266 columns]"
      ]
     },
     "execution_count": 38,
     "metadata": {},
     "output_type": "execute_result"
    }
   ],
   "source": [
    "for i in cat_var:\n",
    "    df_copy_test[i]=le.fit_transform(df_copy_test[i])\n",
    "categorical_col = [\"emotion\"]\n",
    "\n",
    "df_copy_test = pd.get_dummies(df_copy_test, columns=categorical_col)    \n",
    "\n",
    "df_copy_test.head()"
   ]
  },
  {
   "cell_type": "code",
   "execution_count": 39,
   "metadata": {},
   "outputs": [],
   "source": [
    "scaled_features = scaler.transform(df_copy_test[numeric_features])\n",
    "df_copy_test[numeric_features] = scaled_features\n",
    "df_copy_test.head()\n",
    "\n",
    "\n",
    "col = [x for x in df_copy_train.columns if x!='emotional_intensity']\n",
    "X_test=df_copy_test[col].values\n",
    "y_test = np.array(df_copy_test[\"emotional_intensity\"])\n"
   ]
  },
  {
   "attachments": {},
   "cell_type": "markdown",
   "metadata": {},
   "source": [
    "ISTANZIO LA GRID SEARCH PER IL KNN E IL DT "
   ]
  },
  {
   "cell_type": "code",
   "execution_count": 40,
   "metadata": {},
   "outputs": [],
   "source": [
    "param_grid = {'max_depth': [None, 2, 5, 10, 15, 20],\n",
    "              'min_samples_split': [2, 5, 10, 15, 20],\n",
    "              'min_samples_leaf': [1, 5, 10, 15, 20]\n",
    "}\n",
    "\n",
    "grid = GridSearchCV(\n",
    "    DecisionTreeClassifier(),\n",
    "    param_grid=param_grid,\n",
    "    cv=StratifiedKFold(), # with no parameters it is with 5 split and 10 repetitions\n",
    "    refit=True,\n",
    "    scoring=\"f1_macro\"\n",
    ")\n",
    "grid.fit(X_train, y_train)\n",
    "clf = grid.best_estimator_"
   ]
  },
  {
   "cell_type": "code",
   "execution_count": 41,
   "metadata": {},
   "outputs": [
    {
     "name": "stdout",
     "output_type": "stream",
     "text": [
      "{'max_depth': 2, 'min_samples_leaf': 15, 'min_samples_split': 2}\n"
     ]
    }
   ],
   "source": [
    "print(grid.best_params_)"
   ]
  },
  {
   "cell_type": "code",
   "execution_count": 42,
   "metadata": {},
   "outputs": [],
   "source": [
    "param_grid = {\n",
    "    \"n_neighbors\": np.arange(2,51),\n",
    "    \"weights\": [\"uniform\", \"distance\"],\n",
    "    \"metric\": [\"euclidean\", \"cityblock\",\"minkowski\"], # cityblock is the manhattan distance\n",
    "}\n",
    "\n",
    "grid = GridSearchCV(\n",
    "    KNeighborsClassifier(),\n",
    "    param_grid=param_grid,\n",
    "    cv=StratifiedKFold(), # with no parameters it is with 5 split and 10 repetitions\n",
    "    refit=True,\n",
    "    scoring=\"f1_macro\"\n",
    ")\n",
    "\n",
    "grid.fit(X_train, y_train)\n",
    "clf = grid.best_estimator_"
   ]
  },
  {
   "cell_type": "code",
   "execution_count": 43,
   "metadata": {},
   "outputs": [
    {
     "name": "stdout",
     "output_type": "stream",
     "text": [
      "{'metric': 'euclidean', 'n_neighbors': 4, 'weights': 'distance'}\n"
     ]
    }
   ],
   "source": [
    "print(grid.best_params_)"
   ]
  },
  {
   "attachments": {},
   "cell_type": "markdown",
   "metadata": {},
   "source": [
    "RISULTATI NORMALI"
   ]
  },
  {
   "cell_type": "code",
   "execution_count": 44,
   "metadata": {},
   "outputs": [
    {
     "name": "stdout",
     "output_type": "stream",
     "text": [
      "              precision    recall  f1-score   support\n",
      "\n",
      "           0       0.95      0.99      0.97       336\n",
      "           1       0.40      0.10      0.16        20\n",
      "\n",
      "    accuracy                           0.94       356\n",
      "   macro avg       0.67      0.55      0.56       356\n",
      "weighted avg       0.92      0.94      0.92       356\n",
      "\n"
     ]
    }
   ],
   "source": [
    "learner_KNN = KNeighborsClassifier(n_neighbors= 2, metric= 'euclidean', weights= 'distance')\n",
    "classifier = learner_KNN.fit(X_train, y_train)\n",
    "predictions = classifier.predict(X_test)\n",
    "\n",
    "print(classification_report(y_test,predictions))\n",
    "#learner_DT= DecisionTreeClassifier(max_depth=5,min_samples_leaf=1,min_samples_split=20)"
   ]
  },
  {
   "cell_type": "code",
   "execution_count": 45,
   "metadata": {},
   "outputs": [
    {
     "name": "stdout",
     "output_type": "stream",
     "text": [
      "              precision    recall  f1-score   support\n",
      "\n",
      "           0       0.95      0.98      0.97       336\n",
      "           1       0.40      0.20      0.27        20\n",
      "\n",
      "    accuracy                           0.94       356\n",
      "   macro avg       0.68      0.59      0.62       356\n",
      "weighted avg       0.92      0.94      0.93       356\n",
      "\n"
     ]
    }
   ],
   "source": [
    "learner_DT= DecisionTreeClassifier(max_depth=15,min_samples_leaf=10,min_samples_split=15)\n",
    "classifier = learner_DT.fit(X_train, y_train)\n",
    "predictions = classifier.predict(X_test)\n",
    "\n",
    "print(classification_report(y_test,predictions))"
   ]
  },
  {
   "attachments": {},
   "cell_type": "markdown",
   "metadata": {},
   "source": [
    "DECISION THRESHOLD"
   ]
  },
  {
   "cell_type": "code",
   "execution_count": 46,
   "metadata": {},
   "outputs": [],
   "source": [
    "from sklearn.metrics import roc_curve, auc, roc_auc_score"
   ]
  },
  {
   "cell_type": "code",
   "execution_count": 47,
   "metadata": {},
   "outputs": [
    {
     "name": "stdout",
     "output_type": "stream",
     "text": [
      "Accuracy 0.9438202247191011\n",
      "F1-score [0.97109827 0.        ]\n",
      "              precision    recall  f1-score   support\n",
      "\n",
      "           0       0.94      1.00      0.97       336\n",
      "           1       0.00      0.00      0.00        20\n",
      "\n",
      "    accuracy                           0.94       356\n",
      "   macro avg       0.47      0.50      0.49       356\n",
      "weighted avg       0.89      0.94      0.92       356\n",
      "\n"
     ]
    },
    {
     "name": "stderr",
     "output_type": "stream",
     "text": [
      "/Applications/anaconda3/lib/python3.8/site-packages/sklearn/metrics/_classification.py:1344: UndefinedMetricWarning: Precision and F-score are ill-defined and being set to 0.0 in labels with no predicted samples. Use `zero_division` parameter to control this behavior.\n",
      "  _warn_prf(average, modifier, msg_start, len(result))\n",
      "/Applications/anaconda3/lib/python3.8/site-packages/sklearn/metrics/_classification.py:1344: UndefinedMetricWarning: Precision and F-score are ill-defined and being set to 0.0 in labels with no predicted samples. Use `zero_division` parameter to control this behavior.\n",
      "  _warn_prf(average, modifier, msg_start, len(result))\n",
      "/Applications/anaconda3/lib/python3.8/site-packages/sklearn/metrics/_classification.py:1344: UndefinedMetricWarning: Precision and F-score are ill-defined and being set to 0.0 in labels with no predicted samples. Use `zero_division` parameter to control this behavior.\n",
      "  _warn_prf(average, modifier, msg_start, len(result))\n"
     ]
    }
   ],
   "source": [
    "clf = DecisionTreeClassifier(max_depth=15,min_samples_leaf=10,min_samples_split=15)\n",
    "clf.fit(X_train, y_train)\n",
    "\n",
    "def adjusted_predict(X, thr=0.5):\n",
    "    y_score = clf.predict_proba(X_test)[:, 1]\n",
    "    return np.array([1 if y > thr else 0 for y in y_score])\n",
    "\n",
    "y_pred = adjusted_predict(X_test, thr=0.9)\n",
    "\n",
    "print('Accuracy %s' % accuracy_score(y_test, y_pred))\n",
    "print('F1-score %s' % f1_score(y_test, y_pred, average=None))\n",
    "print(classification_report(y_test, y_pred))\n",
    "\n",
    "y_score = clf.predict_proba(X_test)\n",
    "fpr, tpr, thr = roc_curve(y_test, y_score[:, 1])\n",
    "roc_auc = auc(fpr, tpr)\n"
   ]
  },
  {
   "attachments": {},
   "cell_type": "markdown",
   "metadata": {},
   "source": [
    "IMBALANCE"
   ]
  },
  {
   "attachments": {},
   "cell_type": "markdown",
   "metadata": {},
   "source": [
    "Random Undersampling"
   ]
  },
  {
   "cell_type": "code",
   "execution_count": 152,
   "metadata": {},
   "outputs": [
    {
     "name": "stdout",
     "output_type": "stream",
     "text": [
      "Resampled dataset shape Counter({0: 59, 1: 59})\n"
     ]
    }
   ],
   "source": [
    "# Random Undersampler\n",
    "rus = RandomUnderSampler(random_state=42)\n",
    "X_res, y_res = rus.fit_resample(X_train, y_train)\n",
    "print('Resampled dataset shape %s' % Counter(y_res))"
   ]
  },
  {
   "cell_type": "code",
   "execution_count": 153,
   "metadata": {},
   "outputs": [
    {
     "data": {
      "image/png": "[encoded data removed]",
      "text/plain": [
       "<Figure size 432x288 with 1 Axes>"
      ]
     },
     "metadata": {
      "needs_background": "light"
     },
     "output_type": "display_data"
    }
   ],
   "source": [
    "pca = PCA(n_components=2)\n",
    "pca.fit(X_train)\n",
    "X_pca = pca.transform(X_res)\n",
    "\n",
    "plt.scatter(X_pca[:, 0], X_pca[:, 1], c=y_res, cmap=plt.cm.prism, edgecolor='k', alpha=0.7)\n",
    "\n",
    "plt.show()"
   ]
  },
  {
   "cell_type": "code",
   "execution_count": 50,
   "metadata": {},
   "outputs": [
    {
     "name": "stdout",
     "output_type": "stream",
     "text": [
      "              precision    recall  f1-score   support\n",
      "\n",
      "           0       0.96      0.69      0.80       336\n",
      "           1       0.09      0.50      0.15        20\n",
      "\n",
      "    accuracy                           0.68       356\n",
      "   macro avg       0.52      0.60      0.48       356\n",
      "weighted avg       0.91      0.68      0.77       356\n",
      "\n"
     ]
    }
   ],
   "source": [
    "classifier = learner_KNN.fit(X_res, y_res)\n",
    "predictions = classifier.predict(X_test)\n",
    "print(classification_report(y_test,predictions))"
   ]
  },
  {
   "cell_type": "code",
   "execution_count": 51,
   "metadata": {},
   "outputs": [
    {
     "name": "stdout",
     "output_type": "stream",
     "text": [
      "              precision    recall  f1-score   support\n",
      "\n",
      "           0       0.96      0.69      0.81       336\n",
      "           1       0.10      0.55      0.16        20\n",
      "\n",
      "    accuracy                           0.69       356\n",
      "   macro avg       0.53      0.62      0.49       356\n",
      "weighted avg       0.91      0.69      0.77       356\n",
      "\n"
     ]
    }
   ],
   "source": [
    "classifier = learner_DT.fit(X_res, y_res)\n",
    "predictions = classifier.predict(X_test)\n",
    "print(classification_report(y_test,predictions))"
   ]
  },
  {
   "attachments": {},
   "cell_type": "markdown",
   "metadata": {},
   "source": [
    "Condensed nearest neighbour"
   ]
  },
  {
   "cell_type": "code",
   "execution_count": 52,
   "metadata": {},
   "outputs": [
    {
     "name": "stdout",
     "output_type": "stream",
     "text": [
      "Resampled dataset shape Counter({0: 152, 1: 59})\n"
     ]
    }
   ],
   "source": [
    "import warnings\n",
    "warnings.simplefilter(\"ignore\")\n",
    "\n",
    "cnn = CondensedNearestNeighbour(random_state=42, n_jobs = -1)\n",
    "X_res, y_res = cnn.fit_resample(X_train, y_train)\n",
    "print('Resampled dataset shape %s' % Counter(y_res))"
   ]
  },
  {
   "cell_type": "code",
   "execution_count": 53,
   "metadata": {},
   "outputs": [
    {
     "data": {
      "image/png": "[encoded data removed]",
      "text/plain": [
       "<Figure size 432x288 with 1 Axes>"
      ]
     },
     "metadata": {
      "needs_background": "light"
     },
     "output_type": "display_data"
    }
   ],
   "source": [
    "pca = PCA(n_components=2)\n",
    "pca.fit(X_train)\n",
    "X_pca = pca.transform(X_res)\n",
    "\n",
    "plt.scatter(X_pca[:, 0], X_pca[:, 1], c=y_res, cmap=plt.cm.prism, edgecolor='k', alpha=0.7)\n",
    "plt.show()"
   ]
  },
  {
   "cell_type": "code",
   "execution_count": 54,
   "metadata": {},
   "outputs": [
    {
     "name": "stdout",
     "output_type": "stream",
     "text": [
      "              precision    recall  f1-score   support\n",
      "\n",
      "           0       0.96      0.93      0.94       336\n",
      "           1       0.19      0.30      0.24        20\n",
      "\n",
      "    accuracy                           0.89       356\n",
      "   macro avg       0.58      0.61      0.59       356\n",
      "weighted avg       0.91      0.89      0.90       356\n",
      "\n"
     ]
    }
   ],
   "source": [
    "classifier = learner_KNN.fit(X_res, y_res)\n",
    "predictions = classifier.predict(X_test)\n",
    "print(classification_report(y_test,predictions))"
   ]
  },
  {
   "cell_type": "code",
   "execution_count": 55,
   "metadata": {},
   "outputs": [
    {
     "name": "stdout",
     "output_type": "stream",
     "text": [
      "              precision    recall  f1-score   support\n",
      "\n",
      "           0       0.96      0.96      0.96       336\n",
      "           1       0.33      0.35      0.34        20\n",
      "\n",
      "    accuracy                           0.92       356\n",
      "   macro avg       0.65      0.65      0.65       356\n",
      "weighted avg       0.93      0.92      0.93       356\n",
      "\n"
     ]
    }
   ],
   "source": [
    "classifier = learner_DT.fit(X_res, y_res)\n",
    "predictions = classifier.predict(X_test)\n",
    "print(classification_report(y_test,predictions))"
   ]
  },
  {
   "attachments": {},
   "cell_type": "markdown",
   "metadata": {},
   "source": [
    "Tomek Links"
   ]
  },
  {
   "cell_type": "code",
   "execution_count": 56,
   "metadata": {},
   "outputs": [
    {
     "name": "stdout",
     "output_type": "stream",
     "text": [
      "Resampled dataset shape Counter({0: 974, 1: 59})\n"
     ]
    }
   ],
   "source": [
    "tl = TomekLinks()\n",
    "X_res, y_res = tl.fit_resample(X_train, y_train)\n",
    "print('Resampled dataset shape %s' % Counter(y_res))"
   ]
  },
  {
   "cell_type": "code",
   "execution_count": 57,
   "metadata": {},
   "outputs": [
    {
     "data": {
      "image/png": "[encoded data removed]",
      "text/plain": [
       "<Figure size 432x288 with 1 Axes>"
      ]
     },
     "metadata": {
      "needs_background": "light"
     },
     "output_type": "display_data"
    }
   ],
   "source": [
    "pca = PCA(n_components=2)\n",
    "pca.fit(X_train)\n",
    "X_pca = pca.transform(X_res)\n",
    "\n",
    "plt.scatter(X_pca[:, 0], X_pca[:, 1], c=y_res, cmap=plt.cm.prism, edgecolor='k', alpha=0.7)\n",
    "plt.show()"
   ]
  },
  {
   "cell_type": "code",
   "execution_count": 58,
   "metadata": {},
   "outputs": [
    {
     "name": "stdout",
     "output_type": "stream",
     "text": [
      "              precision    recall  f1-score   support\n",
      "\n",
      "           0       0.95      0.99      0.97       336\n",
      "           1       0.40      0.10      0.16        20\n",
      "\n",
      "    accuracy                           0.94       356\n",
      "   macro avg       0.67      0.55      0.56       356\n",
      "weighted avg       0.92      0.94      0.92       356\n",
      "\n"
     ]
    }
   ],
   "source": [
    "classifier = learner_KNN.fit(X_res, y_res)\n",
    "predictions = classifier.predict(X_test)\n",
    "print(classification_report(y_test,predictions))"
   ]
  },
  {
   "cell_type": "code",
   "execution_count": 59,
   "metadata": {},
   "outputs": [
    {
     "name": "stdout",
     "output_type": "stream",
     "text": [
      "              precision    recall  f1-score   support\n",
      "\n",
      "           0       0.95      0.98      0.97       336\n",
      "           1       0.40      0.20      0.27        20\n",
      "\n",
      "    accuracy                           0.94       356\n",
      "   macro avg       0.68      0.59      0.62       356\n",
      "weighted avg       0.92      0.94      0.93       356\n",
      "\n"
     ]
    }
   ],
   "source": [
    "classifier = learner_DT.fit(X_res, y_res)\n",
    "predictions = classifier.predict(X_test)\n",
    "print(classification_report(y_test,predictions))"
   ]
  },
  {
   "attachments": {},
   "cell_type": "markdown",
   "metadata": {},
   "source": [
    "Edited Nearest Neighbour"
   ]
  },
  {
   "cell_type": "code",
   "execution_count": 60,
   "metadata": {},
   "outputs": [
    {
     "name": "stdout",
     "output_type": "stream",
     "text": [
      "Resampled dataset shape Counter({0: 919, 1: 59})\n"
     ]
    }
   ],
   "source": [
    "enn = EditedNearestNeighbours()\n",
    "X_res, y_res = enn.fit_resample(X_train, y_train)\n",
    "print('Resampled dataset shape %s' % Counter(y_res))"
   ]
  },
  {
   "cell_type": "code",
   "execution_count": 61,
   "metadata": {},
   "outputs": [
    {
     "data": {
      "image/png": "[encoded data removed]",
      "text/plain": [
       "<Figure size 432x288 with 1 Axes>"
      ]
     },
     "metadata": {
      "needs_background": "light"
     },
     "output_type": "display_data"
    }
   ],
   "source": [
    "pca = PCA(n_components=2)\n",
    "pca.fit(X_train)\n",
    "X_pca = pca.transform(X_res)\n",
    "\n",
    "plt.scatter(X_pca[:, 0], X_pca[:, 1], c=y_res, cmap=plt.cm.prism, edgecolor='k', alpha=0.7)\n",
    "plt.show()"
   ]
  },
  {
   "cell_type": "code",
   "execution_count": 62,
   "metadata": {},
   "outputs": [
    {
     "name": "stdout",
     "output_type": "stream",
     "text": [
      "              precision    recall  f1-score   support\n",
      "\n",
      "           0       0.95      0.99      0.97       336\n",
      "           1       0.33      0.10      0.15        20\n",
      "\n",
      "    accuracy                           0.94       356\n",
      "   macro avg       0.64      0.54      0.56       356\n",
      "weighted avg       0.91      0.94      0.92       356\n",
      "\n"
     ]
    }
   ],
   "source": [
    "classifier = learner_KNN.fit(X_res, y_res)\n",
    "predictions = classifier.predict(X_test)\n",
    "print(classification_report(y_test,predictions))"
   ]
  },
  {
   "cell_type": "code",
   "execution_count": 63,
   "metadata": {},
   "outputs": [
    {
     "name": "stdout",
     "output_type": "stream",
     "text": [
      "              precision    recall  f1-score   support\n",
      "\n",
      "           0       0.95      0.96      0.95       336\n",
      "           1       0.21      0.20      0.21        20\n",
      "\n",
      "    accuracy                           0.91       356\n",
      "   macro avg       0.58      0.58      0.58       356\n",
      "weighted avg       0.91      0.91      0.91       356\n",
      "\n"
     ]
    }
   ],
   "source": [
    "classifier = learner_DT.fit(X_res, y_res)\n",
    "predictions = classifier.predict(X_test)\n",
    "print(classification_report(y_test,predictions))"
   ]
  },
  {
   "attachments": {},
   "cell_type": "markdown",
   "metadata": {},
   "source": [
    "Cluster Centroids"
   ]
  },
  {
   "cell_type": "code",
   "execution_count": 64,
   "metadata": {},
   "outputs": [
    {
     "name": "stdout",
     "output_type": "stream",
     "text": [
      "Resampled dataset shape Counter({0: 59, 1: 59})\n"
     ]
    }
   ],
   "source": [
    "from sklearn.cluster import KMeans\n",
    "from imblearn.under_sampling import ClusterCentroids\n",
    "\n",
    "cc = ClusterCentroids(\n",
    "    estimator=KMeans(n_init=1, random_state=0), random_state=42 # minibatch version is faster than Kmeans\n",
    ")\n",
    "X_res, y_res = cc.fit_resample(X_train, y_train)\n",
    "print('Resampled dataset shape %s' % Counter(y_res))"
   ]
  },
  {
   "cell_type": "code",
   "execution_count": 65,
   "metadata": {},
   "outputs": [
    {
     "name": "stdout",
     "output_type": "stream",
     "text": [
      "              precision    recall  f1-score   support\n",
      "\n",
      "           0       0.95      0.96      0.96       336\n",
      "           1       0.20      0.15      0.17        20\n",
      "\n",
      "    accuracy                           0.92       356\n",
      "   macro avg       0.58      0.56      0.56       356\n",
      "weighted avg       0.91      0.92      0.91       356\n",
      "\n"
     ]
    }
   ],
   "source": [
    "classifier = learner_KNN.fit(X_res, y_res)\n",
    "predictions = classifier.predict(X_test)\n",
    "print(classification_report(y_test,predictions))"
   ]
  },
  {
   "cell_type": "code",
   "execution_count": 66,
   "metadata": {},
   "outputs": [
    {
     "name": "stdout",
     "output_type": "stream",
     "text": [
      "              precision    recall  f1-score   support\n",
      "\n",
      "           0       0.94      0.43      0.59       336\n",
      "           1       0.05      0.55      0.10        20\n",
      "\n",
      "    accuracy                           0.44       356\n",
      "   macro avg       0.50      0.49      0.34       356\n",
      "weighted avg       0.89      0.44      0.56       356\n",
      "\n"
     ]
    }
   ],
   "source": [
    "classifier = learner_DT.fit(X_res, y_res)\n",
    "predictions = classifier.predict(X_test)\n",
    "print(classification_report(y_test,predictions))"
   ]
  },
  {
   "cell_type": "code",
   "execution_count": 67,
   "metadata": {},
   "outputs": [
    {
     "data": {
      "image/png": "[encoded data removed]",
      "text/plain": [
       "<Figure size 432x288 with 1 Axes>"
      ]
     },
     "metadata": {
      "needs_background": "light"
     },
     "output_type": "display_data"
    }
   ],
   "source": [
    "pca = PCA(n_components=2)\n",
    "pca.fit(X_train)\n",
    "X_pca = pca.transform(X_res)\n",
    "\n",
    "plt.scatter(X_pca[:, 0], X_pca[:, 1], c=y_res, cmap=plt.cm.prism, edgecolor='k', alpha=0.7)\n",
    "plt.legend([0,1])\n",
    "plt.show()"
   ]
  },
  {
   "attachments": {},
   "cell_type": "markdown",
   "metadata": {},
   "source": [
    "# Esperimento 2: Oversampling + Dim.Reduction + New classification with tuned hyperparameters"
   ]
  },
  {
   "attachments": {},
   "cell_type": "markdown",
   "metadata": {},
   "source": [
    "Random oversampler"
   ]
  },
  {
   "cell_type": "code",
   "execution_count": 68,
   "metadata": {},
   "outputs": [
    {
     "name": "stdout",
     "output_type": "stream",
     "text": [
      "Resampled dataset shape Counter({0: 984, 1: 984})\n"
     ]
    }
   ],
   "source": [
    "ros = RandomOverSampler(random_state=42)\n",
    "X_res, y_res = ros.fit_resample(X_train, y_train)\n",
    "print('Resampled dataset shape %s' % Counter(y_res))"
   ]
  },
  {
   "cell_type": "code",
   "execution_count": 69,
   "metadata": {},
   "outputs": [
    {
     "data": {
      "image/png": "[encoded data removed]",
      "text/plain": [
       "<Figure size 432x288 with 1 Axes>"
      ]
     },
     "metadata": {
      "needs_background": "light"
     },
     "output_type": "display_data"
    }
   ],
   "source": [
    "pca = PCA(n_components=2)\n",
    "pca.fit(X_train)\n",
    "X_pca = pca.transform(X_res)\n",
    "\n",
    "plt.scatter(X_pca[:, 0], X_pca[:, 1], c=y_res, cmap=plt.cm.prism, edgecolor='k', alpha=0.7)\n",
    "plt.show()"
   ]
  },
  {
   "cell_type": "code",
   "execution_count": 70,
   "metadata": {},
   "outputs": [
    {
     "name": "stdout",
     "output_type": "stream",
     "text": [
      "              precision    recall  f1-score   support\n",
      "\n",
      "           0       0.95      0.99      0.97       336\n",
      "           1       0.40      0.10      0.16        20\n",
      "\n",
      "    accuracy                           0.94       356\n",
      "   macro avg       0.67      0.55      0.56       356\n",
      "weighted avg       0.92      0.94      0.92       356\n",
      "\n"
     ]
    }
   ],
   "source": [
    "classifier = learner_KNN.fit(X_res, y_res)\n",
    "predictions = classifier.predict(X_test)\n",
    "print(classification_report(y_test,predictions))"
   ]
  },
  {
   "cell_type": "code",
   "execution_count": 71,
   "metadata": {},
   "outputs": [
    {
     "name": "stdout",
     "output_type": "stream",
     "text": [
      "              precision    recall  f1-score   support\n",
      "\n",
      "           0       0.94      0.86      0.90       336\n",
      "           1       0.06      0.15      0.09        20\n",
      "\n",
      "    accuracy                           0.82       356\n",
      "   macro avg       0.50      0.51      0.49       356\n",
      "weighted avg       0.89      0.82      0.86       356\n",
      "\n"
     ]
    }
   ],
   "source": [
    "classifier = learner_DT.fit(X_res, y_res)\n",
    "predictions = classifier.predict(X_test)\n",
    "print(classification_report(y_test,predictions))"
   ]
  },
  {
   "attachments": {},
   "cell_type": "markdown",
   "metadata": {},
   "source": [
    "smote"
   ]
  },
  {
   "cell_type": "code",
   "execution_count": 119,
   "metadata": {},
   "outputs": [
    {
     "name": "stdout",
     "output_type": "stream",
     "text": [
      "Resampled dataset shape Counter({0: 984, 1: 984})\n"
     ]
    }
   ],
   "source": [
    "sm = SMOTE(random_state=42)\n",
    "X_res, y_res = sm.fit_resample(X_train, y_train)\n",
    "print('Resampled dataset shape %s' % Counter(y_res))"
   ]
  },
  {
   "cell_type": "code",
   "execution_count": 120,
   "metadata": {},
   "outputs": [
    {
     "data": {
      "image/png": "[encoded data removed]",
      "text/plain": [
       "<Figure size 432x288 with 1 Axes>"
      ]
     },
     "metadata": {
      "needs_background": "light"
     },
     "output_type": "display_data"
    }
   ],
   "source": [
    "pca = PCA(n_components=2)\n",
    "pca.fit(X_train)\n",
    "X_pca = pca.transform(X_res)\n",
    "\n",
    "plt.scatter(X_pca[:, 0], X_pca[:, 1], c=y_res, cmap=plt.cm.prism, edgecolor='k', alpha=0.7)\n",
    "plt.legend([0,1])\n",
    "plt.show()"
   ]
  },
  {
   "cell_type": "code",
   "execution_count": 74,
   "metadata": {},
   "outputs": [
    {
     "name": "stdout",
     "output_type": "stream",
     "text": [
      "              precision    recall  f1-score   support\n",
      "\n",
      "           0       0.95      0.86      0.91       336\n",
      "           1       0.12      0.30      0.17        20\n",
      "\n",
      "    accuracy                           0.83       356\n",
      "   macro avg       0.53      0.58      0.54       356\n",
      "weighted avg       0.91      0.83      0.86       356\n",
      "\n"
     ]
    }
   ],
   "source": [
    "classifier = learner_KNN.fit(X_res, y_res)\n",
    "predictions = classifier.predict(X_test)\n",
    "print(classification_report(y_test,predictions))"
   ]
  },
  {
   "cell_type": "code",
   "execution_count": 75,
   "metadata": {},
   "outputs": [
    {
     "name": "stdout",
     "output_type": "stream",
     "text": [
      "              precision    recall  f1-score   support\n",
      "\n",
      "           0       0.95      0.94      0.95       336\n",
      "           1       0.17      0.20      0.18        20\n",
      "\n",
      "    accuracy                           0.90       356\n",
      "   macro avg       0.56      0.57      0.56       356\n",
      "weighted avg       0.91      0.90      0.90       356\n",
      "\n"
     ]
    }
   ],
   "source": [
    "classifier = learner_DT.fit(X_res, y_res)\n",
    "predictions = classifier.predict(X_test)\n",
    "print(classification_report(y_test,predictions))"
   ]
  },
  {
   "attachments": {},
   "cell_type": "markdown",
   "metadata": {},
   "source": [
    "adasyn"
   ]
  },
  {
   "cell_type": "code",
   "execution_count": 76,
   "metadata": {},
   "outputs": [
    {
     "name": "stdout",
     "output_type": "stream",
     "text": [
      "Resampled dataset shape Counter({0: 984, 1: 983})\n"
     ]
    }
   ],
   "source": [
    "ada = ADASYN(random_state=42)\n",
    "X_res, y_res = ada.fit_resample(X_train, y_train)\n",
    "print('Resampled dataset shape %s' % Counter(y_res))"
   ]
  },
  {
   "cell_type": "code",
   "execution_count": 77,
   "metadata": {},
   "outputs": [
    {
     "data": {
      "image/png": "[encoded data removed]",
      "text/plain": [
       "<Figure size 432x288 with 1 Axes>"
      ]
     },
     "metadata": {
      "needs_background": "light"
     },
     "output_type": "display_data"
    }
   ],
   "source": [
    "pca = PCA(n_components=2)\n",
    "pca.fit(X_train)\n",
    "X_pca = pca.transform(X_res)\n",
    "\n",
    "plt.scatter(X_pca[:, 0], X_pca[:, 1], c=y_res, cmap=plt.cm.prism, edgecolor='k', alpha=0.7)\n",
    "plt.show()"
   ]
  },
  {
   "cell_type": "code",
   "execution_count": 78,
   "metadata": {},
   "outputs": [
    {
     "name": "stdout",
     "output_type": "stream",
     "text": [
      "              precision    recall  f1-score   support\n",
      "\n",
      "           0       0.96      0.87      0.91       336\n",
      "           1       0.13      0.35      0.19        20\n",
      "\n",
      "    accuracy                           0.84       356\n",
      "   macro avg       0.55      0.61      0.55       356\n",
      "weighted avg       0.91      0.84      0.87       356\n",
      "\n"
     ]
    }
   ],
   "source": [
    "classifier = learner_KNN.fit(X_res, y_res)\n",
    "predictions = classifier.predict(X_test)\n",
    "print(classification_report(y_test,predictions))"
   ]
  },
  {
   "cell_type": "code",
   "execution_count": 79,
   "metadata": {},
   "outputs": [
    {
     "name": "stdout",
     "output_type": "stream",
     "text": [
      "              precision    recall  f1-score   support\n",
      "\n",
      "           0       0.96      0.93      0.94       336\n",
      "           1       0.23      0.35      0.27        20\n",
      "\n",
      "    accuracy                           0.90       356\n",
      "   macro avg       0.59      0.64      0.61       356\n",
      "weighted avg       0.92      0.90      0.91       356\n",
      "\n"
     ]
    }
   ],
   "source": [
    "classifier = learner_DT.fit(X_res, y_res)\n",
    "predictions = classifier.predict(X_test)\n",
    "print(classification_report(y_test,predictions))"
   ]
  },
  {
   "attachments": {},
   "cell_type": "markdown",
   "metadata": {},
   "source": [
    "# Dimensionality Reduction (Feature Selection)"
   ]
  },
  {
   "cell_type": "code",
   "execution_count": 80,
   "metadata": {},
   "outputs": [],
   "source": [
    "from sklearn.feature_selection import VarianceThreshold"
   ]
  },
  {
   "cell_type": "code",
   "execution_count": 81,
   "metadata": {},
   "outputs": [
    {
     "name": "stdout",
     "output_type": "stream",
     "text": [
      "0.02\n",
      "(1043, 265)\n",
      "DT - Accuracy 0.9382022471910112\n",
      "DT - F1 Score 0.6172043010752688\n",
      "KNN - Accuracy 0.9410112359550562\n",
      "KNN - F1 Score 0.5647161572052402\n",
      "0.04\n",
      "(1043, 265)\n",
      "DT - Accuracy 0.9382022471910112\n",
      "DT - F1 Score 0.6172043010752688\n",
      "KNN - Accuracy 0.9410112359550562\n",
      "KNN - F1 Score 0.5647161572052402\n",
      "0.06\n",
      "(1043, 265)\n",
      "DT - Accuracy 0.9382022471910112\n",
      "DT - F1 Score 0.6172043010752688\n",
      "KNN - Accuracy 0.9410112359550562\n",
      "KNN - F1 Score 0.5647161572052402\n",
      "0.08\n",
      "(1043, 263)\n",
      "DT - Accuracy 0.9382022471910112\n",
      "DT - F1 Score 0.6172043010752688\n",
      "KNN - Accuracy 0.9410112359550562\n",
      "KNN - F1 Score 0.5647161572052402\n",
      "0.1\n",
      "(1043, 263)\n",
      "DT - Accuracy 0.9382022471910112\n",
      "DT - F1 Score 0.6172043010752688\n",
      "KNN - Accuracy 0.9410112359550562\n",
      "KNN - F1 Score 0.5647161572052402\n",
      "0.12\n",
      "(1043, 262)\n",
      "DT - Accuracy 0.9382022471910112\n",
      "DT - F1 Score 0.6172043010752688\n",
      "KNN - Accuracy 0.9410112359550562\n",
      "KNN - F1 Score 0.5647161572052402\n",
      "0.15\n",
      "(1043, 257)\n",
      "DT - Accuracy 0.9382022471910112\n",
      "DT - F1 Score 0.6172043010752688\n",
      "KNN - Accuracy 0.9410112359550562\n",
      "KNN - F1 Score 0.5647161572052402\n",
      "0.16\n",
      "(1043, 257)\n",
      "DT - Accuracy 0.9382022471910112\n",
      "DT - F1 Score 0.6172043010752688\n",
      "KNN - Accuracy 0.9410112359550562\n",
      "KNN - F1 Score 0.5647161572052402\n",
      "0.25\n",
      "(1043, 253)\n",
      "DT - Accuracy 0.9382022471910112\n",
      "DT - F1 Score 0.6172043010752688\n",
      "KNN - Accuracy 0.9410112359550562\n",
      "KNN - F1 Score 0.5647161572052402\n",
      "1\n",
      "(1043, 52)\n",
      "DT - Accuracy 0.9438202247191011\n",
      "DT - F1 Score 0.530961791831357\n",
      "KNN - Accuracy 0.9466292134831461\n",
      "KNN - F1 Score 0.6585045690917353\n"
     ]
    }
   ],
   "source": [
    "#Let's test different Threshold for DT and KNN\n",
    "thresholds = [0.02, 0.04, 0.06, 0.08, 0.1, 0.12, 0.15, 0.16, 0.25, 1]\n",
    "for i in thresholds:\n",
    "    sel = VarianceThreshold(i)\n",
    "    print(str(i))\n",
    "    X_train_sel = sel.fit_transform(X_train)\n",
    "    print(X_train_sel.shape)\n",
    "    X_test_sel = sel.transform(X_test)\n",
    "\n",
    "    learner= DecisionTreeClassifier(max_depth=15,min_samples_leaf=10,min_samples_split=15)\n",
    "    learner.fit(X_train_sel, y_train)\n",
    "    y_pred = learner.predict(X_test_sel)\n",
    "    print('DT - Accuracy %s' % accuracy_score(y_test, y_pred))\n",
    "    print('DT - F1 Score %s' % f1_score(y_test, y_pred,average=\"macro\"))\n",
    "\n",
    "    learner= KNeighborsClassifier(n_neighbors= 2, metric= 'euclidean', weights= 'distance')\n",
    "    learner.fit(X_train_sel, y_train)\n",
    "    y_pred = learner.predict(X_test_sel)\n",
    "    print('KNN - Accuracy %s' % accuracy_score(y_test, y_pred))\n",
    "    print('KNN - F1 Score %s' % f1_score(y_test, y_pred,average=\"macro\"))"
   ]
  },
  {
   "cell_type": "code",
   "execution_count": 82,
   "metadata": {},
   "outputs": [
    {
     "name": "stdout",
     "output_type": "stream",
     "text": [
      "0.02\n",
      "(1828, 191)\n",
      "DT - Accuracy 0.7035256410256411\n",
      "DT - F1 Score 0.7031894789617801\n",
      "KNN - Accuracy 0.5576923076923077\n",
      "KNN - F1 Score 0.5487170887137347\n",
      "0.04\n",
      "(1828, 187)\n",
      "DT - Accuracy 0.6923076923076923\n",
      "DT - F1 Score 0.6916869106929633\n",
      "KNN - Accuracy 0.5576923076923077\n",
      "KNN - F1 Score 0.5487170887137347\n",
      "0.06\n",
      "(1828, 182)\n",
      "DT - Accuracy 0.6971153846153846\n",
      "DT - F1 Score 0.6969838671966332\n",
      "KNN - Accuracy 0.5576923076923077\n",
      "KNN - F1 Score 0.5487170887137347\n",
      "0.08\n",
      "(1828, 178)\n",
      "DT - Accuracy 0.7243589743589743\n",
      "DT - F1 Score 0.723438466295609\n",
      "KNN - Accuracy 0.5576923076923077\n",
      "KNN - F1 Score 0.5487170887137347\n",
      "0.1\n",
      "(1828, 177)\n",
      "DT - Accuracy 0.7211538461538461\n",
      "DT - F1 Score 0.7201158966004351\n",
      "KNN - Accuracy 0.5576923076923077\n",
      "KNN - F1 Score 0.5487170887137347\n",
      "0.12\n",
      "(1828, 174)\n",
      "DT - Accuracy 0.717948717948718\n",
      "DT - F1 Score 0.71689883794067\n",
      "KNN - Accuracy 0.5576923076923077\n",
      "KNN - F1 Score 0.5487170887137347\n",
      "0.15\n",
      "(1828, 165)\n",
      "DT - Accuracy 0.6746794871794872\n",
      "DT - F1 Score 0.6706524706524707\n",
      "KNN - Accuracy 0.5576923076923077\n",
      "KNN - F1 Score 0.5487170887137347\n",
      "0.16\n",
      "(1828, 163)\n",
      "DT - Accuracy 0.6778846153846154\n",
      "DT - F1 Score 0.6741277309963705\n",
      "KNN - Accuracy 0.5576923076923077\n",
      "KNN - F1 Score 0.5487170887137347\n",
      "0.25\n",
      "(1828, 152)\n",
      "DT - Accuracy 0.6923076923076923\n",
      "DT - F1 Score 0.688609805796981\n",
      "KNN - Accuracy 0.5576923076923077\n",
      "KNN - F1 Score 0.5487170887137347\n",
      "0.5\n",
      "(1828, 146)\n",
      "DT - Accuracy 0.6794871794871795\n",
      "DT - F1 Score 0.6760797342192691\n",
      "KNN - Accuracy 0.5576923076923077\n",
      "KNN - F1 Score 0.5487170887137347\n",
      "0.7\n",
      "(1828, 143)\n",
      "DT - Accuracy 0.6891025641025641\n",
      "DT - F1 Score 0.6860027183216957\n",
      "KNN - Accuracy 0.5576923076923077\n",
      "KNN - F1 Score 0.5487170887137347\n"
     ]
    }
   ],
   "source": [
    "# Proviamo lo stesso esperimento però sui dati non normalizzati\n",
    "\n",
    "df_train_pure=pd.read_csv(\"./Dataset_prepared/Prepared_train.csv\")\n",
    "df_test_pure=pd.read_csv(\"./Dataset_prepared/Prepared_test.csv\")\n",
    "\n",
    "df_train_pure.drop('actor',axis=1,inplace=True)\n",
    "df_train_pure.drop('filename',axis=1,inplace=True)\n",
    "\n",
    "df_test_pure.drop('actor',axis=1,inplace=True)\n",
    "df_test_pure.drop('filename',axis=1,inplace=True)\n",
    "\n",
    "le=preprocessing.LabelEncoder()\n",
    "c = [\"statement\",\"repetition\",\"sex\",\"emotional_intensity\",\"vocal_channel\"]\n",
    "for i in c:\n",
    "    df_train_pure[i]=le.fit_transform(df_train_pure[i])\n",
    "\n",
    "for i in c:\n",
    "    df_test_pure[i]=le.fit_transform(df_test_pure[i])\n",
    "df_train_pure = pd.get_dummies(df_train_pure, columns=categorical_col)\n",
    "\n",
    "df_test_pure = pd.get_dummies(df_test_pure, columns=categorical_col)   \n",
    "col=[x for x in df_train_pure.columns if x!=\"emotional_intensity\"]\n",
    "\n",
    "\n",
    "   \n",
    "X_train_pure=df_train_pure[col].values\n",
    "y_train_pure = np.array(df_train_pure[\"emotional_intensity\"])\n",
    "\n",
    "X_test_pure=df_test_pure[col].values\n",
    "y_test_pure = np.array(df_test_pure[\"emotional_intensity\"])\n",
    "\n",
    "\n",
    "\n",
    "#Let's test different Threshold for DT and KNN\n",
    "thresholds = [0.02, 0.04, 0.06, 0.08, 0.1, 0.12, 0.15, 0.16, 0.25,0.50,0.70]\n",
    "for i in thresholds:\n",
    "    sel = VarianceThreshold(i)\n",
    "    print(str(i))\n",
    "    X_train_sel = sel.fit_transform(X_train_pure)\n",
    "    print(X_train_sel.shape)\n",
    "    X_test_sel = sel.transform(X_test_pure)\n",
    "\n",
    "    learner= DecisionTreeClassifier(max_depth=15,min_samples_leaf=10,min_samples_split=15)\n",
    "    learner.fit(X_train_sel, y_train_pure)\n",
    "    y_pred = learner.predict(X_test_sel)\n",
    "    print('DT - Accuracy %s' % accuracy_score(y_test_pure, y_pred))\n",
    "    print('DT - F1 Score %s' % f1_score(y_test_pure, y_pred,average=\"macro\"))\n",
    "\n",
    "    learner= KNeighborsClassifier(n_neighbors= 2, metric= 'euclidean', weights= 'distance')\n",
    "    learner.fit(X_train_sel, y_train_pure)\n",
    "    y_pred = learner.predict(X_test_sel)\n",
    "    print('KNN - Accuracy %s' % accuracy_score(y_test_pure, y_pred))\n",
    "    print('KNN - F1 Score %s' % f1_score(y_test_pure, y_pred,average=\"macro\"))\n",
    "\n",
    "\n"
   ]
  },
  {
   "attachments": {},
   "cell_type": "markdown",
   "metadata": {},
   "source": [
    "Univariate Feature Selection "
   ]
  },
  {
   "cell_type": "code",
   "execution_count": 83,
   "metadata": {},
   "outputs": [],
   "source": [
    "from sklearn.feature_selection import SelectKBest\n"
   ]
  },
  {
   "cell_type": "code",
   "execution_count": 84,
   "metadata": {},
   "outputs": [
    {
     "name": "stdout",
     "output_type": "stream",
     "text": [
      "20\n",
      "(1043, 20)\n",
      "DT - Accuracy 0.9382022471910112\n",
      "DT - F1 Score 0.6172043010752688\n",
      "KNN - Accuracy 0.9297752808988764\n",
      "KNN - F1 Score 0.6243933319265668\n",
      "21\n",
      "(1043, 21)\n",
      "DT - Accuracy 0.9382022471910112\n",
      "DT - F1 Score 0.6172043010752688\n",
      "KNN - Accuracy 0.9213483146067416\n",
      "KNN - F1 Score 0.5904010519395135\n",
      "22\n",
      "(1043, 22)\n",
      "DT - Accuracy 0.9382022471910112\n",
      "DT - F1 Score 0.6172043010752688\n",
      "KNN - Accuracy 0.9241573033707865\n",
      "KNN - F1 Score 0.5943447984806922\n",
      "23\n",
      "(1043, 23)\n",
      "DT - Accuracy 0.9382022471910112\n",
      "DT - F1 Score 0.6172043010752688\n",
      "KNN - Accuracy 0.9325842696629213\n",
      "KNN - F1 Score 0.6073529411764707\n",
      "24\n",
      "(1043, 24)\n",
      "DT - Accuracy 0.9382022471910112\n",
      "DT - F1 Score 0.6172043010752688\n",
      "KNN - Accuracy 0.9297752808988764\n",
      "KNN - F1 Score 0.6243933319265668\n",
      "25\n",
      "(1043, 25)\n",
      "DT - Accuracy 0.9382022471910112\n",
      "DT - F1 Score 0.6172043010752688\n",
      "KNN - Accuracy 0.9185393258426966\n",
      "KNN - F1 Score 0.6066598087400465\n",
      "26\n",
      "(1043, 26)\n",
      "DT - Accuracy 0.9353932584269663\n",
      "DT - F1 Score 0.6345784799393047\n",
      "KNN - Accuracy 0.9269662921348315\n",
      "KNN - F1 Score 0.5984730175255943\n",
      "27\n",
      "(1043, 27)\n",
      "DT - Accuracy 0.9353932584269663\n",
      "DT - F1 Score 0.6345784799393047\n",
      "KNN - Accuracy 0.9353932584269663\n",
      "KNN - F1 Score 0.6544418653724415\n",
      "28\n",
      "(1043, 28)\n",
      "DT - Accuracy 0.9353932584269663\n",
      "DT - F1 Score 0.6345784799393047\n",
      "KNN - Accuracy 0.9353932584269663\n",
      "KNN - F1 Score 0.6544418653724415\n",
      "29\n",
      "(1043, 29)\n",
      "DT - Accuracy 0.9353932584269663\n",
      "DT - F1 Score 0.6345784799393047\n",
      "KNN - Accuracy 0.9382022471910112\n",
      "KNN - F1 Score 0.6602463994447336\n",
      "30\n",
      "(1043, 30)\n",
      "DT - Accuracy 0.9353932584269663\n",
      "DT - F1 Score 0.6345784799393047\n",
      "KNN - Accuracy 0.9410112359550562\n",
      "KNN - F1 Score 0.6663542642924086\n",
      "31\n",
      "(1043, 31)\n",
      "DT - Accuracy 0.9353932584269663\n",
      "DT - F1 Score 0.6345784799393047\n",
      "KNN - Accuracy 0.9382022471910112\n",
      "KNN - F1 Score 0.6602463994447336\n",
      "32\n",
      "(1043, 32)\n",
      "DT - Accuracy 0.9353932584269663\n",
      "DT - F1 Score 0.6345784799393047\n",
      "KNN - Accuracy 0.9382022471910112\n",
      "KNN - F1 Score 0.678172255095332\n",
      "33\n",
      "(1043, 33)\n",
      "DT - Accuracy 0.9353932584269663\n",
      "DT - F1 Score 0.6345784799393047\n",
      "KNN - Accuracy 0.949438202247191\n",
      "KNN - F1 Score 0.7220197813638729\n",
      "34\n",
      "(1043, 34)\n",
      "DT - Accuracy 0.9353932584269663\n",
      "DT - F1 Score 0.6345784799393047\n",
      "KNN - Accuracy 0.949438202247191\n",
      "KNN - F1 Score 0.7220197813638729\n",
      "35\n",
      "(1043, 35)\n",
      "DT - Accuracy 0.9353932584269663\n",
      "DT - F1 Score 0.6345784799393047\n",
      "KNN - Accuracy 0.9466292134831461\n",
      "KNN - F1 Score 0.7145389322641909\n",
      "36\n",
      "(1043, 36)\n",
      "DT - Accuracy 0.9353932584269663\n",
      "DT - F1 Score 0.6345784799393047\n",
      "KNN - Accuracy 0.9438202247191011\n",
      "KNN - F1 Score 0.6911330904043033\n",
      "37\n",
      "(1043, 37)\n",
      "DT - Accuracy 0.9353932584269663\n",
      "DT - F1 Score 0.6345784799393047\n",
      "KNN - Accuracy 0.9438202247191011\n",
      "KNN - F1 Score 0.6727941176470588\n",
      "38\n",
      "(1043, 38)\n",
      "DT - Accuracy 0.9382022471910112\n",
      "DT - F1 Score 0.6172043010752688\n",
      "KNN - Accuracy 0.9382022471910112\n",
      "KNN - F1 Score 0.6400735294117648\n",
      "39\n",
      "(1043, 39)\n",
      "DT - Accuracy 0.9382022471910112\n",
      "DT - F1 Score 0.6172043010752688\n",
      "KNN - Accuracy 0.9382022471910112\n",
      "KNN - F1 Score 0.6400735294117648\n",
      "40\n",
      "(1043, 40)\n",
      "DT - Accuracy 0.9382022471910112\n",
      "DT - F1 Score 0.6172043010752688\n",
      "KNN - Accuracy 0.9325842696629213\n",
      "KNN - F1 Score 0.6073529411764707\n",
      "41\n",
      "(1043, 41)\n",
      "DT - Accuracy 0.9382022471910112\n",
      "DT - F1 Score 0.6172043010752688\n",
      "KNN - Accuracy 0.9325842696629213\n",
      "KNN - F1 Score 0.6073529411764707\n",
      "42\n",
      "(1043, 42)\n",
      "DT - Accuracy 0.9382022471910112\n",
      "DT - F1 Score 0.6172043010752688\n",
      "KNN - Accuracy 0.9353932584269663\n",
      "KNN - F1 Score 0.6121453270806688\n",
      "43\n",
      "(1043, 43)\n",
      "DT - Accuracy 0.9382022471910112\n",
      "DT - F1 Score 0.6172043010752688\n",
      "KNN - Accuracy 0.9241573033707865\n",
      "KNN - F1 Score 0.5943447984806922\n",
      "44\n",
      "(1043, 44)\n",
      "DT - Accuracy 0.9382022471910112\n",
      "DT - F1 Score 0.6172043010752688\n",
      "KNN - Accuracy 0.9353932584269663\n",
      "KNN - F1 Score 0.6544418653724415\n",
      "45\n",
      "(1043, 45)\n",
      "DT - Accuracy 0.9382022471910112\n",
      "DT - F1 Score 0.6172043010752688\n",
      "KNN - Accuracy 0.9325842696629213\n",
      "KNN - F1 Score 0.6489151873767258\n",
      "46\n",
      "(1043, 46)\n",
      "DT - Accuracy 0.9382022471910112\n",
      "DT - F1 Score 0.6172043010752688\n",
      "KNN - Accuracy 0.9353932584269663\n",
      "KNN - F1 Score 0.6345784799393047\n",
      "47\n",
      "(1043, 47)\n",
      "DT - Accuracy 0.9382022471910112\n",
      "DT - F1 Score 0.6172043010752688\n",
      "KNN - Accuracy 0.9325842696629213\n",
      "KNN - F1 Score 0.6073529411764707\n",
      "48\n",
      "(1043, 48)\n",
      "DT - Accuracy 0.9382022471910112\n",
      "DT - F1 Score 0.6172043010752688\n",
      "KNN - Accuracy 0.9325842696629213\n",
      "KNN - F1 Score 0.6293597084851639\n",
      "49\n",
      "(1043, 49)\n",
      "DT - Accuracy 0.9382022471910112\n",
      "DT - F1 Score 0.6172043010752688\n",
      "KNN - Accuracy 0.9353932584269663\n",
      "KNN - F1 Score 0.6345784799393047\n",
      "50\n",
      "(1043, 50)\n",
      "DT - Accuracy 0.9382022471910112\n",
      "DT - F1 Score 0.6172043010752688\n",
      "KNN - Accuracy 0.9353932584269663\n",
      "KNN - F1 Score 0.6544418653724415\n",
      "51\n",
      "(1043, 51)\n",
      "DT - Accuracy 0.9382022471910112\n",
      "DT - F1 Score 0.6172043010752688\n",
      "KNN - Accuracy 0.9297752808988764\n",
      "KNN - F1 Score 0.6436436436436437\n",
      "52\n",
      "(1043, 52)\n",
      "DT - Accuracy 0.9382022471910112\n",
      "DT - F1 Score 0.6172043010752688\n",
      "KNN - Accuracy 0.9353932584269663\n",
      "KNN - F1 Score 0.6721521521521521\n",
      "53\n",
      "(1043, 53)\n",
      "DT - Accuracy 0.9382022471910112\n",
      "DT - F1 Score 0.6172043010752688\n",
      "KNN - Accuracy 0.9410112359550562\n",
      "KNN - F1 Score 0.7006606606606607\n",
      "54\n",
      "(1043, 54)\n",
      "DT - Accuracy 0.9382022471910112\n",
      "DT - F1 Score 0.6172043010752688\n",
      "KNN - Accuracy 0.9410112359550562\n",
      "KNN - F1 Score 0.7006606606606607\n",
      "55\n",
      "(1043, 55)\n",
      "DT - Accuracy 0.9382022471910112\n",
      "DT - F1 Score 0.6172043010752688\n",
      "KNN - Accuracy 0.9382022471910112\n",
      "KNN - F1 Score 0.6942058410120256\n",
      "56\n",
      "(1043, 56)\n",
      "DT - Accuracy 0.9382022471910112\n",
      "DT - F1 Score 0.6172043010752688\n",
      "KNN - Accuracy 0.9410112359550562\n",
      "KNN - F1 Score 0.7006606606606607\n",
      "57\n",
      "(1043, 57)\n",
      "DT - Accuracy 0.9382022471910112\n",
      "DT - F1 Score 0.6172043010752688\n",
      "KNN - Accuracy 0.9382022471910112\n",
      "KNN - F1 Score 0.678172255095332\n",
      "58\n",
      "(1043, 58)\n",
      "DT - Accuracy 0.9382022471910112\n",
      "DT - F1 Score 0.6172043010752688\n",
      "KNN - Accuracy 0.9382022471910112\n",
      "KNN - F1 Score 0.678172255095332\n",
      "59\n",
      "(1043, 59)\n",
      "DT - Accuracy 0.9382022471910112\n",
      "DT - F1 Score 0.6172043010752688\n",
      "KNN - Accuracy 0.9353932584269663\n",
      "KNN - F1 Score 0.6721521521521521\n"
     ]
    }
   ],
   "source": [
    "#Let's test different Threshold for DT and KNN\n",
    "for i in range(20, 60):\n",
    "    sel = SelectKBest(k=i)\n",
    "    print(str(i))\n",
    "    X_train_sel = sel.fit_transform(X_train, y_train)\n",
    "    print(X_train_sel.shape)\n",
    "    X_test_sel = sel.transform(X_test)\n",
    "\n",
    "    learner= DecisionTreeClassifier(max_depth=15,min_samples_leaf=10,min_samples_split=15)\n",
    "    learner.fit(X_train_sel, y_train)\n",
    "    y_pred = learner.predict(X_test_sel)\n",
    "    print('DT - Accuracy %s' % accuracy_score(y_test, y_pred))\n",
    "    print('DT - F1 Score %s' % f1_score(y_test, y_pred,average=\"macro\"))\n",
    "\n",
    "    learner= KNeighborsClassifier(n_neighbors= 2, metric= 'euclidean', weights= 'distance')\n",
    "    learner.fit(X_train_sel, y_train)\n",
    "    y_pred = learner.predict(X_test_sel)\n",
    "    print('KNN - Accuracy %s' % accuracy_score(y_test, y_pred))\n",
    "    print('KNN - F1 Score %s' % f1_score(y_test, y_pred,average=\"macro\"))"
   ]
  },
  {
   "attachments": {},
   "cell_type": "markdown",
   "metadata": {},
   "source": [
    "Selkect from model "
   ]
  },
  {
   "cell_type": "code",
   "execution_count": 85,
   "metadata": {},
   "outputs": [],
   "source": [
    "from sklearn.feature_selection import SelectFromModel\n"
   ]
  },
  {
   "cell_type": "code",
   "execution_count": 86,
   "metadata": {},
   "outputs": [
    {
     "name": "stdout",
     "output_type": "stream",
     "text": [
      "New dimension:(1043, 12)\n",
      "\n",
      "              precision    recall  f1-score   support\n",
      "\n",
      "           0       0.96      0.96      0.96       336\n",
      "           1       0.25      0.25      0.25        20\n",
      "\n",
      "    accuracy                           0.92       356\n",
      "   macro avg       0.60      0.60      0.60       356\n",
      "weighted avg       0.92      0.92      0.92       356\n",
      "\n"
     ]
    }
   ],
   "source": [
    "sel = SelectFromModel(DecisionTreeClassifier(max_depth=10, min_samples_split=2, min_samples_leaf=20))\n",
    "X_train_sel = sel.fit_transform(X_train, y_train)\n",
    "print(f\"New dimension:{X_train_sel.shape}\\n\")\n",
    "\n",
    "X_test_sel = sel.transform(X_test)\n",
    "clf =KNeighborsClassifier(n_neighbors= 2, metric= 'euclidean', weights= 'distance')\n",
    "clf.fit(X_train_sel, y_train)\n",
    "y_pred = clf.predict(X_test_sel)\n",
    "print(classification_report(y_test, y_pred))\n",
    "\n",
    "# Ho fatto selezione sul modello del decision tree e testato il knn nella nuova dimensione"
   ]
  },
  {
   "attachments": {},
   "cell_type": "markdown",
   "metadata": {},
   "source": [
    "Recursive Feature elimination"
   ]
  },
  {
   "cell_type": "code",
   "execution_count": 87,
   "metadata": {},
   "outputs": [],
   "source": [
    "from sklearn.feature_selection import RFE"
   ]
  },
  {
   "cell_type": "code",
   "execution_count": 88,
   "metadata": {},
   "outputs": [
    {
     "name": "stdout",
     "output_type": "stream",
     "text": [
      "20\n",
      " DT New dimension: (1043, 20)\n",
      "DT - Accuracy 0.9382022471910112\n",
      "DT - F1 Score 0.6172043010752688\n",
      "KNN - Accuracy 0.9269662921348315\n",
      "KNN - F1 Score 0.5984730175255943\n",
      "21\n",
      " DT New dimension: (1043, 21)\n",
      "DT - Accuracy 0.9382022471910112\n",
      "DT - F1 Score 0.6172043010752688\n",
      "KNN - Accuracy 0.9325842696629213\n",
      "KNN - F1 Score 0.6073529411764707\n",
      "22\n",
      " DT New dimension: (1043, 22)\n",
      "DT - Accuracy 0.9382022471910112\n",
      "DT - F1 Score 0.6172043010752688\n",
      "KNN - Accuracy 0.9269662921348315\n",
      "KNN - F1 Score 0.5984730175255943\n",
      "23\n",
      " DT New dimension: (1043, 23)\n",
      "DT - Accuracy 0.9382022471910112\n",
      "DT - F1 Score 0.6172043010752688\n",
      "KNN - Accuracy 0.9353932584269663\n",
      "KNN - F1 Score 0.6121453270806688\n",
      "24\n",
      " DT New dimension: (1043, 24)\n",
      "DT - Accuracy 0.9382022471910112\n",
      "DT - F1 Score 0.6172043010752688\n",
      "KNN - Accuracy 0.9241573033707865\n",
      "KNN - F1 Score 0.5943447984806922\n",
      "25\n",
      " DT New dimension: (1043, 25)\n",
      "DT - Accuracy 0.9382022471910112\n",
      "DT - F1 Score 0.6172043010752688\n",
      "KNN - Accuracy 0.9241573033707865\n",
      "KNN - F1 Score 0.5943447984806922\n",
      "26\n",
      " DT New dimension: (1043, 26)\n",
      "DT - Accuracy 0.9382022471910112\n",
      "DT - F1 Score 0.6172043010752688\n",
      "KNN - Accuracy 0.9297752808988764\n",
      "KNN - F1 Score 0.5784188337833357\n",
      "27\n",
      " DT New dimension: (1043, 27)\n",
      "DT - Accuracy 0.9382022471910112\n",
      "DT - F1 Score 0.6172043010752688\n",
      "KNN - Accuracy 0.9213483146067416\n",
      "KNN - F1 Score 0.5419117647058824\n",
      "28\n",
      " DT New dimension: (1043, 28)\n",
      "DT - Accuracy 0.9382022471910112\n",
      "DT - F1 Score 0.6172043010752688\n",
      "KNN - Accuracy 0.9353932584269663\n",
      "KNN - F1 Score 0.6121453270806688\n",
      "29\n",
      " DT New dimension: (1043, 29)\n",
      "DT - Accuracy 0.9382022471910112\n",
      "DT - F1 Score 0.6172043010752688\n",
      "KNN - Accuracy 0.9353932584269663\n",
      "KNN - F1 Score 0.5866107941636796\n",
      "30\n",
      " DT New dimension: (1043, 30)\n",
      "DT - Accuracy 0.9382022471910112\n",
      "DT - F1 Score 0.6172043010752688\n",
      "KNN - Accuracy 0.9241573033707865\n",
      "KNN - F1 Score 0.5943447984806922\n",
      "31\n",
      " DT New dimension: (1043, 31)\n",
      "DT - Accuracy 0.9382022471910112\n",
      "DT - F1 Score 0.6172043010752688\n",
      "KNN - Accuracy 0.9185393258426966\n",
      "KNN - F1 Score 0.5642962650348174\n",
      "32\n",
      " DT New dimension: (1043, 32)\n",
      "DT - Accuracy 0.9382022471910112\n",
      "DT - F1 Score 0.6172043010752688\n",
      "KNN - Accuracy 0.9325842696629213\n",
      "KNN - F1 Score 0.6073529411764707\n",
      "33\n",
      " DT New dimension: (1043, 33)\n",
      "DT - Accuracy 0.9382022471910112\n",
      "DT - F1 Score 0.6172043010752688\n",
      "KNN - Accuracy 0.9325842696629213\n",
      "KNN - F1 Score 0.5824046920821114\n",
      "34\n",
      " DT New dimension: (1043, 34)\n",
      "DT - Accuracy 0.9382022471910112\n",
      "DT - F1 Score 0.6172043010752688\n",
      "KNN - Accuracy 0.9466292134831461\n",
      "KNN - F1 Score 0.6342795350094621\n",
      "35\n",
      " DT New dimension: (1043, 35)\n",
      "DT - Accuracy 0.9382022471910112\n",
      "DT - F1 Score 0.6172043010752688\n",
      "KNN - Accuracy 0.9325842696629213\n",
      "KNN - F1 Score 0.5538847117794486\n",
      "36\n",
      " DT New dimension: (1043, 36)\n",
      "DT - Accuracy 0.9382022471910112\n",
      "DT - F1 Score 0.6172043010752688\n",
      "KNN - Accuracy 0.9325842696629213\n",
      "KNN - F1 Score 0.6073529411764707\n",
      "37\n",
      " DT New dimension: (1043, 37)\n",
      "DT - Accuracy 0.9382022471910112\n",
      "DT - F1 Score 0.6172043010752688\n",
      "KNN - Accuracy 0.9325842696629213\n",
      "KNN - F1 Score 0.6293597084851639\n",
      "38\n",
      " DT New dimension: (1043, 38)\n",
      "DT - Accuracy 0.9382022471910112\n",
      "DT - F1 Score 0.6172043010752688\n",
      "KNN - Accuracy 0.9241573033707865\n",
      "KNN - F1 Score 0.5710269112330968\n",
      "39\n",
      " DT New dimension: (1043, 39)\n",
      "DT - Accuracy 0.9382022471910112\n",
      "DT - F1 Score 0.6172043010752688\n",
      "KNN - Accuracy 0.9353932584269663\n",
      "KNN - F1 Score 0.5866107941636796\n",
      "40\n",
      " DT New dimension: (1043, 40)\n",
      "DT - Accuracy 0.9382022471910112\n",
      "DT - F1 Score 0.6172043010752688\n",
      "KNN - Accuracy 0.9241573033707865\n",
      "KNN - F1 Score 0.5147170192356237\n",
      "41\n",
      " DT New dimension: (1043, 41)\n",
      "DT - Accuracy 0.9382022471910112\n",
      "DT - F1 Score 0.6172043010752688\n",
      "KNN - Accuracy 0.9325842696629213\n",
      "KNN - F1 Score 0.5538847117794486\n",
      "42\n",
      " DT New dimension: (1043, 42)\n",
      "DT - Accuracy 0.9382022471910112\n",
      "DT - F1 Score 0.6172043010752688\n",
      "KNN - Accuracy 0.9213483146067416\n",
      "KNN - F1 Score 0.5904010519395135\n",
      "43\n",
      " DT New dimension: (1043, 43)\n",
      "DT - Accuracy 0.9382022471910112\n",
      "DT - F1 Score 0.6172043010752688\n",
      "KNN - Accuracy 0.9353932584269663\n",
      "KNN - F1 Score 0.5866107941636796\n",
      "44\n",
      " DT New dimension: (1043, 44)\n",
      "DT - Accuracy 0.9382022471910112\n",
      "DT - F1 Score 0.6172043010752688\n",
      "KNN - Accuracy 0.9438202247191011\n",
      "KNN - F1 Score 0.6282372598162071\n",
      "45\n",
      " DT New dimension: (1043, 45)\n",
      "DT - Accuracy 0.9382022471910112\n",
      "DT - F1 Score 0.6172043010752688\n",
      "KNN - Accuracy 0.9269662921348315\n",
      "KNN - F1 Score 0.5476050830889541\n",
      "46\n",
      " DT New dimension: (1043, 46)\n",
      "DT - Accuracy 0.9382022471910112\n",
      "DT - F1 Score 0.6172043010752688\n",
      "KNN - Accuracy 0.9410112359550562\n",
      "KNN - F1 Score 0.5957826439578264\n",
      "47\n",
      " DT New dimension: (1043, 47)\n",
      "DT - Accuracy 0.9382022471910112\n",
      "DT - F1 Score 0.6172043010752688\n",
      "KNN - Accuracy 0.9325842696629213\n",
      "KNN - F1 Score 0.5824046920821114\n",
      "48\n",
      " DT New dimension: (1043, 48)\n",
      "DT - Accuracy 0.9382022471910112\n",
      "DT - F1 Score 0.6172043010752688\n",
      "KNN - Accuracy 0.9353932584269663\n",
      "KNN - F1 Score 0.6121453270806688\n",
      "49\n",
      " DT New dimension: (1043, 49)\n",
      "DT - Accuracy 0.9382022471910112\n",
      "DT - F1 Score 0.6172043010752688\n",
      "KNN - Accuracy 0.9297752808988764\n",
      "KNN - F1 Score 0.6028026955862008\n",
      "50\n",
      " DT New dimension: (1043, 50)\n",
      "DT - Accuracy 0.9382022471910112\n",
      "DT - F1 Score 0.6172043010752688\n",
      "KNN - Accuracy 0.9466292134831461\n",
      "KNN - F1 Score 0.6585045690917353\n",
      "51\n",
      " DT New dimension: (1043, 51)\n",
      "DT - Accuracy 0.9382022471910112\n",
      "DT - F1 Score 0.6172043010752688\n",
      "KNN - Accuracy 0.9410112359550562\n",
      "KNN - F1 Score 0.6225576816277074\n",
      "52\n",
      " DT New dimension: (1043, 52)\n",
      "DT - Accuracy 0.9382022471910112\n",
      "DT - F1 Score 0.6172043010752688\n",
      "KNN - Accuracy 0.9297752808988764\n",
      "KNN - F1 Score 0.6028026955862008\n",
      "53\n",
      " DT New dimension: (1043, 53)\n",
      "DT - Accuracy 0.9382022471910112\n",
      "DT - F1 Score 0.6172043010752688\n",
      "KNN - Accuracy 0.9410112359550562\n",
      "KNN - F1 Score 0.6225576816277074\n",
      "54\n",
      " DT New dimension: (1043, 54)\n",
      "DT - Accuracy 0.9382022471910112\n",
      "DT - F1 Score 0.6172043010752688\n",
      "KNN - Accuracy 0.9269662921348315\n",
      "KNN - F1 Score 0.5984730175255943\n",
      "55\n",
      " DT New dimension: (1043, 55)\n",
      "DT - Accuracy 0.9382022471910112\n",
      "DT - F1 Score 0.6172043010752688\n",
      "KNN - Accuracy 0.9297752808988764\n",
      "KNN - F1 Score 0.6028026955862008\n",
      "56\n",
      " DT New dimension: (1043, 56)\n",
      "DT - Accuracy 0.9382022471910112\n",
      "DT - F1 Score 0.6172043010752688\n",
      "KNN - Accuracy 0.9325842696629213\n",
      "KNN - F1 Score 0.6073529411764707\n",
      "57\n",
      " DT New dimension: (1043, 57)\n",
      "DT - Accuracy 0.9382022471910112\n",
      "DT - F1 Score 0.6172043010752688\n",
      "KNN - Accuracy 0.9382022471910112\n",
      "KNN - F1 Score 0.6172043010752688\n",
      "58\n",
      " DT New dimension: (1043, 58)\n",
      "DT - Accuracy 0.9382022471910112\n",
      "DT - F1 Score 0.6172043010752688\n",
      "KNN - Accuracy 0.9410112359550562\n",
      "KNN - F1 Score 0.6225576816277074\n",
      "59\n",
      " DT New dimension: (1043, 59)\n",
      "DT - Accuracy 0.9382022471910112\n",
      "DT - F1 Score 0.6172043010752688\n",
      "KNN - Accuracy 0.9353932584269663\n",
      "KNN - F1 Score 0.5866107941636796\n"
     ]
    }
   ],
   "source": [
    "#Let's test different k range for DT and KNN\n",
    "for i in range(20, 60):\n",
    "    print(str(i))\n",
    "\n",
    "    sel = RFE(DecisionTreeClassifier(max_depth=15,min_samples_leaf=10,min_samples_split=15), n_features_to_select=i)\n",
    "    X_train_sel = sel.fit_transform(X_train, y_train)\n",
    "    print(f\" DT New dimension: {X_train_sel.shape}\")\n",
    "    X_test_sel = sel.transform(X_test)\n",
    "\n",
    "    learner= DecisionTreeClassifier(max_depth=15,min_samples_leaf=10,min_samples_split=15)\n",
    "    learner.fit(X_train_sel, y_train)\n",
    "    y_pred = learner.predict(X_test_sel)\n",
    "    print('DT - Accuracy %s' % accuracy_score(y_test, y_pred))\n",
    "    print('DT - F1 Score %s' % f1_score(y_test, y_pred,average=\"macro\"))\n",
    "\n",
    "    learner= KNeighborsClassifier(n_neighbors= 2, metric= 'euclidean', weights= 'distance')\n",
    "    learner.fit(X_train_sel, y_train)\n",
    "    y_pred = learner.predict(X_test_sel)\n",
    "    print('KNN - Accuracy %s' % accuracy_score(y_test, y_pred))\n",
    "    print('KNN - F1 Score %s' % f1_score(y_test, y_pred,average=\"macro\"))"
   ]
  },
  {
   "attachments": {},
   "cell_type": "markdown",
   "metadata": {},
   "source": [
    "# DIMENSIONALITY REDUCTION ( FEATURE PROJECTION)"
   ]
  },
  {
   "attachments": {},
   "cell_type": "markdown",
   "metadata": {},
   "source": [
    "PCA"
   ]
  },
  {
   "cell_type": "code",
   "execution_count": 89,
   "metadata": {},
   "outputs": [
    {
     "data": {
      "image/png": "[encoded data removed]",
      "text/plain": [
       "<Figure size 432x288 with 1 Axes>"
      ]
     },
     "metadata": {
      "needs_background": "light"
     },
     "output_type": "display_data"
    }
   ],
   "source": [
    "plt.plot(PCA(n_components=50).fit(X_train,y_train).explained_variance_ratio_)\n",
    "plt.title(\"PCA\")\n",
    "plt.ylabel(\"Fraction of Variance\")\n",
    "plt.show()"
   ]
  },
  {
   "cell_type": "code",
   "execution_count": 90,
   "metadata": {},
   "outputs": [],
   "source": [
    "pca = PCA(n_components=30)\n",
    "pca.fit(X_train)\n",
    "X_train_pca = pca.transform(X_train)"
   ]
  },
  {
   "cell_type": "code",
   "execution_count": 91,
   "metadata": {},
   "outputs": [
    {
     "name": "stdout",
     "output_type": "stream",
     "text": [
      "              precision    recall  f1-score   support\n",
      "\n",
      "           0       0.95      1.00      0.97       336\n",
      "           1       1.00      0.05      0.10        20\n",
      "\n",
      "    accuracy                           0.95       356\n",
      "   macro avg       0.97      0.53      0.53       356\n",
      "weighted avg       0.95      0.95      0.92       356\n",
      "\n"
     ]
    }
   ],
   "source": [
    "X_test_pca = pca.transform(X_test)\n",
    "clf = DecisionTreeClassifier(max_depth=15,min_samples_leaf=10,min_samples_split=15)\n",
    "clf.fit(X_train_pca, y_train)\n",
    "y_pred = clf.predict(X_test_pca)\n",
    "\n",
    "print(classification_report(y_test, y_pred))"
   ]
  },
  {
   "cell_type": "code",
   "execution_count": 92,
   "metadata": {},
   "outputs": [
    {
     "name": "stdout",
     "output_type": "stream",
     "text": [
      "              precision    recall  f1-score   support\n",
      "\n",
      "           0       0.95      0.99      0.97       336\n",
      "           1       0.20      0.05      0.08        20\n",
      "\n",
      "    accuracy                           0.94       356\n",
      "   macro avg       0.57      0.52      0.52       356\n",
      "weighted avg       0.90      0.94      0.92       356\n",
      "\n"
     ]
    }
   ],
   "source": [
    "X_test_pca = pca.transform(X_test)\n",
    "clf = KNeighborsClassifier(n_neighbors= 2, metric= 'euclidean', weights= 'distance')\n",
    "clf.fit(X_train_pca, y_train)\n",
    "y_pred = clf.predict(X_test_pca)\n",
    "\n",
    "print(classification_report(y_test, y_pred))"
   ]
  },
  {
   "attachments": {},
   "cell_type": "markdown",
   "metadata": {},
   "source": [
    "Random subspace projection "
   ]
  },
  {
   "cell_type": "code",
   "execution_count": 93,
   "metadata": {},
   "outputs": [
    {
     "data": {
      "text/plain": [
       "(1043, 30)"
      ]
     },
     "execution_count": 93,
     "metadata": {},
     "output_type": "execute_result"
    }
   ],
   "source": [
    "from sklearn import random_projection\n",
    "\n",
    "rsp = random_projection.GaussianRandomProjection(n_components=30, random_state=0)\n",
    "X_train_rsp = rsp.fit_transform(X_train)\n",
    "X_train_rsp.shape"
   ]
  },
  {
   "cell_type": "code",
   "execution_count": 94,
   "metadata": {},
   "outputs": [
    {
     "name": "stdout",
     "output_type": "stream",
     "text": [
      "              precision    recall  f1-score   support\n",
      "\n",
      "           0       0.95      0.95      0.95       336\n",
      "           1       0.15      0.15      0.15        20\n",
      "\n",
      "    accuracy                           0.90       356\n",
      "   macro avg       0.55      0.55      0.55       356\n",
      "weighted avg       0.90      0.90      0.90       356\n",
      "\n"
     ]
    }
   ],
   "source": [
    "X_test_rsp = rsp.transform(X_test)\n",
    "clf =DecisionTreeClassifier(max_depth=15,min_samples_leaf=10,min_samples_split=15)\n",
    "clf.fit(X_train_rsp, y_train)\n",
    "y_pred = clf.predict(X_test_rsp)\n",
    "\n",
    "print(classification_report(y_test, y_pred))"
   ]
  },
  {
   "cell_type": "code",
   "execution_count": 95,
   "metadata": {},
   "outputs": [
    {
     "name": "stdout",
     "output_type": "stream",
     "text": [
      "              precision    recall  f1-score   support\n",
      "\n",
      "           0       0.95      0.97      0.96       336\n",
      "           1       0.15      0.10      0.12        20\n",
      "\n",
      "    accuracy                           0.92       356\n",
      "   macro avg       0.55      0.53      0.54       356\n",
      "weighted avg       0.90      0.92      0.91       356\n",
      "\n"
     ]
    }
   ],
   "source": [
    "clf = KNeighborsClassifier(n_neighbors= 2, metric= 'euclidean', weights= 'distance')\n",
    "clf.fit(X_train_rsp, y_train)\n",
    "y_pred = clf.predict(X_test_rsp)\n",
    "\n",
    "print(classification_report(y_test, y_pred))"
   ]
  },
  {
   "attachments": {},
   "cell_type": "markdown",
   "metadata": {},
   "source": [
    "Multidimensional scaling"
   ]
  },
  {
   "cell_type": "code",
   "execution_count": 165,
   "metadata": {},
   "outputs": [
    {
     "data": {
      "text/plain": [
       "(1043, 33)"
      ]
     },
     "execution_count": 165,
     "metadata": {},
     "output_type": "execute_result"
    }
   ],
   "source": [
    "from sklearn.manifold import MDS\n",
    "mds = MDS(n_components=20) #, normalized_stress='auto') # shoudl run as sammon mapping\n",
    "X_train_mds = mds.fit_transform(X_train)\n",
    "X_train_mds.shape"
   ]
  },
  {
   "cell_type": "code",
   "execution_count": 170,
   "metadata": {},
   "outputs": [
    {
     "name": "stdout",
     "output_type": "stream",
     "text": [
      "              precision    recall  f1-score   support\n",
      "\n",
      "           0       0.95      1.00      0.98       984\n",
      "           1       0.85      0.19      0.31        59\n",
      "\n",
      "    accuracy                           0.95      1043\n",
      "   macro avg       0.90      0.59      0.64      1043\n",
      "weighted avg       0.95      0.95      0.94      1043\n",
      "\n"
     ]
    }
   ],
   "source": [
    "clf = DecisionTreeClassifier(max_depth=15,min_samples_leaf=10,min_samples_split=15)\n",
    "clf.fit(X_train_mds, y_train)\n",
    "\n",
    "y_pred = clf.predict(X_train_mds)\n",
    "\n",
    "print(classification_report(y_train, y_pred))"
   ]
  },
  {
   "cell_type": "code",
   "execution_count": 98,
   "metadata": {},
   "outputs": [
    {
     "name": "stdout",
     "output_type": "stream",
     "text": [
      "              precision    recall  f1-score   support\n",
      "\n",
      "           0       1.00      1.00      1.00       984\n",
      "           1       1.00      1.00      1.00        59\n",
      "\n",
      "    accuracy                           1.00      1043\n",
      "   macro avg       1.00      1.00      1.00      1043\n",
      "weighted avg       1.00      1.00      1.00      1043\n",
      "\n"
     ]
    }
   ],
   "source": [
    "clf = KNeighborsClassifier(n_neighbors= 2, metric= 'euclidean', weights= 'distance')\n",
    "clf.fit(X_train_mds, y_train)\n",
    "\n",
    "y_pred = clf.predict(X_train_mds)\n",
    "\n",
    "print(classification_report(y_train, y_pred))"
   ]
  },
  {
   "attachments": {},
   "cell_type": "markdown",
   "metadata": {},
   "source": [
    "ISOMAP"
   ]
  },
  {
   "cell_type": "code",
   "execution_count": 99,
   "metadata": {},
   "outputs": [
    {
     "data": {
      "text/plain": [
       "(1043, 20)"
      ]
     },
     "execution_count": 99,
     "metadata": {},
     "output_type": "execute_result"
    }
   ],
   "source": [
    "from sklearn.manifold import Isomap\n",
    "iso = Isomap(n_components=20)\n",
    "X_train_iso = iso.fit_transform(X_train)\n",
    "X_train_iso.shape"
   ]
  },
  {
   "cell_type": "code",
   "execution_count": 100,
   "metadata": {},
   "outputs": [
    {
     "name": "stdout",
     "output_type": "stream",
     "text": [
      "              precision    recall  f1-score   support\n",
      "\n",
      "           0       0.94      0.94      0.94       984\n",
      "           1       0.05      0.05      0.05        59\n",
      "\n",
      "    accuracy                           0.89      1043\n",
      "   macro avg       0.49      0.49      0.49      1043\n",
      "weighted avg       0.89      0.89      0.89      1043\n",
      "\n"
     ]
    }
   ],
   "source": [
    "clf = DecisionTreeClassifier(max_depth=15,min_samples_leaf=10,min_samples_split=15)\n",
    "clf.fit(X_train_mds, y_train)\n",
    "\n",
    "y_pred = clf.predict(X_train_iso)\n",
    "\n",
    "print(classification_report(y_train, y_pred))"
   ]
  },
  {
   "cell_type": "code",
   "execution_count": 101,
   "metadata": {},
   "outputs": [
    {
     "name": "stdout",
     "output_type": "stream",
     "text": [
      "              precision    recall  f1-score   support\n",
      "\n",
      "           0       0.94      0.92      0.93       984\n",
      "           1       0.04      0.05      0.04        59\n",
      "\n",
      "    accuracy                           0.87      1043\n",
      "   macro avg       0.49      0.48      0.49      1043\n",
      "weighted avg       0.89      0.87      0.88      1043\n",
      "\n"
     ]
    }
   ],
   "source": [
    "clf = KNeighborsClassifier(n_neighbors= 2, metric= 'euclidean', weights= 'distance')\n",
    "clf.fit(X_train_mds, y_train)\n",
    "\n",
    "y_pred = clf.predict(X_train_iso)\n",
    "\n",
    "print(classification_report(y_train, y_pred))"
   ]
  },
  {
   "attachments": {},
   "cell_type": "markdown",
   "metadata": {},
   "source": [
    "t-SNE"
   ]
  },
  {
   "cell_type": "code",
   "execution_count": 102,
   "metadata": {},
   "outputs": [
    {
     "data": {
      "text/plain": [
       "(1043, 3)"
      ]
     },
     "execution_count": 102,
     "metadata": {},
     "output_type": "execute_result"
    }
   ],
   "source": [
    "from sklearn.manifold import TSNE\n",
    "tsne = TSNE(n_components=3)\n",
    "X_train_tsne = tsne.fit_transform(X_train)\n",
    "X_train_tsne.shape"
   ]
  },
  {
   "cell_type": "code",
   "execution_count": 103,
   "metadata": {},
   "outputs": [
    {
     "name": "stdout",
     "output_type": "stream",
     "text": [
      "Accuracy 0.9434324065196549\n",
      "F1-score [0.97089295 0.        ]\n",
      "              precision    recall  f1-score   support\n",
      "\n",
      "           0       0.94      1.00      0.97       984\n",
      "           1       0.00      0.00      0.00        59\n",
      "\n",
      "    accuracy                           0.94      1043\n",
      "   macro avg       0.47      0.50      0.49      1043\n",
      "weighted avg       0.89      0.94      0.92      1043\n",
      "\n"
     ]
    }
   ],
   "source": [
    "clf = DecisionTreeClassifier(max_depth=15,min_samples_leaf=10,min_samples_split=15)\n",
    "clf.fit(X_train_tsne, y_train)\n",
    "\n",
    "y_pred = clf.predict(X_train_tsne)\n",
    "\n",
    "print('Accuracy %s' % accuracy_score(y_train, y_pred))\n",
    "print('F1-score %s' % f1_score(y_train, y_pred, average=None))\n",
    "print(classification_report(y_train, y_pred))"
   ]
  },
  {
   "cell_type": "code",
   "execution_count": 104,
   "metadata": {},
   "outputs": [
    {
     "name": "stdout",
     "output_type": "stream",
     "text": [
      "Accuracy 1.0\n",
      "F1-score [1. 1.]\n",
      "              precision    recall  f1-score   support\n",
      "\n",
      "           0       1.00      1.00      1.00       984\n",
      "           1       1.00      1.00      1.00        59\n",
      "\n",
      "    accuracy                           1.00      1043\n",
      "   macro avg       1.00      1.00      1.00      1043\n",
      "weighted avg       1.00      1.00      1.00      1043\n",
      "\n"
     ]
    }
   ],
   "source": [
    "clf = KNeighborsClassifier(n_neighbors= 2, metric= 'euclidean', weights= 'distance')\n",
    "clf.fit(X_train_tsne, y_train)\n",
    "\n",
    "y_pred = clf.predict(X_train_tsne)\n",
    "\n",
    "print('Accuracy %s' % accuracy_score(y_train, y_pred))\n",
    "print('F1-score %s' % f1_score(y_train, y_pred, average=None))\n",
    "print(classification_report(y_train, y_pred))"
   ]
  },
  {
   "attachments": {},
   "cell_type": "markdown",
   "metadata": {},
   "source": [
    "# Now we build two models with  the best sampling technics + best reduction technics based on the previous experiments"
   ]
  },
  {
   "attachments": {},
   "cell_type": "markdown",
   "metadata": {},
   "source": [
    "Voglio provare adasyn + Tomek"
   ]
  },
  {
   "cell_type": "code",
   "execution_count": 154,
   "metadata": {},
   "outputs": [
    {
     "name": "stdout",
     "output_type": "stream",
     "text": [
      "Resampled dataset shape Counter({0: 984, 1: 983})\n"
     ]
    }
   ],
   "source": [
    "ada = ADASYN(random_state=42)\n",
    "X_res, y_res = ada.fit_resample(X_train, y_train)\n",
    "print('Resampled dataset shape %s' % Counter(y_res))"
   ]
  },
  {
   "cell_type": "code",
   "execution_count": 156,
   "metadata": {},
   "outputs": [
    {
     "name": "stdout",
     "output_type": "stream",
     "text": [
      "(1967, 33)\n",
      "              precision    recall  f1-score   support\n",
      "\n",
      "           0       0.95      0.79      0.86       336\n",
      "           1       0.08      0.30      0.12        20\n",
      "\n",
      "    accuracy                           0.76       356\n",
      "   macro avg       0.51      0.55      0.49       356\n",
      "weighted avg       0.90      0.76      0.82       356\n",
      "\n"
     ]
    }
   ],
   "source": [
    "from sklearn.feature_selection import SelectKBest\n",
    "sel = SelectKBest(k=33)\n",
    "X_train_sel = sel.fit_transform(X_res, y_res)\n",
    "print(X_train_sel.shape)\n",
    "X_test_sel = sel.transform(X_test)\n",
    "learner =  DecisionTreeClassifier(max_depth=15,min_samples_leaf=10,min_samples_split=15)\n",
    "learner.fit(X_train_sel, y_res)\n",
    "y_pred = learner.predict(X_test_sel)\n",
    "print(classification_report(y_test, y_pred))\n"
   ]
  },
  {
   "cell_type": "code",
   "execution_count": 157,
   "metadata": {},
   "outputs": [
    {
     "name": "stdout",
     "output_type": "stream",
     "text": [
      "              precision    recall  f1-score   support\n",
      "\n",
      "           0       0.95      0.79      0.86       336\n",
      "           1       0.08      0.30      0.12        20\n",
      "\n",
      "    accuracy                           0.76       356\n",
      "   macro avg       0.51      0.55      0.49       356\n",
      "weighted avg       0.90      0.76      0.82       356\n",
      "\n"
     ]
    }
   ],
   "source": [
    "learner_KNN = KNeighborsClassifier(n_neighbors= 2, metric= 'euclidean', weights= 'distance')\n",
    "learner.fit(X_train_sel, y_res)\n",
    "y_pred = learner.predict(X_test_sel)\n",
    "print(classification_report(y_test, y_pred))"
   ]
  },
  {
   "cell_type": "code",
   "execution_count": 176,
   "metadata": {},
   "outputs": [
    {
     "name": "stdout",
     "output_type": "stream",
     "text": [
      "Resampled dataset shape Counter({0: 974, 1: 59})\n"
     ]
    }
   ],
   "source": [
    "from imblearn.under_sampling import TomekLinks\n",
    "\n",
    "tl = TomekLinks()\n",
    "X_res, y_res = tl.fit_resample(X_train, y_train)\n",
    "print('Resampled dataset shape %s' % Counter(y_res))"
   ]
  },
  {
   "cell_type": "code",
   "execution_count": 163,
   "metadata": {},
   "outputs": [
    {
     "name": "stdout",
     "output_type": "stream",
     "text": [
      "(1033, 33)\n",
      "              precision    recall  f1-score   support\n",
      "\n",
      "           0       0.96      0.98      0.97       336\n",
      "           1       0.38      0.25      0.30        20\n",
      "\n",
      "    accuracy                           0.94       356\n",
      "   macro avg       0.67      0.61      0.63       356\n",
      "weighted avg       0.92      0.94      0.93       356\n",
      "\n"
     ]
    }
   ],
   "source": [
    "from sklearn.feature_selection import SelectKBest\n",
    "sel = SelectKBest(k=33)\n",
    "X_train_sel = sel.fit_transform(X_res, y_res)\n",
    "print(X_train_sel.shape)\n",
    "X_test_sel = sel.transform(X_test)\n",
    "learner =  DecisionTreeClassifier(max_depth=15,min_samples_leaf=10,min_samples_split=15)\n",
    "learner.fit(X_train_sel, y_res)\n",
    "y_pred = learner.predict(X_test_sel)\n",
    "print(classification_report(y_test, y_pred))\n",
    "\n",
    "\n"
   ]
  },
  {
   "cell_type": "code",
   "execution_count": 164,
   "metadata": {},
   "outputs": [
    {
     "name": "stdout",
     "output_type": "stream",
     "text": [
      "              precision    recall  f1-score   support\n",
      "\n",
      "           0       0.96      0.98      0.97       336\n",
      "           1       0.38      0.25      0.30        20\n",
      "\n",
      "    accuracy                           0.94       356\n",
      "   macro avg       0.67      0.61      0.63       356\n",
      "weighted avg       0.92      0.94      0.93       356\n",
      "\n"
     ]
    }
   ],
   "source": [
    "learner_KNN = KNeighborsClassifier(n_neighbors= 2, metric= 'euclidean', weights= 'distance')\n",
    "learner.fit(X_train_sel, y_res)\n",
    "y_pred = learner.predict(X_test_sel)\n",
    "print(classification_report(y_test, y_pred))"
   ]
  },
  {
   "cell_type": "code",
   "execution_count": 184,
   "metadata": {},
   "outputs": [
    {
     "name": "stdout",
     "output_type": "stream",
     "text": [
      " DT New dimension: (1033, 20)\n",
      "              precision    recall  f1-score   support\n",
      "\n",
      "           0       0.95      0.98      0.96       336\n",
      "           1       0.33      0.20      0.25        20\n",
      "\n",
      "    accuracy                           0.93       356\n",
      "   macro avg       0.64      0.59      0.61       356\n",
      "weighted avg       0.92      0.93      0.92       356\n",
      "\n"
     ]
    }
   ],
   "source": [
    "from sklearn.feature_selection import RFE\n",
    "\n",
    "sel = RFE(DecisionTreeClassifier(max_depth=15,min_samples_leaf=10,min_samples_split=15), n_features_to_select=20)\n",
    "X_train_sel = sel.fit_transform(X_res, y_res)\n",
    "print(f\" DT New dimension: {X_train_sel.shape}\")\n",
    "X_test_sel = sel.transform(X_test)\n",
    "\n",
    "learner = KNeighborsClassifier(n_neighbors= 2, metric= 'euclidean', weights= 'distance')\n",
    "learner.fit(X_train_sel, y_res)\n",
    "y_pred = learner.predict(X_test_sel)\n",
    "print(classification_report(y_test,y_pred))"
   ]
  },
  {
   "cell_type": "code",
   "execution_count": 185,
   "metadata": {},
   "outputs": [
    {
     "name": "stdout",
     "output_type": "stream",
     "text": [
      "Resampled dataset shape Counter({0: 984, 1: 983})\n"
     ]
    }
   ],
   "source": [
    "ada = ADASYN(random_state=42)\n",
    "X_res, y_res = ada.fit_resample(X_train, y_train)\n",
    "print('Resampled dataset shape %s' % Counter(y_res))"
   ]
  },
  {
   "cell_type": "code",
   "execution_count": 186,
   "metadata": {},
   "outputs": [
    {
     "name": "stdout",
     "output_type": "stream",
     "text": [
      " DT New dimension: (1967, 20)\n",
      "              precision    recall  f1-score   support\n",
      "\n",
      "           0       0.96      0.84      0.89       336\n",
      "           1       0.13      0.40      0.19        20\n",
      "\n",
      "    accuracy                           0.81       356\n",
      "   macro avg       0.54      0.62      0.54       356\n",
      "weighted avg       0.91      0.81      0.85       356\n",
      "\n"
     ]
    }
   ],
   "source": [
    "sel = RFE(DecisionTreeClassifier(max_depth=15,min_samples_leaf=10,min_samples_split=15), n_features_to_select=20)\n",
    "X_train_sel = sel.fit_transform(X_res, y_res)\n",
    "print(f\" DT New dimension: {X_train_sel.shape}\")\n",
    "X_test_sel = sel.transform(X_test)\n",
    "\n",
    "learner = KNeighborsClassifier(n_neighbors= 2, metric= 'euclidean', weights= 'distance')\n",
    "learner.fit(X_train_sel, y_res)\n",
    "y_pred = learner.predict(X_test_sel)\n",
    "print(classification_report(y_test,y_pred))"
   ]
  }
 ],
 "metadata": {
  "kernelspec": {
   "display_name": "base",
   "language": "python",
   "name": "python3"
  },
  "language_info": {
   "codemirror_mode": {
    "name": "ipython",
    "version": 3
   },
   "file_extension": ".py",
   "mimetype": "text/x-python",
   "name": "python",
   "nbconvert_exporter": "python",
   "pygments_lexer": "ipython3",
   "version": "3.8.8"
  },
  "orig_nbformat": 4
 },
 "nbformat": 4,
 "nbformat_minor": 2
}
