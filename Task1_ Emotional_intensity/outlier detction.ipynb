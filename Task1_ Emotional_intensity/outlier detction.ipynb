{
 "cells": [
  {
   "cell_type": "code",
   "execution_count": 1,
   "metadata": {},
   "outputs": [],
   "source": [
    "import pandas as pd\n",
    "import numpy as np\n",
    "import seaborn as sns\n",
    "import matplotlib.pyplot as plt\n",
    "\n",
    "from sklearn.preprocessing import RobustScaler , StandardScaler\n",
    "from sklearn import preprocessing\n",
    "from sklearn.model_selection import train_test_split\n",
    "\n",
    "from sklearn.model_selection import StratifiedKFold,RepeatedStratifiedKFold, RandomizedSearchCV,GridSearchCV, RepeatedKFold\n",
    "\n",
    "from sklearn.tree import DecisionTreeClassifier\n",
    "from sklearn.neighbors import KNeighborsClassifier\n",
    "\n",
    "from sklearn.metrics import (\n",
    "    accuracy_score,\n",
    "    f1_score,\n",
    "    classification_report,\n",
    "    confusion_matrix,\n",
    "    roc_auc_score,\n",
    ")\n",
    "from scikitplot.metrics import plot_roc\n",
    "from sklearn.metrics import roc_curve, auc, roc_auc_score"
   ]
  },
  {
   "cell_type": "code",
   "execution_count": 2,
   "metadata": {},
   "outputs": [],
   "source": [
    "df_train_pure=pd.read_csv(\"../Dataset_prepared/Prepared_train.csv\")\n",
    "df_test_pure=pd.read_csv(\"../Dataset_prepared/Prepared_test.csv\")\n"
   ]
  },
  {
   "cell_type": "code",
   "execution_count": 3,
   "metadata": {},
   "outputs": [],
   "source": [
    "df_train_c = df_train_pure.copy()\n",
    "df_test_c = df_test_pure.copy()\n"
   ]
  },
  {
   "cell_type": "code",
   "execution_count": 4,
   "metadata": {},
   "outputs": [],
   "source": [
    "df_train_c.drop('actor',axis=1,inplace=True)\n",
    "df_train_c.drop('filename',axis=1,inplace=True)\n",
    "#df_train.drop('Unnamed: 0',axis=1,inplace=True)\n",
    "\n",
    "\n",
    "df_test_c.drop('actor',axis=1,inplace=True)\n",
    "df_test_c.drop('filename',axis=1,inplace=True)\n",
    "#df_test.drop('Unnamed: 0',axis=1,inplace=True)\n",
    "\n",
    "\n",
    "\n",
    "\n"
   ]
  },
  {
   "cell_type": "code",
   "execution_count": 5,
   "metadata": {},
   "outputs": [],
   "source": [
    "indexNames = df_train_pure[ df_train_pure['emotional_intensity'] == 'strong' ].sample(frac=0.93).index\n",
    "df_train_c.drop(indexNames,axis=0,inplace=True)\n",
    "\n"
   ]
  },
  {
   "cell_type": "code",
   "execution_count": 6,
   "metadata": {},
   "outputs": [
    {
     "data": {
      "text/html": [
       "<div>\n",
       "<style scoped>\n",
       "    .dataframe tbody tr th:only-of-type {\n",
       "        vertical-align: middle;\n",
       "    }\n",
       "\n",
       "    .dataframe tbody tr th {\n",
       "        vertical-align: top;\n",
       "    }\n",
       "\n",
       "    .dataframe thead th {\n",
       "        text-align: right;\n",
       "    }\n",
       "</style>\n",
       "<table border=\"1\" class=\"dataframe\">\n",
       "  <thead>\n",
       "    <tr style=\"text-align: right;\">\n",
       "      <th></th>\n",
       "      <th>vocal_channel</th>\n",
       "      <th>emotional_intensity</th>\n",
       "      <th>statement</th>\n",
       "      <th>repetition</th>\n",
       "      <th>sex</th>\n",
       "      <th>mean</th>\n",
       "      <th>q25</th>\n",
       "      <th>q50</th>\n",
       "      <th>q75</th>\n",
       "      <th>kur</th>\n",
       "      <th>...</th>\n",
       "      <th>stft_kur_w4</th>\n",
       "      <th>stft_skew_w4</th>\n",
       "      <th>emotion_angry</th>\n",
       "      <th>emotion_calm</th>\n",
       "      <th>emotion_disgust</th>\n",
       "      <th>emotion_fearful</th>\n",
       "      <th>emotion_happy</th>\n",
       "      <th>emotion_neutral</th>\n",
       "      <th>emotion_sad</th>\n",
       "      <th>emotion_surprised</th>\n",
       "    </tr>\n",
       "  </thead>\n",
       "  <tbody>\n",
       "    <tr>\n",
       "      <th>0</th>\n",
       "      <td>1</td>\n",
       "      <td>0</td>\n",
       "      <td>1</td>\n",
       "      <td>0</td>\n",
       "      <td>1</td>\n",
       "      <td>9.150000e-07</td>\n",
       "      <td>-0.000031</td>\n",
       "      <td>0.0</td>\n",
       "      <td>0.0</td>\n",
       "      <td>15.028520</td>\n",
       "      <td>...</td>\n",
       "      <td>6.742190</td>\n",
       "      <td>-1.706215</td>\n",
       "      <td>0</td>\n",
       "      <td>0</td>\n",
       "      <td>0</td>\n",
       "      <td>0</td>\n",
       "      <td>0</td>\n",
       "      <td>1</td>\n",
       "      <td>0</td>\n",
       "      <td>0</td>\n",
       "    </tr>\n",
       "    <tr>\n",
       "      <th>1</th>\n",
       "      <td>1</td>\n",
       "      <td>0</td>\n",
       "      <td>1</td>\n",
       "      <td>1</td>\n",
       "      <td>1</td>\n",
       "      <td>7.137790e-07</td>\n",
       "      <td>-0.000031</td>\n",
       "      <td>0.0</td>\n",
       "      <td>0.0</td>\n",
       "      <td>16.488415</td>\n",
       "      <td>...</td>\n",
       "      <td>-0.700420</td>\n",
       "      <td>-0.201495</td>\n",
       "      <td>0</td>\n",
       "      <td>0</td>\n",
       "      <td>0</td>\n",
       "      <td>0</td>\n",
       "      <td>0</td>\n",
       "      <td>1</td>\n",
       "      <td>0</td>\n",
       "      <td>0</td>\n",
       "    </tr>\n",
       "    <tr>\n",
       "      <th>2</th>\n",
       "      <td>1</td>\n",
       "      <td>0</td>\n",
       "      <td>0</td>\n",
       "      <td>0</td>\n",
       "      <td>1</td>\n",
       "      <td>9.554485e-07</td>\n",
       "      <td>0.000000</td>\n",
       "      <td>0.0</td>\n",
       "      <td>0.0</td>\n",
       "      <td>17.035218</td>\n",
       "      <td>...</td>\n",
       "      <td>1.688986</td>\n",
       "      <td>-1.024773</td>\n",
       "      <td>0</td>\n",
       "      <td>0</td>\n",
       "      <td>0</td>\n",
       "      <td>0</td>\n",
       "      <td>0</td>\n",
       "      <td>1</td>\n",
       "      <td>0</td>\n",
       "      <td>0</td>\n",
       "    </tr>\n",
       "    <tr>\n",
       "      <th>3</th>\n",
       "      <td>1</td>\n",
       "      <td>0</td>\n",
       "      <td>0</td>\n",
       "      <td>1</td>\n",
       "      <td>1</td>\n",
       "      <td>9.176213e-07</td>\n",
       "      <td>-0.000031</td>\n",
       "      <td>0.0</td>\n",
       "      <td>0.0</td>\n",
       "      <td>21.824521</td>\n",
       "      <td>...</td>\n",
       "      <td>-0.594111</td>\n",
       "      <td>-0.412871</td>\n",
       "      <td>0</td>\n",
       "      <td>0</td>\n",
       "      <td>0</td>\n",
       "      <td>0</td>\n",
       "      <td>0</td>\n",
       "      <td>1</td>\n",
       "      <td>0</td>\n",
       "      <td>0</td>\n",
       "    </tr>\n",
       "    <tr>\n",
       "      <th>4</th>\n",
       "      <td>1</td>\n",
       "      <td>0</td>\n",
       "      <td>1</td>\n",
       "      <td>0</td>\n",
       "      <td>1</td>\n",
       "      <td>8.108948e-07</td>\n",
       "      <td>-0.000031</td>\n",
       "      <td>0.0</td>\n",
       "      <td>0.0</td>\n",
       "      <td>13.236022</td>\n",
       "      <td>...</td>\n",
       "      <td>0.126535</td>\n",
       "      <td>-0.620782</td>\n",
       "      <td>0</td>\n",
       "      <td>1</td>\n",
       "      <td>0</td>\n",
       "      <td>0</td>\n",
       "      <td>0</td>\n",
       "      <td>0</td>\n",
       "      <td>0</td>\n",
       "      <td>0</td>\n",
       "    </tr>\n",
       "  </tbody>\n",
       "</table>\n",
       "<p>5 rows × 266 columns</p>\n",
       "</div>"
      ],
      "text/plain": [
       "   vocal_channel  emotional_intensity  statement  repetition  sex  \\\n",
       "0              1                    0          1           0    1   \n",
       "1              1                    0          1           1    1   \n",
       "2              1                    0          0           0    1   \n",
       "3              1                    0          0           1    1   \n",
       "4              1                    0          1           0    1   \n",
       "\n",
       "           mean       q25  q50  q75        kur  ...  stft_kur_w4  \\\n",
       "0  9.150000e-07 -0.000031  0.0  0.0  15.028520  ...     6.742190   \n",
       "1  7.137790e-07 -0.000031  0.0  0.0  16.488415  ...    -0.700420   \n",
       "2  9.554485e-07  0.000000  0.0  0.0  17.035218  ...     1.688986   \n",
       "3  9.176213e-07 -0.000031  0.0  0.0  21.824521  ...    -0.594111   \n",
       "4  8.108948e-07 -0.000031  0.0  0.0  13.236022  ...     0.126535   \n",
       "\n",
       "   stft_skew_w4  emotion_angry  emotion_calm  emotion_disgust  \\\n",
       "0     -1.706215              0             0                0   \n",
       "1     -0.201495              0             0                0   \n",
       "2     -1.024773              0             0                0   \n",
       "3     -0.412871              0             0                0   \n",
       "4     -0.620782              0             1                0   \n",
       "\n",
       "   emotion_fearful  emotion_happy  emotion_neutral  emotion_sad  \\\n",
       "0                0              0                1            0   \n",
       "1                0              0                1            0   \n",
       "2                0              0                1            0   \n",
       "3                0              0                1            0   \n",
       "4                0              0                0            0   \n",
       "\n",
       "   emotion_surprised  \n",
       "0                  0  \n",
       "1                  0  \n",
       "2                  0  \n",
       "3                  0  \n",
       "4                  0  \n",
       "\n",
       "[5 rows x 266 columns]"
      ]
     },
     "execution_count": 6,
     "metadata": {},
     "output_type": "execute_result"
    }
   ],
   "source": [
    "cat_var=[\"statement\",\"repetition\",\"sex\",\"emotional_intensity\",\"vocal_channel\"]\n",
    "le=preprocessing.LabelEncoder()\n",
    "for i in cat_var:\n",
    "    df_train_c[i]=le.fit_transform(df_train_c[i])\n",
    "categorical_col = [\"emotion\"]\n",
    "\n",
    "df_train_c = pd.get_dummies(df_train_c, columns=categorical_col)    \n",
    "\n",
    "df_train_c.head()"
   ]
  },
  {
   "cell_type": "code",
   "execution_count": 7,
   "metadata": {},
   "outputs": [],
   "source": [
    "numeric_features = [n for n in df_train_c.columns if n!=\"emotion_angry\" and n!= \"vocal_channel\" and n!= \"emotional_intensity\" and n!= \"statement\" and n!= \"repetition\" and n!= \"sex\" and   n!=\"emotion_calm\" and  n!=\"emotion_disgust\" and  n!=\"emotion_fearful\" and  n!=\"emotion_happy\" and  n!=\"emotion_neutral\" and n!=\"emotion_sad\" and  n!=\"emotion_surprised\"]\n",
    "\n",
    "scaler = StandardScaler()\n",
    "scaled_features = scaler.fit_transform(df_train_c[numeric_features])\n",
    "df_train_c[numeric_features] = scaled_features\n",
    "df_train_c.head()\n",
    "\n",
    "\n",
    "col = [x for x in df_train_c.columns if x!='emotional_intensity']\n",
    "X_train=df_train_c[col].values\n",
    "y_train = np.array(df_train_c[\"emotional_intensity\"])\n",
    "\n",
    "\n",
    "\n",
    "\n"
   ]
  },
  {
   "cell_type": "code",
   "execution_count": 8,
   "metadata": {},
   "outputs": [
    {
     "data": {
      "text/html": [
       "<div>\n",
       "<style scoped>\n",
       "    .dataframe tbody tr th:only-of-type {\n",
       "        vertical-align: middle;\n",
       "    }\n",
       "\n",
       "    .dataframe tbody tr th {\n",
       "        vertical-align: top;\n",
       "    }\n",
       "\n",
       "    .dataframe thead th {\n",
       "        text-align: right;\n",
       "    }\n",
       "</style>\n",
       "<table border=\"1\" class=\"dataframe\">\n",
       "  <thead>\n",
       "    <tr style=\"text-align: right;\">\n",
       "      <th></th>\n",
       "      <th>vocal_channel</th>\n",
       "      <th>emotional_intensity</th>\n",
       "      <th>statement</th>\n",
       "      <th>repetition</th>\n",
       "      <th>sex</th>\n",
       "      <th>mean</th>\n",
       "      <th>q25</th>\n",
       "      <th>q50</th>\n",
       "      <th>q75</th>\n",
       "      <th>kur</th>\n",
       "      <th>...</th>\n",
       "      <th>stft_kur_w4</th>\n",
       "      <th>stft_skew_w4</th>\n",
       "      <th>emotion_angry</th>\n",
       "      <th>emotion_calm</th>\n",
       "      <th>emotion_disgust</th>\n",
       "      <th>emotion_fearful</th>\n",
       "      <th>emotion_happy</th>\n",
       "      <th>emotion_neutral</th>\n",
       "      <th>emotion_sad</th>\n",
       "      <th>emotion_surprised</th>\n",
       "    </tr>\n",
       "  </thead>\n",
       "  <tbody>\n",
       "    <tr>\n",
       "      <th>0</th>\n",
       "      <td>1</td>\n",
       "      <td>0</td>\n",
       "      <td>1</td>\n",
       "      <td>0</td>\n",
       "      <td>1</td>\n",
       "      <td>2.940224e-06</td>\n",
       "      <td>-0.000092</td>\n",
       "      <td>0.0</td>\n",
       "      <td>0.000153</td>\n",
       "      <td>11.392131</td>\n",
       "      <td>...</td>\n",
       "      <td>-0.260279</td>\n",
       "      <td>-0.566556</td>\n",
       "      <td>0</td>\n",
       "      <td>0</td>\n",
       "      <td>0</td>\n",
       "      <td>0</td>\n",
       "      <td>0</td>\n",
       "      <td>1</td>\n",
       "      <td>0</td>\n",
       "      <td>0</td>\n",
       "    </tr>\n",
       "    <tr>\n",
       "      <th>1</th>\n",
       "      <td>1</td>\n",
       "      <td>0</td>\n",
       "      <td>1</td>\n",
       "      <td>1</td>\n",
       "      <td>1</td>\n",
       "      <td>7.733752e-07</td>\n",
       "      <td>-0.000122</td>\n",
       "      <td>0.0</td>\n",
       "      <td>0.000153</td>\n",
       "      <td>13.621589</td>\n",
       "      <td>...</td>\n",
       "      <td>-0.428900</td>\n",
       "      <td>-0.587210</td>\n",
       "      <td>0</td>\n",
       "      <td>0</td>\n",
       "      <td>0</td>\n",
       "      <td>0</td>\n",
       "      <td>0</td>\n",
       "      <td>1</td>\n",
       "      <td>0</td>\n",
       "      <td>0</td>\n",
       "    </tr>\n",
       "    <tr>\n",
       "      <th>2</th>\n",
       "      <td>1</td>\n",
       "      <td>0</td>\n",
       "      <td>0</td>\n",
       "      <td>0</td>\n",
       "      <td>1</td>\n",
       "      <td>-3.741909e-06</td>\n",
       "      <td>-0.000061</td>\n",
       "      <td>0.0</td>\n",
       "      <td>0.000092</td>\n",
       "      <td>7.678162</td>\n",
       "      <td>...</td>\n",
       "      <td>0.626916</td>\n",
       "      <td>-0.883317</td>\n",
       "      <td>0</td>\n",
       "      <td>0</td>\n",
       "      <td>0</td>\n",
       "      <td>0</td>\n",
       "      <td>0</td>\n",
       "      <td>1</td>\n",
       "      <td>0</td>\n",
       "      <td>0</td>\n",
       "    </tr>\n",
       "    <tr>\n",
       "      <th>3</th>\n",
       "      <td>1</td>\n",
       "      <td>0</td>\n",
       "      <td>0</td>\n",
       "      <td>1</td>\n",
       "      <td>1</td>\n",
       "      <td>-5.069646e-07</td>\n",
       "      <td>-0.000092</td>\n",
       "      <td>0.0</td>\n",
       "      <td>0.000122</td>\n",
       "      <td>14.511231</td>\n",
       "      <td>...</td>\n",
       "      <td>-0.825144</td>\n",
       "      <td>-0.383701</td>\n",
       "      <td>0</td>\n",
       "      <td>0</td>\n",
       "      <td>0</td>\n",
       "      <td>0</td>\n",
       "      <td>0</td>\n",
       "      <td>1</td>\n",
       "      <td>0</td>\n",
       "      <td>0</td>\n",
       "    </tr>\n",
       "    <tr>\n",
       "      <th>4</th>\n",
       "      <td>1</td>\n",
       "      <td>0</td>\n",
       "      <td>1</td>\n",
       "      <td>0</td>\n",
       "      <td>1</td>\n",
       "      <td>8.640319e-07</td>\n",
       "      <td>-0.000061</td>\n",
       "      <td>0.0</td>\n",
       "      <td>0.000122</td>\n",
       "      <td>8.944732</td>\n",
       "      <td>...</td>\n",
       "      <td>-0.536669</td>\n",
       "      <td>-0.547354</td>\n",
       "      <td>0</td>\n",
       "      <td>1</td>\n",
       "      <td>0</td>\n",
       "      <td>0</td>\n",
       "      <td>0</td>\n",
       "      <td>0</td>\n",
       "      <td>0</td>\n",
       "      <td>0</td>\n",
       "    </tr>\n",
       "  </tbody>\n",
       "</table>\n",
       "<p>5 rows × 266 columns</p>\n",
       "</div>"
      ],
      "text/plain": [
       "   vocal_channel  emotional_intensity  statement  repetition  sex  \\\n",
       "0              1                    0          1           0    1   \n",
       "1              1                    0          1           1    1   \n",
       "2              1                    0          0           0    1   \n",
       "3              1                    0          0           1    1   \n",
       "4              1                    0          1           0    1   \n",
       "\n",
       "           mean       q25  q50       q75        kur  ...  stft_kur_w4  \\\n",
       "0  2.940224e-06 -0.000092  0.0  0.000153  11.392131  ...    -0.260279   \n",
       "1  7.733752e-07 -0.000122  0.0  0.000153  13.621589  ...    -0.428900   \n",
       "2 -3.741909e-06 -0.000061  0.0  0.000092   7.678162  ...     0.626916   \n",
       "3 -5.069646e-07 -0.000092  0.0  0.000122  14.511231  ...    -0.825144   \n",
       "4  8.640319e-07 -0.000061  0.0  0.000122   8.944732  ...    -0.536669   \n",
       "\n",
       "   stft_skew_w4  emotion_angry  emotion_calm  emotion_disgust  \\\n",
       "0     -0.566556              0             0                0   \n",
       "1     -0.587210              0             0                0   \n",
       "2     -0.883317              0             0                0   \n",
       "3     -0.383701              0             0                0   \n",
       "4     -0.547354              0             1                0   \n",
       "\n",
       "   emotion_fearful  emotion_happy  emotion_neutral  emotion_sad  \\\n",
       "0                0              0                1            0   \n",
       "1                0              0                1            0   \n",
       "2                0              0                1            0   \n",
       "3                0              0                1            0   \n",
       "4                0              0                0            0   \n",
       "\n",
       "   emotion_surprised  \n",
       "0                  0  \n",
       "1                  0  \n",
       "2                  0  \n",
       "3                  0  \n",
       "4                  0  \n",
       "\n",
       "[5 rows x 266 columns]"
      ]
     },
     "execution_count": 8,
     "metadata": {},
     "output_type": "execute_result"
    }
   ],
   "source": [
    "for i in cat_var:\n",
    "    df_test_c[i]=le.fit_transform(df_test_c[i])\n",
    "categorical_col = [\"emotion\"]\n",
    "\n",
    "df_test_c = pd.get_dummies(df_test_c, columns=categorical_col)    \n",
    "\n",
    "df_test_c.head()"
   ]
  },
  {
   "cell_type": "code",
   "execution_count": 9,
   "metadata": {},
   "outputs": [],
   "source": [
    "indexNames = df_test_c[ df_test_c['emotional_intensity'] == 'strong' ].sample(frac=0.93).index\n",
    "df_test_c.drop(indexNames,axis=0,inplace=True)\n"
   ]
  },
  {
   "cell_type": "code",
   "execution_count": 10,
   "metadata": {},
   "outputs": [],
   "source": [
    "numeric_features = [n for n in df_test_c.columns if n!=\"emotion_angry\" and n!= \"vocal_channel\" and n!= \"emotional_intensity\" and n!= \"statement\" and n!= \"repetition\" and n!= \"sex\" and   n!=\"emotion_calm\" and  n!=\"emotion_disgust\" and  n!=\"emotion_fearful\" and  n!=\"emotion_happy\" and  n!=\"emotion_neutral\" and n!=\"emotion_sad\" and  n!=\"emotion_surprised\"]\n",
    "\n",
    "\n",
    "scaled_features = scaler.transform(df_test_c[numeric_features])\n",
    "df_test_c[numeric_features] = scaled_features\n",
    "df_test_c.head()\n",
    "\n",
    "\n",
    "col = [x for x in df_test_c.columns if x!='emotional_intensity']\n",
    "X_test=df_test_c[col].values\n",
    "y_test = np.array(df_test_c[\"emotional_intensity\"])\n",
    "\n",
    "\n",
    "\n",
    "\n"
   ]
  },
  {
   "attachments": {},
   "cell_type": "markdown",
   "metadata": {},
   "source": [
    "ADASYN + altre tecniche"
   ]
  },
  {
   "cell_type": "code",
   "execution_count": 11,
   "metadata": {},
   "outputs": [],
   "source": [
    "from imblearn.under_sampling import RandomUnderSampler\n",
    "from collections import Counter\n",
    "from imblearn.over_sampling import SMOTE"
   ]
  },
  {
   "cell_type": "code",
   "execution_count": 12,
   "metadata": {},
   "outputs": [
    {
     "name": "stdout",
     "output_type": "stream",
     "text": [
      "Resampled dataset shape Counter({0: 59, 1: 59})\n"
     ]
    }
   ],
   "source": [
    "ada = RandomUnderSampler(random_state=42)\n",
    "X_res, y_res = ada.fit_resample(X_train, y_train)\n",
    "print('Resampled dataset shape %s' % Counter(y_res))"
   ]
  },
  {
   "cell_type": "code",
   "execution_count": 13,
   "metadata": {},
   "outputs": [],
   "source": [
    "df = pd.DataFrame(X_res,columns=col)"
   ]
  },
  {
   "cell_type": "code",
   "execution_count": 14,
   "metadata": {},
   "outputs": [],
   "source": [
    "df['emotional_intensity'] = y_res"
   ]
  },
  {
   "cell_type": "code",
   "execution_count": 15,
   "metadata": {},
   "outputs": [
    {
     "data": {
      "text/html": [
       "<div>\n",
       "<style scoped>\n",
       "    .dataframe tbody tr th:only-of-type {\n",
       "        vertical-align: middle;\n",
       "    }\n",
       "\n",
       "    .dataframe tbody tr th {\n",
       "        vertical-align: top;\n",
       "    }\n",
       "\n",
       "    .dataframe thead th {\n",
       "        text-align: right;\n",
       "    }\n",
       "</style>\n",
       "<table border=\"1\" class=\"dataframe\">\n",
       "  <thead>\n",
       "    <tr style=\"text-align: right;\">\n",
       "      <th></th>\n",
       "      <th>vocal_channel</th>\n",
       "      <th>statement</th>\n",
       "      <th>repetition</th>\n",
       "      <th>sex</th>\n",
       "      <th>mean</th>\n",
       "      <th>q25</th>\n",
       "      <th>q50</th>\n",
       "      <th>q75</th>\n",
       "      <th>kur</th>\n",
       "      <th>skew</th>\n",
       "      <th>...</th>\n",
       "      <th>stft_skew_w4</th>\n",
       "      <th>emotion_angry</th>\n",
       "      <th>emotion_calm</th>\n",
       "      <th>emotion_disgust</th>\n",
       "      <th>emotion_fearful</th>\n",
       "      <th>emotion_happy</th>\n",
       "      <th>emotion_neutral</th>\n",
       "      <th>emotion_sad</th>\n",
       "      <th>emotion_surprised</th>\n",
       "      <th>emotional_intensity</th>\n",
       "    </tr>\n",
       "  </thead>\n",
       "  <tbody>\n",
       "    <tr>\n",
       "      <th>0</th>\n",
       "      <td>0.0</td>\n",
       "      <td>1.0</td>\n",
       "      <td>1.0</td>\n",
       "      <td>1.0</td>\n",
       "      <td>-0.175150</td>\n",
       "      <td>-0.269601</td>\n",
       "      <td>-0.020881</td>\n",
       "      <td>0.888403</td>\n",
       "      <td>-0.428693</td>\n",
       "      <td>0.258919</td>\n",
       "      <td>...</td>\n",
       "      <td>-0.088250</td>\n",
       "      <td>0.0</td>\n",
       "      <td>0.0</td>\n",
       "      <td>0.0</td>\n",
       "      <td>1.0</td>\n",
       "      <td>0.0</td>\n",
       "      <td>0.0</td>\n",
       "      <td>0.0</td>\n",
       "      <td>0.0</td>\n",
       "      <td>0</td>\n",
       "    </tr>\n",
       "    <tr>\n",
       "      <th>1</th>\n",
       "      <td>1.0</td>\n",
       "      <td>0.0</td>\n",
       "      <td>1.0</td>\n",
       "      <td>1.0</td>\n",
       "      <td>-0.027421</td>\n",
       "      <td>0.521551</td>\n",
       "      <td>-0.020881</td>\n",
       "      <td>-0.710697</td>\n",
       "      <td>0.129164</td>\n",
       "      <td>-0.554804</td>\n",
       "      <td>...</td>\n",
       "      <td>0.320176</td>\n",
       "      <td>0.0</td>\n",
       "      <td>0.0</td>\n",
       "      <td>0.0</td>\n",
       "      <td>0.0</td>\n",
       "      <td>0.0</td>\n",
       "      <td>1.0</td>\n",
       "      <td>0.0</td>\n",
       "      <td>0.0</td>\n",
       "      <td>0</td>\n",
       "    </tr>\n",
       "    <tr>\n",
       "      <th>2</th>\n",
       "      <td>1.0</td>\n",
       "      <td>0.0</td>\n",
       "      <td>1.0</td>\n",
       "      <td>0.0</td>\n",
       "      <td>0.002715</td>\n",
       "      <td>0.543527</td>\n",
       "      <td>-0.020881</td>\n",
       "      <td>-0.735298</td>\n",
       "      <td>-0.211978</td>\n",
       "      <td>0.726873</td>\n",
       "      <td>...</td>\n",
       "      <td>0.199662</td>\n",
       "      <td>0.0</td>\n",
       "      <td>0.0</td>\n",
       "      <td>0.0</td>\n",
       "      <td>0.0</td>\n",
       "      <td>0.0</td>\n",
       "      <td>1.0</td>\n",
       "      <td>0.0</td>\n",
       "      <td>0.0</td>\n",
       "      <td>0</td>\n",
       "    </tr>\n",
       "    <tr>\n",
       "      <th>3</th>\n",
       "      <td>0.0</td>\n",
       "      <td>1.0</td>\n",
       "      <td>0.0</td>\n",
       "      <td>0.0</td>\n",
       "      <td>-0.042893</td>\n",
       "      <td>0.367716</td>\n",
       "      <td>-0.020881</td>\n",
       "      <td>-0.095658</td>\n",
       "      <td>-0.769759</td>\n",
       "      <td>-1.637050</td>\n",
       "      <td>...</td>\n",
       "      <td>-0.260094</td>\n",
       "      <td>0.0</td>\n",
       "      <td>0.0</td>\n",
       "      <td>0.0</td>\n",
       "      <td>0.0</td>\n",
       "      <td>0.0</td>\n",
       "      <td>0.0</td>\n",
       "      <td>1.0</td>\n",
       "      <td>0.0</td>\n",
       "      <td>0</td>\n",
       "    </tr>\n",
       "    <tr>\n",
       "      <th>4</th>\n",
       "      <td>0.0</td>\n",
       "      <td>0.0</td>\n",
       "      <td>1.0</td>\n",
       "      <td>1.0</td>\n",
       "      <td>-0.464303</td>\n",
       "      <td>-0.709130</td>\n",
       "      <td>-0.020881</td>\n",
       "      <td>1.786359</td>\n",
       "      <td>-0.771451</td>\n",
       "      <td>0.050328</td>\n",
       "      <td>...</td>\n",
       "      <td>-0.048191</td>\n",
       "      <td>1.0</td>\n",
       "      <td>0.0</td>\n",
       "      <td>0.0</td>\n",
       "      <td>0.0</td>\n",
       "      <td>0.0</td>\n",
       "      <td>0.0</td>\n",
       "      <td>0.0</td>\n",
       "      <td>0.0</td>\n",
       "      <td>0</td>\n",
       "    </tr>\n",
       "    <tr>\n",
       "      <th>...</th>\n",
       "      <td>...</td>\n",
       "      <td>...</td>\n",
       "      <td>...</td>\n",
       "      <td>...</td>\n",
       "      <td>...</td>\n",
       "      <td>...</td>\n",
       "      <td>...</td>\n",
       "      <td>...</td>\n",
       "      <td>...</td>\n",
       "      <td>...</td>\n",
       "      <td>...</td>\n",
       "      <td>...</td>\n",
       "      <td>...</td>\n",
       "      <td>...</td>\n",
       "      <td>...</td>\n",
       "      <td>...</td>\n",
       "      <td>...</td>\n",
       "      <td>...</td>\n",
       "      <td>...</td>\n",
       "      <td>...</td>\n",
       "      <td>...</td>\n",
       "    </tr>\n",
       "    <tr>\n",
       "      <th>113</th>\n",
       "      <td>1.0</td>\n",
       "      <td>1.0</td>\n",
       "      <td>0.0</td>\n",
       "      <td>1.0</td>\n",
       "      <td>-0.900667</td>\n",
       "      <td>0.411669</td>\n",
       "      <td>-0.020881</td>\n",
       "      <td>-0.513884</td>\n",
       "      <td>0.552691</td>\n",
       "      <td>-2.581698</td>\n",
       "      <td>...</td>\n",
       "      <td>0.843949</td>\n",
       "      <td>0.0</td>\n",
       "      <td>0.0</td>\n",
       "      <td>0.0</td>\n",
       "      <td>0.0</td>\n",
       "      <td>1.0</td>\n",
       "      <td>0.0</td>\n",
       "      <td>0.0</td>\n",
       "      <td>0.0</td>\n",
       "      <td>1</td>\n",
       "    </tr>\n",
       "    <tr>\n",
       "      <th>114</th>\n",
       "      <td>1.0</td>\n",
       "      <td>0.0</td>\n",
       "      <td>1.0</td>\n",
       "      <td>1.0</td>\n",
       "      <td>1.382520</td>\n",
       "      <td>-0.225648</td>\n",
       "      <td>-0.020881</td>\n",
       "      <td>1.036012</td>\n",
       "      <td>-0.070807</td>\n",
       "      <td>-1.767740</td>\n",
       "      <td>...</td>\n",
       "      <td>-1.828924</td>\n",
       "      <td>0.0</td>\n",
       "      <td>0.0</td>\n",
       "      <td>0.0</td>\n",
       "      <td>0.0</td>\n",
       "      <td>0.0</td>\n",
       "      <td>0.0</td>\n",
       "      <td>0.0</td>\n",
       "      <td>1.0</td>\n",
       "      <td>1</td>\n",
       "    </tr>\n",
       "    <tr>\n",
       "      <th>115</th>\n",
       "      <td>0.0</td>\n",
       "      <td>0.0</td>\n",
       "      <td>1.0</td>\n",
       "      <td>1.0</td>\n",
       "      <td>-1.973882</td>\n",
       "      <td>-4.071528</td>\n",
       "      <td>4.334794</td>\n",
       "      <td>4.923055</td>\n",
       "      <td>-0.206086</td>\n",
       "      <td>0.404534</td>\n",
       "      <td>...</td>\n",
       "      <td>-1.086900</td>\n",
       "      <td>1.0</td>\n",
       "      <td>0.0</td>\n",
       "      <td>0.0</td>\n",
       "      <td>0.0</td>\n",
       "      <td>0.0</td>\n",
       "      <td>0.0</td>\n",
       "      <td>0.0</td>\n",
       "      <td>0.0</td>\n",
       "      <td>1</td>\n",
       "    </tr>\n",
       "    <tr>\n",
       "      <th>116</th>\n",
       "      <td>1.0</td>\n",
       "      <td>0.0</td>\n",
       "      <td>0.0</td>\n",
       "      <td>0.0</td>\n",
       "      <td>-0.009547</td>\n",
       "      <td>0.477598</td>\n",
       "      <td>-0.020881</td>\n",
       "      <td>-0.636892</td>\n",
       "      <td>0.082687</td>\n",
       "      <td>0.347012</td>\n",
       "      <td>...</td>\n",
       "      <td>0.056690</td>\n",
       "      <td>1.0</td>\n",
       "      <td>0.0</td>\n",
       "      <td>0.0</td>\n",
       "      <td>0.0</td>\n",
       "      <td>0.0</td>\n",
       "      <td>0.0</td>\n",
       "      <td>0.0</td>\n",
       "      <td>0.0</td>\n",
       "      <td>1</td>\n",
       "    </tr>\n",
       "    <tr>\n",
       "      <th>117</th>\n",
       "      <td>1.0</td>\n",
       "      <td>1.0</td>\n",
       "      <td>1.0</td>\n",
       "      <td>0.0</td>\n",
       "      <td>-0.048357</td>\n",
       "      <td>0.323763</td>\n",
       "      <td>-0.020881</td>\n",
       "      <td>-0.415478</td>\n",
       "      <td>1.328307</td>\n",
       "      <td>0.666610</td>\n",
       "      <td>...</td>\n",
       "      <td>-0.202103</td>\n",
       "      <td>0.0</td>\n",
       "      <td>0.0</td>\n",
       "      <td>0.0</td>\n",
       "      <td>1.0</td>\n",
       "      <td>0.0</td>\n",
       "      <td>0.0</td>\n",
       "      <td>0.0</td>\n",
       "      <td>0.0</td>\n",
       "      <td>1</td>\n",
       "    </tr>\n",
       "  </tbody>\n",
       "</table>\n",
       "<p>118 rows × 266 columns</p>\n",
       "</div>"
      ],
      "text/plain": [
       "     vocal_channel  statement  repetition  sex      mean       q25       q50  \\\n",
       "0              0.0        1.0         1.0  1.0 -0.175150 -0.269601 -0.020881   \n",
       "1              1.0        0.0         1.0  1.0 -0.027421  0.521551 -0.020881   \n",
       "2              1.0        0.0         1.0  0.0  0.002715  0.543527 -0.020881   \n",
       "3              0.0        1.0         0.0  0.0 -0.042893  0.367716 -0.020881   \n",
       "4              0.0        0.0         1.0  1.0 -0.464303 -0.709130 -0.020881   \n",
       "..             ...        ...         ...  ...       ...       ...       ...   \n",
       "113            1.0        1.0         0.0  1.0 -0.900667  0.411669 -0.020881   \n",
       "114            1.0        0.0         1.0  1.0  1.382520 -0.225648 -0.020881   \n",
       "115            0.0        0.0         1.0  1.0 -1.973882 -4.071528  4.334794   \n",
       "116            1.0        0.0         0.0  0.0 -0.009547  0.477598 -0.020881   \n",
       "117            1.0        1.0         1.0  0.0 -0.048357  0.323763 -0.020881   \n",
       "\n",
       "          q75       kur      skew  ...  stft_skew_w4  emotion_angry  \\\n",
       "0    0.888403 -0.428693  0.258919  ...     -0.088250            0.0   \n",
       "1   -0.710697  0.129164 -0.554804  ...      0.320176            0.0   \n",
       "2   -0.735298 -0.211978  0.726873  ...      0.199662            0.0   \n",
       "3   -0.095658 -0.769759 -1.637050  ...     -0.260094            0.0   \n",
       "4    1.786359 -0.771451  0.050328  ...     -0.048191            1.0   \n",
       "..        ...       ...       ...  ...           ...            ...   \n",
       "113 -0.513884  0.552691 -2.581698  ...      0.843949            0.0   \n",
       "114  1.036012 -0.070807 -1.767740  ...     -1.828924            0.0   \n",
       "115  4.923055 -0.206086  0.404534  ...     -1.086900            1.0   \n",
       "116 -0.636892  0.082687  0.347012  ...      0.056690            1.0   \n",
       "117 -0.415478  1.328307  0.666610  ...     -0.202103            0.0   \n",
       "\n",
       "     emotion_calm  emotion_disgust  emotion_fearful  emotion_happy  \\\n",
       "0             0.0              0.0              1.0            0.0   \n",
       "1             0.0              0.0              0.0            0.0   \n",
       "2             0.0              0.0              0.0            0.0   \n",
       "3             0.0              0.0              0.0            0.0   \n",
       "4             0.0              0.0              0.0            0.0   \n",
       "..            ...              ...              ...            ...   \n",
       "113           0.0              0.0              0.0            1.0   \n",
       "114           0.0              0.0              0.0            0.0   \n",
       "115           0.0              0.0              0.0            0.0   \n",
       "116           0.0              0.0              0.0            0.0   \n",
       "117           0.0              0.0              1.0            0.0   \n",
       "\n",
       "     emotion_neutral  emotion_sad  emotion_surprised  emotional_intensity  \n",
       "0                0.0          0.0                0.0                    0  \n",
       "1                1.0          0.0                0.0                    0  \n",
       "2                1.0          0.0                0.0                    0  \n",
       "3                0.0          1.0                0.0                    0  \n",
       "4                0.0          0.0                0.0                    0  \n",
       "..               ...          ...                ...                  ...  \n",
       "113              0.0          0.0                0.0                    1  \n",
       "114              0.0          0.0                1.0                    1  \n",
       "115              0.0          0.0                0.0                    1  \n",
       "116              0.0          0.0                0.0                    1  \n",
       "117              0.0          0.0                0.0                    1  \n",
       "\n",
       "[118 rows x 266 columns]"
      ]
     },
     "execution_count": 15,
     "metadata": {},
     "output_type": "execute_result"
    }
   ],
   "source": [
    "df"
   ]
  },
  {
   "attachments": {},
   "cell_type": "markdown",
   "metadata": {},
   "source": [
    "### Oultlier analysis"
   ]
  },
  {
   "cell_type": "code",
   "execution_count": 16,
   "metadata": {},
   "outputs": [],
   "source": [
    "from sklearn.neighbors import LocalOutlierFactor\n",
    "from sklearn.ensemble import IsolationForest\n",
    "from pyod.models.abod import ABOD\n",
    "from pyod.models.knn import KNN"
   ]
  },
  {
   "cell_type": "code",
   "execution_count": 17,
   "metadata": {},
   "outputs": [
    {
     "data": {
      "text/plain": [
       "(array([-1,  1]), array([ 14, 104]))"
      ]
     },
     "execution_count": 17,
     "metadata": {},
     "output_type": "execute_result"
    }
   ],
   "source": [
    "clf_LOF = LocalOutlierFactor(n_neighbors = 21)\n",
    "y_pred = clf_LOF.fit_predict(df)\n",
    "y_outliers = df[y_pred==-1]\n",
    "np.unique(y_pred, return_counts=True)"
   ]
  },
  {
   "cell_type": "code",
   "execution_count": 18,
   "metadata": {},
   "outputs": [
    {
     "name": "stdout",
     "output_type": "stream",
     "text": [
      "14\n"
     ]
    },
    {
     "data": {
      "text/plain": [
       "[(99, -2.1046731327675685),\n",
       " (85, -2.070196416543267),\n",
       " (68, -2.030976178953717),\n",
       " (67, -2.0046156409284692),\n",
       " (115, -1.9504829829174737),\n",
       " (86, -1.7700441502026512),\n",
       " (100, -1.6976449011592973),\n",
       " (46, -1.6539155101730092),\n",
       " (82, -1.6445721208071713),\n",
       " (116, -1.5934668840496484)]"
      ]
     },
     "execution_count": 18,
     "metadata": {},
     "output_type": "execute_result"
    }
   ],
   "source": [
    "# list with indexes and scores only for outliers --> np.where(y_pred==-1)\n",
    "outlier_All_indexes_LOF = list(np.where(y_pred==-1)[0])\n",
    "outlier_indexes = np.where(y_pred==-1)[0]\n",
    "outlier_scores = clf_LOF.negative_outlier_factor_[outlier_indexes]\n",
    "\n",
    "outlier_factor_list = []\n",
    "for i in range(0,len(outlier_scores)):\n",
    "    outlier_factor_list.append((outlier_indexes[i], outlier_scores[i]))\n",
    "print(len(outlier_factor_list))\n",
    "\n",
    "#We sort in ascending order with respect to LOF factor\n",
    "def outlier_score(elem):\n",
    "    return elem[1]\n",
    "outlier_factor_list = sorted(outlier_factor_list, key=outlier_score)\n",
    "outlier_factor_list[:10]"
   ]
  },
  {
   "attachments": {},
   "cell_type": "markdown",
   "metadata": {},
   "source": [
    "###  knn"
   ]
  },
  {
   "cell_type": "code",
   "execution_count": 19,
   "metadata": {},
   "outputs": [
    {
     "data": {
      "text/plain": [
       "KNN(algorithm='auto', contamination=0.1, leaf_size=30, method='largest',\n",
       "  metric='minkowski', metric_params=None, n_jobs=1, n_neighbors=5, p=2,\n",
       "  radius=1.0)"
      ]
     },
     "execution_count": 19,
     "metadata": {},
     "output_type": "execute_result"
    }
   ],
   "source": [
    "clf_KNN = KNN(n_neighbors=5)\n",
    "clf_KNN.fit(df)"
   ]
  },
  {
   "cell_type": "code",
   "execution_count": 20,
   "metadata": {},
   "outputs": [
    {
     "data": {
      "text/plain": [
       "(array([0, 1]), array([107,  11]))"
      ]
     },
     "execution_count": 20,
     "metadata": {},
     "output_type": "execute_result"
    }
   ],
   "source": [
    "outliers_KNN = clf_KNN.predict(df)\n",
    "np.unique(outliers_KNN, return_counts=True)"
   ]
  },
  {
   "cell_type": "code",
   "execution_count": 21,
   "metadata": {},
   "outputs": [],
   "source": [
    "outlier_All_indexes_knn=list(np.where(outliers_KNN==1)[0])\n",
    "outlier_indexes_knn = np.where(outliers_KNN==1)[0]\n",
    "outlier_scores_knn = clf_KNN.decision_scores_[outlier_indexes_knn]\n",
    "y_outliers_knn = df[outliers_KNN==1]"
   ]
  },
  {
   "attachments": {},
   "cell_type": "markdown",
   "metadata": {},
   "source": [
    "### ABOD"
   ]
  },
  {
   "cell_type": "code",
   "execution_count": 22,
   "metadata": {},
   "outputs": [
    {
     "data": {
      "text/plain": [
       "ABOD(contamination=0.1, method='fast', n_neighbors=5)"
      ]
     },
     "execution_count": 22,
     "metadata": {},
     "output_type": "execute_result"
    }
   ],
   "source": [
    "clf_ABOD = ABOD()\n",
    "clf_ABOD.fit(df)"
   ]
  },
  {
   "cell_type": "code",
   "execution_count": 23,
   "metadata": {},
   "outputs": [
    {
     "data": {
      "text/plain": [
       "(array([0, 1]), array([106,  12]))"
      ]
     },
     "execution_count": 23,
     "metadata": {},
     "output_type": "execute_result"
    }
   ],
   "source": [
    "outliers_ABOD = clf_ABOD.predict(df)\n",
    "np.unique(outliers_ABOD, return_counts=True)"
   ]
  },
  {
   "cell_type": "code",
   "execution_count": 24,
   "metadata": {},
   "outputs": [],
   "source": [
    "outlier_All_indexes_abod=list(np.where(outliers_ABOD==1)[0])\n",
    "outlier_indexes_abod = np.where(outliers_ABOD==1)[0]\n",
    "outlier_scores_abod = clf_ABOD.decision_scores_[outlier_indexes_abod]\n",
    "y_outliers_ABOD = df[outliers_ABOD==1]"
   ]
  },
  {
   "attachments": {},
   "cell_type": "markdown",
   "metadata": {},
   "source": [
    "### ISO"
   ]
  },
  {
   "cell_type": "code",
   "execution_count": 25,
   "metadata": {},
   "outputs": [
    {
     "data": {
      "text/html": [
       "<style>#sk-container-id-1 {color: black;background-color: white;}#sk-container-id-1 pre{padding: 0;}#sk-container-id-1 div.sk-toggleable {background-color: white;}#sk-container-id-1 label.sk-toggleable__label {cursor: pointer;display: block;width: 100%;margin-bottom: 0;padding: 0.3em;box-sizing: border-box;text-align: center;}#sk-container-id-1 label.sk-toggleable__label-arrow:before {content: \"▸\";float: left;margin-right: 0.25em;color: #696969;}#sk-container-id-1 label.sk-toggleable__label-arrow:hover:before {color: black;}#sk-container-id-1 div.sk-estimator:hover label.sk-toggleable__label-arrow:before {color: black;}#sk-container-id-1 div.sk-toggleable__content {max-height: 0;max-width: 0;overflow: hidden;text-align: left;background-color: #f0f8ff;}#sk-container-id-1 div.sk-toggleable__content pre {margin: 0.2em;color: black;border-radius: 0.25em;background-color: #f0f8ff;}#sk-container-id-1 input.sk-toggleable__control:checked~div.sk-toggleable__content {max-height: 200px;max-width: 100%;overflow: auto;}#sk-container-id-1 input.sk-toggleable__control:checked~label.sk-toggleable__label-arrow:before {content: \"▾\";}#sk-container-id-1 div.sk-estimator input.sk-toggleable__control:checked~label.sk-toggleable__label {background-color: #d4ebff;}#sk-container-id-1 div.sk-label input.sk-toggleable__control:checked~label.sk-toggleable__label {background-color: #d4ebff;}#sk-container-id-1 input.sk-hidden--visually {border: 0;clip: rect(1px 1px 1px 1px);clip: rect(1px, 1px, 1px, 1px);height: 1px;margin: -1px;overflow: hidden;padding: 0;position: absolute;width: 1px;}#sk-container-id-1 div.sk-estimator {font-family: monospace;background-color: #f0f8ff;border: 1px dotted black;border-radius: 0.25em;box-sizing: border-box;margin-bottom: 0.5em;}#sk-container-id-1 div.sk-estimator:hover {background-color: #d4ebff;}#sk-container-id-1 div.sk-parallel-item::after {content: \"\";width: 100%;border-bottom: 1px solid gray;flex-grow: 1;}#sk-container-id-1 div.sk-label:hover label.sk-toggleable__label {background-color: #d4ebff;}#sk-container-id-1 div.sk-serial::before {content: \"\";position: absolute;border-left: 1px solid gray;box-sizing: border-box;top: 0;bottom: 0;left: 50%;z-index: 0;}#sk-container-id-1 div.sk-serial {display: flex;flex-direction: column;align-items: center;background-color: white;padding-right: 0.2em;padding-left: 0.2em;position: relative;}#sk-container-id-1 div.sk-item {position: relative;z-index: 1;}#sk-container-id-1 div.sk-parallel {display: flex;align-items: stretch;justify-content: center;background-color: white;position: relative;}#sk-container-id-1 div.sk-item::before, #sk-container-id-1 div.sk-parallel-item::before {content: \"\";position: absolute;border-left: 1px solid gray;box-sizing: border-box;top: 0;bottom: 0;left: 50%;z-index: -1;}#sk-container-id-1 div.sk-parallel-item {display: flex;flex-direction: column;z-index: 1;position: relative;background-color: white;}#sk-container-id-1 div.sk-parallel-item:first-child::after {align-self: flex-end;width: 50%;}#sk-container-id-1 div.sk-parallel-item:last-child::after {align-self: flex-start;width: 50%;}#sk-container-id-1 div.sk-parallel-item:only-child::after {width: 0;}#sk-container-id-1 div.sk-dashed-wrapped {border: 1px dashed gray;margin: 0 0.4em 0.5em 0.4em;box-sizing: border-box;padding-bottom: 0.4em;background-color: white;}#sk-container-id-1 div.sk-label label {font-family: monospace;font-weight: bold;display: inline-block;line-height: 1.2em;}#sk-container-id-1 div.sk-label-container {text-align: center;}#sk-container-id-1 div.sk-container {/* jupyter's `normalize.less` sets `[hidden] { display: none; }` but bootstrap.min.css set `[hidden] { display: none !important; }` so we also need the `!important` here to be able to override the default hidden behavior on the sphinx rendered scikit-learn.org. See: https://github.com/scikit-learn/scikit-learn/issues/21755 */display: inline-block !important;position: relative;}#sk-container-id-1 div.sk-text-repr-fallback {display: none;}</style><div id=\"sk-container-id-1\" class=\"sk-top-container\"><div class=\"sk-text-repr-fallback\"><pre>IsolationForest(random_state=0)</pre><b>In a Jupyter environment, please rerun this cell to show the HTML representation or trust the notebook. <br />On GitHub, the HTML representation is unable to render, please try loading this page with nbviewer.org.</b></div><div class=\"sk-container\" hidden><div class=\"sk-item\"><div class=\"sk-estimator sk-toggleable\"><input class=\"sk-toggleable__control sk-hidden--visually\" id=\"sk-estimator-id-1\" type=\"checkbox\" checked><label for=\"sk-estimator-id-1\" class=\"sk-toggleable__label sk-toggleable__label-arrow\">IsolationForest</label><div class=\"sk-toggleable__content\"><pre>IsolationForest(random_state=0)</pre></div></div></div></div></div>"
      ],
      "text/plain": [
       "IsolationForest(random_state=0)"
      ]
     },
     "execution_count": 25,
     "metadata": {},
     "output_type": "execute_result"
    }
   ],
   "source": [
    "from sklearn.ensemble import IsolationForest\n",
    "clf_if = IsolationForest(random_state=0)\n",
    "clf_if.fit(df)"
   ]
  },
  {
   "cell_type": "code",
   "execution_count": 26,
   "metadata": {},
   "outputs": [
    {
     "data": {
      "text/plain": [
       "(array([-1,  1]), array([  7, 111]))"
      ]
     },
     "execution_count": 26,
     "metadata": {},
     "output_type": "execute_result"
    }
   ],
   "source": [
    "outliers_if = clf_if.predict(df)\n",
    "np.unique(outliers_if, return_counts=True)"
   ]
  },
  {
   "cell_type": "code",
   "execution_count": 27,
   "metadata": {},
   "outputs": [],
   "source": [
    "outlier_All_indexes_IF=list(np.where(df == -1)[0])\n",
    "y_outliers_if = df[outliers_if==1]\n",
    "outlier_indexes_if = np.where(outliers_if == -1)[0]\n",
    "indexes_list_if = list(outlier_indexes_if)  #retrieve index of outliers\n",
    "\n",
    "outlier_scores_if=clf_if.decision_function(df)"
   ]
  },
  {
   "attachments": {},
   "cell_type": "markdown",
   "metadata": {},
   "source": [
    "### Intersezioni"
   ]
  },
  {
   "attachments": {},
   "cell_type": "markdown",
   "metadata": {},
   "source": [
    "INTERSEZIONE TECNICHE\n"
   ]
  },
  {
   "cell_type": "code",
   "execution_count": 28,
   "metadata": {},
   "outputs": [
    {
     "data": {
      "text/plain": [
       "7"
      ]
     },
     "execution_count": 28,
     "metadata": {},
     "output_type": "execute_result"
    }
   ],
   "source": [
    "set_LOF_ALL=set(outlier_All_indexes_LOF)\n",
    "#set_HBOS_ALL=set(outlier_All_indexes_HBOS)\n",
    "set_KNN_ALL=set(outlier_All_indexes_knn)\n",
    "set_ABOD_ALL=set(outlier_All_indexes_abod)\n",
    "#set_IF_ALL=set(outlier_All_indexes_IF)\n",
    "intersection_Random = set.intersection(set_LOF_ALL,set_KNN_ALL,set_ABOD_ALL)\n",
    "len(intersection_Random)"
   ]
  },
  {
   "cell_type": "code",
   "execution_count": 29,
   "metadata": {},
   "outputs": [
    {
     "data": {
      "text/html": [
       "<div>\n",
       "<style scoped>\n",
       "    .dataframe tbody tr th:only-of-type {\n",
       "        vertical-align: middle;\n",
       "    }\n",
       "\n",
       "    .dataframe tbody tr th {\n",
       "        vertical-align: top;\n",
       "    }\n",
       "\n",
       "    .dataframe thead th {\n",
       "        text-align: right;\n",
       "    }\n",
       "</style>\n",
       "<table border=\"1\" class=\"dataframe\">\n",
       "  <thead>\n",
       "    <tr style=\"text-align: right;\">\n",
       "      <th></th>\n",
       "      <th>vocal_channel</th>\n",
       "      <th>statement</th>\n",
       "      <th>repetition</th>\n",
       "      <th>sex</th>\n",
       "      <th>mean</th>\n",
       "      <th>q25</th>\n",
       "      <th>q50</th>\n",
       "      <th>q75</th>\n",
       "      <th>kur</th>\n",
       "      <th>skew</th>\n",
       "      <th>...</th>\n",
       "      <th>stft_skew_w4</th>\n",
       "      <th>emotion_angry</th>\n",
       "      <th>emotion_calm</th>\n",
       "      <th>emotion_disgust</th>\n",
       "      <th>emotion_fearful</th>\n",
       "      <th>emotion_happy</th>\n",
       "      <th>emotion_neutral</th>\n",
       "      <th>emotion_sad</th>\n",
       "      <th>emotion_surprised</th>\n",
       "      <th>emotional_intensity</th>\n",
       "    </tr>\n",
       "  </thead>\n",
       "  <tbody>\n",
       "    <tr>\n",
       "      <th>67</th>\n",
       "      <td>1.0</td>\n",
       "      <td>0.0</td>\n",
       "      <td>0.0</td>\n",
       "      <td>1.0</td>\n",
       "      <td>-0.255898</td>\n",
       "      <td>-1.588189</td>\n",
       "      <td>-0.020881</td>\n",
       "      <td>2.413698</td>\n",
       "      <td>1.065837</td>\n",
       "      <td>0.083170</td>\n",
       "      <td>...</td>\n",
       "      <td>-1.359285</td>\n",
       "      <td>0.0</td>\n",
       "      <td>0.0</td>\n",
       "      <td>0.0</td>\n",
       "      <td>0.0</td>\n",
       "      <td>0.0</td>\n",
       "      <td>0.0</td>\n",
       "      <td>1.0</td>\n",
       "      <td>0.0</td>\n",
       "      <td>1</td>\n",
       "    </tr>\n",
       "    <tr>\n",
       "      <th>99</th>\n",
       "      <td>1.0</td>\n",
       "      <td>1.0</td>\n",
       "      <td>0.0</td>\n",
       "      <td>0.0</td>\n",
       "      <td>0.787946</td>\n",
       "      <td>-0.115766</td>\n",
       "      <td>-0.020881</td>\n",
       "      <td>-0.267869</td>\n",
       "      <td>1.419436</td>\n",
       "      <td>3.260225</td>\n",
       "      <td>...</td>\n",
       "      <td>-2.198188</td>\n",
       "      <td>0.0</td>\n",
       "      <td>0.0</td>\n",
       "      <td>0.0</td>\n",
       "      <td>0.0</td>\n",
       "      <td>1.0</td>\n",
       "      <td>0.0</td>\n",
       "      <td>0.0</td>\n",
       "      <td>0.0</td>\n",
       "      <td>1</td>\n",
       "    </tr>\n",
       "    <tr>\n",
       "      <th>68</th>\n",
       "      <td>1.0</td>\n",
       "      <td>1.0</td>\n",
       "      <td>1.0</td>\n",
       "      <td>1.0</td>\n",
       "      <td>0.106668</td>\n",
       "      <td>-3.500140</td>\n",
       "      <td>-0.020881</td>\n",
       "      <td>4.283415</td>\n",
       "      <td>0.635975</td>\n",
       "      <td>0.113697</td>\n",
       "      <td>...</td>\n",
       "      <td>2.276719</td>\n",
       "      <td>0.0</td>\n",
       "      <td>0.0</td>\n",
       "      <td>0.0</td>\n",
       "      <td>1.0</td>\n",
       "      <td>0.0</td>\n",
       "      <td>0.0</td>\n",
       "      <td>0.0</td>\n",
       "      <td>0.0</td>\n",
       "      <td>1</td>\n",
       "    </tr>\n",
       "    <tr>\n",
       "      <th>46</th>\n",
       "      <td>0.0</td>\n",
       "      <td>1.0</td>\n",
       "      <td>1.0</td>\n",
       "      <td>0.0</td>\n",
       "      <td>3.656416</td>\n",
       "      <td>-3.016658</td>\n",
       "      <td>8.690469</td>\n",
       "      <td>2.118480</td>\n",
       "      <td>-0.750047</td>\n",
       "      <td>0.522037</td>\n",
       "      <td>...</td>\n",
       "      <td>-1.770026</td>\n",
       "      <td>0.0</td>\n",
       "      <td>0.0</td>\n",
       "      <td>0.0</td>\n",
       "      <td>1.0</td>\n",
       "      <td>0.0</td>\n",
       "      <td>0.0</td>\n",
       "      <td>0.0</td>\n",
       "      <td>0.0</td>\n",
       "      <td>0</td>\n",
       "    </tr>\n",
       "    <tr>\n",
       "      <th>82</th>\n",
       "      <td>1.0</td>\n",
       "      <td>1.0</td>\n",
       "      <td>1.0</td>\n",
       "      <td>0.0</td>\n",
       "      <td>-0.334822</td>\n",
       "      <td>-2.862823</td>\n",
       "      <td>-0.020881</td>\n",
       "      <td>1.847863</td>\n",
       "      <td>-0.460915</td>\n",
       "      <td>1.366414</td>\n",
       "      <td>...</td>\n",
       "      <td>2.903386</td>\n",
       "      <td>0.0</td>\n",
       "      <td>0.0</td>\n",
       "      <td>0.0</td>\n",
       "      <td>1.0</td>\n",
       "      <td>0.0</td>\n",
       "      <td>0.0</td>\n",
       "      <td>0.0</td>\n",
       "      <td>0.0</td>\n",
       "      <td>1</td>\n",
       "    </tr>\n",
       "    <tr>\n",
       "      <th>115</th>\n",
       "      <td>0.0</td>\n",
       "      <td>0.0</td>\n",
       "      <td>1.0</td>\n",
       "      <td>1.0</td>\n",
       "      <td>-1.973882</td>\n",
       "      <td>-4.071528</td>\n",
       "      <td>4.334794</td>\n",
       "      <td>4.923055</td>\n",
       "      <td>-0.206086</td>\n",
       "      <td>0.404534</td>\n",
       "      <td>...</td>\n",
       "      <td>-1.086900</td>\n",
       "      <td>1.0</td>\n",
       "      <td>0.0</td>\n",
       "      <td>0.0</td>\n",
       "      <td>0.0</td>\n",
       "      <td>0.0</td>\n",
       "      <td>0.0</td>\n",
       "      <td>0.0</td>\n",
       "      <td>0.0</td>\n",
       "      <td>1</td>\n",
       "    </tr>\n",
       "    <tr>\n",
       "      <th>85</th>\n",
       "      <td>1.0</td>\n",
       "      <td>1.0</td>\n",
       "      <td>0.0</td>\n",
       "      <td>1.0</td>\n",
       "      <td>-14.355142</td>\n",
       "      <td>-1.588189</td>\n",
       "      <td>-8.732230</td>\n",
       "      <td>1.159020</td>\n",
       "      <td>3.611617</td>\n",
       "      <td>1.527304</td>\n",
       "      <td>...</td>\n",
       "      <td>-2.211658</td>\n",
       "      <td>1.0</td>\n",
       "      <td>0.0</td>\n",
       "      <td>0.0</td>\n",
       "      <td>0.0</td>\n",
       "      <td>0.0</td>\n",
       "      <td>0.0</td>\n",
       "      <td>0.0</td>\n",
       "      <td>0.0</td>\n",
       "      <td>1</td>\n",
       "    </tr>\n",
       "  </tbody>\n",
       "</table>\n",
       "<p>7 rows × 266 columns</p>\n",
       "</div>"
      ],
      "text/plain": [
       "     vocal_channel  statement  repetition  sex       mean       q25       q50  \\\n",
       "67             1.0        0.0         0.0  1.0  -0.255898 -1.588189 -0.020881   \n",
       "99             1.0        1.0         0.0  0.0   0.787946 -0.115766 -0.020881   \n",
       "68             1.0        1.0         1.0  1.0   0.106668 -3.500140 -0.020881   \n",
       "46             0.0        1.0         1.0  0.0   3.656416 -3.016658  8.690469   \n",
       "82             1.0        1.0         1.0  0.0  -0.334822 -2.862823 -0.020881   \n",
       "115            0.0        0.0         1.0  1.0  -1.973882 -4.071528  4.334794   \n",
       "85             1.0        1.0         0.0  1.0 -14.355142 -1.588189 -8.732230   \n",
       "\n",
       "          q75       kur      skew  ...  stft_skew_w4  emotion_angry  \\\n",
       "67   2.413698  1.065837  0.083170  ...     -1.359285            0.0   \n",
       "99  -0.267869  1.419436  3.260225  ...     -2.198188            0.0   \n",
       "68   4.283415  0.635975  0.113697  ...      2.276719            0.0   \n",
       "46   2.118480 -0.750047  0.522037  ...     -1.770026            0.0   \n",
       "82   1.847863 -0.460915  1.366414  ...      2.903386            0.0   \n",
       "115  4.923055 -0.206086  0.404534  ...     -1.086900            1.0   \n",
       "85   1.159020  3.611617  1.527304  ...     -2.211658            1.0   \n",
       "\n",
       "     emotion_calm  emotion_disgust  emotion_fearful  emotion_happy  \\\n",
       "67            0.0              0.0              0.0            0.0   \n",
       "99            0.0              0.0              0.0            1.0   \n",
       "68            0.0              0.0              1.0            0.0   \n",
       "46            0.0              0.0              1.0            0.0   \n",
       "82            0.0              0.0              1.0            0.0   \n",
       "115           0.0              0.0              0.0            0.0   \n",
       "85            0.0              0.0              0.0            0.0   \n",
       "\n",
       "     emotion_neutral  emotion_sad  emotion_surprised  emotional_intensity  \n",
       "67               0.0          1.0                0.0                    1  \n",
       "99               0.0          0.0                0.0                    1  \n",
       "68               0.0          0.0                0.0                    1  \n",
       "46               0.0          0.0                0.0                    0  \n",
       "82               0.0          0.0                0.0                    1  \n",
       "115              0.0          0.0                0.0                    1  \n",
       "85               0.0          0.0                0.0                    1  \n",
       "\n",
       "[7 rows x 266 columns]"
      ]
     },
     "execution_count": 29,
     "metadata": {},
     "output_type": "execute_result"
    }
   ],
   "source": [
    "df.loc[intersection_Random]"
   ]
  },
  {
   "cell_type": "code",
   "execution_count": 30,
   "metadata": {},
   "outputs": [],
   "source": [
    "intersection_normal = {\n",
    " 249,\n",
    " 292,\n",
    " 308,\n",
    " 309,\n",
    " 311,\n",
    " 382,\n",
    " 554,\n",
    " 832,\n",
    " 1247,\n",
    " 1283,\n",
    " 1358,\n",
    " 1481,\n",
    " 1492,\n",
    " 1702,\n",
    " 1703,\n",
    " 1704,\n",
    " 1756,\n",
    " 1757,\n",
    " 1758,\n",
    " 1801}"
   ]
  },
  {
   "cell_type": "code",
   "execution_count": 31,
   "metadata": {},
   "outputs": [
    {
     "data": {
      "text/plain": [
       "0"
      ]
     },
     "execution_count": 31,
     "metadata": {},
     "output_type": "execute_result"
    }
   ],
   "source": [
    "intersection_normal_Random = set.intersection(intersection_normal,intersection_Random)\n",
    "len(intersection_normal_Random)"
   ]
  },
  {
   "cell_type": "code",
   "execution_count": 32,
   "metadata": {},
   "outputs": [],
   "source": [
    "intersection_K = {40,\n",
    " 352,\n",
    " 425,\n",
    " 546,\n",
    " 840,\n",
    " 853,\n",
    " 954,\n",
    " 970,\n",
    " 971,\n",
    " 1008,\n",
    " 1015,\n",
    " 1028,\n",
    " 1029,\n",
    " 1031,\n",
    " 1360,\n",
    " 1374,\n",
    " 1703,\n",
    " 1705}"
   ]
  },
  {
   "cell_type": "code",
   "execution_count": 33,
   "metadata": {},
   "outputs": [
    {
     "data": {
      "text/plain": [
       "0"
      ]
     },
     "execution_count": 33,
     "metadata": {},
     "output_type": "execute_result"
    }
   ],
   "source": [
    "intersection_K_Random = set.intersection(intersection_K,intersection_Random)\n",
    "len(intersection_K_Random)"
   ]
  },
  {
   "cell_type": "code",
   "execution_count": 34,
   "metadata": {},
   "outputs": [],
   "source": [
    "intersection_MDS = {352,546,1028,1029,1703,1031,40,425,1705,840,970,971,1360,1008,853,1015,954,1374}"
   ]
  },
  {
   "cell_type": "code",
   "execution_count": 35,
   "metadata": {},
   "outputs": [
    {
     "data": {
      "text/plain": [
       "0"
      ]
     },
     "execution_count": 35,
     "metadata": {},
     "output_type": "execute_result"
    }
   ],
   "source": [
    "intersection_MDS_Random = set.intersection(intersection_MDS,intersection_Random)\n",
    "len(intersection_MDS_Random)"
   ]
  },
  {
   "attachments": {},
   "cell_type": "markdown",
   "metadata": {},
   "source": [
    "### OVERSAMPLING"
   ]
  },
  {
   "cell_type": "code",
   "execution_count": 36,
   "metadata": {},
   "outputs": [],
   "source": [
    "from imblearn.over_sampling import SMOTE"
   ]
  },
  {
   "cell_type": "code",
   "execution_count": 39,
   "metadata": {},
   "outputs": [
    {
     "name": "stdout",
     "output_type": "stream",
     "text": [
      "Resampled dataset shape Counter({0: 984, 1: 984})\n"
     ]
    }
   ],
   "source": [
    "sm = SMOTE(random_state=42)\n",
    "X_res_a, y_res_a = sm.fit_resample(X_train, y_train)\n",
    "print('Resampled dataset shape %s' % Counter(y_res_a))"
   ]
  },
  {
   "cell_type": "code",
   "execution_count": 40,
   "metadata": {},
   "outputs": [],
   "source": [
    "df1 = pd.DataFrame(X_res,columns=col)"
   ]
  },
  {
   "cell_type": "code",
   "execution_count": 41,
   "metadata": {},
   "outputs": [],
   "source": [
    "df1['emotional_intensity'] = y_res"
   ]
  },
  {
   "attachments": {},
   "cell_type": "markdown",
   "metadata": {},
   "source": [
    "LOF"
   ]
  },
  {
   "cell_type": "code",
   "execution_count": 42,
   "metadata": {},
   "outputs": [
    {
     "data": {
      "text/plain": [
       "(array([-1,  1]), array([ 14, 104]))"
      ]
     },
     "execution_count": 42,
     "metadata": {},
     "output_type": "execute_result"
    }
   ],
   "source": [
    "clf_LOF = LocalOutlierFactor(n_neighbors = 21)\n",
    "y_pred = clf_LOF.fit_predict(df1)\n",
    "y_outliers = df1[y_pred==-1]\n",
    "np.unique(y_pred, return_counts=True)"
   ]
  },
  {
   "cell_type": "code",
   "execution_count": 43,
   "metadata": {},
   "outputs": [
    {
     "name": "stdout",
     "output_type": "stream",
     "text": [
      "14\n"
     ]
    },
    {
     "data": {
      "text/plain": [
       "[(99, -2.1046731327675685),\n",
       " (85, -2.070196416543267),\n",
       " (68, -2.030976178953717),\n",
       " (67, -2.0046156409284692),\n",
       " (115, -1.9504829829174737),\n",
       " (86, -1.7700441502026512),\n",
       " (100, -1.6976449011592973),\n",
       " (46, -1.6539155101730092),\n",
       " (82, -1.6445721208071713),\n",
       " (116, -1.5934668840496484)]"
      ]
     },
     "execution_count": 43,
     "metadata": {},
     "output_type": "execute_result"
    }
   ],
   "source": [
    "# list with indexes and scores only for outliers --> np.where(y_pred==-1)\n",
    "outlier_All_indexes_LOF = list(np.where(y_pred==-1)[0])\n",
    "outlier_indexes = np.where(y_pred==-1)[0]\n",
    "outlier_scores = clf_LOF.negative_outlier_factor_[outlier_indexes]\n",
    "\n",
    "outlier_factor_list = []\n",
    "for i in range(0,len(outlier_scores)):\n",
    "    outlier_factor_list.append((outlier_indexes[i], outlier_scores[i]))\n",
    "print(len(outlier_factor_list))\n",
    "\n",
    "#We sort in ascending order with respect to LOF factor\n",
    "def outlier_score(elem):\n",
    "    return elem[1]\n",
    "outlier_factor_list = sorted(outlier_factor_list, key=outlier_score)\n",
    "outlier_factor_list[:10]"
   ]
  },
  {
   "attachments": {},
   "cell_type": "markdown",
   "metadata": {},
   "source": [
    "KNN"
   ]
  },
  {
   "cell_type": "code",
   "execution_count": 44,
   "metadata": {},
   "outputs": [
    {
     "data": {
      "text/plain": [
       "KNN(algorithm='auto', contamination=0.1, leaf_size=30, method='largest',\n",
       "  metric='minkowski', metric_params=None, n_jobs=1, n_neighbors=5, p=2,\n",
       "  radius=1.0)"
      ]
     },
     "execution_count": 44,
     "metadata": {},
     "output_type": "execute_result"
    }
   ],
   "source": [
    "clf_KNN = KNN(n_neighbors=5)\n",
    "clf_KNN.fit(df1)"
   ]
  },
  {
   "cell_type": "code",
   "execution_count": 45,
   "metadata": {},
   "outputs": [
    {
     "data": {
      "text/plain": [
       "(array([0, 1]), array([107,  11]))"
      ]
     },
     "execution_count": 45,
     "metadata": {},
     "output_type": "execute_result"
    }
   ],
   "source": [
    "outliers_KNN = clf_KNN.predict(df1)\n",
    "np.unique(outliers_KNN, return_counts=True)"
   ]
  },
  {
   "cell_type": "code",
   "execution_count": 46,
   "metadata": {},
   "outputs": [],
   "source": [
    "outlier_All_indexes_knn=list(np.where(outliers_KNN==1)[0])\n",
    "outlier_indexes_knn = np.where(outliers_KNN==1)[0]\n",
    "outlier_scores_knn = clf_KNN.decision_scores_[outlier_indexes_knn]\n",
    "y_outliers_knn = df1[outliers_KNN==1]"
   ]
  },
  {
   "attachments": {},
   "cell_type": "markdown",
   "metadata": {},
   "source": [
    "ABOD"
   ]
  },
  {
   "cell_type": "code",
   "execution_count": 47,
   "metadata": {},
   "outputs": [
    {
     "data": {
      "text/plain": [
       "ABOD(contamination=0.1, method='fast', n_neighbors=5)"
      ]
     },
     "execution_count": 47,
     "metadata": {},
     "output_type": "execute_result"
    }
   ],
   "source": [
    "clf_ABOD = ABOD()\n",
    "clf_ABOD.fit(df1)"
   ]
  },
  {
   "cell_type": "code",
   "execution_count": 48,
   "metadata": {},
   "outputs": [
    {
     "data": {
      "text/plain": [
       "(array([0, 1]), array([106,  12]))"
      ]
     },
     "execution_count": 48,
     "metadata": {},
     "output_type": "execute_result"
    }
   ],
   "source": [
    "outliers_ABOD = clf_ABOD.predict(df1)\n",
    "np.unique(outliers_ABOD, return_counts=True)"
   ]
  },
  {
   "cell_type": "code",
   "execution_count": 49,
   "metadata": {},
   "outputs": [],
   "source": [
    "outlier_All_indexes_abod=list(np.where(outliers_ABOD==1)[0])\n",
    "outlier_indexes_abod = np.where(outliers_ABOD==1)[0]\n",
    "outlier_scores_abod = clf_ABOD.decision_scores_[outlier_indexes_abod]\n",
    "y_outliers_ABOD = df1[outliers_ABOD==1]"
   ]
  },
  {
   "attachments": {},
   "cell_type": "markdown",
   "metadata": {},
   "source": [
    "ISO"
   ]
  },
  {
   "cell_type": "code",
   "execution_count": 51,
   "metadata": {},
   "outputs": [
    {
     "data": {
      "text/html": [
       "<style>#sk-container-id-3 {color: black;background-color: white;}#sk-container-id-3 pre{padding: 0;}#sk-container-id-3 div.sk-toggleable {background-color: white;}#sk-container-id-3 label.sk-toggleable__label {cursor: pointer;display: block;width: 100%;margin-bottom: 0;padding: 0.3em;box-sizing: border-box;text-align: center;}#sk-container-id-3 label.sk-toggleable__label-arrow:before {content: \"▸\";float: left;margin-right: 0.25em;color: #696969;}#sk-container-id-3 label.sk-toggleable__label-arrow:hover:before {color: black;}#sk-container-id-3 div.sk-estimator:hover label.sk-toggleable__label-arrow:before {color: black;}#sk-container-id-3 div.sk-toggleable__content {max-height: 0;max-width: 0;overflow: hidden;text-align: left;background-color: #f0f8ff;}#sk-container-id-3 div.sk-toggleable__content pre {margin: 0.2em;color: black;border-radius: 0.25em;background-color: #f0f8ff;}#sk-container-id-3 input.sk-toggleable__control:checked~div.sk-toggleable__content {max-height: 200px;max-width: 100%;overflow: auto;}#sk-container-id-3 input.sk-toggleable__control:checked~label.sk-toggleable__label-arrow:before {content: \"▾\";}#sk-container-id-3 div.sk-estimator input.sk-toggleable__control:checked~label.sk-toggleable__label {background-color: #d4ebff;}#sk-container-id-3 div.sk-label input.sk-toggleable__control:checked~label.sk-toggleable__label {background-color: #d4ebff;}#sk-container-id-3 input.sk-hidden--visually {border: 0;clip: rect(1px 1px 1px 1px);clip: rect(1px, 1px, 1px, 1px);height: 1px;margin: -1px;overflow: hidden;padding: 0;position: absolute;width: 1px;}#sk-container-id-3 div.sk-estimator {font-family: monospace;background-color: #f0f8ff;border: 1px dotted black;border-radius: 0.25em;box-sizing: border-box;margin-bottom: 0.5em;}#sk-container-id-3 div.sk-estimator:hover {background-color: #d4ebff;}#sk-container-id-3 div.sk-parallel-item::after {content: \"\";width: 100%;border-bottom: 1px solid gray;flex-grow: 1;}#sk-container-id-3 div.sk-label:hover label.sk-toggleable__label {background-color: #d4ebff;}#sk-container-id-3 div.sk-serial::before {content: \"\";position: absolute;border-left: 1px solid gray;box-sizing: border-box;top: 0;bottom: 0;left: 50%;z-index: 0;}#sk-container-id-3 div.sk-serial {display: flex;flex-direction: column;align-items: center;background-color: white;padding-right: 0.2em;padding-left: 0.2em;position: relative;}#sk-container-id-3 div.sk-item {position: relative;z-index: 1;}#sk-container-id-3 div.sk-parallel {display: flex;align-items: stretch;justify-content: center;background-color: white;position: relative;}#sk-container-id-3 div.sk-item::before, #sk-container-id-3 div.sk-parallel-item::before {content: \"\";position: absolute;border-left: 1px solid gray;box-sizing: border-box;top: 0;bottom: 0;left: 50%;z-index: -1;}#sk-container-id-3 div.sk-parallel-item {display: flex;flex-direction: column;z-index: 1;position: relative;background-color: white;}#sk-container-id-3 div.sk-parallel-item:first-child::after {align-self: flex-end;width: 50%;}#sk-container-id-3 div.sk-parallel-item:last-child::after {align-self: flex-start;width: 50%;}#sk-container-id-3 div.sk-parallel-item:only-child::after {width: 0;}#sk-container-id-3 div.sk-dashed-wrapped {border: 1px dashed gray;margin: 0 0.4em 0.5em 0.4em;box-sizing: border-box;padding-bottom: 0.4em;background-color: white;}#sk-container-id-3 div.sk-label label {font-family: monospace;font-weight: bold;display: inline-block;line-height: 1.2em;}#sk-container-id-3 div.sk-label-container {text-align: center;}#sk-container-id-3 div.sk-container {/* jupyter's `normalize.less` sets `[hidden] { display: none; }` but bootstrap.min.css set `[hidden] { display: none !important; }` so we also need the `!important` here to be able to override the default hidden behavior on the sphinx rendered scikit-learn.org. See: https://github.com/scikit-learn/scikit-learn/issues/21755 */display: inline-block !important;position: relative;}#sk-container-id-3 div.sk-text-repr-fallback {display: none;}</style><div id=\"sk-container-id-3\" class=\"sk-top-container\"><div class=\"sk-text-repr-fallback\"><pre>IsolationForest(random_state=0)</pre><b>In a Jupyter environment, please rerun this cell to show the HTML representation or trust the notebook. <br />On GitHub, the HTML representation is unable to render, please try loading this page with nbviewer.org.</b></div><div class=\"sk-container\" hidden><div class=\"sk-item\"><div class=\"sk-estimator sk-toggleable\"><input class=\"sk-toggleable__control sk-hidden--visually\" id=\"sk-estimator-id-3\" type=\"checkbox\" checked><label for=\"sk-estimator-id-3\" class=\"sk-toggleable__label sk-toggleable__label-arrow\">IsolationForest</label><div class=\"sk-toggleable__content\"><pre>IsolationForest(random_state=0)</pre></div></div></div></div></div>"
      ],
      "text/plain": [
       "IsolationForest(random_state=0)"
      ]
     },
     "execution_count": 51,
     "metadata": {},
     "output_type": "execute_result"
    }
   ],
   "source": [
    "clf_if = IsolationForest(random_state=0)\n",
    "clf_if.fit(df1)"
   ]
  },
  {
   "cell_type": "code",
   "execution_count": 52,
   "metadata": {},
   "outputs": [],
   "source": [
    "outlier_All_indexes_IF=list(np.where(df == -1)[0])\n",
    "y_outliers_if = df1[outliers_if==1]\n",
    "outlier_indexes_if = np.where(outliers_if == -1)[0]\n",
    "indexes_list_if = list(outlier_indexes_if)  #retrieve index of outliers\n",
    "\n",
    "outlier_scores_if=clf_if.decision_function(df1)"
   ]
  },
  {
   "attachments": {},
   "cell_type": "markdown",
   "metadata": {},
   "source": [
    "INTERSEZIONI"
   ]
  },
  {
   "cell_type": "code",
   "execution_count": 53,
   "metadata": {},
   "outputs": [
    {
     "data": {
      "text/plain": [
       "7"
      ]
     },
     "execution_count": 53,
     "metadata": {},
     "output_type": "execute_result"
    }
   ],
   "source": [
    "set_LOF_ALL=set(outlier_All_indexes_LOF)\n",
    "#set_HBOS_ALL=set(outlier_All_indexes_HBOS)\n",
    "set_KNN_ALL=set(outlier_All_indexes_knn)\n",
    "set_ABOD_ALL=set(outlier_All_indexes_abod)\n",
    "set_IF_ALL=set(outlier_All_indexes_IF)\n",
    "intersection_Over = set.intersection(set_LOF_ALL,set_KNN_ALL,set_ABOD_ALL)\n",
    "len(intersection_Over)"
   ]
  },
  {
   "cell_type": "code",
   "execution_count": 55,
   "metadata": {},
   "outputs": [
    {
     "data": {
      "text/html": [
       "<div>\n",
       "<style scoped>\n",
       "    .dataframe tbody tr th:only-of-type {\n",
       "        vertical-align: middle;\n",
       "    }\n",
       "\n",
       "    .dataframe tbody tr th {\n",
       "        vertical-align: top;\n",
       "    }\n",
       "\n",
       "    .dataframe thead th {\n",
       "        text-align: right;\n",
       "    }\n",
       "</style>\n",
       "<table border=\"1\" class=\"dataframe\">\n",
       "  <thead>\n",
       "    <tr style=\"text-align: right;\">\n",
       "      <th></th>\n",
       "      <th>vocal_channel</th>\n",
       "      <th>statement</th>\n",
       "      <th>repetition</th>\n",
       "      <th>sex</th>\n",
       "      <th>mean</th>\n",
       "      <th>q25</th>\n",
       "      <th>q50</th>\n",
       "      <th>q75</th>\n",
       "      <th>kur</th>\n",
       "      <th>skew</th>\n",
       "      <th>...</th>\n",
       "      <th>stft_skew_w4</th>\n",
       "      <th>emotion_angry</th>\n",
       "      <th>emotion_calm</th>\n",
       "      <th>emotion_disgust</th>\n",
       "      <th>emotion_fearful</th>\n",
       "      <th>emotion_happy</th>\n",
       "      <th>emotion_neutral</th>\n",
       "      <th>emotion_sad</th>\n",
       "      <th>emotion_surprised</th>\n",
       "      <th>emotional_intensity</th>\n",
       "    </tr>\n",
       "  </thead>\n",
       "  <tbody>\n",
       "    <tr>\n",
       "      <th>67</th>\n",
       "      <td>1.0</td>\n",
       "      <td>0.0</td>\n",
       "      <td>0.0</td>\n",
       "      <td>1.0</td>\n",
       "      <td>-0.255898</td>\n",
       "      <td>-1.588189</td>\n",
       "      <td>-0.020881</td>\n",
       "      <td>2.413698</td>\n",
       "      <td>1.065837</td>\n",
       "      <td>0.083170</td>\n",
       "      <td>...</td>\n",
       "      <td>-1.359285</td>\n",
       "      <td>0.0</td>\n",
       "      <td>0.0</td>\n",
       "      <td>0.0</td>\n",
       "      <td>0.0</td>\n",
       "      <td>0.0</td>\n",
       "      <td>0.0</td>\n",
       "      <td>1.0</td>\n",
       "      <td>0.0</td>\n",
       "      <td>1</td>\n",
       "    </tr>\n",
       "    <tr>\n",
       "      <th>99</th>\n",
       "      <td>1.0</td>\n",
       "      <td>1.0</td>\n",
       "      <td>0.0</td>\n",
       "      <td>0.0</td>\n",
       "      <td>0.787946</td>\n",
       "      <td>-0.115766</td>\n",
       "      <td>-0.020881</td>\n",
       "      <td>-0.267869</td>\n",
       "      <td>1.419436</td>\n",
       "      <td>3.260225</td>\n",
       "      <td>...</td>\n",
       "      <td>-2.198188</td>\n",
       "      <td>0.0</td>\n",
       "      <td>0.0</td>\n",
       "      <td>0.0</td>\n",
       "      <td>0.0</td>\n",
       "      <td>1.0</td>\n",
       "      <td>0.0</td>\n",
       "      <td>0.0</td>\n",
       "      <td>0.0</td>\n",
       "      <td>1</td>\n",
       "    </tr>\n",
       "    <tr>\n",
       "      <th>68</th>\n",
       "      <td>1.0</td>\n",
       "      <td>1.0</td>\n",
       "      <td>1.0</td>\n",
       "      <td>1.0</td>\n",
       "      <td>0.106668</td>\n",
       "      <td>-3.500140</td>\n",
       "      <td>-0.020881</td>\n",
       "      <td>4.283415</td>\n",
       "      <td>0.635975</td>\n",
       "      <td>0.113697</td>\n",
       "      <td>...</td>\n",
       "      <td>2.276719</td>\n",
       "      <td>0.0</td>\n",
       "      <td>0.0</td>\n",
       "      <td>0.0</td>\n",
       "      <td>1.0</td>\n",
       "      <td>0.0</td>\n",
       "      <td>0.0</td>\n",
       "      <td>0.0</td>\n",
       "      <td>0.0</td>\n",
       "      <td>1</td>\n",
       "    </tr>\n",
       "    <tr>\n",
       "      <th>46</th>\n",
       "      <td>0.0</td>\n",
       "      <td>1.0</td>\n",
       "      <td>1.0</td>\n",
       "      <td>0.0</td>\n",
       "      <td>3.656416</td>\n",
       "      <td>-3.016658</td>\n",
       "      <td>8.690469</td>\n",
       "      <td>2.118480</td>\n",
       "      <td>-0.750047</td>\n",
       "      <td>0.522037</td>\n",
       "      <td>...</td>\n",
       "      <td>-1.770026</td>\n",
       "      <td>0.0</td>\n",
       "      <td>0.0</td>\n",
       "      <td>0.0</td>\n",
       "      <td>1.0</td>\n",
       "      <td>0.0</td>\n",
       "      <td>0.0</td>\n",
       "      <td>0.0</td>\n",
       "      <td>0.0</td>\n",
       "      <td>0</td>\n",
       "    </tr>\n",
       "    <tr>\n",
       "      <th>82</th>\n",
       "      <td>1.0</td>\n",
       "      <td>1.0</td>\n",
       "      <td>1.0</td>\n",
       "      <td>0.0</td>\n",
       "      <td>-0.334822</td>\n",
       "      <td>-2.862823</td>\n",
       "      <td>-0.020881</td>\n",
       "      <td>1.847863</td>\n",
       "      <td>-0.460915</td>\n",
       "      <td>1.366414</td>\n",
       "      <td>...</td>\n",
       "      <td>2.903386</td>\n",
       "      <td>0.0</td>\n",
       "      <td>0.0</td>\n",
       "      <td>0.0</td>\n",
       "      <td>1.0</td>\n",
       "      <td>0.0</td>\n",
       "      <td>0.0</td>\n",
       "      <td>0.0</td>\n",
       "      <td>0.0</td>\n",
       "      <td>1</td>\n",
       "    </tr>\n",
       "    <tr>\n",
       "      <th>115</th>\n",
       "      <td>0.0</td>\n",
       "      <td>0.0</td>\n",
       "      <td>1.0</td>\n",
       "      <td>1.0</td>\n",
       "      <td>-1.973882</td>\n",
       "      <td>-4.071528</td>\n",
       "      <td>4.334794</td>\n",
       "      <td>4.923055</td>\n",
       "      <td>-0.206086</td>\n",
       "      <td>0.404534</td>\n",
       "      <td>...</td>\n",
       "      <td>-1.086900</td>\n",
       "      <td>1.0</td>\n",
       "      <td>0.0</td>\n",
       "      <td>0.0</td>\n",
       "      <td>0.0</td>\n",
       "      <td>0.0</td>\n",
       "      <td>0.0</td>\n",
       "      <td>0.0</td>\n",
       "      <td>0.0</td>\n",
       "      <td>1</td>\n",
       "    </tr>\n",
       "    <tr>\n",
       "      <th>85</th>\n",
       "      <td>1.0</td>\n",
       "      <td>1.0</td>\n",
       "      <td>0.0</td>\n",
       "      <td>1.0</td>\n",
       "      <td>-14.355142</td>\n",
       "      <td>-1.588189</td>\n",
       "      <td>-8.732230</td>\n",
       "      <td>1.159020</td>\n",
       "      <td>3.611617</td>\n",
       "      <td>1.527304</td>\n",
       "      <td>...</td>\n",
       "      <td>-2.211658</td>\n",
       "      <td>1.0</td>\n",
       "      <td>0.0</td>\n",
       "      <td>0.0</td>\n",
       "      <td>0.0</td>\n",
       "      <td>0.0</td>\n",
       "      <td>0.0</td>\n",
       "      <td>0.0</td>\n",
       "      <td>0.0</td>\n",
       "      <td>1</td>\n",
       "    </tr>\n",
       "  </tbody>\n",
       "</table>\n",
       "<p>7 rows × 266 columns</p>\n",
       "</div>"
      ],
      "text/plain": [
       "     vocal_channel  statement  repetition  sex       mean       q25       q50  \\\n",
       "67             1.0        0.0         0.0  1.0  -0.255898 -1.588189 -0.020881   \n",
       "99             1.0        1.0         0.0  0.0   0.787946 -0.115766 -0.020881   \n",
       "68             1.0        1.0         1.0  1.0   0.106668 -3.500140 -0.020881   \n",
       "46             0.0        1.0         1.0  0.0   3.656416 -3.016658  8.690469   \n",
       "82             1.0        1.0         1.0  0.0  -0.334822 -2.862823 -0.020881   \n",
       "115            0.0        0.0         1.0  1.0  -1.973882 -4.071528  4.334794   \n",
       "85             1.0        1.0         0.0  1.0 -14.355142 -1.588189 -8.732230   \n",
       "\n",
       "          q75       kur      skew  ...  stft_skew_w4  emotion_angry  \\\n",
       "67   2.413698  1.065837  0.083170  ...     -1.359285            0.0   \n",
       "99  -0.267869  1.419436  3.260225  ...     -2.198188            0.0   \n",
       "68   4.283415  0.635975  0.113697  ...      2.276719            0.0   \n",
       "46   2.118480 -0.750047  0.522037  ...     -1.770026            0.0   \n",
       "82   1.847863 -0.460915  1.366414  ...      2.903386            0.0   \n",
       "115  4.923055 -0.206086  0.404534  ...     -1.086900            1.0   \n",
       "85   1.159020  3.611617  1.527304  ...     -2.211658            1.0   \n",
       "\n",
       "     emotion_calm  emotion_disgust  emotion_fearful  emotion_happy  \\\n",
       "67            0.0              0.0              0.0            0.0   \n",
       "99            0.0              0.0              0.0            1.0   \n",
       "68            0.0              0.0              1.0            0.0   \n",
       "46            0.0              0.0              1.0            0.0   \n",
       "82            0.0              0.0              1.0            0.0   \n",
       "115           0.0              0.0              0.0            0.0   \n",
       "85            0.0              0.0              0.0            0.0   \n",
       "\n",
       "     emotion_neutral  emotion_sad  emotion_surprised  emotional_intensity  \n",
       "67               0.0          1.0                0.0                    1  \n",
       "99               0.0          0.0                0.0                    1  \n",
       "68               0.0          0.0                0.0                    1  \n",
       "46               0.0          0.0                0.0                    0  \n",
       "82               0.0          0.0                0.0                    1  \n",
       "115              0.0          0.0                0.0                    1  \n",
       "85               0.0          0.0                0.0                    1  \n",
       "\n",
       "[7 rows x 266 columns]"
      ]
     },
     "execution_count": 55,
     "metadata": {},
     "output_type": "execute_result"
    }
   ],
   "source": [
    "df1.loc[intersection_Over]"
   ]
  },
  {
   "attachments": {},
   "cell_type": "markdown",
   "metadata": {},
   "source": [
    "INTERSEZIONE NORMAL"
   ]
  },
  {
   "cell_type": "code",
   "execution_count": 58,
   "metadata": {},
   "outputs": [
    {
     "data": {
      "text/plain": [
       "0"
      ]
     },
     "execution_count": 58,
     "metadata": {},
     "output_type": "execute_result"
    }
   ],
   "source": [
    "intersection_Over_normal = set.intersection(intersection_Over,intersection_normal)\n",
    "len(intersection_Over_normal)"
   ]
  },
  {
   "attachments": {},
   "cell_type": "markdown",
   "metadata": {},
   "source": [
    "INTERSEZIONE_MDS"
   ]
  },
  {
   "cell_type": "code",
   "execution_count": 64,
   "metadata": {},
   "outputs": [
    {
     "data": {
      "text/plain": [
       "0"
      ]
     },
     "execution_count": 64,
     "metadata": {},
     "output_type": "execute_result"
    }
   ],
   "source": [
    "intersection_Over_MDS = set.intersection(intersection_Over,intersection_normal)\n",
    "len(intersection_Over_MDS)"
   ]
  },
  {
   "attachments": {},
   "cell_type": "markdown",
   "metadata": {},
   "source": [
    "INTERSEZIONE K BEST"
   ]
  },
  {
   "cell_type": "code",
   "execution_count": 65,
   "metadata": {},
   "outputs": [
    {
     "data": {
      "text/plain": [
       "0"
      ]
     },
     "execution_count": 65,
     "metadata": {},
     "output_type": "execute_result"
    }
   ],
   "source": [
    "intersection_Over_MDS = set.intersection(intersection_K,intersection_Over)\n",
    "len(intersection_Over_MDS)"
   ]
  },
  {
   "attachments": {},
   "cell_type": "markdown",
   "metadata": {},
   "source": [
    "INTERSEZIONE UNDER + OVER "
   ]
  },
  {
   "cell_type": "code",
   "execution_count": 68,
   "metadata": {},
   "outputs": [
    {
     "data": {
      "text/plain": [
       "7"
      ]
     },
     "execution_count": 68,
     "metadata": {},
     "output_type": "execute_result"
    }
   ],
   "source": [
    "intersection_Over_under = set.intersection(intersection_Random,intersection_Over)\n",
    "len(intersection_Over_under)"
   ]
  },
  {
   "cell_type": "code",
   "execution_count": 69,
   "metadata": {},
   "outputs": [
    {
     "data": {
      "text/html": [
       "<div>\n",
       "<style scoped>\n",
       "    .dataframe tbody tr th:only-of-type {\n",
       "        vertical-align: middle;\n",
       "    }\n",
       "\n",
       "    .dataframe tbody tr th {\n",
       "        vertical-align: top;\n",
       "    }\n",
       "\n",
       "    .dataframe thead th {\n",
       "        text-align: right;\n",
       "    }\n",
       "</style>\n",
       "<table border=\"1\" class=\"dataframe\">\n",
       "  <thead>\n",
       "    <tr style=\"text-align: right;\">\n",
       "      <th></th>\n",
       "      <th>vocal_channel</th>\n",
       "      <th>statement</th>\n",
       "      <th>repetition</th>\n",
       "      <th>sex</th>\n",
       "      <th>mean</th>\n",
       "      <th>q25</th>\n",
       "      <th>q50</th>\n",
       "      <th>q75</th>\n",
       "      <th>kur</th>\n",
       "      <th>skew</th>\n",
       "      <th>...</th>\n",
       "      <th>stft_skew_w4</th>\n",
       "      <th>emotion_angry</th>\n",
       "      <th>emotion_calm</th>\n",
       "      <th>emotion_disgust</th>\n",
       "      <th>emotion_fearful</th>\n",
       "      <th>emotion_happy</th>\n",
       "      <th>emotion_neutral</th>\n",
       "      <th>emotion_sad</th>\n",
       "      <th>emotion_surprised</th>\n",
       "      <th>emotional_intensity</th>\n",
       "    </tr>\n",
       "  </thead>\n",
       "  <tbody>\n",
       "    <tr>\n",
       "      <th>99</th>\n",
       "      <td>1.0</td>\n",
       "      <td>1.0</td>\n",
       "      <td>0.0</td>\n",
       "      <td>0.0</td>\n",
       "      <td>0.787946</td>\n",
       "      <td>-0.115766</td>\n",
       "      <td>-0.020881</td>\n",
       "      <td>-0.267869</td>\n",
       "      <td>1.419436</td>\n",
       "      <td>3.260225</td>\n",
       "      <td>...</td>\n",
       "      <td>-2.198188</td>\n",
       "      <td>0.0</td>\n",
       "      <td>0.0</td>\n",
       "      <td>0.0</td>\n",
       "      <td>0.0</td>\n",
       "      <td>1.0</td>\n",
       "      <td>0.0</td>\n",
       "      <td>0.0</td>\n",
       "      <td>0.0</td>\n",
       "      <td>1</td>\n",
       "    </tr>\n",
       "    <tr>\n",
       "      <th>67</th>\n",
       "      <td>1.0</td>\n",
       "      <td>0.0</td>\n",
       "      <td>0.0</td>\n",
       "      <td>1.0</td>\n",
       "      <td>-0.255898</td>\n",
       "      <td>-1.588189</td>\n",
       "      <td>-0.020881</td>\n",
       "      <td>2.413698</td>\n",
       "      <td>1.065837</td>\n",
       "      <td>0.083170</td>\n",
       "      <td>...</td>\n",
       "      <td>-1.359285</td>\n",
       "      <td>0.0</td>\n",
       "      <td>0.0</td>\n",
       "      <td>0.0</td>\n",
       "      <td>0.0</td>\n",
       "      <td>0.0</td>\n",
       "      <td>0.0</td>\n",
       "      <td>1.0</td>\n",
       "      <td>0.0</td>\n",
       "      <td>1</td>\n",
       "    </tr>\n",
       "    <tr>\n",
       "      <th>68</th>\n",
       "      <td>1.0</td>\n",
       "      <td>1.0</td>\n",
       "      <td>1.0</td>\n",
       "      <td>1.0</td>\n",
       "      <td>0.106668</td>\n",
       "      <td>-3.500140</td>\n",
       "      <td>-0.020881</td>\n",
       "      <td>4.283415</td>\n",
       "      <td>0.635975</td>\n",
       "      <td>0.113697</td>\n",
       "      <td>...</td>\n",
       "      <td>2.276719</td>\n",
       "      <td>0.0</td>\n",
       "      <td>0.0</td>\n",
       "      <td>0.0</td>\n",
       "      <td>1.0</td>\n",
       "      <td>0.0</td>\n",
       "      <td>0.0</td>\n",
       "      <td>0.0</td>\n",
       "      <td>0.0</td>\n",
       "      <td>1</td>\n",
       "    </tr>\n",
       "    <tr>\n",
       "      <th>46</th>\n",
       "      <td>0.0</td>\n",
       "      <td>1.0</td>\n",
       "      <td>1.0</td>\n",
       "      <td>0.0</td>\n",
       "      <td>3.656416</td>\n",
       "      <td>-3.016658</td>\n",
       "      <td>8.690469</td>\n",
       "      <td>2.118480</td>\n",
       "      <td>-0.750047</td>\n",
       "      <td>0.522037</td>\n",
       "      <td>...</td>\n",
       "      <td>-1.770026</td>\n",
       "      <td>0.0</td>\n",
       "      <td>0.0</td>\n",
       "      <td>0.0</td>\n",
       "      <td>1.0</td>\n",
       "      <td>0.0</td>\n",
       "      <td>0.0</td>\n",
       "      <td>0.0</td>\n",
       "      <td>0.0</td>\n",
       "      <td>0</td>\n",
       "    </tr>\n",
       "    <tr>\n",
       "      <th>82</th>\n",
       "      <td>1.0</td>\n",
       "      <td>1.0</td>\n",
       "      <td>1.0</td>\n",
       "      <td>0.0</td>\n",
       "      <td>-0.334822</td>\n",
       "      <td>-2.862823</td>\n",
       "      <td>-0.020881</td>\n",
       "      <td>1.847863</td>\n",
       "      <td>-0.460915</td>\n",
       "      <td>1.366414</td>\n",
       "      <td>...</td>\n",
       "      <td>2.903386</td>\n",
       "      <td>0.0</td>\n",
       "      <td>0.0</td>\n",
       "      <td>0.0</td>\n",
       "      <td>1.0</td>\n",
       "      <td>0.0</td>\n",
       "      <td>0.0</td>\n",
       "      <td>0.0</td>\n",
       "      <td>0.0</td>\n",
       "      <td>1</td>\n",
       "    </tr>\n",
       "    <tr>\n",
       "      <th>115</th>\n",
       "      <td>0.0</td>\n",
       "      <td>0.0</td>\n",
       "      <td>1.0</td>\n",
       "      <td>1.0</td>\n",
       "      <td>-1.973882</td>\n",
       "      <td>-4.071528</td>\n",
       "      <td>4.334794</td>\n",
       "      <td>4.923055</td>\n",
       "      <td>-0.206086</td>\n",
       "      <td>0.404534</td>\n",
       "      <td>...</td>\n",
       "      <td>-1.086900</td>\n",
       "      <td>1.0</td>\n",
       "      <td>0.0</td>\n",
       "      <td>0.0</td>\n",
       "      <td>0.0</td>\n",
       "      <td>0.0</td>\n",
       "      <td>0.0</td>\n",
       "      <td>0.0</td>\n",
       "      <td>0.0</td>\n",
       "      <td>1</td>\n",
       "    </tr>\n",
       "    <tr>\n",
       "      <th>85</th>\n",
       "      <td>1.0</td>\n",
       "      <td>1.0</td>\n",
       "      <td>0.0</td>\n",
       "      <td>1.0</td>\n",
       "      <td>-14.355142</td>\n",
       "      <td>-1.588189</td>\n",
       "      <td>-8.732230</td>\n",
       "      <td>1.159020</td>\n",
       "      <td>3.611617</td>\n",
       "      <td>1.527304</td>\n",
       "      <td>...</td>\n",
       "      <td>-2.211658</td>\n",
       "      <td>1.0</td>\n",
       "      <td>0.0</td>\n",
       "      <td>0.0</td>\n",
       "      <td>0.0</td>\n",
       "      <td>0.0</td>\n",
       "      <td>0.0</td>\n",
       "      <td>0.0</td>\n",
       "      <td>0.0</td>\n",
       "      <td>1</td>\n",
       "    </tr>\n",
       "  </tbody>\n",
       "</table>\n",
       "<p>7 rows × 266 columns</p>\n",
       "</div>"
      ],
      "text/plain": [
       "     vocal_channel  statement  repetition  sex       mean       q25       q50  \\\n",
       "99             1.0        1.0         0.0  0.0   0.787946 -0.115766 -0.020881   \n",
       "67             1.0        0.0         0.0  1.0  -0.255898 -1.588189 -0.020881   \n",
       "68             1.0        1.0         1.0  1.0   0.106668 -3.500140 -0.020881   \n",
       "46             0.0        1.0         1.0  0.0   3.656416 -3.016658  8.690469   \n",
       "82             1.0        1.0         1.0  0.0  -0.334822 -2.862823 -0.020881   \n",
       "115            0.0        0.0         1.0  1.0  -1.973882 -4.071528  4.334794   \n",
       "85             1.0        1.0         0.0  1.0 -14.355142 -1.588189 -8.732230   \n",
       "\n",
       "          q75       kur      skew  ...  stft_skew_w4  emotion_angry  \\\n",
       "99  -0.267869  1.419436  3.260225  ...     -2.198188            0.0   \n",
       "67   2.413698  1.065837  0.083170  ...     -1.359285            0.0   \n",
       "68   4.283415  0.635975  0.113697  ...      2.276719            0.0   \n",
       "46   2.118480 -0.750047  0.522037  ...     -1.770026            0.0   \n",
       "82   1.847863 -0.460915  1.366414  ...      2.903386            0.0   \n",
       "115  4.923055 -0.206086  0.404534  ...     -1.086900            1.0   \n",
       "85   1.159020  3.611617  1.527304  ...     -2.211658            1.0   \n",
       "\n",
       "     emotion_calm  emotion_disgust  emotion_fearful  emotion_happy  \\\n",
       "99            0.0              0.0              0.0            1.0   \n",
       "67            0.0              0.0              0.0            0.0   \n",
       "68            0.0              0.0              1.0            0.0   \n",
       "46            0.0              0.0              1.0            0.0   \n",
       "82            0.0              0.0              1.0            0.0   \n",
       "115           0.0              0.0              0.0            0.0   \n",
       "85            0.0              0.0              0.0            0.0   \n",
       "\n",
       "     emotion_neutral  emotion_sad  emotion_surprised  emotional_intensity  \n",
       "99               0.0          0.0                0.0                    1  \n",
       "67               0.0          1.0                0.0                    1  \n",
       "68               0.0          0.0                0.0                    1  \n",
       "46               0.0          0.0                0.0                    0  \n",
       "82               0.0          0.0                0.0                    1  \n",
       "115              0.0          0.0                0.0                    1  \n",
       "85               0.0          0.0                0.0                    1  \n",
       "\n",
       "[7 rows x 266 columns]"
      ]
     },
     "execution_count": 69,
     "metadata": {},
     "output_type": "execute_result"
    }
   ],
   "source": [
    "df1.loc[intersection_Over_under]"
   ]
  }
 ],
 "metadata": {
  "kernelspec": {
   "display_name": "Python 3",
   "language": "python",
   "name": "python3"
  },
  "language_info": {
   "codemirror_mode": {
    "name": "ipython",
    "version": 3
   },
   "file_extension": ".py",
   "mimetype": "text/x-python",
   "name": "python",
   "nbconvert_exporter": "python",
   "pygments_lexer": "ipython3",
   "version": "3.8.8"
  },
  "orig_nbformat": 4
 },
 "nbformat": 4,
 "nbformat_minor": 2
}
