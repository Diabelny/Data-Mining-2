{
 "cells": [
  {
   "cell_type": "code",
   "execution_count": 21,
   "metadata": {},
   "outputs": [],
   "source": [
    "# Libraries and utilities\n",
    "\n",
    "# RENINDER: FARE FIT.TRANSFORM SOLO SU TRAINING E DOPO SUL TEST SOLO .TRANSFORM\n",
    "# REMINDER: NORMALIZZARE PRIMA DI FARE TUTTO IL PREPROCESSING \n",
    "\n",
    "import pandas as pd\n",
    "import numpy as np\n",
    "import seaborn as sns\n",
    "import matplotlib.pyplot as plt\n",
    "\n",
    "from sklearn.preprocessing import RobustScaler,MinMaxScaler,StandardScaler\n",
    "from sklearn import preprocessing\n",
    "from sklearn.model_selection import train_test_split\n",
    "\n",
    "from sklearn.model_selection import StratifiedKFold,RepeatedStratifiedKFold, RandomizedSearchCV,GridSearchCV, RepeatedKFold\n",
    "\n",
    "from sklearn.tree import DecisionTreeClassifier\n",
    "from sklearn.neighbors import KNeighborsClassifier\n",
    "\n",
    "from sklearn.metrics import (\n",
    "    accuracy_score,\n",
    "    f1_score,\n",
    "    classification_report,\n",
    "    confusion_matrix,\n",
    "    roc_auc_score,\n",
    ")"
   ]
  },
  {
   "cell_type": "code",
   "execution_count": 22,
   "metadata": {},
   "outputs": [],
   "source": [
    "df_train=pd.read_csv(\"./Dataset_prepared/Prepared_train.csv\")\n",
    "df_test=pd.read_csv(\"./Dataset_prepared/Prepared_test.csv\")"
   ]
  },
  {
   "cell_type": "code",
   "execution_count": 23,
   "metadata": {},
   "outputs": [
    {
     "data": {
      "text/html": [
       "<div>\n",
       "<style scoped>\n",
       "    .dataframe tbody tr th:only-of-type {\n",
       "        vertical-align: middle;\n",
       "    }\n",
       "\n",
       "    .dataframe tbody tr th {\n",
       "        vertical-align: top;\n",
       "    }\n",
       "\n",
       "    .dataframe thead th {\n",
       "        text-align: right;\n",
       "    }\n",
       "</style>\n",
       "<table border=\"1\" class=\"dataframe\">\n",
       "  <thead>\n",
       "    <tr style=\"text-align: right;\">\n",
       "      <th></th>\n",
       "      <th>vocal_channel</th>\n",
       "      <th>emotion</th>\n",
       "      <th>emotional_intensity</th>\n",
       "      <th>statement</th>\n",
       "      <th>repetition</th>\n",
       "      <th>actor</th>\n",
       "      <th>sex</th>\n",
       "      <th>filename</th>\n",
       "      <th>mean</th>\n",
       "      <th>q25</th>\n",
       "      <th>...</th>\n",
       "      <th>sc_skew_w4</th>\n",
       "      <th>stft_sum_w4</th>\n",
       "      <th>stft_q01_w4</th>\n",
       "      <th>stft_q05_w4</th>\n",
       "      <th>stft_q25_w4</th>\n",
       "      <th>stft_q50_w4</th>\n",
       "      <th>stft_q75_w4</th>\n",
       "      <th>stft_q95_w4</th>\n",
       "      <th>stft_kur_w4</th>\n",
       "      <th>stft_skew_w4</th>\n",
       "    </tr>\n",
       "  </thead>\n",
       "  <tbody>\n",
       "    <tr>\n",
       "      <th>0</th>\n",
       "      <td>speech</td>\n",
       "      <td>neutral</td>\n",
       "      <td>normal</td>\n",
       "      <td>Kids are talking by the door</td>\n",
       "      <td>1st</td>\n",
       "      <td>1</td>\n",
       "      <td>M</td>\n",
       "      <td>03-01-01-01-01-01-01.wav</td>\n",
       "      <td>9.150000e-07</td>\n",
       "      <td>-0.000031</td>\n",
       "      <td>...</td>\n",
       "      <td>-4.175609</td>\n",
       "      <td>740.409892</td>\n",
       "      <td>0.000000</td>\n",
       "      <td>0.566462</td>\n",
       "      <td>0.709962</td>\n",
       "      <td>0.799141</td>\n",
       "      <td>0.896606</td>\n",
       "      <td>1.0</td>\n",
       "      <td>6.742190</td>\n",
       "      <td>-1.706215</td>\n",
       "    </tr>\n",
       "    <tr>\n",
       "      <th>1</th>\n",
       "      <td>speech</td>\n",
       "      <td>neutral</td>\n",
       "      <td>normal</td>\n",
       "      <td>Kids are talking by the door</td>\n",
       "      <td>2nd</td>\n",
       "      <td>1</td>\n",
       "      <td>M</td>\n",
       "      <td>03-01-01-01-01-02-01.wav</td>\n",
       "      <td>7.137790e-07</td>\n",
       "      <td>-0.000031</td>\n",
       "      <td>...</td>\n",
       "      <td>-1.100390</td>\n",
       "      <td>705.975006</td>\n",
       "      <td>0.368623</td>\n",
       "      <td>0.472736</td>\n",
       "      <td>0.623183</td>\n",
       "      <td>0.744908</td>\n",
       "      <td>0.874713</td>\n",
       "      <td>1.0</td>\n",
       "      <td>-0.700420</td>\n",
       "      <td>-0.201495</td>\n",
       "    </tr>\n",
       "    <tr>\n",
       "      <th>2</th>\n",
       "      <td>speech</td>\n",
       "      <td>neutral</td>\n",
       "      <td>normal</td>\n",
       "      <td>Dogs are sitting by the door</td>\n",
       "      <td>1st</td>\n",
       "      <td>1</td>\n",
       "      <td>M</td>\n",
       "      <td>03-01-01-01-02-01-01.wav</td>\n",
       "      <td>9.554485e-07</td>\n",
       "      <td>0.000000</td>\n",
       "      <td>...</td>\n",
       "      <td>-3.120218</td>\n",
       "      <td>694.365924</td>\n",
       "      <td>0.000000</td>\n",
       "      <td>0.417919</td>\n",
       "      <td>0.643636</td>\n",
       "      <td>0.774253</td>\n",
       "      <td>0.899156</td>\n",
       "      <td>1.0</td>\n",
       "      <td>1.688986</td>\n",
       "      <td>-1.024773</td>\n",
       "    </tr>\n",
       "    <tr>\n",
       "      <th>3</th>\n",
       "      <td>speech</td>\n",
       "      <td>neutral</td>\n",
       "      <td>normal</td>\n",
       "      <td>Dogs are sitting by the door</td>\n",
       "      <td>2nd</td>\n",
       "      <td>1</td>\n",
       "      <td>M</td>\n",
       "      <td>03-01-01-01-02-02-01.wav</td>\n",
       "      <td>9.176213e-07</td>\n",
       "      <td>-0.000031</td>\n",
       "      <td>...</td>\n",
       "      <td>-0.880988</td>\n",
       "      <td>663.205667</td>\n",
       "      <td>0.306280</td>\n",
       "      <td>0.399641</td>\n",
       "      <td>0.606910</td>\n",
       "      <td>0.755213</td>\n",
       "      <td>0.886474</td>\n",
       "      <td>1.0</td>\n",
       "      <td>-0.594111</td>\n",
       "      <td>-0.412871</td>\n",
       "    </tr>\n",
       "    <tr>\n",
       "      <th>4</th>\n",
       "      <td>speech</td>\n",
       "      <td>calm</td>\n",
       "      <td>normal</td>\n",
       "      <td>Kids are talking by the door</td>\n",
       "      <td>1st</td>\n",
       "      <td>1</td>\n",
       "      <td>M</td>\n",
       "      <td>03-01-02-01-01-01-01.wav</td>\n",
       "      <td>8.108948e-07</td>\n",
       "      <td>-0.000031</td>\n",
       "      <td>...</td>\n",
       "      <td>-1.071109</td>\n",
       "      <td>741.412796</td>\n",
       "      <td>0.248765</td>\n",
       "      <td>0.428202</td>\n",
       "      <td>0.634815</td>\n",
       "      <td>0.759914</td>\n",
       "      <td>0.878014</td>\n",
       "      <td>1.0</td>\n",
       "      <td>0.126535</td>\n",
       "      <td>-0.620782</td>\n",
       "    </tr>\n",
       "  </tbody>\n",
       "</table>\n",
       "<p>5 rows × 261 columns</p>\n",
       "</div>"
      ],
      "text/plain": [
       "  vocal_channel  emotion emotional_intensity                     statement  \\\n",
       "0        speech  neutral              normal  Kids are talking by the door   \n",
       "1        speech  neutral              normal  Kids are talking by the door   \n",
       "2        speech  neutral              normal  Dogs are sitting by the door   \n",
       "3        speech  neutral              normal  Dogs are sitting by the door   \n",
       "4        speech     calm              normal  Kids are talking by the door   \n",
       "\n",
       "  repetition  actor sex                  filename          mean       q25  \\\n",
       "0        1st      1   M  03-01-01-01-01-01-01.wav  9.150000e-07 -0.000031   \n",
       "1        2nd      1   M  03-01-01-01-01-02-01.wav  7.137790e-07 -0.000031   \n",
       "2        1st      1   M  03-01-01-01-02-01-01.wav  9.554485e-07  0.000000   \n",
       "3        2nd      1   M  03-01-01-01-02-02-01.wav  9.176213e-07 -0.000031   \n",
       "4        1st      1   M  03-01-02-01-01-01-01.wav  8.108948e-07 -0.000031   \n",
       "\n",
       "   ...  sc_skew_w4  stft_sum_w4  stft_q01_w4  stft_q05_w4  stft_q25_w4  \\\n",
       "0  ...   -4.175609   740.409892     0.000000     0.566462     0.709962   \n",
       "1  ...   -1.100390   705.975006     0.368623     0.472736     0.623183   \n",
       "2  ...   -3.120218   694.365924     0.000000     0.417919     0.643636   \n",
       "3  ...   -0.880988   663.205667     0.306280     0.399641     0.606910   \n",
       "4  ...   -1.071109   741.412796     0.248765     0.428202     0.634815   \n",
       "\n",
       "   stft_q50_w4  stft_q75_w4  stft_q95_w4  stft_kur_w4  stft_skew_w4  \n",
       "0     0.799141     0.896606          1.0     6.742190     -1.706215  \n",
       "1     0.744908     0.874713          1.0    -0.700420     -0.201495  \n",
       "2     0.774253     0.899156          1.0     1.688986     -1.024773  \n",
       "3     0.755213     0.886474          1.0    -0.594111     -0.412871  \n",
       "4     0.759914     0.878014          1.0     0.126535     -0.620782  \n",
       "\n",
       "[5 rows x 261 columns]"
      ]
     },
     "execution_count": 23,
     "metadata": {},
     "output_type": "execute_result"
    }
   ],
   "source": [
    "df_train.head()"
   ]
  },
  {
   "cell_type": "code",
   "execution_count": 24,
   "metadata": {},
   "outputs": [],
   "source": [
    "df_train.drop('actor',axis=1,inplace=True)\n",
    "df_train.drop('filename',axis=1,inplace=True)\n",
    "\n",
    "df_test.drop('actor',axis=1,inplace=True)\n",
    "df_test.drop('filename',axis=1,inplace=True)"
   ]
  },
  {
   "cell_type": "code",
   "execution_count": 25,
   "metadata": {},
   "outputs": [],
   "source": [
    "le=preprocessing.LabelEncoder()\n",
    "c = df_train.select_dtypes(include=['object']).columns.tolist()\n",
    "for i in c:\n",
    "    df_train[i]=le.fit_transform(df_train[i])\n",
    "\n",
    "for i in c:\n",
    "    df_test[i]=le.fit_transform(df_test[i])"
   ]
  },
  {
   "attachments": {},
   "cell_type": "markdown",
   "metadata": {},
   "source": [
    "Normalizzazione train e test"
   ]
  },
  {
   "cell_type": "code",
   "execution_count": 26,
   "metadata": {},
   "outputs": [],
   "source": [
    "scaler = StandardScaler()\n",
    "numeric_features = [n for n in df_train.columns if n!=\"emotion\" and n!= \"vocal_channel\" and n!= \"emotional_intensity\" and n!= \"statement\" and n!= \"repetition\" and n!= \"sex\" and n!=\"filename\" and n!=\"actor\"]\n",
    "scaled_features = scaler.fit_transform(df_train[numeric_features])\n",
    "df_train[numeric_features] = scaled_features\n",
    "\n",
    "\n",
    "scaled_features_test = scaler.transform(df_test[numeric_features])\n",
    "df_test[numeric_features] = scaled_features_test\n",
    "\n"
   ]
  },
  {
   "cell_type": "code",
   "execution_count": 27,
   "metadata": {},
   "outputs": [],
   "source": [
    "col=[x for x in df_train.columns if x!=\"emotion\"]\n",
    "X_train=df_train[col].values\n",
    "y_train = np.array(df_train[\"emotion\"])"
   ]
  },
  {
   "cell_type": "code",
   "execution_count": 28,
   "metadata": {},
   "outputs": [],
   "source": [
    "X_test=df_test[col].values\n",
    "y_test = np.array(df_test[\"emotion\"])"
   ]
  },
  {
   "attachments": {},
   "cell_type": "markdown",
   "metadata": {},
   "source": [
    "DT"
   ]
  },
  {
   "cell_type": "code",
   "execution_count": 29,
   "metadata": {},
   "outputs": [],
   "source": [
    "param_grid = {'max_depth': [None, 2, 5, 10, 15, 20],\n",
    "              'min_samples_split': [2, 5, 10, 15, 20],\n",
    "              'min_samples_leaf': [1, 5, 10, 15, 20]\n",
    "}\n",
    "\n",
    "grid = GridSearchCV(\n",
    "    DecisionTreeClassifier(),\n",
    "    param_grid=param_grid,\n",
    "    cv=StratifiedKFold(), # with no parameters it is with 5 split and 10 repetitions\n",
    "    refit=True,\n",
    "    scoring=\"f1_macro\"\n",
    ")\n",
    "grid.fit(X_train, y_train)\n",
    "clf = grid.best_estimator_"
   ]
  },
  {
   "cell_type": "code",
   "execution_count": 30,
   "metadata": {},
   "outputs": [
    {
     "name": "stdout",
     "output_type": "stream",
     "text": [
      "{'max_depth': 10, 'min_samples_leaf': 20, 'min_samples_split': 2}\n"
     ]
    }
   ],
   "source": [
    "print(grid.best_params_)"
   ]
  },
  {
   "cell_type": "code",
   "execution_count": 31,
   "metadata": {},
   "outputs": [
    {
     "name": "stdout",
     "output_type": "stream",
     "text": [
      "              precision    recall  f1-score   support\n",
      "\n",
      "           0       0.46      0.61      0.53        96\n",
      "           1       0.47      0.33      0.39        96\n",
      "           2       0.31      0.29      0.30        48\n",
      "           3       0.26      0.21      0.23        96\n",
      "           4       0.24      0.22      0.23        96\n",
      "           5       0.29      0.48      0.36        48\n",
      "           6       0.31      0.29      0.30        96\n",
      "           7       0.44      0.44      0.44        48\n",
      "\n",
      "    accuracy                           0.35       624\n",
      "   macro avg       0.35      0.36      0.35       624\n",
      "weighted avg       0.35      0.35      0.34       624\n",
      "\n"
     ]
    }
   ],
   "source": [
    "learner = DecisionTreeClassifier(max_depth=10,min_samples_split=2,min_samples_leaf=20)\n",
    "classifier = learner.fit(X_train, y_train)\n",
    "predictions = classifier.predict(X_test)\n",
    "\n",
    "print(classification_report(y_test,predictions))"
   ]
  },
  {
   "attachments": {},
   "cell_type": "markdown",
   "metadata": {},
   "source": [
    "KNN"
   ]
  },
  {
   "cell_type": "code",
   "execution_count": 32,
   "metadata": {},
   "outputs": [],
   "source": [
    "X_train=df_train[col].values\n",
    "y_train = np.array(df_train[\"emotion\"])"
   ]
  },
  {
   "cell_type": "code",
   "execution_count": 33,
   "metadata": {},
   "outputs": [],
   "source": [
    "param_grid = {\n",
    "    \"n_neighbors\": np.arange(2,51),\n",
    "    \"weights\": [\"uniform\", \"distance\"],\n",
    "    \"metric\": [\"euclidean\", \"cityblock\",\"minkowski\"], # cityblock is the manhattan distance\n",
    "}\n",
    "\n",
    "grid = GridSearchCV(\n",
    "    KNeighborsClassifier(),\n",
    "    param_grid=param_grid,\n",
    "    cv=StratifiedKFold(), # with no parameters it is with 5 split and 10 repetitions\n",
    "    refit=True,\n",
    "    scoring=\"f1_macro\"\n",
    ")\n",
    "\n",
    "grid.fit(X_train, y_train)\n",
    "clf = grid.best_estimator_"
   ]
  },
  {
   "cell_type": "code",
   "execution_count": 34,
   "metadata": {},
   "outputs": [
    {
     "name": "stdout",
     "output_type": "stream",
     "text": [
      "{'metric': 'cityblock', 'n_neighbors': 40, 'weights': 'distance'}\n"
     ]
    }
   ],
   "source": [
    "print(grid.best_params_)"
   ]
  },
  {
   "cell_type": "code",
   "execution_count": 60,
   "metadata": {},
   "outputs": [],
   "source": [
    "X_test=df_test[col].values\n",
    "y_test = np.array(df_test[\"emotion\"])"
   ]
  },
  {
   "cell_type": "code",
   "execution_count": 35,
   "metadata": {},
   "outputs": [
    {
     "name": "stdout",
     "output_type": "stream",
     "text": [
      "              precision    recall  f1-score   support\n",
      "\n",
      "           0       0.55      0.59      0.57        96\n",
      "           1       0.49      0.56      0.52        96\n",
      "           2       0.50      0.27      0.35        48\n",
      "           3       0.45      0.39      0.41        96\n",
      "           4       0.34      0.45      0.39        96\n",
      "           5       0.42      0.27      0.33        48\n",
      "           6       0.27      0.24      0.26        96\n",
      "           7       0.28      0.35      0.31        48\n",
      "\n",
      "    accuracy                           0.41       624\n",
      "   macro avg       0.41      0.39      0.39       624\n",
      "weighted avg       0.42      0.41      0.41       624\n",
      "\n"
     ]
    }
   ],
   "source": [
    "learner = KNeighborsClassifier(n_neighbors= 40, metric= 'cityblock', weights= 'distance')\n",
    "classifier = learner.fit(X_train, y_train)\n",
    "predictions = classifier.predict(X_test)\n",
    "\n",
    "print(classification_report(y_test,predictions))"
   ]
  }
 ],
 "metadata": {
  "kernelspec": {
   "display_name": "base",
   "language": "python",
   "name": "python3"
  },
  "language_info": {
   "codemirror_mode": {
    "name": "ipython",
    "version": 3
   },
   "file_extension": ".py",
   "mimetype": "text/x-python",
   "name": "python",
   "nbconvert_exporter": "python",
   "pygments_lexer": "ipython3",
   "version": "3.8.8"
  },
  "orig_nbformat": 4,
  "vscode": {
   "interpreter": {
    "hash": "88279d2366fe020547cde40dd65aa0e3aa662a6ec1f3ca12d88834876c85e1a6"
   }
  }
 },
 "nbformat": 4,
 "nbformat_minor": 2
}
