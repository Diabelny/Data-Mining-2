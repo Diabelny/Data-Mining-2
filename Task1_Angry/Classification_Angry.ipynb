{
 "cells": [
  {
   "cell_type": "code",
   "execution_count": 46,
   "metadata": {},
   "outputs": [],
   "source": [
    "# Libraries and utilities\n",
    "\n",
    "# RENINDER: FARE FIT.TRANSFORM SOLO SU TRAINING E DOPO SUL TEST SOLO .TRANSFORM\n",
    "# REMINDER: NORMALIZZARE PRIMA DI FARE TUTTO IL PREPROCESSING \n",
    "\n",
    "import pandas as pd\n",
    "import numpy as np\n",
    "import seaborn as sns\n",
    "import matplotlib.pyplot as plt\n",
    "\n",
    "from sklearn.preprocessing import RobustScaler,MinMaxScaler,StandardScaler, OneHotEncoder\n",
    "from sklearn import preprocessing\n",
    "\n",
    "from sklearn.model_selection import StratifiedKFold,RepeatedStratifiedKFold, RandomizedSearchCV,GridSearchCV, RepeatedKFold, train_test_split\n",
    "\n",
    "from sklearn.tree import DecisionTreeClassifier\n",
    "from sklearn.neighbors import KNeighborsClassifier\n",
    "\n",
    "from sklearn.metrics import (\n",
    "    accuracy_score,\n",
    "    f1_score,\n",
    "    classification_report,\n",
    "    confusion_matrix,\n",
    "    roc_auc_score,\n",
    ")\n",
    "\n",
    "from scikitplot.metrics import plot_roc\n",
    "\n",
    "from collections import Counter\n",
    "from imblearn.datasets import make_imbalance\n",
    "\n",
    "from sklearn.metrics import roc_curve, auc, roc_auc_score"
   ]
  },
  {
   "cell_type": "code",
   "execution_count": 2,
   "metadata": {},
   "outputs": [],
   "source": [
    "df_train=pd.read_csv(\"../Dataset_prepared/Prepared_train.csv\")\n",
    "df_test=pd.read_csv(\"../Dataset_prepared/Prepared_test.csv\")\n",
    "\n",
    "df_train.drop('actor',axis=1,inplace=True)\n",
    "df_train.drop('filename',axis=1,inplace=True)\n",
    "\n",
    "df_test.drop('actor',axis=1,inplace=True)\n",
    "df_test.drop('filename',axis=1,inplace=True)"
   ]
  },
  {
   "cell_type": "code",
   "execution_count": 3,
   "metadata": {},
   "outputs": [],
   "source": [
    "\n",
    "#creating instance of one-hot-encoder\n",
    "encoder = OneHotEncoder()\n",
    "#perform one-hot encoding on 'emotion' column \n",
    "encoder_df = pd.DataFrame(encoder.fit_transform(df_train[['emotion']]).toarray())\n",
    "encoder_df_test = pd.DataFrame(encoder.fit_transform(df_test[['emotion']]).toarray())\n",
    "#merge one-hot encoded columns back with original DataFrame\n",
    "df_train = df_train.join(encoder_df)\n",
    "df_test = df_test.join(encoder_df_test)\n",
    "#drop 'emotion' column\n",
    "df_train.drop('emotion', axis=1, inplace=True)\n",
    "df_test.drop('emotion', axis=1, inplace=True)\n",
    "#rename 0=Angry column\n",
    "df_train.rename(columns = {0:'IsAngry?'}, inplace = True)\n",
    "df_test.rename(columns = {0:'IsAngry?'}, inplace = True)\n",
    "#drop other emotion columns\n",
    "df_train.drop([1,2,3,4,5,6,7],axis=1,inplace=True)\n",
    "df_test.drop([1,2,3,4,5,6,7],axis=1,inplace=True)\n",
    "#transform IsAngry? from float to integer\n",
    "df_train['IsAngry?'] = df_train['IsAngry?'].astype(int)\n",
    "df_test[\"IsAngry?\"] = df_test['IsAngry?'].astype(int)\n"
   ]
  },
  {
   "cell_type": "code",
   "execution_count": 4,
   "metadata": {},
   "outputs": [
    {
     "data": {
      "text/html": [
       "<div>\n",
       "<style scoped>\n",
       "    .dataframe tbody tr th:only-of-type {\n",
       "        vertical-align: middle;\n",
       "    }\n",
       "\n",
       "    .dataframe tbody tr th {\n",
       "        vertical-align: top;\n",
       "    }\n",
       "\n",
       "    .dataframe thead th {\n",
       "        text-align: right;\n",
       "    }\n",
       "</style>\n",
       "<table border=\"1\" class=\"dataframe\">\n",
       "  <thead>\n",
       "    <tr style=\"text-align: right;\">\n",
       "      <th></th>\n",
       "      <th>vocal_channel</th>\n",
       "      <th>emotional_intensity</th>\n",
       "      <th>statement</th>\n",
       "      <th>repetition</th>\n",
       "      <th>sex</th>\n",
       "      <th>mean</th>\n",
       "      <th>q25</th>\n",
       "      <th>q50</th>\n",
       "      <th>q75</th>\n",
       "      <th>kur</th>\n",
       "      <th>...</th>\n",
       "      <th>stft_sum_w4</th>\n",
       "      <th>stft_q01_w4</th>\n",
       "      <th>stft_q05_w4</th>\n",
       "      <th>stft_q25_w4</th>\n",
       "      <th>stft_q50_w4</th>\n",
       "      <th>stft_q75_w4</th>\n",
       "      <th>stft_q95_w4</th>\n",
       "      <th>stft_kur_w4</th>\n",
       "      <th>stft_skew_w4</th>\n",
       "      <th>IsAngry?</th>\n",
       "    </tr>\n",
       "  </thead>\n",
       "  <tbody>\n",
       "    <tr>\n",
       "      <th>0</th>\n",
       "      <td>speech</td>\n",
       "      <td>normal</td>\n",
       "      <td>Kids are talking by the door</td>\n",
       "      <td>1st</td>\n",
       "      <td>M</td>\n",
       "      <td>9.150000e-07</td>\n",
       "      <td>-0.000031</td>\n",
       "      <td>0.0</td>\n",
       "      <td>0.0</td>\n",
       "      <td>15.028520</td>\n",
       "      <td>...</td>\n",
       "      <td>740.409892</td>\n",
       "      <td>0.000000</td>\n",
       "      <td>0.566462</td>\n",
       "      <td>0.709962</td>\n",
       "      <td>0.799141</td>\n",
       "      <td>0.896606</td>\n",
       "      <td>1.0</td>\n",
       "      <td>6.742190</td>\n",
       "      <td>-1.706215</td>\n",
       "      <td>0</td>\n",
       "    </tr>\n",
       "    <tr>\n",
       "      <th>1</th>\n",
       "      <td>speech</td>\n",
       "      <td>normal</td>\n",
       "      <td>Kids are talking by the door</td>\n",
       "      <td>2nd</td>\n",
       "      <td>M</td>\n",
       "      <td>7.137790e-07</td>\n",
       "      <td>-0.000031</td>\n",
       "      <td>0.0</td>\n",
       "      <td>0.0</td>\n",
       "      <td>16.488415</td>\n",
       "      <td>...</td>\n",
       "      <td>705.975006</td>\n",
       "      <td>0.368623</td>\n",
       "      <td>0.472736</td>\n",
       "      <td>0.623183</td>\n",
       "      <td>0.744908</td>\n",
       "      <td>0.874713</td>\n",
       "      <td>1.0</td>\n",
       "      <td>-0.700420</td>\n",
       "      <td>-0.201495</td>\n",
       "      <td>0</td>\n",
       "    </tr>\n",
       "    <tr>\n",
       "      <th>2</th>\n",
       "      <td>speech</td>\n",
       "      <td>normal</td>\n",
       "      <td>Dogs are sitting by the door</td>\n",
       "      <td>1st</td>\n",
       "      <td>M</td>\n",
       "      <td>9.554485e-07</td>\n",
       "      <td>0.000000</td>\n",
       "      <td>0.0</td>\n",
       "      <td>0.0</td>\n",
       "      <td>17.035218</td>\n",
       "      <td>...</td>\n",
       "      <td>694.365924</td>\n",
       "      <td>0.000000</td>\n",
       "      <td>0.417919</td>\n",
       "      <td>0.643636</td>\n",
       "      <td>0.774253</td>\n",
       "      <td>0.899156</td>\n",
       "      <td>1.0</td>\n",
       "      <td>1.688986</td>\n",
       "      <td>-1.024773</td>\n",
       "      <td>0</td>\n",
       "    </tr>\n",
       "    <tr>\n",
       "      <th>3</th>\n",
       "      <td>speech</td>\n",
       "      <td>normal</td>\n",
       "      <td>Dogs are sitting by the door</td>\n",
       "      <td>2nd</td>\n",
       "      <td>M</td>\n",
       "      <td>9.176213e-07</td>\n",
       "      <td>-0.000031</td>\n",
       "      <td>0.0</td>\n",
       "      <td>0.0</td>\n",
       "      <td>21.824521</td>\n",
       "      <td>...</td>\n",
       "      <td>663.205667</td>\n",
       "      <td>0.306280</td>\n",
       "      <td>0.399641</td>\n",
       "      <td>0.606910</td>\n",
       "      <td>0.755213</td>\n",
       "      <td>0.886474</td>\n",
       "      <td>1.0</td>\n",
       "      <td>-0.594111</td>\n",
       "      <td>-0.412871</td>\n",
       "      <td>0</td>\n",
       "    </tr>\n",
       "    <tr>\n",
       "      <th>4</th>\n",
       "      <td>speech</td>\n",
       "      <td>normal</td>\n",
       "      <td>Kids are talking by the door</td>\n",
       "      <td>1st</td>\n",
       "      <td>M</td>\n",
       "      <td>8.108948e-07</td>\n",
       "      <td>-0.000031</td>\n",
       "      <td>0.0</td>\n",
       "      <td>0.0</td>\n",
       "      <td>13.236022</td>\n",
       "      <td>...</td>\n",
       "      <td>741.412796</td>\n",
       "      <td>0.248765</td>\n",
       "      <td>0.428202</td>\n",
       "      <td>0.634815</td>\n",
       "      <td>0.759914</td>\n",
       "      <td>0.878014</td>\n",
       "      <td>1.0</td>\n",
       "      <td>0.126535</td>\n",
       "      <td>-0.620782</td>\n",
       "      <td>0</td>\n",
       "    </tr>\n",
       "  </tbody>\n",
       "</table>\n",
       "<p>5 rows × 259 columns</p>\n",
       "</div>"
      ],
      "text/plain": [
       "  vocal_channel emotional_intensity                     statement repetition  \\\n",
       "0        speech              normal  Kids are talking by the door        1st   \n",
       "1        speech              normal  Kids are talking by the door        2nd   \n",
       "2        speech              normal  Dogs are sitting by the door        1st   \n",
       "3        speech              normal  Dogs are sitting by the door        2nd   \n",
       "4        speech              normal  Kids are talking by the door        1st   \n",
       "\n",
       "  sex          mean       q25  q50  q75        kur  ...  stft_sum_w4  \\\n",
       "0   M  9.150000e-07 -0.000031  0.0  0.0  15.028520  ...   740.409892   \n",
       "1   M  7.137790e-07 -0.000031  0.0  0.0  16.488415  ...   705.975006   \n",
       "2   M  9.554485e-07  0.000000  0.0  0.0  17.035218  ...   694.365924   \n",
       "3   M  9.176213e-07 -0.000031  0.0  0.0  21.824521  ...   663.205667   \n",
       "4   M  8.108948e-07 -0.000031  0.0  0.0  13.236022  ...   741.412796   \n",
       "\n",
       "   stft_q01_w4  stft_q05_w4  stft_q25_w4  stft_q50_w4  stft_q75_w4  \\\n",
       "0     0.000000     0.566462     0.709962     0.799141     0.896606   \n",
       "1     0.368623     0.472736     0.623183     0.744908     0.874713   \n",
       "2     0.000000     0.417919     0.643636     0.774253     0.899156   \n",
       "3     0.306280     0.399641     0.606910     0.755213     0.886474   \n",
       "4     0.248765     0.428202     0.634815     0.759914     0.878014   \n",
       "\n",
       "   stft_q95_w4  stft_kur_w4  stft_skew_w4  IsAngry?  \n",
       "0          1.0     6.742190     -1.706215         0  \n",
       "1          1.0    -0.700420     -0.201495         0  \n",
       "2          1.0     1.688986     -1.024773         0  \n",
       "3          1.0    -0.594111     -0.412871         0  \n",
       "4          1.0     0.126535     -0.620782         0  \n",
       "\n",
       "[5 rows x 259 columns]"
      ]
     },
     "execution_count": 4,
     "metadata": {},
     "output_type": "execute_result"
    }
   ],
   "source": [
    "df_train.head()"
   ]
  },
  {
   "cell_type": "code",
   "execution_count": 5,
   "metadata": {},
   "outputs": [
    {
     "data": {
      "text/html": [
       "<div>\n",
       "<style scoped>\n",
       "    .dataframe tbody tr th:only-of-type {\n",
       "        vertical-align: middle;\n",
       "    }\n",
       "\n",
       "    .dataframe tbody tr th {\n",
       "        vertical-align: top;\n",
       "    }\n",
       "\n",
       "    .dataframe thead th {\n",
       "        text-align: right;\n",
       "    }\n",
       "</style>\n",
       "<table border=\"1\" class=\"dataframe\">\n",
       "  <thead>\n",
       "    <tr style=\"text-align: right;\">\n",
       "      <th></th>\n",
       "      <th>vocal_channel</th>\n",
       "      <th>emotional_intensity</th>\n",
       "      <th>statement</th>\n",
       "      <th>repetition</th>\n",
       "      <th>sex</th>\n",
       "      <th>mean</th>\n",
       "      <th>q25</th>\n",
       "      <th>q50</th>\n",
       "      <th>q75</th>\n",
       "      <th>kur</th>\n",
       "      <th>...</th>\n",
       "      <th>stft_sum_w4</th>\n",
       "      <th>stft_q01_w4</th>\n",
       "      <th>stft_q05_w4</th>\n",
       "      <th>stft_q25_w4</th>\n",
       "      <th>stft_q50_w4</th>\n",
       "      <th>stft_q75_w4</th>\n",
       "      <th>stft_q95_w4</th>\n",
       "      <th>stft_kur_w4</th>\n",
       "      <th>stft_skew_w4</th>\n",
       "      <th>IsAngry?</th>\n",
       "    </tr>\n",
       "  </thead>\n",
       "  <tbody>\n",
       "    <tr>\n",
       "      <th>0</th>\n",
       "      <td>speech</td>\n",
       "      <td>normal</td>\n",
       "      <td>Kids are talking by the door</td>\n",
       "      <td>1st</td>\n",
       "      <td>M</td>\n",
       "      <td>2.940224e-06</td>\n",
       "      <td>-0.000092</td>\n",
       "      <td>0.0</td>\n",
       "      <td>0.000153</td>\n",
       "      <td>11.392131</td>\n",
       "      <td>...</td>\n",
       "      <td>727.157574</td>\n",
       "      <td>0.306697</td>\n",
       "      <td>0.466157</td>\n",
       "      <td>0.645931</td>\n",
       "      <td>0.789123</td>\n",
       "      <td>0.908316</td>\n",
       "      <td>1.0</td>\n",
       "      <td>-0.260279</td>\n",
       "      <td>-0.566556</td>\n",
       "      <td>0</td>\n",
       "    </tr>\n",
       "    <tr>\n",
       "      <th>1</th>\n",
       "      <td>speech</td>\n",
       "      <td>normal</td>\n",
       "      <td>Kids are talking by the door</td>\n",
       "      <td>2nd</td>\n",
       "      <td>M</td>\n",
       "      <td>7.733752e-07</td>\n",
       "      <td>-0.000122</td>\n",
       "      <td>0.0</td>\n",
       "      <td>0.000153</td>\n",
       "      <td>13.621589</td>\n",
       "      <td>...</td>\n",
       "      <td>637.658102</td>\n",
       "      <td>0.170786</td>\n",
       "      <td>0.279347</td>\n",
       "      <td>0.557524</td>\n",
       "      <td>0.733053</td>\n",
       "      <td>0.866973</td>\n",
       "      <td>1.0</td>\n",
       "      <td>-0.428900</td>\n",
       "      <td>-0.587210</td>\n",
       "      <td>0</td>\n",
       "    </tr>\n",
       "    <tr>\n",
       "      <th>2</th>\n",
       "      <td>speech</td>\n",
       "      <td>normal</td>\n",
       "      <td>Dogs are sitting by the door</td>\n",
       "      <td>1st</td>\n",
       "      <td>M</td>\n",
       "      <td>-3.741909e-06</td>\n",
       "      <td>-0.000061</td>\n",
       "      <td>0.0</td>\n",
       "      <td>0.000092</td>\n",
       "      <td>7.678162</td>\n",
       "      <td>...</td>\n",
       "      <td>672.592436</td>\n",
       "      <td>0.023285</td>\n",
       "      <td>0.305395</td>\n",
       "      <td>0.577750</td>\n",
       "      <td>0.741576</td>\n",
       "      <td>0.889984</td>\n",
       "      <td>1.0</td>\n",
       "      <td>0.626916</td>\n",
       "      <td>-0.883317</td>\n",
       "      <td>0</td>\n",
       "    </tr>\n",
       "    <tr>\n",
       "      <th>3</th>\n",
       "      <td>speech</td>\n",
       "      <td>normal</td>\n",
       "      <td>Dogs are sitting by the door</td>\n",
       "      <td>2nd</td>\n",
       "      <td>M</td>\n",
       "      <td>-5.069646e-07</td>\n",
       "      <td>-0.000092</td>\n",
       "      <td>0.0</td>\n",
       "      <td>0.000122</td>\n",
       "      <td>14.511231</td>\n",
       "      <td>...</td>\n",
       "      <td>704.158385</td>\n",
       "      <td>0.368081</td>\n",
       "      <td>0.434591</td>\n",
       "      <td>0.620144</td>\n",
       "      <td>0.776419</td>\n",
       "      <td>0.904668</td>\n",
       "      <td>1.0</td>\n",
       "      <td>-0.825144</td>\n",
       "      <td>-0.383701</td>\n",
       "      <td>0</td>\n",
       "    </tr>\n",
       "    <tr>\n",
       "      <th>4</th>\n",
       "      <td>speech</td>\n",
       "      <td>normal</td>\n",
       "      <td>Kids are talking by the door</td>\n",
       "      <td>1st</td>\n",
       "      <td>M</td>\n",
       "      <td>8.640319e-07</td>\n",
       "      <td>-0.000061</td>\n",
       "      <td>0.0</td>\n",
       "      <td>0.000122</td>\n",
       "      <td>8.944732</td>\n",
       "      <td>...</td>\n",
       "      <td>780.167518</td>\n",
       "      <td>0.298851</td>\n",
       "      <td>0.393112</td>\n",
       "      <td>0.623309</td>\n",
       "      <td>0.772964</td>\n",
       "      <td>0.907035</td>\n",
       "      <td>1.0</td>\n",
       "      <td>-0.536669</td>\n",
       "      <td>-0.547354</td>\n",
       "      <td>0</td>\n",
       "    </tr>\n",
       "  </tbody>\n",
       "</table>\n",
       "<p>5 rows × 259 columns</p>\n",
       "</div>"
      ],
      "text/plain": [
       "  vocal_channel emotional_intensity                     statement repetition  \\\n",
       "0        speech              normal  Kids are talking by the door        1st   \n",
       "1        speech              normal  Kids are talking by the door        2nd   \n",
       "2        speech              normal  Dogs are sitting by the door        1st   \n",
       "3        speech              normal  Dogs are sitting by the door        2nd   \n",
       "4        speech              normal  Kids are talking by the door        1st   \n",
       "\n",
       "  sex          mean       q25  q50       q75        kur  ...  stft_sum_w4  \\\n",
       "0   M  2.940224e-06 -0.000092  0.0  0.000153  11.392131  ...   727.157574   \n",
       "1   M  7.733752e-07 -0.000122  0.0  0.000153  13.621589  ...   637.658102   \n",
       "2   M -3.741909e-06 -0.000061  0.0  0.000092   7.678162  ...   672.592436   \n",
       "3   M -5.069646e-07 -0.000092  0.0  0.000122  14.511231  ...   704.158385   \n",
       "4   M  8.640319e-07 -0.000061  0.0  0.000122   8.944732  ...   780.167518   \n",
       "\n",
       "   stft_q01_w4  stft_q05_w4  stft_q25_w4  stft_q50_w4  stft_q75_w4  \\\n",
       "0     0.306697     0.466157     0.645931     0.789123     0.908316   \n",
       "1     0.170786     0.279347     0.557524     0.733053     0.866973   \n",
       "2     0.023285     0.305395     0.577750     0.741576     0.889984   \n",
       "3     0.368081     0.434591     0.620144     0.776419     0.904668   \n",
       "4     0.298851     0.393112     0.623309     0.772964     0.907035   \n",
       "\n",
       "   stft_q95_w4  stft_kur_w4  stft_skew_w4  IsAngry?  \n",
       "0          1.0    -0.260279     -0.566556         0  \n",
       "1          1.0    -0.428900     -0.587210         0  \n",
       "2          1.0     0.626916     -0.883317         0  \n",
       "3          1.0    -0.825144     -0.383701         0  \n",
       "4          1.0    -0.536669     -0.547354         0  \n",
       "\n",
       "[5 rows x 259 columns]"
      ]
     },
     "execution_count": 5,
     "metadata": {},
     "output_type": "execute_result"
    }
   ],
   "source": [
    "df_test.head()"
   ]
  },
  {
   "cell_type": "code",
   "execution_count": 6,
   "metadata": {},
   "outputs": [],
   "source": [
    "# Percentage of Angry records in train and test datasets\n",
    "train_values=df_train.values\n",
    "train_target=np.array(df_train[\"IsAngry?\"])\n",
    "test_values=df_test.values\n",
    "test_target=np.array(df_test[\"IsAngry?\"])"
   ]
  },
  {
   "cell_type": "code",
   "execution_count": 7,
   "metadata": {},
   "outputs": [
    {
     "name": "stdout",
     "output_type": "stream",
     "text": [
      "Valori ed etichette nel train:(1828, 1828)\n",
      "Valori ed etichette nel test:(624, 624)\n"
     ]
    }
   ],
   "source": [
    "print(f\"Valori ed etichette nel train:{len(train_values), len(train_target)}\")\n",
    "print(f\"Valori ed etichette nel test:{len(test_values), len(test_target)}\")"
   ]
  },
  {
   "cell_type": "code",
   "execution_count": 8,
   "metadata": {},
   "outputs": [
    {
     "data": {
      "text/plain": [
       "((array([0, 1]), array([1548,  280], dtype=int64)),\n",
       " (array([0, 1]), array([528,  96], dtype=int64)))"
      ]
     },
     "execution_count": 8,
     "metadata": {},
     "output_type": "execute_result"
    }
   ],
   "source": [
    "np.unique(train_target, return_counts=True), np.unique(test_target, return_counts=True)\n"
   ]
  },
  {
   "cell_type": "code",
   "execution_count": 9,
   "metadata": {},
   "outputs": [
    {
     "name": "stdout",
     "output_type": "stream",
     "text": [
      "Train !Angry: 0.8468271334792122, Train Angry: 0.15317286652078774\n",
      "Test  !Angry: 0.8461538461538461, Train Angry: 0.15384615384615385\n"
     ]
    }
   ],
   "source": [
    "print(f\"Train !Angry: {1548/1828}, Train Angry: {280/1828}\")\n",
    "print(f\"Test  !Angry: {528/624}, Train Angry: {96/624}\")"
   ]
  },
  {
   "cell_type": "code",
   "execution_count": 10,
   "metadata": {},
   "outputs": [],
   "source": [
    "# Label encoding categorical columns for train and test\n",
    "le=preprocessing.LabelEncoder()\n",
    "c = df_train.select_dtypes(include=['object']).columns.tolist()\n",
    "for i in c:\n",
    "    df_train[i]=le.fit_transform(df_train[i])\n",
    "\n",
    "for i in c:\n",
    "    df_test[i]=le.fit_transform(df_test[i])\n",
    "\n",
    "\n",
    "#Normalization numerical pure feature for training and test\n",
    "scaler = StandardScaler()\n",
    "numeric_features = [n for n in df_train.columns if n!=\"IsAngry?\" and n!= \"vocal_channel\" and n!= \"emotional_intensity\" and n!= \"statement\" and n!= \"repetition\" and n!= \"sex\"]\n",
    "scaled_features = scaler.fit_transform(df_train[numeric_features])\n",
    "df_train[numeric_features] = scaled_features\n",
    "\n",
    "\n",
    "scaled_features_test = scaler.transform(df_test[numeric_features])\n",
    "df_test[numeric_features] = scaled_features_test"
   ]
  },
  {
   "cell_type": "code",
   "execution_count": 11,
   "metadata": {},
   "outputs": [
    {
     "data": {
      "text/html": [
       "<div>\n",
       "<style scoped>\n",
       "    .dataframe tbody tr th:only-of-type {\n",
       "        vertical-align: middle;\n",
       "    }\n",
       "\n",
       "    .dataframe tbody tr th {\n",
       "        vertical-align: top;\n",
       "    }\n",
       "\n",
       "    .dataframe thead th {\n",
       "        text-align: right;\n",
       "    }\n",
       "</style>\n",
       "<table border=\"1\" class=\"dataframe\">\n",
       "  <thead>\n",
       "    <tr style=\"text-align: right;\">\n",
       "      <th></th>\n",
       "      <th>vocal_channel</th>\n",
       "      <th>emotional_intensity</th>\n",
       "      <th>statement</th>\n",
       "      <th>repetition</th>\n",
       "      <th>sex</th>\n",
       "      <th>mean</th>\n",
       "      <th>q25</th>\n",
       "      <th>q50</th>\n",
       "      <th>q75</th>\n",
       "      <th>kur</th>\n",
       "      <th>...</th>\n",
       "      <th>stft_sum_w4</th>\n",
       "      <th>stft_q01_w4</th>\n",
       "      <th>stft_q05_w4</th>\n",
       "      <th>stft_q25_w4</th>\n",
       "      <th>stft_q50_w4</th>\n",
       "      <th>stft_q75_w4</th>\n",
       "      <th>stft_q95_w4</th>\n",
       "      <th>stft_kur_w4</th>\n",
       "      <th>stft_skew_w4</th>\n",
       "      <th>IsAngry?</th>\n",
       "    </tr>\n",
       "  </thead>\n",
       "  <tbody>\n",
       "    <tr>\n",
       "      <th>0</th>\n",
       "      <td>1</td>\n",
       "      <td>0</td>\n",
       "      <td>1</td>\n",
       "      <td>0</td>\n",
       "      <td>1</td>\n",
       "      <td>0.018034</td>\n",
       "      <td>0.603864</td>\n",
       "      <td>-0.063106</td>\n",
       "      <td>-0.7693</td>\n",
       "      <td>0.553248</td>\n",
       "      <td>...</td>\n",
       "      <td>0.161158</td>\n",
       "      <td>-0.925138</td>\n",
       "      <td>2.167997</td>\n",
       "      <td>1.515260</td>\n",
       "      <td>1.079945</td>\n",
       "      <td>0.690192</td>\n",
       "      <td>0.036057</td>\n",
       "      <td>9.400360</td>\n",
       "      <td>-3.035005</td>\n",
       "      <td>0</td>\n",
       "    </tr>\n",
       "    <tr>\n",
       "      <th>1</th>\n",
       "      <td>1</td>\n",
       "      <td>0</td>\n",
       "      <td>1</td>\n",
       "      <td>1</td>\n",
       "      <td>1</td>\n",
       "      <td>0.013950</td>\n",
       "      <td>0.603864</td>\n",
       "      <td>-0.063106</td>\n",
       "      <td>-0.7693</td>\n",
       "      <td>0.770118</td>\n",
       "      <td>...</td>\n",
       "      <td>-0.173413</td>\n",
       "      <td>1.908839</td>\n",
       "      <td>1.610931</td>\n",
       "      <td>0.996435</td>\n",
       "      <td>0.639413</td>\n",
       "      <td>0.409754</td>\n",
       "      <td>0.036057</td>\n",
       "      <td>-0.186504</td>\n",
       "      <td>0.434538</td>\n",
       "      <td>0</td>\n",
       "    </tr>\n",
       "    <tr>\n",
       "      <th>2</th>\n",
       "      <td>1</td>\n",
       "      <td>0</td>\n",
       "      <td>0</td>\n",
       "      <td>0</td>\n",
       "      <td>1</td>\n",
       "      <td>0.018855</td>\n",
       "      <td>0.622665</td>\n",
       "      <td>-0.063106</td>\n",
       "      <td>-0.7693</td>\n",
       "      <td>0.851346</td>\n",
       "      <td>...</td>\n",
       "      <td>-0.286208</td>\n",
       "      <td>-0.925138</td>\n",
       "      <td>1.285119</td>\n",
       "      <td>1.118715</td>\n",
       "      <td>0.877776</td>\n",
       "      <td>0.722854</td>\n",
       "      <td>0.036057</td>\n",
       "      <td>2.891302</td>\n",
       "      <td>-1.463754</td>\n",
       "      <td>0</td>\n",
       "    </tr>\n",
       "    <tr>\n",
       "      <th>3</th>\n",
       "      <td>1</td>\n",
       "      <td>0</td>\n",
       "      <td>0</td>\n",
       "      <td>1</td>\n",
       "      <td>1</td>\n",
       "      <td>0.018087</td>\n",
       "      <td>0.603864</td>\n",
       "      <td>-0.063106</td>\n",
       "      <td>-0.7693</td>\n",
       "      <td>1.562804</td>\n",
       "      <td>...</td>\n",
       "      <td>-0.588962</td>\n",
       "      <td>1.429546</td>\n",
       "      <td>1.176485</td>\n",
       "      <td>0.899140</td>\n",
       "      <td>0.723117</td>\n",
       "      <td>0.560400</td>\n",
       "      <td>0.036057</td>\n",
       "      <td>-0.049566</td>\n",
       "      <td>-0.052845</td>\n",
       "      <td>0</td>\n",
       "    </tr>\n",
       "    <tr>\n",
       "      <th>4</th>\n",
       "      <td>1</td>\n",
       "      <td>0</td>\n",
       "      <td>1</td>\n",
       "      <td>0</td>\n",
       "      <td>1</td>\n",
       "      <td>0.015921</td>\n",
       "      <td>0.603864</td>\n",
       "      <td>-0.063106</td>\n",
       "      <td>-0.7693</td>\n",
       "      <td>0.286970</td>\n",
       "      <td>...</td>\n",
       "      <td>0.170902</td>\n",
       "      <td>0.987370</td>\n",
       "      <td>1.346235</td>\n",
       "      <td>1.065980</td>\n",
       "      <td>0.761301</td>\n",
       "      <td>0.452031</td>\n",
       "      <td>0.036057</td>\n",
       "      <td>0.878701</td>\n",
       "      <td>-0.532241</td>\n",
       "      <td>0</td>\n",
       "    </tr>\n",
       "  </tbody>\n",
       "</table>\n",
       "<p>5 rows × 259 columns</p>\n",
       "</div>"
      ],
      "text/plain": [
       "   vocal_channel  emotional_intensity  statement  repetition  sex      mean  \\\n",
       "0              1                    0          1           0    1  0.018034   \n",
       "1              1                    0          1           1    1  0.013950   \n",
       "2              1                    0          0           0    1  0.018855   \n",
       "3              1                    0          0           1    1  0.018087   \n",
       "4              1                    0          1           0    1  0.015921   \n",
       "\n",
       "        q25       q50     q75       kur  ...  stft_sum_w4  stft_q01_w4  \\\n",
       "0  0.603864 -0.063106 -0.7693  0.553248  ...     0.161158    -0.925138   \n",
       "1  0.603864 -0.063106 -0.7693  0.770118  ...    -0.173413     1.908839   \n",
       "2  0.622665 -0.063106 -0.7693  0.851346  ...    -0.286208    -0.925138   \n",
       "3  0.603864 -0.063106 -0.7693  1.562804  ...    -0.588962     1.429546   \n",
       "4  0.603864 -0.063106 -0.7693  0.286970  ...     0.170902     0.987370   \n",
       "\n",
       "   stft_q05_w4  stft_q25_w4  stft_q50_w4  stft_q75_w4  stft_q95_w4  \\\n",
       "0     2.167997     1.515260     1.079945     0.690192     0.036057   \n",
       "1     1.610931     0.996435     0.639413     0.409754     0.036057   \n",
       "2     1.285119     1.118715     0.877776     0.722854     0.036057   \n",
       "3     1.176485     0.899140     0.723117     0.560400     0.036057   \n",
       "4     1.346235     1.065980     0.761301     0.452031     0.036057   \n",
       "\n",
       "   stft_kur_w4  stft_skew_w4  IsAngry?  \n",
       "0     9.400360     -3.035005         0  \n",
       "1    -0.186504      0.434538         0  \n",
       "2     2.891302     -1.463754         0  \n",
       "3    -0.049566     -0.052845         0  \n",
       "4     0.878701     -0.532241         0  \n",
       "\n",
       "[5 rows x 259 columns]"
      ]
     },
     "execution_count": 11,
     "metadata": {},
     "output_type": "execute_result"
    }
   ],
   "source": [
    "df_train.head()"
   ]
  },
  {
   "cell_type": "code",
   "execution_count": 12,
   "metadata": {},
   "outputs": [
    {
     "data": {
      "text/html": [
       "<div>\n",
       "<style scoped>\n",
       "    .dataframe tbody tr th:only-of-type {\n",
       "        vertical-align: middle;\n",
       "    }\n",
       "\n",
       "    .dataframe tbody tr th {\n",
       "        vertical-align: top;\n",
       "    }\n",
       "\n",
       "    .dataframe thead th {\n",
       "        text-align: right;\n",
       "    }\n",
       "</style>\n",
       "<table border=\"1\" class=\"dataframe\">\n",
       "  <thead>\n",
       "    <tr style=\"text-align: right;\">\n",
       "      <th></th>\n",
       "      <th>vocal_channel</th>\n",
       "      <th>emotional_intensity</th>\n",
       "      <th>statement</th>\n",
       "      <th>repetition</th>\n",
       "      <th>sex</th>\n",
       "      <th>mean</th>\n",
       "      <th>q25</th>\n",
       "      <th>q50</th>\n",
       "      <th>q75</th>\n",
       "      <th>kur</th>\n",
       "      <th>...</th>\n",
       "      <th>stft_sum_w4</th>\n",
       "      <th>stft_q01_w4</th>\n",
       "      <th>stft_q05_w4</th>\n",
       "      <th>stft_q25_w4</th>\n",
       "      <th>stft_q50_w4</th>\n",
       "      <th>stft_q75_w4</th>\n",
       "      <th>stft_q95_w4</th>\n",
       "      <th>stft_kur_w4</th>\n",
       "      <th>stft_skew_w4</th>\n",
       "      <th>IsAngry?</th>\n",
       "    </tr>\n",
       "  </thead>\n",
       "  <tbody>\n",
       "    <tr>\n",
       "      <th>0</th>\n",
       "      <td>1</td>\n",
       "      <td>0</td>\n",
       "      <td>1</td>\n",
       "      <td>0</td>\n",
       "      <td>1</td>\n",
       "      <td>0.059131</td>\n",
       "      <td>0.566262</td>\n",
       "      <td>-0.063106</td>\n",
       "      <td>-0.66600</td>\n",
       "      <td>0.013057</td>\n",
       "      <td>...</td>\n",
       "      <td>0.032398</td>\n",
       "      <td>1.432748</td>\n",
       "      <td>1.571823</td>\n",
       "      <td>1.132435</td>\n",
       "      <td>0.998570</td>\n",
       "      <td>0.840181</td>\n",
       "      <td>0.036057</td>\n",
       "      <td>0.380443</td>\n",
       "      <td>-0.407209</td>\n",
       "      <td>0</td>\n",
       "    </tr>\n",
       "    <tr>\n",
       "      <th>1</th>\n",
       "      <td>1</td>\n",
       "      <td>0</td>\n",
       "      <td>1</td>\n",
       "      <td>1</td>\n",
       "      <td>1</td>\n",
       "      <td>0.015160</td>\n",
       "      <td>0.547461</td>\n",
       "      <td>-0.063106</td>\n",
       "      <td>-0.66600</td>\n",
       "      <td>0.344246</td>\n",
       "      <td>...</td>\n",
       "      <td>-0.837184</td>\n",
       "      <td>0.387863</td>\n",
       "      <td>0.461505</td>\n",
       "      <td>0.603874</td>\n",
       "      <td>0.543109</td>\n",
       "      <td>0.310605</td>\n",
       "      <td>0.036057</td>\n",
       "      <td>0.163243</td>\n",
       "      <td>-0.454832</td>\n",
       "      <td>0</td>\n",
       "    </tr>\n",
       "    <tr>\n",
       "      <th>2</th>\n",
       "      <td>1</td>\n",
       "      <td>0</td>\n",
       "      <td>0</td>\n",
       "      <td>0</td>\n",
       "      <td>1</td>\n",
       "      <td>-0.076467</td>\n",
       "      <td>0.585063</td>\n",
       "      <td>-0.063106</td>\n",
       "      <td>-0.70732</td>\n",
       "      <td>-0.538658</td>\n",
       "      <td>...</td>\n",
       "      <td>-0.497760</td>\n",
       "      <td>-0.746120</td>\n",
       "      <td>0.616325</td>\n",
       "      <td>0.724799</td>\n",
       "      <td>0.612342</td>\n",
       "      <td>0.605368</td>\n",
       "      <td>0.036057</td>\n",
       "      <td>1.523245</td>\n",
       "      <td>-1.137587</td>\n",
       "      <td>0</td>\n",
       "    </tr>\n",
       "    <tr>\n",
       "      <th>3</th>\n",
       "      <td>1</td>\n",
       "      <td>0</td>\n",
       "      <td>0</td>\n",
       "      <td>1</td>\n",
       "      <td>1</td>\n",
       "      <td>-0.010822</td>\n",
       "      <td>0.566262</td>\n",
       "      <td>-0.063106</td>\n",
       "      <td>-0.68666</td>\n",
       "      <td>0.476404</td>\n",
       "      <td>...</td>\n",
       "      <td>-0.191064</td>\n",
       "      <td>1.904671</td>\n",
       "      <td>1.384208</td>\n",
       "      <td>0.978261</td>\n",
       "      <td>0.895372</td>\n",
       "      <td>0.793457</td>\n",
       "      <td>0.036057</td>\n",
       "      <td>-0.347161</td>\n",
       "      <td>0.014413</td>\n",
       "      <td>0</td>\n",
       "    </tr>\n",
       "    <tr>\n",
       "      <th>4</th>\n",
       "      <td>1</td>\n",
       "      <td>0</td>\n",
       "      <td>1</td>\n",
       "      <td>0</td>\n",
       "      <td>1</td>\n",
       "      <td>0.016999</td>\n",
       "      <td>0.585063</td>\n",
       "      <td>-0.063106</td>\n",
       "      <td>-0.68666</td>\n",
       "      <td>-0.350507</td>\n",
       "      <td>...</td>\n",
       "      <td>0.547445</td>\n",
       "      <td>1.372430</td>\n",
       "      <td>1.137679</td>\n",
       "      <td>0.997185</td>\n",
       "      <td>0.867312</td>\n",
       "      <td>0.823776</td>\n",
       "      <td>0.036057</td>\n",
       "      <td>0.024425</td>\n",
       "      <td>-0.362935</td>\n",
       "      <td>0</td>\n",
       "    </tr>\n",
       "  </tbody>\n",
       "</table>\n",
       "<p>5 rows × 259 columns</p>\n",
       "</div>"
      ],
      "text/plain": [
       "   vocal_channel  emotional_intensity  statement  repetition  sex      mean  \\\n",
       "0              1                    0          1           0    1  0.059131   \n",
       "1              1                    0          1           1    1  0.015160   \n",
       "2              1                    0          0           0    1 -0.076467   \n",
       "3              1                    0          0           1    1 -0.010822   \n",
       "4              1                    0          1           0    1  0.016999   \n",
       "\n",
       "        q25       q50      q75       kur  ...  stft_sum_w4  stft_q01_w4  \\\n",
       "0  0.566262 -0.063106 -0.66600  0.013057  ...     0.032398     1.432748   \n",
       "1  0.547461 -0.063106 -0.66600  0.344246  ...    -0.837184     0.387863   \n",
       "2  0.585063 -0.063106 -0.70732 -0.538658  ...    -0.497760    -0.746120   \n",
       "3  0.566262 -0.063106 -0.68666  0.476404  ...    -0.191064     1.904671   \n",
       "4  0.585063 -0.063106 -0.68666 -0.350507  ...     0.547445     1.372430   \n",
       "\n",
       "   stft_q05_w4  stft_q25_w4  stft_q50_w4  stft_q75_w4  stft_q95_w4  \\\n",
       "0     1.571823     1.132435     0.998570     0.840181     0.036057   \n",
       "1     0.461505     0.603874     0.543109     0.310605     0.036057   \n",
       "2     0.616325     0.724799     0.612342     0.605368     0.036057   \n",
       "3     1.384208     0.978261     0.895372     0.793457     0.036057   \n",
       "4     1.137679     0.997185     0.867312     0.823776     0.036057   \n",
       "\n",
       "   stft_kur_w4  stft_skew_w4  IsAngry?  \n",
       "0     0.380443     -0.407209         0  \n",
       "1     0.163243     -0.454832         0  \n",
       "2     1.523245     -1.137587         0  \n",
       "3    -0.347161      0.014413         0  \n",
       "4     0.024425     -0.362935         0  \n",
       "\n",
       "[5 rows x 259 columns]"
      ]
     },
     "execution_count": 12,
     "metadata": {},
     "output_type": "execute_result"
    }
   ],
   "source": [
    "df_test.head()"
   ]
  },
  {
   "cell_type": "code",
   "execution_count": 13,
   "metadata": {},
   "outputs": [],
   "source": [
    "col=[x for x in df_train.columns if x!=\"IsAngry?\"]\n",
    "X_train=df_train[col].values\n",
    "y_train = np.array(df_train[\"IsAngry?\"])\n",
    "\n",
    "X_test=df_test[col].values\n",
    "y_test = np.array(df_test[\"IsAngry?\"])"
   ]
  },
  {
   "attachments": {},
   "cell_type": "markdown",
   "metadata": {},
   "source": [
    "Fit two models based on DT and KNN"
   ]
  },
  {
   "attachments": {},
   "cell_type": "markdown",
   "metadata": {},
   "source": [
    "DT"
   ]
  },
  {
   "cell_type": "code",
   "execution_count": 14,
   "metadata": {},
   "outputs": [],
   "source": [
    "param_grid = {'max_depth': [None, 2, 5, 10, 15, 20],\n",
    "              'min_samples_split': [2, 5, 10, 15, 20],\n",
    "              'min_samples_leaf': [1, 5, 10, 15, 20]\n",
    "}\n",
    "\n",
    "grid = GridSearchCV(\n",
    "    DecisionTreeClassifier(),\n",
    "    param_grid=param_grid,\n",
    "    cv=StratifiedKFold(), # with no parameters it is with 5 split and 10 repetitions\n",
    "    refit=True,\n",
    "    scoring=\"f1_macro\"\n",
    ")\n",
    "grid.fit(X_train, y_train)\n",
    "clf = grid.best_estimator_"
   ]
  },
  {
   "cell_type": "code",
   "execution_count": 15,
   "metadata": {},
   "outputs": [
    {
     "name": "stdout",
     "output_type": "stream",
     "text": [
      "{'max_depth': None, 'min_samples_leaf': 15, 'min_samples_split': 2}\n"
     ]
    }
   ],
   "source": [
    "print(grid.best_params_)"
   ]
  },
  {
   "cell_type": "code",
   "execution_count": 16,
   "metadata": {},
   "outputs": [
    {
     "name": "stdout",
     "output_type": "stream",
     "text": [
      "              precision    recall  f1-score   support\n",
      "\n",
      "           0       0.93      0.93      0.93       528\n",
      "           1       0.61      0.64      0.62        96\n",
      "\n",
      "    accuracy                           0.88       624\n",
      "   macro avg       0.77      0.78      0.78       624\n",
      "weighted avg       0.88      0.88      0.88       624\n",
      "\n"
     ]
    }
   ],
   "source": [
    "learner = DecisionTreeClassifier(max_depth=None,min_samples_split=2,min_samples_leaf=15)\n",
    "classifier = learner.fit(X_train, y_train)\n",
    "predictions = classifier.predict(X_test)\n",
    "\n",
    "print(classification_report(y_test,predictions))"
   ]
  },
  {
   "attachments": {},
   "cell_type": "markdown",
   "metadata": {},
   "source": [
    "KNN"
   ]
  },
  {
   "cell_type": "code",
   "execution_count": 69,
   "metadata": {},
   "outputs": [],
   "source": [
    "param_grid = {\n",
    "    \"n_neighbors\": np.arange(2,51),\n",
    "    \"weights\": [\"uniform\", \"distance\"],\n",
    "    \"metric\": [\"euclidean\", \"cityblock\",\"minkowski\"], # cityblock is the manhattan distance\n",
    "}\n",
    "\n",
    "grid = GridSearchCV(\n",
    "    KNeighborsClassifier(),\n",
    "    param_grid=param_grid,\n",
    "    cv=StratifiedKFold(), # with no parameters it is with 5 split and 10 repetitions\n",
    "    refit=True,\n",
    "    scoring=\"f1_macro\"\n",
    ")\n",
    "\n",
    "grid.fit(X_train, y_train)\n",
    "clf = grid.best_estimator_"
   ]
  },
  {
   "cell_type": "code",
   "execution_count": 70,
   "metadata": {},
   "outputs": [
    {
     "name": "stdout",
     "output_type": "stream",
     "text": [
      "{'metric': 'euclidean', 'n_neighbors': 5, 'weights': 'uniform'}\n"
     ]
    }
   ],
   "source": [
    "print(grid.best_params_)"
   ]
  },
  {
   "cell_type": "code",
   "execution_count": 73,
   "metadata": {},
   "outputs": [
    {
     "name": "stdout",
     "output_type": "stream",
     "text": [
      "              precision    recall  f1-score   support\n",
      "\n",
      "           0       0.92      0.96      0.94       528\n",
      "           1       0.69      0.51      0.59        96\n",
      "\n",
      "    accuracy                           0.89       624\n",
      "   macro avg       0.80      0.73      0.76       624\n",
      "weighted avg       0.88      0.89      0.88       624\n",
      "\n"
     ]
    }
   ],
   "source": [
    "learner = KNeighborsClassifier(n_neighbors= 5, metric= 'euclidean', weights= 'uniform')\n",
    "classifier = learner.fit(X_train, y_train)\n",
    "predictions = classifier.predict(X_test)\n",
    "\n",
    "print(classification_report(y_test,predictions))"
   ]
  },
  {
   "attachments": {},
   "cell_type": "markdown",
   "metadata": {},
   "source": [
    "Let's see the distribution of IsAngry? feature on train set"
   ]
  },
  {
   "cell_type": "code",
   "execution_count": 17,
   "metadata": {},
   "outputs": [
    {
     "data": {
      "text/plain": [
       "0    1548\n",
       "1     280\n",
       "Name: IsAngry?, dtype: int64"
      ]
     },
     "execution_count": 17,
     "metadata": {},
     "output_type": "execute_result"
    }
   ],
   "source": [
    "df_train[\"IsAngry?\"].value_counts()"
   ]
  },
  {
   "cell_type": "code",
   "execution_count": 18,
   "metadata": {},
   "outputs": [
    {
     "data": {
      "text/plain": [
       "<AxesSubplot:xlabel='IsAngry?', ylabel='count'>"
      ]
     },
     "execution_count": 18,
     "metadata": {},
     "output_type": "execute_result"
    },
    {
     "data": {
      "image/png": "[encoded data removed]",
      "text/plain": [
       "<Figure size 432x288 with 1 Axes>"
      ]
     },
     "metadata": {
      "needs_background": "light"
     },
     "output_type": "display_data"
    }
   ],
   "source": [
    "sns.countplot(data=df_train,x=\"IsAngry?\")"
   ]
  },
  {
   "attachments": {},
   "cell_type": "markdown",
   "metadata": {},
   "source": [
    "Let's try to unbalance more the IsAngry? feature to 95% -> class 0 and 5% -> class 1 for train and test set"
   ]
  },
  {
   "cell_type": "code",
   "execution_count": 30,
   "metadata": {},
   "outputs": [],
   "source": [
    "df_copy_train=df_train.copy()\n",
    "\n",
    "indexNames=df_train[df_train[\"IsAngry?\"]==1].sample(frac=0.70).index\n",
    "df_copy_train.drop(indexNames,axis=0,inplace=True)"
   ]
  },
  {
   "cell_type": "code",
   "execution_count": 31,
   "metadata": {},
   "outputs": [
    {
     "data": {
      "text/plain": [
       "0    0.948529\n",
       "1    0.051471\n",
       "Name: IsAngry?, dtype: float64"
      ]
     },
     "execution_count": 31,
     "metadata": {},
     "output_type": "execute_result"
    }
   ],
   "source": [
    "df_copy_train[\"IsAngry?\"].value_counts(normalize=True)"
   ]
  },
  {
   "cell_type": "code",
   "execution_count": 32,
   "metadata": {},
   "outputs": [
    {
     "data": {
      "text/plain": [
       "0    1548\n",
       "1      84\n",
       "Name: IsAngry?, dtype: int64"
      ]
     },
     "execution_count": 32,
     "metadata": {},
     "output_type": "execute_result"
    }
   ],
   "source": [
    "df_copy_train[\"IsAngry?\"].value_counts()"
   ]
  },
  {
   "cell_type": "code",
   "execution_count": 33,
   "metadata": {},
   "outputs": [
    {
     "data": {
      "text/plain": [
       "<AxesSubplot:xlabel='IsAngry?', ylabel='count'>"
      ]
     },
     "execution_count": 33,
     "metadata": {},
     "output_type": "execute_result"
    },
    {
     "data": {
      "image/png": "[encoded data removed]",
      "text/plain": [
       "<Figure size 432x288 with 1 Axes>"
      ]
     },
     "metadata": {
      "needs_background": "light"
     },
     "output_type": "display_data"
    }
   ],
   "source": [
    "sns.countplot(data=df_copy_train,x=\"IsAngry?\")"
   ]
  },
  {
   "cell_type": "code",
   "execution_count": 35,
   "metadata": {},
   "outputs": [
    {
     "data": {
      "text/plain": [
       "0    0.947935\n",
       "1    0.052065\n",
       "Name: IsAngry?, dtype: float64"
      ]
     },
     "execution_count": 35,
     "metadata": {},
     "output_type": "execute_result"
    }
   ],
   "source": [
    "#Let's do the same unbalancing also for the test set\n",
    "df_copy_test=df_test.copy()\n",
    "indexNames=df_test[df_test[\"IsAngry?\"]==1].sample(frac=0.70).index\n",
    "df_copy_test.drop(indexNames,axis=0,inplace=True)\n",
    "df_copy_test[\"IsAngry?\"].value_counts(normalize=True)"
   ]
  },
  {
   "cell_type": "code",
   "execution_count": 36,
   "metadata": {},
   "outputs": [
    {
     "data": {
      "text/plain": [
       "0    528\n",
       "1     29\n",
       "Name: IsAngry?, dtype: int64"
      ]
     },
     "execution_count": 36,
     "metadata": {},
     "output_type": "execute_result"
    }
   ],
   "source": [
    "df_copy_test[\"IsAngry?\"].value_counts()"
   ]
  },
  {
   "cell_type": "code",
   "execution_count": 37,
   "metadata": {},
   "outputs": [],
   "source": [
    "#Let's define the new set of train and test\n",
    "\n",
    "col=[x for x in df_copy_train.columns if x!=\"IsAngry?\"]\n",
    "X_train_unb=df_copy_train[col].values\n",
    "y_train_unb = np.array(df_copy_train[\"IsAngry?\"])\n",
    "\n",
    "X_test_unb=df_copy_test[col].values\n",
    "y_test_unb = np.array(df_copy_test[\"IsAngry?\"])"
   ]
  },
  {
   "attachments": {},
   "cell_type": "markdown",
   "metadata": {},
   "source": [
    "Let's build two models based on DT and KNN in this very unbalanced case"
   ]
  },
  {
   "attachments": {},
   "cell_type": "markdown",
   "metadata": {},
   "source": [
    "DT"
   ]
  },
  {
   "cell_type": "code",
   "execution_count": 38,
   "metadata": {},
   "outputs": [
    {
     "name": "stdout",
     "output_type": "stream",
     "text": [
      "{'max_depth': 10, 'min_samples_leaf': 10, 'min_samples_split': 15}\n"
     ]
    }
   ],
   "source": [
    "param_grid = {'max_depth': [None, 2, 5, 10, 15, 20],\n",
    "              'min_samples_split': [2, 5, 10, 15, 20],\n",
    "              'min_samples_leaf': [1, 5, 10, 15, 20]\n",
    "}\n",
    "\n",
    "grid = GridSearchCV(\n",
    "    DecisionTreeClassifier(),\n",
    "    param_grid=param_grid,\n",
    "    cv=StratifiedKFold(), # with no parameters it is with 5 split and 10 repetitions\n",
    "    refit=True,\n",
    "    scoring=\"f1_macro\"\n",
    ")\n",
    "grid.fit(X_train_unb, y_train_unb)\n",
    "clf = grid.best_estimator_\n",
    "print(grid.best_params_)"
   ]
  },
  {
   "cell_type": "code",
   "execution_count": 60,
   "metadata": {},
   "outputs": [
    {
     "name": "stdout",
     "output_type": "stream",
     "text": [
      "              precision    recall  f1-score   support\n",
      "\n",
      "           0       0.98      0.98      0.98       528\n",
      "           1       0.62      0.55      0.58        29\n",
      "\n",
      "    accuracy                           0.96       557\n",
      "   macro avg       0.80      0.77      0.78       557\n",
      "weighted avg       0.96      0.96      0.96       557\n",
      "\n"
     ]
    },
    {
     "data": {
      "image/png": "[encoded data removed]",
      "text/plain": [
       "<Figure size 432x288 with 1 Axes>"
      ]
     },
     "metadata": {
      "needs_background": "light"
     },
     "output_type": "display_data"
    }
   ],
   "source": [
    "learner = DecisionTreeClassifier(max_depth=10,min_samples_split=15,min_samples_leaf=10)\n",
    "classifier = learner.fit(X_train_unb, y_train_unb)\n",
    "predictions = classifier.predict(X_test_unb)\n",
    "\n",
    "print(classification_report(y_test_unb,predictions))\n",
    "\n",
    "y_score = classifier.predict_proba(X_test_unb)\n",
    "fpr0, tpr0, thr = roc_curve(y_test_unb, y_score[:,1])\n",
    "roc_auc0 = auc(fpr0, tpr0)\n",
    "plt.plot(fpr0, tpr0, color='darkorange', lw=3, label='$AUC_0$ = %.3f' % (roc_auc0))\n",
    "plt.plot([0, 1], [0, 1], color='navy', lw=2, linestyle='--')\n",
    "plt.xlim([0.0, 1.0])\n",
    "plt.ylim([0.0, 1.05])\n",
    "plt.xlabel('False Positive Rate', fontsize=16)\n",
    "plt.ylabel('True Positive Rate', fontsize=16)\n",
    "plt.title('ROC curve', fontsize=16)\n",
    "plt.legend(loc=\"lower right\", fontsize=14, frameon=False)\n",
    "plt.tick_params(axis='both', which='major', labelsize=16)\n",
    "plt.show()"
   ]
  },
  {
   "attachments": {},
   "cell_type": "markdown",
   "metadata": {},
   "source": [
    "KNN"
   ]
  },
  {
   "cell_type": "code",
   "execution_count": 40,
   "metadata": {},
   "outputs": [
    {
     "name": "stdout",
     "output_type": "stream",
     "text": [
      "{'metric': 'euclidean', 'n_neighbors': 2, 'weights': 'distance'}\n"
     ]
    }
   ],
   "source": [
    "param_grid = {\n",
    "    \"n_neighbors\": np.arange(2,51),\n",
    "    \"weights\": [\"uniform\", \"distance\"],\n",
    "    \"metric\": [\"euclidean\", \"cityblock\",\"minkowski\"], # cityblock is the manhattan distance\n",
    "}\n",
    "\n",
    "grid = GridSearchCV(\n",
    "    KNeighborsClassifier(),\n",
    "    param_grid=param_grid,\n",
    "    cv=StratifiedKFold(), # with no parameters it is with 5 split and 10 repetitions\n",
    "    refit=True,\n",
    "    scoring=\"f1_macro\"\n",
    ")\n",
    "\n",
    "grid.fit(X_train_unb, y_train_unb)\n",
    "clf = grid.best_estimator_\n",
    "print(grid.best_params_)"
   ]
  },
  {
   "cell_type": "code",
   "execution_count": 41,
   "metadata": {},
   "outputs": [
    {
     "name": "stdout",
     "output_type": "stream",
     "text": [
      "              precision    recall  f1-score   support\n",
      "\n",
      "           0       0.96      0.97      0.96       528\n",
      "           1       0.29      0.24      0.26        29\n",
      "\n",
      "    accuracy                           0.93       557\n",
      "   macro avg       0.63      0.60      0.61       557\n",
      "weighted avg       0.92      0.93      0.93       557\n",
      "\n"
     ]
    }
   ],
   "source": [
    "learner = KNeighborsClassifier(n_neighbors= 2, metric= 'euclidean', weights= 'distance')\n",
    "classifier = learner.fit(X_train_unb, y_train_unb)\n",
    "predictions = classifier.predict(X_test_unb)\n",
    "\n",
    "print(classification_report(y_test_unb,predictions))"
   ]
  }
 ],
 "metadata": {
  "kernelspec": {
   "display_name": "base",
   "language": "python",
   "name": "python3"
  },
  "language_info": {
   "codemirror_mode": {
    "name": "ipython",
    "version": 3
   },
   "file_extension": ".py",
   "mimetype": "text/x-python",
   "name": "python",
   "nbconvert_exporter": "python",
   "pygments_lexer": "ipython3",
   "version": "3.9.12"
  },
  "orig_nbformat": 4
 },
 "nbformat": 4,
 "nbformat_minor": 2
}
