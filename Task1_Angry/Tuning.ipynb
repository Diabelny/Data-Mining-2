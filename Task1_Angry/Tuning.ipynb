{
 "cells": [
  {
   "cell_type": "code",
   "execution_count": 116,
   "metadata": {},
   "outputs": [],
   "source": [
    "# Libraries and utilities\n",
    "\n",
    "# RENINDER: FARE FIT.TRANSFORM SOLO SU TRAINING E DOPO SUL TEST SOLO .TRANSFORM\n",
    "# REMINDER: NORMALIZZARE PRIMA DI FARE TUTTO IL PREPROCESSING \n",
    "\n",
    "import pandas as pd\n",
    "import numpy as np\n",
    "import seaborn as sns\n",
    "import matplotlib.pyplot as plt\n",
    "\n",
    "from sklearn.preprocessing import RobustScaler,MinMaxScaler,StandardScaler, OneHotEncoder\n",
    "from sklearn import preprocessing\n",
    "\n",
    "from sklearn.model_selection import StratifiedKFold,RepeatedStratifiedKFold, RandomizedSearchCV,GridSearchCV, RepeatedKFold, train_test_split\n",
    "\n",
    "from sklearn.tree import DecisionTreeClassifier\n",
    "from sklearn.neighbors import KNeighborsClassifier\n",
    "\n",
    "from sklearn.metrics import (\n",
    "    accuracy_score,\n",
    "    f1_score,\n",
    "    classification_report,\n",
    "    confusion_matrix,\n",
    "    roc_auc_score,\n",
    ")"
   ]
  },
  {
   "cell_type": "code",
   "execution_count": 117,
   "metadata": {},
   "outputs": [],
   "source": [
    "df_train=pd.read_csv(\"../Dataset_prepared/Prepared_train.csv\")\n",
    "df_test=pd.read_csv(\"../Dataset_prepared/Prepared_test.csv\")\n",
    "\n",
    "df_train.drop('actor',axis=1,inplace=True)\n",
    "df_train.drop('filename',axis=1,inplace=True)\n",
    "\n",
    "df_test.drop('actor',axis=1,inplace=True)\n",
    "df_test.drop('filename',axis=1,inplace=True)"
   ]
  },
  {
   "cell_type": "code",
   "execution_count": 118,
   "metadata": {},
   "outputs": [],
   "source": [
    "\n",
    "#creating instance of one-hot-encoder\n",
    "encoder = OneHotEncoder()\n",
    "#perform one-hot encoding on 'emotion' column \n",
    "encoder_df = pd.DataFrame(encoder.fit_transform(df_train[['emotion']]).toarray())\n",
    "encoder_df_test = pd.DataFrame(encoder.fit_transform(df_test[['emotion']]).toarray())\n",
    "#merge one-hot encoded columns back with original DataFrame\n",
    "df_train = df_train.join(encoder_df)\n",
    "df_test = df_test.join(encoder_df_test)\n",
    "#drop 'emotion' column\n",
    "df_train.drop('emotion', axis=1, inplace=True)\n",
    "df_test.drop('emotion', axis=1, inplace=True)\n",
    "#rename 0=Angry column\n",
    "df_train.rename(columns = {0:'IsAngry?'}, inplace = True)\n",
    "df_test.rename(columns = {0:'IsAngry?'}, inplace = True)\n",
    "#drop other emotion columns\n",
    "df_train.drop([1,2,3,4,5,6,7],axis=1,inplace=True)\n",
    "df_test.drop([1,2,3,4,5,6,7],axis=1,inplace=True)\n"
   ]
  },
  {
   "cell_type": "code",
   "execution_count": 119,
   "metadata": {},
   "outputs": [
    {
     "data": {
      "text/html": [
       "<div>\n",
       "<style scoped>\n",
       "    .dataframe tbody tr th:only-of-type {\n",
       "        vertical-align: middle;\n",
       "    }\n",
       "\n",
       "    .dataframe tbody tr th {\n",
       "        vertical-align: top;\n",
       "    }\n",
       "\n",
       "    .dataframe thead th {\n",
       "        text-align: right;\n",
       "    }\n",
       "</style>\n",
       "<table border=\"1\" class=\"dataframe\">\n",
       "  <thead>\n",
       "    <tr style=\"text-align: right;\">\n",
       "      <th></th>\n",
       "      <th>vocal_channel</th>\n",
       "      <th>emotional_intensity</th>\n",
       "      <th>statement</th>\n",
       "      <th>repetition</th>\n",
       "      <th>sex</th>\n",
       "      <th>mean</th>\n",
       "      <th>q25</th>\n",
       "      <th>q50</th>\n",
       "      <th>q75</th>\n",
       "      <th>kur</th>\n",
       "      <th>...</th>\n",
       "      <th>stft_sum_w4</th>\n",
       "      <th>stft_q01_w4</th>\n",
       "      <th>stft_q05_w4</th>\n",
       "      <th>stft_q25_w4</th>\n",
       "      <th>stft_q50_w4</th>\n",
       "      <th>stft_q75_w4</th>\n",
       "      <th>stft_q95_w4</th>\n",
       "      <th>stft_kur_w4</th>\n",
       "      <th>stft_skew_w4</th>\n",
       "      <th>IsAngry?</th>\n",
       "    </tr>\n",
       "  </thead>\n",
       "  <tbody>\n",
       "    <tr>\n",
       "      <th>0</th>\n",
       "      <td>speech</td>\n",
       "      <td>normal</td>\n",
       "      <td>Kids are talking by the door</td>\n",
       "      <td>1st</td>\n",
       "      <td>M</td>\n",
       "      <td>9.150000e-07</td>\n",
       "      <td>-0.000031</td>\n",
       "      <td>0.0</td>\n",
       "      <td>0.0</td>\n",
       "      <td>15.028520</td>\n",
       "      <td>...</td>\n",
       "      <td>740.409892</td>\n",
       "      <td>0.000000</td>\n",
       "      <td>0.566462</td>\n",
       "      <td>0.709962</td>\n",
       "      <td>0.799141</td>\n",
       "      <td>0.896606</td>\n",
       "      <td>1.0</td>\n",
       "      <td>6.742190</td>\n",
       "      <td>-1.706215</td>\n",
       "      <td>0.0</td>\n",
       "    </tr>\n",
       "    <tr>\n",
       "      <th>1</th>\n",
       "      <td>speech</td>\n",
       "      <td>normal</td>\n",
       "      <td>Kids are talking by the door</td>\n",
       "      <td>2nd</td>\n",
       "      <td>M</td>\n",
       "      <td>7.137790e-07</td>\n",
       "      <td>-0.000031</td>\n",
       "      <td>0.0</td>\n",
       "      <td>0.0</td>\n",
       "      <td>16.488415</td>\n",
       "      <td>...</td>\n",
       "      <td>705.975006</td>\n",
       "      <td>0.368623</td>\n",
       "      <td>0.472736</td>\n",
       "      <td>0.623183</td>\n",
       "      <td>0.744908</td>\n",
       "      <td>0.874713</td>\n",
       "      <td>1.0</td>\n",
       "      <td>-0.700420</td>\n",
       "      <td>-0.201495</td>\n",
       "      <td>0.0</td>\n",
       "    </tr>\n",
       "    <tr>\n",
       "      <th>2</th>\n",
       "      <td>speech</td>\n",
       "      <td>normal</td>\n",
       "      <td>Dogs are sitting by the door</td>\n",
       "      <td>1st</td>\n",
       "      <td>M</td>\n",
       "      <td>9.554485e-07</td>\n",
       "      <td>0.000000</td>\n",
       "      <td>0.0</td>\n",
       "      <td>0.0</td>\n",
       "      <td>17.035218</td>\n",
       "      <td>...</td>\n",
       "      <td>694.365924</td>\n",
       "      <td>0.000000</td>\n",
       "      <td>0.417919</td>\n",
       "      <td>0.643636</td>\n",
       "      <td>0.774253</td>\n",
       "      <td>0.899156</td>\n",
       "      <td>1.0</td>\n",
       "      <td>1.688986</td>\n",
       "      <td>-1.024773</td>\n",
       "      <td>0.0</td>\n",
       "    </tr>\n",
       "    <tr>\n",
       "      <th>3</th>\n",
       "      <td>speech</td>\n",
       "      <td>normal</td>\n",
       "      <td>Dogs are sitting by the door</td>\n",
       "      <td>2nd</td>\n",
       "      <td>M</td>\n",
       "      <td>9.176213e-07</td>\n",
       "      <td>-0.000031</td>\n",
       "      <td>0.0</td>\n",
       "      <td>0.0</td>\n",
       "      <td>21.824521</td>\n",
       "      <td>...</td>\n",
       "      <td>663.205667</td>\n",
       "      <td>0.306280</td>\n",
       "      <td>0.399641</td>\n",
       "      <td>0.606910</td>\n",
       "      <td>0.755213</td>\n",
       "      <td>0.886474</td>\n",
       "      <td>1.0</td>\n",
       "      <td>-0.594111</td>\n",
       "      <td>-0.412871</td>\n",
       "      <td>0.0</td>\n",
       "    </tr>\n",
       "    <tr>\n",
       "      <th>4</th>\n",
       "      <td>speech</td>\n",
       "      <td>normal</td>\n",
       "      <td>Kids are talking by the door</td>\n",
       "      <td>1st</td>\n",
       "      <td>M</td>\n",
       "      <td>8.108948e-07</td>\n",
       "      <td>-0.000031</td>\n",
       "      <td>0.0</td>\n",
       "      <td>0.0</td>\n",
       "      <td>13.236022</td>\n",
       "      <td>...</td>\n",
       "      <td>741.412796</td>\n",
       "      <td>0.248765</td>\n",
       "      <td>0.428202</td>\n",
       "      <td>0.634815</td>\n",
       "      <td>0.759914</td>\n",
       "      <td>0.878014</td>\n",
       "      <td>1.0</td>\n",
       "      <td>0.126535</td>\n",
       "      <td>-0.620782</td>\n",
       "      <td>0.0</td>\n",
       "    </tr>\n",
       "  </tbody>\n",
       "</table>\n",
       "<p>5 rows × 259 columns</p>\n",
       "</div>"
      ],
      "text/plain": [
       "  vocal_channel emotional_intensity                     statement repetition  \\\n",
       "0        speech              normal  Kids are talking by the door        1st   \n",
       "1        speech              normal  Kids are talking by the door        2nd   \n",
       "2        speech              normal  Dogs are sitting by the door        1st   \n",
       "3        speech              normal  Dogs are sitting by the door        2nd   \n",
       "4        speech              normal  Kids are talking by the door        1st   \n",
       "\n",
       "  sex          mean       q25  q50  q75        kur  ...  stft_sum_w4  \\\n",
       "0   M  9.150000e-07 -0.000031  0.0  0.0  15.028520  ...   740.409892   \n",
       "1   M  7.137790e-07 -0.000031  0.0  0.0  16.488415  ...   705.975006   \n",
       "2   M  9.554485e-07  0.000000  0.0  0.0  17.035218  ...   694.365924   \n",
       "3   M  9.176213e-07 -0.000031  0.0  0.0  21.824521  ...   663.205667   \n",
       "4   M  8.108948e-07 -0.000031  0.0  0.0  13.236022  ...   741.412796   \n",
       "\n",
       "   stft_q01_w4  stft_q05_w4  stft_q25_w4  stft_q50_w4  stft_q75_w4  \\\n",
       "0     0.000000     0.566462     0.709962     0.799141     0.896606   \n",
       "1     0.368623     0.472736     0.623183     0.744908     0.874713   \n",
       "2     0.000000     0.417919     0.643636     0.774253     0.899156   \n",
       "3     0.306280     0.399641     0.606910     0.755213     0.886474   \n",
       "4     0.248765     0.428202     0.634815     0.759914     0.878014   \n",
       "\n",
       "   stft_q95_w4  stft_kur_w4  stft_skew_w4  IsAngry?  \n",
       "0          1.0     6.742190     -1.706215       0.0  \n",
       "1          1.0    -0.700420     -0.201495       0.0  \n",
       "2          1.0     1.688986     -1.024773       0.0  \n",
       "3          1.0    -0.594111     -0.412871       0.0  \n",
       "4          1.0     0.126535     -0.620782       0.0  \n",
       "\n",
       "[5 rows x 259 columns]"
      ]
     },
     "execution_count": 119,
     "metadata": {},
     "output_type": "execute_result"
    }
   ],
   "source": [
    "df_train.head()"
   ]
  },
  {
   "cell_type": "code",
   "execution_count": 120,
   "metadata": {},
   "outputs": [],
   "source": [
    "# Percentage of Angry records in train and test datasets\n",
    "train_values=df_train.values\n",
    "train_target=np.array(df_train[\"IsAngry?\"])\n",
    "test_values=df_test.values\n",
    "test_target=np.array(df_test[\"IsAngry?\"])"
   ]
  },
  {
   "cell_type": "code",
   "execution_count": 136,
   "metadata": {},
   "outputs": [
    {
     "name": "stdout",
     "output_type": "stream",
     "text": [
      "Valori ed etichette nel train:(1828, 1828)\n",
      "Valori ed etichette nel test:(624, 624)\n"
     ]
    }
   ],
   "source": [
    "print(f\"Valori ed etichette nel train:{len(train_values), len(train_target)}\")\n",
    "print(f\"Valori ed etichette nel test:{len(test_values), len(test_target)}\")"
   ]
  },
  {
   "cell_type": "code",
   "execution_count": 138,
   "metadata": {},
   "outputs": [
    {
     "data": {
      "text/plain": [
       "((array([0., 1.]), array([1548,  280], dtype=int64)),\n",
       " (array([0., 1.]), array([528,  96], dtype=int64)))"
      ]
     },
     "execution_count": 138,
     "metadata": {},
     "output_type": "execute_result"
    }
   ],
   "source": [
    "np.unique(train_target, return_counts=True), np.unique(test_target, return_counts=True)\n"
   ]
  },
  {
   "cell_type": "code",
   "execution_count": 142,
   "metadata": {},
   "outputs": [
    {
     "name": "stdout",
     "output_type": "stream",
     "text": [
      "Train !Angry: 0.8468271334792122, Train Angry: 0.15317286652078774\n",
      "Test  !Angry: 0.8461538461538461, Train Angry: 0.15384615384615385\n"
     ]
    }
   ],
   "source": [
    "print(f\"Train !Angry: {1548/1828}, Train Angry: {280/1828}\")\n",
    "print(f\"Test  !Angry: {528/624}, Train Angry: {96/624}\")"
   ]
  },
  {
   "cell_type": "code",
   "execution_count": 124,
   "metadata": {},
   "outputs": [],
   "source": [
    "# Label encoding categorical columns for train and test\n",
    "le=preprocessing.LabelEncoder()\n",
    "c = df_train.select_dtypes(include=['object']).columns.tolist()\n",
    "for i in c:\n",
    "    df_train[i]=le.fit_transform(df_train[i])\n",
    "\n",
    "for i in c:\n",
    "    df_test[i]=le.fit_transform(df_test[i])\n",
    "\n",
    "\n",
    "#Normalization numerical pure feature for training and test\n",
    "scaler = StandardScaler()\n",
    "numeric_features = [n for n in df_train.columns if n!=\"IsAngry?\" and n!= \"vocal_channel\" and n!= \"emotional_intensity\" and n!= \"statement\" and n!= \"repetition\" and n!= \"sex\"]\n",
    "scaled_features = scaler.fit_transform(df_train[numeric_features])\n",
    "df_train[numeric_features] = scaled_features\n",
    "\n",
    "\n",
    "scaled_features_test = scaler.transform(df_test[numeric_features])\n",
    "df_test[numeric_features] = scaled_features_test"
   ]
  },
  {
   "cell_type": "code",
   "execution_count": 125,
   "metadata": {},
   "outputs": [],
   "source": [
    "col=[x for x in df_train.columns if x!=\"IsAngry?\"]\n",
    "X_train=df_train[col].values\n",
    "y_train = np.array(df_train[\"IsAngry?\"])\n",
    "\n",
    "X_test=df_test[col].values\n",
    "y_test = np.array(df_test[\"IsAngry?\"])"
   ]
  },
  {
   "attachments": {},
   "cell_type": "markdown",
   "metadata": {},
   "source": [
    "DT"
   ]
  },
  {
   "cell_type": "code",
   "execution_count": 127,
   "metadata": {},
   "outputs": [],
   "source": [
    "param_grid = {'max_depth': [None, 2, 5, 10, 15, 20],\n",
    "              'min_samples_split': [2, 5, 10, 15, 20],\n",
    "              'min_samples_leaf': [1, 5, 10, 15, 20]\n",
    "}\n",
    "\n",
    "grid = GridSearchCV(\n",
    "    DecisionTreeClassifier(),\n",
    "    param_grid=param_grid,\n",
    "    cv=StratifiedKFold(), # with no parameters it is with 5 split and 10 repetitions\n",
    "    refit=True,\n",
    "    scoring=\"f1_macro\"\n",
    ")\n",
    "grid.fit(X_train, y_train)\n",
    "clf = grid.best_estimator_"
   ]
  },
  {
   "cell_type": "code",
   "execution_count": 128,
   "metadata": {},
   "outputs": [
    {
     "name": "stdout",
     "output_type": "stream",
     "text": [
      "{'max_depth': 15, 'min_samples_leaf': 15, 'min_samples_split': 2}\n"
     ]
    }
   ],
   "source": [
    "print(grid.best_params_)"
   ]
  },
  {
   "cell_type": "code",
   "execution_count": 129,
   "metadata": {},
   "outputs": [
    {
     "name": "stdout",
     "output_type": "stream",
     "text": [
      "              precision    recall  f1-score   support\n",
      "\n",
      "         0.0       0.93      0.93      0.93       528\n",
      "         1.0       0.61      0.64      0.62        96\n",
      "\n",
      "    accuracy                           0.88       624\n",
      "   macro avg       0.77      0.78      0.78       624\n",
      "weighted avg       0.88      0.88      0.88       624\n",
      "\n"
     ]
    }
   ],
   "source": [
    "learner = DecisionTreeClassifier(max_depth=15,min_samples_split=2,min_samples_leaf=15)\n",
    "classifier = learner.fit(X_train, y_train)\n",
    "predictions = classifier.predict(X_test)\n",
    "\n",
    "print(classification_report(y_test,predictions))"
   ]
  },
  {
   "attachments": {},
   "cell_type": "markdown",
   "metadata": {},
   "source": [
    "KNN"
   ]
  },
  {
   "cell_type": "code",
   "execution_count": 144,
   "metadata": {},
   "outputs": [],
   "source": [
    "param_grid = {\n",
    "    \"n_neighbors\": np.arange(2,51),\n",
    "    \"weights\": [\"uniform\", \"distance\"],\n",
    "    \"metric\": [\"euclidean\", \"cityblock\",\"minkowski\"], # cityblock is the manhattan distance\n",
    "}\n",
    "\n",
    "grid = GridSearchCV(\n",
    "    KNeighborsClassifier(),\n",
    "    param_grid=param_grid,\n",
    "    cv=StratifiedKFold(), # with no parameters it is with 5 split and 10 repetitions\n",
    "    refit=True,\n",
    "    scoring=\"f1_macro\"\n",
    ")\n",
    "\n",
    "grid.fit(X_train, y_train)\n",
    "clf = grid.best_estimator_"
   ]
  },
  {
   "cell_type": "code",
   "execution_count": 145,
   "metadata": {},
   "outputs": [
    {
     "name": "stdout",
     "output_type": "stream",
     "text": [
      "{'metric': 'euclidean', 'n_neighbors': 5, 'weights': 'uniform'}\n"
     ]
    }
   ],
   "source": [
    "print(grid.best_params_)"
   ]
  },
  {
   "cell_type": "code",
   "execution_count": 146,
   "metadata": {},
   "outputs": [
    {
     "name": "stdout",
     "output_type": "stream",
     "text": [
      "              precision    recall  f1-score   support\n",
      "\n",
      "         0.0       0.90      0.97      0.93       528\n",
      "         1.0       0.68      0.40      0.50        96\n",
      "\n",
      "    accuracy                           0.88       624\n",
      "   macro avg       0.79      0.68      0.72       624\n",
      "weighted avg       0.86      0.88      0.86       624\n",
      "\n"
     ]
    }
   ],
   "source": [
    "learner = KNeighborsClassifier(n_neighbors= 5, metric= 'cityblock', weights= 'uniform')\n",
    "classifier = learner.fit(X_train, y_train)\n",
    "predictions = classifier.predict(X_test)\n",
    "\n",
    "print(classification_report(y_test,predictions))"
   ]
  }
 ],
 "metadata": {
  "kernelspec": {
   "display_name": "base",
   "language": "python",
   "name": "python3"
  },
  "language_info": {
   "codemirror_mode": {
    "name": "ipython",
    "version": 3
   },
   "file_extension": ".py",
   "mimetype": "text/x-python",
   "name": "python",
   "nbconvert_exporter": "python",
   "pygments_lexer": "ipython3",
   "version": "3.9.12"
  },
  "orig_nbformat": 4
 },
 "nbformat": 4,
 "nbformat_minor": 2
}
