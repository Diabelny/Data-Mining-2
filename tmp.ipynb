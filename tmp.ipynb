{
 "cells": [
  {
   "cell_type": "code",
   "execution_count": 11,
   "metadata": {},
   "outputs": [],
   "source": [
    "# Libraries and utilities\n",
    "\n",
    "# RENINDER: FARE FIT.TRANSFORM SOLO SU TRAINING E DOPO SUL TEST SOLO .TRANSFORM\n",
    "# REMINDER: NORMALIZZARE PRIMA DI FARE TUTTO IL PREPROCESSING \n",
    "\n",
    "import pandas as pd\n",
    "import numpy as np\n",
    "import seaborn as sns\n",
    "import matplotlib.pyplot as plt\n",
    "\n",
    "from sklearn.preprocessing import RobustScaler\n",
    "from sklearn import preprocessing\n",
    "from sklearn.model_selection import train_test_split\n",
    "\n",
    "from sklearn.model_selection import StratifiedKFold,RepeatedStratifiedKFold, RandomizedSearchCV,GridSearchCV, RepeatedKFold\n",
    "\n",
    "from sklearn.tree import DecisionTreeClassifier\n",
    "from sklearn.neighbors import KNeighborsClassifier\n",
    "\n",
    "from sklearn.metrics import (\n",
    "    accuracy_score,\n",
    "    f1_score,\n",
    "    classification_report,\n",
    "    confusion_matrix,\n",
    "    roc_auc_score,\n",
    ")"
   ]
  },
  {
   "cell_type": "code",
   "execution_count": 12,
   "metadata": {},
   "outputs": [],
   "source": [
    "df_train=pd.read_csv(\"./Dataset/RavdessAudioOnlyFeatures_TRAIN.csv\")"
   ]
  },
  {
   "cell_type": "code",
   "execution_count": 13,
   "metadata": {},
   "outputs": [
    {
     "name": "stdout",
     "output_type": "stream",
     "text": [
      "df_train shape = (1828, 434)\n"
     ]
    }
   ],
   "source": [
    "print(f\"df_train shape = {df_train.shape}\")"
   ]
  },
  {
   "cell_type": "code",
   "execution_count": 14,
   "metadata": {},
   "outputs": [
    {
     "name": "stdout",
     "output_type": "stream",
     "text": [
      "These columns has a constant value:\n",
      "\n",
      "['modality', 'lag1_q50', 'zc_min', 'zc_max', 'zc_q01', 'zc_q05', 'zc_q25', 'zc_q50', 'zc_q75', 'zc_q99', 'stft_max', 'stft_q95', 'stft_q99', 'lag1_q50_w1', 'zc_min_w1', 'zc_max_w1', 'zc_q01_w1', 'zc_q05_w1', 'zc_q25_w1', 'zc_q50_w1', 'zc_q75_w1', 'zc_min_w2', 'zc_max_w2', 'zc_q01_w2', 'zc_q05_w2', 'zc_q25_w2', 'zc_q50_w2', 'zc_q75_w2', 'zc_q99_w2', 'stft_max_w2', 'stft_q95_w2', 'stft_q99_w2', 'zc_min_w3', 'zc_max_w3', 'zc_q01_w3', 'zc_q05_w3', 'zc_q25_w3', 'zc_q50_w3', 'zc_q75_w3', 'zc_q99_w3', 'stft_max_w3', 'stft_q95_w3', 'stft_q99_w3', 'lag1_q50_w4', 'zc_min_w4', 'zc_max_w4', 'zc_q01_w4', 'zc_q05_w4', 'zc_q25_w4', 'zc_q50_w4', 'stft_max_w4', 'stft_q99_w4'] 52\n",
      "These columns has a constant value:\n",
      "\n",
      "[] 0\n"
     ]
    }
   ],
   "source": [
    "c_todelete = df_train.columns[df_train.eq(df_train.iloc[0]).all()].tolist()\n",
    "print(\"These columns has a constant value:\\n\")\n",
    "print (c_todelete,len(c_todelete))\n",
    "\n",
    "df_train=df_train.drop(c_todelete,axis=1)\n",
    "new_c=df_train.columns[df_train.eq(df_train.iloc[0]).all()].tolist()\n",
    "print(\"These columns has a constant value:\\n\")\n",
    "print (new_c,len(new_c))"
   ]
  },
  {
   "cell_type": "code",
   "execution_count": 15,
   "metadata": {},
   "outputs": [
    {
     "data": {
      "text/html": [
       "<div>\n",
       "<style scoped>\n",
       "    .dataframe tbody tr th:only-of-type {\n",
       "        vertical-align: middle;\n",
       "    }\n",
       "\n",
       "    .dataframe tbody tr th {\n",
       "        vertical-align: top;\n",
       "    }\n",
       "\n",
       "    .dataframe thead th {\n",
       "        text-align: right;\n",
       "    }\n",
       "</style>\n",
       "<table border=\"1\" class=\"dataframe\">\n",
       "  <thead>\n",
       "    <tr style=\"text-align: right;\">\n",
       "      <th></th>\n",
       "      <th>vocal_channel</th>\n",
       "      <th>emotion</th>\n",
       "      <th>emotional_intensity</th>\n",
       "      <th>statement</th>\n",
       "      <th>repetition</th>\n",
       "      <th>actor</th>\n",
       "      <th>sex</th>\n",
       "      <th>filename</th>\n",
       "      <th>frame_count</th>\n",
       "      <th>sum</th>\n",
       "      <th>...</th>\n",
       "      <th>stft_std_w4</th>\n",
       "      <th>stft_min_w4</th>\n",
       "      <th>stft_q01_w4</th>\n",
       "      <th>stft_q05_w4</th>\n",
       "      <th>stft_q25_w4</th>\n",
       "      <th>stft_q50_w4</th>\n",
       "      <th>stft_q75_w4</th>\n",
       "      <th>stft_q95_w4</th>\n",
       "      <th>stft_kur_w4</th>\n",
       "      <th>stft_skew_w4</th>\n",
       "    </tr>\n",
       "  </thead>\n",
       "  <tbody>\n",
       "    <tr>\n",
       "      <th>0</th>\n",
       "      <td>1</td>\n",
       "      <td>5</td>\n",
       "      <td>0</td>\n",
       "      <td>1</td>\n",
       "      <td>0</td>\n",
       "      <td>1</td>\n",
       "      <td>1</td>\n",
       "      <td>0</td>\n",
       "      <td>-0.703721</td>\n",
       "      <td>0.328567</td>\n",
       "      <td>...</td>\n",
       "      <td>-1.096766</td>\n",
       "      <td>-0.313562</td>\n",
       "      <td>-0.402429</td>\n",
       "      <td>1.421380</td>\n",
       "      <td>0.948188</td>\n",
       "      <td>0.831973</td>\n",
       "      <td>0.536448</td>\n",
       "      <td>0.0</td>\n",
       "      <td>10.826275</td>\n",
       "      <td>-2.710136</td>\n",
       "    </tr>\n",
       "    <tr>\n",
       "      <th>1</th>\n",
       "      <td>1</td>\n",
       "      <td>5</td>\n",
       "      <td>0</td>\n",
       "      <td>1</td>\n",
       "      <td>1</td>\n",
       "      <td>1</td>\n",
       "      <td>1</td>\n",
       "      <td>18</td>\n",
       "      <td>-0.666674</td>\n",
       "      <td>0.272964</td>\n",
       "      <td>...</td>\n",
       "      <td>-1.013205</td>\n",
       "      <td>2.191706</td>\n",
       "      <td>1.702463</td>\n",
       "      <td>1.092210</td>\n",
       "      <td>0.597843</td>\n",
       "      <td>0.441189</td>\n",
       "      <td>0.253557</td>\n",
       "      <td>0.0</td>\n",
       "      <td>0.064887</td>\n",
       "      <td>0.425032</td>\n",
       "    </tr>\n",
       "    <tr>\n",
       "      <th>2</th>\n",
       "      <td>1</td>\n",
       "      <td>5</td>\n",
       "      <td>0</td>\n",
       "      <td>0</td>\n",
       "      <td>0</td>\n",
       "      <td>1</td>\n",
       "      <td>1</td>\n",
       "      <td>36</td>\n",
       "      <td>-0.740767</td>\n",
       "      <td>0.337392</td>\n",
       "      <td>...</td>\n",
       "      <td>-0.716367</td>\n",
       "      <td>-0.313562</td>\n",
       "      <td>-0.402429</td>\n",
       "      <td>0.899688</td>\n",
       "      <td>0.680414</td>\n",
       "      <td>0.652634</td>\n",
       "      <td>0.569396</td>\n",
       "      <td>0.0</td>\n",
       "      <td>3.519767</td>\n",
       "      <td>-1.290314</td>\n",
       "    </tr>\n",
       "    <tr>\n",
       "      <th>3</th>\n",
       "      <td>1</td>\n",
       "      <td>5</td>\n",
       "      <td>0</td>\n",
       "      <td>0</td>\n",
       "      <td>1</td>\n",
       "      <td>1</td>\n",
       "      <td>1</td>\n",
       "      <td>54</td>\n",
       "      <td>-0.851860</td>\n",
       "      <td>0.318693</td>\n",
       "      <td>...</td>\n",
       "      <td>-0.803778</td>\n",
       "      <td>1.593356</td>\n",
       "      <td>1.346476</td>\n",
       "      <td>0.835496</td>\n",
       "      <td>0.532143</td>\n",
       "      <td>0.515441</td>\n",
       "      <td>0.405521</td>\n",
       "      <td>0.0</td>\n",
       "      <td>0.218601</td>\n",
       "      <td>-0.015380</td>\n",
       "    </tr>\n",
       "    <tr>\n",
       "      <th>4</th>\n",
       "      <td>1</td>\n",
       "      <td>1</td>\n",
       "      <td>0</td>\n",
       "      <td>1</td>\n",
       "      <td>0</td>\n",
       "      <td>1</td>\n",
       "      <td>1</td>\n",
       "      <td>72</td>\n",
       "      <td>-0.444465</td>\n",
       "      <td>0.315162</td>\n",
       "      <td>...</td>\n",
       "      <td>-0.863050</td>\n",
       "      <td>1.335822</td>\n",
       "      <td>1.018057</td>\n",
       "      <td>0.935801</td>\n",
       "      <td>0.644804</td>\n",
       "      <td>0.549313</td>\n",
       "      <td>0.296205</td>\n",
       "      <td>0.0</td>\n",
       "      <td>1.260594</td>\n",
       "      <td>-0.448574</td>\n",
       "    </tr>\n",
       "  </tbody>\n",
       "</table>\n",
       "<p>5 rows × 382 columns</p>\n",
       "</div>"
      ],
      "text/plain": [
       "   vocal_channel  emotion  emotional_intensity  statement  repetition  actor  \\\n",
       "0              1        5                    0          1           0      1   \n",
       "1              1        5                    0          1           1      1   \n",
       "2              1        5                    0          0           0      1   \n",
       "3              1        5                    0          0           1      1   \n",
       "4              1        1                    0          1           0      1   \n",
       "\n",
       "   sex  filename  frame_count       sum  ...  stft_std_w4  stft_min_w4  \\\n",
       "0    1         0    -0.703721  0.328567  ...    -1.096766    -0.313562   \n",
       "1    1        18    -0.666674  0.272964  ...    -1.013205     2.191706   \n",
       "2    1        36    -0.740767  0.337392  ...    -0.716367    -0.313562   \n",
       "3    1        54    -0.851860  0.318693  ...    -0.803778     1.593356   \n",
       "4    1        72    -0.444465  0.315162  ...    -0.863050     1.335822   \n",
       "\n",
       "   stft_q01_w4  stft_q05_w4  stft_q25_w4  stft_q50_w4  stft_q75_w4  \\\n",
       "0    -0.402429     1.421380     0.948188     0.831973     0.536448   \n",
       "1     1.702463     1.092210     0.597843     0.441189     0.253557   \n",
       "2    -0.402429     0.899688     0.680414     0.652634     0.569396   \n",
       "3     1.346476     0.835496     0.532143     0.515441     0.405521   \n",
       "4     1.018057     0.935801     0.644804     0.549313     0.296205   \n",
       "\n",
       "   stft_q95_w4  stft_kur_w4  stft_skew_w4  \n",
       "0          0.0    10.826275     -2.710136  \n",
       "1          0.0     0.064887      0.425032  \n",
       "2          0.0     3.519767     -1.290314  \n",
       "3          0.0     0.218601     -0.015380  \n",
       "4          0.0     1.260594     -0.448574  \n",
       "\n",
       "[5 rows x 382 columns]"
      ]
     },
     "execution_count": 15,
     "metadata": {},
     "output_type": "execute_result"
    }
   ],
   "source": [
    "# Select categorical columns\n",
    "\n",
    "df_train_copy=df_train\n",
    "c=df_train_copy.select_dtypes(include=['object']).columns.tolist()\n",
    "\n",
    "# Label-encoding for categorical columns\n",
    "\n",
    "le=preprocessing.LabelEncoder()\n",
    "for i in c:\n",
    "    df_train_copy[i]=le.fit_transform(df_train_copy[i])\n",
    "\n",
    "# Normalization for pure numerical features\n",
    "\n",
    "df_normalized = df_train_copy.copy()\n",
    "numeric_features = [n for n in df_normalized.columns if n!=\"emotion\" and n!= \"vocal_channel\" and n!= \"emotional_intensity\" and n!= \"statement\" and n!= \"repetition\" and n!= \"sex\" and n!=\"filename\" and n!=\"actor\"]\n",
    "scaler = RobustScaler()\n",
    "scaled_features = scaler.fit_transform(df_normalized[numeric_features])\n",
    "df_normalized[numeric_features] = scaled_features\n",
    "df_normalized.head()"
   ]
  },
  {
   "cell_type": "code",
   "execution_count": 16,
   "metadata": {},
   "outputs": [],
   "source": [
    "col=[x for x in df_normalized.columns if x!=\"emotion\"]\n",
    "X=df_normalized[col].values\n",
    "y = np.array(df_normalized[\"emotion\"])\n",
    "\n",
    "#holdout\n",
    "X_train, X_test, y_train, y_test = train_test_split(\n",
    "    X, y, test_size=0.3, stratify=y, random_state=0\n",
    ")"
   ]
  },
  {
   "cell_type": "code",
   "execution_count": 17,
   "metadata": {},
   "outputs": [
    {
     "data": {
      "text/plain": [
       "((array([0, 1, 2, 3, 4, 5, 6, 7]),\n",
       "  array([196, 196, 101, 196, 196,  98, 196, 100], dtype=int64)),\n",
       " (array([0, 1, 2, 3, 4, 5, 6, 7]),\n",
       "  array([84, 84, 43, 84, 84, 42, 84, 44], dtype=int64)))"
      ]
     },
     "execution_count": 17,
     "metadata": {},
     "output_type": "execute_result"
    }
   ],
   "source": [
    "np.unique(y_train, return_counts=True), np.unique(y_test, return_counts=True)"
   ]
  },
  {
   "cell_type": "code",
   "execution_count": 18,
   "metadata": {},
   "outputs": [],
   "source": [
    "# Now read the test_dataset and perform same preprocessing as train_dataset\n",
    "\n",
    "\n",
    "df_test=pd.read_csv(\"./Dataset/RavdessAudioOnlyFeatures_TEST.csv\")\n",
    "#c_new = df_test.columns[df_test.eq(df_test.iloc[0]).all()].tolist() #constant columns\n",
    "df_test=df_test.drop(c_todelete,axis=1)#remove constant columns\n",
    "df_test_copy=df_test\n",
    "c1=df_test_copy.select_dtypes(include=['object']).columns.tolist()\n",
    "le=preprocessing.LabelEncoder() #label-encoding categorical features\n",
    "for i in c1:\n",
    "    df_test_copy[i]=le.fit_transform(df_test_copy[i])\n",
    "\n",
    "# Normalization for pure numerical features for test_dataset\n",
    "\n",
    "df_test_normalized = df_test_copy.copy()\n",
    "numeric_features = [n for n in df_test_normalized.columns if n!=\"emotion\" and n!= \"vocal_channel\" and n!= \"emotional_intensity\" and n!= \"statement\" and n!= \"repetition\" and n!= \"sex\" and n!=\"filename\" and n!=\"actor\"]\n",
    "scaler = RobustScaler()\n",
    "#scaled_features = scaler.transform(df_normalized[numeric_features])\n",
    "scaled_features = scaler.fit_transform(df_test_normalized[numeric_features]) \n",
    "df_test_normalized[numeric_features] = scaled_features\n",
    "\n",
    "\n",
    "col=[x for x in df_test_normalized.columns if x!=\"emotion\"]\n",
    "X_new=df_test_normalized[col].values\n",
    "y_new = np.array(df_test_normalized[\"emotion\"])\n",
    "\n",
    "\n"
   ]
  },
  {
   "attachments": {},
   "cell_type": "markdown",
   "metadata": {},
   "source": [
    "DT sui dati non osservati"
   ]
  },
  {
   "cell_type": "code",
   "execution_count": 19,
   "metadata": {},
   "outputs": [
    {
     "name": "stdout",
     "output_type": "stream",
     "text": [
      "              precision    recall  f1-score   support\n",
      "\n",
      "           0       0.40      0.50      0.44        96\n",
      "           1       0.00      0.00      0.00        96\n",
      "           2       0.00      0.00      0.00        48\n",
      "           3       0.00      0.00      0.00        96\n",
      "           4       0.00      0.00      0.00        96\n",
      "           5       0.33      0.50      0.40        48\n",
      "           6       0.17      0.25      0.20        96\n",
      "           7       0.00      0.00      0.00        48\n",
      "\n",
      "    accuracy                           0.15       624\n",
      "   macro avg       0.11      0.16      0.13       624\n",
      "weighted avg       0.11      0.15      0.13       624\n",
      "\n"
     ]
    },
    {
     "name": "stderr",
     "output_type": "stream",
     "text": [
      "d:\\Anaconda\\lib\\site-packages\\sklearn\\metrics\\_classification.py:1318: UndefinedMetricWarning: Precision and F-score are ill-defined and being set to 0.0 in labels with no predicted samples. Use `zero_division` parameter to control this behavior.\n",
      "  _warn_prf(average, modifier, msg_start, len(result))\n",
      "d:\\Anaconda\\lib\\site-packages\\sklearn\\metrics\\_classification.py:1318: UndefinedMetricWarning: Precision and F-score are ill-defined and being set to 0.0 in labels with no predicted samples. Use `zero_division` parameter to control this behavior.\n",
      "  _warn_prf(average, modifier, msg_start, len(result))\n",
      "d:\\Anaconda\\lib\\site-packages\\sklearn\\metrics\\_classification.py:1318: UndefinedMetricWarning: Precision and F-score are ill-defined and being set to 0.0 in labels with no predicted samples. Use `zero_division` parameter to control this behavior.\n",
      "  _warn_prf(average, modifier, msg_start, len(result))\n"
     ]
    }
   ],
   "source": [
    "# Now train classifier with the entire train_dataset and test it on the test_dataset\n",
    "\n",
    "learner = DecisionTreeClassifier(max_depth=20,min_samples_split=2,min_samples_leaf=15)\n",
    "classifier = learner.fit(X, y)\n",
    "predictions = classifier.predict(X_new)\n",
    "print(classification_report(y_new,predictions))"
   ]
  },
  {
   "attachments": {},
   "cell_type": "markdown",
   "metadata": {},
   "source": [
    "KNN sui dati non osservati"
   ]
  },
  {
   "cell_type": "code",
   "execution_count": 20,
   "metadata": {},
   "outputs": [
    {
     "name": "stdout",
     "output_type": "stream",
     "text": [
      "              precision    recall  f1-score   support\n",
      "\n",
      "           0       0.41      0.50      0.45        96\n",
      "           1       0.02      0.03      0.03        96\n",
      "           2       0.00      0.00      0.00        48\n",
      "           3       0.00      0.00      0.00        96\n",
      "           4       0.00      0.00      0.00        96\n",
      "           5       0.31      0.50      0.38        48\n",
      "           6       0.19      0.29      0.23        96\n",
      "           7       0.00      0.00      0.00        48\n",
      "\n",
      "    accuracy                           0.17       624\n",
      "   macro avg       0.12      0.17      0.14       624\n",
      "weighted avg       0.12      0.17      0.14       624\n",
      "\n"
     ]
    },
    {
     "name": "stderr",
     "output_type": "stream",
     "text": [
      "d:\\Anaconda\\lib\\site-packages\\sklearn\\metrics\\_classification.py:1318: UndefinedMetricWarning: Precision and F-score are ill-defined and being set to 0.0 in labels with no predicted samples. Use `zero_division` parameter to control this behavior.\n",
      "  _warn_prf(average, modifier, msg_start, len(result))\n",
      "d:\\Anaconda\\lib\\site-packages\\sklearn\\metrics\\_classification.py:1318: UndefinedMetricWarning: Precision and F-score are ill-defined and being set to 0.0 in labels with no predicted samples. Use `zero_division` parameter to control this behavior.\n",
      "  _warn_prf(average, modifier, msg_start, len(result))\n",
      "d:\\Anaconda\\lib\\site-packages\\sklearn\\metrics\\_classification.py:1318: UndefinedMetricWarning: Precision and F-score are ill-defined and being set to 0.0 in labels with no predicted samples. Use `zero_division` parameter to control this behavior.\n",
      "  _warn_prf(average, modifier, msg_start, len(result))\n"
     ]
    }
   ],
   "source": [
    "learner = KNeighborsClassifier(n_neighbors= 14, metric= 'euclidean', weights= 'distance')\n",
    "classifier = learner.fit(X, y)\n",
    "predictions = classifier.predict(X_new)\n",
    "print(classification_report(y_new,predictions))"
   ]
  }
 ],
 "metadata": {
  "kernelspec": {
   "display_name": "base",
   "language": "python",
   "name": "python3"
  },
  "language_info": {
   "codemirror_mode": {
    "name": "ipython",
    "version": 3
   },
   "file_extension": ".py",
   "mimetype": "text/x-python",
   "name": "python",
   "nbconvert_exporter": "python",
   "pygments_lexer": "ipython3",
   "version": "3.9.12"
  },
  "orig_nbformat": 4,
  "vscode": {
   "interpreter": {
    "hash": "88279d2366fe020547cde40dd65aa0e3aa662a6ec1f3ca12d88834876c85e1a6"
   }
  }
 },
 "nbformat": 4,
 "nbformat_minor": 2
}
