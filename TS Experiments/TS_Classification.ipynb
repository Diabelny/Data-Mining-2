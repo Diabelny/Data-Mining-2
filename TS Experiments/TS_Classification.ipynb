{
 "cells": [
  {
   "cell_type": "code",
   "execution_count": 2,
   "metadata": {},
   "outputs": [],
   "source": [
    "import pandas as pd\n",
    "import numpy as np\n",
    "import pathlib\n",
    "from tqdm.notebook import tqdm\n",
    "import librosa\n",
    "import awkward as ak\n",
    "import matplotlib.pyplot as plt\n",
    "from IPython.display import Audio \n",
    "from collections import defaultdict\n",
    "from scipy.signal import decimate\n",
    "\n",
    "\n",
    "from sklearn.model_selection import train_test_split, cross_val_score \n",
    "from sklearn.metrics import accuracy_score, f1_score, classification_report\n",
    "from sklearn.metrics import roc_curve, auc, roc_auc_score\n",
    "from sktime.classification.distance_based import KNeighborsTimeSeriesClassifier"
   ]
  },
  {
   "cell_type": "code",
   "execution_count": 3,
   "metadata": {},
   "outputs": [
    {
     "name": "stdout",
     "output_type": "stream",
     "text": [
      "(1828, 304304) (634, 304304)\n"
     ]
    }
   ],
   "source": [
    "# Read the TS continous values\n",
    "X_train = np.load(\"../../RavdessAudioOnlyNumpy__X_train.npy\")\n",
    "X_test = np.load(\"../../RavdessAudioOnlyNumpy__X_test.npy\")\n",
    "print(X_train.shape, X_test.shape)"
   ]
  },
  {
   "attachments": {},
   "cell_type": "markdown",
   "metadata": {},
   "source": [
    "Clean the two numpy arrays deleting the columns found in the test set with null values"
   ]
  },
  {
   "cell_type": "code",
   "execution_count": 4,
   "metadata": {},
   "outputs": [],
   "source": [
    "# Individua le colonne con valori nulli\n",
    "col_with_nulls = np.isnan(X_train).any(axis=0)\n",
    "\n",
    "# Ottieni gli indici delle colonne con valori nulli\n",
    "indices_with_nulls = np.where(col_with_nulls)[0]\n",
    "\n",
    "X_train = np.delete(X_train, indices_with_nulls, axis=1)\n",
    "X_test = np.delete(X_test, indices_with_nulls, axis=1)"
   ]
  },
  {
   "cell_type": "code",
   "execution_count": 5,
   "metadata": {},
   "outputs": [
    {
     "data": {
      "text/plain": [
       "(1828, 140941)"
      ]
     },
     "execution_count": 5,
     "metadata": {},
     "output_type": "execute_result"
    }
   ],
   "source": [
    "X_train.shape"
   ]
  },
  {
   "cell_type": "code",
   "execution_count": 6,
   "metadata": {},
   "outputs": [
    {
     "data": {
      "text/plain": [
       "(634, 140941)"
      ]
     },
     "execution_count": 6,
     "metadata": {},
     "output_type": "execute_result"
    }
   ],
   "source": [
    "X_test.shape"
   ]
  },
  {
   "attachments": {},
   "cell_type": "markdown",
   "metadata": {},
   "source": [
    "Read the dataframe for train and test containing categorical data, then define 2 array containing the emotion value for both train and test"
   ]
  },
  {
   "cell_type": "code",
   "execution_count": 7,
   "metadata": {},
   "outputs": [],
   "source": [
    "df_Y_train=pd.read_csv('../../RavdessAudioOnlyNumpy__Y_train.csv')\n",
    "df_Y_test=pd.read_csv('../../RavdessAudioOnlyNumpy__Y_test.csv')"
   ]
  },
  {
   "cell_type": "code",
   "execution_count": 8,
   "metadata": {},
   "outputs": [],
   "source": [
    "#LabelEncode categorical features\n",
    "from sklearn import preprocessing\n",
    "\n",
    "le=preprocessing.LabelEncoder()\n",
    "c = df_Y_train.select_dtypes(include=['object']).columns.tolist()\n",
    "for i in c:\n",
    "    df_Y_train[i]=le.fit_transform(df_Y_train[i])\n",
    "\n",
    "for i in c:\n",
    "    df_Y_test[i]=le.fit_transform(df_Y_test[i])"
   ]
  },
  {
   "cell_type": "code",
   "execution_count": 9,
   "metadata": {},
   "outputs": [],
   "source": [
    "y_train=np.array(df_Y_train['emotion'])\n",
    "y_test=np.array(df_Y_test['emotion'])"
   ]
  },
  {
   "attachments": {},
   "cell_type": "markdown",
   "metadata": {},
   "source": [
    "Data Normalization"
   ]
  },
  {
   "cell_type": "code",
   "execution_count": 10,
   "metadata": {},
   "outputs": [],
   "source": [
    "from tslearn.preprocessing import TimeSeriesScalerMinMax\n",
    "scaler = TimeSeriesScalerMinMax()\n",
    "X_train = scaler.fit_transform(X_train).reshape(X_train.shape[0], X_train.shape[1])\n",
    "X_test = scaler.fit_transform(X_test).reshape(X_test.shape[0], X_test.shape[1])"
   ]
  },
  {
   "cell_type": "code",
   "execution_count": 11,
   "metadata": {},
   "outputs": [
    {
     "data": {
      "text/plain": [
       "(1828, 140941)"
      ]
     },
     "execution_count": 11,
     "metadata": {},
     "output_type": "execute_result"
    }
   ],
   "source": [
    "X_train.shape"
   ]
  },
  {
   "attachments": {},
   "cell_type": "markdown",
   "metadata": {},
   "source": [
    "Approximation of time series"
   ]
  },
  {
   "cell_type": "code",
   "execution_count": 12,
   "metadata": {},
   "outputs": [],
   "source": [
    "from tslearn.piecewise import PiecewiseAggregateApproximation\n",
    "from tslearn.piecewise import SymbolicAggregateApproximation\n",
    "from tslearn.piecewise import OneD_SymbolicAggregateApproximation\n",
    "from pyts.approximation import DiscreteFourierTransform\n",
    "\n",
    "n_coefs = 1000\n",
    "\n",
    "dft = DiscreteFourierTransform(n_coefs=n_coefs)\n",
    "ts_dft_X_train = dft.fit_transform(X_train) \n",
    "ts_dft_X_test = dft.fit_transform(X_test) "
   ]
  },
  {
   "attachments": {},
   "cell_type": "markdown",
   "metadata": {},
   "source": [
    "Shapelet Classifiers"
   ]
  },
  {
   "cell_type": "code",
   "execution_count": 13,
   "metadata": {},
   "outputs": [],
   "source": [
    "from keras.optimizers import Adagrad\n",
    "from tslearn.shapelets import ShapeletModel\n",
    "from tslearn.shapelets import grabocka_params_to_shapelet_size_dict"
   ]
  },
  {
   "cell_type": "code",
   "execution_count": 14,
   "metadata": {},
   "outputs": [
    {
     "data": {
      "text/plain": [
       "(1828, 1000)"
      ]
     },
     "execution_count": 14,
     "metadata": {},
     "output_type": "execute_result"
    }
   ],
   "source": [
    "ts_dft_X_train.shape"
   ]
  },
  {
   "cell_type": "code",
   "execution_count": 15,
   "metadata": {},
   "outputs": [
    {
     "name": "stdout",
     "output_type": "stream",
     "text": [
      "n_ts 1828\n",
      "ts_sz 1000\n",
      "n_classes 8\n",
      "shapelet_sizes {100: 7}\n"
     ]
    }
   ],
   "source": [
    "n_ts, ts_sz = ts_dft_X_train.shape\n",
    "n_classes = len(set(y_train))\n",
    "\n",
    "# Set the number of shapelets per size \n",
    "shapelet_sizes = grabocka_params_to_shapelet_size_dict(n_ts=n_ts, # this function that take n. of TS, n. T stamps, number of classe, learnig rate an it returns a set of suggested sizes to look for the shapelets\n",
    "                                                       ts_sz=ts_sz,\n",
    "                                                       n_classes=n_classes,\n",
    "                                                       l=0.1,\n",
    "                                                       r=1)\n",
    "\n",
    "print('n_ts', n_ts)\n",
    "print('ts_sz', ts_sz)\n",
    "print('n_classes', n_classes)\n",
    "print('shapelet_sizes', shapelet_sizes)"
   ]
  },
  {
   "cell_type": "code",
   "execution_count": 16,
   "metadata": {},
   "outputs": [
    {
     "name": "stderr",
     "output_type": "stream",
     "text": [
      "d:\\Anaconda\\lib\\site-packages\\tslearn\\shapelets\\shapelets.py:354: FutureWarning: The default value for 'scale' is set to False in version 0.4 to ensure backward compatibility, but is likely to change in a future version.\n",
      "  warnings.warn(\"The default value for 'scale' is set to False \"\n"
     ]
    },
    {
     "name": "stdout",
     "output_type": "stream",
     "text": [
      "Epoch 1/200\n",
      "8/8 [==============================] - 1s 35ms/step - loss: 5460246016.0000 - categorical_accuracy: 0.1373 - categorical_crossentropy: 5453830144.0000\n",
      "Epoch 2/200\n",
      "8/8 [==============================] - 0s 35ms/step - loss: 2493587456.0000 - categorical_accuracy: 0.1373 - categorical_crossentropy: 2488486656.0000\n",
      "Epoch 3/200\n",
      "8/8 [==============================] - 0s 38ms/step - loss: 3372257536.0000 - categorical_accuracy: 0.1417 - categorical_crossentropy: 3369141248.0000\n",
      "Epoch 4/200\n",
      "8/8 [==============================] - 0s 32ms/step - loss: 1613273984.0000 - categorical_accuracy: 0.1526 - categorical_crossentropy: 1611730560.0000\n",
      "Epoch 5/200\n",
      "8/8 [==============================] - 0s 37ms/step - loss: 1283577472.0000 - categorical_accuracy: 0.1187 - categorical_crossentropy: 1282666496.0000\n",
      "Epoch 6/200\n",
      "8/8 [==============================] - 0s 33ms/step - loss: 1980539136.0000 - categorical_accuracy: 0.1187 - categorical_crossentropy: 1979659264.0000\n",
      "Epoch 7/200\n",
      "8/8 [==============================] - 0s 32ms/step - loss: 1463874304.0000 - categorical_accuracy: 0.1450 - categorical_crossentropy: 1463210496.0000\n",
      "Epoch 8/200\n",
      "8/8 [==============================] - 0s 37ms/step - loss: 1697027072.0000 - categorical_accuracy: 0.1220 - categorical_crossentropy: 1696322048.0000\n",
      "Epoch 9/200\n",
      "8/8 [==============================] - 0s 37ms/step - loss: 1775496704.0000 - categorical_accuracy: 0.1379 - categorical_crossentropy: 1774913024.0000\n",
      "Epoch 10/200\n",
      "8/8 [==============================] - 0s 33ms/step - loss: 1127986048.0000 - categorical_accuracy: 0.1428 - categorical_crossentropy: 1127612800.0000\n",
      "Epoch 11/200\n",
      "8/8 [==============================] - 0s 36ms/step - loss: 1934407040.0000 - categorical_accuracy: 0.1340 - categorical_crossentropy: 1933924992.0000\n",
      "Epoch 12/200\n",
      "8/8 [==============================] - 0s 32ms/step - loss: 1592510208.0000 - categorical_accuracy: 0.1417 - categorical_crossentropy: 1591897728.0000\n",
      "Epoch 13/200\n",
      "8/8 [==============================] - 0s 35ms/step - loss: 1890672128.0000 - categorical_accuracy: 0.1411 - categorical_crossentropy: 1890135168.0000\n",
      "Epoch 14/200\n",
      "8/8 [==============================] - 0s 38ms/step - loss: 1708951168.0000 - categorical_accuracy: 0.1214 - categorical_crossentropy: 1708430720.0000\n",
      "Epoch 15/200\n",
      "8/8 [==============================] - 0s 32ms/step - loss: 1743415040.0000 - categorical_accuracy: 0.1280 - categorical_crossentropy: 1742918016.0000\n",
      "Epoch 16/200\n",
      "8/8 [==============================] - 0s 32ms/step - loss: 2008568960.0000 - categorical_accuracy: 0.1422 - categorical_crossentropy: 2008000384.0000\n",
      "Epoch 17/200\n",
      "8/8 [==============================] - 0s 32ms/step - loss: 1800185728.0000 - categorical_accuracy: 0.1269 - categorical_crossentropy: 1799691136.0000\n",
      "Epoch 18/200\n",
      "8/8 [==============================] - 0s 38ms/step - loss: 1734952704.0000 - categorical_accuracy: 0.1275 - categorical_crossentropy: 1734497280.0000\n",
      "Epoch 19/200\n",
      "8/8 [==============================] - 0s 38ms/step - loss: 2166665472.0000 - categorical_accuracy: 0.1307 - categorical_crossentropy: 2166027776.0000\n",
      "Epoch 20/200\n",
      "8/8 [==============================] - 0s 37ms/step - loss: 1972255744.0000 - categorical_accuracy: 0.1253 - categorical_crossentropy: 1971713920.0000\n",
      "Epoch 21/200\n",
      "8/8 [==============================] - 0s 32ms/step - loss: 1746043392.0000 - categorical_accuracy: 0.1521 - categorical_crossentropy: 1745498240.0000\n",
      "Epoch 22/200\n",
      "8/8 [==============================] - 0s 32ms/step - loss: 1759585792.0000 - categorical_accuracy: 0.1384 - categorical_crossentropy: 1759055616.0000\n",
      "Epoch 23/200\n",
      "8/8 [==============================] - 0s 35ms/step - loss: 1520904576.0000 - categorical_accuracy: 0.1362 - categorical_crossentropy: 1520446848.0000\n",
      "Epoch 24/200\n",
      "8/8 [==============================] - 0s 37ms/step - loss: 1858435840.0000 - categorical_accuracy: 0.1258 - categorical_crossentropy: 1857947008.0000\n",
      "Epoch 25/200\n",
      "8/8 [==============================] - 0s 32ms/step - loss: 1478069376.0000 - categorical_accuracy: 0.1389 - categorical_crossentropy: 1477652992.0000\n",
      "Epoch 26/200\n",
      "8/8 [==============================] - 0s 37ms/step - loss: 2107121408.0000 - categorical_accuracy: 0.1395 - categorical_crossentropy: 2106507264.0000\n",
      "Epoch 27/200\n",
      "8/8 [==============================] - 0s 37ms/step - loss: 1851834240.0000 - categorical_accuracy: 0.1368 - categorical_crossentropy: 1851370112.0000\n",
      "Epoch 28/200\n",
      "8/8 [==============================] - 0s 37ms/step - loss: 2039607296.0000 - categorical_accuracy: 0.1406 - categorical_crossentropy: 2038977536.0000\n",
      "Epoch 29/200\n",
      "8/8 [==============================] - 0s 32ms/step - loss: 1983964160.0000 - categorical_accuracy: 0.1433 - categorical_crossentropy: 1983493888.0000\n",
      "Epoch 30/200\n",
      "8/8 [==============================] - 0s 32ms/step - loss: 1755092608.0000 - categorical_accuracy: 0.1313 - categorical_crossentropy: 1754566912.0000\n",
      "Epoch 31/200\n",
      "8/8 [==============================] - 0s 36ms/step - loss: 1825511168.0000 - categorical_accuracy: 0.1493 - categorical_crossentropy: 1825008256.0000\n",
      "Epoch 32/200\n",
      "8/8 [==============================] - 0s 35ms/step - loss: 1669628160.0000 - categorical_accuracy: 0.1532 - categorical_crossentropy: 1669086208.0000\n",
      "Epoch 33/200\n",
      "8/8 [==============================] - 0s 32ms/step - loss: 1712017408.0000 - categorical_accuracy: 0.1428 - categorical_crossentropy: 1711542016.0000\n",
      "Epoch 34/200\n",
      "8/8 [==============================] - 0s 38ms/step - loss: 1975263744.0000 - categorical_accuracy: 0.1400 - categorical_crossentropy: 1974748288.0000\n",
      "Epoch 35/200\n",
      "8/8 [==============================] - 0s 37ms/step - loss: 2038106752.0000 - categorical_accuracy: 0.1286 - categorical_crossentropy: 2037428480.0000\n",
      "Epoch 36/200\n",
      "8/8 [==============================] - 0s 37ms/step - loss: 2007953536.0000 - categorical_accuracy: 0.1280 - categorical_crossentropy: 2007233408.0000\n",
      "Epoch 37/200\n",
      "8/8 [==============================] - 0s 32ms/step - loss: 1940552064.0000 - categorical_accuracy: 0.1286 - categorical_crossentropy: 1939950208.0000\n",
      "Epoch 38/200\n",
      "8/8 [==============================] - 0s 36ms/step - loss: 1468999424.0000 - categorical_accuracy: 0.1444 - categorical_crossentropy: 1468556160.0000\n",
      "Epoch 39/200\n",
      "8/8 [==============================] - 0s 38ms/step - loss: 1515954432.0000 - categorical_accuracy: 0.1368 - categorical_crossentropy: 1515434496.0000\n",
      "Epoch 40/200\n",
      "8/8 [==============================] - 0s 34ms/step - loss: 1682843008.0000 - categorical_accuracy: 0.1493 - categorical_crossentropy: 1682354560.0000\n",
      "Epoch 41/200\n",
      "8/8 [==============================] - 0s 32ms/step - loss: 1978100352.0000 - categorical_accuracy: 0.1296 - categorical_crossentropy: 1977533056.0000\n",
      "Epoch 42/200\n",
      "8/8 [==============================] - 0s 34ms/step - loss: 1730195328.0000 - categorical_accuracy: 0.1373 - categorical_crossentropy: 1729766016.0000\n",
      "Epoch 43/200\n",
      "8/8 [==============================] - 0s 35ms/step - loss: 1300019584.0000 - categorical_accuracy: 0.1346 - categorical_crossentropy: 1299594496.0000\n",
      "Epoch 44/200\n",
      "8/8 [==============================] - 0s 38ms/step - loss: 1673490816.0000 - categorical_accuracy: 0.1395 - categorical_crossentropy: 1673086592.0000\n",
      "Epoch 45/200\n",
      "8/8 [==============================] - 0s 33ms/step - loss: 2289539328.0000 - categorical_accuracy: 0.1482 - categorical_crossentropy: 2288728320.0000\n",
      "Epoch 46/200\n",
      "8/8 [==============================] - 0s 35ms/step - loss: 1529091200.0000 - categorical_accuracy: 0.1543 - categorical_crossentropy: 1528658944.0000\n",
      "Epoch 47/200\n",
      "8/8 [==============================] - 0s 38ms/step - loss: 1854432000.0000 - categorical_accuracy: 0.1264 - categorical_crossentropy: 1853914752.0000\n",
      "Epoch 48/200\n",
      "8/8 [==============================] - 0s 38ms/step - loss: 1873422976.0000 - categorical_accuracy: 0.1461 - categorical_crossentropy: 1872963328.0000\n",
      "Epoch 49/200\n",
      "8/8 [==============================] - 0s 38ms/step - loss: 1509835008.0000 - categorical_accuracy: 0.1428 - categorical_crossentropy: 1509357440.0000\n",
      "Epoch 50/200\n",
      "8/8 [==============================] - 0s 32ms/step - loss: 1729872384.0000 - categorical_accuracy: 0.1422 - categorical_crossentropy: 1729440128.0000\n",
      "Epoch 51/200\n",
      "8/8 [==============================] - 0s 32ms/step - loss: 1772038784.0000 - categorical_accuracy: 0.1482 - categorical_crossentropy: 1771557760.0000\n",
      "Epoch 52/200\n",
      "8/8 [==============================] - 0s 32ms/step - loss: 1832486144.0000 - categorical_accuracy: 0.1461 - categorical_crossentropy: 1832068480.0000\n",
      "Epoch 53/200\n",
      "8/8 [==============================] - 0s 36ms/step - loss: 1529752832.0000 - categorical_accuracy: 0.1275 - categorical_crossentropy: 1529312768.0000\n",
      "Epoch 54/200\n",
      "8/8 [==============================] - 0s 36ms/step - loss: 1984245248.0000 - categorical_accuracy: 0.1379 - categorical_crossentropy: 1983648896.0000\n",
      "Epoch 55/200\n",
      "8/8 [==============================] - 0s 37ms/step - loss: 1553422976.0000 - categorical_accuracy: 0.1532 - categorical_crossentropy: 1553005824.0000\n",
      "Epoch 56/200\n",
      "8/8 [==============================] - 0s 36ms/step - loss: 1669055744.0000 - categorical_accuracy: 0.1264 - categorical_crossentropy: 1668587264.0000\n",
      "Epoch 57/200\n",
      "8/8 [==============================] - 0s 38ms/step - loss: 1928722432.0000 - categorical_accuracy: 0.1477 - categorical_crossentropy: 1928253312.0000\n",
      "Epoch 58/200\n",
      "8/8 [==============================] - 0s 37ms/step - loss: 1943272576.0000 - categorical_accuracy: 0.1389 - categorical_crossentropy: 1942799360.0000\n",
      "Epoch 59/200\n",
      "8/8 [==============================] - 0s 38ms/step - loss: 1635969536.0000 - categorical_accuracy: 0.1368 - categorical_crossentropy: 1635489792.0000\n",
      "Epoch 60/200\n",
      "8/8 [==============================] - 0s 34ms/step - loss: 1814093696.0000 - categorical_accuracy: 0.1313 - categorical_crossentropy: 1813649408.0000\n",
      "Epoch 61/200\n",
      "8/8 [==============================] - 0s 32ms/step - loss: 1718648064.0000 - categorical_accuracy: 0.1433 - categorical_crossentropy: 1718173952.0000\n",
      "Epoch 62/200\n",
      "8/8 [==============================] - 0s 33ms/step - loss: 1567082240.0000 - categorical_accuracy: 0.1586 - categorical_crossentropy: 1566675072.0000\n",
      "Epoch 63/200\n",
      "8/8 [==============================] - 0s 35ms/step - loss: 1806246528.0000 - categorical_accuracy: 0.1302 - categorical_crossentropy: 1805691136.0000\n",
      "Epoch 64/200\n",
      "8/8 [==============================] - 0s 36ms/step - loss: 1900897024.0000 - categorical_accuracy: 0.1461 - categorical_crossentropy: 1900419328.0000\n",
      "Epoch 65/200\n",
      "8/8 [==============================] - 0s 38ms/step - loss: 1858776064.0000 - categorical_accuracy: 0.1318 - categorical_crossentropy: 1858318336.0000\n",
      "Epoch 66/200\n",
      "8/8 [==============================] - 0s 35ms/step - loss: 1537395200.0000 - categorical_accuracy: 0.1526 - categorical_crossentropy: 1536887552.0000\n",
      "Epoch 67/200\n",
      "8/8 [==============================] - 0s 37ms/step - loss: 1791792128.0000 - categorical_accuracy: 0.1406 - categorical_crossentropy: 1791276416.0000\n",
      "Epoch 68/200\n",
      "8/8 [==============================] - 0s 34ms/step - loss: 1753424512.0000 - categorical_accuracy: 0.1379 - categorical_crossentropy: 1752966912.0000\n",
      "Epoch 69/200\n",
      "8/8 [==============================] - 0s 37ms/step - loss: 1520060672.0000 - categorical_accuracy: 0.1537 - categorical_crossentropy: 1519613312.0000\n",
      "Epoch 70/200\n",
      "8/8 [==============================] - 0s 38ms/step - loss: 2005956480.0000 - categorical_accuracy: 0.1395 - categorical_crossentropy: 2005429376.0000\n",
      "Epoch 71/200\n",
      "8/8 [==============================] - 0s 35ms/step - loss: 1470072704.0000 - categorical_accuracy: 0.1389 - categorical_crossentropy: 1469597952.0000\n",
      "Epoch 72/200\n",
      "8/8 [==============================] - 0s 33ms/step - loss: 1729793408.0000 - categorical_accuracy: 0.1236 - categorical_crossentropy: 1729293440.0000\n",
      "Epoch 73/200\n",
      "8/8 [==============================] - 0s 32ms/step - loss: 1768519552.0000 - categorical_accuracy: 0.1433 - categorical_crossentropy: 1768000512.0000\n",
      "Epoch 74/200\n",
      "8/8 [==============================] - 0s 34ms/step - loss: 1730170880.0000 - categorical_accuracy: 0.1395 - categorical_crossentropy: 1729726592.0000\n",
      "Epoch 75/200\n",
      "8/8 [==============================] - 0s 36ms/step - loss: 1438280064.0000 - categorical_accuracy: 0.1384 - categorical_crossentropy: 1437885696.0000\n",
      "Epoch 76/200\n",
      "8/8 [==============================] - 0s 37ms/step - loss: 1943995392.0000 - categorical_accuracy: 0.1324 - categorical_crossentropy: 1943417216.0000\n",
      "Epoch 77/200\n",
      "8/8 [==============================] - 0s 37ms/step - loss: 2016227712.0000 - categorical_accuracy: 0.1482 - categorical_crossentropy: 2015580672.0000\n",
      "Epoch 78/200\n",
      "8/8 [==============================] - 0s 39ms/step - loss: 2011461504.0000 - categorical_accuracy: 0.1329 - categorical_crossentropy: 2010798592.0000\n",
      "Epoch 79/200\n",
      "8/8 [==============================] - 0s 33ms/step - loss: 1518380544.0000 - categorical_accuracy: 0.1335 - categorical_crossentropy: 1517985152.0000\n",
      "Epoch 80/200\n",
      "8/8 [==============================] - 0s 32ms/step - loss: 1791051136.0000 - categorical_accuracy: 0.1417 - categorical_crossentropy: 1790631808.0000\n",
      "Epoch 81/200\n",
      "8/8 [==============================] - 0s 32ms/step - loss: 1830324864.0000 - categorical_accuracy: 0.1477 - categorical_crossentropy: 1829841024.0000\n",
      "Epoch 82/200\n",
      "8/8 [==============================] - 0s 36ms/step - loss: 1994324608.0000 - categorical_accuracy: 0.1433 - categorical_crossentropy: 1993856640.0000\n",
      "Epoch 83/200\n",
      "8/8 [==============================] - 0s 36ms/step - loss: 1798920320.0000 - categorical_accuracy: 0.1362 - categorical_crossentropy: 1798349696.0000\n",
      "Epoch 84/200\n",
      "8/8 [==============================] - 0s 37ms/step - loss: 1697678336.0000 - categorical_accuracy: 0.1384 - categorical_crossentropy: 1697281280.0000\n",
      "Epoch 85/200\n",
      "8/8 [==============================] - 0s 37ms/step - loss: 1651976576.0000 - categorical_accuracy: 0.1258 - categorical_crossentropy: 1651483520.0000\n",
      "Epoch 86/200\n",
      "8/8 [==============================] - 0s 36ms/step - loss: 1972903680.0000 - categorical_accuracy: 0.1231 - categorical_crossentropy: 1972429952.0000\n",
      "Epoch 87/200\n",
      "8/8 [==============================] - 0s 37ms/step - loss: 1656239872.0000 - categorical_accuracy: 0.1286 - categorical_crossentropy: 1655750016.0000\n",
      "Epoch 88/200\n",
      "8/8 [==============================] - 0s 35ms/step - loss: 1654845184.0000 - categorical_accuracy: 0.1482 - categorical_crossentropy: 1654295040.0000\n",
      "Epoch 89/200\n",
      "8/8 [==============================] - 0s 32ms/step - loss: 1530918144.0000 - categorical_accuracy: 0.1400 - categorical_crossentropy: 1530384384.0000\n",
      "Epoch 90/200\n",
      "8/8 [==============================] - 0s 32ms/step - loss: 1510264704.0000 - categorical_accuracy: 0.1351 - categorical_crossentropy: 1509773952.0000\n",
      "Epoch 91/200\n",
      "8/8 [==============================] - 0s 34ms/step - loss: 1959567232.0000 - categorical_accuracy: 0.1280 - categorical_crossentropy: 1959112448.0000\n",
      "Epoch 92/200\n",
      "8/8 [==============================] - 0s 35ms/step - loss: 1709551104.0000 - categorical_accuracy: 0.1450 - categorical_crossentropy: 1709036800.0000\n",
      "Epoch 93/200\n",
      "8/8 [==============================] - 0s 37ms/step - loss: 1831528192.0000 - categorical_accuracy: 0.1368 - categorical_crossentropy: 1830982400.0000\n",
      "Epoch 94/200\n",
      "8/8 [==============================] - 0s 38ms/step - loss: 2170447104.0000 - categorical_accuracy: 0.1543 - categorical_crossentropy: 2169805824.0000\n",
      "Epoch 95/200\n",
      "8/8 [==============================] - 0s 37ms/step - loss: 1992101248.0000 - categorical_accuracy: 0.1335 - categorical_crossentropy: 1991522432.0000\n",
      "Epoch 96/200\n",
      "8/8 [==============================] - 0s 37ms/step - loss: 1580475904.0000 - categorical_accuracy: 0.1444 - categorical_crossentropy: 1579878400.0000\n",
      "Epoch 97/200\n",
      "8/8 [==============================] - 0s 32ms/step - loss: 1810363648.0000 - categorical_accuracy: 0.1417 - categorical_crossentropy: 1809911808.0000\n",
      "Epoch 98/200\n",
      "8/8 [==============================] - 0s 32ms/step - loss: 1744487168.0000 - categorical_accuracy: 0.1400 - categorical_crossentropy: 1743994496.0000\n",
      "Epoch 99/200\n",
      "8/8 [==============================] - 0s 32ms/step - loss: 1431036672.0000 - categorical_accuracy: 0.1488 - categorical_crossentropy: 1430649856.0000\n",
      "Epoch 100/200\n",
      "8/8 [==============================] - 0s 36ms/step - loss: 1920288000.0000 - categorical_accuracy: 0.1422 - categorical_crossentropy: 1919828224.0000\n",
      "Epoch 101/200\n",
      "8/8 [==============================] - 0s 37ms/step - loss: 1779332224.0000 - categorical_accuracy: 0.1302 - categorical_crossentropy: 1778668416.0000\n",
      "Epoch 102/200\n",
      "8/8 [==============================] - 0s 34ms/step - loss: 1862869504.0000 - categorical_accuracy: 0.1493 - categorical_crossentropy: 1862343680.0000\n",
      "Epoch 103/200\n",
      "8/8 [==============================] - 0s 37ms/step - loss: 1658591744.0000 - categorical_accuracy: 0.1417 - categorical_crossentropy: 1658078592.0000\n",
      "Epoch 104/200\n",
      "8/8 [==============================] - 0s 39ms/step - loss: 1695315328.0000 - categorical_accuracy: 0.1477 - categorical_crossentropy: 1694817664.0000\n",
      "Epoch 105/200\n",
      "8/8 [==============================] - 0s 32ms/step - loss: 1634168832.0000 - categorical_accuracy: 0.1521 - categorical_crossentropy: 1633709824.0000\n",
      "Epoch 106/200\n",
      "8/8 [==============================] - 0s 37ms/step - loss: 1254666368.0000 - categorical_accuracy: 0.1575 - categorical_crossentropy: 1254144384.0000\n",
      "Epoch 107/200\n",
      "8/8 [==============================] - 0s 33ms/step - loss: 1999545472.0000 - categorical_accuracy: 0.1329 - categorical_crossentropy: 1998957824.0000\n",
      "Epoch 108/200\n",
      "8/8 [==============================] - 0s 32ms/step - loss: 1494638976.0000 - categorical_accuracy: 0.1625 - categorical_crossentropy: 1494258560.0000\n",
      "Epoch 109/200\n",
      "8/8 [==============================] - 0s 32ms/step - loss: 1683622912.0000 - categorical_accuracy: 0.1149 - categorical_crossentropy: 1683078400.0000\n",
      "Epoch 110/200\n",
      "8/8 [==============================] - 0s 34ms/step - loss: 1571144704.0000 - categorical_accuracy: 0.1543 - categorical_crossentropy: 1570718080.0000\n",
      "Epoch 111/200\n",
      "8/8 [==============================] - 0s 37ms/step - loss: 1754580736.0000 - categorical_accuracy: 0.1346 - categorical_crossentropy: 1754189824.0000\n",
      "Epoch 112/200\n",
      "8/8 [==============================] - 0s 36ms/step - loss: 1757885440.0000 - categorical_accuracy: 0.1384 - categorical_crossentropy: 1757464448.0000\n",
      "Epoch 113/200\n",
      "8/8 [==============================] - 0s 35ms/step - loss: 1874251776.0000 - categorical_accuracy: 0.1324 - categorical_crossentropy: 1873753856.0000\n",
      "Epoch 114/200\n",
      "8/8 [==============================] - 0s 38ms/step - loss: 1640866688.0000 - categorical_accuracy: 0.1286 - categorical_crossentropy: 1640469376.0000\n",
      "Epoch 115/200\n",
      "8/8 [==============================] - 0s 38ms/step - loss: 1615934976.0000 - categorical_accuracy: 0.1400 - categorical_crossentropy: 1615547392.0000\n",
      "Epoch 116/200\n",
      "8/8 [==============================] - 0s 36ms/step - loss: 1883784832.0000 - categorical_accuracy: 0.1406 - categorical_crossentropy: 1883275904.0000\n",
      "Epoch 117/200\n",
      "8/8 [==============================] - 0s 32ms/step - loss: 1699720192.0000 - categorical_accuracy: 0.1526 - categorical_crossentropy: 1699339648.0000\n",
      "Epoch 118/200\n",
      "8/8 [==============================] - 0s 32ms/step - loss: 1992749824.0000 - categorical_accuracy: 0.1422 - categorical_crossentropy: 1992137600.0000\n",
      "Epoch 119/200\n",
      "8/8 [==============================] - 0s 32ms/step - loss: 1681597440.0000 - categorical_accuracy: 0.1740 - categorical_crossentropy: 1681174784.0000\n",
      "Epoch 120/200\n",
      "8/8 [==============================] - 0s 36ms/step - loss: 1647545344.0000 - categorical_accuracy: 0.1269 - categorical_crossentropy: 1647121280.0000\n",
      "Epoch 121/200\n",
      "8/8 [==============================] - 0s 36ms/step - loss: 1923278336.0000 - categorical_accuracy: 0.1461 - categorical_crossentropy: 1922742016.0000\n",
      "Epoch 122/200\n",
      "8/8 [==============================] - 0s 37ms/step - loss: 1546477952.0000 - categorical_accuracy: 0.1346 - categorical_crossentropy: 1546048768.0000\n",
      "Epoch 123/200\n",
      "8/8 [==============================] - 0s 38ms/step - loss: 1863105792.0000 - categorical_accuracy: 0.1510 - categorical_crossentropy: 1862610048.0000\n",
      "Epoch 124/200\n",
      "8/8 [==============================] - 0s 37ms/step - loss: 1632288384.0000 - categorical_accuracy: 0.1488 - categorical_crossentropy: 1631890560.0000\n",
      "Epoch 125/200\n",
      "8/8 [==============================] - 0s 33ms/step - loss: 1540777472.0000 - categorical_accuracy: 0.1439 - categorical_crossentropy: 1540316672.0000\n",
      "Epoch 126/200\n",
      "8/8 [==============================] - 0s 37ms/step - loss: 1751825920.0000 - categorical_accuracy: 0.1417 - categorical_crossentropy: 1751390080.0000\n",
      "Epoch 127/200\n",
      "8/8 [==============================] - 0s 32ms/step - loss: 1816291200.0000 - categorical_accuracy: 0.1335 - categorical_crossentropy: 1815735424.0000\n",
      "Epoch 128/200\n",
      "8/8 [==============================] - 0s 33ms/step - loss: 1483745024.0000 - categorical_accuracy: 0.1296 - categorical_crossentropy: 1483227136.0000\n",
      "Epoch 129/200\n",
      "8/8 [==============================] - 0s 36ms/step - loss: 1852026880.0000 - categorical_accuracy: 0.1318 - categorical_crossentropy: 1851454720.0000\n",
      "Epoch 130/200\n",
      "8/8 [==============================] - 0s 38ms/step - loss: 1652687616.0000 - categorical_accuracy: 0.1357 - categorical_crossentropy: 1652239616.0000\n",
      "Epoch 131/200\n",
      "8/8 [==============================] - 0s 35ms/step - loss: 1369279232.0000 - categorical_accuracy: 0.1428 - categorical_crossentropy: 1368880896.0000\n",
      "Epoch 132/200\n",
      "8/8 [==============================] - 0s 35ms/step - loss: 1818195200.0000 - categorical_accuracy: 0.1318 - categorical_crossentropy: 1817718016.0000\n",
      "Epoch 133/200\n",
      "8/8 [==============================] - 0s 36ms/step - loss: 1794444416.0000 - categorical_accuracy: 0.1411 - categorical_crossentropy: 1793983744.0000\n",
      "Epoch 134/200\n",
      "8/8 [==============================] - 0s 32ms/step - loss: 1640833408.0000 - categorical_accuracy: 0.1362 - categorical_crossentropy: 1640363520.0000\n",
      "Epoch 135/200\n",
      "8/8 [==============================] - 0s 32ms/step - loss: 1403130880.0000 - categorical_accuracy: 0.1395 - categorical_crossentropy: 1402745344.0000\n",
      "Epoch 136/200\n",
      "8/8 [==============================] - 0s 33ms/step - loss: 1810398976.0000 - categorical_accuracy: 0.1488 - categorical_crossentropy: 1809827712.0000\n",
      "Epoch 137/200\n",
      "8/8 [==============================] - 0s 37ms/step - loss: 1765919616.0000 - categorical_accuracy: 0.1472 - categorical_crossentropy: 1765408896.0000\n",
      "Epoch 138/200\n",
      "8/8 [==============================] - 0s 38ms/step - loss: 1612632704.0000 - categorical_accuracy: 0.1286 - categorical_crossentropy: 1612171136.0000\n",
      "Epoch 139/200\n",
      "8/8 [==============================] - 0s 40ms/step - loss: 1413090304.0000 - categorical_accuracy: 0.1422 - categorical_crossentropy: 1412633472.0000\n",
      "Epoch 140/200\n",
      "8/8 [==============================] - 0s 33ms/step - loss: 1667227136.0000 - categorical_accuracy: 0.1411 - categorical_crossentropy: 1666655104.0000\n",
      "Epoch 141/200\n",
      "8/8 [==============================] - 0s 32ms/step - loss: 1756211840.0000 - categorical_accuracy: 0.1373 - categorical_crossentropy: 1755678336.0000\n",
      "Epoch 142/200\n",
      "8/8 [==============================] - 0s 32ms/step - loss: 1589089280.0000 - categorical_accuracy: 0.1411 - categorical_crossentropy: 1588565376.0000\n",
      "Epoch 143/200\n",
      "8/8 [==============================] - 0s 36ms/step - loss: 1879432192.0000 - categorical_accuracy: 0.1400 - categorical_crossentropy: 1878880256.0000\n",
      "Epoch 144/200\n",
      "8/8 [==============================] - 0s 36ms/step - loss: 1678180864.0000 - categorical_accuracy: 0.1428 - categorical_crossentropy: 1677682048.0000\n",
      "Epoch 145/200\n",
      "8/8 [==============================] - 0s 35ms/step - loss: 1801762176.0000 - categorical_accuracy: 0.1258 - categorical_crossentropy: 1801127040.0000\n",
      "Epoch 146/200\n",
      "8/8 [==============================] - 0s 36ms/step - loss: 1586228736.0000 - categorical_accuracy: 0.1389 - categorical_crossentropy: 1585746944.0000\n",
      "Epoch 147/200\n",
      "8/8 [==============================] - 0s 36ms/step - loss: 1791819776.0000 - categorical_accuracy: 0.1275 - categorical_crossentropy: 1791287936.0000\n",
      "Epoch 148/200\n",
      "8/8 [==============================] - 0s 36ms/step - loss: 1748838656.0000 - categorical_accuracy: 0.1477 - categorical_crossentropy: 1748380032.0000\n",
      "Epoch 149/200\n",
      "8/8 [==============================] - 0s 36ms/step - loss: 1786292992.0000 - categorical_accuracy: 0.1379 - categorical_crossentropy: 1785802880.0000\n",
      "Epoch 150/200\n",
      "8/8 [==============================] - 0s 38ms/step - loss: 1685316864.0000 - categorical_accuracy: 0.1428 - categorical_crossentropy: 1684867200.0000\n",
      "Epoch 151/200\n",
      "8/8 [==============================] - 0s 37ms/step - loss: 1498540416.0000 - categorical_accuracy: 0.1373 - categorical_crossentropy: 1498076672.0000\n",
      "Epoch 152/200\n",
      "8/8 [==============================] - 0s 35ms/step - loss: 1944067072.0000 - categorical_accuracy: 0.1477 - categorical_crossentropy: 1943520384.0000\n",
      "Epoch 153/200\n",
      "8/8 [==============================] - 0s 32ms/step - loss: 1516635136.0000 - categorical_accuracy: 0.1488 - categorical_crossentropy: 1516191744.0000\n",
      "Epoch 154/200\n",
      "8/8 [==============================] - 0s 34ms/step - loss: 1750225024.0000 - categorical_accuracy: 0.1204 - categorical_crossentropy: 1749766400.0000\n",
      "Epoch 155/200\n",
      "8/8 [==============================] - 0s 35ms/step - loss: 1366879232.0000 - categorical_accuracy: 0.1269 - categorical_crossentropy: 1366372736.0000\n",
      "Epoch 156/200\n",
      "8/8 [==============================] - 0s 38ms/step - loss: 2134979840.0000 - categorical_accuracy: 0.1488 - categorical_crossentropy: 2134398720.0000\n",
      "Epoch 157/200\n",
      "8/8 [==============================] - 0s 37ms/step - loss: 1676931072.0000 - categorical_accuracy: 0.1379 - categorical_crossentropy: 1676417024.0000\n",
      "Epoch 158/200\n",
      "8/8 [==============================] - 0s 36ms/step - loss: 2141852800.0000 - categorical_accuracy: 0.1182 - categorical_crossentropy: 2141212672.0000\n",
      "Epoch 159/200\n",
      "8/8 [==============================] - 0s 32ms/step - loss: 1796324096.0000 - categorical_accuracy: 0.1472 - categorical_crossentropy: 1795808128.0000\n",
      "Epoch 160/200\n",
      "8/8 [==============================] - 0s 37ms/step - loss: 1397107968.0000 - categorical_accuracy: 0.1400 - categorical_crossentropy: 1396612608.0000\n",
      "Epoch 161/200\n",
      "8/8 [==============================] - 0s 39ms/step - loss: 1825552768.0000 - categorical_accuracy: 0.1302 - categorical_crossentropy: 1824965760.0000\n",
      "Epoch 162/200\n",
      "8/8 [==============================] - 0s 32ms/step - loss: 1832479488.0000 - categorical_accuracy: 0.1466 - categorical_crossentropy: 1831931904.0000\n",
      "Epoch 163/200\n",
      "8/8 [==============================] - 0s 33ms/step - loss: 1855785600.0000 - categorical_accuracy: 0.1302 - categorical_crossentropy: 1855165184.0000\n",
      "Epoch 164/200\n",
      "8/8 [==============================] - 0s 32ms/step - loss: 1591857664.0000 - categorical_accuracy: 0.1575 - categorical_crossentropy: 1591372160.0000\n",
      "Epoch 165/200\n",
      "8/8 [==============================] - 0s 36ms/step - loss: 2140083584.0000 - categorical_accuracy: 0.1231 - categorical_crossentropy: 2139408896.0000\n",
      "Epoch 166/200\n",
      "8/8 [==============================] - 0s 36ms/step - loss: 1465799168.0000 - categorical_accuracy: 0.1357 - categorical_crossentropy: 1465335168.0000\n",
      "Epoch 167/200\n",
      "8/8 [==============================] - 0s 35ms/step - loss: 1551827840.0000 - categorical_accuracy: 0.1357 - categorical_crossentropy: 1551360896.0000\n",
      "Epoch 168/200\n",
      "8/8 [==============================] - 0s 35ms/step - loss: 1595032832.0000 - categorical_accuracy: 0.1379 - categorical_crossentropy: 1594485760.0000\n",
      "Epoch 169/200\n",
      "8/8 [==============================] - 0s 37ms/step - loss: 1810803328.0000 - categorical_accuracy: 0.1302 - categorical_crossentropy: 1810248192.0000\n",
      "Epoch 170/200\n",
      "8/8 [==============================] - 0s 39ms/step - loss: 1858084864.0000 - categorical_accuracy: 0.1532 - categorical_crossentropy: 1857609472.0000\n",
      "Epoch 171/200\n",
      "8/8 [==============================] - 0s 38ms/step - loss: 1803577600.0000 - categorical_accuracy: 0.1466 - categorical_crossentropy: 1802963712.0000\n",
      "Epoch 172/200\n",
      "8/8 [==============================] - 0s 36ms/step - loss: 1444773376.0000 - categorical_accuracy: 0.1296 - categorical_crossentropy: 1444367744.0000\n",
      "Epoch 173/200\n",
      "8/8 [==============================] - 0s 32ms/step - loss: 1856189440.0000 - categorical_accuracy: 0.1455 - categorical_crossentropy: 1855524352.0000\n",
      "Epoch 174/200\n",
      "8/8 [==============================] - 0s 36ms/step - loss: 1453431680.0000 - categorical_accuracy: 0.1286 - categorical_crossentropy: 1452977280.0000\n",
      "Epoch 175/200\n",
      "8/8 [==============================] - 0s 34ms/step - loss: 1777717632.0000 - categorical_accuracy: 0.1532 - categorical_crossentropy: 1777069824.0000\n",
      "Epoch 176/200\n",
      "8/8 [==============================] - 0s 32ms/step - loss: 1691603584.0000 - categorical_accuracy: 0.1477 - categorical_crossentropy: 1691082752.0000\n",
      "Epoch 177/200\n",
      "8/8 [==============================] - 0s 37ms/step - loss: 1771305344.0000 - categorical_accuracy: 0.1324 - categorical_crossentropy: 1770720384.0000\n",
      "Epoch 178/200\n",
      "8/8 [==============================] - 0s 33ms/step - loss: 1755386496.0000 - categorical_accuracy: 0.1504 - categorical_crossentropy: 1754821376.0000\n",
      "Epoch 179/200\n",
      "8/8 [==============================] - 0s 35ms/step - loss: 1648623360.0000 - categorical_accuracy: 0.1165 - categorical_crossentropy: 1648056576.0000\n",
      "Epoch 180/200\n",
      "8/8 [==============================] - 0s 38ms/step - loss: 2206467072.0000 - categorical_accuracy: 0.1450 - categorical_crossentropy: 2205766144.0000\n",
      "Epoch 181/200\n",
      "8/8 [==============================] - 0s 38ms/step - loss: 1834285440.0000 - categorical_accuracy: 0.1225 - categorical_crossentropy: 1833474304.0000\n",
      "Epoch 182/200\n",
      "8/8 [==============================] - 0s 37ms/step - loss: 1492740608.0000 - categorical_accuracy: 0.1428 - categorical_crossentropy: 1492243840.0000\n",
      "Epoch 183/200\n",
      "8/8 [==============================] - 0s 32ms/step - loss: 1673034240.0000 - categorical_accuracy: 0.1204 - categorical_crossentropy: 1672539392.0000\n",
      "Epoch 184/200\n",
      "8/8 [==============================] - 0s 36ms/step - loss: 2124766592.0000 - categorical_accuracy: 0.1515 - categorical_crossentropy: 2124211456.0000\n",
      "Epoch 185/200\n",
      "8/8 [==============================] - 0s 33ms/step - loss: 1640971008.0000 - categorical_accuracy: 0.1433 - categorical_crossentropy: 1640452352.0000\n",
      "Epoch 186/200\n",
      "8/8 [==============================] - 0s 32ms/step - loss: 1729149696.0000 - categorical_accuracy: 0.1472 - categorical_crossentropy: 1728569216.0000\n",
      "Epoch 187/200\n",
      "8/8 [==============================] - 0s 36ms/step - loss: 1552627968.0000 - categorical_accuracy: 0.1482 - categorical_crossentropy: 1552170624.0000\n",
      "Epoch 188/200\n",
      "8/8 [==============================] - 0s 36ms/step - loss: 1516220672.0000 - categorical_accuracy: 0.1384 - categorical_crossentropy: 1515785600.0000\n",
      "Epoch 189/200\n",
      "8/8 [==============================] - 0s 37ms/step - loss: 1805910400.0000 - categorical_accuracy: 0.1477 - categorical_crossentropy: 1805377664.0000\n",
      "Epoch 190/200\n",
      "8/8 [==============================] - 0s 34ms/step - loss: 1583435392.0000 - categorical_accuracy: 0.1477 - categorical_crossentropy: 1583006080.0000\n",
      "Epoch 191/200\n",
      "8/8 [==============================] - 0s 37ms/step - loss: 1797448832.0000 - categorical_accuracy: 0.1313 - categorical_crossentropy: 1797004160.0000\n",
      "Epoch 192/200\n",
      "8/8 [==============================] - 0s 34ms/step - loss: 2189573888.0000 - categorical_accuracy: 0.1269 - categorical_crossentropy: 2188926976.0000\n",
      "Epoch 193/200\n",
      "8/8 [==============================] - 0s 35ms/step - loss: 1638936704.0000 - categorical_accuracy: 0.1428 - categorical_crossentropy: 1638459648.0000\n",
      "Epoch 194/200\n",
      "8/8 [==============================] - 0s 37ms/step - loss: 1850013312.0000 - categorical_accuracy: 0.1318 - categorical_crossentropy: 1849437696.0000\n",
      "Epoch 195/200\n",
      "8/8 [==============================] - 0s 38ms/step - loss: 1418792192.0000 - categorical_accuracy: 0.1510 - categorical_crossentropy: 1418389248.0000\n",
      "Epoch 196/200\n",
      "8/8 [==============================] - 0s 36ms/step - loss: 1726162560.0000 - categorical_accuracy: 0.1537 - categorical_crossentropy: 1725376256.0000\n",
      "Epoch 197/200\n",
      "8/8 [==============================] - 0s 32ms/step - loss: 1666874368.0000 - categorical_accuracy: 0.1389 - categorical_crossentropy: 1666449152.0000\n",
      "Epoch 198/200\n",
      "8/8 [==============================] - 0s 32ms/step - loss: 1729346176.0000 - categorical_accuracy: 0.1400 - categorical_crossentropy: 1728822144.0000\n",
      "Epoch 199/200\n",
      "8/8 [==============================] - 0s 34ms/step - loss: 1828275200.0000 - categorical_accuracy: 0.1193 - categorical_crossentropy: 1827869696.0000\n",
      "Epoch 200/200\n",
      "8/8 [==============================] - 0s 37ms/step - loss: 1787894784.0000 - categorical_accuracy: 0.1351 - categorical_crossentropy: 1787451904.0000\n"
     ]
    },
    {
     "data": {
      "text/plain": [
       "LearningShapelets(max_iter=200, n_shapelets_per_size={100: 7}, verbose=1,\n",
       "                  weight_regularizer=0.01)"
      ]
     },
     "execution_count": 16,
     "metadata": {},
     "output_type": "execute_result"
    }
   ],
   "source": [
    "shp_clf = ShapeletModel(n_shapelets_per_size=shapelet_sizes,\n",
    "                        optimizer=\"sgd\",\n",
    "                        weight_regularizer=.01,\n",
    "                        max_iter=200,\n",
    "                        verbose=1)\n",
    "shp_clf.fit(ts_dft_X_train, y_train)"
   ]
  },
  {
   "cell_type": "code",
   "execution_count": 17,
   "metadata": {},
   "outputs": [
    {
     "name": "stdout",
     "output_type": "stream",
     "text": [
      "3/3 [==============================] - 0s 22ms/step\n",
      "              precision    recall  f1-score   support\n",
      "\n",
      "           0       0.00      0.00      0.00        96\n",
      "           1       0.00      0.00      0.00        97\n",
      "           2       0.07      0.16      0.10        50\n",
      "           3       0.00      0.00      0.00        98\n",
      "           4       0.16      0.87      0.28        98\n",
      "           5       0.00      0.00      0.00        49\n",
      "           6       0.00      0.00      0.00        98\n",
      "           7       0.00      0.00      0.00        48\n",
      "\n",
      "    accuracy                           0.15       634\n",
      "   macro avg       0.03      0.13      0.05       634\n",
      "weighted avg       0.03      0.15      0.05       634\n",
      "\n"
     ]
    },
    {
     "name": "stderr",
     "output_type": "stream",
     "text": [
      "d:\\Anaconda\\lib\\site-packages\\sklearn\\metrics\\_classification.py:1318: UndefinedMetricWarning: Precision and F-score are ill-defined and being set to 0.0 in labels with no predicted samples. Use `zero_division` parameter to control this behavior.\n",
      "  _warn_prf(average, modifier, msg_start, len(result))\n",
      "d:\\Anaconda\\lib\\site-packages\\sklearn\\metrics\\_classification.py:1318: UndefinedMetricWarning: Precision and F-score are ill-defined and being set to 0.0 in labels with no predicted samples. Use `zero_division` parameter to control this behavior.\n",
      "  _warn_prf(average, modifier, msg_start, len(result))\n",
      "d:\\Anaconda\\lib\\site-packages\\sklearn\\metrics\\_classification.py:1318: UndefinedMetricWarning: Precision and F-score are ill-defined and being set to 0.0 in labels with no predicted samples. Use `zero_division` parameter to control this behavior.\n",
      "  _warn_prf(average, modifier, msg_start, len(result))\n"
     ]
    }
   ],
   "source": [
    "y_pred = shp_clf.predict(ts_dft_X_test)\n",
    "print(classification_report(y_test, y_pred))"
   ]
  },
  {
   "attachments": {},
   "cell_type": "markdown",
   "metadata": {},
   "source": [
    "Time Series Classifier"
   ]
  },
  {
   "cell_type": "code",
   "execution_count": 18,
   "metadata": {},
   "outputs": [
    {
     "name": "stdout",
     "output_type": "stream",
     "text": [
      "              precision    recall  f1-score   support\n",
      "\n",
      "           0       0.18      0.38      0.25        96\n",
      "           1       0.13      0.13      0.13        97\n",
      "           2       0.12      0.06      0.08        50\n",
      "           3       0.13      0.14      0.14        98\n",
      "           4       0.19      0.18      0.19        98\n",
      "           5       0.14      0.06      0.08        49\n",
      "           6       0.23      0.18      0.20        98\n",
      "           7       0.18      0.04      0.07        48\n",
      "\n",
      "    accuracy                           0.17       634\n",
      "   macro avg       0.16      0.15      0.14       634\n",
      "weighted avg       0.17      0.17      0.16       634\n",
      "\n"
     ]
    }
   ],
   "source": [
    "from sklearn.neighbors import KNeighborsClassifier\n",
    "clf = KNeighborsClassifier(n_neighbors=5, weights='uniform')\n",
    "clf.fit(ts_dft_X_train, y_train)\n",
    "\n",
    "y_pred = clf.predict(ts_dft_X_test)\n",
    "print(classification_report(y_test, y_pred))"
   ]
  },
  {
   "cell_type": "code",
   "execution_count": null,
   "metadata": {},
   "outputs": [],
   "source": [
    "clf = KNeighborsClassifier(metric='dtw_sakoechiba') # we can use this type of KNN for TS sèecifing the global constraints\n",
    "clf.fit(ts_dft_X_train, y_train)\n",
    "y_pred = clf.predict(ts_dft_X_test)\n",
    "print(classification_report(y_test, y_pred))"
   ]
  },
  {
   "cell_type": "code",
   "execution_count": 21,
   "metadata": {},
   "outputs": [
    {
     "name": "stdout",
     "output_type": "stream",
     "text": [
      "              precision    recall  f1-score   support\n",
      "\n",
      "           0       0.18      0.38      0.25        96\n",
      "           1       0.13      0.13      0.13        97\n",
      "           2       0.12      0.06      0.08        50\n",
      "           3       0.13      0.14      0.14        98\n",
      "           4       0.19      0.18      0.19        98\n",
      "           5       0.14      0.06      0.08        49\n",
      "           6       0.23      0.18      0.20        98\n",
      "           7       0.18      0.04      0.07        48\n",
      "\n",
      "    accuracy                           0.17       634\n",
      "   macro avg       0.16      0.15      0.14       634\n",
      "weighted avg       0.17      0.17      0.16       634\n",
      "\n"
     ]
    }
   ],
   "source": [
    "clf = KNeighborsClassifier(metric='euclidean') # we can use this type of KNN for TS sèecifing the global constraints\n",
    "clf.fit(ts_dft_X_train, y_train)\n",
    "y_pred = clf.predict(ts_dft_X_test)\n",
    "print(classification_report(y_test, y_pred))"
   ]
  },
  {
   "cell_type": "code",
   "execution_count": 22,
   "metadata": {},
   "outputs": [
    {
     "name": "stdout",
     "output_type": "stream",
     "text": [
      "              precision    recall  f1-score   support\n",
      "\n",
      "           0       0.19      0.33      0.24        96\n",
      "           1       0.19      0.20      0.19        97\n",
      "           2       0.08      0.04      0.05        50\n",
      "           3       0.13      0.16      0.15        98\n",
      "           4       0.16      0.18      0.17        98\n",
      "           5       0.07      0.02      0.03        49\n",
      "           6       0.17      0.15      0.16        98\n",
      "           7       0.00      0.00      0.00        48\n",
      "\n",
      "    accuracy                           0.16       634\n",
      "   macro avg       0.12      0.14      0.12       634\n",
      "weighted avg       0.14      0.16      0.15       634\n",
      "\n"
     ]
    }
   ],
   "source": [
    "clf = KNeighborsClassifier(metric='manhattan') # we can use this type of KNN for TS sèecifing the global constraints\n",
    "clf.fit(ts_dft_X_train, y_train)\n",
    "y_pred = clf.predict(ts_dft_X_test)\n",
    "print(classification_report(y_test, y_pred))"
   ]
  },
  {
   "cell_type": "code",
   "execution_count": 19,
   "metadata": {},
   "outputs": [
    {
     "name": "stdout",
     "output_type": "stream",
     "text": [
      "              precision    recall  f1-score   support\n",
      "\n",
      "           0       0.06      0.02      0.03        96\n",
      "           1       0.35      0.06      0.11        97\n",
      "           2       0.05      0.04      0.04        50\n",
      "           3       0.08      0.01      0.02        98\n",
      "           4       0.17      0.49      0.25        98\n",
      "           5       0.06      0.02      0.03        49\n",
      "           6       0.17      0.32      0.22        98\n",
      "           7       0.12      0.12      0.12        48\n",
      "\n",
      "    accuracy                           0.15       634\n",
      "   macro avg       0.13      0.14      0.10       634\n",
      "weighted avg       0.15      0.15      0.11       634\n",
      "\n"
     ]
    }
   ],
   "source": [
    "from sklearn.tree import DecisionTreeClassifier\n",
    "clf = DecisionTreeClassifier(max_depth=8, random_state=42)\n",
    "clf.fit(ts_dft_X_train, y_train)\n",
    "\n",
    "y_pred = clf.predict(ts_dft_X_test)\n",
    "print(classification_report(y_test, y_pred))"
   ]
  },
  {
   "cell_type": "code",
   "execution_count": 20,
   "metadata": {},
   "outputs": [
    {
     "ename": "KeyboardInterrupt",
     "evalue": "",
     "output_type": "error",
     "traceback": [
      "\u001b[1;31m---------------------------------------------------------------------------\u001b[0m",
      "\u001b[1;31mKeyboardInterrupt\u001b[0m                         Traceback (most recent call last)",
      "\u001b[1;32mc:\\Users\\david\\Desktop\\DM2 Project TS\\DM2_Time-Series\\TS Experiments\\TS_Classification.ipynb Cell 28\u001b[0m in \u001b[0;36m<cell line: 3>\u001b[1;34m()\u001b[0m\n\u001b[0;32m      <a href='vscode-notebook-cell:/c%3A/Users/david/Desktop/DM2%20Project%20TS/DM2_Time-Series/TS%20Experiments/TS_Classification.ipynb#X63sZmlsZQ%3D%3D?line=0'>1</a>\u001b[0m clf \u001b[39m=\u001b[39m KNeighborsTimeSeriesClassifier()\n\u001b[0;32m      <a href='vscode-notebook-cell:/c%3A/Users/david/Desktop/DM2%20Project%20TS/DM2_Time-Series/TS%20Experiments/TS_Classification.ipynb#X63sZmlsZQ%3D%3D?line=1'>2</a>\u001b[0m clf\u001b[39m.\u001b[39mfit(ts_dft_X_train, y_train)\n\u001b[1;32m----> <a href='vscode-notebook-cell:/c%3A/Users/david/Desktop/DM2%20Project%20TS/DM2_Time-Series/TS%20Experiments/TS_Classification.ipynb#X63sZmlsZQ%3D%3D?line=2'>3</a>\u001b[0m y_pred \u001b[39m=\u001b[39m clf\u001b[39m.\u001b[39;49mpredict(ts_dft_X_test)\n\u001b[0;32m      <a href='vscode-notebook-cell:/c%3A/Users/david/Desktop/DM2%20Project%20TS/DM2_Time-Series/TS%20Experiments/TS_Classification.ipynb#X63sZmlsZQ%3D%3D?line=3'>4</a>\u001b[0m \u001b[39mprint\u001b[39m(classification_report(y_test, y_pred))\n",
      "File \u001b[1;32md:\\Anaconda\\lib\\site-packages\\sktime\\classification\\base.py:241\u001b[0m, in \u001b[0;36mBaseClassifier.predict\u001b[1;34m(self, X)\u001b[0m\n\u001b[0;32m    238\u001b[0m     \u001b[39mreturn\u001b[39;00m \u001b[39mself\u001b[39m\u001b[39m.\u001b[39m_single_class_y_pred(X, method\u001b[39m=\u001b[39m\u001b[39m\"\u001b[39m\u001b[39mpredict\u001b[39m\u001b[39m\"\u001b[39m)\n\u001b[0;32m    240\u001b[0m \u001b[39m# call internal _predict_proba\u001b[39;00m\n\u001b[1;32m--> 241\u001b[0m \u001b[39mreturn\u001b[39;00m \u001b[39mself\u001b[39;49m\u001b[39m.\u001b[39;49m_predict(X)\n",
      "File \u001b[1;32md:\\Anaconda\\lib\\site-packages\\sktime\\classification\\distance_based\\_time_series_neighbors.py:293\u001b[0m, in \u001b[0;36mKNeighborsTimeSeriesClassifier._predict\u001b[1;34m(self, X)\u001b[0m\n\u001b[0;32m    280\u001b[0m \u001b[39m\"\"\"Predict the class labels for the provided data.\u001b[39;00m\n\u001b[0;32m    281\u001b[0m \n\u001b[0;32m    282\u001b[0m \u001b[39mParameters\u001b[39;00m\n\u001b[1;32m   (...)\u001b[0m\n\u001b[0;32m    290\u001b[0m \u001b[39m    Class labels for each data sample.\u001b[39;00m\n\u001b[0;32m    291\u001b[0m \u001b[39m\"\"\"\u001b[39;00m\n\u001b[0;32m    292\u001b[0m \u001b[39m# self._X should be the stored _X\u001b[39;00m\n\u001b[1;32m--> 293\u001b[0m dist_mat \u001b[39m=\u001b[39m \u001b[39mself\u001b[39;49m\u001b[39m.\u001b[39;49m_distance(X, \u001b[39mself\u001b[39;49m\u001b[39m.\u001b[39;49m_X)\n\u001b[0;32m    295\u001b[0m y_pred \u001b[39m=\u001b[39m \u001b[39mself\u001b[39m\u001b[39m.\u001b[39mknn_estimator_\u001b[39m.\u001b[39mpredict(dist_mat)\n\u001b[0;32m    297\u001b[0m \u001b[39mreturn\u001b[39;00m y_pred\n",
      "File \u001b[1;32md:\\Anaconda\\lib\\site-packages\\sktime\\classification\\distance_based\\_time_series_neighbors.py:199\u001b[0m, in \u001b[0;36mKNeighborsTimeSeriesClassifier._distance\u001b[1;34m(self, X, X2)\u001b[0m\n\u001b[0;32m    196\u001b[0m     distance_params \u001b[39m=\u001b[39m {}\n\u001b[0;32m    198\u001b[0m \u001b[39mif\u001b[39;00m \u001b[39misinstance\u001b[39m(distance, \u001b[39mstr\u001b[39m):\n\u001b[1;32m--> 199\u001b[0m     \u001b[39mreturn\u001b[39;00m pairwise_distance(X, X2, distance, \u001b[39m*\u001b[39m\u001b[39m*\u001b[39mdistance_params)\n\u001b[0;32m    200\u001b[0m \u001b[39melse\u001b[39;00m:\n\u001b[0;32m    201\u001b[0m     \u001b[39mif\u001b[39;00m X2 \u001b[39mis\u001b[39;00m \u001b[39mnot\u001b[39;00m \u001b[39mNone\u001b[39;00m:\n",
      "File \u001b[1;32md:\\Anaconda\\lib\\site-packages\\sktime\\distances\\_distance.py:2151\u001b[0m, in \u001b[0;36mpairwise_distance\u001b[1;34m(x, y, metric, **kwargs)\u001b[0m\n\u001b[0;32m   2147\u001b[0m symmetric \u001b[39m=\u001b[39m np\u001b[39m.\u001b[39marray_equal(_x, _y)\n\u001b[0;32m   2148\u001b[0m _metric_callable \u001b[39m=\u001b[39m _resolve_metric_to_factory(\n\u001b[0;32m   2149\u001b[0m     metric, _x[\u001b[39m0\u001b[39m], _y[\u001b[39m0\u001b[39m], _METRIC_INFOS, \u001b[39m*\u001b[39m\u001b[39m*\u001b[39mkwargs\n\u001b[0;32m   2150\u001b[0m )\n\u001b[1;32m-> 2151\u001b[0m \u001b[39mreturn\u001b[39;00m _compute_pairwise_distance(_x, _y, symmetric, _metric_callable)\n",
      "File \u001b[1;32md:\\Anaconda\\lib\\site-packages\\sktime\\distances\\_numba_utils.py:88\u001b[0m, in \u001b[0;36m_compute_pairwise_distance\u001b[1;34m(x, y, symmetric, distance_callable)\u001b[0m\n\u001b[0;32m     86\u001b[0m             pairwise_matrix[i, j] \u001b[39m=\u001b[39m pairwise_matrix[j, i]\n\u001b[0;32m     87\u001b[0m         \u001b[39melse\u001b[39;00m:\n\u001b[1;32m---> 88\u001b[0m             pairwise_matrix[i, j] \u001b[39m=\u001b[39m distance_callable(curr_x, _y[j])\n\u001b[0;32m     89\u001b[0m \u001b[39mreturn\u001b[39;00m pairwise_matrix\n",
      "\u001b[1;31mKeyboardInterrupt\u001b[0m: "
     ]
    }
   ],
   "source": [
    "clf = KNeighborsTimeSeriesClassifier()\n",
    "clf.fit(ts_dft_X_train, y_train)\n",
    "y_pred = clf.predict(ts_dft_X_test)\n",
    "print(classification_report(y_test, y_pred))"
   ]
  }
 ],
 "metadata": {
  "kernelspec": {
   "display_name": "base",
   "language": "python",
   "name": "python3"
  },
  "language_info": {
   "codemirror_mode": {
    "name": "ipython",
    "version": 3
   },
   "file_extension": ".py",
   "mimetype": "text/x-python",
   "name": "python",
   "nbconvert_exporter": "python",
   "pygments_lexer": "ipython3",
   "version": "3.9.12"
  },
  "orig_nbformat": 4
 },
 "nbformat": 4,
 "nbformat_minor": 2
}
