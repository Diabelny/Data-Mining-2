{
 "cells": [
  {
   "cell_type": "code",
   "execution_count": 1,
   "metadata": {},
   "outputs": [],
   "source": [
    "# Libraries and utilities\n",
    "\n",
    "# RENINDER: FARE FIT.TRANSFORM SOLO SU TRAINING E DOPO SUL TEST SOLO .TRANSFORM\n",
    "# REMINDER: NORMALIZZARE PRIMA DI FARE TUTTO IL PREPROCESSING \n",
    "\n",
    "import pandas as pd\n",
    "import numpy as np\n",
    "import seaborn as sns\n",
    "import matplotlib.pyplot as plt\n",
    "\n",
    "from sklearn.preprocessing import RobustScaler\n",
    "from sklearn import preprocessing\n",
    "from sklearn.model_selection import train_test_split\n",
    "\n",
    "from sklearn.model_selection import StratifiedKFold,RepeatedStratifiedKFold, RandomizedSearchCV,GridSearchCV, RepeatedKFold\n",
    "\n",
    "from sklearn.tree import DecisionTreeClassifier\n",
    "from sklearn.neighbors import KNeighborsClassifier\n",
    "\n",
    "from sklearn.metrics import (\n",
    "    accuracy_score,\n",
    "    f1_score,\n",
    "    classification_report,\n",
    "    confusion_matrix,\n",
    "    roc_auc_score,\n",
    ")\n",
    "\n",
    "\n",
    "from imblearn.under_sampling import RandomUnderSampler\n",
    "from imblearn.under_sampling import CondensedNearestNeighbour\n",
    "from imblearn.under_sampling import TomekLinks\n",
    "from imblearn.under_sampling import EditedNearestNeighbours\n",
    "from imblearn.over_sampling import RandomOverSampler\n",
    "from imblearn.over_sampling import SMOTE\n",
    "from imblearn.over_sampling import ADASYN\n",
    "\n",
    "from collections import Counter\n",
    "from sklearn.decomposition import PCA\n",
    "\n"
   ]
  },
  {
   "cell_type": "code",
   "execution_count": 2,
   "metadata": {},
   "outputs": [
    {
     "data": {
      "text/html": [
       "<div>\n",
       "<style scoped>\n",
       "    .dataframe tbody tr th:only-of-type {\n",
       "        vertical-align: middle;\n",
       "    }\n",
       "\n",
       "    .dataframe tbody tr th {\n",
       "        vertical-align: top;\n",
       "    }\n",
       "\n",
       "    .dataframe thead th {\n",
       "        text-align: right;\n",
       "    }\n",
       "</style>\n",
       "<table border=\"1\" class=\"dataframe\">\n",
       "  <thead>\n",
       "    <tr style=\"text-align: right;\">\n",
       "      <th></th>\n",
       "      <th>modality</th>\n",
       "      <th>vocal_channel</th>\n",
       "      <th>emotion</th>\n",
       "      <th>emotional_intensity</th>\n",
       "      <th>statement</th>\n",
       "      <th>repetition</th>\n",
       "      <th>actor</th>\n",
       "      <th>sex</th>\n",
       "      <th>filename</th>\n",
       "      <th>frame_count</th>\n",
       "      <th>...</th>\n",
       "      <th>stft_max_w4</th>\n",
       "      <th>stft_q01_w4</th>\n",
       "      <th>stft_q05_w4</th>\n",
       "      <th>stft_q25_w4</th>\n",
       "      <th>stft_q50_w4</th>\n",
       "      <th>stft_q75_w4</th>\n",
       "      <th>stft_q95_w4</th>\n",
       "      <th>stft_q99_w4</th>\n",
       "      <th>stft_kur_w4</th>\n",
       "      <th>stft_skew_w4</th>\n",
       "    </tr>\n",
       "  </thead>\n",
       "  <tbody>\n",
       "    <tr>\n",
       "      <th>0</th>\n",
       "      <td>audio-only</td>\n",
       "      <td>speech</td>\n",
       "      <td>neutral</td>\n",
       "      <td>normal</td>\n",
       "      <td>Kids are talking by the door</td>\n",
       "      <td>1st</td>\n",
       "      <td>1</td>\n",
       "      <td>M</td>\n",
       "      <td>03-01-01-01-01-01-01.wav</td>\n",
       "      <td>158558</td>\n",
       "      <td>...</td>\n",
       "      <td>1.0</td>\n",
       "      <td>0.000000</td>\n",
       "      <td>0.566462</td>\n",
       "      <td>0.709962</td>\n",
       "      <td>0.799141</td>\n",
       "      <td>0.896606</td>\n",
       "      <td>1.0</td>\n",
       "      <td>1.0</td>\n",
       "      <td>6.742190</td>\n",
       "      <td>-1.706215</td>\n",
       "    </tr>\n",
       "    <tr>\n",
       "      <th>1</th>\n",
       "      <td>audio-only</td>\n",
       "      <td>speech</td>\n",
       "      <td>neutral</td>\n",
       "      <td>normal</td>\n",
       "      <td>Kids are talking by the door</td>\n",
       "      <td>2nd</td>\n",
       "      <td>1</td>\n",
       "      <td>M</td>\n",
       "      <td>03-01-01-01-01-02-01.wav</td>\n",
       "      <td>160160</td>\n",
       "      <td>...</td>\n",
       "      <td>1.0</td>\n",
       "      <td>0.368623</td>\n",
       "      <td>0.472736</td>\n",
       "      <td>0.623183</td>\n",
       "      <td>0.744908</td>\n",
       "      <td>0.874713</td>\n",
       "      <td>1.0</td>\n",
       "      <td>1.0</td>\n",
       "      <td>-0.700420</td>\n",
       "      <td>-0.201495</td>\n",
       "    </tr>\n",
       "    <tr>\n",
       "      <th>2</th>\n",
       "      <td>audio-only</td>\n",
       "      <td>speech</td>\n",
       "      <td>neutral</td>\n",
       "      <td>normal</td>\n",
       "      <td>Dogs are sitting by the door</td>\n",
       "      <td>1st</td>\n",
       "      <td>1</td>\n",
       "      <td>M</td>\n",
       "      <td>03-01-01-01-02-01-01.wav</td>\n",
       "      <td>156956</td>\n",
       "      <td>...</td>\n",
       "      <td>1.0</td>\n",
       "      <td>0.000000</td>\n",
       "      <td>0.417919</td>\n",
       "      <td>0.643636</td>\n",
       "      <td>0.774253</td>\n",
       "      <td>0.899156</td>\n",
       "      <td>1.0</td>\n",
       "      <td>1.0</td>\n",
       "      <td>1.688986</td>\n",
       "      <td>-1.024773</td>\n",
       "    </tr>\n",
       "    <tr>\n",
       "      <th>3</th>\n",
       "      <td>audio-only</td>\n",
       "      <td>speech</td>\n",
       "      <td>neutral</td>\n",
       "      <td>normal</td>\n",
       "      <td>Dogs are sitting by the door</td>\n",
       "      <td>2nd</td>\n",
       "      <td>1</td>\n",
       "      <td>M</td>\n",
       "      <td>03-01-01-01-02-02-01.wav</td>\n",
       "      <td>152152</td>\n",
       "      <td>...</td>\n",
       "      <td>1.0</td>\n",
       "      <td>0.306280</td>\n",
       "      <td>0.399641</td>\n",
       "      <td>0.606910</td>\n",
       "      <td>0.755213</td>\n",
       "      <td>0.886474</td>\n",
       "      <td>1.0</td>\n",
       "      <td>1.0</td>\n",
       "      <td>-0.594111</td>\n",
       "      <td>-0.412871</td>\n",
       "    </tr>\n",
       "    <tr>\n",
       "      <th>4</th>\n",
       "      <td>audio-only</td>\n",
       "      <td>speech</td>\n",
       "      <td>calm</td>\n",
       "      <td>normal</td>\n",
       "      <td>Kids are talking by the door</td>\n",
       "      <td>1st</td>\n",
       "      <td>1</td>\n",
       "      <td>M</td>\n",
       "      <td>03-01-02-01-01-01-01.wav</td>\n",
       "      <td>169769</td>\n",
       "      <td>...</td>\n",
       "      <td>1.0</td>\n",
       "      <td>0.248765</td>\n",
       "      <td>0.428202</td>\n",
       "      <td>0.634815</td>\n",
       "      <td>0.759914</td>\n",
       "      <td>0.878014</td>\n",
       "      <td>1.0</td>\n",
       "      <td>1.0</td>\n",
       "      <td>0.126535</td>\n",
       "      <td>-0.620782</td>\n",
       "    </tr>\n",
       "  </tbody>\n",
       "</table>\n",
       "<p>5 rows × 434 columns</p>\n",
       "</div>"
      ],
      "text/plain": [
       "     modality vocal_channel  emotion emotional_intensity  \\\n",
       "0  audio-only        speech  neutral              normal   \n",
       "1  audio-only        speech  neutral              normal   \n",
       "2  audio-only        speech  neutral              normal   \n",
       "3  audio-only        speech  neutral              normal   \n",
       "4  audio-only        speech     calm              normal   \n",
       "\n",
       "                      statement repetition  actor sex  \\\n",
       "0  Kids are talking by the door        1st      1   M   \n",
       "1  Kids are talking by the door        2nd      1   M   \n",
       "2  Dogs are sitting by the door        1st      1   M   \n",
       "3  Dogs are sitting by the door        2nd      1   M   \n",
       "4  Kids are talking by the door        1st      1   M   \n",
       "\n",
       "                   filename  frame_count  ...  stft_max_w4  stft_q01_w4  \\\n",
       "0  03-01-01-01-01-01-01.wav       158558  ...          1.0     0.000000   \n",
       "1  03-01-01-01-01-02-01.wav       160160  ...          1.0     0.368623   \n",
       "2  03-01-01-01-02-01-01.wav       156956  ...          1.0     0.000000   \n",
       "3  03-01-01-01-02-02-01.wav       152152  ...          1.0     0.306280   \n",
       "4  03-01-02-01-01-01-01.wav       169769  ...          1.0     0.248765   \n",
       "\n",
       "   stft_q05_w4  stft_q25_w4  stft_q50_w4  stft_q75_w4  stft_q95_w4  \\\n",
       "0     0.566462     0.709962     0.799141     0.896606          1.0   \n",
       "1     0.472736     0.623183     0.744908     0.874713          1.0   \n",
       "2     0.417919     0.643636     0.774253     0.899156          1.0   \n",
       "3     0.399641     0.606910     0.755213     0.886474          1.0   \n",
       "4     0.428202     0.634815     0.759914     0.878014          1.0   \n",
       "\n",
       "   stft_q99_w4  stft_kur_w4  stft_skew_w4  \n",
       "0          1.0     6.742190     -1.706215  \n",
       "1          1.0    -0.700420     -0.201495  \n",
       "2          1.0     1.688986     -1.024773  \n",
       "3          1.0    -0.594111     -0.412871  \n",
       "4          1.0     0.126535     -0.620782  \n",
       "\n",
       "[5 rows x 434 columns]"
      ]
     },
     "execution_count": 2,
     "metadata": {},
     "output_type": "execute_result"
    }
   ],
   "source": [
    "df_train=pd.read_csv(\"./Dataset/RavdessAudioOnlyFeatures_TRAIN.csv\")\n",
    "df_train.head()"
   ]
  },
  {
   "cell_type": "code",
   "execution_count": 3,
   "metadata": {},
   "outputs": [
    {
     "data": {
      "text/html": [
       "<div>\n",
       "<style scoped>\n",
       "    .dataframe tbody tr th:only-of-type {\n",
       "        vertical-align: middle;\n",
       "    }\n",
       "\n",
       "    .dataframe tbody tr th {\n",
       "        vertical-align: top;\n",
       "    }\n",
       "\n",
       "    .dataframe thead th {\n",
       "        text-align: right;\n",
       "    }\n",
       "</style>\n",
       "<table border=\"1\" class=\"dataframe\">\n",
       "  <thead>\n",
       "    <tr style=\"text-align: right;\">\n",
       "      <th></th>\n",
       "      <th>modality</th>\n",
       "      <th>vocal_channel</th>\n",
       "      <th>emotion</th>\n",
       "      <th>emotional_intensity</th>\n",
       "      <th>statement</th>\n",
       "      <th>repetition</th>\n",
       "      <th>actor</th>\n",
       "      <th>sex</th>\n",
       "      <th>filename</th>\n",
       "      <th>frame_count</th>\n",
       "      <th>...</th>\n",
       "      <th>stft_max_w4</th>\n",
       "      <th>stft_q01_w4</th>\n",
       "      <th>stft_q05_w4</th>\n",
       "      <th>stft_q25_w4</th>\n",
       "      <th>stft_q50_w4</th>\n",
       "      <th>stft_q75_w4</th>\n",
       "      <th>stft_q95_w4</th>\n",
       "      <th>stft_q99_w4</th>\n",
       "      <th>stft_kur_w4</th>\n",
       "      <th>stft_skew_w4</th>\n",
       "    </tr>\n",
       "  </thead>\n",
       "  <tbody>\n",
       "    <tr>\n",
       "      <th>0</th>\n",
       "      <td>audio-only</td>\n",
       "      <td>speech</td>\n",
       "      <td>neutral</td>\n",
       "      <td>normal</td>\n",
       "      <td>Kids are talking by the door</td>\n",
       "      <td>1st</td>\n",
       "      <td>19</td>\n",
       "      <td>M</td>\n",
       "      <td>03-01-01-01-01-01-19.wav</td>\n",
       "      <td>161762</td>\n",
       "      <td>...</td>\n",
       "      <td>1.0</td>\n",
       "      <td>0.306697</td>\n",
       "      <td>0.466157</td>\n",
       "      <td>0.645931</td>\n",
       "      <td>0.789123</td>\n",
       "      <td>0.908316</td>\n",
       "      <td>1.0</td>\n",
       "      <td>1.0</td>\n",
       "      <td>-0.260279</td>\n",
       "      <td>-0.566556</td>\n",
       "    </tr>\n",
       "    <tr>\n",
       "      <th>1</th>\n",
       "      <td>audio-only</td>\n",
       "      <td>speech</td>\n",
       "      <td>neutral</td>\n",
       "      <td>normal</td>\n",
       "      <td>Kids are talking by the door</td>\n",
       "      <td>2nd</td>\n",
       "      <td>19</td>\n",
       "      <td>M</td>\n",
       "      <td>03-01-01-01-01-02-19.wav</td>\n",
       "      <td>155355</td>\n",
       "      <td>...</td>\n",
       "      <td>1.0</td>\n",
       "      <td>0.170786</td>\n",
       "      <td>0.279347</td>\n",
       "      <td>0.557524</td>\n",
       "      <td>0.733053</td>\n",
       "      <td>0.866973</td>\n",
       "      <td>1.0</td>\n",
       "      <td>1.0</td>\n",
       "      <td>-0.428900</td>\n",
       "      <td>-0.587210</td>\n",
       "    </tr>\n",
       "    <tr>\n",
       "      <th>2</th>\n",
       "      <td>audio-only</td>\n",
       "      <td>speech</td>\n",
       "      <td>neutral</td>\n",
       "      <td>normal</td>\n",
       "      <td>Dogs are sitting by the door</td>\n",
       "      <td>1st</td>\n",
       "      <td>19</td>\n",
       "      <td>M</td>\n",
       "      <td>03-01-01-01-02-01-19.wav</td>\n",
       "      <td>160160</td>\n",
       "      <td>...</td>\n",
       "      <td>1.0</td>\n",
       "      <td>0.023285</td>\n",
       "      <td>0.305395</td>\n",
       "      <td>0.577750</td>\n",
       "      <td>0.741576</td>\n",
       "      <td>0.889984</td>\n",
       "      <td>1.0</td>\n",
       "      <td>1.0</td>\n",
       "      <td>0.626916</td>\n",
       "      <td>-0.883317</td>\n",
       "    </tr>\n",
       "    <tr>\n",
       "      <th>3</th>\n",
       "      <td>audio-only</td>\n",
       "      <td>speech</td>\n",
       "      <td>neutral</td>\n",
       "      <td>normal</td>\n",
       "      <td>Dogs are sitting by the door</td>\n",
       "      <td>2nd</td>\n",
       "      <td>19</td>\n",
       "      <td>M</td>\n",
       "      <td>03-01-01-01-02-02-19.wav</td>\n",
       "      <td>158558</td>\n",
       "      <td>...</td>\n",
       "      <td>1.0</td>\n",
       "      <td>0.368081</td>\n",
       "      <td>0.434591</td>\n",
       "      <td>0.620144</td>\n",
       "      <td>0.776419</td>\n",
       "      <td>0.904668</td>\n",
       "      <td>1.0</td>\n",
       "      <td>1.0</td>\n",
       "      <td>-0.825144</td>\n",
       "      <td>-0.383701</td>\n",
       "    </tr>\n",
       "    <tr>\n",
       "      <th>4</th>\n",
       "      <td>audio-only</td>\n",
       "      <td>speech</td>\n",
       "      <td>calm</td>\n",
       "      <td>normal</td>\n",
       "      <td>Kids are talking by the door</td>\n",
       "      <td>1st</td>\n",
       "      <td>19</td>\n",
       "      <td>M</td>\n",
       "      <td>03-01-02-01-01-01-19.wav</td>\n",
       "      <td>176176</td>\n",
       "      <td>...</td>\n",
       "      <td>1.0</td>\n",
       "      <td>0.298851</td>\n",
       "      <td>0.393112</td>\n",
       "      <td>0.623309</td>\n",
       "      <td>0.772964</td>\n",
       "      <td>0.907035</td>\n",
       "      <td>1.0</td>\n",
       "      <td>1.0</td>\n",
       "      <td>-0.536669</td>\n",
       "      <td>-0.547354</td>\n",
       "    </tr>\n",
       "  </tbody>\n",
       "</table>\n",
       "<p>5 rows × 434 columns</p>\n",
       "</div>"
      ],
      "text/plain": [
       "     modality vocal_channel  emotion emotional_intensity  \\\n",
       "0  audio-only        speech  neutral              normal   \n",
       "1  audio-only        speech  neutral              normal   \n",
       "2  audio-only        speech  neutral              normal   \n",
       "3  audio-only        speech  neutral              normal   \n",
       "4  audio-only        speech     calm              normal   \n",
       "\n",
       "                      statement repetition  actor sex  \\\n",
       "0  Kids are talking by the door        1st     19   M   \n",
       "1  Kids are talking by the door        2nd     19   M   \n",
       "2  Dogs are sitting by the door        1st     19   M   \n",
       "3  Dogs are sitting by the door        2nd     19   M   \n",
       "4  Kids are talking by the door        1st     19   M   \n",
       "\n",
       "                   filename  frame_count  ...  stft_max_w4  stft_q01_w4  \\\n",
       "0  03-01-01-01-01-01-19.wav       161762  ...          1.0     0.306697   \n",
       "1  03-01-01-01-01-02-19.wav       155355  ...          1.0     0.170786   \n",
       "2  03-01-01-01-02-01-19.wav       160160  ...          1.0     0.023285   \n",
       "3  03-01-01-01-02-02-19.wav       158558  ...          1.0     0.368081   \n",
       "4  03-01-02-01-01-01-19.wav       176176  ...          1.0     0.298851   \n",
       "\n",
       "   stft_q05_w4  stft_q25_w4  stft_q50_w4  stft_q75_w4  stft_q95_w4  \\\n",
       "0     0.466157     0.645931     0.789123     0.908316          1.0   \n",
       "1     0.279347     0.557524     0.733053     0.866973          1.0   \n",
       "2     0.305395     0.577750     0.741576     0.889984          1.0   \n",
       "3     0.434591     0.620144     0.776419     0.904668          1.0   \n",
       "4     0.393112     0.623309     0.772964     0.907035          1.0   \n",
       "\n",
       "   stft_q99_w4  stft_kur_w4  stft_skew_w4  \n",
       "0          1.0    -0.260279     -0.566556  \n",
       "1          1.0    -0.428900     -0.587210  \n",
       "2          1.0     0.626916     -0.883317  \n",
       "3          1.0    -0.825144     -0.383701  \n",
       "4          1.0    -0.536669     -0.547354  \n",
       "\n",
       "[5 rows x 434 columns]"
      ]
     },
     "execution_count": 3,
     "metadata": {},
     "output_type": "execute_result"
    }
   ],
   "source": [
    "df_test=pd.read_csv(\"./Dataset/RavdessAudioOnlyFeatures_TEST.csv\")\n",
    "df_test.head()"
   ]
  },
  {
   "cell_type": "code",
   "execution_count": 4,
   "metadata": {},
   "outputs": [
    {
     "name": "stdout",
     "output_type": "stream",
     "text": [
      "df_train shape = (1828, 434)\n",
      "df_test shape = (624, 434)\n"
     ]
    }
   ],
   "source": [
    "print(f\"df_train shape = {df_train.shape}\\ndf_test shape = {df_test.shape}\")"
   ]
  },
  {
   "cell_type": "code",
   "execution_count": 5,
   "metadata": {},
   "outputs": [
    {
     "data": {
      "text/plain": [
       "<AxesSubplot:xlabel='emotion', ylabel='count'>"
      ]
     },
     "execution_count": 5,
     "metadata": {},
     "output_type": "execute_result"
    },
    {
     "data": {
      "image/png": "[encoded data removed]",
      "text/plain": [
       "<Figure size 432x288 with 1 Axes>"
      ]
     },
     "metadata": {
      "needs_background": "light"
     },
     "output_type": "display_data"
    }
   ],
   "source": [
    "sns.countplot(x ='emotion', data = df_train)"
   ]
  },
  {
   "cell_type": "code",
   "execution_count": 6,
   "metadata": {},
   "outputs": [
    {
     "data": {
      "text/plain": [
       "calm         280\n",
       "happy        280\n",
       "sad          280\n",
       "angry        280\n",
       "fearful      280\n",
       "disgust      144\n",
       "surprised    144\n",
       "neutral      140\n",
       "Name: emotion, dtype: int64"
      ]
     },
     "execution_count": 6,
     "metadata": {},
     "output_type": "execute_result"
    }
   ],
   "source": [
    "df_train[\"emotion\"].value_counts()"
   ]
  },
  {
   "attachments": {},
   "cell_type": "markdown",
   "metadata": {},
   "source": [
    "1HotEncoding + Normalization with RobustScaler()"
   ]
  },
  {
   "cell_type": "code",
   "execution_count": 7,
   "metadata": {},
   "outputs": [
    {
     "name": "stdout",
     "output_type": "stream",
     "text": [
      "These columns are categorical\n"
     ]
    },
    {
     "data": {
      "text/plain": [
       "['modality',\n",
       " 'vocal_channel',\n",
       " 'emotion',\n",
       " 'emotional_intensity',\n",
       " 'statement',\n",
       " 'repetition',\n",
       " 'sex',\n",
       " 'filename']"
      ]
     },
     "execution_count": 7,
     "metadata": {},
     "output_type": "execute_result"
    }
   ],
   "source": [
    "df_train_copy=df_train\n",
    "print(\"These columns are categorical\")\n",
    "c=df_train_copy.select_dtypes(include=['object']).columns.tolist()\n",
    "c"
   ]
  },
  {
   "cell_type": "code",
   "execution_count": 8,
   "metadata": {},
   "outputs": [
    {
     "data": {
      "text/html": [
       "<div>\n",
       "<style scoped>\n",
       "    .dataframe tbody tr th:only-of-type {\n",
       "        vertical-align: middle;\n",
       "    }\n",
       "\n",
       "    .dataframe tbody tr th {\n",
       "        vertical-align: top;\n",
       "    }\n",
       "\n",
       "    .dataframe thead th {\n",
       "        text-align: right;\n",
       "    }\n",
       "</style>\n",
       "<table border=\"1\" class=\"dataframe\">\n",
       "  <thead>\n",
       "    <tr style=\"text-align: right;\">\n",
       "      <th></th>\n",
       "      <th>modality</th>\n",
       "      <th>vocal_channel</th>\n",
       "      <th>emotion</th>\n",
       "      <th>emotional_intensity</th>\n",
       "      <th>statement</th>\n",
       "      <th>repetition</th>\n",
       "      <th>actor</th>\n",
       "      <th>sex</th>\n",
       "      <th>filename</th>\n",
       "      <th>frame_count</th>\n",
       "      <th>...</th>\n",
       "      <th>stft_max_w4</th>\n",
       "      <th>stft_q01_w4</th>\n",
       "      <th>stft_q05_w4</th>\n",
       "      <th>stft_q25_w4</th>\n",
       "      <th>stft_q50_w4</th>\n",
       "      <th>stft_q75_w4</th>\n",
       "      <th>stft_q95_w4</th>\n",
       "      <th>stft_q99_w4</th>\n",
       "      <th>stft_kur_w4</th>\n",
       "      <th>stft_skew_w4</th>\n",
       "    </tr>\n",
       "  </thead>\n",
       "  <tbody>\n",
       "    <tr>\n",
       "      <th>0</th>\n",
       "      <td>0</td>\n",
       "      <td>1</td>\n",
       "      <td>5</td>\n",
       "      <td>0</td>\n",
       "      <td>1</td>\n",
       "      <td>0</td>\n",
       "      <td>1</td>\n",
       "      <td>1</td>\n",
       "      <td>0</td>\n",
       "      <td>158558</td>\n",
       "      <td>...</td>\n",
       "      <td>1.0</td>\n",
       "      <td>0.000000</td>\n",
       "      <td>0.566462</td>\n",
       "      <td>0.709962</td>\n",
       "      <td>0.799141</td>\n",
       "      <td>0.896606</td>\n",
       "      <td>1.0</td>\n",
       "      <td>1.0</td>\n",
       "      <td>6.742190</td>\n",
       "      <td>-1.706215</td>\n",
       "    </tr>\n",
       "    <tr>\n",
       "      <th>1</th>\n",
       "      <td>0</td>\n",
       "      <td>1</td>\n",
       "      <td>5</td>\n",
       "      <td>0</td>\n",
       "      <td>1</td>\n",
       "      <td>1</td>\n",
       "      <td>1</td>\n",
       "      <td>1</td>\n",
       "      <td>18</td>\n",
       "      <td>160160</td>\n",
       "      <td>...</td>\n",
       "      <td>1.0</td>\n",
       "      <td>0.368623</td>\n",
       "      <td>0.472736</td>\n",
       "      <td>0.623183</td>\n",
       "      <td>0.744908</td>\n",
       "      <td>0.874713</td>\n",
       "      <td>1.0</td>\n",
       "      <td>1.0</td>\n",
       "      <td>-0.700420</td>\n",
       "      <td>-0.201495</td>\n",
       "    </tr>\n",
       "    <tr>\n",
       "      <th>2</th>\n",
       "      <td>0</td>\n",
       "      <td>1</td>\n",
       "      <td>5</td>\n",
       "      <td>0</td>\n",
       "      <td>0</td>\n",
       "      <td>0</td>\n",
       "      <td>1</td>\n",
       "      <td>1</td>\n",
       "      <td>36</td>\n",
       "      <td>156956</td>\n",
       "      <td>...</td>\n",
       "      <td>1.0</td>\n",
       "      <td>0.000000</td>\n",
       "      <td>0.417919</td>\n",
       "      <td>0.643636</td>\n",
       "      <td>0.774253</td>\n",
       "      <td>0.899156</td>\n",
       "      <td>1.0</td>\n",
       "      <td>1.0</td>\n",
       "      <td>1.688986</td>\n",
       "      <td>-1.024773</td>\n",
       "    </tr>\n",
       "    <tr>\n",
       "      <th>3</th>\n",
       "      <td>0</td>\n",
       "      <td>1</td>\n",
       "      <td>5</td>\n",
       "      <td>0</td>\n",
       "      <td>0</td>\n",
       "      <td>1</td>\n",
       "      <td>1</td>\n",
       "      <td>1</td>\n",
       "      <td>54</td>\n",
       "      <td>152152</td>\n",
       "      <td>...</td>\n",
       "      <td>1.0</td>\n",
       "      <td>0.306280</td>\n",
       "      <td>0.399641</td>\n",
       "      <td>0.606910</td>\n",
       "      <td>0.755213</td>\n",
       "      <td>0.886474</td>\n",
       "      <td>1.0</td>\n",
       "      <td>1.0</td>\n",
       "      <td>-0.594111</td>\n",
       "      <td>-0.412871</td>\n",
       "    </tr>\n",
       "    <tr>\n",
       "      <th>4</th>\n",
       "      <td>0</td>\n",
       "      <td>1</td>\n",
       "      <td>1</td>\n",
       "      <td>0</td>\n",
       "      <td>1</td>\n",
       "      <td>0</td>\n",
       "      <td>1</td>\n",
       "      <td>1</td>\n",
       "      <td>72</td>\n",
       "      <td>169769</td>\n",
       "      <td>...</td>\n",
       "      <td>1.0</td>\n",
       "      <td>0.248765</td>\n",
       "      <td>0.428202</td>\n",
       "      <td>0.634815</td>\n",
       "      <td>0.759914</td>\n",
       "      <td>0.878014</td>\n",
       "      <td>1.0</td>\n",
       "      <td>1.0</td>\n",
       "      <td>0.126535</td>\n",
       "      <td>-0.620782</td>\n",
       "    </tr>\n",
       "  </tbody>\n",
       "</table>\n",
       "<p>5 rows × 434 columns</p>\n",
       "</div>"
      ],
      "text/plain": [
       "   modality  vocal_channel  emotion  emotional_intensity  statement  \\\n",
       "0         0              1        5                    0          1   \n",
       "1         0              1        5                    0          1   \n",
       "2         0              1        5                    0          0   \n",
       "3         0              1        5                    0          0   \n",
       "4         0              1        1                    0          1   \n",
       "\n",
       "   repetition  actor  sex  filename  frame_count  ...  stft_max_w4  \\\n",
       "0           0      1    1         0       158558  ...          1.0   \n",
       "1           1      1    1        18       160160  ...          1.0   \n",
       "2           0      1    1        36       156956  ...          1.0   \n",
       "3           1      1    1        54       152152  ...          1.0   \n",
       "4           0      1    1        72       169769  ...          1.0   \n",
       "\n",
       "   stft_q01_w4  stft_q05_w4  stft_q25_w4  stft_q50_w4  stft_q75_w4  \\\n",
       "0     0.000000     0.566462     0.709962     0.799141     0.896606   \n",
       "1     0.368623     0.472736     0.623183     0.744908     0.874713   \n",
       "2     0.000000     0.417919     0.643636     0.774253     0.899156   \n",
       "3     0.306280     0.399641     0.606910     0.755213     0.886474   \n",
       "4     0.248765     0.428202     0.634815     0.759914     0.878014   \n",
       "\n",
       "   stft_q95_w4  stft_q99_w4  stft_kur_w4  stft_skew_w4  \n",
       "0          1.0          1.0     6.742190     -1.706215  \n",
       "1          1.0          1.0    -0.700420     -0.201495  \n",
       "2          1.0          1.0     1.688986     -1.024773  \n",
       "3          1.0          1.0    -0.594111     -0.412871  \n",
       "4          1.0          1.0     0.126535     -0.620782  \n",
       "\n",
       "[5 rows x 434 columns]"
      ]
     },
     "execution_count": 8,
     "metadata": {},
     "output_type": "execute_result"
    }
   ],
   "source": [
    "le=preprocessing.LabelEncoder()\n",
    "for i in c:\n",
    "    df_train_copy[i]=le.fit_transform(df_train_copy[i])\n",
    "df_train_copy.head()"
   ]
  },
  {
   "cell_type": "code",
   "execution_count": 9,
   "metadata": {},
   "outputs": [],
   "source": [
    "# Normalizzazione delle variabili numeriche pure\n",
    "\n",
    "df_normalized = df_train_copy.copy()\n",
    "\n",
    "numeric_features = [n for n in df_normalized.columns if n!=\"emotion\" and n!= \"vocal_channel\" and n!= \"emotional_intensity\" and n!= \"statement\" and n!= \"repetition\" and n!= \"sex\" and n!=\"filename\" and n!=\"actor\"]\n",
    "\n",
    "scaler = RobustScaler()\n",
    "scaled_features = scaler.fit_transform(df_normalized[numeric_features])\n",
    "df_normalized[numeric_features] = scaled_features"
   ]
  },
  {
   "cell_type": "code",
   "execution_count": 10,
   "metadata": {},
   "outputs": [
    {
     "data": {
      "text/html": [
       "<div>\n",
       "<style scoped>\n",
       "    .dataframe tbody tr th:only-of-type {\n",
       "        vertical-align: middle;\n",
       "    }\n",
       "\n",
       "    .dataframe tbody tr th {\n",
       "        vertical-align: top;\n",
       "    }\n",
       "\n",
       "    .dataframe thead th {\n",
       "        text-align: right;\n",
       "    }\n",
       "</style>\n",
       "<table border=\"1\" class=\"dataframe\">\n",
       "  <thead>\n",
       "    <tr style=\"text-align: right;\">\n",
       "      <th></th>\n",
       "      <th>modality</th>\n",
       "      <th>vocal_channel</th>\n",
       "      <th>emotion</th>\n",
       "      <th>emotional_intensity</th>\n",
       "      <th>statement</th>\n",
       "      <th>repetition</th>\n",
       "      <th>actor</th>\n",
       "      <th>sex</th>\n",
       "      <th>filename</th>\n",
       "      <th>frame_count</th>\n",
       "      <th>...</th>\n",
       "      <th>stft_max_w4</th>\n",
       "      <th>stft_q01_w4</th>\n",
       "      <th>stft_q05_w4</th>\n",
       "      <th>stft_q25_w4</th>\n",
       "      <th>stft_q50_w4</th>\n",
       "      <th>stft_q75_w4</th>\n",
       "      <th>stft_q95_w4</th>\n",
       "      <th>stft_q99_w4</th>\n",
       "      <th>stft_kur_w4</th>\n",
       "      <th>stft_skew_w4</th>\n",
       "    </tr>\n",
       "  </thead>\n",
       "  <tbody>\n",
       "    <tr>\n",
       "      <th>0</th>\n",
       "      <td>0.0</td>\n",
       "      <td>1</td>\n",
       "      <td>5</td>\n",
       "      <td>0</td>\n",
       "      <td>1</td>\n",
       "      <td>0</td>\n",
       "      <td>1</td>\n",
       "      <td>1</td>\n",
       "      <td>0</td>\n",
       "      <td>-0.703721</td>\n",
       "      <td>...</td>\n",
       "      <td>0.0</td>\n",
       "      <td>-0.402429</td>\n",
       "      <td>1.421380</td>\n",
       "      <td>0.948188</td>\n",
       "      <td>0.831973</td>\n",
       "      <td>0.536448</td>\n",
       "      <td>0.0</td>\n",
       "      <td>0.0</td>\n",
       "      <td>10.826275</td>\n",
       "      <td>-2.710136</td>\n",
       "    </tr>\n",
       "    <tr>\n",
       "      <th>1</th>\n",
       "      <td>0.0</td>\n",
       "      <td>1</td>\n",
       "      <td>5</td>\n",
       "      <td>0</td>\n",
       "      <td>1</td>\n",
       "      <td>1</td>\n",
       "      <td>1</td>\n",
       "      <td>1</td>\n",
       "      <td>18</td>\n",
       "      <td>-0.666674</td>\n",
       "      <td>...</td>\n",
       "      <td>0.0</td>\n",
       "      <td>1.702463</td>\n",
       "      <td>1.092210</td>\n",
       "      <td>0.597843</td>\n",
       "      <td>0.441189</td>\n",
       "      <td>0.253557</td>\n",
       "      <td>0.0</td>\n",
       "      <td>0.0</td>\n",
       "      <td>0.064887</td>\n",
       "      <td>0.425032</td>\n",
       "    </tr>\n",
       "    <tr>\n",
       "      <th>2</th>\n",
       "      <td>0.0</td>\n",
       "      <td>1</td>\n",
       "      <td>5</td>\n",
       "      <td>0</td>\n",
       "      <td>0</td>\n",
       "      <td>0</td>\n",
       "      <td>1</td>\n",
       "      <td>1</td>\n",
       "      <td>36</td>\n",
       "      <td>-0.740767</td>\n",
       "      <td>...</td>\n",
       "      <td>0.0</td>\n",
       "      <td>-0.402429</td>\n",
       "      <td>0.899688</td>\n",
       "      <td>0.680414</td>\n",
       "      <td>0.652634</td>\n",
       "      <td>0.569396</td>\n",
       "      <td>0.0</td>\n",
       "      <td>0.0</td>\n",
       "      <td>3.519767</td>\n",
       "      <td>-1.290314</td>\n",
       "    </tr>\n",
       "    <tr>\n",
       "      <th>3</th>\n",
       "      <td>0.0</td>\n",
       "      <td>1</td>\n",
       "      <td>5</td>\n",
       "      <td>0</td>\n",
       "      <td>0</td>\n",
       "      <td>1</td>\n",
       "      <td>1</td>\n",
       "      <td>1</td>\n",
       "      <td>54</td>\n",
       "      <td>-0.851860</td>\n",
       "      <td>...</td>\n",
       "      <td>0.0</td>\n",
       "      <td>1.346476</td>\n",
       "      <td>0.835496</td>\n",
       "      <td>0.532143</td>\n",
       "      <td>0.515441</td>\n",
       "      <td>0.405521</td>\n",
       "      <td>0.0</td>\n",
       "      <td>0.0</td>\n",
       "      <td>0.218601</td>\n",
       "      <td>-0.015380</td>\n",
       "    </tr>\n",
       "    <tr>\n",
       "      <th>4</th>\n",
       "      <td>0.0</td>\n",
       "      <td>1</td>\n",
       "      <td>1</td>\n",
       "      <td>0</td>\n",
       "      <td>1</td>\n",
       "      <td>0</td>\n",
       "      <td>1</td>\n",
       "      <td>1</td>\n",
       "      <td>72</td>\n",
       "      <td>-0.444465</td>\n",
       "      <td>...</td>\n",
       "      <td>0.0</td>\n",
       "      <td>1.018057</td>\n",
       "      <td>0.935801</td>\n",
       "      <td>0.644804</td>\n",
       "      <td>0.549313</td>\n",
       "      <td>0.296205</td>\n",
       "      <td>0.0</td>\n",
       "      <td>0.0</td>\n",
       "      <td>1.260594</td>\n",
       "      <td>-0.448574</td>\n",
       "    </tr>\n",
       "  </tbody>\n",
       "</table>\n",
       "<p>5 rows × 434 columns</p>\n",
       "</div>"
      ],
      "text/plain": [
       "   modality  vocal_channel  emotion  emotional_intensity  statement  \\\n",
       "0       0.0              1        5                    0          1   \n",
       "1       0.0              1        5                    0          1   \n",
       "2       0.0              1        5                    0          0   \n",
       "3       0.0              1        5                    0          0   \n",
       "4       0.0              1        1                    0          1   \n",
       "\n",
       "   repetition  actor  sex  filename  frame_count  ...  stft_max_w4  \\\n",
       "0           0      1    1         0    -0.703721  ...          0.0   \n",
       "1           1      1    1        18    -0.666674  ...          0.0   \n",
       "2           0      1    1        36    -0.740767  ...          0.0   \n",
       "3           1      1    1        54    -0.851860  ...          0.0   \n",
       "4           0      1    1        72    -0.444465  ...          0.0   \n",
       "\n",
       "   stft_q01_w4  stft_q05_w4  stft_q25_w4  stft_q50_w4  stft_q75_w4  \\\n",
       "0    -0.402429     1.421380     0.948188     0.831973     0.536448   \n",
       "1     1.702463     1.092210     0.597843     0.441189     0.253557   \n",
       "2    -0.402429     0.899688     0.680414     0.652634     0.569396   \n",
       "3     1.346476     0.835496     0.532143     0.515441     0.405521   \n",
       "4     1.018057     0.935801     0.644804     0.549313     0.296205   \n",
       "\n",
       "   stft_q95_w4  stft_q99_w4  stft_kur_w4  stft_skew_w4  \n",
       "0          0.0          0.0    10.826275     -2.710136  \n",
       "1          0.0          0.0     0.064887      0.425032  \n",
       "2          0.0          0.0     3.519767     -1.290314  \n",
       "3          0.0          0.0     0.218601     -0.015380  \n",
       "4          0.0          0.0     1.260594     -0.448574  \n",
       "\n",
       "[5 rows x 434 columns]"
      ]
     },
     "execution_count": 10,
     "metadata": {},
     "output_type": "execute_result"
    }
   ],
   "source": [
    "df_normalized.head()"
   ]
  },
  {
   "cell_type": "code",
   "execution_count": 11,
   "metadata": {},
   "outputs": [
    {
     "name": "stdout",
     "output_type": "stream",
     "text": [
      "These columns are categorical\n"
     ]
    },
    {
     "data": {
      "text/html": [
       "<div>\n",
       "<style scoped>\n",
       "    .dataframe tbody tr th:only-of-type {\n",
       "        vertical-align: middle;\n",
       "    }\n",
       "\n",
       "    .dataframe tbody tr th {\n",
       "        vertical-align: top;\n",
       "    }\n",
       "\n",
       "    .dataframe thead th {\n",
       "        text-align: right;\n",
       "    }\n",
       "</style>\n",
       "<table border=\"1\" class=\"dataframe\">\n",
       "  <thead>\n",
       "    <tr style=\"text-align: right;\">\n",
       "      <th></th>\n",
       "      <th>modality</th>\n",
       "      <th>vocal_channel</th>\n",
       "      <th>emotion</th>\n",
       "      <th>emotional_intensity</th>\n",
       "      <th>statement</th>\n",
       "      <th>repetition</th>\n",
       "      <th>actor</th>\n",
       "      <th>sex</th>\n",
       "      <th>filename</th>\n",
       "      <th>frame_count</th>\n",
       "      <th>...</th>\n",
       "      <th>stft_max_w4</th>\n",
       "      <th>stft_q01_w4</th>\n",
       "      <th>stft_q05_w4</th>\n",
       "      <th>stft_q25_w4</th>\n",
       "      <th>stft_q50_w4</th>\n",
       "      <th>stft_q75_w4</th>\n",
       "      <th>stft_q95_w4</th>\n",
       "      <th>stft_q99_w4</th>\n",
       "      <th>stft_kur_w4</th>\n",
       "      <th>stft_skew_w4</th>\n",
       "    </tr>\n",
       "  </thead>\n",
       "  <tbody>\n",
       "    <tr>\n",
       "      <th>0</th>\n",
       "      <td>0.0</td>\n",
       "      <td>1</td>\n",
       "      <td>5</td>\n",
       "      <td>0</td>\n",
       "      <td>1</td>\n",
       "      <td>0</td>\n",
       "      <td>19</td>\n",
       "      <td>1</td>\n",
       "      <td>0</td>\n",
       "      <td>-0.799992</td>\n",
       "      <td>...</td>\n",
       "      <td>0.0</td>\n",
       "      <td>1.846860</td>\n",
       "      <td>1.438353</td>\n",
       "      <td>0.923724</td>\n",
       "      <td>1.163427</td>\n",
       "      <td>1.195101</td>\n",
       "      <td>0.0</td>\n",
       "      <td>0.0</td>\n",
       "      <td>0.932578</td>\n",
       "      <td>-0.373546</td>\n",
       "    </tr>\n",
       "    <tr>\n",
       "      <th>1</th>\n",
       "      <td>0.0</td>\n",
       "      <td>1</td>\n",
       "      <td>5</td>\n",
       "      <td>0</td>\n",
       "      <td>1</td>\n",
       "      <td>1</td>\n",
       "      <td>19</td>\n",
       "      <td>1</td>\n",
       "      <td>6</td>\n",
       "      <td>-0.933337</td>\n",
       "      <td>...</td>\n",
       "      <td>0.0</td>\n",
       "      <td>0.860672</td>\n",
       "      <td>0.625835</td>\n",
       "      <td>0.496705</td>\n",
       "      <td>0.589635</td>\n",
       "      <td>0.421714</td>\n",
       "      <td>0.0</td>\n",
       "      <td>0.0</td>\n",
       "      <td>0.613070</td>\n",
       "      <td>-0.426190</td>\n",
       "    </tr>\n",
       "    <tr>\n",
       "      <th>2</th>\n",
       "      <td>0.0</td>\n",
       "      <td>1</td>\n",
       "      <td>5</td>\n",
       "      <td>0</td>\n",
       "      <td>0</td>\n",
       "      <td>0</td>\n",
       "      <td>19</td>\n",
       "      <td>1</td>\n",
       "      <td>12</td>\n",
       "      <td>-0.833333</td>\n",
       "      <td>...</td>\n",
       "      <td>0.0</td>\n",
       "      <td>-0.209609</td>\n",
       "      <td>0.739130</td>\n",
       "      <td>0.594399</td>\n",
       "      <td>0.676856</td>\n",
       "      <td>0.852183</td>\n",
       "      <td>0.0</td>\n",
       "      <td>0.0</td>\n",
       "      <td>2.613672</td>\n",
       "      <td>-1.180915</td>\n",
       "    </tr>\n",
       "    <tr>\n",
       "      <th>3</th>\n",
       "      <td>0.0</td>\n",
       "      <td>1</td>\n",
       "      <td>5</td>\n",
       "      <td>0</td>\n",
       "      <td>0</td>\n",
       "      <td>1</td>\n",
       "      <td>19</td>\n",
       "      <td>1</td>\n",
       "      <td>18</td>\n",
       "      <td>-0.866675</td>\n",
       "      <td>...</td>\n",
       "      <td>0.0</td>\n",
       "      <td>2.292273</td>\n",
       "      <td>1.301058</td>\n",
       "      <td>0.799169</td>\n",
       "      <td>1.033418</td>\n",
       "      <td>1.126866</td>\n",
       "      <td>0.0</td>\n",
       "      <td>0.0</td>\n",
       "      <td>-0.137750</td>\n",
       "      <td>0.092519</td>\n",
       "    </tr>\n",
       "    <tr>\n",
       "      <th>4</th>\n",
       "      <td>0.0</td>\n",
       "      <td>1</td>\n",
       "      <td>1</td>\n",
       "      <td>0</td>\n",
       "      <td>1</td>\n",
       "      <td>0</td>\n",
       "      <td>19</td>\n",
       "      <td>1</td>\n",
       "      <td>24</td>\n",
       "      <td>-0.500000</td>\n",
       "      <td>...</td>\n",
       "      <td>0.0</td>\n",
       "      <td>1.789930</td>\n",
       "      <td>1.120652</td>\n",
       "      <td>0.814457</td>\n",
       "      <td>0.998068</td>\n",
       "      <td>1.171144</td>\n",
       "      <td>0.0</td>\n",
       "      <td>0.0</td>\n",
       "      <td>0.408864</td>\n",
       "      <td>-0.324605</td>\n",
       "    </tr>\n",
       "    <tr>\n",
       "      <th>...</th>\n",
       "      <td>...</td>\n",
       "      <td>...</td>\n",
       "      <td>...</td>\n",
       "      <td>...</td>\n",
       "      <td>...</td>\n",
       "      <td>...</td>\n",
       "      <td>...</td>\n",
       "      <td>...</td>\n",
       "      <td>...</td>\n",
       "      <td>...</td>\n",
       "      <td>...</td>\n",
       "      <td>...</td>\n",
       "      <td>...</td>\n",
       "      <td>...</td>\n",
       "      <td>...</td>\n",
       "      <td>...</td>\n",
       "      <td>...</td>\n",
       "      <td>...</td>\n",
       "      <td>...</td>\n",
       "      <td>...</td>\n",
       "      <td>...</td>\n",
       "    </tr>\n",
       "    <tr>\n",
       "      <th>619</th>\n",
       "      <td>0.0</td>\n",
       "      <td>0</td>\n",
       "      <td>3</td>\n",
       "      <td>0</td>\n",
       "      <td>0</td>\n",
       "      <td>1</td>\n",
       "      <td>24</td>\n",
       "      <td>0</td>\n",
       "      <td>599</td>\n",
       "      <td>0.399996</td>\n",
       "      <td>...</td>\n",
       "      <td>0.0</td>\n",
       "      <td>-0.356398</td>\n",
       "      <td>-0.525285</td>\n",
       "      <td>0.134029</td>\n",
       "      <td>0.030574</td>\n",
       "      <td>-0.190061</td>\n",
       "      <td>0.0</td>\n",
       "      <td>0.0</td>\n",
       "      <td>0.486514</td>\n",
       "      <td>-0.831059</td>\n",
       "    </tr>\n",
       "    <tr>\n",
       "      <th>620</th>\n",
       "      <td>0.0</td>\n",
       "      <td>0</td>\n",
       "      <td>3</td>\n",
       "      <td>1</td>\n",
       "      <td>1</td>\n",
       "      <td>0</td>\n",
       "      <td>24</td>\n",
       "      <td>0</td>\n",
       "      <td>605</td>\n",
       "      <td>0.366654</td>\n",
       "      <td>...</td>\n",
       "      <td>0.0</td>\n",
       "      <td>-0.350657</td>\n",
       "      <td>-0.544253</td>\n",
       "      <td>-0.571400</td>\n",
       "      <td>-1.343427</td>\n",
       "      <td>-1.688882</td>\n",
       "      <td>0.0</td>\n",
       "      <td>0.0</td>\n",
       "      <td>-0.237622</td>\n",
       "      <td>0.681947</td>\n",
       "    </tr>\n",
       "    <tr>\n",
       "      <th>621</th>\n",
       "      <td>0.0</td>\n",
       "      <td>0</td>\n",
       "      <td>3</td>\n",
       "      <td>1</td>\n",
       "      <td>1</td>\n",
       "      <td>1</td>\n",
       "      <td>24</td>\n",
       "      <td>0</td>\n",
       "      <td>611</td>\n",
       "      <td>0.133325</td>\n",
       "      <td>...</td>\n",
       "      <td>0.0</td>\n",
       "      <td>-0.344234</td>\n",
       "      <td>-0.518927</td>\n",
       "      <td>-0.844303</td>\n",
       "      <td>-1.622815</td>\n",
       "      <td>-2.158046</td>\n",
       "      <td>0.0</td>\n",
       "      <td>0.0</td>\n",
       "      <td>-0.464793</td>\n",
       "      <td>1.062827</td>\n",
       "    </tr>\n",
       "    <tr>\n",
       "      <th>622</th>\n",
       "      <td>0.0</td>\n",
       "      <td>0</td>\n",
       "      <td>3</td>\n",
       "      <td>1</td>\n",
       "      <td>0</td>\n",
       "      <td>0</td>\n",
       "      <td>24</td>\n",
       "      <td>0</td>\n",
       "      <td>617</td>\n",
       "      <td>0.066683</td>\n",
       "      <td>...</td>\n",
       "      <td>0.0</td>\n",
       "      <td>-0.234289</td>\n",
       "      <td>-0.298783</td>\n",
       "      <td>-0.223406</td>\n",
       "      <td>-0.614824</td>\n",
       "      <td>-0.867540</td>\n",
       "      <td>0.0</td>\n",
       "      <td>0.0</td>\n",
       "      <td>0.155275</td>\n",
       "      <td>0.241435</td>\n",
       "    </tr>\n",
       "    <tr>\n",
       "      <th>623</th>\n",
       "      <td>0.0</td>\n",
       "      <td>0</td>\n",
       "      <td>3</td>\n",
       "      <td>1</td>\n",
       "      <td>0</td>\n",
       "      <td>1</td>\n",
       "      <td>24</td>\n",
       "      <td>0</td>\n",
       "      <td>623</td>\n",
       "      <td>0.266671</td>\n",
       "      <td>...</td>\n",
       "      <td>0.0</td>\n",
       "      <td>-0.293371</td>\n",
       "      <td>-0.427973</td>\n",
       "      <td>-0.006005</td>\n",
       "      <td>-0.214794</td>\n",
       "      <td>-0.409343</td>\n",
       "      <td>0.0</td>\n",
       "      <td>0.0</td>\n",
       "      <td>0.406322</td>\n",
       "      <td>-0.493028</td>\n",
       "    </tr>\n",
       "  </tbody>\n",
       "</table>\n",
       "<p>624 rows × 434 columns</p>\n",
       "</div>"
      ],
      "text/plain": [
       "     modality  vocal_channel  emotion  emotional_intensity  statement  \\\n",
       "0         0.0              1        5                    0          1   \n",
       "1         0.0              1        5                    0          1   \n",
       "2         0.0              1        5                    0          0   \n",
       "3         0.0              1        5                    0          0   \n",
       "4         0.0              1        1                    0          1   \n",
       "..        ...            ...      ...                  ...        ...   \n",
       "619       0.0              0        3                    0          0   \n",
       "620       0.0              0        3                    1          1   \n",
       "621       0.0              0        3                    1          1   \n",
       "622       0.0              0        3                    1          0   \n",
       "623       0.0              0        3                    1          0   \n",
       "\n",
       "     repetition  actor  sex  filename  frame_count  ...  stft_max_w4  \\\n",
       "0             0     19    1         0    -0.799992  ...          0.0   \n",
       "1             1     19    1         6    -0.933337  ...          0.0   \n",
       "2             0     19    1        12    -0.833333  ...          0.0   \n",
       "3             1     19    1        18    -0.866675  ...          0.0   \n",
       "4             0     19    1        24    -0.500000  ...          0.0   \n",
       "..          ...    ...  ...       ...          ...  ...          ...   \n",
       "619           1     24    0       599     0.399996  ...          0.0   \n",
       "620           0     24    0       605     0.366654  ...          0.0   \n",
       "621           1     24    0       611     0.133325  ...          0.0   \n",
       "622           0     24    0       617     0.066683  ...          0.0   \n",
       "623           1     24    0       623     0.266671  ...          0.0   \n",
       "\n",
       "     stft_q01_w4  stft_q05_w4  stft_q25_w4  stft_q50_w4  stft_q75_w4  \\\n",
       "0       1.846860     1.438353     0.923724     1.163427     1.195101   \n",
       "1       0.860672     0.625835     0.496705     0.589635     0.421714   \n",
       "2      -0.209609     0.739130     0.594399     0.676856     0.852183   \n",
       "3       2.292273     1.301058     0.799169     1.033418     1.126866   \n",
       "4       1.789930     1.120652     0.814457     0.998068     1.171144   \n",
       "..           ...          ...          ...          ...          ...   \n",
       "619    -0.356398    -0.525285     0.134029     0.030574    -0.190061   \n",
       "620    -0.350657    -0.544253    -0.571400    -1.343427    -1.688882   \n",
       "621    -0.344234    -0.518927    -0.844303    -1.622815    -2.158046   \n",
       "622    -0.234289    -0.298783    -0.223406    -0.614824    -0.867540   \n",
       "623    -0.293371    -0.427973    -0.006005    -0.214794    -0.409343   \n",
       "\n",
       "     stft_q95_w4  stft_q99_w4  stft_kur_w4  stft_skew_w4  \n",
       "0            0.0          0.0     0.932578     -0.373546  \n",
       "1            0.0          0.0     0.613070     -0.426190  \n",
       "2            0.0          0.0     2.613672     -1.180915  \n",
       "3            0.0          0.0    -0.137750      0.092519  \n",
       "4            0.0          0.0     0.408864     -0.324605  \n",
       "..           ...          ...          ...           ...  \n",
       "619          0.0          0.0     0.486514     -0.831059  \n",
       "620          0.0          0.0    -0.237622      0.681947  \n",
       "621          0.0          0.0    -0.464793      1.062827  \n",
       "622          0.0          0.0     0.155275      0.241435  \n",
       "623          0.0          0.0     0.406322     -0.493028  \n",
       "\n",
       "[624 rows x 434 columns]"
      ]
     },
     "execution_count": 11,
     "metadata": {},
     "output_type": "execute_result"
    }
   ],
   "source": [
    "#Normalization of the df_test\n",
    "\n",
    "df_test_copy=df_test\n",
    "print(\"These columns are categorical\")\n",
    "c=df_test_copy.select_dtypes(include=['object']).columns.tolist()\n",
    "\n",
    "le=preprocessing.LabelEncoder()\n",
    "for i in c:\n",
    "    df_test_copy[i]=le.fit_transform(df_test_copy[i])\n",
    "\n",
    "# Normalizzazione delle variabili numeriche pure\n",
    "\n",
    "df_test_normalized = df_test_copy.copy()\n",
    "numeric_features = [n for n in df_test_normalized.columns if n!=\"emotion\" and n!= \"vocal_channel\" and n!= \"emotional_intensity\" and n!= \"statement\" and n!= \"repetition\" and n!= \"sex\" and n!=\"filename\" and n!=\"actor\"]\n",
    "scaler = RobustScaler()\n",
    "scaled_features = scaler.fit_transform(df_test_normalized[numeric_features])\n",
    "df_test_normalized[numeric_features] = scaled_features\n",
    "\n",
    "df_test_normalized"
   ]
  },
  {
   "cell_type": "code",
   "execution_count": 12,
   "metadata": {},
   "outputs": [],
   "source": [
    "col=[x for x in df_normalized.columns if x!=\"emotion\"]\n",
    "X=df_normalized[col].values\n",
    "y = np.array(df_normalized[\"emotion\"])\n",
    "\n",
    "#holdout\n",
    "X_train, X_test, y_train, y_test = train_test_split(\n",
    "    X, y, test_size=0.3, stratify=y, random_state=0\n",
    ")"
   ]
  },
  {
   "cell_type": "code",
   "execution_count": 13,
   "metadata": {},
   "outputs": [
    {
     "data": {
      "text/plain": [
       "((array([0, 1, 2, 3, 4, 5, 6, 7]),\n",
       "  array([196, 196, 101, 196, 196,  98, 196, 100], dtype=int64)),\n",
       " (array([0, 1, 2, 3, 4, 5, 6, 7]),\n",
       "  array([84, 84, 43, 84, 84, 42, 84, 44], dtype=int64)))"
      ]
     },
     "execution_count": 13,
     "metadata": {},
     "output_type": "execute_result"
    }
   ],
   "source": [
    "np.unique(y_train, return_counts=True), np.unique(y_test, return_counts=True)"
   ]
  },
  {
   "attachments": {},
   "cell_type": "markdown",
   "metadata": {},
   "source": [
    "Learner utilizzati: KNN, DT"
   ]
  },
  {
   "cell_type": "code",
   "execution_count": 14,
   "metadata": {},
   "outputs": [],
   "source": [
    "learner_KNN = KNeighborsClassifier(n_neighbors= 14, metric= 'euclidean', weights= 'distance')\n",
    "learner_DT= DecisionTreeClassifier(max_depth=20,min_samples_leaf=15,min_samples_split=2)"
   ]
  },
  {
   "attachments": {},
   "cell_type": "markdown",
   "metadata": {},
   "source": [
    "TODO: creare nuovo notebook dove fare gridsearch per DT,KNN dopodichè provare i diversi metodi di undersampling e reduction e poi provare classificazione su di questi."
   ]
  },
  {
   "attachments": {},
   "cell_type": "markdown",
   "metadata": {},
   "source": [
    "# Esperimento 1: Undersampling + Dim.Reduction + New classification with tuned hyperpamaters"
   ]
  },
  {
   "attachments": {},
   "cell_type": "markdown",
   "metadata": {},
   "source": [
    "Random Undersampling"
   ]
  },
  {
   "cell_type": "code",
   "execution_count": 15,
   "metadata": {},
   "outputs": [
    {
     "name": "stdout",
     "output_type": "stream",
     "text": [
      "Resampled dataset shape Counter({0: 98, 1: 98, 2: 98, 3: 98, 4: 98, 5: 98, 6: 98, 7: 98})\n"
     ]
    }
   ],
   "source": [
    "# Random Undersampler\n",
    "rus = RandomUnderSampler(random_state=42)\n",
    "X_res, y_res = rus.fit_resample(X_train, y_train)\n",
    "print('Resampled dataset shape %s' % Counter(y_res))"
   ]
  },
  {
   "cell_type": "code",
   "execution_count": 16,
   "metadata": {},
   "outputs": [
    {
     "name": "stdout",
     "output_type": "stream",
     "text": [
      "              precision    recall  f1-score   support\n",
      "\n",
      "           0       0.93      0.96      0.95        84\n",
      "           1       0.97      0.86      0.91        84\n",
      "           2       1.00      0.98      0.99        43\n",
      "           3       1.00      0.98      0.99        84\n",
      "           4       0.94      0.95      0.95        84\n",
      "           5       0.86      1.00      0.92        42\n",
      "           6       0.94      0.95      0.95        84\n",
      "           7       0.98      1.00      0.99        44\n",
      "\n",
      "    accuracy                           0.95       549\n",
      "   macro avg       0.95      0.96      0.96       549\n",
      "weighted avg       0.95      0.95      0.95       549\n",
      "\n"
     ]
    }
   ],
   "source": [
    "classifier = learner_KNN.fit(X_res, y_res)\n",
    "predictions = classifier.predict(X_test)\n",
    "print(classification_report(y_test,predictions))"
   ]
  },
  {
   "cell_type": "code",
   "execution_count": 17,
   "metadata": {},
   "outputs": [
    {
     "name": "stdout",
     "output_type": "stream",
     "text": [
      "              precision    recall  f1-score   support\n",
      "\n",
      "           0       0.41      0.50      0.45        96\n",
      "           1       0.00      0.00      0.00        96\n",
      "           2       0.00      0.00      0.00        48\n",
      "           3       0.00      0.00      0.00        96\n",
      "           4       0.00      0.00      0.00        96\n",
      "           5       0.27      0.50      0.35        48\n",
      "           6       0.17      0.27      0.21        96\n",
      "           7       0.00      0.00      0.00        48\n",
      "\n",
      "    accuracy                           0.16       624\n",
      "   macro avg       0.11      0.16      0.13       624\n",
      "weighted avg       0.11      0.16      0.13       624\n",
      "\n"
     ]
    }
   ],
   "source": [
    "# Now train classifier with the entire train_dataset and test it on the test_dataset\n",
    "X_res_test, y_res_test = rus.fit_resample(X, y)\n",
    "\n",
    "col=[x for x in df_test_normalized.columns if x!=\"emotion\"]\n",
    "X_new=df_test_normalized[col].values\n",
    "y_new = np.array(df_test_normalized[\"emotion\"])\n",
    "classifier = learner_KNN.fit(X_res_test, y_res_test)\n",
    "predictions = classifier.predict(X_new)\n",
    "print(classification_report(y_new,predictions,zero_division=0))"
   ]
  },
  {
   "cell_type": "code",
   "execution_count": 18,
   "metadata": {},
   "outputs": [
    {
     "name": "stdout",
     "output_type": "stream",
     "text": [
      "              precision    recall  f1-score   support\n",
      "\n",
      "           0       0.96      0.98      0.97        84\n",
      "           1       1.00      0.95      0.98        84\n",
      "           2       1.00      1.00      1.00        43\n",
      "           3       0.98      1.00      0.99        84\n",
      "           4       1.00      1.00      1.00        84\n",
      "           5       0.91      0.98      0.94        42\n",
      "           6       1.00      0.96      0.98        84\n",
      "           7       0.98      1.00      0.99        44\n",
      "\n",
      "    accuracy                           0.98       549\n",
      "   macro avg       0.98      0.98      0.98       549\n",
      "weighted avg       0.98      0.98      0.98       549\n",
      "\n"
     ]
    }
   ],
   "source": [
    "classifier = learner_DT.fit(X_res, y_res)\n",
    "predictions = classifier.predict(X_test)\n",
    "print(classification_report(y_test,predictions))"
   ]
  },
  {
   "cell_type": "code",
   "execution_count": 19,
   "metadata": {},
   "outputs": [
    {
     "name": "stdout",
     "output_type": "stream",
     "text": [
      "              precision    recall  f1-score   support\n",
      "\n",
      "           0       0.40      0.50      0.44        96\n",
      "           1       0.00      0.00      0.00        96\n",
      "           2       0.00      0.00      0.00        48\n",
      "           3       0.00      0.00      0.00        96\n",
      "           4       0.00      0.00      0.00        96\n",
      "           5       0.33      0.50      0.40        48\n",
      "           6       0.17      0.25      0.20        96\n",
      "           7       0.00      0.00      0.00        48\n",
      "\n",
      "    accuracy                           0.15       624\n",
      "   macro avg       0.11      0.16      0.13       624\n",
      "weighted avg       0.11      0.15      0.13       624\n",
      "\n"
     ]
    }
   ],
   "source": [
    "# Now train classifier with the entire train_dataset and test it on the test_dataset\n",
    "X_res_test, y_res_test = rus.fit_resample(X, y)\n",
    "\n",
    "col=[x for x in df_test_normalized.columns if x!=\"emotion\"]\n",
    "X_new=df_test_normalized[col].values\n",
    "y_new = np.array(df_test_normalized[\"emotion\"])\n",
    "classifier = learner_DT.fit(X_res_test, y_res_test)\n",
    "predictions = classifier.predict(X_new)\n",
    "print(classification_report(y_new,predictions,zero_division=0))"
   ]
  },
  {
   "attachments": {},
   "cell_type": "markdown",
   "metadata": {},
   "source": [
    "Condensed nearest neighbour"
   ]
  },
  {
   "cell_type": "code",
   "execution_count": 20,
   "metadata": {},
   "outputs": [
    {
     "name": "stdout",
     "output_type": "stream",
     "text": [
      "Resampled dataset shape Counter({5: 98, 1: 20, 7: 6, 4: 4, 3: 3, 0: 2, 6: 2, 2: 1})\n"
     ]
    }
   ],
   "source": [
    "import warnings\n",
    "warnings.simplefilter(\"ignore\")\n",
    "\n",
    "cnn = CondensedNearestNeighbour(random_state=42, n_jobs=10)\n",
    "X_res, y_res = cnn.fit_resample(X_train, y_train)\n",
    "print('Resampled dataset shape %s' % Counter(y_res))"
   ]
  },
  {
   "cell_type": "code",
   "execution_count": 21,
   "metadata": {},
   "outputs": [
    {
     "name": "stdout",
     "output_type": "stream",
     "text": [
      "              precision    recall  f1-score   support\n",
      "\n",
      "           0       0.93      0.44      0.60        84\n",
      "           1       0.25      0.79      0.38        84\n",
      "           2       1.00      0.21      0.35        43\n",
      "           3       0.98      0.49      0.65        84\n",
      "           4       1.00      0.07      0.13        84\n",
      "           5       0.29      1.00      0.45        42\n",
      "           6       1.00      0.26      0.42        84\n",
      "           7       0.05      0.02      0.03        44\n",
      "\n",
      "    accuracy                           0.41       549\n",
      "   macro avg       0.69      0.41      0.38       549\n",
      "weighted avg       0.74      0.41      0.40       549\n",
      "\n"
     ]
    }
   ],
   "source": [
    "classifier = learner_KNN.fit(X_res, y_res)\n",
    "predictions = classifier.predict(X_test)\n",
    "print(classification_report(y_test,predictions))"
   ]
  },
  {
   "cell_type": "code",
   "execution_count": 22,
   "metadata": {},
   "outputs": [
    {
     "name": "stdout",
     "output_type": "stream",
     "text": [
      "              precision    recall  f1-score   support\n",
      "\n",
      "           0       0.06      0.03      0.04        96\n",
      "           1       0.09      0.34      0.15        96\n",
      "           2       0.00      0.00      0.00        48\n",
      "           3       0.00      0.00      0.00        96\n",
      "           4       0.00      0.00      0.00        96\n",
      "           5       0.14      0.50      0.22        48\n",
      "           6       0.02      0.01      0.01        96\n",
      "           7       0.00      0.00      0.00        48\n",
      "\n",
      "    accuracy                           0.10       624\n",
      "   macro avg       0.04      0.11      0.05       624\n",
      "weighted avg       0.04      0.10      0.05       624\n",
      "\n"
     ]
    }
   ],
   "source": [
    "# Now train classifier with the entire train_dataset and test it on the test_dataset\n",
    "X_res_test, y_res_test = cnn.fit_resample(X, y)\n",
    "\n",
    "col=[x for x in df_test_normalized.columns if x!=\"emotion\"]\n",
    "X_new=df_test_normalized[col].values\n",
    "y_new = np.array(df_test_normalized[\"emotion\"])\n",
    "classifier = learner_KNN.fit(X_res_test, y_res_test)\n",
    "predictions = classifier.predict(X_new)\n",
    "print(classification_report(y_new,predictions,zero_division=0))"
   ]
  },
  {
   "cell_type": "code",
   "execution_count": 23,
   "metadata": {},
   "outputs": [
    {
     "name": "stdout",
     "output_type": "stream",
     "text": [
      "              precision    recall  f1-score   support\n",
      "\n",
      "           0       0.00      0.00      0.00        84\n",
      "           1       0.21      0.51      0.30        84\n",
      "           2       0.00      0.00      0.00        43\n",
      "           3       0.00      0.00      0.00        84\n",
      "           4       0.00      0.00      0.00        84\n",
      "           5       0.12      1.00      0.22        42\n",
      "           6       0.00      0.00      0.00        84\n",
      "           7       0.00      0.00      0.00        44\n",
      "\n",
      "    accuracy                           0.15       549\n",
      "   macro avg       0.04      0.19      0.06       549\n",
      "weighted avg       0.04      0.15      0.06       549\n",
      "\n"
     ]
    }
   ],
   "source": [
    "classifier = learner_DT.fit(X_res, y_res)\n",
    "predictions = classifier.predict(X_test)\n",
    "print(classification_report(y_test,predictions))"
   ]
  },
  {
   "cell_type": "code",
   "execution_count": 24,
   "metadata": {},
   "outputs": [
    {
     "name": "stdout",
     "output_type": "stream",
     "text": [
      "              precision    recall  f1-score   support\n",
      "\n",
      "           0       0.00      0.00      0.00        96\n",
      "           1       0.00      0.00      0.00        96\n",
      "           2       0.00      0.00      0.00        48\n",
      "           3       0.00      0.00      0.00        96\n",
      "           4       0.00      0.00      0.00        96\n",
      "           5       0.08      1.00      0.14        48\n",
      "           6       0.00      0.00      0.00        96\n",
      "           7       0.00      0.00      0.00        48\n",
      "\n",
      "    accuracy                           0.08       624\n",
      "   macro avg       0.01      0.12      0.02       624\n",
      "weighted avg       0.01      0.08      0.01       624\n",
      "\n"
     ]
    }
   ],
   "source": [
    "# Now train classifier with the entire train_dataset and test it on the test_dataset\n",
    "X_res_test, y_res_test = cnn.fit_resample(X, y)\n",
    "\n",
    "col=[x for x in df_test_normalized.columns if x!=\"emotion\"]\n",
    "X_new=df_test_normalized[col].values\n",
    "y_new = np.array(df_test_normalized[\"emotion\"])\n",
    "classifier = learner_DT.fit(X_res_test, y_res_test)\n",
    "predictions = classifier.predict(X_new)\n",
    "print(classification_report(y_new,predictions,zero_division=0))"
   ]
  },
  {
   "attachments": {},
   "cell_type": "markdown",
   "metadata": {},
   "source": [
    "Tomek Links"
   ]
  },
  {
   "cell_type": "code",
   "execution_count": 25,
   "metadata": {},
   "outputs": [
    {
     "name": "stdout",
     "output_type": "stream",
     "text": [
      "Resampled dataset shape Counter({3: 196, 0: 194, 4: 194, 6: 194, 1: 193, 2: 101, 7: 100, 5: 98})\n"
     ]
    }
   ],
   "source": [
    "tl = TomekLinks()\n",
    "X_res, y_res = tl.fit_resample(X_train, y_train)\n",
    "print('Resampled dataset shape %s' % Counter(y_res))"
   ]
  },
  {
   "cell_type": "code",
   "execution_count": 26,
   "metadata": {},
   "outputs": [
    {
     "name": "stdout",
     "output_type": "stream",
     "text": [
      "              precision    recall  f1-score   support\n",
      "\n",
      "           0       0.95      0.96      0.96        84\n",
      "           1       1.00      0.95      0.98        84\n",
      "           2       1.00      0.98      0.99        43\n",
      "           3       0.99      0.99      0.99        84\n",
      "           4       0.98      0.96      0.97        84\n",
      "           5       0.95      0.98      0.96        42\n",
      "           6       0.94      0.96      0.95        84\n",
      "           7       0.96      1.00      0.98        44\n",
      "\n",
      "    accuracy                           0.97       549\n",
      "   macro avg       0.97      0.97      0.97       549\n",
      "weighted avg       0.97      0.97      0.97       549\n",
      "\n"
     ]
    }
   ],
   "source": [
    "classifier = learner_KNN.fit(X_res, y_res)\n",
    "predictions = classifier.predict(X_test)\n",
    "print(classification_report(y_test,predictions))"
   ]
  },
  {
   "cell_type": "code",
   "execution_count": 27,
   "metadata": {},
   "outputs": [
    {
     "name": "stdout",
     "output_type": "stream",
     "text": [
      "              precision    recall  f1-score   support\n",
      "\n",
      "           0       0.41      0.50      0.45        96\n",
      "           1       0.02      0.03      0.03        96\n",
      "           2       0.00      0.00      0.00        48\n",
      "           3       0.00      0.00      0.00        96\n",
      "           4       0.00      0.00      0.00        96\n",
      "           5       0.31      0.50      0.38        48\n",
      "           6       0.19      0.29      0.23        96\n",
      "           7       0.00      0.00      0.00        48\n",
      "\n",
      "    accuracy                           0.17       624\n",
      "   macro avg       0.12      0.17      0.14       624\n",
      "weighted avg       0.12      0.17      0.14       624\n",
      "\n"
     ]
    }
   ],
   "source": [
    "# Now train classifier with the entire train_dataset and test it on the test_dataset\n",
    "X_res_test, y_res_test = tl.fit_resample(X, y)\n",
    "\n",
    "col=[x for x in df_test_normalized.columns if x!=\"emotion\"]\n",
    "X_new=df_test_normalized[col].values\n",
    "y_new = np.array(df_test_normalized[\"emotion\"])\n",
    "classifier = learner_KNN.fit(X_res_test, y_res_test)\n",
    "predictions = classifier.predict(X_new)\n",
    "print(classification_report(y_new,predictions,zero_division=0))"
   ]
  },
  {
   "cell_type": "code",
   "execution_count": 28,
   "metadata": {},
   "outputs": [
    {
     "name": "stdout",
     "output_type": "stream",
     "text": [
      "              precision    recall  f1-score   support\n",
      "\n",
      "           0       0.98      0.99      0.98        84\n",
      "           1       1.00      0.98      0.99        84\n",
      "           2       1.00      1.00      1.00        43\n",
      "           3       0.99      0.99      0.99        84\n",
      "           4       1.00      1.00      1.00        84\n",
      "           5       0.95      1.00      0.98        42\n",
      "           6       1.00      0.99      0.99        84\n",
      "           7       1.00      1.00      1.00        44\n",
      "\n",
      "    accuracy                           0.99       549\n",
      "   macro avg       0.99      0.99      0.99       549\n",
      "weighted avg       0.99      0.99      0.99       549\n",
      "\n"
     ]
    }
   ],
   "source": [
    "classifier = learner_DT.fit(X_res, y_res)\n",
    "predictions = classifier.predict(X_test)\n",
    "print(classification_report(y_test,predictions))"
   ]
  },
  {
   "cell_type": "code",
   "execution_count": 29,
   "metadata": {},
   "outputs": [
    {
     "name": "stdout",
     "output_type": "stream",
     "text": [
      "              precision    recall  f1-score   support\n",
      "\n",
      "           0       0.40      0.50      0.44        96\n",
      "           1       0.00      0.00      0.00        96\n",
      "           2       0.00      0.00      0.00        48\n",
      "           3       0.00      0.00      0.00        96\n",
      "           4       0.00      0.00      0.00        96\n",
      "           5       0.33      0.50      0.40        48\n",
      "           6       0.17      0.25      0.20        96\n",
      "           7       0.00      0.00      0.00        48\n",
      "\n",
      "    accuracy                           0.15       624\n",
      "   macro avg       0.11      0.16      0.13       624\n",
      "weighted avg       0.11      0.15      0.13       624\n",
      "\n"
     ]
    }
   ],
   "source": [
    "# Now train classifier with the entire train_dataset and test it on the test_dataset\n",
    "X_res_test, y_res_test = tl.fit_resample(X, y)\n",
    "\n",
    "col=[x for x in df_test_normalized.columns if x!=\"emotion\"]\n",
    "X_new=df_test_normalized[col].values\n",
    "y_new = np.array(df_test_normalized[\"emotion\"])\n",
    "classifier = learner_DT.fit(X_res_test, y_res_test)\n",
    "predictions = classifier.predict(X_new)\n",
    "print(classification_report(y_new,predictions,zero_division=0))"
   ]
  },
  {
   "attachments": {},
   "cell_type": "markdown",
   "metadata": {},
   "source": [
    "Edited Nearest Neighbour"
   ]
  },
  {
   "cell_type": "code",
   "execution_count": 30,
   "metadata": {},
   "outputs": [
    {
     "name": "stdout",
     "output_type": "stream",
     "text": [
      "Resampled dataset shape Counter({3: 184, 6: 177, 0: 174, 4: 173, 1: 172, 5: 98, 2: 95, 7: 95})\n"
     ]
    }
   ],
   "source": [
    "enn = EditedNearestNeighbours()\n",
    "X_res, y_res = enn.fit_resample(X_train, y_train)\n",
    "print('Resampled dataset shape %s' % Counter(y_res))"
   ]
  },
  {
   "cell_type": "code",
   "execution_count": 31,
   "metadata": {},
   "outputs": [
    {
     "name": "stdout",
     "output_type": "stream",
     "text": [
      "              precision    recall  f1-score   support\n",
      "\n",
      "           0       0.93      0.94      0.93        84\n",
      "           1       0.99      0.89      0.94        84\n",
      "           2       1.00      0.98      0.99        43\n",
      "           3       0.98      0.99      0.98        84\n",
      "           4       0.96      0.94      0.95        84\n",
      "           5       0.87      0.98      0.92        42\n",
      "           6       0.92      0.94      0.93        84\n",
      "           7       0.96      1.00      0.98        44\n",
      "\n",
      "    accuracy                           0.95       549\n",
      "   macro avg       0.95      0.96      0.95       549\n",
      "weighted avg       0.95      0.95      0.95       549\n",
      "\n"
     ]
    }
   ],
   "source": [
    "classifier = learner_KNN.fit(X_res, y_res)\n",
    "predictions = classifier.predict(X_test)\n",
    "print(classification_report(y_test,predictions))"
   ]
  },
  {
   "cell_type": "code",
   "execution_count": 32,
   "metadata": {},
   "outputs": [
    {
     "name": "stdout",
     "output_type": "stream",
     "text": [
      "              precision    recall  f1-score   support\n",
      "\n",
      "           0       0.40      0.50      0.45        96\n",
      "           1       0.01      0.01      0.01        96\n",
      "           2       0.00      0.00      0.00        48\n",
      "           3       0.00      0.00      0.00        96\n",
      "           4       0.00      0.00      0.00        96\n",
      "           5       0.28      0.50      0.36        48\n",
      "           6       0.17      0.26      0.20        96\n",
      "           7       0.00      0.00      0.00        48\n",
      "\n",
      "    accuracy                           0.16       624\n",
      "   macro avg       0.11      0.16      0.13       624\n",
      "weighted avg       0.11      0.16      0.13       624\n",
      "\n"
     ]
    }
   ],
   "source": [
    "# Now train classifier with the entire train_dataset and test it on the test_dataset\n",
    "X_res_test, y_res_test = enn.fit_resample(X, y)\n",
    "\n",
    "col=[x for x in df_test_normalized.columns if x!=\"emotion\"]\n",
    "X_new=df_test_normalized[col].values\n",
    "y_new = np.array(df_test_normalized[\"emotion\"])\n",
    "classifier = learner_KNN.fit(X_res_test, y_res_test)\n",
    "predictions = classifier.predict(X_new)\n",
    "print(classification_report(y_new,predictions,zero_division=0))"
   ]
  },
  {
   "cell_type": "code",
   "execution_count": 33,
   "metadata": {},
   "outputs": [
    {
     "name": "stdout",
     "output_type": "stream",
     "text": [
      "              precision    recall  f1-score   support\n",
      "\n",
      "           0       0.98      0.98      0.98        84\n",
      "           1       0.99      0.94      0.96        84\n",
      "           2       1.00      1.00      1.00        43\n",
      "           3       0.98      0.99      0.98        84\n",
      "           4       1.00      0.98      0.99        84\n",
      "           5       0.89      1.00      0.94        42\n",
      "           6       0.99      0.99      0.99        84\n",
      "           7       1.00      1.00      1.00        44\n",
      "\n",
      "    accuracy                           0.98       549\n",
      "   macro avg       0.98      0.98      0.98       549\n",
      "weighted avg       0.98      0.98      0.98       549\n",
      "\n"
     ]
    }
   ],
   "source": [
    "classifier = learner_DT.fit(X_res, y_res)\n",
    "predictions = classifier.predict(X_test)\n",
    "print(classification_report(y_test,predictions))"
   ]
  },
  {
   "cell_type": "code",
   "execution_count": 34,
   "metadata": {},
   "outputs": [
    {
     "name": "stdout",
     "output_type": "stream",
     "text": [
      "              precision    recall  f1-score   support\n",
      "\n",
      "           0       0.40      0.50      0.44        96\n",
      "           1       0.00      0.00      0.00        96\n",
      "           2       0.00      0.00      0.00        48\n",
      "           3       0.00      0.00      0.00        96\n",
      "           4       0.00      0.00      0.00        96\n",
      "           5       0.33      0.50      0.40        48\n",
      "           6       0.16      0.24      0.19        96\n",
      "           7       0.00      0.00      0.00        48\n",
      "\n",
      "    accuracy                           0.15       624\n",
      "   macro avg       0.11      0.15      0.13       624\n",
      "weighted avg       0.11      0.15      0.13       624\n",
      "\n"
     ]
    }
   ],
   "source": [
    "# Now train classifier with the entire train_dataset and test it on the test_dataset\n",
    "X_res_test, y_res_test = enn.fit_resample(X, y)\n",
    "\n",
    "col=[x for x in df_test_normalized.columns if x!=\"emotion\"]\n",
    "X_new=df_test_normalized[col].values\n",
    "y_new = np.array(df_test_normalized[\"emotion\"])\n",
    "classifier = learner_DT.fit(X_res_test, y_res_test)\n",
    "predictions = classifier.predict(X_new)\n",
    "print(classification_report(y_new,predictions,zero_division=0))"
   ]
  },
  {
   "attachments": {},
   "cell_type": "markdown",
   "metadata": {},
   "source": [
    "Cluster Centroids"
   ]
  },
  {
   "cell_type": "code",
   "execution_count": 35,
   "metadata": {},
   "outputs": [
    {
     "name": "stdout",
     "output_type": "stream",
     "text": [
      "Resampled dataset shape Counter({0: 140, 1: 140, 2: 140, 3: 140, 4: 140, 5: 140, 6: 140, 7: 140})\n"
     ]
    }
   ],
   "source": [
    "from sklearn.cluster import MiniBatchKMeans\n",
    "from imblearn.under_sampling import ClusterCentroids\n",
    "\n",
    "cc = ClusterCentroids(\n",
    "    estimator=MiniBatchKMeans(n_init=1, random_state=0), random_state=42 # minibatch version is faster than Kmeans\n",
    ")\n",
    "X_res, y_res = cc.fit_resample(X, y)\n",
    "print('Resampled dataset shape %s' % Counter(y_res))"
   ]
  },
  {
   "cell_type": "code",
   "execution_count": 36,
   "metadata": {},
   "outputs": [
    {
     "data": {
      "image/png": "[encoded data removed]",
      "text/plain": [
       "<Figure size 432x288 with 1 Axes>"
      ]
     },
     "metadata": {
      "needs_background": "light"
     },
     "output_type": "display_data"
    }
   ],
   "source": [
    "pca = PCA(n_components=2)\n",
    "pca.fit(X_train)\n",
    "X_pca = pca.transform(X_res)\n",
    "\n",
    "plt.scatter(X_pca[:, 0], X_pca[:, 1], c=y_res, cmap=plt.cm.prism, edgecolor='k', alpha=0.7)\n",
    "plt.show()"
   ]
  },
  {
   "cell_type": "code",
   "execution_count": 37,
   "metadata": {},
   "outputs": [
    {
     "name": "stdout",
     "output_type": "stream",
     "text": [
      "              precision    recall  f1-score   support\n",
      "\n",
      "           0       1.00      0.98      0.99        84\n",
      "           1       0.95      0.92      0.93        84\n",
      "           2       1.00      1.00      1.00        43\n",
      "           3       0.98      1.00      0.99        84\n",
      "           4       1.00      0.94      0.97        84\n",
      "           5       0.86      1.00      0.92        42\n",
      "           6       0.99      1.00      0.99        84\n",
      "           7       1.00      1.00      1.00        44\n",
      "\n",
      "    accuracy                           0.97       549\n",
      "   macro avg       0.97      0.98      0.97       549\n",
      "weighted avg       0.98      0.97      0.97       549\n",
      "\n"
     ]
    }
   ],
   "source": [
    "classifier = learner_KNN.fit(X_res, y_res)\n",
    "predictions = classifier.predict(X_test)\n",
    "print(classification_report(y_test,predictions))"
   ]
  },
  {
   "cell_type": "code",
   "execution_count": 38,
   "metadata": {},
   "outputs": [
    {
     "name": "stdout",
     "output_type": "stream",
     "text": [
      "              precision    recall  f1-score   support\n",
      "\n",
      "           0       0.42      0.50      0.46        96\n",
      "           1       0.00      0.00      0.00        96\n",
      "           2       0.00      0.00      0.00        48\n",
      "           3       0.00      0.00      0.00        96\n",
      "           4       0.00      0.00      0.00        96\n",
      "           5       0.27      0.50      0.35        48\n",
      "           6       0.21      0.31      0.25        96\n",
      "           7       0.00      0.00      0.00        48\n",
      "\n",
      "    accuracy                           0.16       624\n",
      "   macro avg       0.11      0.16      0.13       624\n",
      "weighted avg       0.12      0.16      0.14       624\n",
      "\n"
     ]
    }
   ],
   "source": [
    "# Now train classifier with the entire train_dataset and test it on the test_dataset\n",
    "X_res_test, y_res_test = cc.fit_resample(X, y)\n",
    "\n",
    "col=[x for x in df_test_normalized.columns if x!=\"emotion\"]\n",
    "X_new=df_test_normalized[col].values\n",
    "y_new = np.array(df_test_normalized[\"emotion\"])\n",
    "classifier = learner_KNN.fit(X_res_test, y_res_test)\n",
    "predictions = classifier.predict(X_new)\n",
    "print(classification_report(y_new,predictions,zero_division=0))"
   ]
  },
  {
   "cell_type": "code",
   "execution_count": 39,
   "metadata": {},
   "outputs": [
    {
     "name": "stdout",
     "output_type": "stream",
     "text": [
      "              precision    recall  f1-score   support\n",
      "\n",
      "           0       0.99      1.00      0.99        84\n",
      "           1       1.00      0.96      0.98        84\n",
      "           2       1.00      1.00      1.00        43\n",
      "           3       1.00      0.99      0.99        84\n",
      "           4       1.00      1.00      1.00        84\n",
      "           5       0.93      1.00      0.97        42\n",
      "           6       1.00      1.00      1.00        84\n",
      "           7       1.00      1.00      1.00        44\n",
      "\n",
      "    accuracy                           0.99       549\n",
      "   macro avg       0.99      0.99      0.99       549\n",
      "weighted avg       0.99      0.99      0.99       549\n",
      "\n"
     ]
    }
   ],
   "source": [
    "classifier = learner_DT.fit(X_res, y_res)\n",
    "predictions = classifier.predict(X_test)\n",
    "print(classification_report(y_test,predictions))"
   ]
  },
  {
   "cell_type": "code",
   "execution_count": 40,
   "metadata": {},
   "outputs": [
    {
     "name": "stdout",
     "output_type": "stream",
     "text": [
      "              precision    recall  f1-score   support\n",
      "\n",
      "           0       0.41      0.50      0.45        96\n",
      "           1       0.00      0.00      0.00        96\n",
      "           2       0.00      0.00      0.00        48\n",
      "           3       0.00      0.00      0.00        96\n",
      "           4       0.00      0.00      0.00        96\n",
      "           5       0.32      0.50      0.39        48\n",
      "           6       0.18      0.27      0.21        96\n",
      "           7       0.00      0.00      0.00        48\n",
      "\n",
      "    accuracy                           0.16       624\n",
      "   macro avg       0.11      0.16      0.13       624\n",
      "weighted avg       0.11      0.16      0.13       624\n",
      "\n"
     ]
    }
   ],
   "source": [
    "# Now train classifier with the entire train_dataset and test it on the test_dataset\n",
    "X_res_test, y_res_test = cc.fit_resample(X, y)\n",
    "\n",
    "col=[x for x in df_test_normalized.columns if x!=\"emotion\"]\n",
    "X_new=df_test_normalized[col].values\n",
    "y_new = np.array(df_test_normalized[\"emotion\"])\n",
    "classifier = learner_DT.fit(X_res_test, y_res_test)\n",
    "predictions = classifier.predict(X_new)\n",
    "print(classification_report(y_new,predictions,zero_division=0))"
   ]
  },
  {
   "attachments": {},
   "cell_type": "markdown",
   "metadata": {},
   "source": [
    "# Esperimento 2: Oversampling + Dim.Reduction + New classification with tuned hyperparameters"
   ]
  },
  {
   "attachments": {},
   "cell_type": "markdown",
   "metadata": {},
   "source": [
    "Random Oversampler"
   ]
  },
  {
   "cell_type": "code",
   "execution_count": 41,
   "metadata": {},
   "outputs": [
    {
     "name": "stdout",
     "output_type": "stream",
     "text": [
      "Resampled dataset shape Counter({0: 196, 3: 196, 1: 196, 4: 196, 6: 196, 5: 196, 2: 196, 7: 196})\n"
     ]
    }
   ],
   "source": [
    "ros = RandomOverSampler(random_state=42)\n",
    "X_res, y_res = ros.fit_resample(X_train, y_train)\n",
    "print('Resampled dataset shape %s' % Counter(y_res))"
   ]
  },
  {
   "cell_type": "code",
   "execution_count": 42,
   "metadata": {},
   "outputs": [
    {
     "name": "stdout",
     "output_type": "stream",
     "text": [
      "              precision    recall  f1-score   support\n",
      "\n",
      "           0       0.95      0.98      0.96        84\n",
      "           1       0.99      0.92      0.95        84\n",
      "           2       1.00      0.98      0.99        43\n",
      "           3       0.99      0.99      0.99        84\n",
      "           4       0.98      0.95      0.96        84\n",
      "           5       0.89      1.00      0.94        42\n",
      "           6       0.95      0.96      0.96        84\n",
      "           7       0.98      1.00      0.99        44\n",
      "\n",
      "    accuracy                           0.97       549\n",
      "   macro avg       0.97      0.97      0.97       549\n",
      "weighted avg       0.97      0.97      0.97       549\n",
      "\n"
     ]
    }
   ],
   "source": [
    "classifier = learner_KNN.fit(X_res, y_res)\n",
    "predictions = classifier.predict(X_test)\n",
    "print(classification_report(y_test,predictions))"
   ]
  },
  {
   "cell_type": "code",
   "execution_count": 43,
   "metadata": {},
   "outputs": [
    {
     "name": "stdout",
     "output_type": "stream",
     "text": [
      "              precision    recall  f1-score   support\n",
      "\n",
      "           0       0.42      0.50      0.46        96\n",
      "           1       0.00      0.00      0.00        96\n",
      "           2       0.00      0.00      0.00        48\n",
      "           3       0.00      0.00      0.00        96\n",
      "           4       0.00      0.00      0.00        96\n",
      "           5       0.27      0.50      0.35        48\n",
      "           6       0.21      0.31      0.25        96\n",
      "           7       0.00      0.00      0.00        48\n",
      "\n",
      "    accuracy                           0.16       624\n",
      "   macro avg       0.11      0.16      0.13       624\n",
      "weighted avg       0.12      0.16      0.14       624\n",
      "\n"
     ]
    }
   ],
   "source": [
    "# Now train classifier with the entire train_dataset and test it on the test_dataset\n",
    "X_res_test, y_res_test = cc.fit_resample(X, y)\n",
    "\n",
    "col=[x for x in df_test_normalized.columns if x!=\"emotion\"]\n",
    "X_new=df_test_normalized[col].values\n",
    "y_new = np.array(df_test_normalized[\"emotion\"])\n",
    "classifier = learner_KNN.fit(X_res_test, y_res_test)\n",
    "predictions = classifier.predict(X_new)\n",
    "print(classification_report(y_new,predictions,zero_division=0))"
   ]
  },
  {
   "cell_type": "code",
   "execution_count": 44,
   "metadata": {},
   "outputs": [
    {
     "name": "stdout",
     "output_type": "stream",
     "text": [
      "              precision    recall  f1-score   support\n",
      "\n",
      "           0       0.98      0.99      0.98        84\n",
      "           1       1.00      0.98      0.99        84\n",
      "           2       1.00      1.00      1.00        43\n",
      "           3       0.99      0.99      0.99        84\n",
      "           4       1.00      1.00      1.00        84\n",
      "           5       0.95      0.98      0.96        42\n",
      "           6       1.00      0.99      0.99        84\n",
      "           7       0.98      1.00      0.99        44\n",
      "\n",
      "    accuracy                           0.99       549\n",
      "   macro avg       0.99      0.99      0.99       549\n",
      "weighted avg       0.99      0.99      0.99       549\n",
      "\n"
     ]
    }
   ],
   "source": [
    "classifier = learner_DT.fit(X_res, y_res)\n",
    "predictions = classifier.predict(X_test)\n",
    "print(classification_report(y_test,predictions))"
   ]
  },
  {
   "cell_type": "code",
   "execution_count": 45,
   "metadata": {},
   "outputs": [
    {
     "name": "stdout",
     "output_type": "stream",
     "text": [
      "              precision    recall  f1-score   support\n",
      "\n",
      "           0       0.41      0.50      0.45        96\n",
      "           1       0.00      0.00      0.00        96\n",
      "           2       0.00      0.00      0.00        48\n",
      "           3       0.00      0.00      0.00        96\n",
      "           4       0.00      0.00      0.00        96\n",
      "           5       0.32      0.50      0.39        48\n",
      "           6       0.18      0.27      0.21        96\n",
      "           7       0.00      0.00      0.00        48\n",
      "\n",
      "    accuracy                           0.16       624\n",
      "   macro avg       0.11      0.16      0.13       624\n",
      "weighted avg       0.11      0.16      0.13       624\n",
      "\n"
     ]
    }
   ],
   "source": [
    "# Now train classifier with the entire train_dataset and test it on the test_dataset\n",
    "X_res_test, y_res_test = cc.fit_resample(X, y)\n",
    "\n",
    "col=[x for x in df_test_normalized.columns if x!=\"emotion\"]\n",
    "X_new=df_test_normalized[col].values\n",
    "y_new = np.array(df_test_normalized[\"emotion\"])\n",
    "classifier = learner_DT.fit(X_res_test, y_res_test)\n",
    "predictions = classifier.predict(X_new)\n",
    "print(classification_report(y_new,predictions,zero_division=0))"
   ]
  },
  {
   "attachments": {},
   "cell_type": "markdown",
   "metadata": {},
   "source": [
    "Smote"
   ]
  },
  {
   "cell_type": "code",
   "execution_count": 46,
   "metadata": {},
   "outputs": [
    {
     "name": "stdout",
     "output_type": "stream",
     "text": [
      "Resampled dataset shape Counter({0: 196, 3: 196, 1: 196, 4: 196, 6: 196, 5: 196, 2: 196, 7: 196})\n"
     ]
    }
   ],
   "source": [
    "sm = SMOTE(random_state=42)\n",
    "X_res, y_res = sm.fit_resample(X_train, y_train)\n",
    "print('Resampled dataset shape %s' % Counter(y_res))"
   ]
  },
  {
   "cell_type": "code",
   "execution_count": 47,
   "metadata": {},
   "outputs": [
    {
     "name": "stdout",
     "output_type": "stream",
     "text": [
      "              precision    recall  f1-score   support\n",
      "\n",
      "           0       0.95      0.98      0.96        84\n",
      "           1       0.99      0.89      0.94        84\n",
      "           2       1.00      0.98      0.99        43\n",
      "           3       0.99      0.99      0.99        84\n",
      "           4       0.98      0.95      0.96        84\n",
      "           5       0.86      1.00      0.92        42\n",
      "           6       0.95      0.96      0.96        84\n",
      "           7       0.98      1.00      0.99        44\n",
      "\n",
      "    accuracy                           0.96       549\n",
      "   macro avg       0.96      0.97      0.96       549\n",
      "weighted avg       0.97      0.96      0.96       549\n",
      "\n"
     ]
    }
   ],
   "source": [
    "classifier = learner_KNN.fit(X_res, y_res)\n",
    "predictions = classifier.predict(X_test)\n",
    "print(classification_report(y_test,predictions))"
   ]
  },
  {
   "cell_type": "code",
   "execution_count": 48,
   "metadata": {},
   "outputs": [
    {
     "name": "stdout",
     "output_type": "stream",
     "text": [
      "              precision    recall  f1-score   support\n",
      "\n",
      "           0       0.42      0.50      0.46        96\n",
      "           1       0.00      0.00      0.00        96\n",
      "           2       0.00      0.00      0.00        48\n",
      "           3       0.00      0.00      0.00        96\n",
      "           4       0.00      0.00      0.00        96\n",
      "           5       0.27      0.50      0.35        48\n",
      "           6       0.21      0.31      0.25        96\n",
      "           7       0.00      0.00      0.00        48\n",
      "\n",
      "    accuracy                           0.16       624\n",
      "   macro avg       0.11      0.16      0.13       624\n",
      "weighted avg       0.12      0.16      0.14       624\n",
      "\n"
     ]
    }
   ],
   "source": [
    "# Now train classifier with the entire train_dataset and test it on the test_dataset\n",
    "X_res_test, y_res_test = cc.fit_resample(X, y)\n",
    "\n",
    "col=[x for x in df_test_normalized.columns if x!=\"emotion\"]\n",
    "X_new=df_test_normalized[col].values\n",
    "y_new = np.array(df_test_normalized[\"emotion\"])\n",
    "classifier = learner_KNN.fit(X_res_test, y_res_test)\n",
    "predictions = classifier.predict(X_new)\n",
    "print(classification_report(y_new,predictions,zero_division=0))"
   ]
  },
  {
   "cell_type": "code",
   "execution_count": 49,
   "metadata": {},
   "outputs": [
    {
     "name": "stdout",
     "output_type": "stream",
     "text": [
      "              precision    recall  f1-score   support\n",
      "\n",
      "           0       0.98      0.99      0.98        84\n",
      "           1       1.00      0.98      0.99        84\n",
      "           2       1.00      1.00      1.00        43\n",
      "           3       0.99      0.99      0.99        84\n",
      "           4       1.00      1.00      1.00        84\n",
      "           5       0.95      1.00      0.98        42\n",
      "           6       1.00      0.99      0.99        84\n",
      "           7       1.00      1.00      1.00        44\n",
      "\n",
      "    accuracy                           0.99       549\n",
      "   macro avg       0.99      0.99      0.99       549\n",
      "weighted avg       0.99      0.99      0.99       549\n",
      "\n"
     ]
    }
   ],
   "source": [
    "classifier = learner_DT.fit(X_res, y_res)\n",
    "predictions = classifier.predict(X_test)\n",
    "print(classification_report(y_test,predictions))"
   ]
  },
  {
   "cell_type": "code",
   "execution_count": 50,
   "metadata": {},
   "outputs": [
    {
     "name": "stdout",
     "output_type": "stream",
     "text": [
      "              precision    recall  f1-score   support\n",
      "\n",
      "           0       0.41      0.50      0.45        96\n",
      "           1       0.00      0.00      0.00        96\n",
      "           2       0.00      0.00      0.00        48\n",
      "           3       0.00      0.00      0.00        96\n",
      "           4       0.00      0.00      0.00        96\n",
      "           5       0.32      0.50      0.39        48\n",
      "           6       0.18      0.27      0.21        96\n",
      "           7       0.00      0.00      0.00        48\n",
      "\n",
      "    accuracy                           0.16       624\n",
      "   macro avg       0.11      0.16      0.13       624\n",
      "weighted avg       0.11      0.16      0.13       624\n",
      "\n"
     ]
    }
   ],
   "source": [
    "# Now train classifier with the entire train_dataset and test it on the test_dataset\n",
    "X_res_test, y_res_test = cc.fit_resample(X, y)\n",
    "\n",
    "col=[x for x in df_test_normalized.columns if x!=\"emotion\"]\n",
    "X_new=df_test_normalized[col].values\n",
    "y_new = np.array(df_test_normalized[\"emotion\"])\n",
    "classifier = learner_DT.fit(X_res_test, y_res_test)\n",
    "predictions = classifier.predict(X_new)\n",
    "print(classification_report(y_new,predictions,zero_division=0))"
   ]
  },
  {
   "attachments": {},
   "cell_type": "markdown",
   "metadata": {},
   "source": [
    "Adasyn"
   ]
  },
  {
   "cell_type": "code",
   "execution_count": 53,
   "metadata": {},
   "outputs": [
    {
     "name": "stdout",
     "output_type": "stream",
     "text": [
      "Resampled dataset shape Counter({2: 200, 5: 199, 0: 196, 3: 196, 1: 196, 4: 196, 6: 196, 7: 196})\n"
     ]
    }
   ],
   "source": [
    "ada = ADASYN(random_state=42)\n",
    "X_res, y_res = ada.fit_resample(X_train, y_train)\n",
    "print('Resampled dataset shape %s' % Counter(y_res))"
   ]
  },
  {
   "cell_type": "code",
   "execution_count": 54,
   "metadata": {},
   "outputs": [
    {
     "name": "stdout",
     "output_type": "stream",
     "text": [
      "              precision    recall  f1-score   support\n",
      "\n",
      "           0       0.95      0.98      0.96        84\n",
      "           1       0.99      0.83      0.90        84\n",
      "           2       0.93      0.98      0.95        43\n",
      "           3       0.99      0.96      0.98        84\n",
      "           4       0.98      0.95      0.96        84\n",
      "           5       0.78      1.00      0.88        42\n",
      "           6       0.95      0.96      0.96        84\n",
      "           7       0.98      0.98      0.98        44\n",
      "\n",
      "    accuracy                           0.95       549\n",
      "   macro avg       0.94      0.96      0.95       549\n",
      "weighted avg       0.95      0.95      0.95       549\n",
      "\n"
     ]
    }
   ],
   "source": [
    "classifier = learner_KNN.fit(X_res, y_res)\n",
    "predictions = classifier.predict(X_test)\n",
    "print(classification_report(y_test,predictions))"
   ]
  },
  {
   "cell_type": "code",
   "execution_count": 55,
   "metadata": {},
   "outputs": [
    {
     "name": "stdout",
     "output_type": "stream",
     "text": [
      "              precision    recall  f1-score   support\n",
      "\n",
      "           0       0.42      0.50      0.46        96\n",
      "           1       0.00      0.00      0.00        96\n",
      "           2       0.00      0.00      0.00        48\n",
      "           3       0.00      0.00      0.00        96\n",
      "           4       0.00      0.00      0.00        96\n",
      "           5       0.27      0.50      0.35        48\n",
      "           6       0.21      0.31      0.25        96\n",
      "           7       0.00      0.00      0.00        48\n",
      "\n",
      "    accuracy                           0.16       624\n",
      "   macro avg       0.11      0.16      0.13       624\n",
      "weighted avg       0.12      0.16      0.14       624\n",
      "\n"
     ]
    }
   ],
   "source": [
    "# Now train classifier with the entire train_dataset and test it on the test_dataset\n",
    "X_res_test, y_res_test = cc.fit_resample(X, y)\n",
    "\n",
    "col=[x for x in df_test_normalized.columns if x!=\"emotion\"]\n",
    "X_new=df_test_normalized[col].values\n",
    "y_new = np.array(df_test_normalized[\"emotion\"])\n",
    "classifier = learner_KNN.fit(X_res_test, y_res_test)\n",
    "predictions = classifier.predict(X_new)\n",
    "print(classification_report(y_new,predictions,zero_division=0))"
   ]
  },
  {
   "cell_type": "code",
   "execution_count": 56,
   "metadata": {},
   "outputs": [
    {
     "name": "stdout",
     "output_type": "stream",
     "text": [
      "              precision    recall  f1-score   support\n",
      "\n",
      "           0       0.98      0.99      0.98        84\n",
      "           1       1.00      0.98      0.99        84\n",
      "           2       1.00      1.00      1.00        43\n",
      "           3       0.99      0.99      0.99        84\n",
      "           4       1.00      1.00      1.00        84\n",
      "           5       0.95      0.98      0.96        42\n",
      "           6       1.00      0.99      0.99        84\n",
      "           7       0.98      1.00      0.99        44\n",
      "\n",
      "    accuracy                           0.99       549\n",
      "   macro avg       0.99      0.99      0.99       549\n",
      "weighted avg       0.99      0.99      0.99       549\n",
      "\n"
     ]
    }
   ],
   "source": [
    "classifier = learner_DT.fit(X_res, y_res)\n",
    "predictions = classifier.predict(X_test)\n",
    "print(classification_report(y_test,predictions))"
   ]
  },
  {
   "cell_type": "code",
   "execution_count": 57,
   "metadata": {},
   "outputs": [
    {
     "name": "stdout",
     "output_type": "stream",
     "text": [
      "              precision    recall  f1-score   support\n",
      "\n",
      "           0       0.41      0.50      0.45        96\n",
      "           1       0.00      0.00      0.00        96\n",
      "           2       0.00      0.00      0.00        48\n",
      "           3       0.00      0.00      0.00        96\n",
      "           4       0.00      0.00      0.00        96\n",
      "           5       0.32      0.50      0.39        48\n",
      "           6       0.18      0.27      0.21        96\n",
      "           7       0.00      0.00      0.00        48\n",
      "\n",
      "    accuracy                           0.16       624\n",
      "   macro avg       0.11      0.16      0.13       624\n",
      "weighted avg       0.11      0.16      0.13       624\n",
      "\n"
     ]
    }
   ],
   "source": [
    "# Now train classifier with the entire train_dataset and test it on the test_dataset\n",
    "X_res_test, y_res_test = cc.fit_resample(X, y)\n",
    "\n",
    "col=[x for x in df_test_normalized.columns if x!=\"emotion\"]\n",
    "X_new=df_test_normalized[col].values\n",
    "y_new = np.array(df_test_normalized[\"emotion\"])\n",
    "classifier = learner_DT.fit(X_res_test, y_res_test)\n",
    "predictions = classifier.predict(X_new)\n",
    "print(classification_report(y_new,predictions,zero_division=0))"
   ]
  },
  {
   "attachments": {},
   "cell_type": "markdown",
   "metadata": {},
   "source": [
    "# Dimensionality Reduction"
   ]
  },
  {
   "cell_type": "code",
   "execution_count": 58,
   "metadata": {},
   "outputs": [],
   "source": [
    "from sklearn.feature_selection import VarianceThreshold"
   ]
  },
  {
   "cell_type": "code",
   "execution_count": 63,
   "metadata": {},
   "outputs": [
    {
     "name": "stdout",
     "output_type": "stream",
     "text": [
      "Train new shape: (1279, 368)\n",
      "Train original shape: (1279, 433)\n"
     ]
    }
   ],
   "source": [
    "sel = VarianceThreshold(threshold=(.8 * (1 - .8)))\n",
    "X_train_sel = sel.fit_transform(X_train)\n",
    "print(f\"Train new shape: {X_train_sel.shape}\\nTrain original shape: {X_train.shape}\")"
   ]
  },
  {
   "cell_type": "code",
   "execution_count": 64,
   "metadata": {},
   "outputs": [
    {
     "name": "stdout",
     "output_type": "stream",
     "text": [
      "              precision    recall  f1-score   support\n",
      "\n",
      "           0       0.95      0.98      0.96        84\n",
      "           1       0.99      0.95      0.97        84\n",
      "           2       1.00      0.98      0.99        43\n",
      "           3       0.99      0.99      0.99        84\n",
      "           4       0.98      0.95      0.96        84\n",
      "           5       0.95      0.98      0.96        42\n",
      "           6       0.95      0.96      0.96        84\n",
      "           7       0.96      1.00      0.98        44\n",
      "\n",
      "    accuracy                           0.97       549\n",
      "   macro avg       0.97      0.97      0.97       549\n",
      "weighted avg       0.97      0.97      0.97       549\n",
      "\n"
     ]
    }
   ],
   "source": [
    "X_test_sel = sel.transform(X_test)\n",
    "classifier = learner_KNN.fit(X_train_sel, y_train)\n",
    "predictions = classifier.predict(X_test_sel)\n",
    "print(classification_report(y_test,predictions))"
   ]
  },
  {
   "cell_type": "code",
   "execution_count": 67,
   "metadata": {},
   "outputs": [
    {
     "name": "stdout",
     "output_type": "stream",
     "text": [
      "Train new shape: (1279, 368)\n",
      "Train original shape: (1279, 433)\n"
     ]
    }
   ],
   "source": [
    "# Now train classifier with the entire train_dataset and test it on the test_dataset\n",
    "sel = VarianceThreshold(threshold=(.8 * (1 - .8)))\n",
    "X_sel = sel.fit_transform(X)\n",
    "print(f\"Train new shape: {X_train_sel.shape}\\nTrain original shape: {X_train.shape}\")"
   ]
  }
 ],
 "metadata": {
  "kernelspec": {
   "display_name": "base",
   "language": "python",
   "name": "python3"
  },
  "language_info": {
   "codemirror_mode": {
    "name": "ipython",
    "version": 3
   },
   "file_extension": ".py",
   "mimetype": "text/x-python",
   "name": "python",
   "nbconvert_exporter": "python",
   "pygments_lexer": "ipython3",
   "version": "3.9.12"
  },
  "orig_nbformat": 4,
  "vscode": {
   "interpreter": {
    "hash": "88279d2366fe020547cde40dd65aa0e3aa662a6ec1f3ca12d88834876c85e1a6"
   }
  }
 },
 "nbformat": 4,
 "nbformat_minor": 2
}
