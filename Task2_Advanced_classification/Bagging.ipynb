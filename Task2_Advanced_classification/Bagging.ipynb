{
 "cells": [
  {
   "cell_type": "code",
   "execution_count": 2,
   "metadata": {},
   "outputs": [],
   "source": [
    "import numpy as np\n",
    "import pandas as pd\n",
    "import matplotlib.pyplot as plt\n",
    "\n",
    "from collections import defaultdict\n",
    "from yellowbrick.contrib.classifier import DecisionViz\n",
    "from sklearn.decomposition import PCA\n",
    "from itertools import product\n",
    "from imblearn.datasets import make_imbalance\n",
    "from imblearn.over_sampling import RandomOverSampler\n",
    "from imblearn.under_sampling import RandomUnderSampler\n",
    "from yellowbrick.datasets import load_credit\n",
    "from yellowbrick.features import PCA as PCA\n",
    "from sklearn.neighbors import KNeighborsClassifier\n",
    "from sklearn.model_selection import train_test_split, cross_val_score \n",
    "from scikitplot.metrics import plot_precision_recall, plot_roc, plot_cumulative_gain, plot_lift_curve , plot_confusion_matrix\n",
    "from sklearn.metrics import roc_curve, auc, roc_auc_score\n",
    "from sklearn.model_selection import KFold\n",
    "from sklearn import tree\n",
    "from sklearn.model_selection import StratifiedKFold, cross_val_score\n",
    "from sklearn.metrics import accuracy_score, precision_score, recall_score, confusion_matrix, f1_score, classification_report\n",
    "from sklearn.metrics import (\n",
    "    accuracy_score,\n",
    "    f1_score,\n",
    "    classification_report,\n",
    "    confusion_matrix,\n",
    "    roc_auc_score,\n",
    "    ConfusionMatrixDisplay\n",
    ")\n",
    "import warnings\n",
    "warnings.filterwarnings(\"ignore\")"
   ]
  },
  {
   "cell_type": "code",
   "execution_count": 3,
   "metadata": {},
   "outputs": [],
   "source": [
    "df_train=pd.read_csv(\"../Dataset_prepared/Prepared_train.csv\")\n",
    "df_test=pd.read_csv(\"../Dataset_prepared/Prepared_test.csv\")"
   ]
  },
  {
   "cell_type": "code",
   "execution_count": 4,
   "metadata": {},
   "outputs": [],
   "source": [
    "df_train.drop('actor',axis=1,inplace=True)\n",
    "df_train.drop('filename',axis=1,inplace=True)\n",
    "\n",
    "df_test.drop('actor',axis=1,inplace=True)\n",
    "df_test.drop('filename',axis=1,inplace=True)"
   ]
  },
  {
   "cell_type": "code",
   "execution_count": 5,
   "metadata": {},
   "outputs": [
    {
     "data": {
      "text/plain": [
       "['vocal_channel',\n",
       " 'emotion',\n",
       " 'emotional_intensity',\n",
       " 'statement',\n",
       " 'repetition',\n",
       " 'sex']"
      ]
     },
     "execution_count": 5,
     "metadata": {},
     "output_type": "execute_result"
    }
   ],
   "source": [
    "c = df_train.select_dtypes(include=['object']).columns.tolist()\n",
    "\n",
    "c"
   ]
  },
  {
   "cell_type": "code",
   "execution_count": 6,
   "metadata": {},
   "outputs": [
    {
     "data": {
      "text/plain": [
       "['vocal_channel', 'emotional_intensity', 'statement', 'repetition', 'sex']"
      ]
     },
     "execution_count": 6,
     "metadata": {},
     "output_type": "execute_result"
    }
   ],
   "source": [
    "a =[x for x in c if x!='emotion']\n",
    "a"
   ]
  },
  {
   "cell_type": "code",
   "execution_count": 7,
   "metadata": {},
   "outputs": [],
   "source": [
    "from sklearn import preprocessing\n",
    "le=preprocessing.LabelEncoder()\n",
    "c = df_train.select_dtypes(include=['object']).columns.tolist()\n",
    "for i in a:\n",
    "    df_train[i]=le.fit_transform(df_train[i])\n",
    "\n",
    "for i in a:\n",
    "    df_test[i]=le.fit_transform(df_test[i])\n",
    "df_train['emotion']=le.fit_transform(df_train['emotion'])\n",
    "df_test['emotion']=le.fit_transform(df_test['emotion'])    "
   ]
  },
  {
   "cell_type": "code",
   "execution_count": 8,
   "metadata": {},
   "outputs": [],
   "source": [
    "from sklearn.preprocessing import RobustScaler,MinMaxScaler,StandardScaler, OneHotEncoder\n",
    "\n",
    "scaler = StandardScaler()\n",
    "numeric_features = [n for n in df_train.columns if n!=\"emotion\" and n!= \"vocal_channel\" and n!= \"emotional_intensity\" and n!= \"statement\" and n!= \"repetition\" and n!= \"sex\" and n!=\"filename\" and n!=\"actor\"]\n",
    "scaled_features = scaler.fit_transform(df_train[numeric_features])\n",
    "df_train[numeric_features] = scaled_features\n",
    "\n",
    "\n",
    "scaled_features_test = scaler.transform(df_test[numeric_features])\n",
    "df_test[numeric_features] = scaled_features_test\n",
    "\n"
   ]
  },
  {
   "cell_type": "code",
   "execution_count": 9,
   "metadata": {},
   "outputs": [],
   "source": [
    "col=[x for x in df_train.columns if x!=\"emotion\"]\n",
    "X_train=df_train[col].values\n",
    "y_train = np.array(df_train[\"emotion\"])"
   ]
  },
  {
   "cell_type": "code",
   "execution_count": 10,
   "metadata": {},
   "outputs": [],
   "source": [
    "X_test=df_test[col].values\n",
    "y_test = np.array(df_test[\"emotion\"])"
   ]
  },
  {
   "cell_type": "code",
   "execution_count": 11,
   "metadata": {},
   "outputs": [],
   "source": [
    "def print_confMatrix(y_test,y_test_pred):\n",
    "    cm=confusion_matrix(y_test, y_test_pred)\n",
    "    disp = ConfusionMatrixDisplay(confusion_matrix=cm,display_labels =le.classes_)\n",
    "    fig, ax = plt.subplots(figsize=(10,10))\n",
    "    disp.plot(ax=ax, xticks_rotation='vertical',cmap='Greens')\n",
    "    plt.show()"
   ]
  },
  {
   "cell_type": "code",
   "execution_count": 12,
   "metadata": {},
   "outputs": [],
   "source": [
    "def print_rocCurve(clf,X_test,y_test):\n",
    "    y_tmp=clf.predict_proba(X_test)\n",
    "    plot_roc(y_test, clf.predict_proba(X_test),figsize=(10,6))\n",
    "    plt.show()"
   ]
  },
  {
   "attachments": {},
   "cell_type": "markdown",
   "metadata": {},
   "source": [
    "BAGGING"
   ]
  },
  {
   "cell_type": "code",
   "execution_count": 13,
   "metadata": {},
   "outputs": [],
   "source": [
    "from sklearn.svm import SVC\n",
    "from sklearn.ensemble import BaggingClassifier\n",
    "from sklearn.model_selection import GridSearchCV,RandomizedSearchCV\n",
    "from sklearn.linear_model import LogisticRegression\n",
    "from sklearn.ensemble import RandomForestClassifier\n"
   ]
  },
  {
   "cell_type": "code",
   "execution_count": 14,
   "metadata": {},
   "outputs": [
    {
     "name": "stdout",
     "output_type": "stream",
     "text": [
      "Accuracy 0.46794871794871795\n",
      "F1-score [0.59919028 0.54545455 0.44247788 0.45882353 0.37362637 0.47826087\n",
      " 0.25373134 0.4556962 ]\n",
      "              precision    recall  f1-score   support\n",
      "\n",
      "           0       0.49      0.77      0.60        96\n",
      "           1       0.47      0.66      0.55        96\n",
      "           2       0.38      0.52      0.44        48\n",
      "           3       0.53      0.41      0.46        96\n",
      "           4       0.40      0.35      0.37        96\n",
      "           5       0.50      0.46      0.48        48\n",
      "           6       0.45      0.18      0.25        96\n",
      "           7       0.58      0.38      0.46        48\n",
      "\n",
      "    accuracy                           0.47       624\n",
      "   macro avg       0.47      0.46      0.45       624\n",
      "weighted avg       0.47      0.47      0.45       624\n",
      "\n"
     ]
    }
   ],
   "source": [
    "clf_SVC = BaggingClassifier(base_estimator=SVC(C = 0.1  , kernel = 'linear', tol = 1.0,decision_function_shape='ovo')\n",
    ",  random_state=0)\n",
    "\n",
    "clf_SVC.fit(X_train, y_train)\n",
    "\n",
    "y_pred = clf_SVC.predict(X_test)\n",
    "\n",
    "print('Accuracy %s' % accuracy_score(y_test, y_pred))\n",
    "print('F1-score %s' % f1_score(y_test, y_pred, average=None))\n",
    "print(classification_report(y_test, y_pred))"
   ]
  },
  {
   "cell_type": "code",
   "execution_count": 15,
   "metadata": {},
   "outputs": [
    {
     "name": "stdout",
     "output_type": "stream",
     "text": [
      "Accuracy 0.5064102564102564\n",
      "F1-score [0.66666667 0.56880734 0.53448276 0.50306748 0.44444444 0.32183908\n",
      " 0.30882353 0.53763441]\n",
      "              precision    recall  f1-score   support\n",
      "\n",
      "           0       0.58      0.79      0.67        96\n",
      "           1       0.51      0.65      0.57        96\n",
      "           2       0.46      0.65      0.53        48\n",
      "           3       0.61      0.43      0.50        96\n",
      "           4       0.41      0.48      0.44        96\n",
      "           5       0.36      0.29      0.32        48\n",
      "           6       0.53      0.22      0.31        96\n",
      "           7       0.56      0.52      0.54        48\n",
      "\n",
      "    accuracy                           0.51       624\n",
      "   macro avg       0.50      0.50      0.49       624\n",
      "weighted avg       0.51      0.51      0.49       624\n",
      "\n"
     ]
    }
   ],
   "source": [
    "clf_reg = BaggingClassifier(base_estimator=LogisticRegression(random_state=42,C=0.1,max_iter =600,solver=\"newton-cg\",multi_class=\"ovr\",tol=1.0)\n",
    ", random_state=0)#900\n",
    "\n",
    "clf_reg.fit(X_train, y_train)\n",
    "\n",
    "y_pred = clf_reg.predict(X_test)\n",
    "\n",
    "print('Accuracy %s' % accuracy_score(y_test, y_pred))\n",
    "print('F1-score %s' % f1_score(y_test, y_pred, average=None))\n",
    "print(classification_report(y_test, y_pred))"
   ]
  },
  {
   "cell_type": "code",
   "execution_count": 16,
   "metadata": {},
   "outputs": [
    {
     "name": "stdout",
     "output_type": "stream",
     "text": [
      "Accuracy 0.4150641025641026\n",
      "F1-score [0.584      0.58039216 0.26470588 0.2962963  0.32038835 0.\n",
      " 0.26744186 0.47368421]\n",
      "              precision    recall  f1-score   support\n",
      "\n",
      "           0       0.47      0.76      0.58        96\n",
      "           1       0.47      0.77      0.58        96\n",
      "           2       0.45      0.19      0.26        48\n",
      "           3       0.51      0.21      0.30        96\n",
      "           4       0.30      0.34      0.32        96\n",
      "           5       0.00      0.00      0.00        48\n",
      "           6       0.30      0.24      0.27        96\n",
      "           7       0.41      0.56      0.47        48\n",
      "\n",
      "    accuracy                           0.42       624\n",
      "   macro avg       0.36      0.38      0.35       624\n",
      "weighted avg       0.38      0.42      0.37       624\n",
      "\n"
     ]
    }
   ],
   "source": [
    "clf_random = BaggingClassifier(base_estimator= RandomForestClassifier(max_depth=10, min_samples_split=2, min_samples_leaf=20,n_estimators=1000)) \n",
    "\n",
    "clf_random.fit(X_train, y_train)\n",
    "\n",
    "y_pred = clf_random.predict(X_test)\n",
    "\n",
    "print('Accuracy %s' % accuracy_score(y_test, y_pred))\n",
    "print('F1-score %s' % f1_score(y_test, y_pred, average=None))\n",
    "print(classification_report(y_test, y_pred))"
   ]
  },
  {
   "cell_type": "code",
   "execution_count": 17,
   "metadata": {},
   "outputs": [
    {
     "name": "stdout",
     "output_type": "stream",
     "text": [
      "Accuracy 0.46634615384615385\n",
      "F1-score [0.6367713  0.49565217 0.53125    0.50632911 0.35051546 0.27906977\n",
      " 0.29457364 0.48      ]\n",
      "              precision    recall  f1-score   support\n",
      "\n",
      "           0       0.56      0.74      0.64        96\n",
      "           1       0.43      0.59      0.50        96\n",
      "           2       0.42      0.71      0.53        48\n",
      "           3       0.65      0.42      0.51        96\n",
      "           4       0.35      0.35      0.35        96\n",
      "           5       0.32      0.25      0.28        48\n",
      "           6       0.58      0.20      0.29        96\n",
      "           7       0.46      0.50      0.48        48\n",
      "\n",
      "    accuracy                           0.47       624\n",
      "   macro avg       0.47      0.47      0.45       624\n",
      "weighted avg       0.49      0.47      0.45       624\n",
      "\n"
     ]
    }
   ],
   "source": [
    "from sklearn.linear_model import Perceptron\n",
    "\n",
    "clf_perc = BaggingClassifier(base_estimator= Perceptron(alpha=0.0001, penalty='l1', tol= 0.001),random_state=0) \n",
    "\n",
    "clf_perc.fit(X_train, y_train)\n",
    "\n",
    "y_pred = clf_perc.predict(X_test)\n",
    "\n",
    "print('Accuracy %s' % accuracy_score(y_test, y_pred))\n",
    "print('F1-score %s' % f1_score(y_test, y_pred, average=None))\n",
    "print(classification_report(y_test, y_pred))"
   ]
  },
  {
   "cell_type": "code",
   "execution_count": 18,
   "metadata": {},
   "outputs": [],
   "source": [
    "from sklearn.neural_network import MLPClassifier\n"
   ]
  },
  {
   "cell_type": "code",
   "execution_count": 19,
   "metadata": {},
   "outputs": [
    {
     "name": "stdout",
     "output_type": "stream",
     "text": [
      "Accuracy 0.5144230769230769\n",
      "F1-score [0.63934426 0.62037037 0.50980392 0.49681529 0.42708333 0.4893617\n",
      " 0.31292517 0.5       ]\n",
      "              precision    recall  f1-score   support\n",
      "\n",
      "           0       0.53      0.81      0.64        96\n",
      "           1       0.56      0.70      0.62        96\n",
      "           2       0.48      0.54      0.51        48\n",
      "           3       0.64      0.41      0.50        96\n",
      "           4       0.43      0.43      0.43        96\n",
      "           5       0.50      0.48      0.49        48\n",
      "           6       0.45      0.24      0.31        96\n",
      "           7       0.50      0.50      0.50        48\n",
      "\n",
      "    accuracy                           0.51       624\n",
      "   macro avg       0.51      0.51      0.50       624\n",
      "weighted avg       0.51      0.51      0.50       624\n",
      "\n"
     ]
    }
   ],
   "source": [
    "\n",
    "\n",
    "clf_2 = BaggingClassifier(base_estimator= MLPClassifier(solver = 'adam', momentum = 0.1, learning_rate = 'adaptive' , hidden_layer_sizes=[32,64],activation='tanh',alpha=1.0,tol=0.0001))\n",
    "\n",
    "clf_2.fit(X_train, y_train)\n",
    "\n",
    "y_pred = clf_2.predict(X_test)\n",
    "\n",
    "print('Accuracy %s' % accuracy_score(y_test, y_pred))\n",
    "print('F1-score %s' % f1_score(y_test, y_pred, average=None))\n",
    "print(classification_report(y_test, y_pred))"
   ]
  },
  {
   "cell_type": "code",
   "execution_count": 21,
   "metadata": {},
   "outputs": [
    {
     "name": "stdout",
     "output_type": "stream",
     "text": [
      "Accuracy 0.5112179487179487\n",
      "F1-score [0.64135021 0.60273973 0.51428571 0.49350649 0.44444444 0.47311828\n",
      " 0.30463576 0.50549451]\n",
      "              precision    recall  f1-score   support\n",
      "\n",
      "           0       0.54      0.79      0.64        96\n",
      "           1       0.54      0.69      0.60        96\n",
      "           2       0.47      0.56      0.51        48\n",
      "           3       0.66      0.40      0.49        96\n",
      "           4       0.43      0.46      0.44        96\n",
      "           5       0.49      0.46      0.47        48\n",
      "           6       0.42      0.24      0.30        96\n",
      "           7       0.53      0.48      0.51        48\n",
      "\n",
      "    accuracy                           0.51       624\n",
      "   macro avg       0.51      0.51      0.50       624\n",
      "weighted avg       0.51      0.51      0.50       624\n",
      "\n"
     ]
    }
   ],
   "source": [
    "\n",
    "\n",
    "clf_3 = BaggingClassifier(base_estimator=MLPClassifier(solver = 'adam', momentum = 0.7, learning_rate = 'constant' , hidden_layer_sizes=[128,64,32],activation='tanh',alpha=0.1,tol=0.0001))\n",
    "\n",
    "clf_3.fit(X_train, y_train)\n",
    "\n",
    "y_pred = clf_3.predict(X_test)\n",
    "\n",
    "print('Accuracy %s' % accuracy_score(y_test, y_pred))\n",
    "print('F1-score %s' % f1_score(y_test, y_pred, average=None))\n",
    "print(classification_report(y_test, y_pred))"
   ]
  },
  {
   "attachments": {},
   "cell_type": "markdown",
   "metadata": {},
   "source": [
    "TODO : GRID SEARCH + IMBALANCING + GRAFICI"
   ]
  },
  {
   "cell_type": "code",
   "execution_count": 22,
   "metadata": {},
   "outputs": [],
   "source": [
    "from imblearn.under_sampling import TomekLinks\n",
    "from collections import Counter"
   ]
  },
  {
   "cell_type": "code",
   "execution_count": 23,
   "metadata": {},
   "outputs": [
    {
     "name": "stdout",
     "output_type": "stream",
     "text": [
      "Resampled dataset shape Counter({0: 261, 3: 255, 1: 251, 6: 250, 4: 249, 5: 140, 2: 128, 7: 128})\n"
     ]
    }
   ],
   "source": [
    "tl = TomekLinks()\n",
    "X_res, y_res = tl.fit_resample(X_train, y_train)\n",
    "print('Resampled dataset shape %s' % Counter(y_res))"
   ]
  },
  {
   "cell_type": "code",
   "execution_count": 24,
   "metadata": {},
   "outputs": [
    {
     "name": "stdout",
     "output_type": "stream",
     "text": [
      " DT New dimension: (1662, 22)\n"
     ]
    }
   ],
   "source": [
    "from sklearn.feature_selection import RFE\n",
    "from sklearn.tree import DecisionTreeClassifier\n",
    "\n",
    "sel = RFE(DecisionTreeClassifier(max_depth=10, min_samples_split=2, min_samples_leaf=20), n_features_to_select=22)\n",
    "X_train_sel = sel.fit_transform(X_res, y_res)\n",
    "print(f\" DT New dimension: {X_train_sel.shape}\")\n",
    "X_test_sel = sel.transform(X_test)"
   ]
  },
  {
   "cell_type": "code",
   "execution_count": 25,
   "metadata": {},
   "outputs": [
    {
     "name": "stdout",
     "output_type": "stream",
     "text": [
      "Accuracy 0.5352564102564102\n",
      "F1-score [0.72727273 0.61607143 0.48       0.42105263 0.36904762 0.54961832\n",
      " 0.44155844 0.56565657]\n",
      "              precision    recall  f1-score   support\n",
      "\n",
      "           0       0.65      0.83      0.73        96\n",
      "           1       0.54      0.72      0.62        96\n",
      "           2       0.46      0.50      0.48        48\n",
      "           3       0.57      0.33      0.42        96\n",
      "           4       0.43      0.32      0.37        96\n",
      "           5       0.43      0.75      0.55        48\n",
      "           6       0.59      0.35      0.44        96\n",
      "           7       0.55      0.58      0.57        48\n",
      "\n",
      "    accuracy                           0.54       624\n",
      "   macro avg       0.53      0.55      0.52       624\n",
      "weighted avg       0.54      0.54      0.52       624\n",
      "\n"
     ]
    }
   ],
   "source": [
    "\n",
    "\n",
    "clf_2 = BaggingClassifier(base_estimator= MLPClassifier(solver = 'adam', momentum = 0.1, learning_rate = 'adaptive' , hidden_layer_sizes=[32,64],activation='tanh',alpha=1.0,tol=0.0001))\n",
    "\n",
    "clf_2.fit(X_train_sel, y_res)\n",
    "\n",
    "y_pred = clf_2.predict(X_test_sel)\n",
    "\n",
    "print('Accuracy %s' % accuracy_score(y_test, y_pred))\n",
    "print('F1-score %s' % f1_score(y_test, y_pred, average=None))\n",
    "print(classification_report(y_test, y_pred))"
   ]
  },
  {
   "cell_type": "code",
   "execution_count": 28,
   "metadata": {},
   "outputs": [
    {
     "name": "stdout",
     "output_type": "stream",
     "text": [
      "Accuracy 0.5224358974358975\n",
      "F1-score [0.73636364 0.5631068  0.50420168 0.40559441 0.39772727 0.47407407\n",
      " 0.4556962  0.54945055]\n",
      "              precision    recall  f1-score   support\n",
      "\n",
      "           0       0.65      0.84      0.74        96\n",
      "           1       0.53      0.60      0.56        96\n",
      "           2       0.42      0.62      0.50        48\n",
      "           3       0.62      0.30      0.41        96\n",
      "           4       0.44      0.36      0.40        96\n",
      "           5       0.37      0.67      0.47        48\n",
      "           6       0.58      0.38      0.46        96\n",
      "           7       0.58      0.52      0.55        48\n",
      "\n",
      "    accuracy                           0.52       624\n",
      "   macro avg       0.52      0.54      0.51       624\n",
      "weighted avg       0.54      0.52      0.51       624\n",
      "\n"
     ]
    }
   ],
   "source": [
    "\n",
    "\n",
    "clf_3 = BaggingClassifier(base_estimator=MLPClassifier(solver = 'adam', momentum = 0.7, learning_rate = 'constant' , hidden_layer_sizes=[128,64,32],activation='tanh',alpha=0.1,tol=0.0001))\n",
    "\n",
    "clf_3.fit(X_train_sel, y_res)\n",
    "\n",
    "y_pred = clf_3.predict(X_test_sel)\n",
    "\n",
    "print('Accuracy %s' % accuracy_score(y_test, y_pred))\n",
    "print('F1-score %s' % f1_score(y_test, y_pred, average=None))\n",
    "print(classification_report(y_test, y_pred))"
   ]
  },
  {
   "cell_type": "code",
   "execution_count": 29,
   "metadata": {},
   "outputs": [
    {
     "name": "stdout",
     "output_type": "stream",
     "text": [
      "Accuracy 0.5128205128205128\n",
      "F1-score [0.67924528 0.60425532 0.50980392 0.42580645 0.43820225 0.44094488\n",
      " 0.36486486 0.52747253]\n",
      "              precision    recall  f1-score   support\n",
      "\n",
      "           0       0.62      0.75      0.68        96\n",
      "           1       0.51      0.74      0.60        96\n",
      "           2       0.48      0.54      0.51        48\n",
      "           3       0.56      0.34      0.43        96\n",
      "           4       0.48      0.41      0.44        96\n",
      "           5       0.35      0.58      0.44        48\n",
      "           6       0.52      0.28      0.36        96\n",
      "           7       0.56      0.50      0.53        48\n",
      "\n",
      "    accuracy                           0.51       624\n",
      "   macro avg       0.51      0.52      0.50       624\n",
      "weighted avg       0.52      0.51      0.50       624\n",
      "\n"
     ]
    }
   ],
   "source": [
    "clf_SVC.fit(X_train_sel, y_res)\n",
    "\n",
    "y_pred = clf_SVC.predict(X_test_sel)\n",
    "\n",
    "print('Accuracy %s' % accuracy_score(y_test, y_pred))\n",
    "print('F1-score %s' % f1_score(y_test, y_pred, average=None))\n",
    "print(classification_report(y_test, y_pred))"
   ]
  },
  {
   "cell_type": "code",
   "execution_count": 30,
   "metadata": {},
   "outputs": [
    {
     "name": "stdout",
     "output_type": "stream",
     "text": [
      "Accuracy 0.4967948717948718\n",
      "F1-score [0.68122271 0.58227848 0.43678161 0.43037975 0.34939759 0.5\n",
      " 0.35443038 0.49484536]\n",
      "              precision    recall  f1-score   support\n",
      "\n",
      "           0       0.59      0.81      0.68        96\n",
      "           1       0.49      0.72      0.58        96\n",
      "           2       0.49      0.40      0.44        48\n",
      "           3       0.55      0.35      0.43        96\n",
      "           4       0.41      0.30      0.35        96\n",
      "           5       0.43      0.60      0.50        48\n",
      "           6       0.45      0.29      0.35        96\n",
      "           7       0.49      0.50      0.49        48\n",
      "\n",
      "    accuracy                           0.50       624\n",
      "   macro avg       0.49      0.50      0.48       624\n",
      "weighted avg       0.49      0.50      0.48       624\n",
      "\n"
     ]
    }
   ],
   "source": [
    "clf_reg.fit(X_train_sel, y_res)\n",
    "\n",
    "y_pred = clf_reg.predict(X_test_sel)\n",
    "\n",
    "print('Accuracy %s' % accuracy_score(y_test, y_pred))\n",
    "print('F1-score %s' % f1_score(y_test, y_pred, average=None))\n",
    "print(classification_report(y_test, y_pred))"
   ]
  },
  {
   "cell_type": "code",
   "execution_count": 31,
   "metadata": {},
   "outputs": [
    {
     "name": "stdout",
     "output_type": "stream",
     "text": [
      "Accuracy 0.483974358974359\n",
      "F1-score [0.68376068 0.54468085 0.52727273 0.4691358  0.3258427  0.45762712\n",
      " 0.32432432 0.34920635]\n",
      "              precision    recall  f1-score   support\n",
      "\n",
      "           0       0.58      0.83      0.68        96\n",
      "           1       0.46      0.67      0.54        96\n",
      "           2       0.47      0.60      0.53        48\n",
      "           3       0.58      0.40      0.47        96\n",
      "           4       0.35      0.30      0.33        96\n",
      "           5       0.39      0.56      0.46        48\n",
      "           6       0.46      0.25      0.32        96\n",
      "           7       0.73      0.23      0.35        48\n",
      "\n",
      "    accuracy                           0.48       624\n",
      "   macro avg       0.50      0.48      0.46       624\n",
      "weighted avg       0.50      0.48      0.46       624\n",
      "\n"
     ]
    }
   ],
   "source": [
    "clf_perc.fit(X_train_sel, y_res)\n",
    "\n",
    "y_pred = clf_perc.predict(X_test_sel)\n",
    "\n",
    "print('Accuracy %s' % accuracy_score(y_test, y_pred))\n",
    "print('F1-score %s' % f1_score(y_test, y_pred, average=None))\n",
    "print(classification_report(y_test, y_pred))"
   ]
  },
  {
   "attachments": {},
   "cell_type": "markdown",
   "metadata": {},
   "source": [
    "## GRAFICI"
   ]
  },
  {
   "cell_type": "code",
   "execution_count": 34,
   "metadata": {},
   "outputs": [
    {
     "data": {
      "image/png": "[encoded data removed]",
      "text/plain": [
       "<Figure size 720x720 with 2 Axes>"
      ]
     },
     "metadata": {},
     "output_type": "display_data"
    }
   ],
   "source": [
    "print_confMatrix(y_test,clf_2.predict(X_test_sel))"
   ]
  },
  {
   "cell_type": "code",
   "execution_count": 35,
   "metadata": {},
   "outputs": [
    {
     "data": {
      "image/png": "[encoded data removed]",
      "text/plain": [
       "<Figure size 720x432 with 1 Axes>"
      ]
     },
     "metadata": {},
     "output_type": "display_data"
    }
   ],
   "source": [
    "print_rocCurve(clf_2,X_test_sel,y_test)"
   ]
  },
  {
   "cell_type": "code",
   "execution_count": 37,
   "metadata": {},
   "outputs": [
    {
     "data": {
      "text/plain": [
       "(624, 8)"
      ]
     },
     "execution_count": 37,
     "metadata": {},
     "output_type": "execute_result"
    }
   ],
   "source": [
    "from sklearn.preprocessing import LabelBinarizer\n",
    "\n",
    "label_binarizer = LabelBinarizer().fit(y_train)\n",
    "y_onehot_test = label_binarizer.transform(y_test)\n",
    "y_onehot_test.shape  # (n_samples, n_classes)\n"
   ]
  },
  {
   "cell_type": "code",
   "execution_count": 39,
   "metadata": {},
   "outputs": [
    {
     "name": "stdout",
     "output_type": "stream",
     "text": [
      "[(0, 1), (0, 2), (0, 3), (0, 4), (0, 5), (0, 6), (0, 7), (1, 2), (1, 3), (1, 4), (1, 5), (1, 6), (1, 7), (2, 3), (2, 4), (2, 5), (2, 6), (2, 7), (3, 4), (3, 5), (3, 6), (3, 7), (4, 5), (4, 6), (4, 7), (5, 6), (5, 7), (6, 7)]\n"
     ]
    }
   ],
   "source": [
    "from itertools import combinations\n",
    "\n",
    "pair_list = list(combinations(np.unique(y_train ) , 2))\n",
    "print(pair_list)\n",
    "y_score =  clf_2.fit(X_train_sel, y_res).predict_proba(X_test_sel)"
   ]
  },
  {
   "cell_type": "code",
   "execution_count": 40,
   "metadata": {},
   "outputs": [
    {
     "name": "stdout",
     "output_type": "stream",
     "text": [
      "Macro-averaged One-vs-OneROC AUC score:\n",
      "0.89\n"
     ]
    }
   ],
   "source": [
    "from sklearn.metrics import roc_auc_score\n",
    "\n",
    "macro_roc_auc_ovr = roc_auc_score(\n",
    "    y_test,\n",
    "    y_score,\n",
    "    multi_class=\"ovo\",\n",
    "    average=\"macro\",\n",
    ")\n",
    "\n",
    "print(f\"Macro-averaged One-vs-OneROC AUC score:\\n{macro_roc_auc_ovr:.2f}\")"
   ]
  },
  {
   "cell_type": "code",
   "execution_count": 41,
   "metadata": {},
   "outputs": [
    {
     "data": {
      "image/png": "[encoded data removed]",
      "text/plain": [
       "<Figure size 576x396 with 1 Axes>"
      ]
     },
     "metadata": {},
     "output_type": "display_data"
    }
   ],
   "source": [
    "from sklearn.metrics import RocCurveDisplay\n",
    "RocCurveDisplay.from_predictions(\n",
    "    y_onehot_test.ravel(),\n",
    "    y_score.ravel(),\n",
    "    name=\"micro-average OvO\",\n",
    "    color=\"darkorange\",\n",
    ")\n",
    "plt.plot([0, 1], [0, 1], \"k--\", label=\"chance level (AUC = 0.5)\")\n",
    "plt.axis(\"square\")\n",
    "plt.xlabel(\"False Positive Rate\")\n",
    "plt.ylabel(\"True Positive Rate\")\n",
    "plt.title(\"Micro-averaged One-vs-Rest\\nReceiver Operating Characteristic\")\n",
    "plt.legend()\n",
    "plt.show()\n"
   ]
  }
 ],
 "metadata": {
  "kernelspec": {
   "display_name": "base",
   "language": "python",
   "name": "python3"
  },
  "language_info": {
   "codemirror_mode": {
    "name": "ipython",
    "version": 3
   },
   "file_extension": ".py",
   "mimetype": "text/x-python",
   "name": "python",
   "nbconvert_exporter": "python",
   "pygments_lexer": "ipython3",
   "version": "3.8.8"
  },
  "orig_nbformat": 4
 },
 "nbformat": 4,
 "nbformat_minor": 2
}
