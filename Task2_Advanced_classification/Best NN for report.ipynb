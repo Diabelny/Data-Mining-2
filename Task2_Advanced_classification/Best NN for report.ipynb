{
 "cells": [
  {
   "cell_type": "code",
   "execution_count": 2,
   "metadata": {},
   "outputs": [],
   "source": [
    "import pandas as pd\n",
    "import numpy as np\n",
    "import seaborn as sns\n",
    "import matplotlib.pyplot as plt\n",
    "from sklearn.preprocessing import RobustScaler,MinMaxScaler,StandardScaler\n",
    "from sklearn import preprocessing\n",
    "from sklearn.model_selection import StratifiedKFold,RepeatedStratifiedKFold, RandomizedSearchCV,GridSearchCV, RepeatedKFold\n",
    "from sklearn.metrics import (\n",
    "    accuracy_score,\n",
    "    f1_score,\n",
    "    classification_report,\n",
    "    confusion_matrix,\n",
    "    roc_auc_score,\n",
    "    roc_curve\n",
    ")\n",
    "from scikitplot.metrics import plot_precision_recall, plot_roc, plot_cumulative_gain, plot_lift_curve\n",
    "\n",
    "\n",
    "from tensorflow import keras\n",
    "from keras.models import Sequential # sequential networks= all the layers are one after the others\n",
    "from keras.layers import Dense # we have flat layes \n",
    "from scikeras.wrappers import KerasClassifier\n",
    "\n",
    "from keras.callbacks import EarlyStopping, ModelCheckpoint\n",
    "from keras.regularizers import l2, l1\n",
    "from keras.layers import Dropout\n",
    "from keras.models import load_model\n",
    "from keras.callbacks import EarlyStopping, ModelCheckpoint\n",
    "from keras.regularizers import l2, l1\n",
    "from keras.layers import Dropout\n",
    "from keras.regularizers import l2, l1\n",
    "from keras.models import load_model"
   ]
  },
  {
   "cell_type": "code",
   "execution_count": 3,
   "metadata": {},
   "outputs": [],
   "source": [
    "#Read datasets\n",
    "df_train=pd.read_csv(\"../Dataset_prepared/Prepared_train.csv\")\n",
    "df_test=pd.read_csv(\"../Dataset_prepared/Prepared_test.csv\")\n",
    "\n",
    "#Drop useless features\n",
    "df_train.drop('actor',axis=1,inplace=True)\n",
    "df_train.drop('filename',axis=1,inplace=True)\n",
    "df_test.drop('actor',axis=1,inplace=True)\n",
    "df_test.drop('filename',axis=1,inplace=True)\n",
    "\n",
    "#LabelEncode categorical features\n",
    "le=preprocessing.LabelEncoder()\n",
    "c = df_train.select_dtypes(include=['object']).columns.tolist()\n",
    "for i in c:\n",
    "    df_train[i]=le.fit_transform(df_train[i])\n",
    "\n",
    "for i in c:\n",
    "    df_test[i]=le.fit_transform(df_test[i])\n",
    "\n",
    "#Normalize pure numeric features \n",
    "scaler = StandardScaler()\n",
    "numeric_features = [n for n in df_train.columns if n!=\"emotion\" and n!= \"vocal_channel\" and n!= \"emotional_intensity\" and n!= \"statement\" and n!= \"repetition\" and n!= \"sex\" and n!=\"filename\" and n!=\"actor\"]\n",
    "scaled_features = scaler.fit_transform(df_train[numeric_features])\n",
    "df_train[numeric_features] = scaled_features\n",
    "scaled_features_test = scaler.transform(df_test[numeric_features])\n",
    "df_test[numeric_features] = scaled_features_test\n",
    "\n",
    "#Set X_train,y_train = data to fit models. Set X_test,y_test = data to test models.\n",
    "col=[x for x in df_train.columns if x!=\"emotion\"]\n",
    "X_train=df_train[col].values\n",
    "y_train = np.array(df_train[\"emotion\"])\n",
    "X_test=df_test[col].values\n",
    "y_test = np.array(df_test[\"emotion\"])"
   ]
  },
  {
   "cell_type": "code",
   "execution_count": null,
   "metadata": {},
   "outputs": [],
   "source": [
    "n_classes = 8\n",
    "def build_model1():\n",
    "    n_feature = X_train.shape[1] # numero colonne\n",
    "    model = Sequential()\n",
    "    model.add(Dense(512, input_dim=n_feature, activation='relu')) \n",
    "    model.add(Dense(64, activation='relu'))# second layer\n",
    "    model.add(Dense(n_classes, activation='softmax'))\n",
    "    # if we have multiclass u have to specify as output the number of classes\n",
    "    model.compile(loss='sparse_categorical_crossentropy', # compile=build the network. if binary classification use binary_crossentropy as loss fucntions\n",
    "                  optimizer=\"adam\", metrics=['accuracy']) # metric u want to observe -> typically accuracy,f1 score\n",
    "    return model\n",
    "\n",
    "n_classes = 8\n",
    "def build_model2():\n",
    "    n_feature = X_train.shape[1] # numero colonne\n",
    "    model = Sequential()\n",
    "    model.add(Dense(512, input_dim=n_feature, activation='tanh')) \n",
    "    model.add(Dense(64, activation='relu'))\n",
    "    model.add(Dense(64, activation='relu'))\n",
    "    model.add(Dense(64, activation='relu'))\n",
    "    model.add(Dense(64, activation='relu'))\n",
    "    model.add(Dense(n_classes, activation='softmax'))\n",
    "    # if we have multiclass u have to specify as output the number of classes\n",
    "    model.compile(loss='sparse_categorical_crossentropy', # compile=build the network. if binary classification use binary_crossentropy as loss fucntions\n",
    "                  optimizer=\"adam\", metrics=['accuracy']) # metric u want to observe -> typically accuracy,f1 score\n",
    "    return model\n",
    "\n",
    "n_classes = 8\n",
    "def build_model3():\n",
    "    n_feature = X_train.shape[1] # numero colonne\n",
    "    model = Sequential()\n",
    "    model.add(Dense(1024, input_dim=n_feature, activation='tanh')) \n",
    "    model.add(Dense(512, activation='relu'))\n",
    "    model.add(Dense(512, activation='relu'))\n",
    "    model.add(Dense(512, activation='relu'))\n",
    "    model.add(Dense(512, activation='relu'))\n",
    "    model.add(Dense(512, activation='relu'))\n",
    "    model.add(Dense(512, activation='relu'))\n",
    "    model.add(Dense(512, activation='relu'))\n",
    "    model.add(Dense(512, activation='relu'))\n",
    "    model.add(Dense(512, activation='relu'))\n",
    "    model.add(Dense(512, activation='relu'))\n",
    "    model.add(Dense(n_classes, activation='softmax'))\n",
    "    # if we have multiclass u have to specify as output the number of classes\n",
    "    model.compile(loss='sparse_categorical_crossentropy', # compile=build the network. if binary classification use binary_crossentropy as loss fucntions\n",
    "                  optimizer=\"adam\", metrics=['accuracy']) # metric u want to observe -> typically accuracy,f1 score\n",
    "    return model\n",
    "\n",
    "n_classes = 8\n",
    "def build_model4():\n",
    "    n_feature = X_train.shape[1] # numero colonne\n",
    "    model = Sequential()\n",
    "    model.add(Dense(512, input_dim=n_feature, activation='relu')) \n",
    "    model.add(Dense(512, activation='relu'))# second layer\n",
    "    model.add(Dense(n_classes, activation='softmax'))\n",
    "    # if we have multiclass u have to specify as output the number of classes\n",
    "    model.compile(loss='sparse_categorical_crossentropy', # compile=build the network. if binary classification use binary_crossentropy as loss fucntions\n",
    "                  optimizer=\"adam\", metrics=['accuracy']) # metric u want to observe -> typically accuracy,f1 score\n",
    "    return model\n",
    "\n",
    "n_classes = 8\n",
    "def build_model5():\n",
    "    n_feature = X_train.shape[1] # numero colonne\n",
    "    model = Sequential()\n",
    "    model.add(Dense(512, input_dim=n_feature, activation='relu')) \n",
    "    model.add(Dense(n_feature, activation='relu'))# second layer\n",
    "    model.add(Dense(n_classes, activation='softmax'))\n",
    "    # if we have multiclass u have to specify as output the number of classes\n",
    "    model.compile(loss='sparse_categorical_crossentropy', # compile=build the network. if binary classification use binary_crossentropy as loss fucntions\n",
    "                  optimizer=\"adam\", metrics=['accuracy']) # metric u want to observe -> typically accuracy,f1 score\n",
    "    return model"
   ]
  },
  {
   "cell_type": "code",
   "execution_count": null,
   "metadata": {},
   "outputs": [
    {
     "name": "stdout",
     "output_type": "stream",
     "text": [
      "Train Model1\n",
      "Epoch 1/50\n"
     ]
    },
    {
     "name": "stderr",
     "output_type": "stream",
     "text": [
      "d:\\Anaconda\\lib\\site-packages\\scikeras\\wrappers.py:301: UserWarning: ``build_fn`` will be renamed to ``model`` in a future release, at which point use of ``build_fn`` will raise an Error instead.\n",
      "  warnings.warn(\n"
     ]
    },
    {
     "name": "stdout",
     "output_type": "stream",
     "text": [
      "55/55 [==============================] - 1s 3ms/step - loss: 1.5567 - accuracy: 0.4134 - val_loss: 1.4825 - val_accuracy: 0.4044\n",
      "Epoch 2/50\n",
      "55/55 [==============================] - 0s 1ms/step - loss: 1.0170 - accuracy: 0.6310 - val_loss: 1.5526 - val_accuracy: 0.4426\n",
      "Epoch 3/50\n",
      "55/55 [==============================] - 0s 1ms/step - loss: 0.7715 - accuracy: 0.7258 - val_loss: 1.6579 - val_accuracy: 0.4426\n",
      "Epoch 4/50\n",
      "55/55 [==============================] - 0s 1ms/step - loss: 0.5852 - accuracy: 0.8067 - val_loss: 1.8322 - val_accuracy: 0.4645\n",
      "Epoch 5/50\n",
      "55/55 [==============================] - 0s 1ms/step - loss: 0.4984 - accuracy: 0.8249 - val_loss: 1.8727 - val_accuracy: 0.4645\n",
      "Epoch 6/50\n",
      "55/55 [==============================] - 0s 1ms/step - loss: 0.3807 - accuracy: 0.8869 - val_loss: 1.7778 - val_accuracy: 0.4973\n",
      "Epoch 7/50\n",
      "55/55 [==============================] - 0s 1ms/step - loss: 0.2604 - accuracy: 0.9398 - val_loss: 1.9690 - val_accuracy: 0.4754\n",
      "Epoch 8/50\n",
      "55/55 [==============================] - 0s 1ms/step - loss: 0.1985 - accuracy: 0.9538 - val_loss: 2.2041 - val_accuracy: 0.4754\n",
      "Epoch 9/50\n",
      "55/55 [==============================] - 0s 1ms/step - loss: 0.1445 - accuracy: 0.9739 - val_loss: 2.2757 - val_accuracy: 0.4918\n",
      "Epoch 10/50\n",
      "55/55 [==============================] - 0s 1ms/step - loss: 0.1041 - accuracy: 0.9866 - val_loss: 2.3203 - val_accuracy: 0.4809\n",
      "Epoch 11/50\n",
      "55/55 [==============================] - 0s 1ms/step - loss: 0.0759 - accuracy: 0.9957 - val_loss: 2.5024 - val_accuracy: 0.4754\n",
      "Epoch 12/50\n",
      "55/55 [==============================] - 0s 1ms/step - loss: 0.0563 - accuracy: 0.9964 - val_loss: 2.5534 - val_accuracy: 0.4754\n",
      "Epoch 13/50\n",
      "55/55 [==============================] - 0s 1ms/step - loss: 0.0522 - accuracy: 0.9939 - val_loss: 2.5228 - val_accuracy: 0.5027\n",
      "Epoch 14/50\n",
      "55/55 [==============================] - 0s 1ms/step - loss: 0.0420 - accuracy: 0.9957 - val_loss: 2.4770 - val_accuracy: 0.5082\n",
      "Epoch 15/50\n",
      "55/55 [==============================] - 0s 1ms/step - loss: 0.0290 - accuracy: 0.9994 - val_loss: 2.5591 - val_accuracy: 0.4863\n",
      "Epoch 16/50\n",
      "55/55 [==============================] - 0s 1ms/step - loss: 0.0211 - accuracy: 0.9994 - val_loss: 2.7475 - val_accuracy: 0.4863\n",
      "Epoch 17/50\n",
      "55/55 [==============================] - 0s 1ms/step - loss: 0.0147 - accuracy: 1.0000 - val_loss: 2.8289 - val_accuracy: 0.4863\n",
      "Epoch 18/50\n",
      "55/55 [==============================] - 0s 1ms/step - loss: 0.0115 - accuracy: 1.0000 - val_loss: 2.9242 - val_accuracy: 0.4973\n",
      "Epoch 19/50\n",
      "55/55 [==============================] - 0s 1ms/step - loss: 0.0092 - accuracy: 1.0000 - val_loss: 2.8947 - val_accuracy: 0.4754\n",
      "Epoch 20/50\n",
      "55/55 [==============================] - 0s 1ms/step - loss: 0.0080 - accuracy: 1.0000 - val_loss: 2.9692 - val_accuracy: 0.4809\n",
      "Epoch 21/50\n",
      "55/55 [==============================] - 0s 1ms/step - loss: 0.0070 - accuracy: 1.0000 - val_loss: 2.9982 - val_accuracy: 0.4809\n",
      "Epoch 22/50\n",
      "55/55 [==============================] - 0s 1ms/step - loss: 0.0064 - accuracy: 1.0000 - val_loss: 3.0207 - val_accuracy: 0.4918\n",
      "Epoch 23/50\n",
      "55/55 [==============================] - 0s 1ms/step - loss: 0.0055 - accuracy: 1.0000 - val_loss: 3.1373 - val_accuracy: 0.4754\n",
      "Epoch 24/50\n",
      "55/55 [==============================] - 0s 1ms/step - loss: 0.0050 - accuracy: 1.0000 - val_loss: 3.1166 - val_accuracy: 0.4754\n",
      "Epoch 25/50\n",
      "55/55 [==============================] - 0s 1ms/step - loss: 0.0046 - accuracy: 1.0000 - val_loss: 3.1740 - val_accuracy: 0.4863\n",
      "Epoch 26/50\n",
      "55/55 [==============================] - 0s 1ms/step - loss: 0.0041 - accuracy: 1.0000 - val_loss: 3.1962 - val_accuracy: 0.4754\n",
      "Epoch 27/50\n",
      "55/55 [==============================] - 0s 1ms/step - loss: 0.0038 - accuracy: 1.0000 - val_loss: 3.2456 - val_accuracy: 0.4809\n",
      "Epoch 28/50\n",
      "55/55 [==============================] - 0s 1ms/step - loss: 0.0034 - accuracy: 1.0000 - val_loss: 3.2992 - val_accuracy: 0.4754\n",
      "Epoch 29/50\n",
      "55/55 [==============================] - 0s 1ms/step - loss: 0.0032 - accuracy: 1.0000 - val_loss: 3.3103 - val_accuracy: 0.4863\n",
      "Epoch 30/50\n",
      "55/55 [==============================] - 0s 1ms/step - loss: 0.0028 - accuracy: 1.0000 - val_loss: 3.3470 - val_accuracy: 0.4809\n",
      "Epoch 31/50\n",
      "55/55 [==============================] - 0s 1ms/step - loss: 0.0026 - accuracy: 1.0000 - val_loss: 3.3836 - val_accuracy: 0.4754\n",
      "Epoch 32/50\n",
      "55/55 [==============================] - 0s 1ms/step - loss: 0.0025 - accuracy: 1.0000 - val_loss: 3.4031 - val_accuracy: 0.4645\n",
      "Epoch 33/50\n",
      "55/55 [==============================] - 0s 1ms/step - loss: 0.0023 - accuracy: 1.0000 - val_loss: 3.4162 - val_accuracy: 0.4699\n",
      "Epoch 34/50\n",
      "55/55 [==============================] - 0s 1ms/step - loss: 0.0021 - accuracy: 1.0000 - val_loss: 3.4601 - val_accuracy: 0.4645\n",
      "Epoch 35/50\n",
      "55/55 [==============================] - 0s 1ms/step - loss: 0.0020 - accuracy: 1.0000 - val_loss: 3.5062 - val_accuracy: 0.4754\n",
      "Epoch 36/50\n",
      "55/55 [==============================] - 0s 1ms/step - loss: 0.0019 - accuracy: 1.0000 - val_loss: 3.5308 - val_accuracy: 0.4809\n",
      "Epoch 37/50\n",
      "55/55 [==============================] - 0s 1ms/step - loss: 0.0017 - accuracy: 1.0000 - val_loss: 3.5489 - val_accuracy: 0.4699\n",
      "Epoch 38/50\n",
      "55/55 [==============================] - 0s 1ms/step - loss: 0.0016 - accuracy: 1.0000 - val_loss: 3.5879 - val_accuracy: 0.4809\n",
      "Epoch 39/50\n",
      "55/55 [==============================] - 0s 1ms/step - loss: 0.0015 - accuracy: 1.0000 - val_loss: 3.6078 - val_accuracy: 0.4699\n",
      "Epoch 40/50\n",
      "55/55 [==============================] - 0s 1ms/step - loss: 0.0014 - accuracy: 1.0000 - val_loss: 3.6187 - val_accuracy: 0.4699\n",
      "Epoch 41/50\n",
      "55/55 [==============================] - 0s 1ms/step - loss: 0.0013 - accuracy: 1.0000 - val_loss: 3.6473 - val_accuracy: 0.4699\n",
      "Epoch 42/50\n",
      "55/55 [==============================] - 0s 1ms/step - loss: 0.0013 - accuracy: 1.0000 - val_loss: 3.6879 - val_accuracy: 0.4699\n",
      "Epoch 43/50\n",
      "55/55 [==============================] - 0s 1ms/step - loss: 0.0012 - accuracy: 1.0000 - val_loss: 3.7107 - val_accuracy: 0.4699\n",
      "Epoch 44/50\n",
      "55/55 [==============================] - 0s 1ms/step - loss: 0.0011 - accuracy: 1.0000 - val_loss: 3.7121 - val_accuracy: 0.4754\n",
      "Epoch 45/50\n",
      "55/55 [==============================] - 0s 1ms/step - loss: 0.0011 - accuracy: 1.0000 - val_loss: 3.7468 - val_accuracy: 0.4699\n",
      "Epoch 46/50\n",
      "55/55 [==============================] - 0s 1ms/step - loss: 9.9517e-04 - accuracy: 1.0000 - val_loss: 3.7356 - val_accuracy: 0.4699\n",
      "Epoch 47/50\n",
      "55/55 [==============================] - 0s 1ms/step - loss: 9.4780e-04 - accuracy: 1.0000 - val_loss: 3.7918 - val_accuracy: 0.4699\n",
      "Epoch 48/50\n",
      "55/55 [==============================] - 0s 1ms/step - loss: 9.0253e-04 - accuracy: 1.0000 - val_loss: 3.8288 - val_accuracy: 0.4754\n",
      "Epoch 49/50\n",
      "55/55 [==============================] - 0s 1ms/step - loss: 8.5250e-04 - accuracy: 1.0000 - val_loss: 3.8386 - val_accuracy: 0.4699\n",
      "Epoch 50/50\n",
      "55/55 [==============================] - 0s 1ms/step - loss: 8.0140e-04 - accuracy: 1.0000 - val_loss: 3.8646 - val_accuracy: 0.4754\n",
      "Train Model2\n",
      "Epoch 1/50\n"
     ]
    },
    {
     "name": "stderr",
     "output_type": "stream",
     "text": [
      "d:\\Anaconda\\lib\\site-packages\\scikeras\\wrappers.py:301: UserWarning: ``build_fn`` will be renamed to ``model`` in a future release, at which point use of ``build_fn`` will raise an Error instead.\n",
      "  warnings.warn(\n"
     ]
    },
    {
     "name": "stdout",
     "output_type": "stream",
     "text": [
      "55/55 [==============================] - 1s 3ms/step - loss: 1.7102 - accuracy: 0.3064 - val_loss: 1.7033 - val_accuracy: 0.3716\n",
      "Epoch 2/50\n",
      "55/55 [==============================] - 0s 1ms/step - loss: 1.2556 - accuracy: 0.5100 - val_loss: 1.5711 - val_accuracy: 0.3770\n",
      "Epoch 3/50\n",
      "55/55 [==============================] - 0s 1ms/step - loss: 0.9870 - accuracy: 0.6249 - val_loss: 1.6867 - val_accuracy: 0.3825\n",
      "Epoch 4/50\n",
      "55/55 [==============================] - 0s 1ms/step - loss: 0.7749 - accuracy: 0.7021 - val_loss: 1.8540 - val_accuracy: 0.4426\n",
      "Epoch 5/50\n",
      "55/55 [==============================] - 0s 1ms/step - loss: 0.6074 - accuracy: 0.7793 - val_loss: 2.0167 - val_accuracy: 0.4481\n",
      "Epoch 6/50\n",
      "55/55 [==============================] - 0s 1ms/step - loss: 0.4712 - accuracy: 0.8249 - val_loss: 2.0628 - val_accuracy: 0.4044\n",
      "Epoch 7/50\n",
      "55/55 [==============================] - 0s 1ms/step - loss: 0.3568 - accuracy: 0.8772 - val_loss: 2.2597 - val_accuracy: 0.4481\n",
      "Epoch 8/50\n",
      "55/55 [==============================] - 0s 1ms/step - loss: 0.3233 - accuracy: 0.8918 - val_loss: 2.5483 - val_accuracy: 0.4044\n",
      "Epoch 9/50\n",
      "55/55 [==============================] - 0s 1ms/step - loss: 0.2740 - accuracy: 0.9058 - val_loss: 3.1151 - val_accuracy: 0.4481\n",
      "Epoch 10/50\n",
      "55/55 [==============================] - 0s 1ms/step - loss: 0.2144 - accuracy: 0.9283 - val_loss: 2.7578 - val_accuracy: 0.4317\n",
      "Epoch 11/50\n",
      "55/55 [==============================] - 0s 1ms/step - loss: 0.1493 - accuracy: 0.9495 - val_loss: 2.8446 - val_accuracy: 0.4481\n",
      "Epoch 12/50\n",
      "55/55 [==============================] - 0s 1ms/step - loss: 0.1485 - accuracy: 0.9532 - val_loss: 3.2515 - val_accuracy: 0.4262\n",
      "Epoch 13/50\n",
      "55/55 [==============================] - 0s 1ms/step - loss: 0.0998 - accuracy: 0.9702 - val_loss: 3.1677 - val_accuracy: 0.4536\n",
      "Epoch 14/50\n",
      "55/55 [==============================] - 0s 1ms/step - loss: 0.0567 - accuracy: 0.9842 - val_loss: 3.5169 - val_accuracy: 0.4754\n",
      "Epoch 15/50\n",
      "55/55 [==============================] - 0s 1ms/step - loss: 0.0529 - accuracy: 0.9824 - val_loss: 4.0125 - val_accuracy: 0.4262\n",
      "Epoch 16/50\n",
      "55/55 [==============================] - 0s 1ms/step - loss: 0.0629 - accuracy: 0.9812 - val_loss: 4.2180 - val_accuracy: 0.4372\n",
      "Epoch 17/50\n",
      "55/55 [==============================] - 0s 1ms/step - loss: 0.0674 - accuracy: 0.9830 - val_loss: 3.7513 - val_accuracy: 0.4426\n",
      "Epoch 18/50\n",
      "55/55 [==============================] - 0s 1ms/step - loss: 0.0426 - accuracy: 0.9872 - val_loss: 3.8908 - val_accuracy: 0.4481\n",
      "Epoch 19/50\n",
      "55/55 [==============================] - 0s 1ms/step - loss: 0.0397 - accuracy: 0.9903 - val_loss: 3.8929 - val_accuracy: 0.4645\n",
      "Epoch 20/50\n",
      "55/55 [==============================] - 0s 1ms/step - loss: 0.1237 - accuracy: 0.9605 - val_loss: 4.1171 - val_accuracy: 0.4153\n",
      "Epoch 21/50\n",
      "55/55 [==============================] - 0s 1ms/step - loss: 0.1713 - accuracy: 0.9435 - val_loss: 4.1192 - val_accuracy: 0.4536\n",
      "Epoch 22/50\n",
      "55/55 [==============================] - 0s 1ms/step - loss: 0.2486 - accuracy: 0.9161 - val_loss: 3.1518 - val_accuracy: 0.4645\n",
      "Epoch 23/50\n",
      "55/55 [==============================] - 0s 1ms/step - loss: 0.1558 - accuracy: 0.9447 - val_loss: 4.0215 - val_accuracy: 0.3989\n",
      "Epoch 24/50\n",
      "55/55 [==============================] - 0s 1ms/step - loss: 0.0605 - accuracy: 0.9830 - val_loss: 3.7258 - val_accuracy: 0.4426\n",
      "Epoch 25/50\n",
      "55/55 [==============================] - 0s 1ms/step - loss: 0.0748 - accuracy: 0.9763 - val_loss: 3.6698 - val_accuracy: 0.4809\n",
      "Epoch 26/50\n",
      "55/55 [==============================] - 0s 1ms/step - loss: 0.0449 - accuracy: 0.9860 - val_loss: 4.0628 - val_accuracy: 0.4317\n",
      "Epoch 27/50\n",
      "55/55 [==============================] - 0s 1ms/step - loss: 0.0258 - accuracy: 0.9939 - val_loss: 3.6606 - val_accuracy: 0.5027\n",
      "Epoch 28/50\n",
      "55/55 [==============================] - 0s 1ms/step - loss: 0.0315 - accuracy: 0.9921 - val_loss: 3.6645 - val_accuracy: 0.4426\n",
      "Epoch 29/50\n",
      "55/55 [==============================] - 0s 1ms/step - loss: 0.0354 - accuracy: 0.9921 - val_loss: 3.6543 - val_accuracy: 0.4590\n",
      "Epoch 30/50\n",
      "55/55 [==============================] - 0s 1ms/step - loss: 0.0189 - accuracy: 0.9951 - val_loss: 3.7901 - val_accuracy: 0.4645\n",
      "Epoch 31/50\n",
      "55/55 [==============================] - 0s 1ms/step - loss: 0.0210 - accuracy: 0.9945 - val_loss: 3.5698 - val_accuracy: 0.5191\n",
      "Epoch 32/50\n",
      "55/55 [==============================] - 0s 1ms/step - loss: 0.0300 - accuracy: 0.9909 - val_loss: 3.5212 - val_accuracy: 0.4863\n",
      "Epoch 33/50\n",
      "55/55 [==============================] - 0s 1ms/step - loss: 0.0350 - accuracy: 0.9903 - val_loss: 3.9766 - val_accuracy: 0.4809\n",
      "Epoch 34/50\n",
      "55/55 [==============================] - 0s 1ms/step - loss: 0.0569 - accuracy: 0.9848 - val_loss: 3.1778 - val_accuracy: 0.4809\n",
      "Epoch 35/50\n",
      "55/55 [==============================] - 0s 1ms/step - loss: 0.0849 - accuracy: 0.9708 - val_loss: 3.9513 - val_accuracy: 0.4809\n",
      "Epoch 36/50\n",
      "55/55 [==============================] - 0s 1ms/step - loss: 0.0492 - accuracy: 0.9836 - val_loss: 3.7699 - val_accuracy: 0.4536\n",
      "Epoch 37/50\n",
      "55/55 [==============================] - 0s 1ms/step - loss: 0.0619 - accuracy: 0.9775 - val_loss: 3.7936 - val_accuracy: 0.4699\n",
      "Epoch 38/50\n",
      "55/55 [==============================] - 0s 1ms/step - loss: 0.0322 - accuracy: 0.9891 - val_loss: 4.1288 - val_accuracy: 0.4863\n",
      "Epoch 39/50\n",
      "55/55 [==============================] - 0s 1ms/step - loss: 0.0105 - accuracy: 0.9970 - val_loss: 4.0534 - val_accuracy: 0.4918\n",
      "Epoch 40/50\n",
      "55/55 [==============================] - 0s 1ms/step - loss: 0.0016 - accuracy: 1.0000 - val_loss: 4.0545 - val_accuracy: 0.4918\n",
      "Epoch 41/50\n",
      "55/55 [==============================] - 0s 1ms/step - loss: 6.9928e-04 - accuracy: 1.0000 - val_loss: 4.0508 - val_accuracy: 0.4918\n",
      "Epoch 42/50\n",
      "55/55 [==============================] - 0s 1ms/step - loss: 5.5726e-04 - accuracy: 1.0000 - val_loss: 4.0715 - val_accuracy: 0.4918\n",
      "Epoch 43/50\n",
      "55/55 [==============================] - 0s 1ms/step - loss: 4.8116e-04 - accuracy: 1.0000 - val_loss: 4.0874 - val_accuracy: 0.4863\n",
      "Epoch 44/50\n",
      "55/55 [==============================] - 0s 1ms/step - loss: 4.2560e-04 - accuracy: 1.0000 - val_loss: 4.1050 - val_accuracy: 0.4863\n",
      "Epoch 45/50\n",
      "55/55 [==============================] - 0s 1ms/step - loss: 3.8343e-04 - accuracy: 1.0000 - val_loss: 4.1179 - val_accuracy: 0.4863\n",
      "Epoch 46/50\n",
      "55/55 [==============================] - 0s 1ms/step - loss: 3.4896e-04 - accuracy: 1.0000 - val_loss: 4.1347 - val_accuracy: 0.4863\n",
      "Epoch 47/50\n",
      "55/55 [==============================] - 0s 1ms/step - loss: 3.1938e-04 - accuracy: 1.0000 - val_loss: 4.1487 - val_accuracy: 0.4863\n",
      "Epoch 48/50\n",
      "55/55 [==============================] - 0s 1ms/step - loss: 2.9495e-04 - accuracy: 1.0000 - val_loss: 4.1644 - val_accuracy: 0.4863\n",
      "Epoch 49/50\n",
      "55/55 [==============================] - 0s 1ms/step - loss: 2.7315e-04 - accuracy: 1.0000 - val_loss: 4.1784 - val_accuracy: 0.4863\n",
      "Epoch 50/50\n",
      "55/55 [==============================] - 0s 1ms/step - loss: 2.5412e-04 - accuracy: 1.0000 - val_loss: 4.1924 - val_accuracy: 0.4863\n",
      "Train Model3\n",
      "Epoch 1/50\n"
     ]
    },
    {
     "name": "stderr",
     "output_type": "stream",
     "text": [
      "d:\\Anaconda\\lib\\site-packages\\scikeras\\wrappers.py:301: UserWarning: ``build_fn`` will be renamed to ``model`` in a future release, at which point use of ``build_fn`` will raise an Error instead.\n",
      "  warnings.warn(\n"
     ]
    },
    {
     "name": "stdout",
     "output_type": "stream",
     "text": [
      "55/55 [==============================] - 2s 17ms/step - loss: 1.8245 - accuracy: 0.2571 - val_loss: 1.9366 - val_accuracy: 0.2623\n",
      "Epoch 2/50\n",
      "55/55 [==============================] - 1s 15ms/step - loss: 1.6327 - accuracy: 0.3131 - val_loss: 1.7318 - val_accuracy: 0.3333\n",
      "Epoch 3/50\n",
      "55/55 [==============================] - 1s 15ms/step - loss: 1.5227 - accuracy: 0.3799 - val_loss: 1.6827 - val_accuracy: 0.3005\n",
      "Epoch 4/50\n",
      "55/55 [==============================] - 1s 15ms/step - loss: 1.4941 - accuracy: 0.4024 - val_loss: 1.6429 - val_accuracy: 0.2896\n",
      "Epoch 5/50\n",
      "55/55 [==============================] - 1s 15ms/step - loss: 1.4065 - accuracy: 0.4328 - val_loss: 1.6933 - val_accuracy: 0.3279\n",
      "Epoch 6/50\n",
      "55/55 [==============================] - 1s 15ms/step - loss: 1.3378 - accuracy: 0.4456 - val_loss: 1.7392 - val_accuracy: 0.3880\n",
      "Epoch 7/50\n",
      "55/55 [==============================] - 1s 15ms/step - loss: 1.2931 - accuracy: 0.4790 - val_loss: 1.7291 - val_accuracy: 0.3989\n",
      "Epoch 8/50\n",
      "55/55 [==============================] - 1s 15ms/step - loss: 1.2310 - accuracy: 0.5033 - val_loss: 1.8828 - val_accuracy: 0.3880\n",
      "Epoch 9/50\n",
      "55/55 [==============================] - 1s 14ms/step - loss: 1.2095 - accuracy: 0.5313 - val_loss: 1.5666 - val_accuracy: 0.4262\n",
      "Epoch 10/50\n",
      "55/55 [==============================] - 1s 15ms/step - loss: 1.1345 - accuracy: 0.5538 - val_loss: 2.2320 - val_accuracy: 0.3716\n",
      "Epoch 11/50\n",
      "55/55 [==============================] - 1s 15ms/step - loss: 1.1268 - accuracy: 0.5696 - val_loss: 1.8703 - val_accuracy: 0.3989\n",
      "Epoch 12/50\n",
      "55/55 [==============================] - 1s 15ms/step - loss: 0.9928 - accuracy: 0.6231 - val_loss: 2.5802 - val_accuracy: 0.3552\n",
      "Epoch 13/50\n",
      "55/55 [==============================] - 1s 15ms/step - loss: 0.9887 - accuracy: 0.6340 - val_loss: 1.9932 - val_accuracy: 0.3989\n",
      "Epoch 14/50\n",
      "55/55 [==============================] - 1s 14ms/step - loss: 1.0001 - accuracy: 0.6334 - val_loss: 1.9505 - val_accuracy: 0.4208\n",
      "Epoch 15/50\n",
      "55/55 [==============================] - 1s 15ms/step - loss: 0.9521 - accuracy: 0.6565 - val_loss: 2.0433 - val_accuracy: 0.3880\n",
      "Epoch 16/50\n",
      "55/55 [==============================] - 1s 14ms/step - loss: 0.9211 - accuracy: 0.6669 - val_loss: 1.7781 - val_accuracy: 0.4372\n",
      "Epoch 17/50\n",
      "55/55 [==============================] - 1s 14ms/step - loss: 0.7757 - accuracy: 0.7125 - val_loss: 2.1057 - val_accuracy: 0.4426\n",
      "Epoch 18/50\n",
      "55/55 [==============================] - 1s 14ms/step - loss: 0.7586 - accuracy: 0.7313 - val_loss: 2.1034 - val_accuracy: 0.4317\n",
      "Epoch 19/50\n",
      "55/55 [==============================] - 1s 15ms/step - loss: 0.6861 - accuracy: 0.7599 - val_loss: 1.9282 - val_accuracy: 0.3880\n",
      "Epoch 20/50\n",
      "55/55 [==============================] - 1s 15ms/step - loss: 0.7457 - accuracy: 0.7495 - val_loss: 1.8373 - val_accuracy: 0.4536\n",
      "Epoch 21/50\n",
      "55/55 [==============================] - 1s 15ms/step - loss: 0.7219 - accuracy: 0.7532 - val_loss: 2.4511 - val_accuracy: 0.4262\n",
      "Epoch 22/50\n",
      "55/55 [==============================] - 1s 15ms/step - loss: 0.6046 - accuracy: 0.7866 - val_loss: 2.8326 - val_accuracy: 0.4481\n",
      "Epoch 23/50\n",
      "55/55 [==============================] - 1s 15ms/step - loss: 0.5532 - accuracy: 0.8109 - val_loss: 2.3245 - val_accuracy: 0.4918\n",
      "Epoch 24/50\n",
      "55/55 [==============================] - 1s 16ms/step - loss: 0.5113 - accuracy: 0.8316 - val_loss: 2.2539 - val_accuracy: 0.4863\n",
      "Epoch 25/50\n",
      "55/55 [==============================] - 1s 15ms/step - loss: 0.5850 - accuracy: 0.7945 - val_loss: 2.4129 - val_accuracy: 0.4536\n",
      "Epoch 26/50\n",
      "55/55 [==============================] - 1s 15ms/step - loss: 0.5147 - accuracy: 0.8286 - val_loss: 3.0109 - val_accuracy: 0.4590\n",
      "Epoch 27/50\n",
      "55/55 [==============================] - 1s 15ms/step - loss: 0.4075 - accuracy: 0.8626 - val_loss: 3.5873 - val_accuracy: 0.4699\n",
      "Epoch 28/50\n",
      "55/55 [==============================] - 1s 15ms/step - loss: 0.3729 - accuracy: 0.8790 - val_loss: 2.6507 - val_accuracy: 0.5191\n",
      "Epoch 29/50\n",
      "55/55 [==============================] - 1s 15ms/step - loss: 0.3108 - accuracy: 0.9033 - val_loss: 3.5990 - val_accuracy: 0.4699\n",
      "Epoch 30/50\n",
      "55/55 [==============================] - 1s 15ms/step - loss: 0.4648 - accuracy: 0.8650 - val_loss: 2.2902 - val_accuracy: 0.4863\n",
      "Epoch 31/50\n",
      "55/55 [==============================] - 1s 15ms/step - loss: 0.3956 - accuracy: 0.8802 - val_loss: 2.8680 - val_accuracy: 0.4699\n",
      "Epoch 32/50\n",
      "55/55 [==============================] - 1s 16ms/step - loss: 0.3188 - accuracy: 0.9015 - val_loss: 2.5325 - val_accuracy: 0.4317\n",
      "Epoch 33/50\n",
      "55/55 [==============================] - 1s 16ms/step - loss: 0.4257 - accuracy: 0.8760 - val_loss: 2.9518 - val_accuracy: 0.4536\n",
      "Epoch 34/50\n",
      "55/55 [==============================] - 1s 15ms/step - loss: 0.3675 - accuracy: 0.8900 - val_loss: 3.8721 - val_accuracy: 0.4590\n",
      "Epoch 35/50\n",
      "55/55 [==============================] - 1s 14ms/step - loss: 0.3998 - accuracy: 0.8936 - val_loss: 1.8781 - val_accuracy: 0.5355\n",
      "Epoch 36/50\n",
      "55/55 [==============================] - 1s 14ms/step - loss: 0.2380 - accuracy: 0.9331 - val_loss: 3.6414 - val_accuracy: 0.4590\n",
      "Epoch 37/50\n",
      "55/55 [==============================] - 1s 16ms/step - loss: 0.2098 - accuracy: 0.9532 - val_loss: 3.8042 - val_accuracy: 0.4536\n",
      "Epoch 38/50\n",
      "55/55 [==============================] - 1s 15ms/step - loss: 0.2298 - accuracy: 0.9404 - val_loss: 3.5640 - val_accuracy: 0.4754\n",
      "Epoch 39/50\n",
      "55/55 [==============================] - 1s 15ms/step - loss: 0.2176 - accuracy: 0.9362 - val_loss: 7.2464 - val_accuracy: 0.4536\n",
      "Epoch 40/50\n",
      "55/55 [==============================] - 1s 15ms/step - loss: 0.3323 - accuracy: 0.9179 - val_loss: 3.6876 - val_accuracy: 0.3770\n",
      "Epoch 41/50\n",
      "55/55 [==============================] - 1s 15ms/step - loss: 0.5132 - accuracy: 0.8638 - val_loss: 2.0771 - val_accuracy: 0.3934\n",
      "Epoch 42/50\n",
      "55/55 [==============================] - 1s 15ms/step - loss: 0.3747 - accuracy: 0.8954 - val_loss: 2.4889 - val_accuracy: 0.4699\n",
      "Epoch 43/50\n",
      "55/55 [==============================] - 1s 15ms/step - loss: 0.6392 - accuracy: 0.8176 - val_loss: 2.2166 - val_accuracy: 0.4153\n",
      "Epoch 44/50\n",
      "55/55 [==============================] - 1s 16ms/step - loss: 0.3240 - accuracy: 0.9204 - val_loss: 4.2083 - val_accuracy: 0.4481\n",
      "Epoch 45/50\n",
      "55/55 [==============================] - 1s 14ms/step - loss: 0.2383 - accuracy: 0.9386 - val_loss: 3.6118 - val_accuracy: 0.4153\n",
      "Epoch 46/50\n",
      "55/55 [==============================] - 1s 15ms/step - loss: 0.3834 - accuracy: 0.9009 - val_loss: 4.1100 - val_accuracy: 0.4262\n",
      "Epoch 47/50\n",
      "55/55 [==============================] - 1s 15ms/step - loss: 0.3275 - accuracy: 0.9198 - val_loss: 4.0103 - val_accuracy: 0.4481\n",
      "Epoch 48/50\n",
      "55/55 [==============================] - 1s 14ms/step - loss: 0.2189 - accuracy: 0.9453 - val_loss: 4.6170 - val_accuracy: 0.4044\n",
      "Epoch 49/50\n",
      "55/55 [==============================] - 1s 14ms/step - loss: 0.1617 - accuracy: 0.9611 - val_loss: 4.4881 - val_accuracy: 0.4699\n",
      "Epoch 50/50\n",
      "55/55 [==============================] - 1s 16ms/step - loss: 0.2018 - accuracy: 0.9532 - val_loss: 3.6838 - val_accuracy: 0.4699\n",
      "Train Model4\n",
      "Epoch 1/50\n"
     ]
    },
    {
     "name": "stderr",
     "output_type": "stream",
     "text": [
      "d:\\Anaconda\\lib\\site-packages\\scikeras\\wrappers.py:301: UserWarning: ``build_fn`` will be renamed to ``model`` in a future release, at which point use of ``build_fn`` will raise an Error instead.\n",
      "  warnings.warn(\n"
     ]
    },
    {
     "name": "stdout",
     "output_type": "stream",
     "text": [
      "55/55 [==============================] - 1s 4ms/step - loss: 1.5001 - accuracy: 0.4243 - val_loss: 1.4692 - val_accuracy: 0.4536\n",
      "Epoch 2/50\n",
      "55/55 [==============================] - 0s 2ms/step - loss: 0.9486 - accuracy: 0.6426 - val_loss: 1.5158 - val_accuracy: 0.4754\n",
      "Epoch 3/50\n",
      "55/55 [==============================] - 0s 3ms/step - loss: 0.6849 - accuracy: 0.7562 - val_loss: 1.7337 - val_accuracy: 0.4481\n",
      "Epoch 4/50\n",
      "55/55 [==============================] - 0s 3ms/step - loss: 0.5011 - accuracy: 0.8334 - val_loss: 2.0900 - val_accuracy: 0.4754\n",
      "Epoch 5/50\n",
      "55/55 [==============================] - 0s 3ms/step - loss: 0.3447 - accuracy: 0.8954 - val_loss: 1.8907 - val_accuracy: 0.4863\n",
      "Epoch 6/50\n",
      "55/55 [==============================] - 0s 3ms/step - loss: 0.2345 - accuracy: 0.9313 - val_loss: 2.5604 - val_accuracy: 0.4699\n",
      "Epoch 7/50\n",
      "55/55 [==============================] - 0s 3ms/step - loss: 0.1993 - accuracy: 0.9410 - val_loss: 2.5922 - val_accuracy: 0.4317\n",
      "Epoch 8/50\n",
      "55/55 [==============================] - 0s 3ms/step - loss: 0.1736 - accuracy: 0.9538 - val_loss: 2.7181 - val_accuracy: 0.4809\n",
      "Epoch 9/50\n",
      "55/55 [==============================] - 0s 3ms/step - loss: 0.1368 - accuracy: 0.9611 - val_loss: 2.7813 - val_accuracy: 0.4372\n",
      "Epoch 10/50\n",
      "55/55 [==============================] - 0s 2ms/step - loss: 0.0832 - accuracy: 0.9805 - val_loss: 3.1367 - val_accuracy: 0.4645\n",
      "Epoch 11/50\n",
      "55/55 [==============================] - 0s 3ms/step - loss: 0.0350 - accuracy: 0.9964 - val_loss: 2.9503 - val_accuracy: 0.4699\n",
      "Epoch 12/50\n",
      "55/55 [==============================] - 0s 3ms/step - loss: 0.0186 - accuracy: 0.9994 - val_loss: 3.1301 - val_accuracy: 0.4754\n",
      "Epoch 13/50\n",
      "55/55 [==============================] - 0s 3ms/step - loss: 0.0125 - accuracy: 1.0000 - val_loss: 3.0228 - val_accuracy: 0.4645\n",
      "Epoch 14/50\n",
      "55/55 [==============================] - 0s 3ms/step - loss: 0.0067 - accuracy: 1.0000 - val_loss: 3.2414 - val_accuracy: 0.4809\n",
      "Epoch 15/50\n",
      "55/55 [==============================] - 0s 3ms/step - loss: 0.0053 - accuracy: 1.0000 - val_loss: 3.2050 - val_accuracy: 0.4863\n",
      "Epoch 16/50\n",
      "55/55 [==============================] - 0s 3ms/step - loss: 0.0043 - accuracy: 1.0000 - val_loss: 3.2944 - val_accuracy: 0.4809\n",
      "Epoch 17/50\n",
      "55/55 [==============================] - 0s 3ms/step - loss: 0.0036 - accuracy: 1.0000 - val_loss: 3.3547 - val_accuracy: 0.4809\n",
      "Epoch 18/50\n",
      "55/55 [==============================] - 0s 3ms/step - loss: 0.0031 - accuracy: 1.0000 - val_loss: 3.4107 - val_accuracy: 0.4699\n",
      "Epoch 19/50\n",
      "55/55 [==============================] - 0s 3ms/step - loss: 0.0028 - accuracy: 1.0000 - val_loss: 3.4927 - val_accuracy: 0.4754\n",
      "Epoch 20/50\n",
      "55/55 [==============================] - 0s 3ms/step - loss: 0.0025 - accuracy: 1.0000 - val_loss: 3.4650 - val_accuracy: 0.4699\n",
      "Epoch 21/50\n",
      "55/55 [==============================] - 0s 3ms/step - loss: 0.0022 - accuracy: 1.0000 - val_loss: 3.5198 - val_accuracy: 0.4645\n",
      "Epoch 22/50\n",
      "55/55 [==============================] - 0s 3ms/step - loss: 0.0020 - accuracy: 1.0000 - val_loss: 3.5781 - val_accuracy: 0.4754\n",
      "Epoch 23/50\n",
      "55/55 [==============================] - 0s 3ms/step - loss: 0.0018 - accuracy: 1.0000 - val_loss: 3.5908 - val_accuracy: 0.4645\n",
      "Epoch 24/50\n",
      "55/55 [==============================] - 0s 3ms/step - loss: 0.0017 - accuracy: 1.0000 - val_loss: 3.6117 - val_accuracy: 0.4699\n",
      "Epoch 25/50\n",
      "55/55 [==============================] - 0s 3ms/step - loss: 0.0015 - accuracy: 1.0000 - val_loss: 3.6603 - val_accuracy: 0.4699\n",
      "Epoch 26/50\n",
      "55/55 [==============================] - 0s 3ms/step - loss: 0.0014 - accuracy: 1.0000 - val_loss: 3.6921 - val_accuracy: 0.4590\n",
      "Epoch 27/50\n",
      "55/55 [==============================] - 0s 3ms/step - loss: 0.0013 - accuracy: 1.0000 - val_loss: 3.7398 - val_accuracy: 0.4699\n",
      "Epoch 28/50\n",
      "55/55 [==============================] - 0s 3ms/step - loss: 0.0012 - accuracy: 1.0000 - val_loss: 3.7791 - val_accuracy: 0.4699\n",
      "Epoch 29/50\n",
      "55/55 [==============================] - 0s 3ms/step - loss: 0.0011 - accuracy: 1.0000 - val_loss: 3.8060 - val_accuracy: 0.4699\n",
      "Epoch 30/50\n",
      "55/55 [==============================] - 0s 3ms/step - loss: 0.0010 - accuracy: 1.0000 - val_loss: 3.8254 - val_accuracy: 0.4590\n",
      "Epoch 31/50\n",
      "55/55 [==============================] - 0s 3ms/step - loss: 9.5835e-04 - accuracy: 1.0000 - val_loss: 3.8586 - val_accuracy: 0.4645\n",
      "Epoch 32/50\n",
      "55/55 [==============================] - 0s 3ms/step - loss: 9.0246e-04 - accuracy: 1.0000 - val_loss: 3.8814 - val_accuracy: 0.4590\n",
      "Epoch 33/50\n",
      "55/55 [==============================] - 0s 3ms/step - loss: 8.4683e-04 - accuracy: 1.0000 - val_loss: 3.8994 - val_accuracy: 0.4536\n",
      "Epoch 34/50\n",
      "55/55 [==============================] - 0s 3ms/step - loss: 7.8568e-04 - accuracy: 1.0000 - val_loss: 3.9394 - val_accuracy: 0.4536\n",
      "Epoch 35/50\n",
      "55/55 [==============================] - 0s 3ms/step - loss: 7.3855e-04 - accuracy: 1.0000 - val_loss: 3.9547 - val_accuracy: 0.4536\n",
      "Epoch 36/50\n",
      "55/55 [==============================] - 0s 3ms/step - loss: 6.8983e-04 - accuracy: 1.0000 - val_loss: 4.0011 - val_accuracy: 0.4590\n",
      "Epoch 37/50\n",
      "55/55 [==============================] - 0s 3ms/step - loss: 6.4669e-04 - accuracy: 1.0000 - val_loss: 4.0226 - val_accuracy: 0.4699\n",
      "Epoch 38/50\n",
      "55/55 [==============================] - 0s 3ms/step - loss: 6.0562e-04 - accuracy: 1.0000 - val_loss: 4.0257 - val_accuracy: 0.4590\n",
      "Epoch 39/50\n",
      "55/55 [==============================] - 0s 3ms/step - loss: 5.7125e-04 - accuracy: 1.0000 - val_loss: 4.0702 - val_accuracy: 0.4590\n",
      "Epoch 40/50\n",
      "55/55 [==============================] - 0s 3ms/step - loss: 5.3612e-04 - accuracy: 1.0000 - val_loss: 4.0785 - val_accuracy: 0.4536\n",
      "Epoch 41/50\n",
      "55/55 [==============================] - 0s 3ms/step - loss: 5.0885e-04 - accuracy: 1.0000 - val_loss: 4.1220 - val_accuracy: 0.4536\n",
      "Epoch 42/50\n",
      "55/55 [==============================] - 0s 3ms/step - loss: 4.7998e-04 - accuracy: 1.0000 - val_loss: 4.1155 - val_accuracy: 0.4536\n",
      "Epoch 43/50\n",
      "55/55 [==============================] - 0s 3ms/step - loss: 4.5320e-04 - accuracy: 1.0000 - val_loss: 4.1608 - val_accuracy: 0.4590\n",
      "Epoch 44/50\n",
      "55/55 [==============================] - 0s 3ms/step - loss: 4.2820e-04 - accuracy: 1.0000 - val_loss: 4.1734 - val_accuracy: 0.4536\n",
      "Epoch 45/50\n",
      "55/55 [==============================] - 0s 3ms/step - loss: 4.0603e-04 - accuracy: 1.0000 - val_loss: 4.2009 - val_accuracy: 0.4536\n",
      "Epoch 46/50\n",
      "55/55 [==============================] - 0s 3ms/step - loss: 3.8250e-04 - accuracy: 1.0000 - val_loss: 4.2350 - val_accuracy: 0.4590\n",
      "Epoch 47/50\n",
      "55/55 [==============================] - 0s 3ms/step - loss: 3.6349e-04 - accuracy: 1.0000 - val_loss: 4.2427 - val_accuracy: 0.4590\n",
      "Epoch 48/50\n",
      "55/55 [==============================] - 0s 3ms/step - loss: 3.4682e-04 - accuracy: 1.0000 - val_loss: 4.2533 - val_accuracy: 0.4536\n",
      "Epoch 49/50\n",
      "55/55 [==============================] - 0s 3ms/step - loss: 3.2866e-04 - accuracy: 1.0000 - val_loss: 4.2997 - val_accuracy: 0.4536\n",
      "Epoch 50/50\n",
      "55/55 [==============================] - 0s 3ms/step - loss: 3.1218e-04 - accuracy: 1.0000 - val_loss: 4.2994 - val_accuracy: 0.4536\n",
      "Train Model5\n",
      "Epoch 1/50\n"
     ]
    },
    {
     "name": "stderr",
     "output_type": "stream",
     "text": [
      "d:\\Anaconda\\lib\\site-packages\\scikeras\\wrappers.py:301: UserWarning: ``build_fn`` will be renamed to ``model`` in a future release, at which point use of ``build_fn`` will raise an Error instead.\n",
      "  warnings.warn(\n"
     ]
    },
    {
     "name": "stdout",
     "output_type": "stream",
     "text": [
      "55/55 [==============================] - 1s 3ms/step - loss: 1.5201 - accuracy: 0.4116 - val_loss: 1.6410 - val_accuracy: 0.3934\n",
      "Epoch 2/50\n",
      "55/55 [==============================] - 0s 1ms/step - loss: 0.9412 - accuracy: 0.6571 - val_loss: 1.6349 - val_accuracy: 0.4481\n",
      "Epoch 3/50\n",
      "55/55 [==============================] - 0s 1ms/step - loss: 0.6849 - accuracy: 0.7574 - val_loss: 1.7978 - val_accuracy: 0.4262\n",
      "Epoch 4/50\n",
      "55/55 [==============================] - 0s 1ms/step - loss: 0.5035 - accuracy: 0.8334 - val_loss: 1.8133 - val_accuracy: 0.4973\n",
      "Epoch 5/50\n",
      "55/55 [==============================] - 0s 1ms/step - loss: 0.3507 - accuracy: 0.8948 - val_loss: 2.0247 - val_accuracy: 0.4536\n",
      "Epoch 6/50\n",
      "55/55 [==============================] - 0s 1ms/step - loss: 0.2473 - accuracy: 0.9295 - val_loss: 2.1357 - val_accuracy: 0.4590\n",
      "Epoch 7/50\n",
      "55/55 [==============================] - 0s 1ms/step - loss: 0.1832 - accuracy: 0.9483 - val_loss: 2.1986 - val_accuracy: 0.4809\n",
      "Epoch 8/50\n",
      "55/55 [==============================] - 0s 1ms/step - loss: 0.1254 - accuracy: 0.9702 - val_loss: 2.8037 - val_accuracy: 0.4536\n",
      "Epoch 9/50\n",
      "55/55 [==============================] - 0s 1ms/step - loss: 0.1280 - accuracy: 0.9733 - val_loss: 2.7642 - val_accuracy: 0.4536\n",
      "Epoch 10/50\n",
      "55/55 [==============================] - 0s 1ms/step - loss: 0.0836 - accuracy: 0.9848 - val_loss: 2.8369 - val_accuracy: 0.4863\n",
      "Epoch 11/50\n",
      "55/55 [==============================] - 0s 2ms/step - loss: 0.0809 - accuracy: 0.9805 - val_loss: 3.0217 - val_accuracy: 0.4317\n",
      "Epoch 12/50\n",
      "55/55 [==============================] - 0s 1ms/step - loss: 0.0711 - accuracy: 0.9793 - val_loss: 2.8825 - val_accuracy: 0.4536\n",
      "Epoch 13/50\n",
      "55/55 [==============================] - 0s 1ms/step - loss: 0.0413 - accuracy: 0.9897 - val_loss: 3.0194 - val_accuracy: 0.4590\n",
      "Epoch 14/50\n",
      "55/55 [==============================] - 0s 1ms/step - loss: 0.0287 - accuracy: 0.9945 - val_loss: 3.1920 - val_accuracy: 0.4372\n",
      "Epoch 15/50\n",
      "55/55 [==============================] - 0s 1ms/step - loss: 0.0125 - accuracy: 0.9994 - val_loss: 3.1512 - val_accuracy: 0.4536\n",
      "Epoch 16/50\n",
      "55/55 [==============================] - 0s 1ms/step - loss: 0.0077 - accuracy: 1.0000 - val_loss: 3.2188 - val_accuracy: 0.4645\n",
      "Epoch 17/50\n",
      "55/55 [==============================] - 0s 1ms/step - loss: 0.0053 - accuracy: 1.0000 - val_loss: 3.3430 - val_accuracy: 0.4372\n",
      "Epoch 18/50\n",
      "55/55 [==============================] - 0s 1ms/step - loss: 0.0042 - accuracy: 1.0000 - val_loss: 3.3579 - val_accuracy: 0.4699\n",
      "Epoch 19/50\n",
      "55/55 [==============================] - 0s 1ms/step - loss: 0.0037 - accuracy: 1.0000 - val_loss: 3.3911 - val_accuracy: 0.4645\n",
      "Epoch 20/50\n",
      "55/55 [==============================] - 0s 1ms/step - loss: 0.0033 - accuracy: 1.0000 - val_loss: 3.4247 - val_accuracy: 0.4590\n",
      "Epoch 21/50\n",
      "55/55 [==============================] - 0s 1ms/step - loss: 0.0029 - accuracy: 1.0000 - val_loss: 3.4681 - val_accuracy: 0.4645\n",
      "Epoch 22/50\n",
      "55/55 [==============================] - 0s 1ms/step - loss: 0.0026 - accuracy: 1.0000 - val_loss: 3.4677 - val_accuracy: 0.4699\n",
      "Epoch 23/50\n",
      "55/55 [==============================] - 0s 1ms/step - loss: 0.0023 - accuracy: 1.0000 - val_loss: 3.5261 - val_accuracy: 0.4645\n",
      "Epoch 24/50\n",
      "55/55 [==============================] - 0s 1ms/step - loss: 0.0022 - accuracy: 1.0000 - val_loss: 3.5560 - val_accuracy: 0.4645\n",
      "Epoch 25/50\n",
      "55/55 [==============================] - 0s 1ms/step - loss: 0.0020 - accuracy: 1.0000 - val_loss: 3.5671 - val_accuracy: 0.4699\n",
      "Epoch 26/50\n",
      "55/55 [==============================] - 0s 1ms/step - loss: 0.0018 - accuracy: 1.0000 - val_loss: 3.6069 - val_accuracy: 0.4699\n",
      "Epoch 27/50\n",
      "55/55 [==============================] - 0s 1ms/step - loss: 0.0017 - accuracy: 1.0000 - val_loss: 3.6589 - val_accuracy: 0.4645\n",
      "Epoch 28/50\n",
      "55/55 [==============================] - 0s 1ms/step - loss: 0.0016 - accuracy: 1.0000 - val_loss: 3.6630 - val_accuracy: 0.4645\n",
      "Epoch 29/50\n",
      "55/55 [==============================] - 0s 1ms/step - loss: 0.0015 - accuracy: 1.0000 - val_loss: 3.7201 - val_accuracy: 0.4645\n",
      "Epoch 30/50\n",
      "55/55 [==============================] - 0s 1ms/step - loss: 0.0013 - accuracy: 1.0000 - val_loss: 3.7299 - val_accuracy: 0.4699\n",
      "Epoch 31/50\n",
      "55/55 [==============================] - 0s 1ms/step - loss: 0.0013 - accuracy: 1.0000 - val_loss: 3.7586 - val_accuracy: 0.4590\n",
      "Epoch 32/50\n",
      "55/55 [==============================] - 0s 1ms/step - loss: 0.0012 - accuracy: 1.0000 - val_loss: 3.7728 - val_accuracy: 0.4645\n",
      "Epoch 33/50\n",
      "55/55 [==============================] - 0s 1ms/step - loss: 0.0011 - accuracy: 1.0000 - val_loss: 3.7914 - val_accuracy: 0.4645\n",
      "Epoch 34/50\n",
      "55/55 [==============================] - 0s 1ms/step - loss: 0.0010 - accuracy: 1.0000 - val_loss: 3.8312 - val_accuracy: 0.4590\n",
      "Epoch 35/50\n",
      "55/55 [==============================] - 0s 1ms/step - loss: 9.7417e-04 - accuracy: 1.0000 - val_loss: 3.8409 - val_accuracy: 0.4536\n",
      "Epoch 36/50\n",
      "55/55 [==============================] - 0s 1ms/step - loss: 9.1358e-04 - accuracy: 1.0000 - val_loss: 3.8793 - val_accuracy: 0.4590\n",
      "Epoch 37/50\n",
      "55/55 [==============================] - 0s 1ms/step - loss: 8.6291e-04 - accuracy: 1.0000 - val_loss: 3.8936 - val_accuracy: 0.4590\n",
      "Epoch 38/50\n",
      "55/55 [==============================] - 0s 1ms/step - loss: 8.1074e-04 - accuracy: 1.0000 - val_loss: 3.9257 - val_accuracy: 0.4645\n",
      "Epoch 39/50\n",
      "55/55 [==============================] - 0s 1ms/step - loss: 7.7192e-04 - accuracy: 1.0000 - val_loss: 3.9379 - val_accuracy: 0.4590\n",
      "Epoch 40/50\n",
      "55/55 [==============================] - 0s 1ms/step - loss: 7.2482e-04 - accuracy: 1.0000 - val_loss: 3.9460 - val_accuracy: 0.4536\n",
      "Epoch 41/50\n",
      "55/55 [==============================] - 0s 1ms/step - loss: 6.8712e-04 - accuracy: 1.0000 - val_loss: 3.9750 - val_accuracy: 0.4590\n",
      "Epoch 42/50\n",
      "55/55 [==============================] - 0s 1ms/step - loss: 6.5223e-04 - accuracy: 1.0000 - val_loss: 4.0125 - val_accuracy: 0.4536\n",
      "Epoch 43/50\n",
      "55/55 [==============================] - 0s 1ms/step - loss: 6.1347e-04 - accuracy: 1.0000 - val_loss: 4.0260 - val_accuracy: 0.4590\n",
      "Epoch 44/50\n",
      "55/55 [==============================] - 0s 1ms/step - loss: 5.8113e-04 - accuracy: 1.0000 - val_loss: 4.0352 - val_accuracy: 0.4536\n",
      "Epoch 45/50\n",
      "55/55 [==============================] - 0s 1ms/step - loss: 5.5979e-04 - accuracy: 1.0000 - val_loss: 4.0548 - val_accuracy: 0.4536\n",
      "Epoch 46/50\n",
      "55/55 [==============================] - 0s 1ms/step - loss: 5.2369e-04 - accuracy: 1.0000 - val_loss: 4.0663 - val_accuracy: 0.4699\n",
      "Epoch 47/50\n",
      "55/55 [==============================] - 0s 1ms/step - loss: 5.0225e-04 - accuracy: 1.0000 - val_loss: 4.1189 - val_accuracy: 0.4536\n",
      "Epoch 48/50\n",
      "55/55 [==============================] - 0s 1ms/step - loss: 4.7652e-04 - accuracy: 1.0000 - val_loss: 4.1135 - val_accuracy: 0.4536\n",
      "Epoch 49/50\n",
      "55/55 [==============================] - 0s 1ms/step - loss: 4.5685e-04 - accuracy: 1.0000 - val_loss: 4.1404 - val_accuracy: 0.4645\n",
      "Epoch 50/50\n",
      "55/55 [==============================] - 0s 1ms/step - loss: 4.3064e-04 - accuracy: 1.0000 - val_loss: 4.1632 - val_accuracy: 0.4645\n"
     ]
    }
   ],
   "source": [
    "clf1=KerasClassifier(build_fn=build_model1)\n",
    "clf2=KerasClassifier(build_fn=build_model2)\n",
    "clf3=KerasClassifier(build_fn=build_model3)\n",
    "clf4=KerasClassifier(build_fn=build_model4)\n",
    "clf5=KerasClassifier(build_fn=build_model5)\n",
    "\n",
    "print(\"Train Model1\")\n",
    "history1=clf1.fit(X_train, y_train,validation_split=0.1,epochs=50, batch_size=30).history_\n",
    "print(\"Train Model2\")\n",
    "history2=clf2.fit(X_train, y_train,validation_split=0.1,epochs=50, batch_size=30).history_\n",
    "print(\"Train Model3\")\n",
    "history3=clf3.fit(X_train, y_train,validation_split=0.1,epochs=50, batch_size=30).history_\n",
    "print(\"Train Model4\")\n",
    "history4=clf4.fit(X_train, y_train,validation_split=0.1,epochs=50, batch_size=30).history_\n",
    "print(\"Train Model5\")\n",
    "history5=clf5.fit(X_train, y_train,validation_split=0.1,epochs=50, batch_size=30).history_"
   ]
  },
  {
   "cell_type": "code",
   "execution_count": 12,
   "metadata": {},
   "outputs": [
    {
     "name": "stdout",
     "output_type": "stream",
     "text": [
      "20/20 [==============================] - 0s 579us/step\n",
      "              precision    recall  f1-score   support\n",
      "\n",
      "           0       0.54      0.75      0.63        96\n",
      "           1       0.52      0.64      0.57        96\n",
      "           2       0.52      0.58      0.55        48\n",
      "           3       0.58      0.36      0.45        96\n",
      "           4       0.46      0.43      0.44        96\n",
      "           5       0.38      0.38      0.38        48\n",
      "           6       0.41      0.31      0.35        96\n",
      "           7       0.47      0.48      0.47        48\n",
      "\n",
      "    accuracy                           0.49       624\n",
      "   macro avg       0.48      0.49      0.48       624\n",
      "weighted avg       0.49      0.49      0.48       624\n",
      "\n"
     ]
    }
   ],
   "source": [
    "y_pred1=clf1.predict(X_test).astype(int)\n",
    "print(classification_report(y_test, y_pred1))"
   ]
  },
  {
   "cell_type": "code",
   "execution_count": 13,
   "metadata": {},
   "outputs": [
    {
     "name": "stdout",
     "output_type": "stream",
     "text": [
      "20/20 [==============================] - 0s 632us/step\n",
      "              precision    recall  f1-score   support\n",
      "\n",
      "           0       0.55      0.78      0.64        96\n",
      "           1       0.56      0.65      0.60        96\n",
      "           2       0.45      0.56      0.50        48\n",
      "           3       0.59      0.43      0.49        96\n",
      "           4       0.44      0.38      0.40        96\n",
      "           5       0.38      0.38      0.38        48\n",
      "           6       0.40      0.30      0.35        96\n",
      "           7       0.53      0.50      0.52        48\n",
      "\n",
      "    accuracy                           0.50       624\n",
      "   macro avg       0.49      0.50      0.49       624\n",
      "weighted avg       0.50      0.50      0.49       624\n",
      "\n"
     ]
    }
   ],
   "source": [
    "y_pred2=clf2.predict(X_test).astype(int)\n",
    "print(classification_report(y_test, y_pred2))"
   ]
  },
  {
   "cell_type": "code",
   "execution_count": 23,
   "metadata": {},
   "outputs": [
    {
     "data": {
      "image/png": "[encoded data removed]",
      "text/plain": [
       "<Figure size 432x288 with 1 Axes>"
      ]
     },
     "metadata": {
      "needs_background": "light"
     },
     "output_type": "display_data"
    }
   ],
   "source": [
    "plt.plot(history2['accuracy'], label='Train')\n",
    "plt.plot(history2['val_accuracy'], label='Val')\n",
    "plt.xlabel('Epochs')\n",
    "plt.ylabel('Accuracy')\n",
    "plt.legend()\n",
    "plt.show()"
   ]
  },
  {
   "cell_type": "code",
   "execution_count": 24,
   "metadata": {},
   "outputs": [
    {
     "data": {
      "image/png": "[encoded data removed]",
      "text/plain": [
       "<Figure size 432x288 with 1 Axes>"
      ]
     },
     "metadata": {
      "needs_background": "light"
     },
     "output_type": "display_data"
    }
   ],
   "source": [
    "plt.plot(history2['loss'], label='Train')\n",
    "plt.plot(history2['val_loss'], label='Val')\n",
    "plt.xlabel('Epochs')\n",
    "plt.ylabel('Loss')\n",
    "plt.legend()\n",
    "plt.show()"
   ]
  },
  {
   "cell_type": "code",
   "execution_count": 14,
   "metadata": {},
   "outputs": [
    {
     "name": "stdout",
     "output_type": "stream",
     "text": [
      "20/20 [==============================] - 0s 3ms/step\n",
      "              precision    recall  f1-score   support\n",
      "\n",
      "           0       0.53      0.80      0.64        96\n",
      "           1       0.67      0.35      0.46        96\n",
      "           2       0.53      0.54      0.54        48\n",
      "           3       0.43      0.47      0.45        96\n",
      "           4       0.44      0.31      0.37        96\n",
      "           5       0.45      0.35      0.40        48\n",
      "           6       0.41      0.62      0.49        96\n",
      "           7       0.48      0.21      0.29        48\n",
      "\n",
      "    accuracy                           0.48       624\n",
      "   macro avg       0.49      0.46      0.45       624\n",
      "weighted avg       0.49      0.48      0.46       624\n",
      "\n"
     ]
    }
   ],
   "source": [
    "y_pred3=clf3.predict(X_test).astype(int)\n",
    "print(classification_report(y_test, y_pred3))"
   ]
  },
  {
   "cell_type": "code",
   "execution_count": 25,
   "metadata": {},
   "outputs": [
    {
     "data": {
      "image/png": "[encoded data removed]",
      "text/plain": [
       "<Figure size 432x288 with 1 Axes>"
      ]
     },
     "metadata": {
      "needs_background": "light"
     },
     "output_type": "display_data"
    }
   ],
   "source": [
    "plt.plot(history3['accuracy'], label='Train')\n",
    "plt.plot(history3['val_accuracy'], label='Val')\n",
    "plt.xlabel('Epochs')\n",
    "plt.ylabel('Accuracy')\n",
    "plt.legend()\n",
    "plt.show()"
   ]
  },
  {
   "cell_type": "code",
   "execution_count": 26,
   "metadata": {},
   "outputs": [
    {
     "data": {
      "image/png": "[encoded data removed]",
      "text/plain": [
       "<Figure size 432x288 with 1 Axes>"
      ]
     },
     "metadata": {
      "needs_background": "light"
     },
     "output_type": "display_data"
    }
   ],
   "source": [
    "plt.plot(history3['loss'], label='Train')\n",
    "plt.plot(history3['val_loss'], label='Val')\n",
    "plt.xlabel('Epochs')\n",
    "plt.ylabel('Loss')\n",
    "plt.legend()\n",
    "plt.show()"
   ]
  },
  {
   "cell_type": "code",
   "execution_count": 15,
   "metadata": {},
   "outputs": [
    {
     "name": "stdout",
     "output_type": "stream",
     "text": [
      "20/20 [==============================] - 0s 658us/step\n",
      "              precision    recall  f1-score   support\n",
      "\n",
      "           0       0.57      0.77      0.66        96\n",
      "           1       0.56      0.69      0.62        96\n",
      "           2       0.50      0.56      0.53        48\n",
      "           3       0.60      0.38      0.46        96\n",
      "           4       0.43      0.48      0.46        96\n",
      "           5       0.39      0.38      0.38        48\n",
      "           6       0.47      0.34      0.40        96\n",
      "           7       0.57      0.50      0.53        48\n",
      "\n",
      "    accuracy                           0.52       624\n",
      "   macro avg       0.51      0.51      0.50       624\n",
      "weighted avg       0.52      0.52      0.51       624\n",
      "\n"
     ]
    }
   ],
   "source": [
    "y_pred4=clf4.predict(X_test).astype(int)\n",
    "print(classification_report(y_test, y_pred4))"
   ]
  },
  {
   "cell_type": "code",
   "execution_count": 27,
   "metadata": {},
   "outputs": [
    {
     "data": {
      "image/png": "[encoded data removed]",
      "text/plain": [
       "<Figure size 432x288 with 1 Axes>"
      ]
     },
     "metadata": {
      "needs_background": "light"
     },
     "output_type": "display_data"
    }
   ],
   "source": [
    "plt.plot(history4['accuracy'], label='Train')\n",
    "plt.plot(history4['val_accuracy'], label='Val')\n",
    "plt.xlabel('Epochs')\n",
    "plt.ylabel('Accuracy')\n",
    "plt.legend()\n",
    "plt.show()"
   ]
  },
  {
   "cell_type": "code",
   "execution_count": 28,
   "metadata": {},
   "outputs": [
    {
     "data": {
      "image/png": "[encoded data removed]",
      "text/plain": [
       "<Figure size 432x288 with 1 Axes>"
      ]
     },
     "metadata": {
      "needs_background": "light"
     },
     "output_type": "display_data"
    }
   ],
   "source": [
    "plt.plot(history4['loss'], label='Train')\n",
    "plt.plot(history4['val_loss'], label='Val')\n",
    "plt.xlabel('Epochs')\n",
    "plt.ylabel('Loss')\n",
    "plt.legend()\n",
    "plt.show()"
   ]
  },
  {
   "cell_type": "code",
   "execution_count": 20,
   "metadata": {},
   "outputs": [
    {
     "name": "stdout",
     "output_type": "stream",
     "text": [
      "20/20 [==============================] - 0s 632us/step\n",
      "              precision    recall  f1-score   support\n",
      "\n",
      "           0       0.55      0.75      0.63        96\n",
      "           1       0.54      0.64      0.58        96\n",
      "           2       0.54      0.67      0.60        48\n",
      "           3       0.66      0.42      0.51        96\n",
      "           4       0.47      0.45      0.46        96\n",
      "           5       0.44      0.50      0.47        48\n",
      "           6       0.44      0.30      0.36        96\n",
      "           7       0.50      0.50      0.50        48\n",
      "\n",
      "    accuracy                           0.52       624\n",
      "   macro avg       0.52      0.53      0.51       624\n",
      "weighted avg       0.52      0.52      0.51       624\n",
      "\n"
     ]
    }
   ],
   "source": [
    "y_pred5=clf5.predict(X_test).astype(int)\n",
    "print(classification_report(y_test, y_pred5))"
   ]
  },
  {
   "cell_type": "code",
   "execution_count": 29,
   "metadata": {},
   "outputs": [
    {
     "data": {
      "image/png": "[encoded data removed]",
      "text/plain": [
       "<Figure size 432x288 with 1 Axes>"
      ]
     },
     "metadata": {
      "needs_background": "light"
     },
     "output_type": "display_data"
    }
   ],
   "source": [
    "plt.plot(history5['accuracy'], label='Train')\n",
    "plt.plot(history5['val_accuracy'], label='Val')\n",
    "plt.xlabel('Epochs')\n",
    "plt.ylabel('Accuracy')\n",
    "plt.legend()\n",
    "plt.show()"
   ]
  },
  {
   "cell_type": "code",
   "execution_count": 31,
   "metadata": {},
   "outputs": [
    {
     "data": {
      "image/png": "[encoded data removed]",
      "text/plain": [
       "<Figure size 432x288 with 1 Axes>"
      ]
     },
     "metadata": {
      "needs_background": "light"
     },
     "output_type": "display_data"
    }
   ],
   "source": [
    "plt.plot(history5['loss'], label='Train')\n",
    "plt.plot(history5['val_loss'], label='Val')\n",
    "plt.xlabel('Epochs')\n",
    "plt.ylabel('Loss')\n",
    "plt.legend()\n",
    "plt.show()"
   ]
  },
  {
   "attachments": {},
   "cell_type": "markdown",
   "metadata": {},
   "source": [
    "Nonostante i modelli 4 e 5 hanno ottenuto buone perfrormance sul test, proviamo ad introdurre delle regolarizzazioni per minimizzare la loss in questi 2 modelli"
   ]
  },
  {
   "cell_type": "code",
   "execution_count": 13,
   "metadata": {},
   "outputs": [],
   "source": [
    "n_classes = 8\n",
    "def build_model4_L2():\n",
    "    n_feature = X_train.shape[1] # numero colonne\n",
    "    model = Sequential()\n",
    "    model.add(Dense(512, input_dim=n_feature, activation='relu',kernel_regularizer=l2(0.04)))\n",
    "    model.add(Dense(512, activation='relu',kernel_regularizer=l2(0.04)))# second layer\n",
    "    model.add(Dropout(0.05))# between these levels, for each iteration, 10% weight connection are put to 0\n",
    "    model.add(Dense(n_classes, activation='softmax'))\n",
    "    # if we have multiclass u have to specify as output the number of classes\n",
    "    model.compile(loss='sparse_categorical_crossentropy', # compile=build the network. if binary classification use binary_crossentropy as loss fucntions\n",
    "                  optimizer=\"adam\", metrics=['accuracy']) # metric u want to observe -> typically accuracy,f1 score\n",
    "    return model"
   ]
  },
  {
   "cell_type": "code",
   "execution_count": 14,
   "metadata": {},
   "outputs": [],
   "source": [
    "n_classes = 8\n",
    "def build_model5_L2():\n",
    "    n_feature = X_train.shape[1] # numero colonne\n",
    "    model = Sequential()\n",
    "    model.add(Dense(512, input_dim=n_feature, activation='relu',kernel_regularizer=l2(0.04))) \n",
    "    model.add(Dense(n_feature, activation='relu',kernel_regularizer=l2(0.04)))# second layer\n",
    "    model.add(Dropout(0.05))# between these levels, for each iteration, 10% weight connection are put to 0\n",
    "    model.add(Dense(n_classes, activation='softmax'))\n",
    "    # if we have multiclass u have to specify as output the number of classes\n",
    "    model.compile(loss='sparse_categorical_crossentropy', # compile=build the network. if binary classification use binary_crossentropy as loss fucntions\n",
    "                  optimizer=\"adam\", metrics=['accuracy']) # metric u want to observe -> typically accuracy,f1 score\n",
    "    return model"
   ]
  },
  {
   "cell_type": "code",
   "execution_count": 15,
   "metadata": {},
   "outputs": [
    {
     "name": "stdout",
     "output_type": "stream",
     "text": [
      "Train Model4_L2\n",
      "Epoch 1/50\n"
     ]
    },
    {
     "name": "stderr",
     "output_type": "stream",
     "text": [
      "d:\\Anaconda\\lib\\site-packages\\scikeras\\wrappers.py:301: UserWarning: ``build_fn`` will be renamed to ``model`` in a future release, at which point use of ``build_fn`` will raise an Error instead.\n",
      "  warnings.warn(\n"
     ]
    },
    {
     "name": "stdout",
     "output_type": "stream",
     "text": [
      "4/4 [==============================] - 1s 45ms/step - loss: 34.9770 - accuracy: 0.2219 - val_loss: 31.7985 - val_accuracy: 0.2568\n",
      "Epoch 2/50\n",
      "4/4 [==============================] - 0s 13ms/step - loss: 30.4126 - accuracy: 0.4261 - val_loss: 27.6788 - val_accuracy: 0.2951\n",
      "Epoch 3/50\n",
      "4/4 [==============================] - 0s 12ms/step - loss: 26.3851 - accuracy: 0.4778 - val_loss: 23.9664 - val_accuracy: 0.3661\n",
      "Epoch 4/50\n",
      "4/4 [==============================] - 0s 12ms/step - loss: 22.7617 - accuracy: 0.5258 - val_loss: 20.6541 - val_accuracy: 0.3934\n",
      "Epoch 5/50\n",
      "4/4 [==============================] - 0s 12ms/step - loss: 19.5474 - accuracy: 0.5465 - val_loss: 17.7472 - val_accuracy: 0.3880\n",
      "Epoch 6/50\n",
      "4/4 [==============================] - 0s 11ms/step - loss: 16.7161 - accuracy: 0.5647 - val_loss: 15.1829 - val_accuracy: 0.4208\n",
      "Epoch 7/50\n",
      "4/4 [==============================] - 0s 10ms/step - loss: 14.2561 - accuracy: 0.5872 - val_loss: 12.9666 - val_accuracy: 0.4208\n",
      "Epoch 8/50\n",
      "4/4 [==============================] - 0s 10ms/step - loss: 12.1310 - accuracy: 0.5951 - val_loss: 11.0847 - val_accuracy: 0.3989\n",
      "Epoch 9/50\n",
      "4/4 [==============================] - 0s 10ms/step - loss: 10.3082 - accuracy: 0.5982 - val_loss: 9.4902 - val_accuracy: 0.3880\n",
      "Epoch 10/50\n",
      "4/4 [==============================] - 0s 11ms/step - loss: 8.7587 - accuracy: 0.6152 - val_loss: 8.1172 - val_accuracy: 0.4044\n",
      "Epoch 11/50\n",
      "4/4 [==============================] - 0s 13ms/step - loss: 7.4558 - accuracy: 0.6225 - val_loss: 6.9644 - val_accuracy: 0.4372\n",
      "Epoch 12/50\n",
      "4/4 [==============================] - 0s 13ms/step - loss: 6.3515 - accuracy: 0.6243 - val_loss: 6.0056 - val_accuracy: 0.4536\n",
      "Epoch 13/50\n",
      "4/4 [==============================] - 0s 13ms/step - loss: 5.4304 - accuracy: 0.6444 - val_loss: 5.2329 - val_accuracy: 0.4590\n",
      "Epoch 14/50\n",
      "4/4 [==============================] - 0s 12ms/step - loss: 4.6620 - accuracy: 0.6565 - val_loss: 4.5947 - val_accuracy: 0.4262\n",
      "Epoch 15/50\n",
      "4/4 [==============================] - 0s 12ms/step - loss: 4.0251 - accuracy: 0.6529 - val_loss: 4.0384 - val_accuracy: 0.4372\n",
      "Epoch 16/50\n",
      "4/4 [==============================] - 0s 12ms/step - loss: 3.4997 - accuracy: 0.6693 - val_loss: 3.5777 - val_accuracy: 0.4536\n",
      "Epoch 17/50\n",
      "4/4 [==============================] - 0s 10ms/step - loss: 3.0715 - accuracy: 0.6815 - val_loss: 3.2464 - val_accuracy: 0.4372\n",
      "Epoch 18/50\n",
      "4/4 [==============================] - 0s 10ms/step - loss: 2.7191 - accuracy: 0.6833 - val_loss: 2.9497 - val_accuracy: 0.4699\n",
      "Epoch 19/50\n",
      "4/4 [==============================] - 0s 10ms/step - loss: 2.4262 - accuracy: 0.6985 - val_loss: 2.7091 - val_accuracy: 0.4426\n",
      "Epoch 20/50\n",
      "4/4 [==============================] - 0s 10ms/step - loss: 2.1907 - accuracy: 0.7064 - val_loss: 2.5648 - val_accuracy: 0.4536\n",
      "Epoch 21/50\n",
      "4/4 [==============================] - 0s 10ms/step - loss: 2.0019 - accuracy: 0.7179 - val_loss: 2.4073 - val_accuracy: 0.4317\n",
      "Epoch 22/50\n",
      "4/4 [==============================] - 0s 12ms/step - loss: 1.8500 - accuracy: 0.7228 - val_loss: 2.2508 - val_accuracy: 0.4153\n",
      "Epoch 23/50\n",
      "4/4 [==============================] - 0s 13ms/step - loss: 1.7236 - accuracy: 0.7210 - val_loss: 2.2133 - val_accuracy: 0.4153\n",
      "Epoch 24/50\n",
      "4/4 [==============================] - 0s 14ms/step - loss: 1.6208 - accuracy: 0.7337 - val_loss: 2.0935 - val_accuracy: 0.4536\n",
      "Epoch 25/50\n",
      "4/4 [==============================] - 0s 13ms/step - loss: 1.5340 - accuracy: 0.7410 - val_loss: 2.0312 - val_accuracy: 0.4590\n",
      "Epoch 26/50\n",
      "4/4 [==============================] - 0s 17ms/step - loss: 1.4653 - accuracy: 0.7483 - val_loss: 2.0025 - val_accuracy: 0.4481\n",
      "Epoch 27/50\n",
      "4/4 [==============================] - 0s 13ms/step - loss: 1.4095 - accuracy: 0.7562 - val_loss: 1.9380 - val_accuracy: 0.4590\n",
      "Epoch 28/50\n",
      "4/4 [==============================] - 0s 13ms/step - loss: 1.3739 - accuracy: 0.7447 - val_loss: 1.8961 - val_accuracy: 0.4481\n",
      "Epoch 29/50\n",
      "4/4 [==============================] - 0s 12ms/step - loss: 1.3452 - accuracy: 0.7374 - val_loss: 1.9717 - val_accuracy: 0.4372\n",
      "Epoch 30/50\n",
      "4/4 [==============================] - 0s 10ms/step - loss: 1.3210 - accuracy: 0.7343 - val_loss: 1.9155 - val_accuracy: 0.4699\n",
      "Epoch 31/50\n",
      "4/4 [==============================] - 0s 10ms/step - loss: 1.2780 - accuracy: 0.7635 - val_loss: 1.9044 - val_accuracy: 0.4536\n",
      "Epoch 32/50\n",
      "4/4 [==============================] - 0s 11ms/step - loss: 1.2552 - accuracy: 0.7514 - val_loss: 1.8254 - val_accuracy: 0.4809\n",
      "Epoch 33/50\n",
      "4/4 [==============================] - 0s 11ms/step - loss: 1.2431 - accuracy: 0.7629 - val_loss: 1.8764 - val_accuracy: 0.4590\n",
      "Epoch 34/50\n",
      "4/4 [==============================] - 0s 10ms/step - loss: 1.2302 - accuracy: 0.7720 - val_loss: 1.8920 - val_accuracy: 0.4645\n",
      "Epoch 35/50\n",
      "4/4 [==============================] - 0s 11ms/step - loss: 1.2134 - accuracy: 0.7696 - val_loss: 1.8206 - val_accuracy: 0.4863\n",
      "Epoch 36/50\n",
      "4/4 [==============================] - 0s 10ms/step - loss: 1.2023 - accuracy: 0.7787 - val_loss: 1.8667 - val_accuracy: 0.4699\n",
      "Epoch 37/50\n",
      "4/4 [==============================] - 0s 10ms/step - loss: 1.1776 - accuracy: 0.7872 - val_loss: 1.8617 - val_accuracy: 0.4645\n",
      "Epoch 38/50\n",
      "4/4 [==============================] - 0s 10ms/step - loss: 1.1727 - accuracy: 0.7739 - val_loss: 1.8720 - val_accuracy: 0.4590\n",
      "Epoch 39/50\n",
      "4/4 [==============================] - 0s 10ms/step - loss: 1.1614 - accuracy: 0.8030 - val_loss: 1.8667 - val_accuracy: 0.4645\n",
      "Epoch 40/50\n",
      "4/4 [==============================] - 0s 11ms/step - loss: 1.1584 - accuracy: 0.7921 - val_loss: 1.8848 - val_accuracy: 0.4809\n",
      "Epoch 41/50\n",
      "4/4 [==============================] - 0s 12ms/step - loss: 1.1481 - accuracy: 0.7957 - val_loss: 1.8544 - val_accuracy: 0.4372\n",
      "Epoch 42/50\n",
      "4/4 [==============================] - 0s 11ms/step - loss: 1.1367 - accuracy: 0.8073 - val_loss: 1.9164 - val_accuracy: 0.4809\n",
      "Epoch 43/50\n",
      "4/4 [==============================] - 0s 11ms/step - loss: 1.1397 - accuracy: 0.7982 - val_loss: 1.7920 - val_accuracy: 0.4536\n",
      "Epoch 44/50\n",
      "4/4 [==============================] - 0s 11ms/step - loss: 1.1348 - accuracy: 0.7964 - val_loss: 1.8518 - val_accuracy: 0.4754\n",
      "Epoch 45/50\n",
      "4/4 [==============================] - 0s 12ms/step - loss: 1.1265 - accuracy: 0.7957 - val_loss: 1.8615 - val_accuracy: 0.4645\n",
      "Epoch 46/50\n",
      "4/4 [==============================] - 0s 15ms/step - loss: 1.1104 - accuracy: 0.8085 - val_loss: 1.8466 - val_accuracy: 0.5027\n",
      "Epoch 47/50\n",
      "4/4 [==============================] - 0s 13ms/step - loss: 1.1097 - accuracy: 0.8043 - val_loss: 1.8514 - val_accuracy: 0.4754\n",
      "Epoch 48/50\n",
      "4/4 [==============================] - 0s 13ms/step - loss: 1.0927 - accuracy: 0.8280 - val_loss: 1.8644 - val_accuracy: 0.4699\n",
      "Epoch 49/50\n",
      "4/4 [==============================] - 0s 13ms/step - loss: 1.0957 - accuracy: 0.8128 - val_loss: 1.9140 - val_accuracy: 0.4645\n",
      "Epoch 50/50\n",
      "4/4 [==============================] - 0s 14ms/step - loss: 1.0865 - accuracy: 0.8201 - val_loss: 1.8810 - val_accuracy: 0.5082\n",
      "Train Model5_L2\n",
      "Epoch 1/50\n"
     ]
    },
    {
     "name": "stderr",
     "output_type": "stream",
     "text": [
      "d:\\Anaconda\\lib\\site-packages\\scikeras\\wrappers.py:301: UserWarning: ``build_fn`` will be renamed to ``model`` in a future release, at which point use of ``build_fn`` will raise an Error instead.\n",
      "  warnings.warn(\n"
     ]
    },
    {
     "name": "stdout",
     "output_type": "stream",
     "text": [
      "4/4 [==============================] - 1s 41ms/step - loss: 28.4284 - accuracy: 0.2225 - val_loss: 26.0938 - val_accuracy: 0.3333\n",
      "Epoch 2/50\n",
      "4/4 [==============================] - 0s 8ms/step - loss: 25.0797 - accuracy: 0.3964 - val_loss: 23.0757 - val_accuracy: 0.4044\n",
      "Epoch 3/50\n",
      "4/4 [==============================] - 0s 10ms/step - loss: 22.1036 - accuracy: 0.4729 - val_loss: 20.3490 - val_accuracy: 0.4098\n",
      "Epoch 4/50\n",
      "4/4 [==============================] - 0s 10ms/step - loss: 19.4021 - accuracy: 0.5277 - val_loss: 17.8657 - val_accuracy: 0.4317\n",
      "Epoch 5/50\n",
      "4/4 [==============================] - 0s 10ms/step - loss: 16.9685 - accuracy: 0.5587 - val_loss: 15.6247 - val_accuracy: 0.4590\n",
      "Epoch 6/50\n",
      "4/4 [==============================] - 0s 11ms/step - loss: 14.8014 - accuracy: 0.5647 - val_loss: 13.6559 - val_accuracy: 0.4426\n",
      "Epoch 7/50\n",
      "4/4 [==============================] - 0s 9ms/step - loss: 12.8720 - accuracy: 0.5903 - val_loss: 11.9003 - val_accuracy: 0.4208\n",
      "Epoch 8/50\n",
      "4/4 [==============================] - 0s 9ms/step - loss: 11.1746 - accuracy: 0.6213 - val_loss: 10.3608 - val_accuracy: 0.4317\n",
      "Epoch 9/50\n",
      "4/4 [==============================] - 0s 9ms/step - loss: 9.6972 - accuracy: 0.6340 - val_loss: 9.0394 - val_accuracy: 0.4098\n",
      "Epoch 10/50\n",
      "4/4 [==============================] - 0s 10ms/step - loss: 8.4159 - accuracy: 0.6237 - val_loss: 7.8915 - val_accuracy: 0.4317\n",
      "Epoch 11/50\n",
      "4/4 [==============================] - 0s 9ms/step - loss: 7.3074 - accuracy: 0.6322 - val_loss: 6.8984 - val_accuracy: 0.4317\n",
      "Epoch 12/50\n",
      "4/4 [==============================] - 0s 10ms/step - loss: 6.3509 - accuracy: 0.6523 - val_loss: 6.0576 - val_accuracy: 0.4590\n",
      "Epoch 13/50\n",
      "4/4 [==============================] - 0s 9ms/step - loss: 5.5347 - accuracy: 0.6553 - val_loss: 5.3598 - val_accuracy: 0.4536\n",
      "Epoch 14/50\n",
      "4/4 [==============================] - 0s 9ms/step - loss: 4.8350 - accuracy: 0.6590 - val_loss: 4.7586 - val_accuracy: 0.4481\n",
      "Epoch 15/50\n",
      "4/4 [==============================] - 0s 10ms/step - loss: 4.2431 - accuracy: 0.6638 - val_loss: 4.2109 - val_accuracy: 0.4590\n",
      "Epoch 16/50\n",
      "4/4 [==============================] - 0s 9ms/step - loss: 3.7487 - accuracy: 0.6796 - val_loss: 3.7797 - val_accuracy: 0.4754\n",
      "Epoch 17/50\n",
      "4/4 [==============================] - 0s 9ms/step - loss: 3.3199 - accuracy: 0.6851 - val_loss: 3.4648 - val_accuracy: 0.4153\n",
      "Epoch 18/50\n",
      "4/4 [==============================] - 0s 8ms/step - loss: 2.9651 - accuracy: 0.6802 - val_loss: 3.1661 - val_accuracy: 0.4044\n",
      "Epoch 19/50\n",
      "4/4 [==============================] - 0s 8ms/step - loss: 2.6648 - accuracy: 0.6796 - val_loss: 2.8805 - val_accuracy: 0.4536\n",
      "Epoch 20/50\n",
      "4/4 [==============================] - 0s 9ms/step - loss: 2.4143 - accuracy: 0.7009 - val_loss: 2.7005 - val_accuracy: 0.4372\n",
      "Epoch 21/50\n",
      "4/4 [==============================] - 0s 9ms/step - loss: 2.2129 - accuracy: 0.7052 - val_loss: 2.5736 - val_accuracy: 0.4153\n",
      "Epoch 22/50\n",
      "4/4 [==============================] - 0s 10ms/step - loss: 2.0466 - accuracy: 0.7076 - val_loss: 2.3999 - val_accuracy: 0.4317\n",
      "Epoch 23/50\n",
      "4/4 [==============================] - 0s 10ms/step - loss: 1.8964 - accuracy: 0.7040 - val_loss: 2.2392 - val_accuracy: 0.4317\n",
      "Epoch 24/50\n",
      "4/4 [==============================] - 0s 12ms/step - loss: 1.7724 - accuracy: 0.7191 - val_loss: 2.2036 - val_accuracy: 0.4426\n",
      "Epoch 25/50\n",
      "4/4 [==============================] - 0s 10ms/step - loss: 1.6714 - accuracy: 0.7246 - val_loss: 2.0966 - val_accuracy: 0.4044\n",
      "Epoch 26/50\n",
      "4/4 [==============================] - 0s 10ms/step - loss: 1.5879 - accuracy: 0.7277 - val_loss: 2.0600 - val_accuracy: 0.4262\n",
      "Epoch 27/50\n",
      "4/4 [==============================] - 0s 10ms/step - loss: 1.5268 - accuracy: 0.7216 - val_loss: 2.0251 - val_accuracy: 0.4536\n",
      "Epoch 28/50\n",
      "4/4 [==============================] - 0s 9ms/step - loss: 1.4743 - accuracy: 0.7319 - val_loss: 1.9370 - val_accuracy: 0.4317\n",
      "Epoch 29/50\n",
      "4/4 [==============================] - 0s 9ms/step - loss: 1.4276 - accuracy: 0.7416 - val_loss: 1.9105 - val_accuracy: 0.4699\n",
      "Epoch 30/50\n",
      "4/4 [==============================] - 0s 9ms/step - loss: 1.3796 - accuracy: 0.7441 - val_loss: 1.9066 - val_accuracy: 0.4645\n",
      "Epoch 31/50\n",
      "4/4 [==============================] - 0s 13ms/step - loss: 1.3528 - accuracy: 0.7422 - val_loss: 1.9049 - val_accuracy: 0.4426\n",
      "Epoch 32/50\n",
      "4/4 [==============================] - 0s 10ms/step - loss: 1.3194 - accuracy: 0.7587 - val_loss: 1.8740 - val_accuracy: 0.4645\n",
      "Epoch 33/50\n",
      "4/4 [==============================] - 0s 9ms/step - loss: 1.3049 - accuracy: 0.7447 - val_loss: 1.8396 - val_accuracy: 0.4481\n",
      "Epoch 34/50\n",
      "4/4 [==============================] - 0s 9ms/step - loss: 1.2896 - accuracy: 0.7416 - val_loss: 1.8431 - val_accuracy: 0.4645\n",
      "Epoch 35/50\n",
      "4/4 [==============================] - 0s 9ms/step - loss: 1.2593 - accuracy: 0.7587 - val_loss: 1.8671 - val_accuracy: 0.4699\n",
      "Epoch 36/50\n",
      "4/4 [==============================] - 0s 9ms/step - loss: 1.2489 - accuracy: 0.7629 - val_loss: 1.8267 - val_accuracy: 0.4426\n",
      "Epoch 37/50\n",
      "4/4 [==============================] - 0s 10ms/step - loss: 1.2335 - accuracy: 0.7714 - val_loss: 1.9115 - val_accuracy: 0.4372\n",
      "Epoch 38/50\n",
      "4/4 [==============================] - 0s 9ms/step - loss: 1.2284 - accuracy: 0.7647 - val_loss: 1.8479 - val_accuracy: 0.4754\n",
      "Epoch 39/50\n",
      "4/4 [==============================] - 0s 8ms/step - loss: 1.2091 - accuracy: 0.7793 - val_loss: 1.8383 - val_accuracy: 0.4536\n",
      "Epoch 40/50\n",
      "4/4 [==============================] - 0s 9ms/step - loss: 1.2050 - accuracy: 0.7781 - val_loss: 1.8526 - val_accuracy: 0.4809\n",
      "Epoch 41/50\n",
      "4/4 [==============================] - 0s 10ms/step - loss: 1.1784 - accuracy: 0.7897 - val_loss: 1.9158 - val_accuracy: 0.4590\n",
      "Epoch 42/50\n",
      "4/4 [==============================] - 0s 10ms/step - loss: 1.1797 - accuracy: 0.7872 - val_loss: 1.8513 - val_accuracy: 0.4372\n",
      "Epoch 43/50\n",
      "4/4 [==============================] - 0s 10ms/step - loss: 1.1684 - accuracy: 0.7860 - val_loss: 1.8756 - val_accuracy: 0.4481\n",
      "Epoch 44/50\n",
      "4/4 [==============================] - 0s 10ms/step - loss: 1.1643 - accuracy: 0.7884 - val_loss: 1.8504 - val_accuracy: 0.4754\n",
      "Epoch 45/50\n",
      "4/4 [==============================] - 0s 9ms/step - loss: 1.1551 - accuracy: 0.8030 - val_loss: 1.8365 - val_accuracy: 0.4645\n",
      "Epoch 46/50\n",
      "4/4 [==============================] - 0s 9ms/step - loss: 1.1653 - accuracy: 0.7812 - val_loss: 1.8381 - val_accuracy: 0.4645\n",
      "Epoch 47/50\n",
      "4/4 [==============================] - 0s 8ms/step - loss: 1.1614 - accuracy: 0.7891 - val_loss: 1.8635 - val_accuracy: 0.4645\n",
      "Epoch 48/50\n",
      "4/4 [==============================] - 0s 8ms/step - loss: 1.1494 - accuracy: 0.7921 - val_loss: 1.8379 - val_accuracy: 0.4590\n",
      "Epoch 49/50\n",
      "4/4 [==============================] - 0s 9ms/step - loss: 1.1423 - accuracy: 0.7976 - val_loss: 1.9026 - val_accuracy: 0.4536\n",
      "Epoch 50/50\n",
      "4/4 [==============================] - 0s 9ms/step - loss: 1.1439 - accuracy: 0.7903 - val_loss: 1.8999 - val_accuracy: 0.4372\n"
     ]
    }
   ],
   "source": [
    "clf4_L2=KerasClassifier(build_fn=build_model4_L2)\n",
    "clf5_L2=KerasClassifier(build_fn=build_model5_L2)\n",
    "print(\"Train Model4_L2\")\n",
    "history4_L2=clf4_L2.fit(X_train, y_train,validation_split=0.1,epochs=50, batch_size=500).history_\n",
    "print(\"Train Model5_L2\")\n",
    "history5_L2=clf5_L2.fit(X_train, y_train,validation_split=0.1,epochs=50, batch_size=500).history_"
   ]
  },
  {
   "cell_type": "code",
   "execution_count": 16,
   "metadata": {},
   "outputs": [
    {
     "name": "stdout",
     "output_type": "stream",
     "text": [
      "20/20 [==============================] - 0s 632us/step\n",
      "              precision    recall  f1-score   support\n",
      "\n",
      "           0       0.51      0.80      0.62        96\n",
      "           1       0.56      0.59      0.58        96\n",
      "           2       0.45      0.56      0.50        48\n",
      "           3       0.63      0.39      0.48        96\n",
      "           4       0.45      0.45      0.45        96\n",
      "           5       0.49      0.38      0.42        48\n",
      "           6       0.41      0.35      0.38        96\n",
      "           7       0.53      0.40      0.45        48\n",
      "\n",
      "    accuracy                           0.50       624\n",
      "   macro avg       0.50      0.49      0.49       624\n",
      "weighted avg       0.51      0.50      0.49       624\n",
      "\n"
     ]
    }
   ],
   "source": [
    "y_pred4_L2=clf4_L2.predict(X_test).astype(int)\n",
    "print(classification_report(y_test, y_pred4_L2))"
   ]
  },
  {
   "cell_type": "code",
   "execution_count": 17,
   "metadata": {},
   "outputs": [
    {
     "data": {
      "image/png": "[encoded data removed]",
      "text/plain": [
       "<Figure size 432x288 with 1 Axes>"
      ]
     },
     "metadata": {
      "needs_background": "light"
     },
     "output_type": "display_data"
    }
   ],
   "source": [
    "plt.plot(history4_L2['accuracy'], label='Train')\n",
    "plt.plot(history4_L2['val_accuracy'], label='Val')\n",
    "plt.xlabel('Epochs')\n",
    "plt.ylabel('Accuracy')\n",
    "plt.legend()\n",
    "plt.show()"
   ]
  },
  {
   "cell_type": "code",
   "execution_count": 18,
   "metadata": {},
   "outputs": [
    {
     "data": {
      "image/png": "[encoded data removed]",
      "text/plain": [
       "<Figure size 432x288 with 1 Axes>"
      ]
     },
     "metadata": {
      "needs_background": "light"
     },
     "output_type": "display_data"
    }
   ],
   "source": [
    "plt.plot(history4_L2['loss'], label='Train')\n",
    "plt.plot(history4_L2['val_loss'], label='Val')\n",
    "plt.xlabel('Epochs')\n",
    "plt.ylabel('Loss')\n",
    "plt.legend()\n",
    "plt.show()"
   ]
  },
  {
   "cell_type": "code",
   "execution_count": 19,
   "metadata": {},
   "outputs": [
    {
     "name": "stdout",
     "output_type": "stream",
     "text": [
      "20/20 [==============================] - 0s 579us/step\n",
      "              precision    recall  f1-score   support\n",
      "\n",
      "           0       0.50      0.78      0.61        96\n",
      "           1       0.55      0.61      0.58        96\n",
      "           2       0.49      0.44      0.46        48\n",
      "           3       0.65      0.36      0.47        96\n",
      "           4       0.40      0.47      0.43        96\n",
      "           5       0.49      0.35      0.41        48\n",
      "           6       0.39      0.31      0.35        96\n",
      "           7       0.55      0.50      0.52        48\n",
      "\n",
      "    accuracy                           0.49       624\n",
      "   macro avg       0.50      0.48      0.48       624\n",
      "weighted avg       0.50      0.49      0.48       624\n",
      "\n"
     ]
    }
   ],
   "source": [
    "y_pred5_L2=clf5_L2.predict(X_test).astype(int)\n",
    "print(classification_report(y_test, y_pred5_L2))"
   ]
  },
  {
   "cell_type": "code",
   "execution_count": 20,
   "metadata": {},
   "outputs": [
    {
     "data": {
      "image/png": "[encoded data removed]",
      "text/plain": [
       "<Figure size 432x288 with 1 Axes>"
      ]
     },
     "metadata": {
      "needs_background": "light"
     },
     "output_type": "display_data"
    }
   ],
   "source": [
    "plt.plot(history5_L2['accuracy'], label='Train')\n",
    "plt.plot(history5_L2['val_accuracy'], label='Val')\n",
    "plt.xlabel('Epochs')\n",
    "plt.ylabel('Accuracy')\n",
    "plt.legend()\n",
    "plt.show()"
   ]
  },
  {
   "cell_type": "code",
   "execution_count": 21,
   "metadata": {},
   "outputs": [
    {
     "data": {
      "image/png": "[encoded data removed]",
      "text/plain": [
       "<Figure size 432x288 with 1 Axes>"
      ]
     },
     "metadata": {
      "needs_background": "light"
     },
     "output_type": "display_data"
    }
   ],
   "source": [
    "plt.plot(history5_L2['loss'], label='Train')\n",
    "plt.plot(history5_L2['val_loss'], label='Val')\n",
    "plt.xlabel('Epochs')\n",
    "plt.ylabel('Loss')\n",
    "plt.legend()\n",
    "plt.show()"
   ]
  }
 ],
 "metadata": {
  "kernelspec": {
   "display_name": "base",
   "language": "python",
   "name": "python3"
  },
  "language_info": {
   "codemirror_mode": {
    "name": "ipython",
    "version": 3
   },
   "file_extension": ".py",
   "mimetype": "text/x-python",
   "name": "python",
   "nbconvert_exporter": "python",
   "pygments_lexer": "ipython3",
   "version": "3.9.12"
  },
  "orig_nbformat": 4
 },
 "nbformat": 4,
 "nbformat_minor": 2
}
