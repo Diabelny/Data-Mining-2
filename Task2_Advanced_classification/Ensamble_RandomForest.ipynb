{
 "cells": [
  {
   "cell_type": "code",
   "execution_count": 3,
   "metadata": {},
   "outputs": [],
   "source": [
    "import numpy as np\n",
    "import pandas as pd\n",
    "import matplotlib.pyplot as plt\n",
    "\n",
    "from collections import defaultdict\n",
    "from yellowbrick.contrib.classifier import DecisionViz\n",
    "from sklearn.decomposition import PCA\n",
    "from itertools import product\n",
    "from imblearn.datasets import make_imbalance\n",
    "from imblearn.over_sampling import RandomOverSampler\n",
    "from imblearn.under_sampling import RandomUnderSampler\n",
    "from yellowbrick.datasets import load_credit\n",
    "from yellowbrick.features import PCA as PCA\n",
    "from sklearn.neighbors import KNeighborsClassifier\n",
    "from sklearn.model_selection import train_test_split, cross_val_score \n",
    "from scikitplot.metrics import plot_precision_recall, plot_roc, plot_cumulative_gain, plot_lift_curve , plot_confusion_matrix\n",
    "from sklearn.metrics import roc_curve, auc, roc_auc_score\n",
    "from sklearn.model_selection import KFold\n",
    "from sklearn import tree\n",
    "from sklearn.model_selection import StratifiedKFold, cross_val_score\n",
    "from sklearn.metrics import accuracy_score, precision_score, recall_score, confusion_matrix, f1_score, classification_report\n",
    "from sklearn.metrics import (\n",
    "    accuracy_score,\n",
    "    f1_score,\n",
    "    classification_report,\n",
    "    confusion_matrix,\n",
    "    roc_auc_score,\n",
    "    ConfusionMatrixDisplay\n",
    ")\n",
    "import warnings\n",
    "warnings.filterwarnings(\"ignore\")"
   ]
  },
  {
   "cell_type": "code",
   "execution_count": 4,
   "metadata": {},
   "outputs": [],
   "source": [
    "df_train=pd.read_csv(\"../Dataset_prepared/Prepared_train.csv\")\n",
    "df_test=pd.read_csv(\"../Dataset_prepared/Prepared_test.csv\")"
   ]
  },
  {
   "cell_type": "code",
   "execution_count": 5,
   "metadata": {},
   "outputs": [],
   "source": [
    "df_train.drop('actor',axis=1,inplace=True)\n",
    "df_train.drop('filename',axis=1,inplace=True)\n",
    "\n",
    "df_test.drop('actor',axis=1,inplace=True)\n",
    "df_test.drop('filename',axis=1,inplace=True)"
   ]
  },
  {
   "cell_type": "code",
   "execution_count": 6,
   "metadata": {},
   "outputs": [
    {
     "data": {
      "text/plain": [
       "['vocal_channel',\n",
       " 'emotion',\n",
       " 'emotional_intensity',\n",
       " 'statement',\n",
       " 'repetition',\n",
       " 'sex']"
      ]
     },
     "execution_count": 6,
     "metadata": {},
     "output_type": "execute_result"
    }
   ],
   "source": [
    "c = df_train.select_dtypes(include=['object']).columns.tolist()\n",
    "\n",
    "c"
   ]
  },
  {
   "cell_type": "code",
   "execution_count": 7,
   "metadata": {},
   "outputs": [
    {
     "data": {
      "text/plain": [
       "['vocal_channel', 'emotional_intensity', 'statement', 'repetition', 'sex']"
      ]
     },
     "execution_count": 7,
     "metadata": {},
     "output_type": "execute_result"
    }
   ],
   "source": [
    "a =[x for x in c if x!='emotion']\n",
    "a"
   ]
  },
  {
   "cell_type": "code",
   "execution_count": 8,
   "metadata": {},
   "outputs": [],
   "source": [
    "from sklearn import preprocessing\n",
    "le=preprocessing.LabelEncoder()\n",
    "c = df_train.select_dtypes(include=['object']).columns.tolist()\n",
    "for i in a:\n",
    "    df_train[i]=le.fit_transform(df_train[i])\n",
    "\n",
    "for i in a:\n",
    "    df_test[i]=le.fit_transform(df_test[i])\n",
    "df_train['emotion']=le.fit_transform(df_train['emotion'])\n",
    "df_test['emotion']=le.fit_transform(df_test['emotion'])    "
   ]
  },
  {
   "cell_type": "code",
   "execution_count": 9,
   "metadata": {},
   "outputs": [],
   "source": [
    "col=[x for x in df_train.columns if x!=\"emotion\"]\n",
    "X_train=df_train[col].values\n",
    "y_train = np.array(df_train[\"emotion\"])"
   ]
  },
  {
   "cell_type": "code",
   "execution_count": 10,
   "metadata": {},
   "outputs": [],
   "source": [
    "X_test=df_test[col].values\n",
    "y_test = np.array(df_test[\"emotion\"])"
   ]
  },
  {
   "cell_type": "code",
   "execution_count": 11,
   "metadata": {},
   "outputs": [],
   "source": [
    "def print_confMatrix(y_test,y_test_pred):\n",
    "    cm=confusion_matrix(y_test, y_test_pred)\n",
    "    disp = ConfusionMatrixDisplay(confusion_matrix=cm,display_labels =le.classes_)\n",
    "    fig, ax = plt.subplots(figsize=(10,10))\n",
    "    disp.plot(ax=ax, xticks_rotation='vertical',cmap='Greens')\n",
    "    plt.show()"
   ]
  },
  {
   "cell_type": "code",
   "execution_count": 12,
   "metadata": {},
   "outputs": [],
   "source": [
    "def print_rocCurve(clf,X_test,y_test):\n",
    "    y_tmp=clf.predict_proba(X_test)\n",
    "    plot_roc(y_test, clf.predict_proba(X_test),figsize=(10,6))\n",
    "    plt.show()"
   ]
  },
  {
   "attachments": {},
   "cell_type": "markdown",
   "metadata": {},
   "source": [
    "### RANDOM FOREST "
   ]
  },
  {
   "cell_type": "code",
   "execution_count": 13,
   "metadata": {},
   "outputs": [],
   "source": [
    "from sklearn.ensemble import RandomForestClassifier"
   ]
  },
  {
   "cell_type": "code",
   "execution_count": 14,
   "metadata": {},
   "outputs": [
    {
     "name": "stdout",
     "output_type": "stream",
     "text": [
      "Accuracy 0.41025641025641024\n",
      "F1-score [0.6        0.56       0.27777778 0.3483871  0.32352941 0.07692308\n",
      " 0.19277108 0.47706422]\n",
      "              precision    recall  f1-score   support\n",
      "\n",
      "           0       0.50      0.75      0.60        96\n",
      "           1       0.45      0.73      0.56        96\n",
      "           2       0.42      0.21      0.28        48\n",
      "           3       0.46      0.28      0.35        96\n",
      "           4       0.31      0.34      0.32        96\n",
      "           5       0.50      0.04      0.08        48\n",
      "           6       0.23      0.17      0.19        96\n",
      "           7       0.43      0.54      0.48        48\n",
      "\n",
      "    accuracy                           0.41       624\n",
      "   macro avg       0.41      0.38      0.36       624\n",
      "weighted avg       0.40      0.41      0.38       624\n",
      "\n"
     ]
    }
   ],
   "source": [
    "clf = RandomForestClassifier(max_depth=10, min_samples_split=2, min_samples_leaf=20,n_estimators=100)\n",
    "                             \n",
    "clf.fit(X_train, y_train)\n",
    "\n",
    "y_pred = clf.predict(X_test)\n",
    "\n",
    "print('Accuracy %s' % accuracy_score(y_test, y_pred))\n",
    "print('F1-score %s' % f1_score(y_test, y_pred, average=None))\n",
    "print(classification_report(y_test, y_pred))"
   ]
  },
  {
   "attachments": {},
   "cell_type": "markdown",
   "metadata": {},
   "source": [
    "BILANCIAMO"
   ]
  },
  {
   "cell_type": "code",
   "execution_count": 15,
   "metadata": {},
   "outputs": [],
   "source": [
    "from imblearn.under_sampling import TomekLinks\n",
    "from collections import Counter"
   ]
  },
  {
   "cell_type": "code",
   "execution_count": 25,
   "metadata": {},
   "outputs": [],
   "source": [
    "from sklearn.preprocessing import RobustScaler,MinMaxScaler,StandardScaler, OneHotEncoder\n",
    "\n",
    "scaler = StandardScaler()\n",
    "numeric_features = [n for n in df_train.columns if n!=\"emotion\" and n!= \"vocal_channel\" and n!= \"emotional_intensity\" and n!= \"statement\" and n!= \"repetition\" and n!= \"sex\" and n!=\"filename\" and n!=\"actor\"]\n",
    "scaled_features = scaler.fit_transform(df_train[numeric_features])\n",
    "df_train[numeric_features] = scaled_features\n",
    "\n",
    "\n",
    "scaled_features_test = scaler.transform(df_test[numeric_features])\n",
    "df_test[numeric_features] = scaled_features_test\n",
    "\n"
   ]
  },
  {
   "cell_type": "code",
   "execution_count": 26,
   "metadata": {},
   "outputs": [],
   "source": [
    "col=[x for x in df_train.columns if x!=\"emotion\"]\n",
    "X_train=df_train[col].values\n",
    "y_train = np.array(df_train[\"emotion\"])"
   ]
  },
  {
   "cell_type": "code",
   "execution_count": 27,
   "metadata": {},
   "outputs": [],
   "source": [
    "X_test=df_test[col].values\n",
    "y_test = np.array(df_test[\"emotion\"])"
   ]
  },
  {
   "cell_type": "code",
   "execution_count": 28,
   "metadata": {},
   "outputs": [
    {
     "name": "stdout",
     "output_type": "stream",
     "text": [
      "Resampled dataset shape Counter({0: 261, 3: 255, 1: 251, 6: 250, 4: 249, 5: 140, 2: 128, 7: 128})\n"
     ]
    }
   ],
   "source": [
    "tl = TomekLinks()\n",
    "X_res, y_res = tl.fit_resample(X_train, y_train)\n",
    "print('Resampled dataset shape %s' % Counter(y_res))"
   ]
  },
  {
   "cell_type": "code",
   "execution_count": 29,
   "metadata": {},
   "outputs": [
    {
     "name": "stdout",
     "output_type": "stream",
     "text": [
      "Accuracy 0.4358974358974359\n",
      "F1-score [0.56910569 0.58461538 0.31428571 0.34899329 0.34653465 0.27118644\n",
      " 0.2745098  0.4587156 ]\n",
      "              precision    recall  f1-score   support\n",
      "\n",
      "           0       0.47      0.73      0.57        96\n",
      "           1       0.46      0.79      0.58        96\n",
      "           2       0.50      0.23      0.31        48\n",
      "           3       0.49      0.27      0.35        96\n",
      "           4       0.33      0.36      0.35        96\n",
      "           5       0.73      0.17      0.27        48\n",
      "           6       0.37      0.22      0.27        96\n",
      "           7       0.41      0.52      0.46        48\n",
      "\n",
      "    accuracy                           0.44       624\n",
      "   macro avg       0.47      0.41      0.40       624\n",
      "weighted avg       0.45      0.44      0.41       624\n",
      "\n"
     ]
    }
   ],
   "source": [
    "clf = RandomForestClassifier(max_depth=10, min_samples_split=2, min_samples_leaf=20,n_estimators=100)\n",
    "                             \n",
    "clf.fit(X_res, y_res)\n",
    "\n",
    "y_pred = clf.predict(X_test)\n",
    "\n",
    "print('Accuracy %s' % accuracy_score(y_test, y_pred))\n",
    "print('F1-score %s' % f1_score(y_test, y_pred, average=None))\n",
    "print(classification_report(y_test, y_pred))"
   ]
  },
  {
   "cell_type": "code",
   "execution_count": 30,
   "metadata": {},
   "outputs": [
    {
     "data": {
      "image/png": "[encoded data removed]",
      "text/plain": [
       "<Figure size 576x396 with 1 Axes>"
      ]
     },
     "metadata": {},
     "output_type": "display_data"
    }
   ],
   "source": [
    "nbr_features = 15\n",
    "\n",
    "tree_feature_importances = clf.feature_importances_\n",
    "sorted_idx = tree_feature_importances.argsort()[-nbr_features:]\n",
    "\n",
    "y_ticks = np.arange(0, len(sorted_idx))\n",
    "fig, ax = plt.subplots()\n",
    "plt.barh(y_ticks, tree_feature_importances[sorted_idx])\n",
    "plt.yticks(y_ticks, np.array(col)[sorted_idx])\n",
    "plt.title(\"Random Forest Feature Importances (MDI)\")\n",
    "plt.show()"
   ]
  },
  {
   "cell_type": "code",
   "execution_count": 19,
   "metadata": {},
   "outputs": [],
   "source": [
    "from sklearn.inspection import permutation_importance"
   ]
  },
  {
   "cell_type": "code",
   "execution_count": 31,
   "metadata": {},
   "outputs": [],
   "source": [
    "result = permutation_importance(clf, X_test, y_test, n_repeats=10, random_state=42, n_jobs=-1)"
   ]
  },
  {
   "cell_type": "code",
   "execution_count": 32,
   "metadata": {},
   "outputs": [
    {
     "data": {
      "image/png": "[encoded data removed]",
      "text/plain": [
       "<Figure size 576x396 with 1 Axes>"
      ]
     },
     "metadata": {},
     "output_type": "display_data"
    }
   ],
   "source": [
    "sorted_idx = result.importances_mean.argsort()[-nbr_features:]\n",
    "\n",
    "fig, ax = plt.subplots()\n",
    "plt.boxplot(result.importances[sorted_idx].T, vert=False, labels=np.array(col)[sorted_idx])\n",
    "plt.title(\"Permutation Importances (test set)\")\n",
    "plt.tight_layout()\n",
    "plt.show()"
   ]
  },
  {
   "cell_type": "code",
   "execution_count": 30,
   "metadata": {},
   "outputs": [],
   "source": [
    "import pydotplus\n",
    "from sklearn import tree\n",
    "from IPython.display import Image"
   ]
  },
  {
   "cell_type": "code",
   "execution_count": 1,
   "metadata": {},
   "outputs": [
    {
     "data": {
      "text/plain": [
       "\"for i in range(100):\\n    dot_data = tree.export_graphviz(clf.estimators_[i], out_file=None,  \\n                                feature_names=col, \\n                                #class_names=['stay', 'churn'],  \\n                                filled=True, rounded=True,  \\n                                special_characters=True)  \\n    graph = pydotplus.graph_from_dot_data(dot_data)  \\n    Image(graph.create_png())\""
      ]
     },
     "execution_count": 1,
     "metadata": {},
     "output_type": "execute_result"
    }
   ],
   "source": [
    "\"\"\"for i in range(100):\n",
    "    dot_data = tree.export_graphviz(clf.estimators_[i], out_file=None,  \n",
    "                                feature_names=col, \n",
    "                                #class_names=['stay', 'churn'],  \n",
    "                                filled=True, rounded=True,  \n",
    "                                special_characters=True)  \n",
    "    graph = pydotplus.graph_from_dot_data(dot_data)  \n",
    "    Image(graph.create_png())\"\"\"\n",
    "    #print trees\"\n",
    " \n",
    "\n",
    "\n",
    "\n",
    "\n",
    "\n",
    "\n"
   ]
  },
  {
   "attachments": {},
   "cell_type": "markdown",
   "metadata": {},
   "source": [
    "PROVO A CANCELLARE GLI OUTLIER "
   ]
  },
  {
   "cell_type": "code",
   "execution_count": 33,
   "metadata": {},
   "outputs": [],
   "source": [
    "df_copy = df_train.copy()"
   ]
  },
  {
   "cell_type": "code",
   "execution_count": 34,
   "metadata": {},
   "outputs": [
    {
     "data": {
      "text/html": [
       "<div>\n",
       "<style scoped>\n",
       "    .dataframe tbody tr th:only-of-type {\n",
       "        vertical-align: middle;\n",
       "    }\n",
       "\n",
       "    .dataframe tbody tr th {\n",
       "        vertical-align: top;\n",
       "    }\n",
       "\n",
       "    .dataframe thead th {\n",
       "        text-align: right;\n",
       "    }\n",
       "</style>\n",
       "<table border=\"1\" class=\"dataframe\">\n",
       "  <thead>\n",
       "    <tr style=\"text-align: right;\">\n",
       "      <th></th>\n",
       "      <th>vocal_channel</th>\n",
       "      <th>emotion</th>\n",
       "      <th>emotional_intensity</th>\n",
       "      <th>statement</th>\n",
       "      <th>repetition</th>\n",
       "      <th>sex</th>\n",
       "      <th>mean</th>\n",
       "      <th>q25</th>\n",
       "      <th>q50</th>\n",
       "      <th>q75</th>\n",
       "      <th>...</th>\n",
       "      <th>sc_skew_w4</th>\n",
       "      <th>stft_sum_w4</th>\n",
       "      <th>stft_q01_w4</th>\n",
       "      <th>stft_q05_w4</th>\n",
       "      <th>stft_q25_w4</th>\n",
       "      <th>stft_q50_w4</th>\n",
       "      <th>stft_q75_w4</th>\n",
       "      <th>stft_q95_w4</th>\n",
       "      <th>stft_kur_w4</th>\n",
       "      <th>stft_skew_w4</th>\n",
       "    </tr>\n",
       "  </thead>\n",
       "  <tbody>\n",
       "    <tr>\n",
       "      <th>0</th>\n",
       "      <td>1</td>\n",
       "      <td>5</td>\n",
       "      <td>0</td>\n",
       "      <td>1</td>\n",
       "      <td>0</td>\n",
       "      <td>1</td>\n",
       "      <td>0.018034</td>\n",
       "      <td>0.603864</td>\n",
       "      <td>-0.063106</td>\n",
       "      <td>-0.76930</td>\n",
       "      <td>...</td>\n",
       "      <td>-4.354785</td>\n",
       "      <td>0.161158</td>\n",
       "      <td>-0.925138</td>\n",
       "      <td>2.167997</td>\n",
       "      <td>1.515260</td>\n",
       "      <td>1.079945</td>\n",
       "      <td>0.690192</td>\n",
       "      <td>0.036057</td>\n",
       "      <td>9.400360</td>\n",
       "      <td>-3.035005</td>\n",
       "    </tr>\n",
       "    <tr>\n",
       "      <th>1</th>\n",
       "      <td>1</td>\n",
       "      <td>5</td>\n",
       "      <td>0</td>\n",
       "      <td>1</td>\n",
       "      <td>1</td>\n",
       "      <td>1</td>\n",
       "      <td>0.013950</td>\n",
       "      <td>0.603864</td>\n",
       "      <td>-0.063106</td>\n",
       "      <td>-0.76930</td>\n",
       "      <td>...</td>\n",
       "      <td>-0.659640</td>\n",
       "      <td>-0.173413</td>\n",
       "      <td>1.908839</td>\n",
       "      <td>1.610931</td>\n",
       "      <td>0.996435</td>\n",
       "      <td>0.639413</td>\n",
       "      <td>0.409754</td>\n",
       "      <td>0.036057</td>\n",
       "      <td>-0.186504</td>\n",
       "      <td>0.434538</td>\n",
       "    </tr>\n",
       "    <tr>\n",
       "      <th>2</th>\n",
       "      <td>1</td>\n",
       "      <td>5</td>\n",
       "      <td>0</td>\n",
       "      <td>0</td>\n",
       "      <td>0</td>\n",
       "      <td>1</td>\n",
       "      <td>0.018855</td>\n",
       "      <td>0.622665</td>\n",
       "      <td>-0.063106</td>\n",
       "      <td>-0.76930</td>\n",
       "      <td>...</td>\n",
       "      <td>-3.086640</td>\n",
       "      <td>-0.286208</td>\n",
       "      <td>-0.925138</td>\n",
       "      <td>1.285119</td>\n",
       "      <td>1.118715</td>\n",
       "      <td>0.877776</td>\n",
       "      <td>0.722854</td>\n",
       "      <td>0.036057</td>\n",
       "      <td>2.891302</td>\n",
       "      <td>-1.463754</td>\n",
       "    </tr>\n",
       "    <tr>\n",
       "      <th>3</th>\n",
       "      <td>1</td>\n",
       "      <td>5</td>\n",
       "      <td>0</td>\n",
       "      <td>0</td>\n",
       "      <td>1</td>\n",
       "      <td>1</td>\n",
       "      <td>0.018087</td>\n",
       "      <td>0.603864</td>\n",
       "      <td>-0.063106</td>\n",
       "      <td>-0.76930</td>\n",
       "      <td>...</td>\n",
       "      <td>-0.396009</td>\n",
       "      <td>-0.588962</td>\n",
       "      <td>1.429546</td>\n",
       "      <td>1.176485</td>\n",
       "      <td>0.899140</td>\n",
       "      <td>0.723117</td>\n",
       "      <td>0.560400</td>\n",
       "      <td>0.036057</td>\n",
       "      <td>-0.049566</td>\n",
       "      <td>-0.052845</td>\n",
       "    </tr>\n",
       "    <tr>\n",
       "      <th>4</th>\n",
       "      <td>1</td>\n",
       "      <td>1</td>\n",
       "      <td>0</td>\n",
       "      <td>1</td>\n",
       "      <td>0</td>\n",
       "      <td>1</td>\n",
       "      <td>0.015921</td>\n",
       "      <td>0.603864</td>\n",
       "      <td>-0.063106</td>\n",
       "      <td>-0.76930</td>\n",
       "      <td>...</td>\n",
       "      <td>-0.624456</td>\n",
       "      <td>0.170902</td>\n",
       "      <td>0.987370</td>\n",
       "      <td>1.346235</td>\n",
       "      <td>1.065980</td>\n",
       "      <td>0.761301</td>\n",
       "      <td>0.452031</td>\n",
       "      <td>0.036057</td>\n",
       "      <td>0.878701</td>\n",
       "      <td>-0.532241</td>\n",
       "    </tr>\n",
       "    <tr>\n",
       "      <th>...</th>\n",
       "      <td>...</td>\n",
       "      <td>...</td>\n",
       "      <td>...</td>\n",
       "      <td>...</td>\n",
       "      <td>...</td>\n",
       "      <td>...</td>\n",
       "      <td>...</td>\n",
       "      <td>...</td>\n",
       "      <td>...</td>\n",
       "      <td>...</td>\n",
       "      <td>...</td>\n",
       "      <td>...</td>\n",
       "      <td>...</td>\n",
       "      <td>...</td>\n",
       "      <td>...</td>\n",
       "      <td>...</td>\n",
       "      <td>...</td>\n",
       "      <td>...</td>\n",
       "      <td>...</td>\n",
       "      <td>...</td>\n",
       "      <td>...</td>\n",
       "    </tr>\n",
       "    <tr>\n",
       "      <th>1823</th>\n",
       "      <td>1</td>\n",
       "      <td>7</td>\n",
       "      <td>0</td>\n",
       "      <td>0</td>\n",
       "      <td>1</td>\n",
       "      <td>0</td>\n",
       "      <td>-0.019175</td>\n",
       "      <td>0.622665</td>\n",
       "      <td>-0.063106</td>\n",
       "      <td>-0.74864</td>\n",
       "      <td>...</td>\n",
       "      <td>-1.106246</td>\n",
       "      <td>-0.612427</td>\n",
       "      <td>-0.925138</td>\n",
       "      <td>-1.198817</td>\n",
       "      <td>0.514836</td>\n",
       "      <td>0.503321</td>\n",
       "      <td>0.647428</td>\n",
       "      <td>0.036057</td>\n",
       "      <td>1.054354</td>\n",
       "      <td>-1.526104</td>\n",
       "    </tr>\n",
       "    <tr>\n",
       "      <th>1824</th>\n",
       "      <td>1</td>\n",
       "      <td>7</td>\n",
       "      <td>1</td>\n",
       "      <td>1</td>\n",
       "      <td>0</td>\n",
       "      <td>0</td>\n",
       "      <td>-0.016770</td>\n",
       "      <td>0.603864</td>\n",
       "      <td>-0.063106</td>\n",
       "      <td>-0.74864</td>\n",
       "      <td>...</td>\n",
       "      <td>-0.901054</td>\n",
       "      <td>-0.871550</td>\n",
       "      <td>-0.925138</td>\n",
       "      <td>-1.198817</td>\n",
       "      <td>-0.484862</td>\n",
       "      <td>0.298852</td>\n",
       "      <td>0.734806</td>\n",
       "      <td>0.036057</td>\n",
       "      <td>-0.389173</td>\n",
       "      <td>-0.504115</td>\n",
       "    </tr>\n",
       "    <tr>\n",
       "      <th>1825</th>\n",
       "      <td>1</td>\n",
       "      <td>7</td>\n",
       "      <td>1</td>\n",
       "      <td>1</td>\n",
       "      <td>1</td>\n",
       "      <td>0</td>\n",
       "      <td>-0.025751</td>\n",
       "      <td>0.622665</td>\n",
       "      <td>-0.063106</td>\n",
       "      <td>-0.74864</td>\n",
       "      <td>...</td>\n",
       "      <td>-1.106898</td>\n",
       "      <td>-0.894085</td>\n",
       "      <td>-0.925138</td>\n",
       "      <td>-0.618677</td>\n",
       "      <td>-0.058185</td>\n",
       "      <td>0.167249</td>\n",
       "      <td>0.624605</td>\n",
       "      <td>0.036057</td>\n",
       "      <td>-0.130100</td>\n",
       "      <td>-0.454243</td>\n",
       "    </tr>\n",
       "    <tr>\n",
       "      <th>1826</th>\n",
       "      <td>1</td>\n",
       "      <td>7</td>\n",
       "      <td>1</td>\n",
       "      <td>0</td>\n",
       "      <td>0</td>\n",
       "      <td>0</td>\n",
       "      <td>-0.009914</td>\n",
       "      <td>0.603864</td>\n",
       "      <td>-0.063106</td>\n",
       "      <td>-0.70732</td>\n",
       "      <td>...</td>\n",
       "      <td>-0.732249</td>\n",
       "      <td>-0.424644</td>\n",
       "      <td>-0.925138</td>\n",
       "      <td>-1.198817</td>\n",
       "      <td>0.165989</td>\n",
       "      <td>0.375767</td>\n",
       "      <td>0.343780</td>\n",
       "      <td>0.036057</td>\n",
       "      <td>0.072917</td>\n",
       "      <td>-1.058564</td>\n",
       "    </tr>\n",
       "    <tr>\n",
       "      <th>1827</th>\n",
       "      <td>1</td>\n",
       "      <td>7</td>\n",
       "      <td>1</td>\n",
       "      <td>0</td>\n",
       "      <td>1</td>\n",
       "      <td>0</td>\n",
       "      <td>-0.023237</td>\n",
       "      <td>0.603864</td>\n",
       "      <td>-0.063106</td>\n",
       "      <td>-0.70732</td>\n",
       "      <td>...</td>\n",
       "      <td>0.117040</td>\n",
       "      <td>-0.801925</td>\n",
       "      <td>-0.925138</td>\n",
       "      <td>-0.223396</td>\n",
       "      <td>-0.265839</td>\n",
       "      <td>-0.174456</td>\n",
       "      <td>0.178220</td>\n",
       "      <td>0.036057</td>\n",
       "      <td>-0.524661</td>\n",
       "      <td>0.261556</td>\n",
       "    </tr>\n",
       "  </tbody>\n",
       "</table>\n",
       "<p>1807 rows × 259 columns</p>\n",
       "</div>"
      ],
      "text/plain": [
       "      vocal_channel  emotion  emotional_intensity  statement  repetition  sex  \\\n",
       "0                 1        5                    0          1           0    1   \n",
       "1                 1        5                    0          1           1    1   \n",
       "2                 1        5                    0          0           0    1   \n",
       "3                 1        5                    0          0           1    1   \n",
       "4                 1        1                    0          1           0    1   \n",
       "...             ...      ...                  ...        ...         ...  ...   \n",
       "1823              1        7                    0          0           1    0   \n",
       "1824              1        7                    1          1           0    0   \n",
       "1825              1        7                    1          1           1    0   \n",
       "1826              1        7                    1          0           0    0   \n",
       "1827              1        7                    1          0           1    0   \n",
       "\n",
       "          mean       q25       q50      q75  ...  sc_skew_w4  stft_sum_w4  \\\n",
       "0     0.018034  0.603864 -0.063106 -0.76930  ...   -4.354785     0.161158   \n",
       "1     0.013950  0.603864 -0.063106 -0.76930  ...   -0.659640    -0.173413   \n",
       "2     0.018855  0.622665 -0.063106 -0.76930  ...   -3.086640    -0.286208   \n",
       "3     0.018087  0.603864 -0.063106 -0.76930  ...   -0.396009    -0.588962   \n",
       "4     0.015921  0.603864 -0.063106 -0.76930  ...   -0.624456     0.170902   \n",
       "...        ...       ...       ...      ...  ...         ...          ...   \n",
       "1823 -0.019175  0.622665 -0.063106 -0.74864  ...   -1.106246    -0.612427   \n",
       "1824 -0.016770  0.603864 -0.063106 -0.74864  ...   -0.901054    -0.871550   \n",
       "1825 -0.025751  0.622665 -0.063106 -0.74864  ...   -1.106898    -0.894085   \n",
       "1826 -0.009914  0.603864 -0.063106 -0.70732  ...   -0.732249    -0.424644   \n",
       "1827 -0.023237  0.603864 -0.063106 -0.70732  ...    0.117040    -0.801925   \n",
       "\n",
       "      stft_q01_w4  stft_q05_w4  stft_q25_w4  stft_q50_w4  stft_q75_w4  \\\n",
       "0       -0.925138     2.167997     1.515260     1.079945     0.690192   \n",
       "1        1.908839     1.610931     0.996435     0.639413     0.409754   \n",
       "2       -0.925138     1.285119     1.118715     0.877776     0.722854   \n",
       "3        1.429546     1.176485     0.899140     0.723117     0.560400   \n",
       "4        0.987370     1.346235     1.065980     0.761301     0.452031   \n",
       "...           ...          ...          ...          ...          ...   \n",
       "1823    -0.925138    -1.198817     0.514836     0.503321     0.647428   \n",
       "1824    -0.925138    -1.198817    -0.484862     0.298852     0.734806   \n",
       "1825    -0.925138    -0.618677    -0.058185     0.167249     0.624605   \n",
       "1826    -0.925138    -1.198817     0.165989     0.375767     0.343780   \n",
       "1827    -0.925138    -0.223396    -0.265839    -0.174456     0.178220   \n",
       "\n",
       "      stft_q95_w4  stft_kur_w4  stft_skew_w4  \n",
       "0        0.036057     9.400360     -3.035005  \n",
       "1        0.036057    -0.186504      0.434538  \n",
       "2        0.036057     2.891302     -1.463754  \n",
       "3        0.036057    -0.049566     -0.052845  \n",
       "4        0.036057     0.878701     -0.532241  \n",
       "...           ...          ...           ...  \n",
       "1823     0.036057     1.054354     -1.526104  \n",
       "1824     0.036057    -0.389173     -0.504115  \n",
       "1825     0.036057    -0.130100     -0.454243  \n",
       "1826     0.036057     0.072917     -1.058564  \n",
       "1827     0.036057    -0.524661      0.261556  \n",
       "\n",
       "[1807 rows x 259 columns]"
      ]
     },
     "execution_count": 34,
     "metadata": {},
     "output_type": "execute_result"
    }
   ],
   "source": [
    "tmp=[8,249,292,308,309,311,382,554,832,1247,1283,1358,1481,1492,1702,1703,1704,1756,1757,1758,1801]\n",
    "\n",
    "df_copy.drop(tmp,axis=0)"
   ]
  },
  {
   "cell_type": "code",
   "execution_count": 35,
   "metadata": {},
   "outputs": [
    {
     "name": "stdout",
     "output_type": "stream",
     "text": [
      "Resampled dataset shape Counter({0: 261, 3: 255, 1: 251, 6: 250, 4: 249, 5: 140, 2: 128, 7: 128})\n"
     ]
    }
   ],
   "source": [
    "tl = TomekLinks()\n",
    "X_res, y_res = tl.fit_resample(X_train, y_train)\n",
    "print('Resampled dataset shape %s' % Counter(y_res))"
   ]
  },
  {
   "cell_type": "code",
   "execution_count": 36,
   "metadata": {},
   "outputs": [
    {
     "name": "stdout",
     "output_type": "stream",
     "text": [
      "Accuracy 0.4407051282051282\n",
      "F1-score [0.58634538 0.59230769 0.33802817 0.37762238 0.34782609 0.23728814\n",
      " 0.22516556 0.48148148]\n",
      "              precision    recall  f1-score   support\n",
      "\n",
      "           0       0.48      0.76      0.59        96\n",
      "           1       0.47      0.80      0.59        96\n",
      "           2       0.52      0.25      0.34        48\n",
      "           3       0.57      0.28      0.38        96\n",
      "           4       0.32      0.38      0.35        96\n",
      "           5       0.64      0.15      0.24        48\n",
      "           6       0.31      0.18      0.23        96\n",
      "           7       0.43      0.54      0.48        48\n",
      "\n",
      "    accuracy                           0.44       624\n",
      "   macro avg       0.47      0.42      0.40       624\n",
      "weighted avg       0.45      0.44      0.41       624\n",
      "\n"
     ]
    }
   ],
   "source": [
    "clf = RandomForestClassifier(max_depth=10, min_samples_split=2, min_samples_leaf=20,n_estimators=100)\n",
    "                             \n",
    "clf.fit(X_res, y_res)\n",
    "\n",
    "y_pred = clf.predict(X_test)\n",
    "\n",
    "print('Accuracy %s' % accuracy_score(y_test, y_pred))\n",
    "print('F1-score %s' % f1_score(y_test, y_pred, average=None))\n",
    "print(classification_report(y_test, y_pred))"
   ]
  },
  {
   "attachments": {},
   "cell_type": "markdown",
   "metadata": {},
   "source": [
    "TODO : STAMPARE GLI ALBERI + GRAFICI ( RICONTROLLARLI TUTTI) + FARE UNA GRID SEARCH"
   ]
  }
 ],
 "metadata": {
  "kernelspec": {
   "display_name": "base",
   "language": "python",
   "name": "python3"
  },
  "language_info": {
   "codemirror_mode": {
    "name": "ipython",
    "version": 3
   },
   "file_extension": ".py",
   "mimetype": "text/x-python",
   "name": "python",
   "nbconvert_exporter": "python",
   "pygments_lexer": "ipython3",
   "version": "3.8.8"
  },
  "orig_nbformat": 4
 },
 "nbformat": 4,
 "nbformat_minor": 2
}
