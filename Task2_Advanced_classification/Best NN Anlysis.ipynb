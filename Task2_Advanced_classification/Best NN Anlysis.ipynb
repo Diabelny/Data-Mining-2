{
 "cells": [
  {
   "cell_type": "code",
   "execution_count": 1,
   "metadata": {},
   "outputs": [],
   "source": [
    "import pandas as pd\n",
    "import numpy as np\n",
    "import seaborn as sns\n",
    "import matplotlib.pyplot as plt\n",
    "from sklearn.preprocessing import RobustScaler,MinMaxScaler,StandardScaler\n",
    "from sklearn import preprocessing\n",
    "from sklearn.model_selection import StratifiedKFold,RepeatedStratifiedKFold, RandomizedSearchCV,GridSearchCV, RepeatedKFold\n",
    "from sklearn.metrics import (\n",
    "    accuracy_score,\n",
    "    f1_score,\n",
    "    classification_report,\n",
    "    confusion_matrix,\n",
    "    roc_auc_score,\n",
    "    roc_curve\n",
    ")\n",
    "from scikitplot.metrics import plot_precision_recall, plot_roc, plot_cumulative_gain, plot_lift_curve\n",
    "\n",
    "\n",
    "from tensorflow import keras\n",
    "from keras.models import Sequential # sequential networks= all the layers are one after the others\n",
    "from keras.layers import Dense # we have flat layes \n",
    "from scikeras.wrappers import KerasClassifier\n",
    "\n",
    "from keras.callbacks import EarlyStopping, ModelCheckpoint\n",
    "from keras.regularizers import l2, l1\n",
    "from keras.layers import Dropout\n",
    "from keras.models import load_model"
   ]
  },
  {
   "cell_type": "code",
   "execution_count": 2,
   "metadata": {},
   "outputs": [],
   "source": [
    "#Read datasets\n",
    "df_train=pd.read_csv(\"../Dataset_prepared/Prepared_train.csv\")\n",
    "df_test=pd.read_csv(\"../Dataset_prepared/Prepared_test.csv\")\n",
    "\n",
    "#Drop useless features\n",
    "df_train.drop('actor',axis=1,inplace=True)\n",
    "df_train.drop('filename',axis=1,inplace=True)\n",
    "df_test.drop('actor',axis=1,inplace=True)\n",
    "df_test.drop('filename',axis=1,inplace=True)\n",
    "\n",
    "#LabelEncode categorical features\n",
    "le=preprocessing.LabelEncoder()\n",
    "c = df_train.select_dtypes(include=['object']).columns.tolist()\n",
    "for i in c:\n",
    "    df_train[i]=le.fit_transform(df_train[i])\n",
    "\n",
    "for i in c:\n",
    "    df_test[i]=le.fit_transform(df_test[i])\n",
    "\n",
    "#Normalize pure numeric features \n",
    "scaler = StandardScaler()\n",
    "numeric_features = [n for n in df_train.columns if n!=\"emotion\" and n!= \"vocal_channel\" and n!= \"emotional_intensity\" and n!= \"statement\" and n!= \"repetition\" and n!= \"sex\" and n!=\"filename\" and n!=\"actor\"]\n",
    "scaled_features = scaler.fit_transform(df_train[numeric_features])\n",
    "df_train[numeric_features] = scaled_features\n",
    "scaled_features_test = scaler.transform(df_test[numeric_features])\n",
    "df_test[numeric_features] = scaled_features_test\n",
    "\n",
    "#Set X_train,y_train = data to fit models. Set X_test,y_test = data to test models.\n",
    "col=[x for x in df_train.columns if x!=\"emotion\"]\n",
    "X_train=df_train[col].values\n",
    "y_train = np.array(df_train[\"emotion\"])\n",
    "X_test=df_test[col].values\n",
    "y_test = np.array(df_test[\"emotion\"])"
   ]
  },
  {
   "cell_type": "code",
   "execution_count": 4,
   "metadata": {},
   "outputs": [],
   "source": [
    "n_classes = 8\n",
    "def build_model1():\n",
    "    n_feature = X_train.shape[1] # numero colonne\n",
    "    model = Sequential()\n",
    "    model.add(Dense(512, input_dim=n_feature, activation='relu')) \n",
    "    model.add(Dense(64, activation='relu'))# second layer\n",
    "    model.add(Dense(n_classes, activation='softmax'))\n",
    "    # if we have multiclass u have to specify as output the number of classes\n",
    "    model.compile(loss='sparse_categorical_crossentropy', # compile=build the network. if binary classification use binary_crossentropy as loss fucntions\n",
    "                  optimizer=\"adam\", metrics=['accuracy']) # metric u want to observe -> typically accuracy,f1 score\n",
    "    return model\n",
    "\n",
    "n_classes = 8\n",
    "def build_model2():\n",
    "    n_feature = X_train.shape[1] # numero colonne\n",
    "    model = Sequential()\n",
    "    model.add(Dense(512, input_dim=n_feature, activation='tanh')) \n",
    "    model.add(Dense(64, activation='relu'))\n",
    "    model.add(Dense(64, activation='relu'))\n",
    "    model.add(Dense(64, activation='relu'))\n",
    "    model.add(Dense(64, activation='relu'))\n",
    "    model.add(Dense(n_classes, activation='softmax'))\n",
    "    # if we have multiclass u have to specify as output the number of classes\n",
    "    model.compile(loss='sparse_categorical_crossentropy', # compile=build the network. if binary classification use binary_crossentropy as loss fucntions\n",
    "                  optimizer=\"adam\", metrics=['accuracy']) # metric u want to observe -> typically accuracy,f1 score\n",
    "    return model\n",
    "\n",
    "n_classes = 8\n",
    "def build_model3():\n",
    "    n_feature = X_train.shape[1] # numero colonne\n",
    "    model = Sequential()\n",
    "    model.add(Dense(512, input_dim=n_feature, activation='tanh')) \n",
    "    model.add(Dense(32, activation='relu'))\n",
    "    model.add(Dense(32, activation='relu'))\n",
    "    model.add(Dense(32, activation='relu'))\n",
    "    model.add(Dense(32, activation='relu'))\n",
    "    model.add(Dense(32, activation='relu'))\n",
    "    model.add(Dense(32, activation='relu'))\n",
    "    model.add(Dense(32, activation='relu'))\n",
    "    model.add(Dense(32, activation='relu'))\n",
    "    model.add(Dense(32, activation='relu'))\n",
    "    model.add(Dense(32, activation='relu'))\n",
    "    model.add(Dense(n_classes, activation='softmax'))\n",
    "    # if we have multiclass u have to specify as output the number of classes\n",
    "    model.compile(loss='sparse_categorical_crossentropy', # compile=build the network. if binary classification use binary_crossentropy as loss fucntions\n",
    "                  optimizer=\"adam\", metrics=['accuracy']) # metric u want to observe -> typically accuracy,f1 score\n",
    "    return model\n",
    "\n",
    "n_classes = 8\n",
    "def build_model4():\n",
    "    n_feature = X_train.shape[1] # numero colonne\n",
    "    model = Sequential()\n",
    "    model.add(Dense(512, input_dim=n_feature, activation='relu')) \n",
    "    model.add(Dense(512, activation='relu'))# second layer\n",
    "    model.add(Dense(n_classes, activation='softmax'))\n",
    "    # if we have multiclass u have to specify as output the number of classes\n",
    "    model.compile(loss='sparse_categorical_crossentropy', # compile=build the network. if binary classification use binary_crossentropy as loss fucntions\n",
    "                  optimizer=\"adam\", metrics=['accuracy']) # metric u want to observe -> typically accuracy,f1 score\n",
    "    return model"
   ]
  },
  {
   "cell_type": "code",
   "execution_count": 114,
   "metadata": {},
   "outputs": [
    {
     "name": "stdout",
     "output_type": "stream",
     "text": [
      "Train Model1\n",
      "Epoch 1/50\n"
     ]
    },
    {
     "name": "stderr",
     "output_type": "stream",
     "text": [
      "d:\\Anaconda\\lib\\site-packages\\scikeras\\wrappers.py:301: UserWarning: ``build_fn`` will be renamed to ``model`` in a future release, at which point use of ``build_fn`` will raise an Error instead.\n",
      "  warnings.warn(\n"
     ]
    },
    {
     "name": "stdout",
     "output_type": "stream",
     "text": [
      "55/55 [==============================] - 1s 3ms/step - loss: 1.6106 - accuracy: 0.3842 - val_loss: 1.5505 - val_accuracy: 0.3989\n",
      "Epoch 2/50\n",
      "55/55 [==============================] - 0s 1ms/step - loss: 1.0377 - accuracy: 0.6219 - val_loss: 1.6422 - val_accuracy: 0.4372\n",
      "Epoch 3/50\n",
      "55/55 [==============================] - 0s 1ms/step - loss: 0.7562 - accuracy: 0.7325 - val_loss: 1.7185 - val_accuracy: 0.4536\n",
      "Epoch 4/50\n",
      "55/55 [==============================] - 0s 1ms/step - loss: 0.5863 - accuracy: 0.8067 - val_loss: 1.8429 - val_accuracy: 0.4699\n",
      "Epoch 5/50\n",
      "55/55 [==============================] - 0s 1ms/step - loss: 0.4313 - accuracy: 0.8748 - val_loss: 1.9196 - val_accuracy: 0.4426\n",
      "Epoch 6/50\n",
      "55/55 [==============================] - 0s 1ms/step - loss: 0.3493 - accuracy: 0.8900 - val_loss: 2.0527 - val_accuracy: 0.4372\n",
      "Epoch 7/50\n",
      "55/55 [==============================] - 0s 1ms/step - loss: 0.2661 - accuracy: 0.9331 - val_loss: 2.1329 - val_accuracy: 0.4262\n",
      "Epoch 8/50\n",
      "55/55 [==============================] - 0s 1ms/step - loss: 0.1829 - accuracy: 0.9653 - val_loss: 2.2533 - val_accuracy: 0.4317\n",
      "Epoch 9/50\n",
      "55/55 [==============================] - 0s 1ms/step - loss: 0.1600 - accuracy: 0.9605 - val_loss: 2.1084 - val_accuracy: 0.4754\n",
      "Epoch 10/50\n",
      "55/55 [==============================] - 0s 1ms/step - loss: 0.1112 - accuracy: 0.9781 - val_loss: 2.4953 - val_accuracy: 0.4536\n",
      "Epoch 11/50\n",
      "55/55 [==============================] - 0s 1ms/step - loss: 0.1166 - accuracy: 0.9751 - val_loss: 2.4310 - val_accuracy: 0.4372\n",
      "Epoch 12/50\n",
      "55/55 [==============================] - 0s 1ms/step - loss: 0.0640 - accuracy: 0.9909 - val_loss: 2.4933 - val_accuracy: 0.4208\n",
      "Epoch 13/50\n",
      "55/55 [==============================] - 0s 1ms/step - loss: 0.0468 - accuracy: 0.9988 - val_loss: 2.7236 - val_accuracy: 0.4153\n",
      "Epoch 14/50\n",
      "55/55 [==============================] - 0s 1ms/step - loss: 0.0318 - accuracy: 0.9988 - val_loss: 2.8595 - val_accuracy: 0.4372\n",
      "Epoch 15/50\n",
      "55/55 [==============================] - 0s 1ms/step - loss: 0.0230 - accuracy: 0.9994 - val_loss: 2.8071 - val_accuracy: 0.4317\n",
      "Epoch 16/50\n",
      "55/55 [==============================] - 0s 1ms/step - loss: 0.0186 - accuracy: 0.9994 - val_loss: 2.9365 - val_accuracy: 0.4372\n",
      "Epoch 17/50\n",
      "55/55 [==============================] - 0s 1ms/step - loss: 0.0143 - accuracy: 1.0000 - val_loss: 3.0254 - val_accuracy: 0.4098\n",
      "Epoch 18/50\n",
      "55/55 [==============================] - 0s 1ms/step - loss: 0.0117 - accuracy: 1.0000 - val_loss: 3.1802 - val_accuracy: 0.4372\n",
      "Epoch 19/50\n",
      "55/55 [==============================] - 0s 1ms/step - loss: 0.0172 - accuracy: 0.9982 - val_loss: 3.2062 - val_accuracy: 0.4262\n",
      "Epoch 20/50\n",
      "55/55 [==============================] - 0s 1ms/step - loss: 0.0118 - accuracy: 1.0000 - val_loss: 3.3473 - val_accuracy: 0.4153\n",
      "Epoch 21/50\n",
      "55/55 [==============================] - 0s 1ms/step - loss: 0.0083 - accuracy: 1.0000 - val_loss: 3.2621 - val_accuracy: 0.4372\n",
      "Epoch 22/50\n",
      "55/55 [==============================] - 0s 1ms/step - loss: 0.0069 - accuracy: 1.0000 - val_loss: 3.3861 - val_accuracy: 0.4426\n",
      "Epoch 23/50\n",
      "55/55 [==============================] - 0s 1ms/step - loss: 0.0058 - accuracy: 1.0000 - val_loss: 3.3989 - val_accuracy: 0.4153\n",
      "Epoch 24/50\n",
      "55/55 [==============================] - 0s 1ms/step - loss: 0.0051 - accuracy: 1.0000 - val_loss: 3.4701 - val_accuracy: 0.4262\n",
      "Epoch 25/50\n",
      "55/55 [==============================] - 0s 1ms/step - loss: 0.0046 - accuracy: 1.0000 - val_loss: 3.4720 - val_accuracy: 0.4426\n",
      "Epoch 26/50\n",
      "55/55 [==============================] - 0s 1ms/step - loss: 0.0042 - accuracy: 1.0000 - val_loss: 3.5089 - val_accuracy: 0.4262\n",
      "Epoch 27/50\n",
      "55/55 [==============================] - 0s 1ms/step - loss: 0.0039 - accuracy: 1.0000 - val_loss: 3.5468 - val_accuracy: 0.4317\n",
      "Epoch 28/50\n",
      "55/55 [==============================] - 0s 1ms/step - loss: 0.0035 - accuracy: 1.0000 - val_loss: 3.6111 - val_accuracy: 0.4262\n",
      "Epoch 29/50\n",
      "55/55 [==============================] - 0s 1ms/step - loss: 0.0032 - accuracy: 1.0000 - val_loss: 3.5872 - val_accuracy: 0.4372\n",
      "Epoch 30/50\n",
      "55/55 [==============================] - 0s 1ms/step - loss: 0.0029 - accuracy: 1.0000 - val_loss: 3.6185 - val_accuracy: 0.4262\n",
      "Epoch 31/50\n",
      "55/55 [==============================] - 0s 1ms/step - loss: 0.0028 - accuracy: 1.0000 - val_loss: 3.6687 - val_accuracy: 0.4262\n",
      "Epoch 32/50\n",
      "55/55 [==============================] - 0s 1ms/step - loss: 0.0025 - accuracy: 1.0000 - val_loss: 3.6715 - val_accuracy: 0.4317\n",
      "Epoch 33/50\n",
      "55/55 [==============================] - 0s 1ms/step - loss: 0.0024 - accuracy: 1.0000 - val_loss: 3.7470 - val_accuracy: 0.4372\n",
      "Epoch 34/50\n",
      "55/55 [==============================] - 0s 1ms/step - loss: 0.0022 - accuracy: 1.0000 - val_loss: 3.7791 - val_accuracy: 0.4208\n",
      "Epoch 35/50\n",
      "55/55 [==============================] - 0s 1ms/step - loss: 0.0020 - accuracy: 1.0000 - val_loss: 3.8255 - val_accuracy: 0.4372\n",
      "Epoch 36/50\n",
      "55/55 [==============================] - 0s 1ms/step - loss: 0.0019 - accuracy: 1.0000 - val_loss: 3.8461 - val_accuracy: 0.4153\n",
      "Epoch 37/50\n",
      "55/55 [==============================] - 0s 1ms/step - loss: 0.0018 - accuracy: 1.0000 - val_loss: 3.8614 - val_accuracy: 0.4372\n",
      "Epoch 38/50\n",
      "55/55 [==============================] - 0s 1ms/step - loss: 0.0016 - accuracy: 1.0000 - val_loss: 3.8933 - val_accuracy: 0.4317\n",
      "Epoch 39/50\n",
      "55/55 [==============================] - 0s 1ms/step - loss: 0.0016 - accuracy: 1.0000 - val_loss: 3.9043 - val_accuracy: 0.4262\n",
      "Epoch 40/50\n",
      "55/55 [==============================] - 0s 1ms/step - loss: 0.0015 - accuracy: 1.0000 - val_loss: 3.9249 - val_accuracy: 0.4208\n",
      "Epoch 41/50\n",
      "55/55 [==============================] - 0s 1ms/step - loss: 0.0014 - accuracy: 1.0000 - val_loss: 3.9469 - val_accuracy: 0.4372\n",
      "Epoch 42/50\n",
      "55/55 [==============================] - 0s 1ms/step - loss: 0.0013 - accuracy: 1.0000 - val_loss: 3.9963 - val_accuracy: 0.4317\n",
      "Epoch 43/50\n",
      "55/55 [==============================] - 0s 1ms/step - loss: 0.0012 - accuracy: 1.0000 - val_loss: 4.0075 - val_accuracy: 0.4262\n",
      "Epoch 44/50\n",
      "55/55 [==============================] - 0s 1ms/step - loss: 0.0012 - accuracy: 1.0000 - val_loss: 4.0474 - val_accuracy: 0.4262\n",
      "Epoch 45/50\n",
      "55/55 [==============================] - 0s 1ms/step - loss: 0.0011 - accuracy: 1.0000 - val_loss: 4.0479 - val_accuracy: 0.4262\n",
      "Epoch 46/50\n",
      "55/55 [==============================] - 0s 1ms/step - loss: 0.0010 - accuracy: 1.0000 - val_loss: 4.0942 - val_accuracy: 0.4262\n",
      "Epoch 47/50\n",
      "55/55 [==============================] - 0s 1ms/step - loss: 9.7378e-04 - accuracy: 1.0000 - val_loss: 4.0932 - val_accuracy: 0.4317\n",
      "Epoch 48/50\n",
      "55/55 [==============================] - 0s 1ms/step - loss: 9.2123e-04 - accuracy: 1.0000 - val_loss: 4.1235 - val_accuracy: 0.4372\n",
      "Epoch 49/50\n",
      "55/55 [==============================] - 0s 1ms/step - loss: 8.6870e-04 - accuracy: 1.0000 - val_loss: 4.1602 - val_accuracy: 0.4372\n",
      "Epoch 50/50\n",
      "55/55 [==============================] - 0s 1ms/step - loss: 8.3064e-04 - accuracy: 1.0000 - val_loss: 4.1911 - val_accuracy: 0.4317\n",
      "Train Model2\n",
      "Epoch 1/50\n"
     ]
    },
    {
     "name": "stderr",
     "output_type": "stream",
     "text": [
      "d:\\Anaconda\\lib\\site-packages\\scikeras\\wrappers.py:301: UserWarning: ``build_fn`` will be renamed to ``model`` in a future release, at which point use of ``build_fn`` will raise an Error instead.\n",
      "  warnings.warn(\n"
     ]
    },
    {
     "name": "stdout",
     "output_type": "stream",
     "text": [
      "55/55 [==============================] - 1s 3ms/step - loss: 1.6816 - accuracy: 0.3422 - val_loss: 1.6521 - val_accuracy: 0.3497\n",
      "Epoch 2/50\n",
      "55/55 [==============================] - 0s 1ms/step - loss: 1.2543 - accuracy: 0.5277 - val_loss: 1.5999 - val_accuracy: 0.4590\n",
      "Epoch 3/50\n",
      "55/55 [==============================] - 0s 1ms/step - loss: 1.0021 - accuracy: 0.6152 - val_loss: 1.6302 - val_accuracy: 0.4262\n",
      "Epoch 4/50\n",
      "55/55 [==============================] - 0s 1ms/step - loss: 0.7840 - accuracy: 0.7173 - val_loss: 1.8280 - val_accuracy: 0.3825\n",
      "Epoch 5/50\n",
      "55/55 [==============================] - 0s 1ms/step - loss: 0.6414 - accuracy: 0.7605 - val_loss: 1.8800 - val_accuracy: 0.4098\n",
      "Epoch 6/50\n",
      "55/55 [==============================] - 0s 1ms/step - loss: 0.5231 - accuracy: 0.8073 - val_loss: 2.0314 - val_accuracy: 0.4317\n",
      "Epoch 7/50\n",
      "55/55 [==============================] - 0s 1ms/step - loss: 0.4015 - accuracy: 0.8535 - val_loss: 2.1004 - val_accuracy: 0.4536\n",
      "Epoch 8/50\n",
      "55/55 [==============================] - 0s 1ms/step - loss: 0.3349 - accuracy: 0.8857 - val_loss: 2.3658 - val_accuracy: 0.4699\n",
      "Epoch 9/50\n",
      "55/55 [==============================] - 0s 1ms/step - loss: 0.2221 - accuracy: 0.9271 - val_loss: 2.7010 - val_accuracy: 0.4208\n",
      "Epoch 10/50\n",
      "55/55 [==============================] - 0s 1ms/step - loss: 0.2319 - accuracy: 0.9234 - val_loss: 2.7044 - val_accuracy: 0.4918\n",
      "Epoch 11/50\n",
      "55/55 [==============================] - 0s 1ms/step - loss: 0.1641 - accuracy: 0.9453 - val_loss: 2.7314 - val_accuracy: 0.4590\n",
      "Epoch 12/50\n",
      "55/55 [==============================] - 0s 1ms/step - loss: 0.1499 - accuracy: 0.9514 - val_loss: 2.4053 - val_accuracy: 0.4863\n",
      "Epoch 13/50\n",
      "55/55 [==============================] - 0s 1ms/step - loss: 0.1066 - accuracy: 0.9678 - val_loss: 3.1744 - val_accuracy: 0.4536\n",
      "Epoch 14/50\n",
      "55/55 [==============================] - 0s 1ms/step - loss: 0.0690 - accuracy: 0.9799 - val_loss: 3.0074 - val_accuracy: 0.4426\n",
      "Epoch 15/50\n",
      "55/55 [==============================] - 0s 1ms/step - loss: 0.0530 - accuracy: 0.9854 - val_loss: 3.0242 - val_accuracy: 0.4699\n",
      "Epoch 16/50\n",
      "55/55 [==============================] - 0s 1ms/step - loss: 0.0355 - accuracy: 0.9915 - val_loss: 3.5608 - val_accuracy: 0.4536\n",
      "Epoch 17/50\n",
      "55/55 [==============================] - 0s 1ms/step - loss: 0.0215 - accuracy: 0.9939 - val_loss: 3.5233 - val_accuracy: 0.4973\n",
      "Epoch 18/50\n",
      "55/55 [==============================] - 0s 1ms/step - loss: 0.0168 - accuracy: 0.9964 - val_loss: 3.4173 - val_accuracy: 0.4590\n",
      "Epoch 19/50\n",
      "55/55 [==============================] - 0s 1ms/step - loss: 0.0416 - accuracy: 0.9866 - val_loss: 3.2812 - val_accuracy: 0.4754\n",
      "Epoch 20/50\n",
      "55/55 [==============================] - 0s 1ms/step - loss: 0.0298 - accuracy: 0.9897 - val_loss: 3.5135 - val_accuracy: 0.4809\n",
      "Epoch 21/50\n",
      "55/55 [==============================] - 0s 1ms/step - loss: 0.0504 - accuracy: 0.9854 - val_loss: 3.5966 - val_accuracy: 0.4372\n",
      "Epoch 22/50\n",
      "55/55 [==============================] - 0s 1ms/step - loss: 0.2441 - accuracy: 0.9386 - val_loss: 3.2656 - val_accuracy: 0.4536\n",
      "Epoch 23/50\n",
      "55/55 [==============================] - 0s 1ms/step - loss: 0.2772 - accuracy: 0.9033 - val_loss: 2.9015 - val_accuracy: 0.4645\n",
      "Epoch 24/50\n",
      "55/55 [==============================] - 0s 1ms/step - loss: 0.1306 - accuracy: 0.9574 - val_loss: 3.1860 - val_accuracy: 0.4590\n",
      "Epoch 25/50\n",
      "55/55 [==============================] - 0s 1ms/step - loss: 0.0503 - accuracy: 0.9866 - val_loss: 3.1943 - val_accuracy: 0.5355\n",
      "Epoch 26/50\n",
      "55/55 [==============================] - 0s 1ms/step - loss: 0.0469 - accuracy: 0.9824 - val_loss: 3.3861 - val_accuracy: 0.4918\n",
      "Epoch 27/50\n",
      "55/55 [==============================] - 0s 1ms/step - loss: 0.0454 - accuracy: 0.9884 - val_loss: 3.6392 - val_accuracy: 0.4809\n",
      "Epoch 28/50\n",
      "55/55 [==============================] - 0s 1ms/step - loss: 0.0163 - accuracy: 0.9951 - val_loss: 3.4834 - val_accuracy: 0.4809\n",
      "Epoch 29/50\n",
      "55/55 [==============================] - 0s 1ms/step - loss: 0.0041 - accuracy: 1.0000 - val_loss: 3.6310 - val_accuracy: 0.4973\n",
      "Epoch 30/50\n",
      "55/55 [==============================] - 0s 1ms/step - loss: 0.0040 - accuracy: 0.9988 - val_loss: 3.4629 - val_accuracy: 0.4918\n",
      "Epoch 31/50\n",
      "55/55 [==============================] - 0s 1ms/step - loss: 0.0073 - accuracy: 0.9970 - val_loss: 3.3572 - val_accuracy: 0.4918\n",
      "Epoch 32/50\n",
      "55/55 [==============================] - 0s 1ms/step - loss: 0.0143 - accuracy: 0.9951 - val_loss: 3.6741 - val_accuracy: 0.5027\n",
      "Epoch 33/50\n",
      "55/55 [==============================] - 0s 1ms/step - loss: 0.0120 - accuracy: 0.9976 - val_loss: 3.6898 - val_accuracy: 0.4918\n",
      "Epoch 34/50\n",
      "55/55 [==============================] - 0s 1ms/step - loss: 0.0033 - accuracy: 0.9994 - val_loss: 3.5907 - val_accuracy: 0.4863\n",
      "Epoch 35/50\n",
      "55/55 [==============================] - 0s 1ms/step - loss: 0.0011 - accuracy: 1.0000 - val_loss: 3.6181 - val_accuracy: 0.4918\n",
      "Epoch 36/50\n",
      "55/55 [==============================] - 0s 1ms/step - loss: 7.5636e-04 - accuracy: 1.0000 - val_loss: 3.6425 - val_accuracy: 0.4918\n",
      "Epoch 37/50\n",
      "55/55 [==============================] - 0s 1ms/step - loss: 6.5283e-04 - accuracy: 1.0000 - val_loss: 3.6781 - val_accuracy: 0.4918\n",
      "Epoch 38/50\n",
      "55/55 [==============================] - 0s 1ms/step - loss: 5.7960e-04 - accuracy: 1.0000 - val_loss: 3.7151 - val_accuracy: 0.4918\n",
      "Epoch 39/50\n",
      "55/55 [==============================] - 0s 1ms/step - loss: 5.2251e-04 - accuracy: 1.0000 - val_loss: 3.7435 - val_accuracy: 0.4918\n",
      "Epoch 40/50\n",
      "55/55 [==============================] - 0s 1ms/step - loss: 4.7608e-04 - accuracy: 1.0000 - val_loss: 3.7730 - val_accuracy: 0.4918\n",
      "Epoch 41/50\n",
      "55/55 [==============================] - 0s 1ms/step - loss: 4.3457e-04 - accuracy: 1.0000 - val_loss: 3.7978 - val_accuracy: 0.4918\n",
      "Epoch 42/50\n",
      "55/55 [==============================] - 0s 1ms/step - loss: 4.0169e-04 - accuracy: 1.0000 - val_loss: 3.8197 - val_accuracy: 0.4973\n",
      "Epoch 43/50\n",
      "55/55 [==============================] - 0s 1ms/step - loss: 3.7217e-04 - accuracy: 1.0000 - val_loss: 3.8416 - val_accuracy: 0.4973\n",
      "Epoch 44/50\n",
      "55/55 [==============================] - 0s 1ms/step - loss: 3.4537e-04 - accuracy: 1.0000 - val_loss: 3.8684 - val_accuracy: 0.4973\n",
      "Epoch 45/50\n",
      "55/55 [==============================] - 0s 1ms/step - loss: 3.2226e-04 - accuracy: 1.0000 - val_loss: 3.8886 - val_accuracy: 0.4973\n",
      "Epoch 46/50\n",
      "55/55 [==============================] - 0s 1ms/step - loss: 3.0041e-04 - accuracy: 1.0000 - val_loss: 3.9085 - val_accuracy: 0.4973\n",
      "Epoch 47/50\n",
      "55/55 [==============================] - 0s 1ms/step - loss: 2.8153e-04 - accuracy: 1.0000 - val_loss: 3.9340 - val_accuracy: 0.4973\n",
      "Epoch 48/50\n",
      "55/55 [==============================] - 0s 1ms/step - loss: 2.6566e-04 - accuracy: 1.0000 - val_loss: 3.9521 - val_accuracy: 0.4973\n",
      "Epoch 49/50\n",
      "55/55 [==============================] - 0s 1ms/step - loss: 2.4970e-04 - accuracy: 1.0000 - val_loss: 3.9713 - val_accuracy: 0.4973\n",
      "Epoch 50/50\n",
      "55/55 [==============================] - 0s 1ms/step - loss: 2.3572e-04 - accuracy: 1.0000 - val_loss: 3.9894 - val_accuracy: 0.4973\n",
      "Train Model3\n",
      "Epoch 1/50\n"
     ]
    },
    {
     "name": "stderr",
     "output_type": "stream",
     "text": [
      "d:\\Anaconda\\lib\\site-packages\\scikeras\\wrappers.py:301: UserWarning: ``build_fn`` will be renamed to ``model`` in a future release, at which point use of ``build_fn`` will raise an Error instead.\n",
      "  warnings.warn(\n"
     ]
    },
    {
     "name": "stdout",
     "output_type": "stream",
     "text": [
      "55/55 [==============================] - 1s 4ms/step - loss: 2.0143 - accuracy: 0.1550 - val_loss: 1.9854 - val_accuracy: 0.1639\n",
      "Epoch 2/50\n",
      "55/55 [==============================] - 0s 1ms/step - loss: 1.7365 - accuracy: 0.3252 - val_loss: 1.8240 - val_accuracy: 0.3169\n",
      "Epoch 3/50\n",
      "55/55 [==============================] - 0s 1ms/step - loss: 1.4405 - accuracy: 0.4286 - val_loss: 1.7357 - val_accuracy: 0.3169\n",
      "Epoch 4/50\n",
      "55/55 [==============================] - 0s 1ms/step - loss: 1.2505 - accuracy: 0.5125 - val_loss: 1.6883 - val_accuracy: 0.3770\n",
      "Epoch 5/50\n",
      "55/55 [==============================] - 0s 2ms/step - loss: 1.1784 - accuracy: 0.5343 - val_loss: 1.8797 - val_accuracy: 0.3552\n",
      "Epoch 6/50\n",
      "55/55 [==============================] - 0s 1ms/step - loss: 1.0236 - accuracy: 0.6036 - val_loss: 2.0277 - val_accuracy: 0.3880\n",
      "Epoch 7/50\n",
      "55/55 [==============================] - 0s 1ms/step - loss: 0.9060 - accuracy: 0.6498 - val_loss: 1.9688 - val_accuracy: 0.4098\n",
      "Epoch 8/50\n",
      "55/55 [==============================] - 0s 1ms/step - loss: 0.8440 - accuracy: 0.6906 - val_loss: 2.0104 - val_accuracy: 0.4208\n",
      "Epoch 9/50\n",
      "55/55 [==============================] - 0s 1ms/step - loss: 0.7452 - accuracy: 0.7277 - val_loss: 2.5362 - val_accuracy: 0.4426\n",
      "Epoch 10/50\n",
      "55/55 [==============================] - 0s 1ms/step - loss: 0.5968 - accuracy: 0.7854 - val_loss: 2.1956 - val_accuracy: 0.4317\n",
      "Epoch 11/50\n",
      "55/55 [==============================] - 0s 1ms/step - loss: 0.5540 - accuracy: 0.8055 - val_loss: 2.6810 - val_accuracy: 0.3934\n",
      "Epoch 12/50\n",
      "55/55 [==============================] - 0s 1ms/step - loss: 0.4959 - accuracy: 0.8164 - val_loss: 2.7532 - val_accuracy: 0.4426\n",
      "Epoch 13/50\n",
      "55/55 [==============================] - 0s 1ms/step - loss: 0.4776 - accuracy: 0.8267 - val_loss: 2.6816 - val_accuracy: 0.4317\n",
      "Epoch 14/50\n",
      "55/55 [==============================] - 0s 1ms/step - loss: 0.3967 - accuracy: 0.8632 - val_loss: 2.5017 - val_accuracy: 0.4918\n",
      "Epoch 15/50\n",
      "55/55 [==============================] - 0s 1ms/step - loss: 0.3177 - accuracy: 0.8888 - val_loss: 2.7550 - val_accuracy: 0.4481\n",
      "Epoch 16/50\n",
      "55/55 [==============================] - 0s 1ms/step - loss: 0.3372 - accuracy: 0.8833 - val_loss: 3.0110 - val_accuracy: 0.4699\n",
      "Epoch 17/50\n",
      "55/55 [==============================] - 0s 1ms/step - loss: 0.2559 - accuracy: 0.9058 - val_loss: 2.9676 - val_accuracy: 0.4536\n",
      "Epoch 18/50\n",
      "55/55 [==============================] - 0s 1ms/step - loss: 0.2405 - accuracy: 0.9119 - val_loss: 3.5700 - val_accuracy: 0.4481\n",
      "Epoch 19/50\n",
      "55/55 [==============================] - 0s 1ms/step - loss: 0.2439 - accuracy: 0.9131 - val_loss: 3.1291 - val_accuracy: 0.5082\n",
      "Epoch 20/50\n",
      "55/55 [==============================] - 0s 1ms/step - loss: 0.1797 - accuracy: 0.9416 - val_loss: 3.9218 - val_accuracy: 0.4645\n",
      "Epoch 21/50\n",
      "55/55 [==============================] - 0s 1ms/step - loss: 0.2566 - accuracy: 0.9161 - val_loss: 3.0629 - val_accuracy: 0.4481\n",
      "Epoch 22/50\n",
      "55/55 [==============================] - 0s 1ms/step - loss: 0.3058 - accuracy: 0.8918 - val_loss: 3.4802 - val_accuracy: 0.4481\n",
      "Epoch 23/50\n",
      "55/55 [==============================] - 0s 1ms/step - loss: 0.1906 - accuracy: 0.9392 - val_loss: 3.0593 - val_accuracy: 0.4372\n",
      "Epoch 24/50\n",
      "55/55 [==============================] - 0s 1ms/step - loss: 0.1212 - accuracy: 0.9605 - val_loss: 2.9992 - val_accuracy: 0.5082\n",
      "Epoch 25/50\n",
      "55/55 [==============================] - 0s 1ms/step - loss: 0.0835 - accuracy: 0.9720 - val_loss: 3.4848 - val_accuracy: 0.4754\n",
      "Epoch 26/50\n",
      "55/55 [==============================] - 0s 1ms/step - loss: 0.1949 - accuracy: 0.9368 - val_loss: 3.1418 - val_accuracy: 0.4426\n",
      "Epoch 27/50\n",
      "55/55 [==============================] - 0s 1ms/step - loss: 0.0871 - accuracy: 0.9751 - val_loss: 3.4669 - val_accuracy: 0.4262\n",
      "Epoch 28/50\n",
      "55/55 [==============================] - 0s 1ms/step - loss: 0.0650 - accuracy: 0.9824 - val_loss: 3.9590 - val_accuracy: 0.4645\n",
      "Epoch 29/50\n",
      "55/55 [==============================] - 0s 1ms/step - loss: 0.0993 - accuracy: 0.9696 - val_loss: 3.8682 - val_accuracy: 0.4809\n",
      "Epoch 30/50\n",
      "55/55 [==============================] - 0s 1ms/step - loss: 0.0876 - accuracy: 0.9714 - val_loss: 3.7021 - val_accuracy: 0.4809\n",
      "Epoch 31/50\n",
      "55/55 [==============================] - 0s 1ms/step - loss: 0.1216 - accuracy: 0.9593 - val_loss: 4.6899 - val_accuracy: 0.4208\n",
      "Epoch 32/50\n",
      "55/55 [==============================] - 0s 1ms/step - loss: 0.1697 - accuracy: 0.9483 - val_loss: 4.0383 - val_accuracy: 0.4044\n",
      "Epoch 33/50\n",
      "55/55 [==============================] - 0s 1ms/step - loss: 0.1428 - accuracy: 0.9532 - val_loss: 3.6852 - val_accuracy: 0.4754\n",
      "Epoch 34/50\n",
      "55/55 [==============================] - 0s 1ms/step - loss: 0.0986 - accuracy: 0.9678 - val_loss: 3.6072 - val_accuracy: 0.5082\n",
      "Epoch 35/50\n",
      "55/55 [==============================] - 0s 1ms/step - loss: 0.0484 - accuracy: 0.9854 - val_loss: 3.9323 - val_accuracy: 0.4590\n",
      "Epoch 36/50\n",
      "55/55 [==============================] - 0s 1ms/step - loss: 0.0577 - accuracy: 0.9818 - val_loss: 4.2243 - val_accuracy: 0.4754\n",
      "Epoch 37/50\n",
      "55/55 [==============================] - 0s 1ms/step - loss: 0.0487 - accuracy: 0.9848 - val_loss: 4.4213 - val_accuracy: 0.4645\n",
      "Epoch 38/50\n",
      "55/55 [==============================] - 0s 1ms/step - loss: 0.0567 - accuracy: 0.9824 - val_loss: 4.6880 - val_accuracy: 0.4754\n",
      "Epoch 39/50\n",
      "55/55 [==============================] - 0s 1ms/step - loss: 0.0520 - accuracy: 0.9842 - val_loss: 4.4904 - val_accuracy: 0.4754\n",
      "Epoch 40/50\n",
      "55/55 [==============================] - 0s 1ms/step - loss: 0.0612 - accuracy: 0.9805 - val_loss: 3.9235 - val_accuracy: 0.5246\n",
      "Epoch 41/50\n",
      "55/55 [==============================] - 0s 1ms/step - loss: 0.0856 - accuracy: 0.9726 - val_loss: 4.0382 - val_accuracy: 0.4754\n",
      "Epoch 42/50\n",
      "55/55 [==============================] - 0s 1ms/step - loss: 0.1663 - accuracy: 0.9526 - val_loss: 2.7675 - val_accuracy: 0.4809\n",
      "Epoch 43/50\n",
      "55/55 [==============================] - 0s 1ms/step - loss: 0.1000 - accuracy: 0.9660 - val_loss: 3.2282 - val_accuracy: 0.5410\n",
      "Epoch 44/50\n",
      "55/55 [==============================] - 0s 1ms/step - loss: 0.0461 - accuracy: 0.9854 - val_loss: 3.6276 - val_accuracy: 0.4590\n",
      "Epoch 45/50\n",
      "55/55 [==============================] - 0s 1ms/step - loss: 0.0367 - accuracy: 0.9903 - val_loss: 3.6453 - val_accuracy: 0.5082\n",
      "Epoch 46/50\n",
      "55/55 [==============================] - 0s 1ms/step - loss: 0.0259 - accuracy: 0.9921 - val_loss: 3.9856 - val_accuracy: 0.4918\n",
      "Epoch 47/50\n",
      "55/55 [==============================] - 0s 1ms/step - loss: 0.0769 - accuracy: 0.9818 - val_loss: 3.8594 - val_accuracy: 0.4754\n",
      "Epoch 48/50\n",
      "55/55 [==============================] - 0s 1ms/step - loss: 0.0656 - accuracy: 0.9799 - val_loss: 3.7657 - val_accuracy: 0.5355\n",
      "Epoch 49/50\n",
      "55/55 [==============================] - 0s 1ms/step - loss: 0.0378 - accuracy: 0.9909 - val_loss: 4.2669 - val_accuracy: 0.5082\n",
      "Epoch 50/50\n",
      "55/55 [==============================] - 0s 1ms/step - loss: 0.1300 - accuracy: 0.9690 - val_loss: 3.2663 - val_accuracy: 0.5191\n",
      "Train Model4\n",
      "Epoch 1/50\n"
     ]
    },
    {
     "name": "stderr",
     "output_type": "stream",
     "text": [
      "d:\\Anaconda\\lib\\site-packages\\scikeras\\wrappers.py:301: UserWarning: ``build_fn`` will be renamed to ``model`` in a future release, at which point use of ``build_fn`` will raise an Error instead.\n",
      "  warnings.warn(\n"
     ]
    },
    {
     "name": "stdout",
     "output_type": "stream",
     "text": [
      "55/55 [==============================] - 1s 4ms/step - loss: 1.5824 - accuracy: 0.3982 - val_loss: 1.5749 - val_accuracy: 0.4153\n",
      "Epoch 2/50\n",
      "55/55 [==============================] - 0s 3ms/step - loss: 0.9351 - accuracy: 0.6547 - val_loss: 1.8809 - val_accuracy: 0.3770\n",
      "Epoch 3/50\n",
      "55/55 [==============================] - 0s 2ms/step - loss: 0.6823 - accuracy: 0.7562 - val_loss: 1.8431 - val_accuracy: 0.4372\n",
      "Epoch 4/50\n",
      "55/55 [==============================] - 0s 3ms/step - loss: 0.4886 - accuracy: 0.8261 - val_loss: 2.1196 - val_accuracy: 0.4317\n",
      "Epoch 5/50\n",
      "55/55 [==============================] - 0s 3ms/step - loss: 0.3597 - accuracy: 0.8809 - val_loss: 2.3232 - val_accuracy: 0.4153\n",
      "Epoch 6/50\n",
      "55/55 [==============================] - 0s 3ms/step - loss: 0.2581 - accuracy: 0.9240 - val_loss: 2.4170 - val_accuracy: 0.4044\n",
      "Epoch 7/50\n",
      "55/55 [==============================] - 0s 2ms/step - loss: 0.1996 - accuracy: 0.9422 - val_loss: 2.6319 - val_accuracy: 0.4208\n",
      "Epoch 8/50\n",
      "55/55 [==============================] - 0s 2ms/step - loss: 0.1213 - accuracy: 0.9696 - val_loss: 2.6430 - val_accuracy: 0.4590\n",
      "Epoch 9/50\n",
      "55/55 [==============================] - 0s 2ms/step - loss: 0.0874 - accuracy: 0.9793 - val_loss: 2.9428 - val_accuracy: 0.4317\n",
      "Epoch 10/50\n",
      "55/55 [==============================] - 0s 3ms/step - loss: 0.0753 - accuracy: 0.9799 - val_loss: 2.7641 - val_accuracy: 0.4372\n",
      "Epoch 11/50\n",
      "55/55 [==============================] - 0s 3ms/step - loss: 0.0676 - accuracy: 0.9818 - val_loss: 2.9684 - val_accuracy: 0.4481\n",
      "Epoch 12/50\n",
      "55/55 [==============================] - 0s 3ms/step - loss: 0.0301 - accuracy: 0.9976 - val_loss: 3.0640 - val_accuracy: 0.4481\n",
      "Epoch 13/50\n",
      "55/55 [==============================] - 0s 2ms/step - loss: 0.0146 - accuracy: 0.9994 - val_loss: 3.3025 - val_accuracy: 0.4536\n",
      "Epoch 14/50\n",
      "55/55 [==============================] - 0s 3ms/step - loss: 0.0078 - accuracy: 1.0000 - val_loss: 3.3638 - val_accuracy: 0.4153\n",
      "Epoch 15/50\n",
      "55/55 [==============================] - 0s 3ms/step - loss: 0.0050 - accuracy: 1.0000 - val_loss: 3.5303 - val_accuracy: 0.4317\n",
      "Epoch 16/50\n",
      "55/55 [==============================] - 0s 3ms/step - loss: 0.0038 - accuracy: 1.0000 - val_loss: 3.5466 - val_accuracy: 0.4153\n",
      "Epoch 17/50\n",
      "55/55 [==============================] - 0s 3ms/step - loss: 0.0032 - accuracy: 1.0000 - val_loss: 3.6083 - val_accuracy: 0.4317\n",
      "Epoch 18/50\n",
      "55/55 [==============================] - 0s 2ms/step - loss: 0.0028 - accuracy: 1.0000 - val_loss: 3.6770 - val_accuracy: 0.4262\n",
      "Epoch 19/50\n",
      "55/55 [==============================] - 0s 3ms/step - loss: 0.0024 - accuracy: 1.0000 - val_loss: 3.7185 - val_accuracy: 0.4317\n",
      "Epoch 20/50\n",
      "55/55 [==============================] - 0s 3ms/step - loss: 0.0022 - accuracy: 1.0000 - val_loss: 3.7897 - val_accuracy: 0.4317\n",
      "Epoch 21/50\n",
      "55/55 [==============================] - 0s 3ms/step - loss: 0.0020 - accuracy: 1.0000 - val_loss: 3.8100 - val_accuracy: 0.4208\n",
      "Epoch 22/50\n",
      "55/55 [==============================] - 0s 3ms/step - loss: 0.0018 - accuracy: 1.0000 - val_loss: 3.8305 - val_accuracy: 0.4208\n",
      "Epoch 23/50\n",
      "55/55 [==============================] - 0s 3ms/step - loss: 0.0016 - accuracy: 1.0000 - val_loss: 3.8747 - val_accuracy: 0.4262\n",
      "Epoch 24/50\n",
      "55/55 [==============================] - 0s 3ms/step - loss: 0.0015 - accuracy: 1.0000 - val_loss: 3.9265 - val_accuracy: 0.4262\n",
      "Epoch 25/50\n",
      "55/55 [==============================] - 0s 3ms/step - loss: 0.0014 - accuracy: 1.0000 - val_loss: 3.9777 - val_accuracy: 0.4208\n",
      "Epoch 26/50\n",
      "55/55 [==============================] - 0s 3ms/step - loss: 0.0012 - accuracy: 1.0000 - val_loss: 4.0008 - val_accuracy: 0.4262\n",
      "Epoch 27/50\n",
      "55/55 [==============================] - 0s 2ms/step - loss: 0.0012 - accuracy: 1.0000 - val_loss: 4.0428 - val_accuracy: 0.4262\n",
      "Epoch 28/50\n",
      "55/55 [==============================] - 0s 2ms/step - loss: 0.0011 - accuracy: 1.0000 - val_loss: 4.0669 - val_accuracy: 0.4208\n",
      "Epoch 29/50\n",
      "55/55 [==============================] - 0s 3ms/step - loss: 9.8747e-04 - accuracy: 1.0000 - val_loss: 4.0925 - val_accuracy: 0.4317\n",
      "Epoch 30/50\n",
      "55/55 [==============================] - 0s 2ms/step - loss: 9.2376e-04 - accuracy: 1.0000 - val_loss: 4.1477 - val_accuracy: 0.4317\n",
      "Epoch 31/50\n",
      "55/55 [==============================] - 0s 3ms/step - loss: 8.5573e-04 - accuracy: 1.0000 - val_loss: 4.1438 - val_accuracy: 0.4262\n",
      "Epoch 32/50\n",
      "55/55 [==============================] - 0s 3ms/step - loss: 8.0118e-04 - accuracy: 1.0000 - val_loss: 4.2064 - val_accuracy: 0.4208\n",
      "Epoch 33/50\n",
      "55/55 [==============================] - 0s 2ms/step - loss: 7.4875e-04 - accuracy: 1.0000 - val_loss: 4.2040 - val_accuracy: 0.4262\n",
      "Epoch 34/50\n",
      "55/55 [==============================] - 0s 2ms/step - loss: 7.0117e-04 - accuracy: 1.0000 - val_loss: 4.2401 - val_accuracy: 0.4317\n",
      "Epoch 35/50\n",
      "55/55 [==============================] - 0s 3ms/step - loss: 6.5587e-04 - accuracy: 1.0000 - val_loss: 4.2698 - val_accuracy: 0.4317\n",
      "Epoch 36/50\n",
      "55/55 [==============================] - 0s 3ms/step - loss: 6.1189e-04 - accuracy: 1.0000 - val_loss: 4.2966 - val_accuracy: 0.4317\n",
      "Epoch 37/50\n",
      "55/55 [==============================] - 0s 3ms/step - loss: 5.7462e-04 - accuracy: 1.0000 - val_loss: 4.3161 - val_accuracy: 0.4317\n",
      "Epoch 38/50\n",
      "55/55 [==============================] - 0s 3ms/step - loss: 5.4171e-04 - accuracy: 1.0000 - val_loss: 4.3512 - val_accuracy: 0.4262\n",
      "Epoch 39/50\n",
      "55/55 [==============================] - 0s 3ms/step - loss: 5.0831e-04 - accuracy: 1.0000 - val_loss: 4.3672 - val_accuracy: 0.4317\n",
      "Epoch 40/50\n",
      "55/55 [==============================] - 0s 3ms/step - loss: 4.7937e-04 - accuracy: 1.0000 - val_loss: 4.3876 - val_accuracy: 0.4317\n",
      "Epoch 41/50\n",
      "55/55 [==============================] - 0s 2ms/step - loss: 4.5159e-04 - accuracy: 1.0000 - val_loss: 4.4188 - val_accuracy: 0.4317\n",
      "Epoch 42/50\n",
      "55/55 [==============================] - 0s 2ms/step - loss: 4.2704e-04 - accuracy: 1.0000 - val_loss: 4.4458 - val_accuracy: 0.4372\n",
      "Epoch 43/50\n",
      "55/55 [==============================] - 0s 2ms/step - loss: 4.0110e-04 - accuracy: 1.0000 - val_loss: 4.4850 - val_accuracy: 0.4317\n",
      "Epoch 44/50\n",
      "55/55 [==============================] - 0s 2ms/step - loss: 3.8505e-04 - accuracy: 1.0000 - val_loss: 4.5132 - val_accuracy: 0.4372\n",
      "Epoch 45/50\n",
      "55/55 [==============================] - 0s 2ms/step - loss: 3.6031e-04 - accuracy: 1.0000 - val_loss: 4.5252 - val_accuracy: 0.4372\n",
      "Epoch 46/50\n",
      "55/55 [==============================] - 0s 3ms/step - loss: 3.4031e-04 - accuracy: 1.0000 - val_loss: 4.5632 - val_accuracy: 0.4317\n",
      "Epoch 47/50\n",
      "55/55 [==============================] - 0s 3ms/step - loss: 3.2605e-04 - accuracy: 1.0000 - val_loss: 4.5588 - val_accuracy: 0.4372\n",
      "Epoch 48/50\n",
      "55/55 [==============================] - 0s 3ms/step - loss: 3.0774e-04 - accuracy: 1.0000 - val_loss: 4.5938 - val_accuracy: 0.4317\n",
      "Epoch 49/50\n",
      "55/55 [==============================] - 0s 2ms/step - loss: 2.9012e-04 - accuracy: 1.0000 - val_loss: 4.6282 - val_accuracy: 0.4372\n",
      "Epoch 50/50\n",
      "55/55 [==============================] - 0s 3ms/step - loss: 2.7485e-04 - accuracy: 1.0000 - val_loss: 4.6373 - val_accuracy: 0.4372\n"
     ]
    }
   ],
   "source": [
    "clf1=KerasClassifier(build_fn=build_model1)\n",
    "clf2=KerasClassifier(build_fn=build_model2)\n",
    "clf3=KerasClassifier(build_fn=build_model3)\n",
    "clf4=KerasClassifier(build_fn=build_model4)\n",
    "\n",
    "print(\"Train Model1\")\n",
    "history1=clf1.fit(X_train, y_train,validation_split=0.1,epochs=50, batch_size=30).history_\n",
    "print(\"Train Model2\")\n",
    "history2=clf2.fit(X_train, y_train,validation_split=0.1,epochs=50, batch_size=30).history_\n",
    "print(\"Train Model3\")\n",
    "history3=clf3.fit(X_train, y_train,validation_split=0.1,epochs=50, batch_size=30).history_\n",
    "print(\"Train Model4\")\n",
    "history4=clf4.fit(X_train, y_train,validation_split=0.1,epochs=50, batch_size=30).history_"
   ]
  },
  {
   "cell_type": "code",
   "execution_count": 115,
   "metadata": {},
   "outputs": [
    {
     "name": "stdout",
     "output_type": "stream",
     "text": [
      "20/20 [==============================] - 0s 553us/step\n",
      "              precision    recall  f1-score   support\n",
      "\n",
      "           0       0.53      0.79      0.63        96\n",
      "           1       0.57      0.60      0.59        96\n",
      "           2       0.48      0.54      0.51        48\n",
      "           3       0.62      0.44      0.51        96\n",
      "           4       0.45      0.46      0.45        96\n",
      "           5       0.37      0.38      0.37        48\n",
      "           6       0.40      0.31      0.35        96\n",
      "           7       0.49      0.35      0.41        48\n",
      "\n",
      "    accuracy                           0.50       624\n",
      "   macro avg       0.49      0.48      0.48       624\n",
      "weighted avg       0.50      0.50      0.49       624\n",
      "\n"
     ]
    }
   ],
   "source": [
    "y_pred1=clf1.predict(X_test).astype(int)\n",
    "print(classification_report(y_test, y_pred1))"
   ]
  },
  {
   "cell_type": "code",
   "execution_count": 116,
   "metadata": {},
   "outputs": [
    {
     "name": "stdout",
     "output_type": "stream",
     "text": [
      "20/20 [==============================] - 0s 606us/step\n",
      "              precision    recall  f1-score   support\n",
      "\n",
      "           0       0.56      0.82      0.67        96\n",
      "           1       0.57      0.65      0.60        96\n",
      "           2       0.44      0.56      0.50        48\n",
      "           3       0.57      0.42      0.48        96\n",
      "           4       0.39      0.35      0.37        96\n",
      "           5       0.42      0.46      0.44        48\n",
      "           6       0.39      0.24      0.30        96\n",
      "           7       0.53      0.50      0.52        48\n",
      "\n",
      "    accuracy                           0.50       624\n",
      "   macro avg       0.48      0.50      0.48       624\n",
      "weighted avg       0.49      0.50      0.48       624\n",
      "\n"
     ]
    }
   ],
   "source": [
    "y_pred2=clf2.predict(X_test).astype(int)\n",
    "print(classification_report(y_test, y_pred2))"
   ]
  },
  {
   "cell_type": "code",
   "execution_count": 117,
   "metadata": {},
   "outputs": [
    {
     "name": "stdout",
     "output_type": "stream",
     "text": [
      "20/20 [==============================] - 0s 606us/step\n",
      "              precision    recall  f1-score   support\n",
      "\n",
      "           0       0.58      0.79      0.67        96\n",
      "           1       0.57      0.65      0.60        96\n",
      "           2       0.50      0.60      0.55        48\n",
      "           3       0.62      0.36      0.46        96\n",
      "           4       0.42      0.44      0.43        96\n",
      "           5       0.38      0.42      0.40        48\n",
      "           6       0.39      0.28      0.33        96\n",
      "           7       0.40      0.40      0.40        48\n",
      "\n",
      "    accuracy                           0.50       624\n",
      "   macro avg       0.48      0.49      0.48       624\n",
      "weighted avg       0.50      0.50      0.49       624\n",
      "\n"
     ]
    }
   ],
   "source": [
    "y_pred3=clf3.predict(X_test).astype(int)\n",
    "print(classification_report(y_test, y_pred3))"
   ]
  },
  {
   "cell_type": "code",
   "execution_count": 118,
   "metadata": {},
   "outputs": [
    {
     "name": "stdout",
     "output_type": "stream",
     "text": [
      "20/20 [==============================] - 0s 685us/step\n",
      "              precision    recall  f1-score   support\n",
      "\n",
      "           0       0.51      0.78      0.62        96\n",
      "           1       0.56      0.64      0.60        96\n",
      "           2       0.55      0.54      0.55        48\n",
      "           3       0.63      0.38      0.47        96\n",
      "           4       0.43      0.44      0.44        96\n",
      "           5       0.41      0.42      0.41        48\n",
      "           6       0.43      0.33      0.38        96\n",
      "           7       0.56      0.52      0.54        48\n",
      "\n",
      "    accuracy                           0.51       624\n",
      "   macro avg       0.51      0.51      0.50       624\n",
      "weighted avg       0.51      0.51      0.50       624\n",
      "\n"
     ]
    }
   ],
   "source": [
    "y_pred4=clf4.predict(X_test).astype(int)\n",
    "print(classification_report(y_test, y_pred4))"
   ]
  },
  {
   "cell_type": "code",
   "execution_count": 119,
   "metadata": {},
   "outputs": [
    {
     "data": {
      "image/png": "[encoded data removed]",
      "text/plain": [
       "<Figure size 432x288 with 1 Axes>"
      ]
     },
     "metadata": {
      "needs_background": "light"
     },
     "output_type": "display_data"
    }
   ],
   "source": [
    "plt.plot(history1['accuracy'], label='Train')\n",
    "plt.plot(history1['val_accuracy'], label='Val')\n",
    "plt.xlabel('Epochs')\n",
    "plt.ylabel('Accuracy')\n",
    "plt.legend()\n",
    "plt.show()"
   ]
  },
  {
   "cell_type": "code",
   "execution_count": 120,
   "metadata": {},
   "outputs": [
    {
     "data": {
      "image/png": "[encoded data removed]",
      "text/plain": [
       "<Figure size 432x288 with 1 Axes>"
      ]
     },
     "metadata": {
      "needs_background": "light"
     },
     "output_type": "display_data"
    }
   ],
   "source": [
    "plt.plot(history1['loss'], label='Train')\n",
    "plt.plot(history1['val_loss'], label='Val')\n",
    "plt.xlabel('Epochs')\n",
    "plt.ylabel('Cross-Entropy')\n",
    "plt.legend()\n",
    "plt.show()"
   ]
  },
  {
   "cell_type": "code",
   "execution_count": 121,
   "metadata": {},
   "outputs": [
    {
     "data": {
      "image/png": "[encoded data removed]",
      "text/plain": [
       "<Figure size 432x288 with 1 Axes>"
      ]
     },
     "metadata": {
      "needs_background": "light"
     },
     "output_type": "display_data"
    }
   ],
   "source": [
    "plt.plot(history2['accuracy'], label='Train')\n",
    "plt.plot(history2['val_accuracy'], label='Val')\n",
    "plt.xlabel('Epochs')\n",
    "plt.ylabel('Accuracy')\n",
    "plt.legend()\n",
    "plt.show()"
   ]
  },
  {
   "cell_type": "code",
   "execution_count": 122,
   "metadata": {},
   "outputs": [
    {
     "data": {
      "image/png": "[encoded data removed]",
      "text/plain": [
       "<Figure size 432x288 with 1 Axes>"
      ]
     },
     "metadata": {
      "needs_background": "light"
     },
     "output_type": "display_data"
    }
   ],
   "source": [
    "plt.plot(history2['loss'], label='Train')\n",
    "plt.plot(history2['val_loss'], label='Val')\n",
    "plt.xlabel('Epochs')\n",
    "plt.ylabel('Accuracy')\n",
    "plt.legend()\n",
    "plt.show()"
   ]
  },
  {
   "cell_type": "code",
   "execution_count": 123,
   "metadata": {},
   "outputs": [
    {
     "data": {
      "image/png": "[encoded data removed]",
      "text/plain": [
       "<Figure size 432x288 with 1 Axes>"
      ]
     },
     "metadata": {
      "needs_background": "light"
     },
     "output_type": "display_data"
    }
   ],
   "source": [
    "plt.plot(history3['accuracy'], label='Train')\n",
    "plt.plot(history3['val_accuracy'], label='Val')\n",
    "plt.xlabel('Epochs')\n",
    "plt.ylabel('Accuracy')\n",
    "plt.legend()\n",
    "plt.show()"
   ]
  },
  {
   "cell_type": "code",
   "execution_count": 124,
   "metadata": {},
   "outputs": [
    {
     "data": {
      "image/png": "[encoded data removed]",
      "text/plain": [
       "<Figure size 432x288 with 1 Axes>"
      ]
     },
     "metadata": {
      "needs_background": "light"
     },
     "output_type": "display_data"
    }
   ],
   "source": [
    "plt.plot(history3['loss'], label='Train')\n",
    "plt.plot(history3['val_loss'], label='Val')\n",
    "plt.xlabel('Epochs')\n",
    "plt.ylabel('Accuracy')\n",
    "plt.legend()\n",
    "plt.show()"
   ]
  },
  {
   "cell_type": "code",
   "execution_count": 125,
   "metadata": {},
   "outputs": [
    {
     "data": {
      "image/png": "[encoded data removed]",
      "text/plain": [
       "<Figure size 432x288 with 1 Axes>"
      ]
     },
     "metadata": {
      "needs_background": "light"
     },
     "output_type": "display_data"
    }
   ],
   "source": [
    "plt.plot(history4['accuracy'], label='Train')\n",
    "plt.plot(history4['val_accuracy'], label='Val')\n",
    "plt.xlabel('Epochs')\n",
    "plt.ylabel('Accuracy')\n",
    "plt.legend()\n",
    "plt.show()"
   ]
  },
  {
   "cell_type": "code",
   "execution_count": 126,
   "metadata": {},
   "outputs": [
    {
     "data": {
      "image/png": "[encoded data removed]",
      "text/plain": [
       "<Figure size 432x288 with 1 Axes>"
      ]
     },
     "metadata": {
      "needs_background": "light"
     },
     "output_type": "display_data"
    }
   ],
   "source": [
    "plt.plot(history4['loss'], label='Train')\n",
    "plt.plot(history4['val_loss'], label='Val')\n",
    "plt.xlabel('Epochs')\n",
    "plt.ylabel('Accuracy')\n",
    "plt.legend()\n",
    "plt.show()"
   ]
  },
  {
   "attachments": {},
   "cell_type": "markdown",
   "metadata": {},
   "source": [
    "# Early stopping condition"
   ]
  },
  {
   "cell_type": "code",
   "execution_count": 7,
   "metadata": {},
   "outputs": [],
   "source": [
    "from keras.callbacks import EarlyStopping, ModelCheckpoint\n",
    "from keras.regularizers import l2, l1\n",
    "from keras.layers import Dropout"
   ]
  },
  {
   "cell_type": "code",
   "execution_count": 8,
   "metadata": {},
   "outputs": [
    {
     "name": "stdout",
     "output_type": "stream",
     "text": [
      "Epoch 1/500\n",
      "24/46 [==============>...............] - ETA: 0s - loss: 1.7572 - accuracy: 0.3477 "
     ]
    },
    {
     "name": "stderr",
     "output_type": "stream",
     "text": [
      "WARNING:absl:Found untraced functions such as _update_step_xla while saving (showing 1 of 1). These functions will not be directly callable after loading.\n"
     ]
    },
    {
     "name": "stdout",
     "output_type": "stream",
     "text": [
      "INFO:tensorflow:Assets written to: best_model_NOREG.h1\\assets\n"
     ]
    },
    {
     "name": "stderr",
     "output_type": "stream",
     "text": [
      "INFO:tensorflow:Assets written to: best_model_NOREG.h1\\assets\n"
     ]
    },
    {
     "name": "stdout",
     "output_type": "stream",
     "text": [
      "46/46 [==============================] - 1s 22ms/step - loss: 1.5818 - accuracy: 0.3981 - val_loss: 1.5594 - val_accuracy: 0.4126\n",
      "Epoch 2/500\n",
      "46/46 [==============================] - 0s 3ms/step - loss: 0.9285 - accuracy: 0.6614 - val_loss: 1.6877 - val_accuracy: 0.4208\n",
      "Epoch 3/500\n",
      "46/46 [==============================] - 0s 3ms/step - loss: 0.6264 - accuracy: 0.7818 - val_loss: 1.7626 - val_accuracy: 0.4781\n",
      "Epoch 4/500\n",
      "46/46 [==============================] - 0s 3ms/step - loss: 0.4780 - accuracy: 0.8358 - val_loss: 1.9234 - val_accuracy: 0.4536\n",
      "Epoch 5/500\n",
      "46/46 [==============================] - 0s 3ms/step - loss: 0.3242 - accuracy: 0.9036 - val_loss: 2.1942 - val_accuracy: 0.4344\n",
      "Epoch 6/500\n",
      "46/46 [==============================] - 0s 3ms/step - loss: 0.2323 - accuracy: 0.9316 - val_loss: 2.4805 - val_accuracy: 0.4235\n",
      "Epoch 7/500\n",
      "46/46 [==============================] - 0s 3ms/step - loss: 0.1654 - accuracy: 0.9535 - val_loss: 2.6000 - val_accuracy: 0.4481\n",
      "Epoch 8/500\n",
      "46/46 [==============================] - 0s 3ms/step - loss: 0.1098 - accuracy: 0.9720 - val_loss: 2.6514 - val_accuracy: 0.4672\n",
      "Epoch 9/500\n",
      "46/46 [==============================] - 0s 3ms/step - loss: 0.0778 - accuracy: 0.9829 - val_loss: 2.8288 - val_accuracy: 0.4536\n",
      "Epoch 10/500\n",
      "46/46 [==============================] - 0s 3ms/step - loss: 0.0848 - accuracy: 0.9761 - val_loss: 3.1538 - val_accuracy: 0.4617\n",
      "Epoch 11/500\n",
      "46/46 [==============================] - 0s 3ms/step - loss: 0.0398 - accuracy: 0.9925 - val_loss: 3.0867 - val_accuracy: 0.4290\n",
      "Epoch 12/500\n",
      "46/46 [==============================] - 0s 3ms/step - loss: 0.0240 - accuracy: 0.9979 - val_loss: 3.3142 - val_accuracy: 0.4290\n",
      "Epoch 13/500\n",
      "46/46 [==============================] - 0s 3ms/step - loss: 0.0160 - accuracy: 0.9979 - val_loss: 3.3088 - val_accuracy: 0.4590\n",
      "Epoch 14/500\n",
      "46/46 [==============================] - 0s 3ms/step - loss: 0.0088 - accuracy: 1.0000 - val_loss: 3.5024 - val_accuracy: 0.4426\n",
      "Epoch 15/500\n",
      "46/46 [==============================] - 0s 3ms/step - loss: 0.0053 - accuracy: 1.0000 - val_loss: 3.5918 - val_accuracy: 0.4290\n",
      "Epoch 16/500\n",
      "46/46 [==============================] - 0s 3ms/step - loss: 0.0047 - accuracy: 1.0000 - val_loss: 3.5705 - val_accuracy: 0.4454\n",
      "Epoch 17/500\n",
      "46/46 [==============================] - 0s 3ms/step - loss: 0.0037 - accuracy: 1.0000 - val_loss: 3.6315 - val_accuracy: 0.4563\n",
      "Epoch 18/500\n",
      "46/46 [==============================] - 0s 3ms/step - loss: 0.0031 - accuracy: 1.0000 - val_loss: 3.7181 - val_accuracy: 0.4454\n",
      "Epoch 19/500\n",
      "46/46 [==============================] - 0s 3ms/step - loss: 0.0027 - accuracy: 1.0000 - val_loss: 3.7809 - val_accuracy: 0.4454\n",
      "Epoch 20/500\n",
      "46/46 [==============================] - 0s 3ms/step - loss: 0.0024 - accuracy: 1.0000 - val_loss: 3.7683 - val_accuracy: 0.4536\n",
      "Epoch 21/500\n",
      "46/46 [==============================] - 0s 3ms/step - loss: 0.0022 - accuracy: 1.0000 - val_loss: 3.8317 - val_accuracy: 0.4536\n",
      "Epoch 22/500\n",
      "46/46 [==============================] - 0s 3ms/step - loss: 0.0020 - accuracy: 1.0000 - val_loss: 3.8739 - val_accuracy: 0.4508\n",
      "Epoch 23/500\n",
      "46/46 [==============================] - 0s 3ms/step - loss: 0.0018 - accuracy: 1.0000 - val_loss: 3.8956 - val_accuracy: 0.4536\n",
      "Epoch 24/500\n",
      "46/46 [==============================] - 0s 3ms/step - loss: 0.0017 - accuracy: 1.0000 - val_loss: 3.9674 - val_accuracy: 0.4481\n",
      "Epoch 25/500\n",
      "46/46 [==============================] - 0s 3ms/step - loss: 0.0015 - accuracy: 1.0000 - val_loss: 4.0088 - val_accuracy: 0.4481\n",
      "Epoch 26/500\n",
      "46/46 [==============================] - 0s 3ms/step - loss: 0.0014 - accuracy: 1.0000 - val_loss: 4.0286 - val_accuracy: 0.4536\n",
      "Epoch 27/500\n",
      "46/46 [==============================] - 0s 3ms/step - loss: 0.0013 - accuracy: 1.0000 - val_loss: 4.0660 - val_accuracy: 0.4481\n",
      "Epoch 28/500\n",
      "46/46 [==============================] - 0s 3ms/step - loss: 0.0012 - accuracy: 1.0000 - val_loss: 4.1016 - val_accuracy: 0.4481\n",
      "Epoch 29/500\n",
      "46/46 [==============================] - 0s 3ms/step - loss: 0.0011 - accuracy: 1.0000 - val_loss: 4.1322 - val_accuracy: 0.4481\n",
      "Epoch 30/500\n",
      "46/46 [==============================] - 0s 3ms/step - loss: 0.0010 - accuracy: 1.0000 - val_loss: 4.1557 - val_accuracy: 0.4454\n",
      "Epoch 31/500\n",
      "46/46 [==============================] - 0s 3ms/step - loss: 9.6710e-04 - accuracy: 1.0000 - val_loss: 4.1961 - val_accuracy: 0.4508\n",
      "Epoch 32/500\n",
      "46/46 [==============================] - 0s 3ms/step - loss: 9.0510e-04 - accuracy: 1.0000 - val_loss: 4.2435 - val_accuracy: 0.4454\n",
      "Epoch 33/500\n",
      "46/46 [==============================] - 0s 3ms/step - loss: 8.3583e-04 - accuracy: 1.0000 - val_loss: 4.2502 - val_accuracy: 0.4481\n",
      "Epoch 34/500\n",
      "46/46 [==============================] - 0s 3ms/step - loss: 7.8567e-04 - accuracy: 1.0000 - val_loss: 4.2920 - val_accuracy: 0.4454\n",
      "Epoch 35/500\n",
      "46/46 [==============================] - 0s 3ms/step - loss: 7.3457e-04 - accuracy: 1.0000 - val_loss: 4.3157 - val_accuracy: 0.4454\n",
      "Epoch 36/500\n",
      "46/46 [==============================] - 0s 3ms/step - loss: 6.9396e-04 - accuracy: 1.0000 - val_loss: 4.3504 - val_accuracy: 0.4481\n",
      "Epoch 37/500\n",
      "46/46 [==============================] - 0s 3ms/step - loss: 6.5369e-04 - accuracy: 1.0000 - val_loss: 4.3746 - val_accuracy: 0.4454\n",
      "Epoch 38/500\n",
      "46/46 [==============================] - 0s 3ms/step - loss: 6.1478e-04 - accuracy: 1.0000 - val_loss: 4.3966 - val_accuracy: 0.4508\n",
      "Epoch 39/500\n",
      "46/46 [==============================] - 0s 3ms/step - loss: 5.8020e-04 - accuracy: 1.0000 - val_loss: 4.4215 - val_accuracy: 0.4426\n",
      "Epoch 40/500\n",
      "46/46 [==============================] - 0s 3ms/step - loss: 5.4713e-04 - accuracy: 1.0000 - val_loss: 4.4448 - val_accuracy: 0.4454\n",
      "Epoch 41/500\n",
      "46/46 [==============================] - 0s 3ms/step - loss: 5.1858e-04 - accuracy: 1.0000 - val_loss: 4.4790 - val_accuracy: 0.4481\n",
      "Epoch 42/500\n",
      "46/46 [==============================] - 0s 3ms/step - loss: 4.9285e-04 - accuracy: 1.0000 - val_loss: 4.5108 - val_accuracy: 0.4454\n",
      "Epoch 43/500\n",
      "46/46 [==============================] - 0s 3ms/step - loss: 4.6628e-04 - accuracy: 1.0000 - val_loss: 4.5251 - val_accuracy: 0.4454\n",
      "Epoch 44/500\n",
      "46/46 [==============================] - 0s 3ms/step - loss: 4.3938e-04 - accuracy: 1.0000 - val_loss: 4.5526 - val_accuracy: 0.4454\n",
      "Epoch 45/500\n",
      "46/46 [==============================] - 0s 3ms/step - loss: 4.2151e-04 - accuracy: 1.0000 - val_loss: 4.5689 - val_accuracy: 0.4481\n",
      "Epoch 46/500\n",
      "46/46 [==============================] - 0s 3ms/step - loss: 3.9544e-04 - accuracy: 1.0000 - val_loss: 4.6050 - val_accuracy: 0.4481\n",
      "Epoch 47/500\n",
      "46/46 [==============================] - 0s 3ms/step - loss: 3.7604e-04 - accuracy: 1.0000 - val_loss: 4.6247 - val_accuracy: 0.4454\n",
      "Epoch 48/500\n",
      "46/46 [==============================] - 0s 3ms/step - loss: 3.5730e-04 - accuracy: 1.0000 - val_loss: 4.6347 - val_accuracy: 0.4481\n",
      "Epoch 49/500\n",
      "46/46 [==============================] - 0s 3ms/step - loss: 3.4084e-04 - accuracy: 1.0000 - val_loss: 4.6722 - val_accuracy: 0.4454\n",
      "Epoch 50/500\n",
      "46/46 [==============================] - 0s 3ms/step - loss: 3.2649e-04 - accuracy: 1.0000 - val_loss: 4.6924 - val_accuracy: 0.4454\n",
      "Epoch 51/500\n",
      "46/46 [==============================] - 0s 3ms/step - loss: 3.0965e-04 - accuracy: 1.0000 - val_loss: 4.7178 - val_accuracy: 0.4454\n",
      "Epoch 51: early stopping\n"
     ]
    },
    {
     "data": {
      "text/plain": [
       "KerasClassifier(\n",
       "\tmodel=<function build_model4 at 0x0000019B1BDE1160>\n",
       "\tbuild_fn=None\n",
       "\twarm_start=False\n",
       "\trandom_state=None\n",
       "\toptimizer=rmsprop\n",
       "\tloss=None\n",
       "\tmetrics=None\n",
       "\tbatch_size=None\n",
       "\tvalidation_batch_size=None\n",
       "\tverbose=1\n",
       "\tcallbacks=[<keras.callbacks.EarlyStopping object at 0x0000019B2AC6F1C0>, <keras.callbacks.ModelCheckpoint object at 0x0000019B2ACF99D0>]\n",
       "\tvalidation_split=0.0\n",
       "\tshuffle=True\n",
       "\trun_eagerly=False\n",
       "\tepochs=1\n",
       "\tclass_weight=None\n",
       ")"
      ]
     },
     "execution_count": 8,
     "metadata": {},
     "output_type": "execute_result"
    }
   ],
   "source": [
    "es = EarlyStopping(monitor='val_loss', patience=50, verbose=True) # tipycal monitor is val_loss to avoid overfitting. patience says that: if after 50 epochs the val loss is not decrsing anymore u can stop and return the model as the best model\n",
    "mc = ModelCheckpoint('best_model_NOREG.h1', monitor='val_loss', save_best_only=True) # modelcheckpoint is another class to specify the name of the model, save best only true -> automatically deletes all the other model that are not the best\n",
    "\n",
    "clf = KerasClassifier(build_model4, callbacks=[es, mc])\n",
    "clf.fit(X_train, y_train, validation_split=0.2, epochs=500)"
   ]
  },
  {
   "cell_type": "code",
   "execution_count": 11,
   "metadata": {},
   "outputs": [
    {
     "name": "stdout",
     "output_type": "stream",
     "text": [
      "20/20 [==============================] - 0s 606us/step\n",
      "Accuracy 0.4951923076923077\n",
      "F1-score [0.62809917 0.59       0.47706422 0.47682119 0.43715847 0.4\n",
      " 0.34939759 0.47826087]\n",
      "              precision    recall  f1-score   support\n",
      "\n",
      "           0       0.52      0.79      0.63        96\n",
      "           1       0.57      0.61      0.59        96\n",
      "           2       0.43      0.54      0.48        48\n",
      "           3       0.65      0.38      0.48        96\n",
      "           4       0.46      0.42      0.44        96\n",
      "           5       0.37      0.44      0.40        48\n",
      "           6       0.41      0.30      0.35        96\n",
      "           7       0.50      0.46      0.48        48\n",
      "\n",
      "    accuracy                           0.50       624\n",
      "   macro avg       0.49      0.49      0.48       624\n",
      "weighted avg       0.50      0.50      0.49       624\n",
      "\n"
     ]
    }
   ],
   "source": [
    "# we can see that that the training stopped after 31 epochs without reachng the end\n",
    "\n",
    "y_pred = clf.predict(X_test).astype(int)\n",
    "\n",
    "print('Accuracy %s' % accuracy_score(y_test, y_pred))\n",
    "print('F1-score %s' % f1_score(y_test, y_pred, average=None))\n",
    "print(classification_report(y_test, y_pred))"
   ]
  },
  {
   "attachments": {},
   "cell_type": "markdown",
   "metadata": {},
   "source": [
    "L2 regularization"
   ]
  },
  {
   "cell_type": "code",
   "execution_count": 52,
   "metadata": {},
   "outputs": [],
   "source": [
    "from keras.regularizers import l2, l1\n",
    "\n",
    "def build_L2_model4():\n",
    "    n_feature = X_train.shape[1] # numero colonne\n",
    "    model = Sequential()\n",
    "    model.add(Dense(512, input_dim=n_feature, activation='relu',kernel_regularizer=l2(0.05))) \n",
    "    model.add(Dense(512, activation='relu',kernel_regularizer=l2(0.01)))# second layer\n",
    "    model.add(Dense(n_classes, activation='softmax'))\n",
    "    # if we have multiclass u have to specify as output the number of classes\n",
    "    model.compile(loss='sparse_categorical_crossentropy', # compile=build the network. if binary classification use binary_crossentropy as loss fucntions\n",
    "                  optimizer=\"adam\", metrics=['accuracy']) # metric u want to observe -> typically accuracy,f1 score\n",
    "    return model"
   ]
  },
  {
   "cell_type": "code",
   "execution_count": 53,
   "metadata": {},
   "outputs": [
    {
     "name": "stdout",
     "output_type": "stream",
     "text": [
      "Epoch 1/500\n",
      "24/46 [==============>...............] - ETA: 0s - loss: 18.9304 - accuracy: 0.3581 "
     ]
    },
    {
     "name": "stderr",
     "output_type": "stream",
     "text": [
      "WARNING:absl:Found untraced functions such as _update_step_xla while saving (showing 1 of 1). These functions will not be directly callable after loading.\n"
     ]
    },
    {
     "name": "stdout",
     "output_type": "stream",
     "text": [
      "INFO:tensorflow:Assets written to: best_model_L2.h1\\assets\n"
     ]
    },
    {
     "name": "stderr",
     "output_type": "stream",
     "text": [
      "INFO:tensorflow:Assets written to: best_model_L2.h1\\assets\n"
     ]
    },
    {
     "name": "stdout",
     "output_type": "stream",
     "text": [
      "46/46 [==============================] - 1s 18ms/step - loss: 15.2042 - accuracy: 0.4138 - val_loss: 8.6658 - val_accuracy: 0.3634\n",
      "Epoch 2/500\n",
      "25/46 [===============>..............] - ETA: 0s - loss: 6.4777 - accuracy: 0.5987"
     ]
    },
    {
     "name": "stderr",
     "output_type": "stream",
     "text": [
      "WARNING:absl:Found untraced functions such as _update_step_xla while saving (showing 1 of 1). These functions will not be directly callable after loading.\n"
     ]
    },
    {
     "name": "stdout",
     "output_type": "stream",
     "text": [
      "INFO:tensorflow:Assets written to: best_model_L2.h1\\assets\n"
     ]
    },
    {
     "name": "stderr",
     "output_type": "stream",
     "text": [
      "INFO:tensorflow:Assets written to: best_model_L2.h1\\assets\n"
     ]
    },
    {
     "name": "stdout",
     "output_type": "stream",
     "text": [
      "46/46 [==============================] - 1s 22ms/step - loss: 5.5193 - accuracy: 0.5609 - val_loss: 3.9608 - val_accuracy: 0.4098\n",
      "Epoch 3/500\n",
      "24/46 [==============>...............] - ETA: 0s - loss: 3.0266 - accuracy: 0.6146"
     ]
    },
    {
     "name": "stderr",
     "output_type": "stream",
     "text": [
      "WARNING:absl:Found untraced functions such as _update_step_xla while saving (showing 1 of 1). These functions will not be directly callable after loading.\n"
     ]
    },
    {
     "name": "stdout",
     "output_type": "stream",
     "text": [
      "INFO:tensorflow:Assets written to: best_model_L2.h1\\assets\n"
     ]
    },
    {
     "name": "stderr",
     "output_type": "stream",
     "text": [
      "INFO:tensorflow:Assets written to: best_model_L2.h1\\assets\n"
     ]
    },
    {
     "name": "stdout",
     "output_type": "stream",
     "text": [
      "46/46 [==============================] - 1s 16ms/step - loss: 2.7830 - accuracy: 0.5869 - val_loss: 2.5727 - val_accuracy: 0.4126\n",
      "Epoch 4/500\n",
      "24/46 [==============>...............] - ETA: 0s - loss: 2.0064 - accuracy: 0.6315"
     ]
    },
    {
     "name": "stderr",
     "output_type": "stream",
     "text": [
      "WARNING:absl:Found untraced functions such as _update_step_xla while saving (showing 1 of 1). These functions will not be directly callable after loading.\n"
     ]
    },
    {
     "name": "stdout",
     "output_type": "stream",
     "text": [
      "INFO:tensorflow:Assets written to: best_model_L2.h1\\assets\n"
     ]
    },
    {
     "name": "stderr",
     "output_type": "stream",
     "text": [
      "INFO:tensorflow:Assets written to: best_model_L2.h1\\assets\n"
     ]
    },
    {
     "name": "stdout",
     "output_type": "stream",
     "text": [
      "46/46 [==============================] - 1s 15ms/step - loss: 1.9601 - accuracy: 0.6005 - val_loss: 2.3641 - val_accuracy: 0.3689\n",
      "Epoch 5/500\n",
      "24/46 [==============>...............] - ETA: 0s - loss: 1.6394 - accuracy: 0.6172"
     ]
    },
    {
     "name": "stderr",
     "output_type": "stream",
     "text": [
      "WARNING:absl:Found untraced functions such as _update_step_xla while saving (showing 1 of 1). These functions will not be directly callable after loading.\n"
     ]
    },
    {
     "name": "stdout",
     "output_type": "stream",
     "text": [
      "INFO:tensorflow:Assets written to: best_model_L2.h1\\assets\n"
     ]
    },
    {
     "name": "stderr",
     "output_type": "stream",
     "text": [
      "INFO:tensorflow:Assets written to: best_model_L2.h1\\assets\n"
     ]
    },
    {
     "name": "stdout",
     "output_type": "stream",
     "text": [
      "46/46 [==============================] - 1s 22ms/step - loss: 1.6285 - accuracy: 0.6197 - val_loss: 2.1107 - val_accuracy: 0.4153\n",
      "Epoch 6/500\n",
      "46/46 [==============================] - 0s 3ms/step - loss: 1.5029 - accuracy: 0.6149 - val_loss: 2.1879 - val_accuracy: 0.3825\n",
      "Epoch 7/500\n",
      "25/46 [===============>..............] - ETA: 0s - loss: 1.4073 - accuracy: 0.6625"
     ]
    },
    {
     "name": "stderr",
     "output_type": "stream",
     "text": [
      "WARNING:absl:Found untraced functions such as _update_step_xla while saving (showing 1 of 1). These functions will not be directly callable after loading.\n"
     ]
    },
    {
     "name": "stdout",
     "output_type": "stream",
     "text": [
      "INFO:tensorflow:Assets written to: best_model_L2.h1\\assets\n"
     ]
    },
    {
     "name": "stderr",
     "output_type": "stream",
     "text": [
      "INFO:tensorflow:Assets written to: best_model_L2.h1\\assets\n"
     ]
    },
    {
     "name": "stdout",
     "output_type": "stream",
     "text": [
      "46/46 [==============================] - 1s 16ms/step - loss: 1.4164 - accuracy: 0.6464 - val_loss: 1.8610 - val_accuracy: 0.4590\n",
      "Epoch 8/500\n",
      "46/46 [==============================] - 0s 3ms/step - loss: 1.3394 - accuracy: 0.6662 - val_loss: 2.0272 - val_accuracy: 0.3962\n",
      "Epoch 9/500\n",
      "46/46 [==============================] - 0s 3ms/step - loss: 1.2928 - accuracy: 0.6826 - val_loss: 1.9283 - val_accuracy: 0.4180\n",
      "Epoch 10/500\n",
      "46/46 [==============================] - 0s 3ms/step - loss: 1.2862 - accuracy: 0.6744 - val_loss: 1.9030 - val_accuracy: 0.4208\n",
      "Epoch 11/500\n",
      "46/46 [==============================] - 0s 3ms/step - loss: 1.2370 - accuracy: 0.7018 - val_loss: 1.8779 - val_accuracy: 0.4426\n",
      "Epoch 12/500\n",
      "46/46 [==============================] - 0s 3ms/step - loss: 1.1726 - accuracy: 0.7367 - val_loss: 2.0206 - val_accuracy: 0.4372\n",
      "Epoch 13/500\n",
      "46/46 [==============================] - 0s 3ms/step - loss: 1.1608 - accuracy: 0.7332 - val_loss: 2.0626 - val_accuracy: 0.4563\n",
      "Epoch 14/500\n",
      "46/46 [==============================] - 0s 3ms/step - loss: 1.1258 - accuracy: 0.7585 - val_loss: 2.0434 - val_accuracy: 0.4180\n",
      "Epoch 15/500\n",
      "46/46 [==============================] - 0s 3ms/step - loss: 1.1125 - accuracy: 0.7633 - val_loss: 2.2068 - val_accuracy: 0.3962\n",
      "Epoch 16/500\n",
      "46/46 [==============================] - 0s 3ms/step - loss: 1.1180 - accuracy: 0.7435 - val_loss: 2.0890 - val_accuracy: 0.4262\n",
      "Epoch 17/500\n",
      "46/46 [==============================] - 0s 3ms/step - loss: 1.0943 - accuracy: 0.7490 - val_loss: 2.0398 - val_accuracy: 0.4426\n",
      "Epoch 18/500\n",
      "46/46 [==============================] - 0s 3ms/step - loss: 1.0310 - accuracy: 0.7880 - val_loss: 2.0667 - val_accuracy: 0.4645\n",
      "Epoch 19/500\n",
      "46/46 [==============================] - 0s 3ms/step - loss: 1.0114 - accuracy: 0.7934 - val_loss: 1.9970 - val_accuracy: 0.4590\n",
      "Epoch 20/500\n",
      "46/46 [==============================] - 0s 3ms/step - loss: 1.0164 - accuracy: 0.7996 - val_loss: 2.0009 - val_accuracy: 0.4727\n",
      "Epoch 21/500\n",
      "46/46 [==============================] - 0s 3ms/step - loss: 0.9605 - accuracy: 0.8112 - val_loss: 2.2375 - val_accuracy: 0.4153\n",
      "Epoch 22/500\n",
      "46/46 [==============================] - 0s 3ms/step - loss: 0.9928 - accuracy: 0.7893 - val_loss: 2.2333 - val_accuracy: 0.4317\n",
      "Epoch 23/500\n",
      "46/46 [==============================] - 0s 3ms/step - loss: 1.0139 - accuracy: 0.7852 - val_loss: 2.3246 - val_accuracy: 0.4208\n",
      "Epoch 24/500\n",
      "46/46 [==============================] - 0s 3ms/step - loss: 0.9491 - accuracy: 0.8269 - val_loss: 2.1800 - val_accuracy: 0.4426\n",
      "Epoch 25/500\n",
      "46/46 [==============================] - 0s 3ms/step - loss: 0.8829 - accuracy: 0.8502 - val_loss: 2.3847 - val_accuracy: 0.4454\n",
      "Epoch 26/500\n",
      "46/46 [==============================] - 0s 3ms/step - loss: 0.9270 - accuracy: 0.8338 - val_loss: 2.2034 - val_accuracy: 0.4481\n",
      "Epoch 27/500\n",
      "46/46 [==============================] - 0s 3ms/step - loss: 0.9213 - accuracy: 0.8304 - val_loss: 2.2778 - val_accuracy: 0.4508\n",
      "Epoch 28/500\n",
      "46/46 [==============================] - 0s 3ms/step - loss: 0.8820 - accuracy: 0.8509 - val_loss: 2.2029 - val_accuracy: 0.4699\n",
      "Epoch 29/500\n",
      "46/46 [==============================] - 0s 3ms/step - loss: 0.9092 - accuracy: 0.8338 - val_loss: 2.3065 - val_accuracy: 0.4344\n",
      "Epoch 30/500\n",
      "46/46 [==============================] - 0s 3ms/step - loss: 0.8508 - accuracy: 0.8564 - val_loss: 2.2900 - val_accuracy: 0.4563\n",
      "Epoch 31/500\n",
      "46/46 [==============================] - 0s 3ms/step - loss: 0.8518 - accuracy: 0.8577 - val_loss: 2.2509 - val_accuracy: 0.4590\n",
      "Epoch 32/500\n",
      "46/46 [==============================] - 0s 3ms/step - loss: 0.8228 - accuracy: 0.8639 - val_loss: 2.2522 - val_accuracy: 0.4208\n",
      "Epoch 33/500\n",
      "46/46 [==============================] - 0s 3ms/step - loss: 0.8148 - accuracy: 0.8762 - val_loss: 2.5441 - val_accuracy: 0.4262\n",
      "Epoch 34/500\n",
      "46/46 [==============================] - 0s 3ms/step - loss: 0.7984 - accuracy: 0.8735 - val_loss: 2.4675 - val_accuracy: 0.4235\n",
      "Epoch 35/500\n",
      "46/46 [==============================] - 0s 3ms/step - loss: 0.8085 - accuracy: 0.8728 - val_loss: 2.5520 - val_accuracy: 0.3989\n",
      "Epoch 36/500\n",
      "46/46 [==============================] - 0s 3ms/step - loss: 0.7796 - accuracy: 0.8871 - val_loss: 2.3618 - val_accuracy: 0.4508\n",
      "Epoch 37/500\n",
      "46/46 [==============================] - 0s 3ms/step - loss: 0.7798 - accuracy: 0.8735 - val_loss: 2.4175 - val_accuracy: 0.4454\n",
      "Epoch 38/500\n",
      "46/46 [==============================] - 0s 3ms/step - loss: 0.7670 - accuracy: 0.8871 - val_loss: 2.4507 - val_accuracy: 0.4426\n",
      "Epoch 39/500\n",
      "46/46 [==============================] - 0s 3ms/step - loss: 0.7586 - accuracy: 0.8885 - val_loss: 2.3943 - val_accuracy: 0.4290\n",
      "Epoch 40/500\n",
      "46/46 [==============================] - 0s 3ms/step - loss: 0.7316 - accuracy: 0.8974 - val_loss: 2.3294 - val_accuracy: 0.4536\n",
      "Epoch 41/500\n",
      "46/46 [==============================] - 0s 3ms/step - loss: 0.7470 - accuracy: 0.8926 - val_loss: 2.6247 - val_accuracy: 0.4235\n",
      "Epoch 42/500\n",
      "46/46 [==============================] - 0s 3ms/step - loss: 0.7519 - accuracy: 0.8865 - val_loss: 2.6388 - val_accuracy: 0.4098\n",
      "Epoch 43/500\n",
      "46/46 [==============================] - 0s 3ms/step - loss: 0.7459 - accuracy: 0.8865 - val_loss: 2.6614 - val_accuracy: 0.4481\n",
      "Epoch 44/500\n",
      "46/46 [==============================] - 0s 3ms/step - loss: 0.7562 - accuracy: 0.8865 - val_loss: 2.4138 - val_accuracy: 0.4536\n",
      "Epoch 45/500\n",
      "46/46 [==============================] - 0s 3ms/step - loss: 0.7352 - accuracy: 0.8844 - val_loss: 2.4192 - val_accuracy: 0.4399\n",
      "Epoch 46/500\n",
      "46/46 [==============================] - 0s 3ms/step - loss: 0.7032 - accuracy: 0.9008 - val_loss: 2.6165 - val_accuracy: 0.4317\n",
      "Epoch 47/500\n",
      "46/46 [==============================] - 0s 3ms/step - loss: 0.6744 - accuracy: 0.9213 - val_loss: 2.4290 - val_accuracy: 0.4617\n",
      "Epoch 48/500\n",
      "46/46 [==============================] - 0s 3ms/step - loss: 0.6864 - accuracy: 0.9131 - val_loss: 2.4277 - val_accuracy: 0.4536\n",
      "Epoch 49/500\n",
      "46/46 [==============================] - 0s 3ms/step - loss: 0.6798 - accuracy: 0.9200 - val_loss: 2.5395 - val_accuracy: 0.4536\n",
      "Epoch 50/500\n",
      "46/46 [==============================] - 0s 3ms/step - loss: 0.6813 - accuracy: 0.9090 - val_loss: 2.4478 - val_accuracy: 0.4563\n",
      "Epoch 51/500\n",
      "46/46 [==============================] - 0s 3ms/step - loss: 0.6640 - accuracy: 0.9172 - val_loss: 2.5243 - val_accuracy: 0.4208\n",
      "Epoch 52/500\n",
      "46/46 [==============================] - 0s 3ms/step - loss: 0.6919 - accuracy: 0.8953 - val_loss: 2.6487 - val_accuracy: 0.4754\n",
      "Epoch 53/500\n",
      "46/46 [==============================] - 0s 3ms/step - loss: 0.6722 - accuracy: 0.9008 - val_loss: 2.5576 - val_accuracy: 0.4481\n",
      "Epoch 54/500\n",
      "46/46 [==============================] - 0s 3ms/step - loss: 0.6716 - accuracy: 0.9152 - val_loss: 2.6605 - val_accuracy: 0.4262\n",
      "Epoch 55/500\n",
      "46/46 [==============================] - 0s 3ms/step - loss: 0.6660 - accuracy: 0.9104 - val_loss: 2.8213 - val_accuracy: 0.4426\n",
      "Epoch 56/500\n",
      "46/46 [==============================] - 0s 3ms/step - loss: 0.6465 - accuracy: 0.9282 - val_loss: 2.5328 - val_accuracy: 0.4590\n",
      "Epoch 57/500\n",
      "46/46 [==============================] - 0s 3ms/step - loss: 0.6395 - accuracy: 0.9220 - val_loss: 2.6623 - val_accuracy: 0.4399\n",
      "Epoch 57: early stopping\n"
     ]
    },
    {
     "data": {
      "text/plain": [
       "KerasClassifier(\n",
       "\tmodel=<function build_L2_model4 at 0x0000019B42A11DC0>\n",
       "\tbuild_fn=None\n",
       "\twarm_start=False\n",
       "\trandom_state=None\n",
       "\toptimizer=rmsprop\n",
       "\tloss=None\n",
       "\tmetrics=None\n",
       "\tbatch_size=None\n",
       "\tvalidation_batch_size=None\n",
       "\tverbose=1\n",
       "\tcallbacks=[<keras.callbacks.EarlyStopping object at 0x0000019B2AC6F1C0>, <keras.callbacks.ModelCheckpoint object at 0x0000019B43FF0C70>]\n",
       "\tvalidation_split=0.0\n",
       "\tshuffle=True\n",
       "\trun_eagerly=False\n",
       "\tepochs=1\n",
       "\tclass_weight=None\n",
       ")"
      ]
     },
     "execution_count": 53,
     "metadata": {},
     "output_type": "execute_result"
    }
   ],
   "source": [
    "mc = ModelCheckpoint('best_model_L2.h1', monitor='val_loss', save_best_only=True)\n",
    "\n",
    "L2_model = KerasClassifier(build_L2_model4, callbacks=[es,mc])\n",
    "L2_model.fit(X_train, y_train, validation_split=0.2, epochs=500)"
   ]
  },
  {
   "cell_type": "code",
   "execution_count": 54,
   "metadata": {},
   "outputs": [
    {
     "data": {
      "image/png": "[encoded data removed]",
      "text/plain": [
       "<Figure size 432x288 with 1 Axes>"
      ]
     },
     "metadata": {
      "needs_background": "light"
     },
     "output_type": "display_data"
    }
   ],
   "source": [
    "history = L2_model.history_\n",
    "plt.plot(history['accuracy'], label='Train')\n",
    "plt.plot(history['val_accuracy'], label='Val')\n",
    "plt.xlabel('Epochs')\n",
    "plt.ylabel('Accuracy')\n",
    "plt.legend()\n",
    "plt.show()"
   ]
  },
  {
   "cell_type": "code",
   "execution_count": 55,
   "metadata": {},
   "outputs": [
    {
     "data": {
      "image/png": "[encoded data removed]",
      "text/plain": [
       "<Figure size 432x288 with 1 Axes>"
      ]
     },
     "metadata": {
      "needs_background": "light"
     },
     "output_type": "display_data"
    }
   ],
   "source": [
    "plt.plot(history['loss'], label='Train')\n",
    "plt.plot(history['val_loss'], label='Val')\n",
    "plt.xlabel('Epochs')\n",
    "plt.ylabel('Loss')\n",
    "plt.legend()\n",
    "plt.show()"
   ]
  },
  {
   "cell_type": "code",
   "execution_count": 57,
   "metadata": {},
   "outputs": [
    {
     "name": "stdout",
     "output_type": "stream",
     "text": [
      "20/20 [==============================] - 0s 606us/step\n",
      "Accuracy 0.46634615384615385\n",
      "F1-score [0.6147541  0.61206897 0.45378151 0.4516129  0.28187919 0.34782609\n",
      " 0.29268293 0.47311828]\n",
      "              precision    recall  f1-score   support\n",
      "\n",
      "           0       0.51      0.78      0.61        96\n",
      "           1       0.52      0.74      0.61        96\n",
      "           2       0.38      0.56      0.45        48\n",
      "           3       0.59      0.36      0.45        96\n",
      "           4       0.40      0.22      0.28        96\n",
      "           5       0.36      0.33      0.35        48\n",
      "           6       0.35      0.25      0.29        96\n",
      "           7       0.49      0.46      0.47        48\n",
      "\n",
      "    accuracy                           0.47       624\n",
      "   macro avg       0.45      0.46      0.44       624\n",
      "weighted avg       0.46      0.47      0.44       624\n",
      "\n"
     ]
    }
   ],
   "source": [
    "y_pred = L2_model.predict(X_test).astype(int)\n",
    "\n",
    "print('Accuracy %s' % accuracy_score(y_test, y_pred))\n",
    "print('F1-score %s' % f1_score(y_test, y_pred, average=None))\n",
    "print(classification_report(y_test, y_pred))"
   ]
  },
  {
   "attachments": {},
   "cell_type": "markdown",
   "metadata": {},
   "source": [
    "Dropout"
   ]
  },
  {
   "cell_type": "code",
   "execution_count": 136,
   "metadata": {},
   "outputs": [],
   "source": [
    "def build_DROPOUT_model4():\n",
    "    n_feature = X_train.shape[1] # numero colonne\n",
    "    model = Sequential()\n",
    "    model.add(Dense(512, input_dim=n_feature, activation='relu')) \n",
    "    model.add(Dense(512, activation='relu'))# second layer\n",
    "    model.add(Dropout(0.1))# between these levels, for each iteration, 10% weight connection are put to 0\n",
    "    model.add(Dense(n_classes, activation='softmax'))\n",
    "    # if we have multiclass u have to specify as output the number of classes\n",
    "    model.compile(loss='sparse_categorical_crossentropy', # compile=build the network. if binary classification use binary_crossentropy as loss fucntions\n",
    "                  optimizer=\"adam\", metrics=['accuracy']) # metric u want to observe -> typically accuracy,f1 score\n",
    "    return model"
   ]
  },
  {
   "cell_type": "code",
   "execution_count": 137,
   "metadata": {},
   "outputs": [
    {
     "name": "stdout",
     "output_type": "stream",
     "text": [
      "Epoch 1/500\n",
      "46/46 [==============================] - ETA: 0s - loss: 1.5461 - accuracy: 0.4138"
     ]
    },
    {
     "name": "stderr",
     "output_type": "stream",
     "text": [
      "WARNING:absl:Found untraced functions such as _update_step_xla while saving (showing 1 of 1). These functions will not be directly callable after loading.\n"
     ]
    },
    {
     "name": "stdout",
     "output_type": "stream",
     "text": [
      "INFO:tensorflow:Assets written to: best_model_DROPOUT.h1\\assets\n"
     ]
    },
    {
     "name": "stderr",
     "output_type": "stream",
     "text": [
      "INFO:tensorflow:Assets written to: best_model_DROPOUT.h1\\assets\n"
     ]
    },
    {
     "name": "stdout",
     "output_type": "stream",
     "text": [
      "46/46 [==============================] - 2s 18ms/step - loss: 1.5461 - accuracy: 0.4138 - val_loss: 1.5659 - val_accuracy: 0.4344\n",
      "Epoch 2/500\n",
      "46/46 [==============================] - 0s 3ms/step - loss: 0.9883 - accuracy: 0.6170 - val_loss: 1.7546 - val_accuracy: 0.4016\n",
      "Epoch 3/500\n",
      "46/46 [==============================] - 0s 3ms/step - loss: 0.6748 - accuracy: 0.7633 - val_loss: 2.0149 - val_accuracy: 0.3989\n",
      "Epoch 4/500\n",
      "46/46 [==============================] - 0s 3ms/step - loss: 0.4963 - accuracy: 0.8427 - val_loss: 2.0541 - val_accuracy: 0.4098\n",
      "Epoch 5/500\n",
      "46/46 [==============================] - 0s 3ms/step - loss: 0.3713 - accuracy: 0.8817 - val_loss: 2.3546 - val_accuracy: 0.4071\n",
      "Epoch 6/500\n",
      "46/46 [==============================] - 0s 3ms/step - loss: 0.2541 - accuracy: 0.9275 - val_loss: 3.0816 - val_accuracy: 0.3716\n",
      "Epoch 7/500\n",
      "46/46 [==============================] - 0s 3ms/step - loss: 0.1890 - accuracy: 0.9480 - val_loss: 2.7486 - val_accuracy: 0.4426\n",
      "Epoch 8/500\n",
      "46/46 [==============================] - 0s 3ms/step - loss: 0.1353 - accuracy: 0.9624 - val_loss: 3.0901 - val_accuracy: 0.3934\n",
      "Epoch 9/500\n",
      "46/46 [==============================] - 0s 3ms/step - loss: 0.1120 - accuracy: 0.9733 - val_loss: 3.1048 - val_accuracy: 0.4071\n",
      "Epoch 10/500\n",
      "46/46 [==============================] - 0s 3ms/step - loss: 0.0757 - accuracy: 0.9836 - val_loss: 2.9023 - val_accuracy: 0.4372\n",
      "Epoch 11/500\n",
      "46/46 [==============================] - 0s 3ms/step - loss: 0.0751 - accuracy: 0.9829 - val_loss: 3.1386 - val_accuracy: 0.4235\n",
      "Epoch 12/500\n",
      "46/46 [==============================] - 0s 3ms/step - loss: 0.0570 - accuracy: 0.9863 - val_loss: 3.2641 - val_accuracy: 0.4563\n",
      "Epoch 13/500\n",
      "46/46 [==============================] - 0s 3ms/step - loss: 0.0892 - accuracy: 0.9781 - val_loss: 3.4252 - val_accuracy: 0.4399\n",
      "Epoch 14/500\n",
      "46/46 [==============================] - 0s 3ms/step - loss: 0.0574 - accuracy: 0.9836 - val_loss: 3.5492 - val_accuracy: 0.4290\n",
      "Epoch 15/500\n",
      "46/46 [==============================] - 0s 3ms/step - loss: 0.0473 - accuracy: 0.9843 - val_loss: 3.6560 - val_accuracy: 0.4508\n",
      "Epoch 16/500\n",
      "46/46 [==============================] - 0s 3ms/step - loss: 0.0393 - accuracy: 0.9897 - val_loss: 3.6304 - val_accuracy: 0.4454\n",
      "Epoch 17/500\n",
      "46/46 [==============================] - 0s 3ms/step - loss: 0.0138 - accuracy: 1.0000 - val_loss: 3.8261 - val_accuracy: 0.4454\n",
      "Epoch 18/500\n",
      "46/46 [==============================] - 0s 3ms/step - loss: 0.0069 - accuracy: 1.0000 - val_loss: 3.7752 - val_accuracy: 0.4645\n",
      "Epoch 19/500\n",
      "46/46 [==============================] - 0s 3ms/step - loss: 0.0041 - accuracy: 1.0000 - val_loss: 3.9129 - val_accuracy: 0.4590\n",
      "Epoch 20/500\n",
      "46/46 [==============================] - 0s 3ms/step - loss: 0.0027 - accuracy: 1.0000 - val_loss: 3.9778 - val_accuracy: 0.4508\n",
      "Epoch 21/500\n",
      "46/46 [==============================] - 0s 3ms/step - loss: 0.0024 - accuracy: 1.0000 - val_loss: 3.9549 - val_accuracy: 0.4563\n",
      "Epoch 22/500\n",
      "46/46 [==============================] - 0s 3ms/step - loss: 0.0022 - accuracy: 1.0000 - val_loss: 4.0402 - val_accuracy: 0.4454\n",
      "Epoch 23/500\n",
      "46/46 [==============================] - 0s 3ms/step - loss: 0.0020 - accuracy: 1.0000 - val_loss: 4.2349 - val_accuracy: 0.4454\n",
      "Epoch 24/500\n",
      "46/46 [==============================] - 0s 3ms/step - loss: 0.0017 - accuracy: 1.0000 - val_loss: 4.1889 - val_accuracy: 0.4454\n",
      "Epoch 25/500\n",
      "46/46 [==============================] - 0s 3ms/step - loss: 0.0014 - accuracy: 1.0000 - val_loss: 4.1850 - val_accuracy: 0.4536\n",
      "Epoch 26/500\n",
      "46/46 [==============================] - 0s 3ms/step - loss: 0.0015 - accuracy: 1.0000 - val_loss: 4.1521 - val_accuracy: 0.4426\n",
      "Epoch 27/500\n",
      "46/46 [==============================] - 0s 3ms/step - loss: 0.0013 - accuracy: 1.0000 - val_loss: 4.2647 - val_accuracy: 0.4481\n",
      "Epoch 28/500\n",
      "46/46 [==============================] - 0s 3ms/step - loss: 0.0012 - accuracy: 1.0000 - val_loss: 4.2613 - val_accuracy: 0.4399\n",
      "Epoch 29/500\n",
      "46/46 [==============================] - 0s 3ms/step - loss: 0.0011 - accuracy: 1.0000 - val_loss: 4.3007 - val_accuracy: 0.4426\n",
      "Epoch 30/500\n",
      "46/46 [==============================] - 0s 3ms/step - loss: 0.0011 - accuracy: 1.0000 - val_loss: 4.3418 - val_accuracy: 0.4508\n",
      "Epoch 31/500\n",
      "46/46 [==============================] - 0s 3ms/step - loss: 9.3900e-04 - accuracy: 1.0000 - val_loss: 4.4129 - val_accuracy: 0.4508\n",
      "Epoch 32/500\n",
      "46/46 [==============================] - 0s 3ms/step - loss: 8.7197e-04 - accuracy: 1.0000 - val_loss: 4.4137 - val_accuracy: 0.4399\n",
      "Epoch 33/500\n",
      "46/46 [==============================] - 0s 3ms/step - loss: 7.9172e-04 - accuracy: 1.0000 - val_loss: 4.4043 - val_accuracy: 0.4426\n",
      "Epoch 34/500\n",
      "46/46 [==============================] - 0s 3ms/step - loss: 7.7356e-04 - accuracy: 1.0000 - val_loss: 4.4287 - val_accuracy: 0.4481\n",
      "Epoch 35/500\n",
      "46/46 [==============================] - 0s 3ms/step - loss: 7.8677e-04 - accuracy: 1.0000 - val_loss: 4.4197 - val_accuracy: 0.4508\n",
      "Epoch 36/500\n",
      "46/46 [==============================] - 0s 3ms/step - loss: 6.9193e-04 - accuracy: 1.0000 - val_loss: 4.4498 - val_accuracy: 0.4481\n",
      "Epoch 37/500\n",
      "46/46 [==============================] - 0s 3ms/step - loss: 6.5385e-04 - accuracy: 1.0000 - val_loss: 4.4929 - val_accuracy: 0.4508\n",
      "Epoch 38/500\n",
      "46/46 [==============================] - 0s 3ms/step - loss: 6.6232e-04 - accuracy: 1.0000 - val_loss: 4.5196 - val_accuracy: 0.4536\n",
      "Epoch 39/500\n",
      "46/46 [==============================] - 0s 3ms/step - loss: 6.2984e-04 - accuracy: 1.0000 - val_loss: 4.5184 - val_accuracy: 0.4481\n",
      "Epoch 40/500\n",
      "46/46 [==============================] - 0s 3ms/step - loss: 5.6326e-04 - accuracy: 1.0000 - val_loss: 4.5890 - val_accuracy: 0.4372\n",
      "Epoch 41/500\n",
      "46/46 [==============================] - 0s 3ms/step - loss: 5.3768e-04 - accuracy: 1.0000 - val_loss: 4.5766 - val_accuracy: 0.4481\n",
      "Epoch 42/500\n",
      "46/46 [==============================] - 0s 3ms/step - loss: 5.0395e-04 - accuracy: 1.0000 - val_loss: 4.5951 - val_accuracy: 0.4454\n",
      "Epoch 43/500\n",
      "46/46 [==============================] - 0s 3ms/step - loss: 4.9146e-04 - accuracy: 1.0000 - val_loss: 4.6275 - val_accuracy: 0.4454\n",
      "Epoch 44/500\n",
      "46/46 [==============================] - 0s 3ms/step - loss: 4.7110e-04 - accuracy: 1.0000 - val_loss: 4.6733 - val_accuracy: 0.4426\n",
      "Epoch 45/500\n",
      "46/46 [==============================] - 0s 3ms/step - loss: 4.0482e-04 - accuracy: 1.0000 - val_loss: 4.6661 - val_accuracy: 0.4454\n",
      "Epoch 46/500\n",
      "46/46 [==============================] - 0s 3ms/step - loss: 4.0791e-04 - accuracy: 1.0000 - val_loss: 4.7148 - val_accuracy: 0.4372\n",
      "Epoch 47/500\n",
      "46/46 [==============================] - 0s 3ms/step - loss: 3.9322e-04 - accuracy: 1.0000 - val_loss: 4.7028 - val_accuracy: 0.4399\n",
      "Epoch 48/500\n",
      "46/46 [==============================] - 0s 3ms/step - loss: 3.6304e-04 - accuracy: 1.0000 - val_loss: 4.6967 - val_accuracy: 0.4426\n",
      "Epoch 49/500\n",
      "46/46 [==============================] - 0s 3ms/step - loss: 3.4034e-04 - accuracy: 1.0000 - val_loss: 4.7248 - val_accuracy: 0.4454\n",
      "Epoch 50/500\n",
      "46/46 [==============================] - 0s 3ms/step - loss: 3.6400e-04 - accuracy: 1.0000 - val_loss: 4.7319 - val_accuracy: 0.4426\n",
      "Epoch 51/500\n",
      "46/46 [==============================] - 0s 3ms/step - loss: 3.3243e-04 - accuracy: 1.0000 - val_loss: 4.7913 - val_accuracy: 0.4454\n",
      "Epoch 51: early stopping\n"
     ]
    },
    {
     "data": {
      "text/plain": [
       "KerasClassifier(\n",
       "\tmodel=<function build_DROPOUT_model4 at 0x0000019928356550>\n",
       "\tbuild_fn=None\n",
       "\twarm_start=False\n",
       "\trandom_state=None\n",
       "\toptimizer=rmsprop\n",
       "\tloss=None\n",
       "\tmetrics=None\n",
       "\tbatch_size=None\n",
       "\tvalidation_batch_size=None\n",
       "\tverbose=1\n",
       "\tcallbacks=[<keras.callbacks.EarlyStopping object at 0x000001991CFCED60>, <keras.callbacks.ModelCheckpoint object at 0x00000199199EC700>]\n",
       "\tvalidation_split=0.0\n",
       "\tshuffle=True\n",
       "\trun_eagerly=False\n",
       "\tepochs=1\n",
       "\tclass_weight=None\n",
       ")"
      ]
     },
     "execution_count": 137,
     "metadata": {},
     "output_type": "execute_result"
    }
   ],
   "source": [
    "mc = ModelCheckpoint('best_model_DROPOUT.h1', monitor='val_loss', save_best_only=True)\n",
    "\n",
    "DROPOUT_model = KerasClassifier(build_DROPOUT_model4, callbacks=[es,mc])\n",
    "DROPOUT_model.fit(X_train, y_train, validation_split=0.2, epochs=500)"
   ]
  },
  {
   "cell_type": "code",
   "execution_count": 138,
   "metadata": {},
   "outputs": [
    {
     "data": {
      "image/png": "[encoded data removed]",
      "text/plain": [
       "<Figure size 432x288 with 1 Axes>"
      ]
     },
     "metadata": {
      "needs_background": "light"
     },
     "output_type": "display_data"
    }
   ],
   "source": [
    "history = DROPOUT_model.history_\n",
    "plt.plot(history['accuracy'], label='Train')\n",
    "plt.plot(history['val_accuracy'], label='Val')\n",
    "plt.xlabel('Epochs')\n",
    "plt.ylabel('Cross-Entropy')\n",
    "plt.legend()\n",
    "plt.show()"
   ]
  },
  {
   "cell_type": "code",
   "execution_count": 140,
   "metadata": {},
   "outputs": [
    {
     "data": {
      "image/png": "[encoded data removed]",
      "text/plain": [
       "<Figure size 432x288 with 1 Axes>"
      ]
     },
     "metadata": {
      "needs_background": "light"
     },
     "output_type": "display_data"
    }
   ],
   "source": [
    "plt.plot(history['loss'], label='Train')\n",
    "plt.plot(history['val_loss'], label='Val')\n",
    "plt.xlabel('Epochs')\n",
    "plt.ylabel('Cross-Entropy')\n",
    "plt.legend()\n",
    "plt.show()"
   ]
  },
  {
   "attachments": {},
   "cell_type": "markdown",
   "metadata": {},
   "source": [
    "Some comparison"
   ]
  },
  {
   "cell_type": "code",
   "execution_count": 141,
   "metadata": {},
   "outputs": [
    {
     "name": "stdout",
     "output_type": "stream",
     "text": [
      "20/20 [==============================] - 0s 790us/step - loss: 1.5440 - accuracy: 0.4263\n",
      "20/20 [==============================] - 0s 816us/step - loss: 1.9674 - accuracy: 0.4183\n",
      "20/20 [==============================] - 0s 764us/step - loss: 1.4879 - accuracy: 0.4519\n",
      "Loss 1.544006, Accuracy 0.426282\n",
      "Loss 1.967393, Accuracy 0.418269\n",
      "Loss 1.487939, Accuracy 0.451923\n"
     ]
    }
   ],
   "source": [
    "\n",
    "from keras.models import load_model\n",
    "\n",
    "best_NOREG_model = load_model('best_model_NOREG.h1')\n",
    "best_L2_model = load_model('best_model_L2.h1')\n",
    "best_DROPOUT_model = load_model('best_model_DROPOUT.h1')\n",
    "\n",
    "loss_NOREG, acc_NOREG = best_NOREG_model.evaluate(X_test, y_test)\n",
    "loss_L2, acc_L2 = best_L2_model.evaluate(X_test, y_test)\n",
    "loss_DROPOUT, acc_DROPOUT = best_DROPOUT_model.evaluate(X_test, y_test)\n",
    "\n",
    "print('Loss %f, Accuracy %f' % (loss_NOREG, acc_NOREG))\n",
    "print('Loss %f, Accuracy %f' % (loss_L2, acc_L2))\n",
    "print('Loss %f, Accuracy %f' % (loss_DROPOUT, acc_DROPOUT))"
   ]
  },
  {
   "cell_type": "code",
   "execution_count": null,
   "metadata": {},
   "outputs": [],
   "source": [
    "#TO ASK\n",
    "\n",
    "\"\"\"\n",
    "[ CLASSIFICAZIONE ]\n",
    "\n",
    "- Come si evince sopra tutti i modelli sono spudoratamente in oevrfitting, ho provatoi diverse tecniche di regolarizzazione ma senza successo, come si potrebbe procedere?\n",
    "- Ai fini del report potrei cancellare i record della classe 6=sad dal train e test, siccome è quella chew fa piu schifo, e fare classificazione senza queste istanze?\n",
    "- Ai fini del report ha senso, oltre ai vari classification report, mostrare anche le roc curve di questi pessimi modelli?\n",
    "- Quali grafici sarebbe opportuno plottare a fini di una classificazione multiclasse? (per ora abbiamo pensato a : confusion matrix , a Roc curve che plotta una macro media delle 8 classi, ha senso plottare anche il decision boundary di ciascun metodo ?  )\n",
    "- Ci siamo accorti che l AUC macro a volte presente dei risultati molto alti contrariamente a quelli riscontrati dal classification report. Es. macro AUC 87% instead f1_macro 51% \n",
    "- Si è provato anche a fare sampling + dim red.(selection) + cancellazione outliers(21) per il train per allenare i modelli ma ho incrmentanto le performance in media dell 1% acc,f1\n",
    "- Ha senso usare RandomForest in una RFE per trovato uno spazio selezionato migliore su cui allenare i modelli? \n",
    "\n",
    "[ REGRESSIONE]\n",
    "\n",
    "- La metrica R2 possono utilizzarla per valutare i regressori avanzati?(SVR,AdaBoost,GradientBoosting,RandomForest)\n",
    "- Le performance migliori sono state ottenute in generale utilizzando tutte le variabili  indipendenti, tranne la target, dopo aver cancellato quelle altamente correlate\n",
    "- E' corretto normalizzare tutti i valori compresi la target? --> transform solo sul test\n",
    "\n",
    "\"\"\"\n"
   ]
  }
 ],
 "metadata": {
  "kernelspec": {
   "display_name": "base",
   "language": "python",
   "name": "python3"
  },
  "language_info": {
   "codemirror_mode": {
    "name": "ipython",
    "version": 3
   },
   "file_extension": ".py",
   "mimetype": "text/x-python",
   "name": "python",
   "nbconvert_exporter": "python",
   "pygments_lexer": "ipython3",
   "version": "3.9.12"
  },
  "orig_nbformat": 4
 },
 "nbformat": 4,
 "nbformat_minor": 2
}
