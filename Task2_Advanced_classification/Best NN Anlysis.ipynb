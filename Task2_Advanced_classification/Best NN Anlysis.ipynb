{
 "cells": [
  {
   "cell_type": "code",
   "execution_count": 3,
   "metadata": {},
   "outputs": [],
   "source": [
    "import pandas as pd\n",
    "import numpy as np\n",
    "import seaborn as sns\n",
    "import matplotlib.pyplot as plt\n",
    "from sklearn.preprocessing import RobustScaler,MinMaxScaler,StandardScaler\n",
    "from sklearn import preprocessing\n",
    "from sklearn.model_selection import StratifiedKFold,RepeatedStratifiedKFold, RandomizedSearchCV,GridSearchCV, RepeatedKFold\n",
    "from sklearn.metrics import (\n",
    "    accuracy_score,\n",
    "    f1_score,\n",
    "    classification_report,\n",
    "    confusion_matrix,\n",
    "    roc_auc_score,\n",
    "    roc_curve\n",
    ")\n",
    "from scikitplot.metrics import plot_precision_recall, plot_roc, plot_cumulative_gain, plot_lift_curve\n",
    "\n",
    "\n",
    "from tensorflow import keras\n",
    "from keras.models import Sequential # sequential networks= all the layers are one after the others\n",
    "from keras.layers import Dense # we have flat layes \n",
    "from scikeras.wrappers import KerasClassifier\n",
    "\n",
    "from keras.callbacks import EarlyStopping, ModelCheckpoint\n",
    "from keras.regularizers import l2, l1\n",
    "from keras.layers import Dropout\n",
    "from keras.models import load_model"
   ]
  },
  {
   "cell_type": "code",
   "execution_count": 4,
   "metadata": {},
   "outputs": [],
   "source": [
    "#Read datasets\n",
    "df_train=pd.read_csv(\"../Dataset_prepared/Prepared_train.csv\")\n",
    "df_test=pd.read_csv(\"../Dataset_prepared/Prepared_test.csv\")\n",
    "\n",
    "#Drop useless features\n",
    "df_train.drop('actor',axis=1,inplace=True)\n",
    "df_train.drop('filename',axis=1,inplace=True)\n",
    "df_test.drop('actor',axis=1,inplace=True)\n",
    "df_test.drop('filename',axis=1,inplace=True)\n",
    "\n",
    "#LabelEncode categorical features\n",
    "le=preprocessing.LabelEncoder()\n",
    "c = df_train.select_dtypes(include=['object']).columns.tolist()\n",
    "for i in c:\n",
    "    df_train[i]=le.fit_transform(df_train[i])\n",
    "\n",
    "for i in c:\n",
    "    df_test[i]=le.fit_transform(df_test[i])\n",
    "\n",
    "#Normalize pure numeric features \n",
    "scaler = StandardScaler()\n",
    "numeric_features = [n for n in df_train.columns if n!=\"emotion\" and n!= \"vocal_channel\" and n!= \"emotional_intensity\" and n!= \"statement\" and n!= \"repetition\" and n!= \"sex\" and n!=\"filename\" and n!=\"actor\"]\n",
    "scaled_features = scaler.fit_transform(df_train[numeric_features])\n",
    "df_train[numeric_features] = scaled_features\n",
    "scaled_features_test = scaler.transform(df_test[numeric_features])\n",
    "df_test[numeric_features] = scaled_features_test\n",
    "\n",
    "#Set X_train,y_train = data to fit models. Set X_test,y_test = data to test models.\n",
    "col=[x for x in df_train.columns if x!=\"emotion\"]\n",
    "X_train=df_train[col].values\n",
    "y_train = np.array(df_train[\"emotion\"])\n",
    "X_test=df_test[col].values\n",
    "y_test = np.array(df_test[\"emotion\"])"
   ]
  },
  {
   "cell_type": "code",
   "execution_count": 25,
   "metadata": {},
   "outputs": [],
   "source": [
    "n_classes = 8\n",
    "def build_model1():\n",
    "    n_feature = X_train.shape[1] # numero colonne\n",
    "    model = Sequential()\n",
    "    model.add(Dense(512, input_dim=n_feature, activation='relu')) \n",
    "    model.add(Dense(64, activation='relu'))# second layer\n",
    "    model.add(Dense(n_classes, activation='softmax'))\n",
    "    # if we have multiclass u have to specify as output the number of classes\n",
    "    model.compile(loss='sparse_categorical_crossentropy', # compile=build the network. if binary classification use binary_crossentropy as loss fucntions\n",
    "                  optimizer=\"adam\", metrics=['accuracy']) # metric u want to observe -> typically accuracy,f1 score\n",
    "    return model\n",
    "\n",
    "n_classes = 8\n",
    "def build_model2():\n",
    "    n_feature = X_train.shape[1] # numero colonne\n",
    "    model = Sequential()\n",
    "    model.add(Dense(512, input_dim=n_feature, activation='tanh')) \n",
    "    model.add(Dense(64, activation='relu'))\n",
    "    model.add(Dense(64, activation='relu'))\n",
    "    model.add(Dense(64, activation='relu'))\n",
    "    model.add(Dense(64, activation='relu'))\n",
    "    model.add(Dense(n_classes, activation='softmax'))\n",
    "    # if we have multiclass u have to specify as output the number of classes\n",
    "    model.compile(loss='sparse_categorical_crossentropy', # compile=build the network. if binary classification use binary_crossentropy as loss fucntions\n",
    "                  optimizer=\"adam\", metrics=['accuracy']) # metric u want to observe -> typically accuracy,f1 score\n",
    "    return model\n",
    "\n",
    "n_classes = 8\n",
    "def build_model3():\n",
    "    n_feature = X_train.shape[1] # numero colonne\n",
    "    model = Sequential()\n",
    "    model.add(Dense(512, input_dim=n_feature, activation='tanh')) \n",
    "    model.add(Dense(32, activation='relu'))\n",
    "    model.add(Dense(32, activation='relu'))\n",
    "    model.add(Dense(32, activation='relu'))\n",
    "    model.add(Dense(32, activation='relu'))\n",
    "    model.add(Dense(32, activation='relu'))\n",
    "    model.add(Dense(32, activation='relu'))\n",
    "    model.add(Dense(32, activation='relu'))\n",
    "    model.add(Dense(32, activation='relu'))\n",
    "    model.add(Dense(32, activation='relu'))\n",
    "    model.add(Dense(32, activation='relu'))\n",
    "    model.add(Dense(n_classes, activation='softmax'))\n",
    "    # if we have multiclass u have to specify as output the number of classes\n",
    "    model.compile(loss='sparse_categorical_crossentropy', # compile=build the network. if binary classification use binary_crossentropy as loss fucntions\n",
    "                  optimizer=\"adam\", metrics=['accuracy']) # metric u want to observe -> typically accuracy,f1 score\n",
    "    return model\n",
    "\n",
    "n_classes = 8\n",
    "def build_model4():\n",
    "    n_feature = X_train.shape[1] # numero colonne\n",
    "    model = Sequential()\n",
    "    model.add(Dense(512, input_dim=n_feature, activation='relu')) \n",
    "    model.add(Dense(512, activation='relu'))# second layer\n",
    "    model.add(Dense(n_classes, activation='softmax'))\n",
    "    # if we have multiclass u have to specify as output the number of classes\n",
    "    model.compile(loss='sparse_categorical_crossentropy', # compile=build the network. if binary classification use binary_crossentropy as loss fucntions\n",
    "                  optimizer=\"adam\", metrics=['accuracy']) # metric u want to observe -> typically accuracy,f1 score\n",
    "    return model"
   ]
  },
  {
   "cell_type": "code",
   "execution_count": 114,
   "metadata": {},
   "outputs": [
    {
     "name": "stdout",
     "output_type": "stream",
     "text": [
      "Train Model1\n",
      "Epoch 1/50\n"
     ]
    },
    {
     "name": "stderr",
     "output_type": "stream",
     "text": [
      "d:\\Anaconda\\lib\\site-packages\\scikeras\\wrappers.py:301: UserWarning: ``build_fn`` will be renamed to ``model`` in a future release, at which point use of ``build_fn`` will raise an Error instead.\n",
      "  warnings.warn(\n"
     ]
    },
    {
     "name": "stdout",
     "output_type": "stream",
     "text": [
      "55/55 [==============================] - 1s 3ms/step - loss: 1.6106 - accuracy: 0.3842 - val_loss: 1.5505 - val_accuracy: 0.3989\n",
      "Epoch 2/50\n",
      "55/55 [==============================] - 0s 1ms/step - loss: 1.0377 - accuracy: 0.6219 - val_loss: 1.6422 - val_accuracy: 0.4372\n",
      "Epoch 3/50\n",
      "55/55 [==============================] - 0s 1ms/step - loss: 0.7562 - accuracy: 0.7325 - val_loss: 1.7185 - val_accuracy: 0.4536\n",
      "Epoch 4/50\n",
      "55/55 [==============================] - 0s 1ms/step - loss: 0.5863 - accuracy: 0.8067 - val_loss: 1.8429 - val_accuracy: 0.4699\n",
      "Epoch 5/50\n",
      "55/55 [==============================] - 0s 1ms/step - loss: 0.4313 - accuracy: 0.8748 - val_loss: 1.9196 - val_accuracy: 0.4426\n",
      "Epoch 6/50\n",
      "55/55 [==============================] - 0s 1ms/step - loss: 0.3493 - accuracy: 0.8900 - val_loss: 2.0527 - val_accuracy: 0.4372\n",
      "Epoch 7/50\n",
      "55/55 [==============================] - 0s 1ms/step - loss: 0.2661 - accuracy: 0.9331 - val_loss: 2.1329 - val_accuracy: 0.4262\n",
      "Epoch 8/50\n",
      "55/55 [==============================] - 0s 1ms/step - loss: 0.1829 - accuracy: 0.9653 - val_loss: 2.2533 - val_accuracy: 0.4317\n",
      "Epoch 9/50\n",
      "55/55 [==============================] - 0s 1ms/step - loss: 0.1600 - accuracy: 0.9605 - val_loss: 2.1084 - val_accuracy: 0.4754\n",
      "Epoch 10/50\n",
      "55/55 [==============================] - 0s 1ms/step - loss: 0.1112 - accuracy: 0.9781 - val_loss: 2.4953 - val_accuracy: 0.4536\n",
      "Epoch 11/50\n",
      "55/55 [==============================] - 0s 1ms/step - loss: 0.1166 - accuracy: 0.9751 - val_loss: 2.4310 - val_accuracy: 0.4372\n",
      "Epoch 12/50\n",
      "55/55 [==============================] - 0s 1ms/step - loss: 0.0640 - accuracy: 0.9909 - val_loss: 2.4933 - val_accuracy: 0.4208\n",
      "Epoch 13/50\n",
      "55/55 [==============================] - 0s 1ms/step - loss: 0.0468 - accuracy: 0.9988 - val_loss: 2.7236 - val_accuracy: 0.4153\n",
      "Epoch 14/50\n",
      "55/55 [==============================] - 0s 1ms/step - loss: 0.0318 - accuracy: 0.9988 - val_loss: 2.8595 - val_accuracy: 0.4372\n",
      "Epoch 15/50\n",
      "55/55 [==============================] - 0s 1ms/step - loss: 0.0230 - accuracy: 0.9994 - val_loss: 2.8071 - val_accuracy: 0.4317\n",
      "Epoch 16/50\n",
      "55/55 [==============================] - 0s 1ms/step - loss: 0.0186 - accuracy: 0.9994 - val_loss: 2.9365 - val_accuracy: 0.4372\n",
      "Epoch 17/50\n",
      "55/55 [==============================] - 0s 1ms/step - loss: 0.0143 - accuracy: 1.0000 - val_loss: 3.0254 - val_accuracy: 0.4098\n",
      "Epoch 18/50\n",
      "55/55 [==============================] - 0s 1ms/step - loss: 0.0117 - accuracy: 1.0000 - val_loss: 3.1802 - val_accuracy: 0.4372\n",
      "Epoch 19/50\n",
      "55/55 [==============================] - 0s 1ms/step - loss: 0.0172 - accuracy: 0.9982 - val_loss: 3.2062 - val_accuracy: 0.4262\n",
      "Epoch 20/50\n",
      "55/55 [==============================] - 0s 1ms/step - loss: 0.0118 - accuracy: 1.0000 - val_loss: 3.3473 - val_accuracy: 0.4153\n",
      "Epoch 21/50\n",
      "55/55 [==============================] - 0s 1ms/step - loss: 0.0083 - accuracy: 1.0000 - val_loss: 3.2621 - val_accuracy: 0.4372\n",
      "Epoch 22/50\n",
      "55/55 [==============================] - 0s 1ms/step - loss: 0.0069 - accuracy: 1.0000 - val_loss: 3.3861 - val_accuracy: 0.4426\n",
      "Epoch 23/50\n",
      "55/55 [==============================] - 0s 1ms/step - loss: 0.0058 - accuracy: 1.0000 - val_loss: 3.3989 - val_accuracy: 0.4153\n",
      "Epoch 24/50\n",
      "55/55 [==============================] - 0s 1ms/step - loss: 0.0051 - accuracy: 1.0000 - val_loss: 3.4701 - val_accuracy: 0.4262\n",
      "Epoch 25/50\n",
      "55/55 [==============================] - 0s 1ms/step - loss: 0.0046 - accuracy: 1.0000 - val_loss: 3.4720 - val_accuracy: 0.4426\n",
      "Epoch 26/50\n",
      "55/55 [==============================] - 0s 1ms/step - loss: 0.0042 - accuracy: 1.0000 - val_loss: 3.5089 - val_accuracy: 0.4262\n",
      "Epoch 27/50\n",
      "55/55 [==============================] - 0s 1ms/step - loss: 0.0039 - accuracy: 1.0000 - val_loss: 3.5468 - val_accuracy: 0.4317\n",
      "Epoch 28/50\n",
      "55/55 [==============================] - 0s 1ms/step - loss: 0.0035 - accuracy: 1.0000 - val_loss: 3.6111 - val_accuracy: 0.4262\n",
      "Epoch 29/50\n",
      "55/55 [==============================] - 0s 1ms/step - loss: 0.0032 - accuracy: 1.0000 - val_loss: 3.5872 - val_accuracy: 0.4372\n",
      "Epoch 30/50\n",
      "55/55 [==============================] - 0s 1ms/step - loss: 0.0029 - accuracy: 1.0000 - val_loss: 3.6185 - val_accuracy: 0.4262\n",
      "Epoch 31/50\n",
      "55/55 [==============================] - 0s 1ms/step - loss: 0.0028 - accuracy: 1.0000 - val_loss: 3.6687 - val_accuracy: 0.4262\n",
      "Epoch 32/50\n",
      "55/55 [==============================] - 0s 1ms/step - loss: 0.0025 - accuracy: 1.0000 - val_loss: 3.6715 - val_accuracy: 0.4317\n",
      "Epoch 33/50\n",
      "55/55 [==============================] - 0s 1ms/step - loss: 0.0024 - accuracy: 1.0000 - val_loss: 3.7470 - val_accuracy: 0.4372\n",
      "Epoch 34/50\n",
      "55/55 [==============================] - 0s 1ms/step - loss: 0.0022 - accuracy: 1.0000 - val_loss: 3.7791 - val_accuracy: 0.4208\n",
      "Epoch 35/50\n",
      "55/55 [==============================] - 0s 1ms/step - loss: 0.0020 - accuracy: 1.0000 - val_loss: 3.8255 - val_accuracy: 0.4372\n",
      "Epoch 36/50\n",
      "55/55 [==============================] - 0s 1ms/step - loss: 0.0019 - accuracy: 1.0000 - val_loss: 3.8461 - val_accuracy: 0.4153\n",
      "Epoch 37/50\n",
      "55/55 [==============================] - 0s 1ms/step - loss: 0.0018 - accuracy: 1.0000 - val_loss: 3.8614 - val_accuracy: 0.4372\n",
      "Epoch 38/50\n",
      "55/55 [==============================] - 0s 1ms/step - loss: 0.0016 - accuracy: 1.0000 - val_loss: 3.8933 - val_accuracy: 0.4317\n",
      "Epoch 39/50\n",
      "55/55 [==============================] - 0s 1ms/step - loss: 0.0016 - accuracy: 1.0000 - val_loss: 3.9043 - val_accuracy: 0.4262\n",
      "Epoch 40/50\n",
      "55/55 [==============================] - 0s 1ms/step - loss: 0.0015 - accuracy: 1.0000 - val_loss: 3.9249 - val_accuracy: 0.4208\n",
      "Epoch 41/50\n",
      "55/55 [==============================] - 0s 1ms/step - loss: 0.0014 - accuracy: 1.0000 - val_loss: 3.9469 - val_accuracy: 0.4372\n",
      "Epoch 42/50\n",
      "55/55 [==============================] - 0s 1ms/step - loss: 0.0013 - accuracy: 1.0000 - val_loss: 3.9963 - val_accuracy: 0.4317\n",
      "Epoch 43/50\n",
      "55/55 [==============================] - 0s 1ms/step - loss: 0.0012 - accuracy: 1.0000 - val_loss: 4.0075 - val_accuracy: 0.4262\n",
      "Epoch 44/50\n",
      "55/55 [==============================] - 0s 1ms/step - loss: 0.0012 - accuracy: 1.0000 - val_loss: 4.0474 - val_accuracy: 0.4262\n",
      "Epoch 45/50\n",
      "55/55 [==============================] - 0s 1ms/step - loss: 0.0011 - accuracy: 1.0000 - val_loss: 4.0479 - val_accuracy: 0.4262\n",
      "Epoch 46/50\n",
      "55/55 [==============================] - 0s 1ms/step - loss: 0.0010 - accuracy: 1.0000 - val_loss: 4.0942 - val_accuracy: 0.4262\n",
      "Epoch 47/50\n",
      "55/55 [==============================] - 0s 1ms/step - loss: 9.7378e-04 - accuracy: 1.0000 - val_loss: 4.0932 - val_accuracy: 0.4317\n",
      "Epoch 48/50\n",
      "55/55 [==============================] - 0s 1ms/step - loss: 9.2123e-04 - accuracy: 1.0000 - val_loss: 4.1235 - val_accuracy: 0.4372\n",
      "Epoch 49/50\n",
      "55/55 [==============================] - 0s 1ms/step - loss: 8.6870e-04 - accuracy: 1.0000 - val_loss: 4.1602 - val_accuracy: 0.4372\n",
      "Epoch 50/50\n",
      "55/55 [==============================] - 0s 1ms/step - loss: 8.3064e-04 - accuracy: 1.0000 - val_loss: 4.1911 - val_accuracy: 0.4317\n",
      "Train Model2\n",
      "Epoch 1/50\n"
     ]
    },
    {
     "name": "stderr",
     "output_type": "stream",
     "text": [
      "d:\\Anaconda\\lib\\site-packages\\scikeras\\wrappers.py:301: UserWarning: ``build_fn`` will be renamed to ``model`` in a future release, at which point use of ``build_fn`` will raise an Error instead.\n",
      "  warnings.warn(\n"
     ]
    },
    {
     "name": "stdout",
     "output_type": "stream",
     "text": [
      "55/55 [==============================] - 1s 3ms/step - loss: 1.6816 - accuracy: 0.3422 - val_loss: 1.6521 - val_accuracy: 0.3497\n",
      "Epoch 2/50\n",
      "55/55 [==============================] - 0s 1ms/step - loss: 1.2543 - accuracy: 0.5277 - val_loss: 1.5999 - val_accuracy: 0.4590\n",
      "Epoch 3/50\n",
      "55/55 [==============================] - 0s 1ms/step - loss: 1.0021 - accuracy: 0.6152 - val_loss: 1.6302 - val_accuracy: 0.4262\n",
      "Epoch 4/50\n",
      "55/55 [==============================] - 0s 1ms/step - loss: 0.7840 - accuracy: 0.7173 - val_loss: 1.8280 - val_accuracy: 0.3825\n",
      "Epoch 5/50\n",
      "55/55 [==============================] - 0s 1ms/step - loss: 0.6414 - accuracy: 0.7605 - val_loss: 1.8800 - val_accuracy: 0.4098\n",
      "Epoch 6/50\n",
      "55/55 [==============================] - 0s 1ms/step - loss: 0.5231 - accuracy: 0.8073 - val_loss: 2.0314 - val_accuracy: 0.4317\n",
      "Epoch 7/50\n",
      "55/55 [==============================] - 0s 1ms/step - loss: 0.4015 - accuracy: 0.8535 - val_loss: 2.1004 - val_accuracy: 0.4536\n",
      "Epoch 8/50\n",
      "55/55 [==============================] - 0s 1ms/step - loss: 0.3349 - accuracy: 0.8857 - val_loss: 2.3658 - val_accuracy: 0.4699\n",
      "Epoch 9/50\n",
      "55/55 [==============================] - 0s 1ms/step - loss: 0.2221 - accuracy: 0.9271 - val_loss: 2.7010 - val_accuracy: 0.4208\n",
      "Epoch 10/50\n",
      "55/55 [==============================] - 0s 1ms/step - loss: 0.2319 - accuracy: 0.9234 - val_loss: 2.7044 - val_accuracy: 0.4918\n",
      "Epoch 11/50\n",
      "55/55 [==============================] - 0s 1ms/step - loss: 0.1641 - accuracy: 0.9453 - val_loss: 2.7314 - val_accuracy: 0.4590\n",
      "Epoch 12/50\n",
      "55/55 [==============================] - 0s 1ms/step - loss: 0.1499 - accuracy: 0.9514 - val_loss: 2.4053 - val_accuracy: 0.4863\n",
      "Epoch 13/50\n",
      "55/55 [==============================] - 0s 1ms/step - loss: 0.1066 - accuracy: 0.9678 - val_loss: 3.1744 - val_accuracy: 0.4536\n",
      "Epoch 14/50\n",
      "55/55 [==============================] - 0s 1ms/step - loss: 0.0690 - accuracy: 0.9799 - val_loss: 3.0074 - val_accuracy: 0.4426\n",
      "Epoch 15/50\n",
      "55/55 [==============================] - 0s 1ms/step - loss: 0.0530 - accuracy: 0.9854 - val_loss: 3.0242 - val_accuracy: 0.4699\n",
      "Epoch 16/50\n",
      "55/55 [==============================] - 0s 1ms/step - loss: 0.0355 - accuracy: 0.9915 - val_loss: 3.5608 - val_accuracy: 0.4536\n",
      "Epoch 17/50\n",
      "55/55 [==============================] - 0s 1ms/step - loss: 0.0215 - accuracy: 0.9939 - val_loss: 3.5233 - val_accuracy: 0.4973\n",
      "Epoch 18/50\n",
      "55/55 [==============================] - 0s 1ms/step - loss: 0.0168 - accuracy: 0.9964 - val_loss: 3.4173 - val_accuracy: 0.4590\n",
      "Epoch 19/50\n",
      "55/55 [==============================] - 0s 1ms/step - loss: 0.0416 - accuracy: 0.9866 - val_loss: 3.2812 - val_accuracy: 0.4754\n",
      "Epoch 20/50\n",
      "55/55 [==============================] - 0s 1ms/step - loss: 0.0298 - accuracy: 0.9897 - val_loss: 3.5135 - val_accuracy: 0.4809\n",
      "Epoch 21/50\n",
      "55/55 [==============================] - 0s 1ms/step - loss: 0.0504 - accuracy: 0.9854 - val_loss: 3.5966 - val_accuracy: 0.4372\n",
      "Epoch 22/50\n",
      "55/55 [==============================] - 0s 1ms/step - loss: 0.2441 - accuracy: 0.9386 - val_loss: 3.2656 - val_accuracy: 0.4536\n",
      "Epoch 23/50\n",
      "55/55 [==============================] - 0s 1ms/step - loss: 0.2772 - accuracy: 0.9033 - val_loss: 2.9015 - val_accuracy: 0.4645\n",
      "Epoch 24/50\n",
      "55/55 [==============================] - 0s 1ms/step - loss: 0.1306 - accuracy: 0.9574 - val_loss: 3.1860 - val_accuracy: 0.4590\n",
      "Epoch 25/50\n",
      "55/55 [==============================] - 0s 1ms/step - loss: 0.0503 - accuracy: 0.9866 - val_loss: 3.1943 - val_accuracy: 0.5355\n",
      "Epoch 26/50\n",
      "55/55 [==============================] - 0s 1ms/step - loss: 0.0469 - accuracy: 0.9824 - val_loss: 3.3861 - val_accuracy: 0.4918\n",
      "Epoch 27/50\n",
      "55/55 [==============================] - 0s 1ms/step - loss: 0.0454 - accuracy: 0.9884 - val_loss: 3.6392 - val_accuracy: 0.4809\n",
      "Epoch 28/50\n",
      "55/55 [==============================] - 0s 1ms/step - loss: 0.0163 - accuracy: 0.9951 - val_loss: 3.4834 - val_accuracy: 0.4809\n",
      "Epoch 29/50\n",
      "55/55 [==============================] - 0s 1ms/step - loss: 0.0041 - accuracy: 1.0000 - val_loss: 3.6310 - val_accuracy: 0.4973\n",
      "Epoch 30/50\n",
      "55/55 [==============================] - 0s 1ms/step - loss: 0.0040 - accuracy: 0.9988 - val_loss: 3.4629 - val_accuracy: 0.4918\n",
      "Epoch 31/50\n",
      "55/55 [==============================] - 0s 1ms/step - loss: 0.0073 - accuracy: 0.9970 - val_loss: 3.3572 - val_accuracy: 0.4918\n",
      "Epoch 32/50\n",
      "55/55 [==============================] - 0s 1ms/step - loss: 0.0143 - accuracy: 0.9951 - val_loss: 3.6741 - val_accuracy: 0.5027\n",
      "Epoch 33/50\n",
      "55/55 [==============================] - 0s 1ms/step - loss: 0.0120 - accuracy: 0.9976 - val_loss: 3.6898 - val_accuracy: 0.4918\n",
      "Epoch 34/50\n",
      "55/55 [==============================] - 0s 1ms/step - loss: 0.0033 - accuracy: 0.9994 - val_loss: 3.5907 - val_accuracy: 0.4863\n",
      "Epoch 35/50\n",
      "55/55 [==============================] - 0s 1ms/step - loss: 0.0011 - accuracy: 1.0000 - val_loss: 3.6181 - val_accuracy: 0.4918\n",
      "Epoch 36/50\n",
      "55/55 [==============================] - 0s 1ms/step - loss: 7.5636e-04 - accuracy: 1.0000 - val_loss: 3.6425 - val_accuracy: 0.4918\n",
      "Epoch 37/50\n",
      "55/55 [==============================] - 0s 1ms/step - loss: 6.5283e-04 - accuracy: 1.0000 - val_loss: 3.6781 - val_accuracy: 0.4918\n",
      "Epoch 38/50\n",
      "55/55 [==============================] - 0s 1ms/step - loss: 5.7960e-04 - accuracy: 1.0000 - val_loss: 3.7151 - val_accuracy: 0.4918\n",
      "Epoch 39/50\n",
      "55/55 [==============================] - 0s 1ms/step - loss: 5.2251e-04 - accuracy: 1.0000 - val_loss: 3.7435 - val_accuracy: 0.4918\n",
      "Epoch 40/50\n",
      "55/55 [==============================] - 0s 1ms/step - loss: 4.7608e-04 - accuracy: 1.0000 - val_loss: 3.7730 - val_accuracy: 0.4918\n",
      "Epoch 41/50\n",
      "55/55 [==============================] - 0s 1ms/step - loss: 4.3457e-04 - accuracy: 1.0000 - val_loss: 3.7978 - val_accuracy: 0.4918\n",
      "Epoch 42/50\n",
      "55/55 [==============================] - 0s 1ms/step - loss: 4.0169e-04 - accuracy: 1.0000 - val_loss: 3.8197 - val_accuracy: 0.4973\n",
      "Epoch 43/50\n",
      "55/55 [==============================] - 0s 1ms/step - loss: 3.7217e-04 - accuracy: 1.0000 - val_loss: 3.8416 - val_accuracy: 0.4973\n",
      "Epoch 44/50\n",
      "55/55 [==============================] - 0s 1ms/step - loss: 3.4537e-04 - accuracy: 1.0000 - val_loss: 3.8684 - val_accuracy: 0.4973\n",
      "Epoch 45/50\n",
      "55/55 [==============================] - 0s 1ms/step - loss: 3.2226e-04 - accuracy: 1.0000 - val_loss: 3.8886 - val_accuracy: 0.4973\n",
      "Epoch 46/50\n",
      "55/55 [==============================] - 0s 1ms/step - loss: 3.0041e-04 - accuracy: 1.0000 - val_loss: 3.9085 - val_accuracy: 0.4973\n",
      "Epoch 47/50\n",
      "55/55 [==============================] - 0s 1ms/step - loss: 2.8153e-04 - accuracy: 1.0000 - val_loss: 3.9340 - val_accuracy: 0.4973\n",
      "Epoch 48/50\n",
      "55/55 [==============================] - 0s 1ms/step - loss: 2.6566e-04 - accuracy: 1.0000 - val_loss: 3.9521 - val_accuracy: 0.4973\n",
      "Epoch 49/50\n",
      "55/55 [==============================] - 0s 1ms/step - loss: 2.4970e-04 - accuracy: 1.0000 - val_loss: 3.9713 - val_accuracy: 0.4973\n",
      "Epoch 50/50\n",
      "55/55 [==============================] - 0s 1ms/step - loss: 2.3572e-04 - accuracy: 1.0000 - val_loss: 3.9894 - val_accuracy: 0.4973\n",
      "Train Model3\n",
      "Epoch 1/50\n"
     ]
    },
    {
     "name": "stderr",
     "output_type": "stream",
     "text": [
      "d:\\Anaconda\\lib\\site-packages\\scikeras\\wrappers.py:301: UserWarning: ``build_fn`` will be renamed to ``model`` in a future release, at which point use of ``build_fn`` will raise an Error instead.\n",
      "  warnings.warn(\n"
     ]
    },
    {
     "name": "stdout",
     "output_type": "stream",
     "text": [
      "55/55 [==============================] - 1s 4ms/step - loss: 2.0143 - accuracy: 0.1550 - val_loss: 1.9854 - val_accuracy: 0.1639\n",
      "Epoch 2/50\n",
      "55/55 [==============================] - 0s 1ms/step - loss: 1.7365 - accuracy: 0.3252 - val_loss: 1.8240 - val_accuracy: 0.3169\n",
      "Epoch 3/50\n",
      "55/55 [==============================] - 0s 1ms/step - loss: 1.4405 - accuracy: 0.4286 - val_loss: 1.7357 - val_accuracy: 0.3169\n",
      "Epoch 4/50\n",
      "55/55 [==============================] - 0s 1ms/step - loss: 1.2505 - accuracy: 0.5125 - val_loss: 1.6883 - val_accuracy: 0.3770\n",
      "Epoch 5/50\n",
      "55/55 [==============================] - 0s 2ms/step - loss: 1.1784 - accuracy: 0.5343 - val_loss: 1.8797 - val_accuracy: 0.3552\n",
      "Epoch 6/50\n",
      "55/55 [==============================] - 0s 1ms/step - loss: 1.0236 - accuracy: 0.6036 - val_loss: 2.0277 - val_accuracy: 0.3880\n",
      "Epoch 7/50\n",
      "55/55 [==============================] - 0s 1ms/step - loss: 0.9060 - accuracy: 0.6498 - val_loss: 1.9688 - val_accuracy: 0.4098\n",
      "Epoch 8/50\n",
      "55/55 [==============================] - 0s 1ms/step - loss: 0.8440 - accuracy: 0.6906 - val_loss: 2.0104 - val_accuracy: 0.4208\n",
      "Epoch 9/50\n",
      "55/55 [==============================] - 0s 1ms/step - loss: 0.7452 - accuracy: 0.7277 - val_loss: 2.5362 - val_accuracy: 0.4426\n",
      "Epoch 10/50\n",
      "55/55 [==============================] - 0s 1ms/step - loss: 0.5968 - accuracy: 0.7854 - val_loss: 2.1956 - val_accuracy: 0.4317\n",
      "Epoch 11/50\n",
      "55/55 [==============================] - 0s 1ms/step - loss: 0.5540 - accuracy: 0.8055 - val_loss: 2.6810 - val_accuracy: 0.3934\n",
      "Epoch 12/50\n",
      "55/55 [==============================] - 0s 1ms/step - loss: 0.4959 - accuracy: 0.8164 - val_loss: 2.7532 - val_accuracy: 0.4426\n",
      "Epoch 13/50\n",
      "55/55 [==============================] - 0s 1ms/step - loss: 0.4776 - accuracy: 0.8267 - val_loss: 2.6816 - val_accuracy: 0.4317\n",
      "Epoch 14/50\n",
      "55/55 [==============================] - 0s 1ms/step - loss: 0.3967 - accuracy: 0.8632 - val_loss: 2.5017 - val_accuracy: 0.4918\n",
      "Epoch 15/50\n",
      "55/55 [==============================] - 0s 1ms/step - loss: 0.3177 - accuracy: 0.8888 - val_loss: 2.7550 - val_accuracy: 0.4481\n",
      "Epoch 16/50\n",
      "55/55 [==============================] - 0s 1ms/step - loss: 0.3372 - accuracy: 0.8833 - val_loss: 3.0110 - val_accuracy: 0.4699\n",
      "Epoch 17/50\n",
      "55/55 [==============================] - 0s 1ms/step - loss: 0.2559 - accuracy: 0.9058 - val_loss: 2.9676 - val_accuracy: 0.4536\n",
      "Epoch 18/50\n",
      "55/55 [==============================] - 0s 1ms/step - loss: 0.2405 - accuracy: 0.9119 - val_loss: 3.5700 - val_accuracy: 0.4481\n",
      "Epoch 19/50\n",
      "55/55 [==============================] - 0s 1ms/step - loss: 0.2439 - accuracy: 0.9131 - val_loss: 3.1291 - val_accuracy: 0.5082\n",
      "Epoch 20/50\n",
      "55/55 [==============================] - 0s 1ms/step - loss: 0.1797 - accuracy: 0.9416 - val_loss: 3.9218 - val_accuracy: 0.4645\n",
      "Epoch 21/50\n",
      "55/55 [==============================] - 0s 1ms/step - loss: 0.2566 - accuracy: 0.9161 - val_loss: 3.0629 - val_accuracy: 0.4481\n",
      "Epoch 22/50\n",
      "55/55 [==============================] - 0s 1ms/step - loss: 0.3058 - accuracy: 0.8918 - val_loss: 3.4802 - val_accuracy: 0.4481\n",
      "Epoch 23/50\n",
      "55/55 [==============================] - 0s 1ms/step - loss: 0.1906 - accuracy: 0.9392 - val_loss: 3.0593 - val_accuracy: 0.4372\n",
      "Epoch 24/50\n",
      "55/55 [==============================] - 0s 1ms/step - loss: 0.1212 - accuracy: 0.9605 - val_loss: 2.9992 - val_accuracy: 0.5082\n",
      "Epoch 25/50\n",
      "55/55 [==============================] - 0s 1ms/step - loss: 0.0835 - accuracy: 0.9720 - val_loss: 3.4848 - val_accuracy: 0.4754\n",
      "Epoch 26/50\n",
      "55/55 [==============================] - 0s 1ms/step - loss: 0.1949 - accuracy: 0.9368 - val_loss: 3.1418 - val_accuracy: 0.4426\n",
      "Epoch 27/50\n",
      "55/55 [==============================] - 0s 1ms/step - loss: 0.0871 - accuracy: 0.9751 - val_loss: 3.4669 - val_accuracy: 0.4262\n",
      "Epoch 28/50\n",
      "55/55 [==============================] - 0s 1ms/step - loss: 0.0650 - accuracy: 0.9824 - val_loss: 3.9590 - val_accuracy: 0.4645\n",
      "Epoch 29/50\n",
      "55/55 [==============================] - 0s 1ms/step - loss: 0.0993 - accuracy: 0.9696 - val_loss: 3.8682 - val_accuracy: 0.4809\n",
      "Epoch 30/50\n",
      "55/55 [==============================] - 0s 1ms/step - loss: 0.0876 - accuracy: 0.9714 - val_loss: 3.7021 - val_accuracy: 0.4809\n",
      "Epoch 31/50\n",
      "55/55 [==============================] - 0s 1ms/step - loss: 0.1216 - accuracy: 0.9593 - val_loss: 4.6899 - val_accuracy: 0.4208\n",
      "Epoch 32/50\n",
      "55/55 [==============================] - 0s 1ms/step - loss: 0.1697 - accuracy: 0.9483 - val_loss: 4.0383 - val_accuracy: 0.4044\n",
      "Epoch 33/50\n",
      "55/55 [==============================] - 0s 1ms/step - loss: 0.1428 - accuracy: 0.9532 - val_loss: 3.6852 - val_accuracy: 0.4754\n",
      "Epoch 34/50\n",
      "55/55 [==============================] - 0s 1ms/step - loss: 0.0986 - accuracy: 0.9678 - val_loss: 3.6072 - val_accuracy: 0.5082\n",
      "Epoch 35/50\n",
      "55/55 [==============================] - 0s 1ms/step - loss: 0.0484 - accuracy: 0.9854 - val_loss: 3.9323 - val_accuracy: 0.4590\n",
      "Epoch 36/50\n",
      "55/55 [==============================] - 0s 1ms/step - loss: 0.0577 - accuracy: 0.9818 - val_loss: 4.2243 - val_accuracy: 0.4754\n",
      "Epoch 37/50\n",
      "55/55 [==============================] - 0s 1ms/step - loss: 0.0487 - accuracy: 0.9848 - val_loss: 4.4213 - val_accuracy: 0.4645\n",
      "Epoch 38/50\n",
      "55/55 [==============================] - 0s 1ms/step - loss: 0.0567 - accuracy: 0.9824 - val_loss: 4.6880 - val_accuracy: 0.4754\n",
      "Epoch 39/50\n",
      "55/55 [==============================] - 0s 1ms/step - loss: 0.0520 - accuracy: 0.9842 - val_loss: 4.4904 - val_accuracy: 0.4754\n",
      "Epoch 40/50\n",
      "55/55 [==============================] - 0s 1ms/step - loss: 0.0612 - accuracy: 0.9805 - val_loss: 3.9235 - val_accuracy: 0.5246\n",
      "Epoch 41/50\n",
      "55/55 [==============================] - 0s 1ms/step - loss: 0.0856 - accuracy: 0.9726 - val_loss: 4.0382 - val_accuracy: 0.4754\n",
      "Epoch 42/50\n",
      "55/55 [==============================] - 0s 1ms/step - loss: 0.1663 - accuracy: 0.9526 - val_loss: 2.7675 - val_accuracy: 0.4809\n",
      "Epoch 43/50\n",
      "55/55 [==============================] - 0s 1ms/step - loss: 0.1000 - accuracy: 0.9660 - val_loss: 3.2282 - val_accuracy: 0.5410\n",
      "Epoch 44/50\n",
      "55/55 [==============================] - 0s 1ms/step - loss: 0.0461 - accuracy: 0.9854 - val_loss: 3.6276 - val_accuracy: 0.4590\n",
      "Epoch 45/50\n",
      "55/55 [==============================] - 0s 1ms/step - loss: 0.0367 - accuracy: 0.9903 - val_loss: 3.6453 - val_accuracy: 0.5082\n",
      "Epoch 46/50\n",
      "55/55 [==============================] - 0s 1ms/step - loss: 0.0259 - accuracy: 0.9921 - val_loss: 3.9856 - val_accuracy: 0.4918\n",
      "Epoch 47/50\n",
      "55/55 [==============================] - 0s 1ms/step - loss: 0.0769 - accuracy: 0.9818 - val_loss: 3.8594 - val_accuracy: 0.4754\n",
      "Epoch 48/50\n",
      "55/55 [==============================] - 0s 1ms/step - loss: 0.0656 - accuracy: 0.9799 - val_loss: 3.7657 - val_accuracy: 0.5355\n",
      "Epoch 49/50\n",
      "55/55 [==============================] - 0s 1ms/step - loss: 0.0378 - accuracy: 0.9909 - val_loss: 4.2669 - val_accuracy: 0.5082\n",
      "Epoch 50/50\n",
      "55/55 [==============================] - 0s 1ms/step - loss: 0.1300 - accuracy: 0.9690 - val_loss: 3.2663 - val_accuracy: 0.5191\n",
      "Train Model4\n",
      "Epoch 1/50\n"
     ]
    },
    {
     "name": "stderr",
     "output_type": "stream",
     "text": [
      "d:\\Anaconda\\lib\\site-packages\\scikeras\\wrappers.py:301: UserWarning: ``build_fn`` will be renamed to ``model`` in a future release, at which point use of ``build_fn`` will raise an Error instead.\n",
      "  warnings.warn(\n"
     ]
    },
    {
     "name": "stdout",
     "output_type": "stream",
     "text": [
      "55/55 [==============================] - 1s 4ms/step - loss: 1.5824 - accuracy: 0.3982 - val_loss: 1.5749 - val_accuracy: 0.4153\n",
      "Epoch 2/50\n",
      "55/55 [==============================] - 0s 3ms/step - loss: 0.9351 - accuracy: 0.6547 - val_loss: 1.8809 - val_accuracy: 0.3770\n",
      "Epoch 3/50\n",
      "55/55 [==============================] - 0s 2ms/step - loss: 0.6823 - accuracy: 0.7562 - val_loss: 1.8431 - val_accuracy: 0.4372\n",
      "Epoch 4/50\n",
      "55/55 [==============================] - 0s 3ms/step - loss: 0.4886 - accuracy: 0.8261 - val_loss: 2.1196 - val_accuracy: 0.4317\n",
      "Epoch 5/50\n",
      "55/55 [==============================] - 0s 3ms/step - loss: 0.3597 - accuracy: 0.8809 - val_loss: 2.3232 - val_accuracy: 0.4153\n",
      "Epoch 6/50\n",
      "55/55 [==============================] - 0s 3ms/step - loss: 0.2581 - accuracy: 0.9240 - val_loss: 2.4170 - val_accuracy: 0.4044\n",
      "Epoch 7/50\n",
      "55/55 [==============================] - 0s 2ms/step - loss: 0.1996 - accuracy: 0.9422 - val_loss: 2.6319 - val_accuracy: 0.4208\n",
      "Epoch 8/50\n",
      "55/55 [==============================] - 0s 2ms/step - loss: 0.1213 - accuracy: 0.9696 - val_loss: 2.6430 - val_accuracy: 0.4590\n",
      "Epoch 9/50\n",
      "55/55 [==============================] - 0s 2ms/step - loss: 0.0874 - accuracy: 0.9793 - val_loss: 2.9428 - val_accuracy: 0.4317\n",
      "Epoch 10/50\n",
      "55/55 [==============================] - 0s 3ms/step - loss: 0.0753 - accuracy: 0.9799 - val_loss: 2.7641 - val_accuracy: 0.4372\n",
      "Epoch 11/50\n",
      "55/55 [==============================] - 0s 3ms/step - loss: 0.0676 - accuracy: 0.9818 - val_loss: 2.9684 - val_accuracy: 0.4481\n",
      "Epoch 12/50\n",
      "55/55 [==============================] - 0s 3ms/step - loss: 0.0301 - accuracy: 0.9976 - val_loss: 3.0640 - val_accuracy: 0.4481\n",
      "Epoch 13/50\n",
      "55/55 [==============================] - 0s 2ms/step - loss: 0.0146 - accuracy: 0.9994 - val_loss: 3.3025 - val_accuracy: 0.4536\n",
      "Epoch 14/50\n",
      "55/55 [==============================] - 0s 3ms/step - loss: 0.0078 - accuracy: 1.0000 - val_loss: 3.3638 - val_accuracy: 0.4153\n",
      "Epoch 15/50\n",
      "55/55 [==============================] - 0s 3ms/step - loss: 0.0050 - accuracy: 1.0000 - val_loss: 3.5303 - val_accuracy: 0.4317\n",
      "Epoch 16/50\n",
      "55/55 [==============================] - 0s 3ms/step - loss: 0.0038 - accuracy: 1.0000 - val_loss: 3.5466 - val_accuracy: 0.4153\n",
      "Epoch 17/50\n",
      "55/55 [==============================] - 0s 3ms/step - loss: 0.0032 - accuracy: 1.0000 - val_loss: 3.6083 - val_accuracy: 0.4317\n",
      "Epoch 18/50\n",
      "55/55 [==============================] - 0s 2ms/step - loss: 0.0028 - accuracy: 1.0000 - val_loss: 3.6770 - val_accuracy: 0.4262\n",
      "Epoch 19/50\n",
      "55/55 [==============================] - 0s 3ms/step - loss: 0.0024 - accuracy: 1.0000 - val_loss: 3.7185 - val_accuracy: 0.4317\n",
      "Epoch 20/50\n",
      "55/55 [==============================] - 0s 3ms/step - loss: 0.0022 - accuracy: 1.0000 - val_loss: 3.7897 - val_accuracy: 0.4317\n",
      "Epoch 21/50\n",
      "55/55 [==============================] - 0s 3ms/step - loss: 0.0020 - accuracy: 1.0000 - val_loss: 3.8100 - val_accuracy: 0.4208\n",
      "Epoch 22/50\n",
      "55/55 [==============================] - 0s 3ms/step - loss: 0.0018 - accuracy: 1.0000 - val_loss: 3.8305 - val_accuracy: 0.4208\n",
      "Epoch 23/50\n",
      "55/55 [==============================] - 0s 3ms/step - loss: 0.0016 - accuracy: 1.0000 - val_loss: 3.8747 - val_accuracy: 0.4262\n",
      "Epoch 24/50\n",
      "55/55 [==============================] - 0s 3ms/step - loss: 0.0015 - accuracy: 1.0000 - val_loss: 3.9265 - val_accuracy: 0.4262\n",
      "Epoch 25/50\n",
      "55/55 [==============================] - 0s 3ms/step - loss: 0.0014 - accuracy: 1.0000 - val_loss: 3.9777 - val_accuracy: 0.4208\n",
      "Epoch 26/50\n",
      "55/55 [==============================] - 0s 3ms/step - loss: 0.0012 - accuracy: 1.0000 - val_loss: 4.0008 - val_accuracy: 0.4262\n",
      "Epoch 27/50\n",
      "55/55 [==============================] - 0s 2ms/step - loss: 0.0012 - accuracy: 1.0000 - val_loss: 4.0428 - val_accuracy: 0.4262\n",
      "Epoch 28/50\n",
      "55/55 [==============================] - 0s 2ms/step - loss: 0.0011 - accuracy: 1.0000 - val_loss: 4.0669 - val_accuracy: 0.4208\n",
      "Epoch 29/50\n",
      "55/55 [==============================] - 0s 3ms/step - loss: 9.8747e-04 - accuracy: 1.0000 - val_loss: 4.0925 - val_accuracy: 0.4317\n",
      "Epoch 30/50\n",
      "55/55 [==============================] - 0s 2ms/step - loss: 9.2376e-04 - accuracy: 1.0000 - val_loss: 4.1477 - val_accuracy: 0.4317\n",
      "Epoch 31/50\n",
      "55/55 [==============================] - 0s 3ms/step - loss: 8.5573e-04 - accuracy: 1.0000 - val_loss: 4.1438 - val_accuracy: 0.4262\n",
      "Epoch 32/50\n",
      "55/55 [==============================] - 0s 3ms/step - loss: 8.0118e-04 - accuracy: 1.0000 - val_loss: 4.2064 - val_accuracy: 0.4208\n",
      "Epoch 33/50\n",
      "55/55 [==============================] - 0s 2ms/step - loss: 7.4875e-04 - accuracy: 1.0000 - val_loss: 4.2040 - val_accuracy: 0.4262\n",
      "Epoch 34/50\n",
      "55/55 [==============================] - 0s 2ms/step - loss: 7.0117e-04 - accuracy: 1.0000 - val_loss: 4.2401 - val_accuracy: 0.4317\n",
      "Epoch 35/50\n",
      "55/55 [==============================] - 0s 3ms/step - loss: 6.5587e-04 - accuracy: 1.0000 - val_loss: 4.2698 - val_accuracy: 0.4317\n",
      "Epoch 36/50\n",
      "55/55 [==============================] - 0s 3ms/step - loss: 6.1189e-04 - accuracy: 1.0000 - val_loss: 4.2966 - val_accuracy: 0.4317\n",
      "Epoch 37/50\n",
      "55/55 [==============================] - 0s 3ms/step - loss: 5.7462e-04 - accuracy: 1.0000 - val_loss: 4.3161 - val_accuracy: 0.4317\n",
      "Epoch 38/50\n",
      "55/55 [==============================] - 0s 3ms/step - loss: 5.4171e-04 - accuracy: 1.0000 - val_loss: 4.3512 - val_accuracy: 0.4262\n",
      "Epoch 39/50\n",
      "55/55 [==============================] - 0s 3ms/step - loss: 5.0831e-04 - accuracy: 1.0000 - val_loss: 4.3672 - val_accuracy: 0.4317\n",
      "Epoch 40/50\n",
      "55/55 [==============================] - 0s 3ms/step - loss: 4.7937e-04 - accuracy: 1.0000 - val_loss: 4.3876 - val_accuracy: 0.4317\n",
      "Epoch 41/50\n",
      "55/55 [==============================] - 0s 2ms/step - loss: 4.5159e-04 - accuracy: 1.0000 - val_loss: 4.4188 - val_accuracy: 0.4317\n",
      "Epoch 42/50\n",
      "55/55 [==============================] - 0s 2ms/step - loss: 4.2704e-04 - accuracy: 1.0000 - val_loss: 4.4458 - val_accuracy: 0.4372\n",
      "Epoch 43/50\n",
      "55/55 [==============================] - 0s 2ms/step - loss: 4.0110e-04 - accuracy: 1.0000 - val_loss: 4.4850 - val_accuracy: 0.4317\n",
      "Epoch 44/50\n",
      "55/55 [==============================] - 0s 2ms/step - loss: 3.8505e-04 - accuracy: 1.0000 - val_loss: 4.5132 - val_accuracy: 0.4372\n",
      "Epoch 45/50\n",
      "55/55 [==============================] - 0s 2ms/step - loss: 3.6031e-04 - accuracy: 1.0000 - val_loss: 4.5252 - val_accuracy: 0.4372\n",
      "Epoch 46/50\n",
      "55/55 [==============================] - 0s 3ms/step - loss: 3.4031e-04 - accuracy: 1.0000 - val_loss: 4.5632 - val_accuracy: 0.4317\n",
      "Epoch 47/50\n",
      "55/55 [==============================] - 0s 3ms/step - loss: 3.2605e-04 - accuracy: 1.0000 - val_loss: 4.5588 - val_accuracy: 0.4372\n",
      "Epoch 48/50\n",
      "55/55 [==============================] - 0s 3ms/step - loss: 3.0774e-04 - accuracy: 1.0000 - val_loss: 4.5938 - val_accuracy: 0.4317\n",
      "Epoch 49/50\n",
      "55/55 [==============================] - 0s 2ms/step - loss: 2.9012e-04 - accuracy: 1.0000 - val_loss: 4.6282 - val_accuracy: 0.4372\n",
      "Epoch 50/50\n",
      "55/55 [==============================] - 0s 3ms/step - loss: 2.7485e-04 - accuracy: 1.0000 - val_loss: 4.6373 - val_accuracy: 0.4372\n"
     ]
    }
   ],
   "source": [
    "clf1=KerasClassifier(build_fn=build_model1)\n",
    "clf2=KerasClassifier(build_fn=build_model2)\n",
    "clf3=KerasClassifier(build_fn=build_model3)\n",
    "clf4=KerasClassifier(build_fn=build_model4)\n",
    "\n",
    "print(\"Train Model1\")\n",
    "history1=clf1.fit(X_train, y_train,validation_split=0.1,epochs=50, batch_size=30).history_\n",
    "print(\"Train Model2\")\n",
    "history2=clf2.fit(X_train, y_train,validation_split=0.1,epochs=50, batch_size=30).history_\n",
    "print(\"Train Model3\")\n",
    "history3=clf3.fit(X_train, y_train,validation_split=0.1,epochs=50, batch_size=30).history_\n",
    "print(\"Train Model4\")\n",
    "history4=clf4.fit(X_train, y_train,validation_split=0.1,epochs=50, batch_size=30).history_"
   ]
  },
  {
   "cell_type": "code",
   "execution_count": 115,
   "metadata": {},
   "outputs": [
    {
     "name": "stdout",
     "output_type": "stream",
     "text": [
      "20/20 [==============================] - 0s 553us/step\n",
      "              precision    recall  f1-score   support\n",
      "\n",
      "           0       0.53      0.79      0.63        96\n",
      "           1       0.57      0.60      0.59        96\n",
      "           2       0.48      0.54      0.51        48\n",
      "           3       0.62      0.44      0.51        96\n",
      "           4       0.45      0.46      0.45        96\n",
      "           5       0.37      0.38      0.37        48\n",
      "           6       0.40      0.31      0.35        96\n",
      "           7       0.49      0.35      0.41        48\n",
      "\n",
      "    accuracy                           0.50       624\n",
      "   macro avg       0.49      0.48      0.48       624\n",
      "weighted avg       0.50      0.50      0.49       624\n",
      "\n"
     ]
    }
   ],
   "source": [
    "y_pred1=clf1.predict(X_test).astype(int)\n",
    "print(classification_report(y_test, y_pred1))"
   ]
  },
  {
   "cell_type": "code",
   "execution_count": 116,
   "metadata": {},
   "outputs": [
    {
     "name": "stdout",
     "output_type": "stream",
     "text": [
      "20/20 [==============================] - 0s 606us/step\n",
      "              precision    recall  f1-score   support\n",
      "\n",
      "           0       0.56      0.82      0.67        96\n",
      "           1       0.57      0.65      0.60        96\n",
      "           2       0.44      0.56      0.50        48\n",
      "           3       0.57      0.42      0.48        96\n",
      "           4       0.39      0.35      0.37        96\n",
      "           5       0.42      0.46      0.44        48\n",
      "           6       0.39      0.24      0.30        96\n",
      "           7       0.53      0.50      0.52        48\n",
      "\n",
      "    accuracy                           0.50       624\n",
      "   macro avg       0.48      0.50      0.48       624\n",
      "weighted avg       0.49      0.50      0.48       624\n",
      "\n"
     ]
    }
   ],
   "source": [
    "y_pred2=clf2.predict(X_test).astype(int)\n",
    "print(classification_report(y_test, y_pred2))"
   ]
  },
  {
   "cell_type": "code",
   "execution_count": 117,
   "metadata": {},
   "outputs": [
    {
     "name": "stdout",
     "output_type": "stream",
     "text": [
      "20/20 [==============================] - 0s 606us/step\n",
      "              precision    recall  f1-score   support\n",
      "\n",
      "           0       0.58      0.79      0.67        96\n",
      "           1       0.57      0.65      0.60        96\n",
      "           2       0.50      0.60      0.55        48\n",
      "           3       0.62      0.36      0.46        96\n",
      "           4       0.42      0.44      0.43        96\n",
      "           5       0.38      0.42      0.40        48\n",
      "           6       0.39      0.28      0.33        96\n",
      "           7       0.40      0.40      0.40        48\n",
      "\n",
      "    accuracy                           0.50       624\n",
      "   macro avg       0.48      0.49      0.48       624\n",
      "weighted avg       0.50      0.50      0.49       624\n",
      "\n"
     ]
    }
   ],
   "source": [
    "y_pred3=clf3.predict(X_test).astype(int)\n",
    "print(classification_report(y_test, y_pred3))"
   ]
  },
  {
   "cell_type": "code",
   "execution_count": 118,
   "metadata": {},
   "outputs": [
    {
     "name": "stdout",
     "output_type": "stream",
     "text": [
      "20/20 [==============================] - 0s 685us/step\n",
      "              precision    recall  f1-score   support\n",
      "\n",
      "           0       0.51      0.78      0.62        96\n",
      "           1       0.56      0.64      0.60        96\n",
      "           2       0.55      0.54      0.55        48\n",
      "           3       0.63      0.38      0.47        96\n",
      "           4       0.43      0.44      0.44        96\n",
      "           5       0.41      0.42      0.41        48\n",
      "           6       0.43      0.33      0.38        96\n",
      "           7       0.56      0.52      0.54        48\n",
      "\n",
      "    accuracy                           0.51       624\n",
      "   macro avg       0.51      0.51      0.50       624\n",
      "weighted avg       0.51      0.51      0.50       624\n",
      "\n"
     ]
    }
   ],
   "source": [
    "y_pred4=clf4.predict(X_test).astype(int)\n",
    "print(classification_report(y_test, y_pred4))"
   ]
  },
  {
   "cell_type": "code",
   "execution_count": 119,
   "metadata": {},
   "outputs": [
    {
     "data": {
      "image/png": "[encoded data removed]",
      "text/plain": [
       "<Figure size 432x288 with 1 Axes>"
      ]
     },
     "metadata": {
      "needs_background": "light"
     },
     "output_type": "display_data"
    }
   ],
   "source": [
    "plt.plot(history1['accuracy'], label='Train')\n",
    "plt.plot(history1['val_accuracy'], label='Val')\n",
    "plt.xlabel('Epochs')\n",
    "plt.ylabel('Accuracy')\n",
    "plt.legend()\n",
    "plt.show()"
   ]
  },
  {
   "cell_type": "code",
   "execution_count": 120,
   "metadata": {},
   "outputs": [
    {
     "data": {
      "image/png": "[encoded data removed]",
      "text/plain": [
       "<Figure size 432x288 with 1 Axes>"
      ]
     },
     "metadata": {
      "needs_background": "light"
     },
     "output_type": "display_data"
    }
   ],
   "source": [
    "plt.plot(history1['loss'], label='Train')\n",
    "plt.plot(history1['val_loss'], label='Val')\n",
    "plt.xlabel('Epochs')\n",
    "plt.ylabel('Cross-Entropy')\n",
    "plt.legend()\n",
    "plt.show()"
   ]
  },
  {
   "cell_type": "code",
   "execution_count": 121,
   "metadata": {},
   "outputs": [
    {
     "data": {
      "image/png": "[encoded data removed]",
      "text/plain": [
       "<Figure size 432x288 with 1 Axes>"
      ]
     },
     "metadata": {
      "needs_background": "light"
     },
     "output_type": "display_data"
    }
   ],
   "source": [
    "plt.plot(history2['accuracy'], label='Train')\n",
    "plt.plot(history2['val_accuracy'], label='Val')\n",
    "plt.xlabel('Epochs')\n",
    "plt.ylabel('Accuracy')\n",
    "plt.legend()\n",
    "plt.show()"
   ]
  },
  {
   "cell_type": "code",
   "execution_count": 122,
   "metadata": {},
   "outputs": [
    {
     "data": {
      "image/png": "[encoded data removed]",
      "text/plain": [
       "<Figure size 432x288 with 1 Axes>"
      ]
     },
     "metadata": {
      "needs_background": "light"
     },
     "output_type": "display_data"
    }
   ],
   "source": [
    "plt.plot(history2['loss'], label='Train')\n",
    "plt.plot(history2['val_loss'], label='Val')\n",
    "plt.xlabel('Epochs')\n",
    "plt.ylabel('Accuracy')\n",
    "plt.legend()\n",
    "plt.show()"
   ]
  },
  {
   "cell_type": "code",
   "execution_count": 123,
   "metadata": {},
   "outputs": [
    {
     "data": {
      "image/png": "[encoded data removed]",
      "text/plain": [
       "<Figure size 432x288 with 1 Axes>"
      ]
     },
     "metadata": {
      "needs_background": "light"
     },
     "output_type": "display_data"
    }
   ],
   "source": [
    "plt.plot(history3['accuracy'], label='Train')\n",
    "plt.plot(history3['val_accuracy'], label='Val')\n",
    "plt.xlabel('Epochs')\n",
    "plt.ylabel('Accuracy')\n",
    "plt.legend()\n",
    "plt.show()"
   ]
  },
  {
   "cell_type": "code",
   "execution_count": 124,
   "metadata": {},
   "outputs": [
    {
     "data": {
      "image/png": "[encoded data removed]",
      "text/plain": [
       "<Figure size 432x288 with 1 Axes>"
      ]
     },
     "metadata": {
      "needs_background": "light"
     },
     "output_type": "display_data"
    }
   ],
   "source": [
    "plt.plot(history3['loss'], label='Train')\n",
    "plt.plot(history3['val_loss'], label='Val')\n",
    "plt.xlabel('Epochs')\n",
    "plt.ylabel('Accuracy')\n",
    "plt.legend()\n",
    "plt.show()"
   ]
  },
  {
   "cell_type": "code",
   "execution_count": 125,
   "metadata": {},
   "outputs": [
    {
     "data": {
      "image/png": "[encoded data removed]",
      "text/plain": [
       "<Figure size 432x288 with 1 Axes>"
      ]
     },
     "metadata": {
      "needs_background": "light"
     },
     "output_type": "display_data"
    }
   ],
   "source": [
    "plt.plot(history4['accuracy'], label='Train')\n",
    "plt.plot(history4['val_accuracy'], label='Val')\n",
    "plt.xlabel('Epochs')\n",
    "plt.ylabel('Accuracy')\n",
    "plt.legend()\n",
    "plt.show()"
   ]
  },
  {
   "cell_type": "code",
   "execution_count": 126,
   "metadata": {},
   "outputs": [
    {
     "data": {
      "image/png": "[encoded data removed]",
      "text/plain": [
       "<Figure size 432x288 with 1 Axes>"
      ]
     },
     "metadata": {
      "needs_background": "light"
     },
     "output_type": "display_data"
    }
   ],
   "source": [
    "plt.plot(history4['loss'], label='Train')\n",
    "plt.plot(history4['val_loss'], label='Val')\n",
    "plt.xlabel('Epochs')\n",
    "plt.ylabel('Accuracy')\n",
    "plt.legend()\n",
    "plt.show()"
   ]
  },
  {
   "attachments": {},
   "cell_type": "markdown",
   "metadata": {},
   "source": [
    "# Early stopping condition"
   ]
  },
  {
   "cell_type": "code",
   "execution_count": 127,
   "metadata": {},
   "outputs": [],
   "source": [
    "from keras.callbacks import EarlyStopping, ModelCheckpoint\n",
    "from keras.regularizers import l2, l1\n",
    "from keras.layers import Dropout"
   ]
  },
  {
   "cell_type": "code",
   "execution_count": 129,
   "metadata": {},
   "outputs": [
    {
     "name": "stdout",
     "output_type": "stream",
     "text": [
      "Epoch 1/500\n",
      "46/46 [==============================] - ETA: 0s - loss: 1.5706 - accuracy: 0.4063"
     ]
    },
    {
     "name": "stderr",
     "output_type": "stream",
     "text": [
      "WARNING:absl:Found untraced functions such as _update_step_xla while saving (showing 1 of 1). These functions will not be directly callable after loading.\n"
     ]
    },
    {
     "name": "stdout",
     "output_type": "stream",
     "text": [
      "INFO:tensorflow:Assets written to: best_model_NOREG.h1\\assets\n"
     ]
    },
    {
     "name": "stderr",
     "output_type": "stream",
     "text": [
      "INFO:tensorflow:Assets written to: best_model_NOREG.h1\\assets\n"
     ]
    },
    {
     "name": "stdout",
     "output_type": "stream",
     "text": [
      "46/46 [==============================] - 1s 23ms/step - loss: 1.5706 - accuracy: 0.4063 - val_loss: 1.5195 - val_accuracy: 0.4426\n",
      "Epoch 2/500\n",
      "46/46 [==============================] - 0s 3ms/step - loss: 0.9237 - accuracy: 0.6689 - val_loss: 1.6701 - val_accuracy: 0.4153\n",
      "Epoch 3/500\n",
      "46/46 [==============================] - 0s 3ms/step - loss: 0.6497 - accuracy: 0.7613 - val_loss: 2.0690 - val_accuracy: 0.4016\n",
      "Epoch 4/500\n",
      "46/46 [==============================] - 0s 3ms/step - loss: 0.4619 - accuracy: 0.8372 - val_loss: 2.1119 - val_accuracy: 0.4262\n",
      "Epoch 5/500\n",
      "46/46 [==============================] - 0s 3ms/step - loss: 0.3147 - accuracy: 0.8967 - val_loss: 2.1315 - val_accuracy: 0.4536\n",
      "Epoch 6/500\n",
      "46/46 [==============================] - 0s 3ms/step - loss: 0.1994 - accuracy: 0.9473 - val_loss: 2.5433 - val_accuracy: 0.4208\n",
      "Epoch 7/500\n",
      "46/46 [==============================] - 0s 2ms/step - loss: 0.1826 - accuracy: 0.9514 - val_loss: 2.4612 - val_accuracy: 0.4536\n",
      "Epoch 8/500\n",
      "46/46 [==============================] - 0s 3ms/step - loss: 0.1233 - accuracy: 0.9672 - val_loss: 2.7385 - val_accuracy: 0.4399\n",
      "Epoch 9/500\n",
      "46/46 [==============================] - 0s 3ms/step - loss: 0.0919 - accuracy: 0.9754 - val_loss: 3.0858 - val_accuracy: 0.4426\n",
      "Epoch 10/500\n",
      "46/46 [==============================] - 0s 3ms/step - loss: 0.0667 - accuracy: 0.9904 - val_loss: 3.0902 - val_accuracy: 0.4317\n",
      "Epoch 11/500\n",
      "46/46 [==============================] - 0s 3ms/step - loss: 0.0356 - accuracy: 0.9959 - val_loss: 3.2267 - val_accuracy: 0.4344\n",
      "Epoch 12/500\n",
      "46/46 [==============================] - 0s 3ms/step - loss: 0.0152 - accuracy: 0.9993 - val_loss: 3.4807 - val_accuracy: 0.4317\n",
      "Epoch 13/500\n",
      "46/46 [==============================] - 0s 3ms/step - loss: 0.0201 - accuracy: 0.9959 - val_loss: 3.4415 - val_accuracy: 0.4508\n",
      "Epoch 14/500\n",
      "46/46 [==============================] - 0s 3ms/step - loss: 0.0169 - accuracy: 0.9966 - val_loss: 3.6961 - val_accuracy: 0.4262\n",
      "Epoch 15/500\n",
      "46/46 [==============================] - 0s 3ms/step - loss: 0.0093 - accuracy: 0.9993 - val_loss: 3.6947 - val_accuracy: 0.4317\n",
      "Epoch 16/500\n",
      "46/46 [==============================] - 0s 3ms/step - loss: 0.0047 - accuracy: 1.0000 - val_loss: 3.7872 - val_accuracy: 0.4344\n",
      "Epoch 17/500\n",
      "46/46 [==============================] - 0s 3ms/step - loss: 0.0037 - accuracy: 1.0000 - val_loss: 3.8826 - val_accuracy: 0.4235\n",
      "Epoch 18/500\n",
      "46/46 [==============================] - 0s 3ms/step - loss: 0.0032 - accuracy: 1.0000 - val_loss: 3.9138 - val_accuracy: 0.4262\n",
      "Epoch 19/500\n",
      "46/46 [==============================] - 0s 3ms/step - loss: 0.0028 - accuracy: 1.0000 - val_loss: 3.9593 - val_accuracy: 0.4290\n",
      "Epoch 20/500\n",
      "46/46 [==============================] - 0s 3ms/step - loss: 0.0025 - accuracy: 1.0000 - val_loss: 3.9947 - val_accuracy: 0.4235\n",
      "Epoch 21/500\n",
      "46/46 [==============================] - 0s 3ms/step - loss: 0.0023 - accuracy: 1.0000 - val_loss: 4.0427 - val_accuracy: 0.4290\n",
      "Epoch 22/500\n",
      "46/46 [==============================] - 0s 3ms/step - loss: 0.0020 - accuracy: 1.0000 - val_loss: 4.1051 - val_accuracy: 0.4290\n",
      "Epoch 23/500\n",
      "46/46 [==============================] - 0s 3ms/step - loss: 0.0018 - accuracy: 1.0000 - val_loss: 4.1362 - val_accuracy: 0.4235\n",
      "Epoch 24/500\n",
      "46/46 [==============================] - 0s 3ms/step - loss: 0.0017 - accuracy: 1.0000 - val_loss: 4.1807 - val_accuracy: 0.4208\n",
      "Epoch 25/500\n",
      "46/46 [==============================] - 0s 3ms/step - loss: 0.0016 - accuracy: 1.0000 - val_loss: 4.2169 - val_accuracy: 0.4208\n",
      "Epoch 26/500\n",
      "46/46 [==============================] - 0s 3ms/step - loss: 0.0014 - accuracy: 1.0000 - val_loss: 4.2665 - val_accuracy: 0.4235\n",
      "Epoch 27/500\n",
      "46/46 [==============================] - 0s 3ms/step - loss: 0.0013 - accuracy: 1.0000 - val_loss: 4.2705 - val_accuracy: 0.4153\n",
      "Epoch 28/500\n",
      "46/46 [==============================] - 0s 3ms/step - loss: 0.0012 - accuracy: 1.0000 - val_loss: 4.3316 - val_accuracy: 0.4262\n",
      "Epoch 29/500\n",
      "46/46 [==============================] - 0s 3ms/step - loss: 0.0011 - accuracy: 1.0000 - val_loss: 4.3621 - val_accuracy: 0.4208\n",
      "Epoch 30/500\n",
      "46/46 [==============================] - 0s 3ms/step - loss: 0.0010 - accuracy: 1.0000 - val_loss: 4.3821 - val_accuracy: 0.4235\n",
      "Epoch 31/500\n",
      "46/46 [==============================] - 0s 3ms/step - loss: 9.9058e-04 - accuracy: 1.0000 - val_loss: 4.3977 - val_accuracy: 0.4262\n",
      "Epoch 32/500\n",
      "46/46 [==============================] - 0s 2ms/step - loss: 9.2552e-04 - accuracy: 1.0000 - val_loss: 4.4506 - val_accuracy: 0.4208\n",
      "Epoch 33/500\n",
      "46/46 [==============================] - 0s 3ms/step - loss: 8.6698e-04 - accuracy: 1.0000 - val_loss: 4.4893 - val_accuracy: 0.4208\n",
      "Epoch 34/500\n",
      "46/46 [==============================] - 0s 3ms/step - loss: 8.1520e-04 - accuracy: 1.0000 - val_loss: 4.4984 - val_accuracy: 0.4180\n",
      "Epoch 35/500\n",
      "46/46 [==============================] - 0s 3ms/step - loss: 7.6891e-04 - accuracy: 1.0000 - val_loss: 4.5211 - val_accuracy: 0.4262\n",
      "Epoch 36/500\n",
      "46/46 [==============================] - 0s 3ms/step - loss: 7.2517e-04 - accuracy: 1.0000 - val_loss: 4.5555 - val_accuracy: 0.4208\n",
      "Epoch 37/500\n",
      "46/46 [==============================] - 0s 3ms/step - loss: 6.8367e-04 - accuracy: 1.0000 - val_loss: 4.5796 - val_accuracy: 0.4290\n",
      "Epoch 38/500\n",
      "46/46 [==============================] - 0s 3ms/step - loss: 6.4526e-04 - accuracy: 1.0000 - val_loss: 4.6169 - val_accuracy: 0.4235\n",
      "Epoch 39/500\n",
      "46/46 [==============================] - 0s 3ms/step - loss: 6.0893e-04 - accuracy: 1.0000 - val_loss: 4.6336 - val_accuracy: 0.4208\n",
      "Epoch 40/500\n",
      "46/46 [==============================] - 0s 3ms/step - loss: 5.7818e-04 - accuracy: 1.0000 - val_loss: 4.6571 - val_accuracy: 0.4317\n",
      "Epoch 41/500\n",
      "46/46 [==============================] - 0s 3ms/step - loss: 5.4713e-04 - accuracy: 1.0000 - val_loss: 4.6781 - val_accuracy: 0.4317\n",
      "Epoch 42/500\n",
      "46/46 [==============================] - 0s 3ms/step - loss: 5.2072e-04 - accuracy: 1.0000 - val_loss: 4.7126 - val_accuracy: 0.4317\n",
      "Epoch 43/500\n",
      "46/46 [==============================] - 0s 3ms/step - loss: 4.9498e-04 - accuracy: 1.0000 - val_loss: 4.7333 - val_accuracy: 0.4235\n",
      "Epoch 44/500\n",
      "46/46 [==============================] - 0s 3ms/step - loss: 4.6996e-04 - accuracy: 1.0000 - val_loss: 4.7714 - val_accuracy: 0.4290\n",
      "Epoch 45/500\n",
      "46/46 [==============================] - 0s 3ms/step - loss: 4.4657e-04 - accuracy: 1.0000 - val_loss: 4.7829 - val_accuracy: 0.4290\n",
      "Epoch 46/500\n",
      "46/46 [==============================] - 0s 3ms/step - loss: 4.2659e-04 - accuracy: 1.0000 - val_loss: 4.7995 - val_accuracy: 0.4317\n",
      "Epoch 47/500\n",
      "46/46 [==============================] - 0s 3ms/step - loss: 4.0263e-04 - accuracy: 1.0000 - val_loss: 4.8276 - val_accuracy: 0.4290\n",
      "Epoch 48/500\n",
      "46/46 [==============================] - 0s 3ms/step - loss: 3.8635e-04 - accuracy: 1.0000 - val_loss: 4.8588 - val_accuracy: 0.4235\n",
      "Epoch 49/500\n",
      "46/46 [==============================] - 0s 3ms/step - loss: 3.7096e-04 - accuracy: 1.0000 - val_loss: 4.8781 - val_accuracy: 0.4235\n",
      "Epoch 50/500\n",
      "46/46 [==============================] - 0s 3ms/step - loss: 3.5270e-04 - accuracy: 1.0000 - val_loss: 4.8978 - val_accuracy: 0.4290\n",
      "Epoch 51/500\n",
      "46/46 [==============================] - 0s 3ms/step - loss: 3.3654e-04 - accuracy: 1.0000 - val_loss: 4.9096 - val_accuracy: 0.4262\n",
      "Epoch 51: early stopping\n"
     ]
    },
    {
     "data": {
      "text/plain": [
       "KerasClassifier(\n",
       "\tmodel=<function build_model4 at 0x000001990FFB3160>\n",
       "\tbuild_fn=None\n",
       "\twarm_start=False\n",
       "\trandom_state=None\n",
       "\toptimizer=rmsprop\n",
       "\tloss=None\n",
       "\tmetrics=None\n",
       "\tbatch_size=None\n",
       "\tvalidation_batch_size=None\n",
       "\tverbose=1\n",
       "\tcallbacks=[<keras.callbacks.EarlyStopping object at 0x000001991CFCED60>, <keras.callbacks.ModelCheckpoint object at 0x0000019924381640>]\n",
       "\tvalidation_split=0.0\n",
       "\tshuffle=True\n",
       "\trun_eagerly=False\n",
       "\tepochs=1\n",
       "\tclass_weight=None\n",
       ")"
      ]
     },
     "execution_count": 129,
     "metadata": {},
     "output_type": "execute_result"
    }
   ],
   "source": [
    "es = EarlyStopping(monitor='val_loss', patience=50, verbose=True) # tipycal monitor is val_loss to avoid overfitting. patience says that: if after 50 epochs the val loss is not decrsing anymore u can stop and return the model as the best model\n",
    "mc = ModelCheckpoint('best_model_NOREG.h1', monitor='val_loss', save_best_only=True) # modelcheckpoint is another class to specify the name of the model, save best only true -> automatically deletes all the other model that are not the best\n",
    "\n",
    "clf = KerasClassifier(build_model4, callbacks=[es, mc])\n",
    "clf.fit(X_train, y_train, validation_split=0.2, epochs=500)"
   ]
  },
  {
   "cell_type": "code",
   "execution_count": 130,
   "metadata": {},
   "outputs": [
    {
     "name": "stdout",
     "output_type": "stream",
     "text": [
      "20/20 [==============================] - 0s 658us/step\n",
      "Accuracy 0.5048076923076923\n",
      "F1-score [0.60580913 0.60913706 0.54716981 0.46979866 0.43386243 0.3960396\n",
      " 0.4        0.48888889]\n",
      "              precision    recall  f1-score   support\n",
      "\n",
      "           0       0.50      0.76      0.61        96\n",
      "           1       0.59      0.62      0.61        96\n",
      "           2       0.50      0.60      0.55        48\n",
      "           3       0.66      0.36      0.47        96\n",
      "           4       0.44      0.43      0.43        96\n",
      "           5       0.38      0.42      0.40        48\n",
      "           6       0.44      0.36      0.40        96\n",
      "           7       0.52      0.46      0.49        48\n",
      "\n",
      "    accuracy                           0.50       624\n",
      "   macro avg       0.51      0.50      0.49       624\n",
      "weighted avg       0.51      0.50      0.50       624\n",
      "\n"
     ]
    }
   ],
   "source": [
    "# we can see that that the training stopped after 31 epochs without reachng the end\n",
    "\n",
    "y_pred = clf.predict(X_test).astype(int)\n",
    "\n",
    "print('Accuracy %s' % accuracy_score(y_test, y_pred))\n",
    "print('F1-score %s' % f1_score(y_test, y_pred, average=None))\n",
    "print(classification_report(y_test, y_pred))"
   ]
  },
  {
   "attachments": {},
   "cell_type": "markdown",
   "metadata": {},
   "source": [
    "L2 regularization"
   ]
  },
  {
   "cell_type": "code",
   "execution_count": 132,
   "metadata": {},
   "outputs": [],
   "source": [
    "from keras.regularizers import l2, l1\n",
    "\n",
    "def build_L2_model4():\n",
    "    n_feature = X_train.shape[1] # numero colonne\n",
    "    model = Sequential()\n",
    "    model.add(Dense(512, input_dim=n_feature, activation='relu',kernel_regularizer=l2(0.001))) \n",
    "    model.add(Dense(512, activation='relu'))# second layer\n",
    "    model.add(Dense(n_classes, activation='softmax'))\n",
    "    # if we have multiclass u have to specify as output the number of classes\n",
    "    model.compile(loss='sparse_categorical_crossentropy', # compile=build the network. if binary classification use binary_crossentropy as loss fucntions\n",
    "                  optimizer=\"adam\", metrics=['accuracy']) # metric u want to observe -> typically accuracy,f1 score\n",
    "    return model"
   ]
  },
  {
   "cell_type": "code",
   "execution_count": 133,
   "metadata": {},
   "outputs": [
    {
     "name": "stdout",
     "output_type": "stream",
     "text": [
      "Epoch 1/500\n",
      "24/46 [==============>...............] - ETA: 0s - loss: 2.0162 - accuracy: 0.3646 "
     ]
    },
    {
     "name": "stderr",
     "output_type": "stream",
     "text": [
      "WARNING:absl:Found untraced functions such as _update_step_xla while saving (showing 1 of 1). These functions will not be directly callable after loading.\n"
     ]
    },
    {
     "name": "stdout",
     "output_type": "stream",
     "text": [
      "INFO:tensorflow:Assets written to: best_model_L2.h1\\assets\n"
     ]
    },
    {
     "name": "stderr",
     "output_type": "stream",
     "text": [
      "INFO:tensorflow:Assets written to: best_model_L2.h1\\assets\n"
     ]
    },
    {
     "name": "stdout",
     "output_type": "stream",
     "text": [
      "46/46 [==============================] - 1s 17ms/step - loss: 1.8824 - accuracy: 0.4179 - val_loss: 2.0224 - val_accuracy: 0.3798\n",
      "Epoch 2/500\n",
      "46/46 [==============================] - 0s 3ms/step - loss: 1.2832 - accuracy: 0.6491 - val_loss: 2.2713 - val_accuracy: 0.3388\n",
      "Epoch 3/500\n",
      "46/46 [==============================] - 0s 3ms/step - loss: 1.0027 - accuracy: 0.7565 - val_loss: 2.1461 - val_accuracy: 0.4180\n",
      "Epoch 4/500\n",
      "46/46 [==============================] - 0s 3ms/step - loss: 0.7931 - accuracy: 0.8304 - val_loss: 2.5337 - val_accuracy: 0.4044\n",
      "Epoch 5/500\n",
      "46/46 [==============================] - 0s 3ms/step - loss: 0.6941 - accuracy: 0.8789 - val_loss: 2.6146 - val_accuracy: 0.4317\n",
      "Epoch 6/500\n",
      "46/46 [==============================] - 0s 3ms/step - loss: 0.5802 - accuracy: 0.9166 - val_loss: 2.8124 - val_accuracy: 0.4098\n",
      "Epoch 7/500\n",
      "46/46 [==============================] - 0s 3ms/step - loss: 0.5181 - accuracy: 0.9364 - val_loss: 2.9739 - val_accuracy: 0.4044\n",
      "Epoch 8/500\n",
      "46/46 [==============================] - 0s 3ms/step - loss: 0.4598 - accuracy: 0.9542 - val_loss: 3.2419 - val_accuracy: 0.3962\n",
      "Epoch 9/500\n",
      "46/46 [==============================] - 0s 3ms/step - loss: 0.4117 - accuracy: 0.9699 - val_loss: 3.2772 - val_accuracy: 0.3825\n",
      "Epoch 10/500\n",
      "46/46 [==============================] - 0s 3ms/step - loss: 0.3593 - accuracy: 0.9829 - val_loss: 3.3974 - val_accuracy: 0.4126\n",
      "Epoch 11/500\n",
      "46/46 [==============================] - 0s 3ms/step - loss: 0.3295 - accuracy: 0.9904 - val_loss: 3.4708 - val_accuracy: 0.4098\n",
      "Epoch 12/500\n",
      "46/46 [==============================] - 0s 3ms/step - loss: 0.3030 - accuracy: 0.9959 - val_loss: 3.3717 - val_accuracy: 0.4290\n",
      "Epoch 13/500\n",
      "46/46 [==============================] - 0s 3ms/step - loss: 0.3139 - accuracy: 0.9877 - val_loss: 3.6398 - val_accuracy: 0.4098\n",
      "Epoch 14/500\n",
      "46/46 [==============================] - 0s 3ms/step - loss: 0.2965 - accuracy: 0.9891 - val_loss: 3.5337 - val_accuracy: 0.4262\n",
      "Epoch 15/500\n",
      "46/46 [==============================] - 0s 3ms/step - loss: 0.2752 - accuracy: 0.9932 - val_loss: 4.0091 - val_accuracy: 0.3989\n",
      "Epoch 16/500\n",
      "46/46 [==============================] - 0s 3ms/step - loss: 0.3122 - accuracy: 0.9891 - val_loss: 4.1499 - val_accuracy: 0.3934\n",
      "Epoch 17/500\n",
      "46/46 [==============================] - 0s 3ms/step - loss: 0.4008 - accuracy: 0.9521 - val_loss: 3.9345 - val_accuracy: 0.4180\n",
      "Epoch 18/500\n",
      "46/46 [==============================] - 0s 3ms/step - loss: 0.6051 - accuracy: 0.8817 - val_loss: 2.9527 - val_accuracy: 0.4536\n",
      "Epoch 19/500\n",
      "46/46 [==============================] - 0s 3ms/step - loss: 0.4873 - accuracy: 0.9111 - val_loss: 3.7909 - val_accuracy: 0.3907\n",
      "Epoch 20/500\n",
      "46/46 [==============================] - 0s 3ms/step - loss: 0.3469 - accuracy: 0.9692 - val_loss: 3.7972 - val_accuracy: 0.4016\n",
      "Epoch 21/500\n",
      "46/46 [==============================] - 0s 3ms/step - loss: 0.2987 - accuracy: 0.9829 - val_loss: 3.8436 - val_accuracy: 0.4208\n",
      "Epoch 22/500\n",
      "46/46 [==============================] - 0s 3ms/step - loss: 0.2834 - accuracy: 0.9815 - val_loss: 3.7526 - val_accuracy: 0.4180\n",
      "Epoch 23/500\n",
      "46/46 [==============================] - 0s 3ms/step - loss: 0.2435 - accuracy: 0.9959 - val_loss: 4.0287 - val_accuracy: 0.4153\n",
      "Epoch 24/500\n",
      "46/46 [==============================] - 0s 3ms/step - loss: 0.2249 - accuracy: 0.9979 - val_loss: 3.9921 - val_accuracy: 0.4016\n",
      "Epoch 25/500\n",
      "46/46 [==============================] - 0s 3ms/step - loss: 0.2101 - accuracy: 0.9993 - val_loss: 3.9602 - val_accuracy: 0.4153\n",
      "Epoch 26/500\n",
      "46/46 [==============================] - 0s 3ms/step - loss: 0.1995 - accuracy: 1.0000 - val_loss: 3.9015 - val_accuracy: 0.4126\n",
      "Epoch 27/500\n",
      "46/46 [==============================] - 0s 3ms/step - loss: 0.1899 - accuracy: 1.0000 - val_loss: 3.9254 - val_accuracy: 0.4180\n",
      "Epoch 28/500\n",
      "46/46 [==============================] - 0s 3ms/step - loss: 0.1812 - accuracy: 1.0000 - val_loss: 3.8643 - val_accuracy: 0.4180\n",
      "Epoch 29/500\n",
      "46/46 [==============================] - 0s 3ms/step - loss: 0.1728 - accuracy: 1.0000 - val_loss: 3.8617 - val_accuracy: 0.4235\n",
      "Epoch 30/500\n",
      "46/46 [==============================] - 0s 3ms/step - loss: 0.1646 - accuracy: 1.0000 - val_loss: 3.8327 - val_accuracy: 0.4262\n",
      "Epoch 31/500\n",
      "46/46 [==============================] - 0s 3ms/step - loss: 0.1567 - accuracy: 1.0000 - val_loss: 3.8428 - val_accuracy: 0.4262\n",
      "Epoch 32/500\n",
      "46/46 [==============================] - 0s 3ms/step - loss: 0.1491 - accuracy: 1.0000 - val_loss: 3.7937 - val_accuracy: 0.4208\n",
      "Epoch 33/500\n",
      "46/46 [==============================] - 0s 3ms/step - loss: 0.1417 - accuracy: 1.0000 - val_loss: 3.7620 - val_accuracy: 0.4290\n",
      "Epoch 34/500\n",
      "46/46 [==============================] - 0s 3ms/step - loss: 0.1347 - accuracy: 1.0000 - val_loss: 3.7323 - val_accuracy: 0.4262\n",
      "Epoch 35/500\n",
      "46/46 [==============================] - 0s 3ms/step - loss: 0.1279 - accuracy: 1.0000 - val_loss: 3.6989 - val_accuracy: 0.4262\n",
      "Epoch 36/500\n",
      "46/46 [==============================] - 0s 3ms/step - loss: 0.1214 - accuracy: 1.0000 - val_loss: 3.6765 - val_accuracy: 0.4235\n",
      "Epoch 37/500\n",
      "46/46 [==============================] - 0s 3ms/step - loss: 0.1151 - accuracy: 1.0000 - val_loss: 3.6399 - val_accuracy: 0.4317\n",
      "Epoch 38/500\n",
      "46/46 [==============================] - 0s 3ms/step - loss: 0.1092 - accuracy: 1.0000 - val_loss: 3.6309 - val_accuracy: 0.4262\n",
      "Epoch 39/500\n",
      "46/46 [==============================] - 0s 3ms/step - loss: 0.1035 - accuracy: 1.0000 - val_loss: 3.5764 - val_accuracy: 0.4235\n",
      "Epoch 40/500\n",
      "46/46 [==============================] - 0s 3ms/step - loss: 0.0981 - accuracy: 1.0000 - val_loss: 3.5998 - val_accuracy: 0.4180\n",
      "Epoch 41/500\n",
      "46/46 [==============================] - 0s 3ms/step - loss: 0.0929 - accuracy: 1.0000 - val_loss: 3.5896 - val_accuracy: 0.4180\n",
      "Epoch 42/500\n",
      "46/46 [==============================] - 0s 3ms/step - loss: 0.0880 - accuracy: 1.0000 - val_loss: 3.4936 - val_accuracy: 0.4208\n",
      "Epoch 43/500\n",
      "46/46 [==============================] - 0s 3ms/step - loss: 0.0832 - accuracy: 1.0000 - val_loss: 3.5092 - val_accuracy: 0.4235\n",
      "Epoch 44/500\n",
      "46/46 [==============================] - 0s 3ms/step - loss: 0.0790 - accuracy: 1.0000 - val_loss: 3.4575 - val_accuracy: 0.4208\n",
      "Epoch 45/500\n",
      "46/46 [==============================] - 0s 3ms/step - loss: 0.0751 - accuracy: 1.0000 - val_loss: 3.4733 - val_accuracy: 0.4235\n",
      "Epoch 46/500\n",
      "46/46 [==============================] - 0s 3ms/step - loss: 0.0717 - accuracy: 1.0000 - val_loss: 3.5395 - val_accuracy: 0.4153\n",
      "Epoch 47/500\n",
      "46/46 [==============================] - 0s 3ms/step - loss: 0.1990 - accuracy: 0.9672 - val_loss: 4.1159 - val_accuracy: 0.4126\n",
      "Epoch 48/500\n",
      "46/46 [==============================] - 0s 3ms/step - loss: 1.4293 - accuracy: 0.6354 - val_loss: 2.2630 - val_accuracy: 0.3852\n",
      "Epoch 49/500\n",
      "46/46 [==============================] - 0s 3ms/step - loss: 0.6346 - accuracy: 0.8126 - val_loss: 3.0078 - val_accuracy: 0.4262\n",
      "Epoch 50/500\n",
      "46/46 [==============================] - 0s 3ms/step - loss: 0.3804 - accuracy: 0.9083 - val_loss: 3.3530 - val_accuracy: 0.4317\n",
      "Epoch 51/500\n",
      "46/46 [==============================] - 0s 3ms/step - loss: 0.3186 - accuracy: 0.9398 - val_loss: 3.3288 - val_accuracy: 0.4208\n",
      "Epoch 51: early stopping\n"
     ]
    },
    {
     "data": {
      "text/plain": [
       "KerasClassifier(\n",
       "\tmodel=<function build_L2_model4 at 0x00000199282D33A0>\n",
       "\tbuild_fn=None\n",
       "\twarm_start=False\n",
       "\trandom_state=None\n",
       "\toptimizer=rmsprop\n",
       "\tloss=None\n",
       "\tmetrics=None\n",
       "\tbatch_size=None\n",
       "\tvalidation_batch_size=None\n",
       "\tverbose=1\n",
       "\tcallbacks=[<keras.callbacks.EarlyStopping object at 0x000001991CFCED60>, <keras.callbacks.ModelCheckpoint object at 0x00000199280C4310>]\n",
       "\tvalidation_split=0.0\n",
       "\tshuffle=True\n",
       "\trun_eagerly=False\n",
       "\tepochs=1\n",
       "\tclass_weight=None\n",
       ")"
      ]
     },
     "execution_count": 133,
     "metadata": {},
     "output_type": "execute_result"
    }
   ],
   "source": [
    "mc = ModelCheckpoint('best_model_L2.h1', monitor='val_loss', save_best_only=True)\n",
    "\n",
    "L2_model = KerasClassifier(build_L2_model4, callbacks=[es,mc])\n",
    "L2_model.fit(X_train, y_train, validation_split=0.2, epochs=500)"
   ]
  },
  {
   "cell_type": "code",
   "execution_count": 134,
   "metadata": {},
   "outputs": [
    {
     "data": {
      "image/png": "[encoded data removed]",
      "text/plain": [
       "<Figure size 432x288 with 1 Axes>"
      ]
     },
     "metadata": {
      "needs_background": "light"
     },
     "output_type": "display_data"
    }
   ],
   "source": [
    "history = L2_model.history_\n",
    "plt.plot(history['accuracy'], label='Train')\n",
    "plt.plot(history['val_accuracy'], label='Val')\n",
    "plt.xlabel('Epochs')\n",
    "plt.ylabel('Accuracy')\n",
    "plt.legend()\n",
    "plt.show()"
   ]
  },
  {
   "cell_type": "code",
   "execution_count": 135,
   "metadata": {},
   "outputs": [
    {
     "data": {
      "image/png": "[encoded data removed]",
      "text/plain": [
       "<Figure size 432x288 with 1 Axes>"
      ]
     },
     "metadata": {
      "needs_background": "light"
     },
     "output_type": "display_data"
    }
   ],
   "source": [
    "plt.plot(history['loss'], label='Train')\n",
    "plt.plot(history['val_loss'], label='Val')\n",
    "plt.xlabel('Epochs')\n",
    "plt.ylabel('Accuracy')\n",
    "plt.legend()\n",
    "plt.show()"
   ]
  },
  {
   "attachments": {},
   "cell_type": "markdown",
   "metadata": {},
   "source": [
    "Dropout"
   ]
  },
  {
   "cell_type": "code",
   "execution_count": 136,
   "metadata": {},
   "outputs": [],
   "source": [
    "def build_DROPOUT_model4():\n",
    "    n_feature = X_train.shape[1] # numero colonne\n",
    "    model = Sequential()\n",
    "    model.add(Dense(512, input_dim=n_feature, activation='relu')) \n",
    "    model.add(Dense(512, activation='relu'))# second layer\n",
    "    model.add(Dropout(0.1))# between these levels, for each iteration, 10% weight connection are put to 0\n",
    "    model.add(Dense(n_classes, activation='softmax'))\n",
    "    # if we have multiclass u have to specify as output the number of classes\n",
    "    model.compile(loss='sparse_categorical_crossentropy', # compile=build the network. if binary classification use binary_crossentropy as loss fucntions\n",
    "                  optimizer=\"adam\", metrics=['accuracy']) # metric u want to observe -> typically accuracy,f1 score\n",
    "    return model"
   ]
  },
  {
   "cell_type": "code",
   "execution_count": 137,
   "metadata": {},
   "outputs": [
    {
     "name": "stdout",
     "output_type": "stream",
     "text": [
      "Epoch 1/500\n",
      "46/46 [==============================] - ETA: 0s - loss: 1.5461 - accuracy: 0.4138"
     ]
    },
    {
     "name": "stderr",
     "output_type": "stream",
     "text": [
      "WARNING:absl:Found untraced functions such as _update_step_xla while saving (showing 1 of 1). These functions will not be directly callable after loading.\n"
     ]
    },
    {
     "name": "stdout",
     "output_type": "stream",
     "text": [
      "INFO:tensorflow:Assets written to: best_model_DROPOUT.h1\\assets\n"
     ]
    },
    {
     "name": "stderr",
     "output_type": "stream",
     "text": [
      "INFO:tensorflow:Assets written to: best_model_DROPOUT.h1\\assets\n"
     ]
    },
    {
     "name": "stdout",
     "output_type": "stream",
     "text": [
      "46/46 [==============================] - 2s 18ms/step - loss: 1.5461 - accuracy: 0.4138 - val_loss: 1.5659 - val_accuracy: 0.4344\n",
      "Epoch 2/500\n",
      "46/46 [==============================] - 0s 3ms/step - loss: 0.9883 - accuracy: 0.6170 - val_loss: 1.7546 - val_accuracy: 0.4016\n",
      "Epoch 3/500\n",
      "46/46 [==============================] - 0s 3ms/step - loss: 0.6748 - accuracy: 0.7633 - val_loss: 2.0149 - val_accuracy: 0.3989\n",
      "Epoch 4/500\n",
      "46/46 [==============================] - 0s 3ms/step - loss: 0.4963 - accuracy: 0.8427 - val_loss: 2.0541 - val_accuracy: 0.4098\n",
      "Epoch 5/500\n",
      "46/46 [==============================] - 0s 3ms/step - loss: 0.3713 - accuracy: 0.8817 - val_loss: 2.3546 - val_accuracy: 0.4071\n",
      "Epoch 6/500\n",
      "46/46 [==============================] - 0s 3ms/step - loss: 0.2541 - accuracy: 0.9275 - val_loss: 3.0816 - val_accuracy: 0.3716\n",
      "Epoch 7/500\n",
      "46/46 [==============================] - 0s 3ms/step - loss: 0.1890 - accuracy: 0.9480 - val_loss: 2.7486 - val_accuracy: 0.4426\n",
      "Epoch 8/500\n",
      "46/46 [==============================] - 0s 3ms/step - loss: 0.1353 - accuracy: 0.9624 - val_loss: 3.0901 - val_accuracy: 0.3934\n",
      "Epoch 9/500\n",
      "46/46 [==============================] - 0s 3ms/step - loss: 0.1120 - accuracy: 0.9733 - val_loss: 3.1048 - val_accuracy: 0.4071\n",
      "Epoch 10/500\n",
      "46/46 [==============================] - 0s 3ms/step - loss: 0.0757 - accuracy: 0.9836 - val_loss: 2.9023 - val_accuracy: 0.4372\n",
      "Epoch 11/500\n",
      "46/46 [==============================] - 0s 3ms/step - loss: 0.0751 - accuracy: 0.9829 - val_loss: 3.1386 - val_accuracy: 0.4235\n",
      "Epoch 12/500\n",
      "46/46 [==============================] - 0s 3ms/step - loss: 0.0570 - accuracy: 0.9863 - val_loss: 3.2641 - val_accuracy: 0.4563\n",
      "Epoch 13/500\n",
      "46/46 [==============================] - 0s 3ms/step - loss: 0.0892 - accuracy: 0.9781 - val_loss: 3.4252 - val_accuracy: 0.4399\n",
      "Epoch 14/500\n",
      "46/46 [==============================] - 0s 3ms/step - loss: 0.0574 - accuracy: 0.9836 - val_loss: 3.5492 - val_accuracy: 0.4290\n",
      "Epoch 15/500\n",
      "46/46 [==============================] - 0s 3ms/step - loss: 0.0473 - accuracy: 0.9843 - val_loss: 3.6560 - val_accuracy: 0.4508\n",
      "Epoch 16/500\n",
      "46/46 [==============================] - 0s 3ms/step - loss: 0.0393 - accuracy: 0.9897 - val_loss: 3.6304 - val_accuracy: 0.4454\n",
      "Epoch 17/500\n",
      "46/46 [==============================] - 0s 3ms/step - loss: 0.0138 - accuracy: 1.0000 - val_loss: 3.8261 - val_accuracy: 0.4454\n",
      "Epoch 18/500\n",
      "46/46 [==============================] - 0s 3ms/step - loss: 0.0069 - accuracy: 1.0000 - val_loss: 3.7752 - val_accuracy: 0.4645\n",
      "Epoch 19/500\n",
      "46/46 [==============================] - 0s 3ms/step - loss: 0.0041 - accuracy: 1.0000 - val_loss: 3.9129 - val_accuracy: 0.4590\n",
      "Epoch 20/500\n",
      "46/46 [==============================] - 0s 3ms/step - loss: 0.0027 - accuracy: 1.0000 - val_loss: 3.9778 - val_accuracy: 0.4508\n",
      "Epoch 21/500\n",
      "46/46 [==============================] - 0s 3ms/step - loss: 0.0024 - accuracy: 1.0000 - val_loss: 3.9549 - val_accuracy: 0.4563\n",
      "Epoch 22/500\n",
      "46/46 [==============================] - 0s 3ms/step - loss: 0.0022 - accuracy: 1.0000 - val_loss: 4.0402 - val_accuracy: 0.4454\n",
      "Epoch 23/500\n",
      "46/46 [==============================] - 0s 3ms/step - loss: 0.0020 - accuracy: 1.0000 - val_loss: 4.2349 - val_accuracy: 0.4454\n",
      "Epoch 24/500\n",
      "46/46 [==============================] - 0s 3ms/step - loss: 0.0017 - accuracy: 1.0000 - val_loss: 4.1889 - val_accuracy: 0.4454\n",
      "Epoch 25/500\n",
      "46/46 [==============================] - 0s 3ms/step - loss: 0.0014 - accuracy: 1.0000 - val_loss: 4.1850 - val_accuracy: 0.4536\n",
      "Epoch 26/500\n",
      "46/46 [==============================] - 0s 3ms/step - loss: 0.0015 - accuracy: 1.0000 - val_loss: 4.1521 - val_accuracy: 0.4426\n",
      "Epoch 27/500\n",
      "46/46 [==============================] - 0s 3ms/step - loss: 0.0013 - accuracy: 1.0000 - val_loss: 4.2647 - val_accuracy: 0.4481\n",
      "Epoch 28/500\n",
      "46/46 [==============================] - 0s 3ms/step - loss: 0.0012 - accuracy: 1.0000 - val_loss: 4.2613 - val_accuracy: 0.4399\n",
      "Epoch 29/500\n",
      "46/46 [==============================] - 0s 3ms/step - loss: 0.0011 - accuracy: 1.0000 - val_loss: 4.3007 - val_accuracy: 0.4426\n",
      "Epoch 30/500\n",
      "46/46 [==============================] - 0s 3ms/step - loss: 0.0011 - accuracy: 1.0000 - val_loss: 4.3418 - val_accuracy: 0.4508\n",
      "Epoch 31/500\n",
      "46/46 [==============================] - 0s 3ms/step - loss: 9.3900e-04 - accuracy: 1.0000 - val_loss: 4.4129 - val_accuracy: 0.4508\n",
      "Epoch 32/500\n",
      "46/46 [==============================] - 0s 3ms/step - loss: 8.7197e-04 - accuracy: 1.0000 - val_loss: 4.4137 - val_accuracy: 0.4399\n",
      "Epoch 33/500\n",
      "46/46 [==============================] - 0s 3ms/step - loss: 7.9172e-04 - accuracy: 1.0000 - val_loss: 4.4043 - val_accuracy: 0.4426\n",
      "Epoch 34/500\n",
      "46/46 [==============================] - 0s 3ms/step - loss: 7.7356e-04 - accuracy: 1.0000 - val_loss: 4.4287 - val_accuracy: 0.4481\n",
      "Epoch 35/500\n",
      "46/46 [==============================] - 0s 3ms/step - loss: 7.8677e-04 - accuracy: 1.0000 - val_loss: 4.4197 - val_accuracy: 0.4508\n",
      "Epoch 36/500\n",
      "46/46 [==============================] - 0s 3ms/step - loss: 6.9193e-04 - accuracy: 1.0000 - val_loss: 4.4498 - val_accuracy: 0.4481\n",
      "Epoch 37/500\n",
      "46/46 [==============================] - 0s 3ms/step - loss: 6.5385e-04 - accuracy: 1.0000 - val_loss: 4.4929 - val_accuracy: 0.4508\n",
      "Epoch 38/500\n",
      "46/46 [==============================] - 0s 3ms/step - loss: 6.6232e-04 - accuracy: 1.0000 - val_loss: 4.5196 - val_accuracy: 0.4536\n",
      "Epoch 39/500\n",
      "46/46 [==============================] - 0s 3ms/step - loss: 6.2984e-04 - accuracy: 1.0000 - val_loss: 4.5184 - val_accuracy: 0.4481\n",
      "Epoch 40/500\n",
      "46/46 [==============================] - 0s 3ms/step - loss: 5.6326e-04 - accuracy: 1.0000 - val_loss: 4.5890 - val_accuracy: 0.4372\n",
      "Epoch 41/500\n",
      "46/46 [==============================] - 0s 3ms/step - loss: 5.3768e-04 - accuracy: 1.0000 - val_loss: 4.5766 - val_accuracy: 0.4481\n",
      "Epoch 42/500\n",
      "46/46 [==============================] - 0s 3ms/step - loss: 5.0395e-04 - accuracy: 1.0000 - val_loss: 4.5951 - val_accuracy: 0.4454\n",
      "Epoch 43/500\n",
      "46/46 [==============================] - 0s 3ms/step - loss: 4.9146e-04 - accuracy: 1.0000 - val_loss: 4.6275 - val_accuracy: 0.4454\n",
      "Epoch 44/500\n",
      "46/46 [==============================] - 0s 3ms/step - loss: 4.7110e-04 - accuracy: 1.0000 - val_loss: 4.6733 - val_accuracy: 0.4426\n",
      "Epoch 45/500\n",
      "46/46 [==============================] - 0s 3ms/step - loss: 4.0482e-04 - accuracy: 1.0000 - val_loss: 4.6661 - val_accuracy: 0.4454\n",
      "Epoch 46/500\n",
      "46/46 [==============================] - 0s 3ms/step - loss: 4.0791e-04 - accuracy: 1.0000 - val_loss: 4.7148 - val_accuracy: 0.4372\n",
      "Epoch 47/500\n",
      "46/46 [==============================] - 0s 3ms/step - loss: 3.9322e-04 - accuracy: 1.0000 - val_loss: 4.7028 - val_accuracy: 0.4399\n",
      "Epoch 48/500\n",
      "46/46 [==============================] - 0s 3ms/step - loss: 3.6304e-04 - accuracy: 1.0000 - val_loss: 4.6967 - val_accuracy: 0.4426\n",
      "Epoch 49/500\n",
      "46/46 [==============================] - 0s 3ms/step - loss: 3.4034e-04 - accuracy: 1.0000 - val_loss: 4.7248 - val_accuracy: 0.4454\n",
      "Epoch 50/500\n",
      "46/46 [==============================] - 0s 3ms/step - loss: 3.6400e-04 - accuracy: 1.0000 - val_loss: 4.7319 - val_accuracy: 0.4426\n",
      "Epoch 51/500\n",
      "46/46 [==============================] - 0s 3ms/step - loss: 3.3243e-04 - accuracy: 1.0000 - val_loss: 4.7913 - val_accuracy: 0.4454\n",
      "Epoch 51: early stopping\n"
     ]
    },
    {
     "data": {
      "text/plain": [
       "KerasClassifier(\n",
       "\tmodel=<function build_DROPOUT_model4 at 0x0000019928356550>\n",
       "\tbuild_fn=None\n",
       "\twarm_start=False\n",
       "\trandom_state=None\n",
       "\toptimizer=rmsprop\n",
       "\tloss=None\n",
       "\tmetrics=None\n",
       "\tbatch_size=None\n",
       "\tvalidation_batch_size=None\n",
       "\tverbose=1\n",
       "\tcallbacks=[<keras.callbacks.EarlyStopping object at 0x000001991CFCED60>, <keras.callbacks.ModelCheckpoint object at 0x00000199199EC700>]\n",
       "\tvalidation_split=0.0\n",
       "\tshuffle=True\n",
       "\trun_eagerly=False\n",
       "\tepochs=1\n",
       "\tclass_weight=None\n",
       ")"
      ]
     },
     "execution_count": 137,
     "metadata": {},
     "output_type": "execute_result"
    }
   ],
   "source": [
    "mc = ModelCheckpoint('best_model_DROPOUT.h1', monitor='val_loss', save_best_only=True)\n",
    "\n",
    "DROPOUT_model = KerasClassifier(build_DROPOUT_model4, callbacks=[es,mc])\n",
    "DROPOUT_model.fit(X_train, y_train, validation_split=0.2, epochs=500)"
   ]
  },
  {
   "cell_type": "code",
   "execution_count": 138,
   "metadata": {},
   "outputs": [
    {
     "data": {
      "image/png": "[encoded data removed]",
      "text/plain": [
       "<Figure size 432x288 with 1 Axes>"
      ]
     },
     "metadata": {
      "needs_background": "light"
     },
     "output_type": "display_data"
    }
   ],
   "source": [
    "history = DROPOUT_model.history_\n",
    "plt.plot(history['accuracy'], label='Train')\n",
    "plt.plot(history['val_accuracy'], label='Val')\n",
    "plt.xlabel('Epochs')\n",
    "plt.ylabel('Cross-Entropy')\n",
    "plt.legend()\n",
    "plt.show()"
   ]
  },
  {
   "cell_type": "code",
   "execution_count": 140,
   "metadata": {},
   "outputs": [
    {
     "data": {
      "image/png": "[encoded data removed]",
      "text/plain": [
       "<Figure size 432x288 with 1 Axes>"
      ]
     },
     "metadata": {
      "needs_background": "light"
     },
     "output_type": "display_data"
    }
   ],
   "source": [
    "plt.plot(history['loss'], label='Train')\n",
    "plt.plot(history['val_loss'], label='Val')\n",
    "plt.xlabel('Epochs')\n",
    "plt.ylabel('Cross-Entropy')\n",
    "plt.legend()\n",
    "plt.show()"
   ]
  },
  {
   "attachments": {},
   "cell_type": "markdown",
   "metadata": {},
   "source": [
    "Some comparison"
   ]
  },
  {
   "cell_type": "code",
   "execution_count": 141,
   "metadata": {},
   "outputs": [
    {
     "name": "stdout",
     "output_type": "stream",
     "text": [
      "20/20 [==============================] - 0s 790us/step - loss: 1.5440 - accuracy: 0.4263\n",
      "20/20 [==============================] - 0s 816us/step - loss: 1.9674 - accuracy: 0.4183\n",
      "20/20 [==============================] - 0s 764us/step - loss: 1.4879 - accuracy: 0.4519\n",
      "Loss 1.544006, Accuracy 0.426282\n",
      "Loss 1.967393, Accuracy 0.418269\n",
      "Loss 1.487939, Accuracy 0.451923\n"
     ]
    }
   ],
   "source": [
    "\n",
    "from keras.models import load_model\n",
    "\n",
    "best_NOREG_model = load_model('best_model_NOREG.h1')\n",
    "best_L2_model = load_model('best_model_L2.h1')\n",
    "best_DROPOUT_model = load_model('best_model_DROPOUT.h1')\n",
    "\n",
    "loss_NOREG, acc_NOREG = best_NOREG_model.evaluate(X_test, y_test)\n",
    "loss_L2, acc_L2 = best_L2_model.evaluate(X_test, y_test)\n",
    "loss_DROPOUT, acc_DROPOUT = best_DROPOUT_model.evaluate(X_test, y_test)\n",
    "\n",
    "print('Loss %f, Accuracy %f' % (loss_NOREG, acc_NOREG))\n",
    "print('Loss %f, Accuracy %f' % (loss_L2, acc_L2))\n",
    "print('Loss %f, Accuracy %f' % (loss_DROPOUT, acc_DROPOUT))"
   ]
  },
  {
   "cell_type": "code",
   "execution_count": null,
   "metadata": {},
   "outputs": [],
   "source": [
    "#TO ASK\n",
    "\n",
    "\"\"\"\n",
    "\n",
    "Come si evince sopra tutti i modelli sono spudoratamente in oevrfitting, ho provatoi diverse tecniche di regolarizzazione ma senza successo, come si potrebbe procedere?\n",
    "Ai fini del report potrei cancellare i record della classe 6=sad dal train e test set e fare classificazione senza queste istanze?\n",
    "Ai fini del report ha senso, oltre ai vari classification report, mostrare anche le roc curve di questi pessimi modelli?\n",
    "Quali grafici sarebbe opportuno plottare a fini di una classificazione multiclasse? (per ora abbiamo pensato a : confusion matrix , a Roc curve che plotta una macro media delle 8 classi, ha senso plottare anche il decision boundary di ciascun metodo ?  )\n",
    "Si è provato anche a fare sampling + dim red. + cancellazione outliers(21) per il train per allenare i modelli ma ho incrmentanto le performance in media dell 1% acc,f1\n",
    "\n",
    "\n",
    "\"\"\"\n",
    "\n"
   ]
  }
 ],
 "metadata": {
  "kernelspec": {
   "display_name": "base",
   "language": "python",
   "name": "python3"
  },
  "language_info": {
   "codemirror_mode": {
    "name": "ipython",
    "version": 3
   },
   "file_extension": ".py",
   "mimetype": "text/x-python",
   "name": "python",
   "nbconvert_exporter": "python",
   "pygments_lexer": "ipython3",
   "version": "3.9.12"
  },
  "orig_nbformat": 4
 },
 "nbformat": 4,
 "nbformat_minor": 2
}
