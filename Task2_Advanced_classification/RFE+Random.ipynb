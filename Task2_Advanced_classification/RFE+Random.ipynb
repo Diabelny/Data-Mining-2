{
 "cells": [
  {
   "cell_type": "code",
   "execution_count": 1,
   "metadata": {},
   "outputs": [],
   "source": [
    "import numpy as np\n",
    "import pandas as pd\n",
    "import matplotlib.pyplot as plt\n",
    "\n",
    "from collections import defaultdict\n",
    "from yellowbrick.contrib.classifier import DecisionViz\n",
    "from sklearn.decomposition import PCA\n",
    "from itertools import product\n",
    "from imblearn.datasets import make_imbalance\n",
    "from imblearn.over_sampling import RandomOverSampler\n",
    "from imblearn.under_sampling import RandomUnderSampler\n",
    "from yellowbrick.datasets import load_credit\n",
    "from yellowbrick.features import PCA as yPCA\n",
    "from sklearn.neighbors import KNeighborsClassifier\n",
    "from sklearn.model_selection import train_test_split, cross_val_score \n",
    "from scikitplot.metrics import plot_precision_recall, plot_roc, plot_cumulative_gain, plot_lift_curve , plot_confusion_matrix\n",
    "from sklearn.metrics import roc_curve, auc, roc_auc_score\n",
    "from sklearn.model_selection import KFold\n",
    "from sklearn import tree\n",
    "from sklearn.model_selection import StratifiedKFold, cross_val_score\n",
    "from sklearn.metrics import accuracy_score, precision_score, recall_score, confusion_matrix, f1_score, classification_report\n",
    "from sklearn.metrics import (\n",
    "    accuracy_score,\n",
    "    f1_score,\n",
    "    classification_report,\n",
    "    confusion_matrix,\n",
    "    roc_auc_score,\n",
    "    ConfusionMatrixDisplay\n",
    ")\n",
    "import warnings\n",
    "warnings.filterwarnings(\"ignore\")"
   ]
  },
  {
   "cell_type": "code",
   "execution_count": 2,
   "metadata": {},
   "outputs": [],
   "source": [
    "df_train=pd.read_csv(\"../Dataset_prepared/Prepared_train.csv\")\n",
    "df_test=pd.read_csv(\"../Dataset_prepared/Prepared_test.csv\")"
   ]
  },
  {
   "cell_type": "code",
   "execution_count": 3,
   "metadata": {},
   "outputs": [],
   "source": [
    "df_train.drop('actor',axis=1,inplace=True)\n",
    "df_train.drop('filename',axis=1,inplace=True)\n",
    "\n",
    "df_test.drop('actor',axis=1,inplace=True)\n",
    "df_test.drop('filename',axis=1,inplace=True)"
   ]
  },
  {
   "cell_type": "code",
   "execution_count": 4,
   "metadata": {},
   "outputs": [
    {
     "data": {
      "text/plain": [
       "['vocal_channel',\n",
       " 'emotion',\n",
       " 'emotional_intensity',\n",
       " 'statement',\n",
       " 'repetition',\n",
       " 'sex']"
      ]
     },
     "execution_count": 4,
     "metadata": {},
     "output_type": "execute_result"
    }
   ],
   "source": [
    "c = df_train.select_dtypes(include=['object']).columns.tolist()\n",
    "\n",
    "c"
   ]
  },
  {
   "cell_type": "code",
   "execution_count": 5,
   "metadata": {},
   "outputs": [
    {
     "data": {
      "text/plain": [
       "['vocal_channel', 'emotional_intensity', 'statement', 'repetition', 'sex']"
      ]
     },
     "execution_count": 5,
     "metadata": {},
     "output_type": "execute_result"
    }
   ],
   "source": [
    "a =[x for x in c if x!='emotion']\n",
    "a"
   ]
  },
  {
   "cell_type": "code",
   "execution_count": 6,
   "metadata": {},
   "outputs": [],
   "source": [
    "from sklearn import preprocessing\n",
    "le=preprocessing.LabelEncoder()\n",
    "c = df_train.select_dtypes(include=['object']).columns.tolist()\n",
    "for i in a:\n",
    "    df_train[i]=le.fit_transform(df_train[i])\n",
    "\n",
    "for i in a:\n",
    "    df_test[i]=le.fit_transform(df_test[i])\n",
    "df_train['emotion']=le.fit_transform(df_train['emotion'])\n",
    "df_test['emotion']=le.fit_transform(df_test['emotion'])    "
   ]
  },
  {
   "cell_type": "code",
   "execution_count": 7,
   "metadata": {},
   "outputs": [],
   "source": [
    "from sklearn.preprocessing import RobustScaler,MinMaxScaler,StandardScaler, OneHotEncoder\n",
    "\n",
    "scaler = StandardScaler()\n",
    "numeric_features = [n for n in df_train.columns if n!=\"emotion\" and n!= \"vocal_channel\" and n!= \"emotional_intensity\" and n!= \"statement\" and n!= \"repetition\" and n!= \"sex\" and n!=\"filename\" and n!=\"actor\"]\n",
    "scaled_features = scaler.fit_transform(df_train[numeric_features])\n",
    "df_train[numeric_features] = scaled_features\n",
    "\n",
    "\n",
    "scaled_features_test = scaler.transform(df_test[numeric_features])\n",
    "df_test[numeric_features] = scaled_features_test\n",
    "\n"
   ]
  },
  {
   "cell_type": "code",
   "execution_count": 8,
   "metadata": {},
   "outputs": [],
   "source": [
    "col=[x for x in df_train.columns if x!=\"emotion\"]\n",
    "X_train=df_train[col].values\n",
    "y_train = np.array(df_train[\"emotion\"])"
   ]
  },
  {
   "cell_type": "code",
   "execution_count": 9,
   "metadata": {},
   "outputs": [],
   "source": [
    "X_test=df_test[col].values\n",
    "y_test = np.array(df_test[\"emotion\"])"
   ]
  },
  {
   "cell_type": "code",
   "execution_count": 10,
   "metadata": {},
   "outputs": [],
   "source": [
    "def print_confMatrix(y_test,y_test_pred):\n",
    "    cm=confusion_matrix(y_test, y_test_pred)\n",
    "    disp = ConfusionMatrixDisplay(confusion_matrix=cm,display_labels =le.classes_)\n",
    "    fig, ax = plt.subplots(figsize=(10,10))\n",
    "    disp.plot(ax=ax, xticks_rotation='vertical',cmap='Greens')\n",
    "    plt.show()"
   ]
  },
  {
   "cell_type": "code",
   "execution_count": 11,
   "metadata": {},
   "outputs": [],
   "source": [
    "from sklearn.svm import SVC"
   ]
  },
  {
   "cell_type": "code",
   "execution_count": 13,
   "metadata": {},
   "outputs": [
    {
     "name": "stdout",
     "output_type": "stream",
     "text": [
      "              precision    recall  f1-score   support\n",
      "\n",
      "           0       0.49      0.75      0.60        96\n",
      "           1       0.46      0.61      0.53        96\n",
      "           2       0.45      0.56      0.50        48\n",
      "           3       0.55      0.38      0.45        96\n",
      "           4       0.41      0.38      0.39        96\n",
      "           5       0.45      0.48      0.46        48\n",
      "           6       0.41      0.19      0.26        96\n",
      "           7       0.55      0.48      0.51        48\n",
      "\n",
      "    accuracy                           0.47       624\n",
      "   macro avg       0.47      0.48      0.46       624\n",
      "weighted avg       0.47      0.47      0.45       624\n",
      "\n"
     ]
    },
    {
     "data": {
      "image/png": "[encoded data removed]",
      "text/plain": [
       "<Figure size 720x720 with 2 Axes>"
      ]
     },
     "metadata": {},
     "output_type": "display_data"
    }
   ],
   "source": [
    "clf = SVC(C = 0.1  , kernel = 'linear', tol = 1.0,decision_function_shape='ovo')\n",
    "clf.fit(X_train, y_train)\n",
    "y_pred = clf.predict(X_test)\n",
    "print(classification_report(y_test,y_pred))\n",
    "print_confMatrix(y_test,y_pred)"
   ]
  },
  {
   "cell_type": "code",
   "execution_count": 10,
   "metadata": {},
   "outputs": [],
   "source": [
    "from imblearn.under_sampling import TomekLinks\n",
    "from collections import Counter\n",
    "from sklearn.ensemble import RandomForestClassifier\n"
   ]
  },
  {
   "cell_type": "code",
   "execution_count": 11,
   "metadata": {},
   "outputs": [
    {
     "name": "stdout",
     "output_type": "stream",
     "text": [
      "Resampled dataset shape Counter({0: 261, 3: 255, 1: 251, 6: 250, 4: 249, 5: 140, 2: 128, 7: 128})\n"
     ]
    }
   ],
   "source": [
    "tl = TomekLinks()\n",
    "X_res, y_res = tl.fit_resample(X_train, y_train)\n",
    "print('Resampled dataset shape %s' % Counter(y_res))"
   ]
  },
  {
   "cell_type": "code",
   "execution_count": 33,
   "metadata": {},
   "outputs": [],
   "source": [
    "df = pd.DataFrame(X_res,columns=col)"
   ]
  },
  {
   "cell_type": "code",
   "execution_count": 34,
   "metadata": {},
   "outputs": [],
   "source": [
    "df['emotion'] = y_res"
   ]
  },
  {
   "cell_type": "code",
   "execution_count": 17,
   "metadata": {},
   "outputs": [
    {
     "data": {
      "text/plain": [
       "array(['angry', 'calm', 'disgust', 'fearful', 'happy', 'neutral', 'sad',\n",
       "       'surprised'], dtype=object)"
      ]
     },
     "execution_count": 17,
     "metadata": {},
     "output_type": "execute_result"
    }
   ],
   "source": [
    "le.classes_"
   ]
  },
  {
   "cell_type": "code",
   "execution_count": 35,
   "metadata": {},
   "outputs": [],
   "source": [
    "df['emotion'] = df['emotion'].map({0:'angry',1:'calm',2:'disgust',3:'fearful',4:'happy',5:'neutral',6:'sad',7:'surprised'})"
   ]
  },
  {
   "cell_type": "code",
   "execution_count": 36,
   "metadata": {},
   "outputs": [
    {
     "data": {
      "text/html": [
       "<div>\n",
       "<style scoped>\n",
       "    .dataframe tbody tr th:only-of-type {\n",
       "        vertical-align: middle;\n",
       "    }\n",
       "\n",
       "    .dataframe tbody tr th {\n",
       "        vertical-align: top;\n",
       "    }\n",
       "\n",
       "    .dataframe thead th {\n",
       "        text-align: right;\n",
       "    }\n",
       "</style>\n",
       "<table border=\"1\" class=\"dataframe\">\n",
       "  <thead>\n",
       "    <tr style=\"text-align: right;\">\n",
       "      <th></th>\n",
       "      <th>vocal_channel</th>\n",
       "      <th>emotional_intensity</th>\n",
       "      <th>statement</th>\n",
       "      <th>repetition</th>\n",
       "      <th>sex</th>\n",
       "      <th>mean</th>\n",
       "      <th>q25</th>\n",
       "      <th>q50</th>\n",
       "      <th>q75</th>\n",
       "      <th>kur</th>\n",
       "      <th>...</th>\n",
       "      <th>stft_sum_w4</th>\n",
       "      <th>stft_q01_w4</th>\n",
       "      <th>stft_q05_w4</th>\n",
       "      <th>stft_q25_w4</th>\n",
       "      <th>stft_q50_w4</th>\n",
       "      <th>stft_q75_w4</th>\n",
       "      <th>stft_q95_w4</th>\n",
       "      <th>stft_kur_w4</th>\n",
       "      <th>stft_skew_w4</th>\n",
       "      <th>emotion</th>\n",
       "    </tr>\n",
       "  </thead>\n",
       "  <tbody>\n",
       "    <tr>\n",
       "      <th>0</th>\n",
       "      <td>1.0</td>\n",
       "      <td>0.0</td>\n",
       "      <td>1.0</td>\n",
       "      <td>0.0</td>\n",
       "      <td>1.0</td>\n",
       "      <td>0.018034</td>\n",
       "      <td>0.603864</td>\n",
       "      <td>-0.063106</td>\n",
       "      <td>-0.7693</td>\n",
       "      <td>0.553248</td>\n",
       "      <td>...</td>\n",
       "      <td>0.161158</td>\n",
       "      <td>-0.925138</td>\n",
       "      <td>2.167997</td>\n",
       "      <td>1.515260</td>\n",
       "      <td>1.079945</td>\n",
       "      <td>0.690192</td>\n",
       "      <td>0.036057</td>\n",
       "      <td>9.400360</td>\n",
       "      <td>-3.035005</td>\n",
       "      <td>neutral</td>\n",
       "    </tr>\n",
       "    <tr>\n",
       "      <th>1</th>\n",
       "      <td>1.0</td>\n",
       "      <td>0.0</td>\n",
       "      <td>1.0</td>\n",
       "      <td>1.0</td>\n",
       "      <td>1.0</td>\n",
       "      <td>0.013950</td>\n",
       "      <td>0.603864</td>\n",
       "      <td>-0.063106</td>\n",
       "      <td>-0.7693</td>\n",
       "      <td>0.770118</td>\n",
       "      <td>...</td>\n",
       "      <td>-0.173413</td>\n",
       "      <td>1.908839</td>\n",
       "      <td>1.610931</td>\n",
       "      <td>0.996435</td>\n",
       "      <td>0.639413</td>\n",
       "      <td>0.409754</td>\n",
       "      <td>0.036057</td>\n",
       "      <td>-0.186504</td>\n",
       "      <td>0.434538</td>\n",
       "      <td>neutral</td>\n",
       "    </tr>\n",
       "    <tr>\n",
       "      <th>2</th>\n",
       "      <td>1.0</td>\n",
       "      <td>0.0</td>\n",
       "      <td>0.0</td>\n",
       "      <td>0.0</td>\n",
       "      <td>1.0</td>\n",
       "      <td>0.018855</td>\n",
       "      <td>0.622665</td>\n",
       "      <td>-0.063106</td>\n",
       "      <td>-0.7693</td>\n",
       "      <td>0.851346</td>\n",
       "      <td>...</td>\n",
       "      <td>-0.286208</td>\n",
       "      <td>-0.925138</td>\n",
       "      <td>1.285119</td>\n",
       "      <td>1.118715</td>\n",
       "      <td>0.877776</td>\n",
       "      <td>0.722854</td>\n",
       "      <td>0.036057</td>\n",
       "      <td>2.891302</td>\n",
       "      <td>-1.463754</td>\n",
       "      <td>neutral</td>\n",
       "    </tr>\n",
       "    <tr>\n",
       "      <th>3</th>\n",
       "      <td>1.0</td>\n",
       "      <td>0.0</td>\n",
       "      <td>0.0</td>\n",
       "      <td>1.0</td>\n",
       "      <td>1.0</td>\n",
       "      <td>0.018087</td>\n",
       "      <td>0.603864</td>\n",
       "      <td>-0.063106</td>\n",
       "      <td>-0.7693</td>\n",
       "      <td>1.562804</td>\n",
       "      <td>...</td>\n",
       "      <td>-0.588962</td>\n",
       "      <td>1.429546</td>\n",
       "      <td>1.176485</td>\n",
       "      <td>0.899140</td>\n",
       "      <td>0.723117</td>\n",
       "      <td>0.560400</td>\n",
       "      <td>0.036057</td>\n",
       "      <td>-0.049566</td>\n",
       "      <td>-0.052845</td>\n",
       "      <td>neutral</td>\n",
       "    </tr>\n",
       "    <tr>\n",
       "      <th>4</th>\n",
       "      <td>1.0</td>\n",
       "      <td>0.0</td>\n",
       "      <td>1.0</td>\n",
       "      <td>0.0</td>\n",
       "      <td>1.0</td>\n",
       "      <td>0.015921</td>\n",
       "      <td>0.603864</td>\n",
       "      <td>-0.063106</td>\n",
       "      <td>-0.7693</td>\n",
       "      <td>0.286970</td>\n",
       "      <td>...</td>\n",
       "      <td>0.170902</td>\n",
       "      <td>0.987370</td>\n",
       "      <td>1.346235</td>\n",
       "      <td>1.065980</td>\n",
       "      <td>0.761301</td>\n",
       "      <td>0.452031</td>\n",
       "      <td>0.036057</td>\n",
       "      <td>0.878701</td>\n",
       "      <td>-0.532241</td>\n",
       "      <td>calm</td>\n",
       "    </tr>\n",
       "  </tbody>\n",
       "</table>\n",
       "<p>5 rows × 259 columns</p>\n",
       "</div>"
      ],
      "text/plain": [
       "   vocal_channel  emotional_intensity  statement  repetition  sex      mean  \\\n",
       "0            1.0                  0.0        1.0         0.0  1.0  0.018034   \n",
       "1            1.0                  0.0        1.0         1.0  1.0  0.013950   \n",
       "2            1.0                  0.0        0.0         0.0  1.0  0.018855   \n",
       "3            1.0                  0.0        0.0         1.0  1.0  0.018087   \n",
       "4            1.0                  0.0        1.0         0.0  1.0  0.015921   \n",
       "\n",
       "        q25       q50     q75       kur  ...  stft_sum_w4  stft_q01_w4  \\\n",
       "0  0.603864 -0.063106 -0.7693  0.553248  ...     0.161158    -0.925138   \n",
       "1  0.603864 -0.063106 -0.7693  0.770118  ...    -0.173413     1.908839   \n",
       "2  0.622665 -0.063106 -0.7693  0.851346  ...    -0.286208    -0.925138   \n",
       "3  0.603864 -0.063106 -0.7693  1.562804  ...    -0.588962     1.429546   \n",
       "4  0.603864 -0.063106 -0.7693  0.286970  ...     0.170902     0.987370   \n",
       "\n",
       "   stft_q05_w4  stft_q25_w4  stft_q50_w4  stft_q75_w4  stft_q95_w4  \\\n",
       "0     2.167997     1.515260     1.079945     0.690192     0.036057   \n",
       "1     1.610931     0.996435     0.639413     0.409754     0.036057   \n",
       "2     1.285119     1.118715     0.877776     0.722854     0.036057   \n",
       "3     1.176485     0.899140     0.723117     0.560400     0.036057   \n",
       "4     1.346235     1.065980     0.761301     0.452031     0.036057   \n",
       "\n",
       "   stft_kur_w4  stft_skew_w4  emotion  \n",
       "0     9.400360     -3.035005  neutral  \n",
       "1    -0.186504      0.434538  neutral  \n",
       "2     2.891302     -1.463754  neutral  \n",
       "3    -0.049566     -0.052845  neutral  \n",
       "4     0.878701     -0.532241     calm  \n",
       "\n",
       "[5 rows x 259 columns]"
      ]
     },
     "execution_count": 36,
     "metadata": {},
     "output_type": "execute_result"
    }
   ],
   "source": [
    "df.head()"
   ]
  },
  {
   "cell_type": "code",
   "execution_count": 37,
   "metadata": {},
   "outputs": [
    {
     "data": {
      "text/plain": [
       "<AxesSubplot:title={'center':'zc_sum'}, xlabel='emotion'>"
      ]
     },
     "execution_count": 37,
     "metadata": {},
     "output_type": "execute_result"
    },
    {
     "data": {
      "image/png": "[encoded data removed]",
      "text/plain": [
       "<Figure size 576x396 with 1 Axes>"
      ]
     },
     "metadata": {},
     "output_type": "display_data"
    }
   ],
   "source": [
    "df.boxplot(column=['zc_sum'], by='emotion')"
   ]
  },
  {
   "cell_type": "code",
   "execution_count": 38,
   "metadata": {},
   "outputs": [
    {
     "data": {
      "text/plain": [
       "<AxesSubplot:title={'center':'lag1_skew'}, xlabel='emotion'>"
      ]
     },
     "execution_count": 38,
     "metadata": {},
     "output_type": "execute_result"
    },
    {
     "data": {
      "image/png": "[encoded data removed]",
      "text/plain": [
       "<Figure size 576x396 with 1 Axes>"
      ]
     },
     "metadata": {},
     "output_type": "display_data"
    }
   ],
   "source": [
    "df.boxplot(column=['lag1_skew'], by='emotion')"
   ]
  },
  {
   "cell_type": "code",
   "execution_count": 44,
   "metadata": {},
   "outputs": [
    {
     "data": {
      "text/html": [
       "<div>\n",
       "<style scoped>\n",
       "    .dataframe tbody tr th:only-of-type {\n",
       "        vertical-align: middle;\n",
       "    }\n",
       "\n",
       "    .dataframe tbody tr th {\n",
       "        vertical-align: top;\n",
       "    }\n",
       "\n",
       "    .dataframe thead th {\n",
       "        text-align: right;\n",
       "    }\n",
       "</style>\n",
       "<table border=\"1\" class=\"dataframe\">\n",
       "  <thead>\n",
       "    <tr style=\"text-align: right;\">\n",
       "      <th>sex</th>\n",
       "      <th>0.0</th>\n",
       "      <th>1.0</th>\n",
       "    </tr>\n",
       "    <tr>\n",
       "      <th>emotion</th>\n",
       "      <th></th>\n",
       "      <th></th>\n",
       "    </tr>\n",
       "  </thead>\n",
       "  <tbody>\n",
       "    <tr>\n",
       "      <th>angry</th>\n",
       "      <td>127</td>\n",
       "      <td>134</td>\n",
       "    </tr>\n",
       "    <tr>\n",
       "      <th>calm</th>\n",
       "      <td>125</td>\n",
       "      <td>126</td>\n",
       "    </tr>\n",
       "    <tr>\n",
       "      <th>disgust</th>\n",
       "      <td>67</td>\n",
       "      <td>61</td>\n",
       "    </tr>\n",
       "    <tr>\n",
       "      <th>fearful</th>\n",
       "      <td>127</td>\n",
       "      <td>128</td>\n",
       "    </tr>\n",
       "    <tr>\n",
       "      <th>happy</th>\n",
       "      <td>127</td>\n",
       "      <td>122</td>\n",
       "    </tr>\n",
       "    <tr>\n",
       "      <th>neutral</th>\n",
       "      <td>68</td>\n",
       "      <td>72</td>\n",
       "    </tr>\n",
       "    <tr>\n",
       "      <th>sad</th>\n",
       "      <td>123</td>\n",
       "      <td>127</td>\n",
       "    </tr>\n",
       "    <tr>\n",
       "      <th>surprised</th>\n",
       "      <td>68</td>\n",
       "      <td>60</td>\n",
       "    </tr>\n",
       "  </tbody>\n",
       "</table>\n",
       "</div>"
      ],
      "text/plain": [
       "sex        0.0  1.0\n",
       "emotion            \n",
       "angry      127  134\n",
       "calm       125  126\n",
       "disgust     67   61\n",
       "fearful    127  128\n",
       "happy      127  122\n",
       "neutral     68   72\n",
       "sad        123  127\n",
       "surprised   68   60"
      ]
     },
     "execution_count": 44,
     "metadata": {},
     "output_type": "execute_result"
    }
   ],
   "source": [
    "pd.crosstab(df['emotion'],df['sex'])"
   ]
  },
  {
   "cell_type": "code",
   "execution_count": 46,
   "metadata": {},
   "outputs": [
    {
     "data": {
      "text/html": [
       "<div>\n",
       "<style scoped>\n",
       "    .dataframe tbody tr th:only-of-type {\n",
       "        vertical-align: middle;\n",
       "    }\n",
       "\n",
       "    .dataframe tbody tr th {\n",
       "        vertical-align: top;\n",
       "    }\n",
       "\n",
       "    .dataframe thead th {\n",
       "        text-align: right;\n",
       "    }\n",
       "</style>\n",
       "<table border=\"1\" class=\"dataframe\">\n",
       "  <thead>\n",
       "    <tr style=\"text-align: right;\">\n",
       "      <th>emotional_intensity</th>\n",
       "      <th>0.0</th>\n",
       "      <th>1.0</th>\n",
       "    </tr>\n",
       "    <tr>\n",
       "      <th>emotion</th>\n",
       "      <th></th>\n",
       "      <th></th>\n",
       "    </tr>\n",
       "  </thead>\n",
       "  <tbody>\n",
       "    <tr>\n",
       "      <th>angry</th>\n",
       "      <td>123</td>\n",
       "      <td>138</td>\n",
       "    </tr>\n",
       "    <tr>\n",
       "      <th>calm</th>\n",
       "      <td>124</td>\n",
       "      <td>127</td>\n",
       "    </tr>\n",
       "    <tr>\n",
       "      <th>disgust</th>\n",
       "      <td>61</td>\n",
       "      <td>67</td>\n",
       "    </tr>\n",
       "    <tr>\n",
       "      <th>fearful</th>\n",
       "      <td>125</td>\n",
       "      <td>130</td>\n",
       "    </tr>\n",
       "    <tr>\n",
       "      <th>happy</th>\n",
       "      <td>124</td>\n",
       "      <td>125</td>\n",
       "    </tr>\n",
       "    <tr>\n",
       "      <th>neutral</th>\n",
       "      <td>140</td>\n",
       "      <td>0</td>\n",
       "    </tr>\n",
       "    <tr>\n",
       "      <th>sad</th>\n",
       "      <td>117</td>\n",
       "      <td>133</td>\n",
       "    </tr>\n",
       "    <tr>\n",
       "      <th>surprised</th>\n",
       "      <td>61</td>\n",
       "      <td>67</td>\n",
       "    </tr>\n",
       "  </tbody>\n",
       "</table>\n",
       "</div>"
      ],
      "text/plain": [
       "emotional_intensity  0.0  1.0\n",
       "emotion                      \n",
       "angry                123  138\n",
       "calm                 124  127\n",
       "disgust               61   67\n",
       "fearful              125  130\n",
       "happy                124  125\n",
       "neutral              140    0\n",
       "sad                  117  133\n",
       "surprised             61   67"
      ]
     },
     "execution_count": 46,
     "metadata": {},
     "output_type": "execute_result"
    }
   ],
   "source": [
    "pd.crosstab(df['emotion'],df['emotional_intensity'])"
   ]
  },
  {
   "cell_type": "code",
   "execution_count": 47,
   "metadata": {},
   "outputs": [
    {
     "data": {
      "text/html": [
       "<div>\n",
       "<style scoped>\n",
       "    .dataframe tbody tr th:only-of-type {\n",
       "        vertical-align: middle;\n",
       "    }\n",
       "\n",
       "    .dataframe tbody tr th {\n",
       "        vertical-align: top;\n",
       "    }\n",
       "\n",
       "    .dataframe thead th {\n",
       "        text-align: right;\n",
       "    }\n",
       "</style>\n",
       "<table border=\"1\" class=\"dataframe\">\n",
       "  <thead>\n",
       "    <tr style=\"text-align: right;\">\n",
       "      <th>repetition</th>\n",
       "      <th>0.0</th>\n",
       "      <th>1.0</th>\n",
       "    </tr>\n",
       "    <tr>\n",
       "      <th>emotion</th>\n",
       "      <th></th>\n",
       "      <th></th>\n",
       "    </tr>\n",
       "  </thead>\n",
       "  <tbody>\n",
       "    <tr>\n",
       "      <th>angry</th>\n",
       "      <td>128</td>\n",
       "      <td>133</td>\n",
       "    </tr>\n",
       "    <tr>\n",
       "      <th>calm</th>\n",
       "      <td>126</td>\n",
       "      <td>125</td>\n",
       "    </tr>\n",
       "    <tr>\n",
       "      <th>disgust</th>\n",
       "      <td>65</td>\n",
       "      <td>63</td>\n",
       "    </tr>\n",
       "    <tr>\n",
       "      <th>fearful</th>\n",
       "      <td>129</td>\n",
       "      <td>126</td>\n",
       "    </tr>\n",
       "    <tr>\n",
       "      <th>happy</th>\n",
       "      <td>122</td>\n",
       "      <td>127</td>\n",
       "    </tr>\n",
       "    <tr>\n",
       "      <th>neutral</th>\n",
       "      <td>70</td>\n",
       "      <td>70</td>\n",
       "    </tr>\n",
       "    <tr>\n",
       "      <th>sad</th>\n",
       "      <td>125</td>\n",
       "      <td>125</td>\n",
       "    </tr>\n",
       "    <tr>\n",
       "      <th>surprised</th>\n",
       "      <td>66</td>\n",
       "      <td>62</td>\n",
       "    </tr>\n",
       "  </tbody>\n",
       "</table>\n",
       "</div>"
      ],
      "text/plain": [
       "repetition  0.0  1.0\n",
       "emotion             \n",
       "angry       128  133\n",
       "calm        126  125\n",
       "disgust      65   63\n",
       "fearful     129  126\n",
       "happy       122  127\n",
       "neutral      70   70\n",
       "sad         125  125\n",
       "surprised    66   62"
      ]
     },
     "execution_count": 47,
     "metadata": {},
     "output_type": "execute_result"
    }
   ],
   "source": [
    "pd.crosstab(df['emotion'],df['repetition'])"
   ]
  },
  {
   "cell_type": "code",
   "execution_count": 48,
   "metadata": {},
   "outputs": [
    {
     "data": {
      "text/html": [
       "<div>\n",
       "<style scoped>\n",
       "    .dataframe tbody tr th:only-of-type {\n",
       "        vertical-align: middle;\n",
       "    }\n",
       "\n",
       "    .dataframe tbody tr th {\n",
       "        vertical-align: top;\n",
       "    }\n",
       "\n",
       "    .dataframe thead th {\n",
       "        text-align: right;\n",
       "    }\n",
       "</style>\n",
       "<table border=\"1\" class=\"dataframe\">\n",
       "  <thead>\n",
       "    <tr style=\"text-align: right;\">\n",
       "      <th>statement</th>\n",
       "      <th>0.0</th>\n",
       "      <th>1.0</th>\n",
       "    </tr>\n",
       "    <tr>\n",
       "      <th>emotion</th>\n",
       "      <th></th>\n",
       "      <th></th>\n",
       "    </tr>\n",
       "  </thead>\n",
       "  <tbody>\n",
       "    <tr>\n",
       "      <th>angry</th>\n",
       "      <td>132</td>\n",
       "      <td>129</td>\n",
       "    </tr>\n",
       "    <tr>\n",
       "      <th>calm</th>\n",
       "      <td>127</td>\n",
       "      <td>124</td>\n",
       "    </tr>\n",
       "    <tr>\n",
       "      <th>disgust</th>\n",
       "      <td>64</td>\n",
       "      <td>64</td>\n",
       "    </tr>\n",
       "    <tr>\n",
       "      <th>fearful</th>\n",
       "      <td>125</td>\n",
       "      <td>130</td>\n",
       "    </tr>\n",
       "    <tr>\n",
       "      <th>happy</th>\n",
       "      <td>123</td>\n",
       "      <td>126</td>\n",
       "    </tr>\n",
       "    <tr>\n",
       "      <th>neutral</th>\n",
       "      <td>70</td>\n",
       "      <td>70</td>\n",
       "    </tr>\n",
       "    <tr>\n",
       "      <th>sad</th>\n",
       "      <td>121</td>\n",
       "      <td>129</td>\n",
       "    </tr>\n",
       "    <tr>\n",
       "      <th>surprised</th>\n",
       "      <td>63</td>\n",
       "      <td>65</td>\n",
       "    </tr>\n",
       "  </tbody>\n",
       "</table>\n",
       "</div>"
      ],
      "text/plain": [
       "statement  0.0  1.0\n",
       "emotion            \n",
       "angry      132  129\n",
       "calm       127  124\n",
       "disgust     64   64\n",
       "fearful    125  130\n",
       "happy      123  126\n",
       "neutral     70   70\n",
       "sad        121  129\n",
       "surprised   63   65"
      ]
     },
     "execution_count": 48,
     "metadata": {},
     "output_type": "execute_result"
    }
   ],
   "source": [
    "pd.crosstab(df['emotion'],df['statement'])"
   ]
  },
  {
   "cell_type": "code",
   "execution_count": 49,
   "metadata": {},
   "outputs": [
    {
     "data": {
      "text/html": [
       "<div>\n",
       "<style scoped>\n",
       "    .dataframe tbody tr th:only-of-type {\n",
       "        vertical-align: middle;\n",
       "    }\n",
       "\n",
       "    .dataframe tbody tr th {\n",
       "        vertical-align: top;\n",
       "    }\n",
       "\n",
       "    .dataframe thead th {\n",
       "        text-align: right;\n",
       "    }\n",
       "</style>\n",
       "<table border=\"1\" class=\"dataframe\">\n",
       "  <thead>\n",
       "    <tr style=\"text-align: right;\">\n",
       "      <th>vocal_channel</th>\n",
       "      <th>0.0</th>\n",
       "      <th>1.0</th>\n",
       "    </tr>\n",
       "    <tr>\n",
       "      <th>emotion</th>\n",
       "      <th></th>\n",
       "      <th></th>\n",
       "    </tr>\n",
       "  </thead>\n",
       "  <tbody>\n",
       "    <tr>\n",
       "      <th>angry</th>\n",
       "      <td>126</td>\n",
       "      <td>135</td>\n",
       "    </tr>\n",
       "    <tr>\n",
       "      <th>calm</th>\n",
       "      <td>123</td>\n",
       "      <td>128</td>\n",
       "    </tr>\n",
       "    <tr>\n",
       "      <th>disgust</th>\n",
       "      <td>0</td>\n",
       "      <td>128</td>\n",
       "    </tr>\n",
       "    <tr>\n",
       "      <th>fearful</th>\n",
       "      <td>121</td>\n",
       "      <td>134</td>\n",
       "    </tr>\n",
       "    <tr>\n",
       "      <th>happy</th>\n",
       "      <td>122</td>\n",
       "      <td>127</td>\n",
       "    </tr>\n",
       "    <tr>\n",
       "      <th>neutral</th>\n",
       "      <td>68</td>\n",
       "      <td>72</td>\n",
       "    </tr>\n",
       "    <tr>\n",
       "      <th>sad</th>\n",
       "      <td>123</td>\n",
       "      <td>127</td>\n",
       "    </tr>\n",
       "    <tr>\n",
       "      <th>surprised</th>\n",
       "      <td>0</td>\n",
       "      <td>128</td>\n",
       "    </tr>\n",
       "  </tbody>\n",
       "</table>\n",
       "</div>"
      ],
      "text/plain": [
       "vocal_channel  0.0  1.0\n",
       "emotion                \n",
       "angry          126  135\n",
       "calm           123  128\n",
       "disgust          0  128\n",
       "fearful        121  134\n",
       "happy          122  127\n",
       "neutral         68   72\n",
       "sad            123  127\n",
       "surprised        0  128"
      ]
     },
     "execution_count": 49,
     "metadata": {},
     "output_type": "execute_result"
    }
   ],
   "source": [
    "pd.crosstab(df['emotion'],df['vocal_channel'])"
   ]
  },
  {
   "cell_type": "code",
   "execution_count": 23,
   "metadata": {},
   "outputs": [
    {
     "name": "stdout",
     "output_type": "stream",
     "text": [
      " DT New dimension: (1662, 22)\n"
     ]
    }
   ],
   "source": [
    "from sklearn.feature_selection import RFE\n",
    "sel = RFE(RandomForestClassifier(max_depth=10, min_samples_split=2, min_samples_leaf=20,n_estimators=1000), n_features_to_select=22)\n",
    "X_train_sel = sel.fit_transform(X_res, y_res)\n",
    "print(f\" DT New dimension: {X_train_sel.shape}\")\n",
    "X_test_sel = sel.transform(X_test)"
   ]
  },
  {
   "cell_type": "code",
   "execution_count": 24,
   "metadata": {},
   "outputs": [
    {
     "name": "stdout",
     "output_type": "stream",
     "text": [
      "              precision    recall  f1-score   support\n",
      "\n",
      "           0       0.59      0.78      0.67        96\n",
      "           1       0.52      0.56      0.54        96\n",
      "           2       0.48      0.62      0.55        48\n",
      "           3       0.40      0.32      0.36        96\n",
      "           4       0.46      0.40      0.43        96\n",
      "           5       0.39      0.67      0.49        48\n",
      "           6       0.42      0.23      0.30        96\n",
      "           7       0.66      0.48      0.55        48\n",
      "\n",
      "    accuracy                           0.49       624\n",
      "   macro avg       0.49      0.51      0.48       624\n",
      "weighted avg       0.48      0.49      0.47       624\n",
      "\n"
     ]
    },
    {
     "data": {
      "image/png": "[encoded data removed]",
      "text/plain": [
       "<Figure size 720x720 with 2 Axes>"
      ]
     },
     "metadata": {},
     "output_type": "display_data"
    }
   ],
   "source": [
    "clf.fit(X_train_sel, y_res)\n",
    "y_pred = clf.predict(X_test_sel)\n",
    "print(classification_report(y_test,y_pred))\n",
    "print_confMatrix(y_test,y_pred)"
   ]
  },
  {
   "cell_type": "code",
   "execution_count": 25,
   "metadata": {},
   "outputs": [
    {
     "name": "stdout",
     "output_type": "stream",
     "text": [
      "Accuracy 0.48878205128205127\n",
      "F1-score [0.6893617  0.57723577 0.5060241  0.31205674 0.44230769 0.36363636\n",
      " 0.29139073 0.52336449]\n",
      "              precision    recall  f1-score   support\n",
      "\n",
      "           0       0.58      0.84      0.69        96\n",
      "           1       0.47      0.74      0.58        96\n",
      "           2       0.60      0.44      0.51        48\n",
      "           3       0.49      0.23      0.31        96\n",
      "           4       0.41      0.48      0.44        96\n",
      "           5       0.48      0.29      0.36        48\n",
      "           6       0.40      0.23      0.29        96\n",
      "           7       0.47      0.58      0.52        48\n",
      "\n",
      "    accuracy                           0.49       624\n",
      "   macro avg       0.49      0.48      0.46       624\n",
      "weighted avg       0.48      0.49      0.46       624\n",
      "\n"
     ]
    }
   ],
   "source": [
    "clf_random = RandomForestClassifier(max_depth=10, min_samples_split=2, min_samples_leaf=20,n_estimators=1000)\n",
    "                             \n",
    "clf_random.fit(X_train_sel, y_res)\n",
    "\n",
    "y_pred = clf_random.predict(X_test_sel)\n",
    "\n",
    "print('Accuracy %s' % accuracy_score(y_test, y_pred))\n",
    "print('F1-score %s' % f1_score(y_test, y_pred, average=None))\n",
    "print(classification_report(y_test, y_pred))"
   ]
  },
  {
   "cell_type": "code",
   "execution_count": 26,
   "metadata": {},
   "outputs": [
    {
     "data": {
      "image/png": "[encoded data removed]",
      "text/plain": [
       "<Figure size 576x396 with 1 Axes>"
      ]
     },
     "metadata": {},
     "output_type": "display_data"
    }
   ],
   "source": [
    "nbr_features = 15\n",
    "\n",
    "tree_feature_importances = clf_random.feature_importances_\n",
    "sorted_idx = tree_feature_importances.argsort()[-nbr_features:]\n",
    "\n",
    "y_ticks = np.arange(0, len(sorted_idx))\n",
    "fig, ax = plt.subplots()\n",
    "plt.barh(y_ticks, tree_feature_importances[sorted_idx])\n",
    "plt.yticks(y_ticks, np.array(col)[sorted_idx])\n",
    "plt.title(\"Random Forest Feature Importances (MDI)\")\n",
    "plt.show()"
   ]
  },
  {
   "cell_type": "code",
   "execution_count": 27,
   "metadata": {},
   "outputs": [
    {
     "data": {
      "image/png": "[encoded data removed]",
      "text/plain": [
       "<Figure size 720x720 with 2 Axes>"
      ]
     },
     "metadata": {},
     "output_type": "display_data"
    }
   ],
   "source": [
    "print_confMatrix(y_test,y_pred)"
   ]
  },
  {
   "cell_type": "code",
   "execution_count": 28,
   "metadata": {},
   "outputs": [],
   "source": [
    "from sklearn.linear_model import LogisticRegression\n"
   ]
  },
  {
   "cell_type": "code",
   "execution_count": 31,
   "metadata": {},
   "outputs": [
    {
     "data": {
      "text/html": [
       "<style>#sk-container-id-3 {color: black;background-color: white;}#sk-container-id-3 pre{padding: 0;}#sk-container-id-3 div.sk-toggleable {background-color: white;}#sk-container-id-3 label.sk-toggleable__label {cursor: pointer;display: block;width: 100%;margin-bottom: 0;padding: 0.3em;box-sizing: border-box;text-align: center;}#sk-container-id-3 label.sk-toggleable__label-arrow:before {content: \"▸\";float: left;margin-right: 0.25em;color: #696969;}#sk-container-id-3 label.sk-toggleable__label-arrow:hover:before {color: black;}#sk-container-id-3 div.sk-estimator:hover label.sk-toggleable__label-arrow:before {color: black;}#sk-container-id-3 div.sk-toggleable__content {max-height: 0;max-width: 0;overflow: hidden;text-align: left;background-color: #f0f8ff;}#sk-container-id-3 div.sk-toggleable__content pre {margin: 0.2em;color: black;border-radius: 0.25em;background-color: #f0f8ff;}#sk-container-id-3 input.sk-toggleable__control:checked~div.sk-toggleable__content {max-height: 200px;max-width: 100%;overflow: auto;}#sk-container-id-3 input.sk-toggleable__control:checked~label.sk-toggleable__label-arrow:before {content: \"▾\";}#sk-container-id-3 div.sk-estimator input.sk-toggleable__control:checked~label.sk-toggleable__label {background-color: #d4ebff;}#sk-container-id-3 div.sk-label input.sk-toggleable__control:checked~label.sk-toggleable__label {background-color: #d4ebff;}#sk-container-id-3 input.sk-hidden--visually {border: 0;clip: rect(1px 1px 1px 1px);clip: rect(1px, 1px, 1px, 1px);height: 1px;margin: -1px;overflow: hidden;padding: 0;position: absolute;width: 1px;}#sk-container-id-3 div.sk-estimator {font-family: monospace;background-color: #f0f8ff;border: 1px dotted black;border-radius: 0.25em;box-sizing: border-box;margin-bottom: 0.5em;}#sk-container-id-3 div.sk-estimator:hover {background-color: #d4ebff;}#sk-container-id-3 div.sk-parallel-item::after {content: \"\";width: 100%;border-bottom: 1px solid gray;flex-grow: 1;}#sk-container-id-3 div.sk-label:hover label.sk-toggleable__label {background-color: #d4ebff;}#sk-container-id-3 div.sk-serial::before {content: \"\";position: absolute;border-left: 1px solid gray;box-sizing: border-box;top: 0;bottom: 0;left: 50%;z-index: 0;}#sk-container-id-3 div.sk-serial {display: flex;flex-direction: column;align-items: center;background-color: white;padding-right: 0.2em;padding-left: 0.2em;position: relative;}#sk-container-id-3 div.sk-item {position: relative;z-index: 1;}#sk-container-id-3 div.sk-parallel {display: flex;align-items: stretch;justify-content: center;background-color: white;position: relative;}#sk-container-id-3 div.sk-item::before, #sk-container-id-3 div.sk-parallel-item::before {content: \"\";position: absolute;border-left: 1px solid gray;box-sizing: border-box;top: 0;bottom: 0;left: 50%;z-index: -1;}#sk-container-id-3 div.sk-parallel-item {display: flex;flex-direction: column;z-index: 1;position: relative;background-color: white;}#sk-container-id-3 div.sk-parallel-item:first-child::after {align-self: flex-end;width: 50%;}#sk-container-id-3 div.sk-parallel-item:last-child::after {align-self: flex-start;width: 50%;}#sk-container-id-3 div.sk-parallel-item:only-child::after {width: 0;}#sk-container-id-3 div.sk-dashed-wrapped {border: 1px dashed gray;margin: 0 0.4em 0.5em 0.4em;box-sizing: border-box;padding-bottom: 0.4em;background-color: white;}#sk-container-id-3 div.sk-label label {font-family: monospace;font-weight: bold;display: inline-block;line-height: 1.2em;}#sk-container-id-3 div.sk-label-container {text-align: center;}#sk-container-id-3 div.sk-container {/* jupyter's `normalize.less` sets `[hidden] { display: none; }` but bootstrap.min.css set `[hidden] { display: none !important; }` so we also need the `!important` here to be able to override the default hidden behavior on the sphinx rendered scikit-learn.org. See: https://github.com/scikit-learn/scikit-learn/issues/21755 */display: inline-block !important;position: relative;}#sk-container-id-3 div.sk-text-repr-fallback {display: none;}</style><div id=\"sk-container-id-3\" class=\"sk-top-container\"><div class=\"sk-text-repr-fallback\"><pre>LogisticRegression(C=0.1, max_iter=600, multi_class=&#x27;ovr&#x27;, random_state=42,\n",
       "                   solver=&#x27;newton-cg&#x27;, tol=1.0)</pre><b>In a Jupyter environment, please rerun this cell to show the HTML representation or trust the notebook. <br />On GitHub, the HTML representation is unable to render, please try loading this page with nbviewer.org.</b></div><div class=\"sk-container\" hidden><div class=\"sk-item\"><div class=\"sk-estimator sk-toggleable\"><input class=\"sk-toggleable__control sk-hidden--visually\" id=\"sk-estimator-id-3\" type=\"checkbox\" checked><label for=\"sk-estimator-id-3\" class=\"sk-toggleable__label sk-toggleable__label-arrow\">LogisticRegression</label><div class=\"sk-toggleable__content\"><pre>LogisticRegression(C=0.1, max_iter=600, multi_class=&#x27;ovr&#x27;, random_state=42,\n",
       "                   solver=&#x27;newton-cg&#x27;, tol=1.0)</pre></div></div></div></div></div>"
      ],
      "text/plain": [
       "LogisticRegression(C=0.1, max_iter=600, multi_class='ovr', random_state=42,\n",
       "                   solver='newton-cg', tol=1.0)"
      ]
     },
     "execution_count": 31,
     "metadata": {},
     "output_type": "execute_result"
    }
   ],
   "source": [
    "clf_log = LogisticRegression(random_state=42,C=0.1,max_iter =600,solver=\"newton-cg\",multi_class=\"ovr\",tol=1.0)\n",
    "clf_log.fit(X_train_sel, y_res)"
   ]
  },
  {
   "cell_type": "code",
   "execution_count": 32,
   "metadata": {},
   "outputs": [
    {
     "name": "stdout",
     "output_type": "stream",
     "text": [
      "Accuracy 0.483974358974359\n",
      "F1-score [0.6893617  0.5412844  0.55445545 0.35365854 0.42268041 0.35789474\n",
      " 0.32051282 0.51764706]\n",
      "              precision    recall  f1-score   support\n",
      "\n",
      "           0       0.58      0.84      0.69        96\n",
      "           1       0.48      0.61      0.54        96\n",
      "           2       0.53      0.58      0.55        48\n",
      "           3       0.43      0.30      0.35        96\n",
      "           4       0.42      0.43      0.42        96\n",
      "           5       0.36      0.35      0.36        48\n",
      "           6       0.42      0.26      0.32        96\n",
      "           7       0.59      0.46      0.52        48\n",
      "\n",
      "    accuracy                           0.48       624\n",
      "   macro avg       0.48      0.48      0.47       624\n",
      "weighted avg       0.47      0.48      0.47       624\n",
      "\n"
     ]
    }
   ],
   "source": [
    "y_pred = clf_log.predict(X_test_sel)\n",
    "\n",
    "print('Accuracy %s' % accuracy_score(y_test, y_pred))\n",
    "print('F1-score %s' % f1_score(y_test, y_pred, average=None))\n",
    "print(classification_report(y_test, y_pred))"
   ]
  },
  {
   "cell_type": "code",
   "execution_count": 33,
   "metadata": {},
   "outputs": [
    {
     "name": "stdout",
     "output_type": "stream",
     "text": [
      "Accuracy 0.5128205128205128\n",
      "F1-score [0.71604938 0.57276995 0.52427184 0.34355828 0.46783626 0.48739496\n",
      " 0.30344828 0.57142857]\n",
      "              precision    recall  f1-score   support\n",
      "\n",
      "           0       0.59      0.91      0.72        96\n",
      "           1       0.52      0.64      0.57        96\n",
      "           2       0.49      0.56      0.52        48\n",
      "           3       0.42      0.29      0.34        96\n",
      "           4       0.53      0.42      0.47        96\n",
      "           5       0.41      0.60      0.49        48\n",
      "           6       0.45      0.23      0.30        96\n",
      "           7       0.60      0.54      0.57        48\n",
      "\n",
      "    accuracy                           0.51       624\n",
      "   macro avg       0.50      0.52      0.50       624\n",
      "weighted avg       0.50      0.51      0.49       624\n",
      "\n"
     ]
    }
   ],
   "source": [
    "from sklearn.ensemble import BaggingClassifier\n",
    "from sklearn.neural_network import MLPClassifier\n",
    "\n",
    "\n",
    "clf_2 = BaggingClassifier(base_estimator= MLPClassifier(solver = 'adam', momentum = 0.1, learning_rate = 'adaptive' , hidden_layer_sizes=[32,64],activation='tanh',alpha=1.0,tol=0.0001))\n",
    "\n",
    "clf_2.fit(X_train_sel, y_res)\n",
    "\n",
    "y_pred = clf_2.predict(X_test_sel)\n",
    "\n",
    "print('Accuracy %s' % accuracy_score(y_test, y_pred))\n",
    "print('F1-score %s' % f1_score(y_test, y_pred, average=None))\n",
    "print(classification_report(y_test, y_pred))"
   ]
  },
  {
   "cell_type": "code",
   "execution_count": 34,
   "metadata": {},
   "outputs": [
    {
     "name": "stdout",
     "output_type": "stream",
     "text": [
      "Accuracy 0.5096153846153846\n",
      "F1-score [0.71497585 0.54444444 0.50943396 0.38709677 0.46153846 0.51376147\n",
      " 0.4021164  0.5106383 ]\n",
      "              precision    recall  f1-score   support\n",
      "\n",
      "           0       0.67      0.77      0.71        96\n",
      "           1       0.58      0.51      0.54        96\n",
      "           2       0.47      0.56      0.51        48\n",
      "           3       0.51      0.31      0.39        96\n",
      "           4       0.43      0.50      0.46        96\n",
      "           5       0.46      0.58      0.51        48\n",
      "           6       0.41      0.40      0.40        96\n",
      "           7       0.52      0.50      0.51        48\n",
      "\n",
      "    accuracy                           0.51       624\n",
      "   macro avg       0.51      0.52      0.51       624\n",
      "weighted avg       0.51      0.51      0.50       624\n",
      "\n"
     ]
    }
   ],
   "source": [
    "from sklearn.ensemble import AdaBoostClassifier\n",
    "\n",
    "clf_random_a = AdaBoostClassifier(base_estimator= RandomForestClassifier(max_depth=10, min_samples_split=2, min_samples_leaf=20,n_estimators=1000),random_state=0) \n",
    "#50\n",
    "clf_random_a.fit(X_train_sel, y_res)\n",
    "\n",
    "y_pred = clf_random_a.predict(X_test_sel)\n",
    "\n",
    "print('Accuracy %s' % accuracy_score(y_test, y_pred))\n",
    "print('F1-score %s' % f1_score(y_test, y_pred, average=None))\n",
    "print(classification_report(y_test, y_pred))"
   ]
  }
 ],
 "metadata": {
  "kernelspec": {
   "display_name": "base",
   "language": "python",
   "name": "python3"
  },
  "language_info": {
   "codemirror_mode": {
    "name": "ipython",
    "version": 3
   },
   "file_extension": ".py",
   "mimetype": "text/x-python",
   "name": "python",
   "nbconvert_exporter": "python",
   "pygments_lexer": "ipython3",
   "version": "3.8.8"
  },
  "orig_nbformat": 4
 },
 "nbformat": 4,
 "nbformat_minor": 2
}
